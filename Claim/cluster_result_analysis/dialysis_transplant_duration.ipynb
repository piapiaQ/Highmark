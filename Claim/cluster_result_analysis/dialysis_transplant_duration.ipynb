{
 "cells": [
  {
   "cell_type": "code",
   "execution_count": 41,
   "metadata": {},
   "outputs": [],
   "source": [
    "import pandas as pd\n",
    "import datetime\n",
    "import plotly.express as px\n"
   ]
  },
  {
   "cell_type": "code",
   "execution_count": 42,
   "metadata": {},
   "outputs": [],
   "source": [
    "basepath = r'C:\\Users\\Joyqiao\\Documents\\CMU\\RA\\HIGHMARK Trajectory claim\\HIghmark Project'\n",
    "\n",
    "earlist = pd.read_csv(basepath+'\\\\Clinical Data\\\\Clinical Data\\\\egfr_earliest.csv',index_col = 0)"
   ]
  },
  {
   "cell_type": "code",
   "execution_count": 43,
   "metadata": {},
   "outputs": [],
   "source": [
    "earlist = earlist.sort_values(by = ['TMA_Acct','min']).drop_duplicates(subset = ['TMA_Acct','egfr','stage'],keep = 'first')\n",
    "\n",
    "earlist.to_csv(basepath+'\\\\Clinical Data\\\\Clinical Data\\\\egfr_earliest.csv')"
   ]
  },
  {
   "cell_type": "code",
   "execution_count": 44,
   "metadata": {},
   "outputs": [],
   "source": [
    "transplant = pd.read_csv(basepath+'\\\\data\\\\sorted_data\\\\transplant_patient_clean.csv',index_col = 0)"
   ]
  },
  {
   "cell_type": "code",
   "execution_count": 45,
   "metadata": {},
   "outputs": [],
   "source": [
    "dialysis = pd.read_csv(basepath+'\\\\data\\\\sorted_data\\\\dialysis_patient_clean.csv',index_col = 0)"
   ]
  },
  {
   "cell_type": "code",
   "execution_count": 46,
   "metadata": {},
   "outputs": [
    {
     "data": {
      "text/html": [
       "<div>\n",
       "<style scoped>\n",
       "    .dataframe tbody tr th:only-of-type {\n",
       "        vertical-align: middle;\n",
       "    }\n",
       "\n",
       "    .dataframe tbody tr th {\n",
       "        vertical-align: top;\n",
       "    }\n",
       "\n",
       "    .dataframe thead th {\n",
       "        text-align: right;\n",
       "    }\n",
       "</style>\n",
       "<table border=\"1\" class=\"dataframe\">\n",
       "  <thead>\n",
       "    <tr style=\"text-align: right;\">\n",
       "      <th></th>\n",
       "      <th>0</th>\n",
       "      <th>1</th>\n",
       "      <th>2</th>\n",
       "    </tr>\n",
       "  </thead>\n",
       "  <tbody>\n",
       "    <tr>\n",
       "      <th>29447</th>\n",
       "      <td>503</td>\n",
       "      <td>1756</td>\n",
       "      <td>V4511</td>\n",
       "    </tr>\n",
       "    <tr>\n",
       "      <th>32911</th>\n",
       "      <td>506</td>\n",
       "      <td>1020</td>\n",
       "      <td>V4511</td>\n",
       "    </tr>\n",
       "    <tr>\n",
       "      <th>34977</th>\n",
       "      <td>552</td>\n",
       "      <td>14</td>\n",
       "      <td>V4511</td>\n",
       "    </tr>\n",
       "    <tr>\n",
       "      <th>39898</th>\n",
       "      <td>586</td>\n",
       "      <td>1029</td>\n",
       "      <td>V4511</td>\n",
       "    </tr>\n",
       "    <tr>\n",
       "      <th>42158</th>\n",
       "      <td>601</td>\n",
       "      <td>1377</td>\n",
       "      <td>V4511</td>\n",
       "    </tr>\n",
       "    <tr>\n",
       "      <th>...</th>\n",
       "      <td>...</td>\n",
       "      <td>...</td>\n",
       "      <td>...</td>\n",
       "    </tr>\n",
       "    <tr>\n",
       "      <th>558462</th>\n",
       "      <td>50621</td>\n",
       "      <td>2584</td>\n",
       "      <td>Z992</td>\n",
       "    </tr>\n",
       "    <tr>\n",
       "      <th>614413</th>\n",
       "      <td>50838</td>\n",
       "      <td>3377</td>\n",
       "      <td>Z992</td>\n",
       "    </tr>\n",
       "    <tr>\n",
       "      <th>645764</th>\n",
       "      <td>50449</td>\n",
       "      <td>2903</td>\n",
       "      <td>Z992</td>\n",
       "    </tr>\n",
       "    <tr>\n",
       "      <th>646848</th>\n",
       "      <td>50534</td>\n",
       "      <td>2179</td>\n",
       "      <td>Z992</td>\n",
       "    </tr>\n",
       "    <tr>\n",
       "      <th>648828</th>\n",
       "      <td>50763</td>\n",
       "      <td>2648</td>\n",
       "      <td>Z992</td>\n",
       "    </tr>\n",
       "  </tbody>\n",
       "</table>\n",
       "<p>938 rows × 3 columns</p>\n",
       "</div>"
      ],
      "text/plain": [
       "            0     1      2\n",
       "29447     503  1756  V4511\n",
       "32911     506  1020  V4511\n",
       "34977     552    14  V4511\n",
       "39898     586  1029  V4511\n",
       "42158     601  1377  V4511\n",
       "...       ...   ...    ...\n",
       "558462  50621  2584   Z992\n",
       "614413  50838  3377   Z992\n",
       "645764  50449  2903   Z992\n",
       "646848  50534  2179   Z992\n",
       "648828  50763  2648   Z992\n",
       "\n",
       "[938 rows x 3 columns]"
      ]
     },
     "execution_count": 46,
     "metadata": {},
     "output_type": "execute_result"
    }
   ],
   "source": [
    "dialysis"
   ]
  },
  {
   "cell_type": "code",
   "execution_count": 47,
   "metadata": {},
   "outputs": [
    {
     "data": {
      "text/html": [
       "<div>\n",
       "<style scoped>\n",
       "    .dataframe tbody tr th:only-of-type {\n",
       "        vertical-align: middle;\n",
       "    }\n",
       "\n",
       "    .dataframe tbody tr th {\n",
       "        vertical-align: top;\n",
       "    }\n",
       "\n",
       "    .dataframe thead th {\n",
       "        text-align: right;\n",
       "    }\n",
       "</style>\n",
       "<table border=\"1\" class=\"dataframe\">\n",
       "  <thead>\n",
       "    <tr style=\"text-align: right;\">\n",
       "      <th></th>\n",
       "      <th>0</th>\n",
       "      <th>1</th>\n",
       "      <th>2</th>\n",
       "    </tr>\n",
       "  </thead>\n",
       "  <tbody>\n",
       "    <tr>\n",
       "      <th>67933</th>\n",
       "      <td>601</td>\n",
       "      <td>2277</td>\n",
       "      <td>652</td>\n",
       "    </tr>\n",
       "    <tr>\n",
       "      <th>727779</th>\n",
       "      <td>4167</td>\n",
       "      <td>2115</td>\n",
       "      <td>652</td>\n",
       "    </tr>\n",
       "    <tr>\n",
       "      <th>805141</th>\n",
       "      <td>4429</td>\n",
       "      <td>1207</td>\n",
       "      <td>652</td>\n",
       "    </tr>\n",
       "    <tr>\n",
       "      <th>1543</th>\n",
       "      <td>4916</td>\n",
       "      <td>3333</td>\n",
       "      <td>652</td>\n",
       "    </tr>\n",
       "    <tr>\n",
       "      <th>101687</th>\n",
       "      <td>5570</td>\n",
       "      <td>610</td>\n",
       "      <td>652</td>\n",
       "    </tr>\n",
       "    <tr>\n",
       "      <th>...</th>\n",
       "      <td>...</td>\n",
       "      <td>...</td>\n",
       "      <td>...</td>\n",
       "    </tr>\n",
       "    <tr>\n",
       "      <th>373921</th>\n",
       "      <td>47207</td>\n",
       "      <td>938</td>\n",
       "      <td>652</td>\n",
       "    </tr>\n",
       "    <tr>\n",
       "      <th>192185</th>\n",
       "      <td>49073</td>\n",
       "      <td>3269</td>\n",
       "      <td>652</td>\n",
       "    </tr>\n",
       "    <tr>\n",
       "      <th>206016</th>\n",
       "      <td>49116</td>\n",
       "      <td>2976</td>\n",
       "      <td>652</td>\n",
       "    </tr>\n",
       "    <tr>\n",
       "      <th>258031</th>\n",
       "      <td>49249</td>\n",
       "      <td>3403</td>\n",
       "      <td>652</td>\n",
       "    </tr>\n",
       "    <tr>\n",
       "      <th>486039</th>\n",
       "      <td>50352</td>\n",
       "      <td>3494</td>\n",
       "      <td>50360</td>\n",
       "    </tr>\n",
       "  </tbody>\n",
       "</table>\n",
       "<p>70 rows × 3 columns</p>\n",
       "</div>"
      ],
      "text/plain": [
       "            0     1      2\n",
       "67933     601  2277    652\n",
       "727779   4167  2115    652\n",
       "805141   4429  1207    652\n",
       "1543     4916  3333    652\n",
       "101687   5570   610    652\n",
       "...       ...   ...    ...\n",
       "373921  47207   938    652\n",
       "192185  49073  3269    652\n",
       "206016  49116  2976    652\n",
       "258031  49249  3403    652\n",
       "486039  50352  3494  50360\n",
       "\n",
       "[70 rows x 3 columns]"
      ]
     },
     "execution_count": 47,
     "metadata": {},
     "output_type": "execute_result"
    }
   ],
   "source": [
    "transplant"
   ]
  },
  {
   "cell_type": "code",
   "execution_count": 48,
   "metadata": {},
   "outputs": [],
   "source": [
    "def see_duration(data):\n",
    "    '''find how long it takes for transplant/dialysis patient to progress from their initial stage to dialysis/transplant\n",
    "    input:dialysis/transplant patient\n",
    "    output list of progression time by initial stage'''\n",
    "    data.rename({'0':'TMA_Acct','1':'Days','2':'Code'},axis =1 ,inplace = True)\n",
    "    data ['identified_date'] = pd.to_datetime('2010-01-01') + data['Days'].apply(lambda i:pd.Timedelta(days = i))   \n",
    "    merged_data = data.merge(earlist,on = 'TMA_Acct',how = 'left')\n",
    "\n",
    "    merged_data['min'] = pd.to_datetime(merged_data['min'])\n",
    "    merged_data['duration'] =( merged_data['identified_date'] - merged_data['min']).dt.components['days']\n",
    "    merged_data['stage'] = merged_data['stage'].fillna('Unknown')\n",
    "    \n",
    "    fig4 = px.histogram(data_frame=merged_data,x='duration',facet_col= 'stage',color = 'stage',category_orders={\"stage\": ['Unknown','1','2','3a','3b','4','5']})\n",
    "    fig4.show()\n",
    "    fig5 = px.box(data_frame=merged_data,y='duration',x= 'stage',color = 'stage',category_orders={\"stage\": ['Unknown','1','2','3a','3b','4','5']})\n",
    "    fig5.show()\n",
    "    \n",
    "    \n",
    "    return merged_data\n",
    "    \n",
    "    \n",
    "    \n",
    "    "
   ]
  },
  {
   "cell_type": "code",
   "execution_count": 49,
   "metadata": {},
   "outputs": [
    {
     "data": {
      "application/vnd.plotly.v1+json": {
       "config": {
        "plotlyServerURL": "https://plot.ly"
       },
       "data": [
        {
         "alignmentgroup": "True",
         "bingroup": "x",
         "hovertemplate": "stage=Unknown<br>duration=%{x}<br>count=%{y}<extra></extra>",
         "legendgroup": "Unknown",
         "marker": {
          "color": "#636efa"
         },
         "name": "Unknown",
         "offsetgroup": "Unknown",
         "orientation": "v",
         "showlegend": true,
         "type": "histogram",
         "x": [
          null,
          null,
          null,
          null,
          null,
          null,
          null,
          null,
          null,
          null,
          null,
          null,
          null,
          null,
          null,
          null,
          null
         ],
         "xaxis": "x",
         "yaxis": "y"
        },
        {
         "alignmentgroup": "True",
         "bingroup": "x",
         "hovertemplate": "stage=1<br>duration=%{x}<br>count=%{y}<extra></extra>",
         "legendgroup": "1",
         "marker": {
          "color": "#EF553B"
         },
         "name": "1",
         "offsetgroup": "1",
         "orientation": "v",
         "showlegend": true,
         "type": "histogram",
         "x": [
          1948,
          1764
         ],
         "xaxis": "x2",
         "yaxis": "y2"
        },
        {
         "alignmentgroup": "True",
         "bingroup": "x",
         "hovertemplate": "stage=2<br>duration=%{x}<br>count=%{y}<extra></extra>",
         "legendgroup": "2",
         "marker": {
          "color": "#00cc96"
         },
         "name": "2",
         "offsetgroup": "2",
         "orientation": "v",
         "showlegend": true,
         "type": "histogram",
         "x": [
          -5,
          2056,
          442,
          1190,
          2944
         ],
         "xaxis": "x3",
         "yaxis": "y3"
        },
        {
         "alignmentgroup": "True",
         "bingroup": "x",
         "hovertemplate": "stage=3a<br>duration=%{x}<br>count=%{y}<extra></extra>",
         "legendgroup": "3a",
         "marker": {
          "color": "#ab63fa"
         },
         "name": "3a",
         "offsetgroup": "3a",
         "orientation": "v",
         "showlegend": true,
         "type": "histogram",
         "x": [
          3278,
          2246,
          -21,
          2013,
          932
         ],
         "xaxis": "x4",
         "yaxis": "y4"
        },
        {
         "alignmentgroup": "True",
         "bingroup": "x",
         "hovertemplate": "stage=3b<br>duration=%{x}<br>count=%{y}<extra></extra>",
         "legendgroup": "3b",
         "marker": {
          "color": "#FFA15A"
         },
         "name": "3b",
         "offsetgroup": "3b",
         "orientation": "v",
         "showlegend": true,
         "type": "histogram",
         "x": [
          -1976,
          3191,
          -658,
          3072,
          2146,
          1637,
          -10
         ],
         "xaxis": "x5",
         "yaxis": "y5"
        },
        {
         "alignmentgroup": "True",
         "bingroup": "x",
         "hovertemplate": "stage=4<br>duration=%{x}<br>count=%{y}<extra></extra>",
         "legendgroup": "4",
         "marker": {
          "color": "#19d3f3"
         },
         "name": "4",
         "offsetgroup": "4",
         "orientation": "v",
         "showlegend": true,
         "type": "histogram",
         "x": [
          2224,
          1841,
          381,
          -14,
          2337,
          1078,
          786,
          1183,
          1755,
          305,
          653,
          1556,
          787,
          1942,
          639,
          490
         ],
         "xaxis": "x6",
         "yaxis": "y6"
        },
        {
         "alignmentgroup": "True",
         "bingroup": "x",
         "hovertemplate": "stage=5<br>duration=%{x}<br>count=%{y}<extra></extra>",
         "legendgroup": "5",
         "marker": {
          "color": "#FF6692"
         },
         "name": "5",
         "offsetgroup": "5",
         "orientation": "v",
         "showlegend": true,
         "type": "histogram",
         "x": [
          1908,
          599,
          1040,
          923,
          2200,
          1543,
          387,
          415,
          1397,
          56,
          1362,
          -23,
          1731,
          1792,
          271,
          -101,
          1513,
          1809
         ],
         "xaxis": "x7",
         "yaxis": "y7"
        }
       ],
       "layout": {
        "annotations": [
         {
          "font": {},
          "showarrow": false,
          "text": "stage=Unknown",
          "x": 0.06285714285714285,
          "xanchor": "center",
          "xref": "paper",
          "y": 1,
          "yanchor": "bottom",
          "yref": "paper"
         },
         {
          "font": {},
          "showarrow": false,
          "text": "stage=1",
          "x": 0.20857142857142852,
          "xanchor": "center",
          "xref": "paper",
          "y": 1,
          "yanchor": "bottom",
          "yref": "paper"
         },
         {
          "font": {},
          "showarrow": false,
          "text": "stage=2",
          "x": 0.3542857142857142,
          "xanchor": "center",
          "xref": "paper",
          "y": 1,
          "yanchor": "bottom",
          "yref": "paper"
         },
         {
          "font": {},
          "showarrow": false,
          "text": "stage=3a",
          "x": 0.5,
          "xanchor": "center",
          "xref": "paper",
          "y": 1,
          "yanchor": "bottom",
          "yref": "paper"
         },
         {
          "font": {},
          "showarrow": false,
          "text": "stage=3b",
          "x": 0.6457142857142856,
          "xanchor": "center",
          "xref": "paper",
          "y": 1,
          "yanchor": "bottom",
          "yref": "paper"
         },
         {
          "font": {},
          "showarrow": false,
          "text": "stage=4",
          "x": 0.7914285714285713,
          "xanchor": "center",
          "xref": "paper",
          "y": 1,
          "yanchor": "bottom",
          "yref": "paper"
         },
         {
          "font": {},
          "showarrow": false,
          "text": "stage=5",
          "x": 0.9371428571428569,
          "xanchor": "center",
          "xref": "paper",
          "y": 1,
          "yanchor": "bottom",
          "yref": "paper"
         }
        ],
        "barmode": "relative",
        "legend": {
         "title": {
          "text": "stage"
         },
         "tracegroupgap": 0
        },
        "margin": {
         "t": 60
        },
        "template": {
         "data": {
          "bar": [
           {
            "error_x": {
             "color": "#2a3f5f"
            },
            "error_y": {
             "color": "#2a3f5f"
            },
            "marker": {
             "line": {
              "color": "#E5ECF6",
              "width": 0.5
             }
            },
            "type": "bar"
           }
          ],
          "barpolar": [
           {
            "marker": {
             "line": {
              "color": "#E5ECF6",
              "width": 0.5
             }
            },
            "type": "barpolar"
           }
          ],
          "carpet": [
           {
            "aaxis": {
             "endlinecolor": "#2a3f5f",
             "gridcolor": "white",
             "linecolor": "white",
             "minorgridcolor": "white",
             "startlinecolor": "#2a3f5f"
            },
            "baxis": {
             "endlinecolor": "#2a3f5f",
             "gridcolor": "white",
             "linecolor": "white",
             "minorgridcolor": "white",
             "startlinecolor": "#2a3f5f"
            },
            "type": "carpet"
           }
          ],
          "choropleth": [
           {
            "colorbar": {
             "outlinewidth": 0,
             "ticks": ""
            },
            "type": "choropleth"
           }
          ],
          "contour": [
           {
            "colorbar": {
             "outlinewidth": 0,
             "ticks": ""
            },
            "colorscale": [
             [
              0,
              "#0d0887"
             ],
             [
              0.1111111111111111,
              "#46039f"
             ],
             [
              0.2222222222222222,
              "#7201a8"
             ],
             [
              0.3333333333333333,
              "#9c179e"
             ],
             [
              0.4444444444444444,
              "#bd3786"
             ],
             [
              0.5555555555555556,
              "#d8576b"
             ],
             [
              0.6666666666666666,
              "#ed7953"
             ],
             [
              0.7777777777777778,
              "#fb9f3a"
             ],
             [
              0.8888888888888888,
              "#fdca26"
             ],
             [
              1,
              "#f0f921"
             ]
            ],
            "type": "contour"
           }
          ],
          "contourcarpet": [
           {
            "colorbar": {
             "outlinewidth": 0,
             "ticks": ""
            },
            "type": "contourcarpet"
           }
          ],
          "heatmap": [
           {
            "colorbar": {
             "outlinewidth": 0,
             "ticks": ""
            },
            "colorscale": [
             [
              0,
              "#0d0887"
             ],
             [
              0.1111111111111111,
              "#46039f"
             ],
             [
              0.2222222222222222,
              "#7201a8"
             ],
             [
              0.3333333333333333,
              "#9c179e"
             ],
             [
              0.4444444444444444,
              "#bd3786"
             ],
             [
              0.5555555555555556,
              "#d8576b"
             ],
             [
              0.6666666666666666,
              "#ed7953"
             ],
             [
              0.7777777777777778,
              "#fb9f3a"
             ],
             [
              0.8888888888888888,
              "#fdca26"
             ],
             [
              1,
              "#f0f921"
             ]
            ],
            "type": "heatmap"
           }
          ],
          "heatmapgl": [
           {
            "colorbar": {
             "outlinewidth": 0,
             "ticks": ""
            },
            "colorscale": [
             [
              0,
              "#0d0887"
             ],
             [
              0.1111111111111111,
              "#46039f"
             ],
             [
              0.2222222222222222,
              "#7201a8"
             ],
             [
              0.3333333333333333,
              "#9c179e"
             ],
             [
              0.4444444444444444,
              "#bd3786"
             ],
             [
              0.5555555555555556,
              "#d8576b"
             ],
             [
              0.6666666666666666,
              "#ed7953"
             ],
             [
              0.7777777777777778,
              "#fb9f3a"
             ],
             [
              0.8888888888888888,
              "#fdca26"
             ],
             [
              1,
              "#f0f921"
             ]
            ],
            "type": "heatmapgl"
           }
          ],
          "histogram": [
           {
            "marker": {
             "colorbar": {
              "outlinewidth": 0,
              "ticks": ""
             }
            },
            "type": "histogram"
           }
          ],
          "histogram2d": [
           {
            "colorbar": {
             "outlinewidth": 0,
             "ticks": ""
            },
            "colorscale": [
             [
              0,
              "#0d0887"
             ],
             [
              0.1111111111111111,
              "#46039f"
             ],
             [
              0.2222222222222222,
              "#7201a8"
             ],
             [
              0.3333333333333333,
              "#9c179e"
             ],
             [
              0.4444444444444444,
              "#bd3786"
             ],
             [
              0.5555555555555556,
              "#d8576b"
             ],
             [
              0.6666666666666666,
              "#ed7953"
             ],
             [
              0.7777777777777778,
              "#fb9f3a"
             ],
             [
              0.8888888888888888,
              "#fdca26"
             ],
             [
              1,
              "#f0f921"
             ]
            ],
            "type": "histogram2d"
           }
          ],
          "histogram2dcontour": [
           {
            "colorbar": {
             "outlinewidth": 0,
             "ticks": ""
            },
            "colorscale": [
             [
              0,
              "#0d0887"
             ],
             [
              0.1111111111111111,
              "#46039f"
             ],
             [
              0.2222222222222222,
              "#7201a8"
             ],
             [
              0.3333333333333333,
              "#9c179e"
             ],
             [
              0.4444444444444444,
              "#bd3786"
             ],
             [
              0.5555555555555556,
              "#d8576b"
             ],
             [
              0.6666666666666666,
              "#ed7953"
             ],
             [
              0.7777777777777778,
              "#fb9f3a"
             ],
             [
              0.8888888888888888,
              "#fdca26"
             ],
             [
              1,
              "#f0f921"
             ]
            ],
            "type": "histogram2dcontour"
           }
          ],
          "mesh3d": [
           {
            "colorbar": {
             "outlinewidth": 0,
             "ticks": ""
            },
            "type": "mesh3d"
           }
          ],
          "parcoords": [
           {
            "line": {
             "colorbar": {
              "outlinewidth": 0,
              "ticks": ""
             }
            },
            "type": "parcoords"
           }
          ],
          "pie": [
           {
            "automargin": true,
            "type": "pie"
           }
          ],
          "scatter": [
           {
            "marker": {
             "colorbar": {
              "outlinewidth": 0,
              "ticks": ""
             }
            },
            "type": "scatter"
           }
          ],
          "scatter3d": [
           {
            "line": {
             "colorbar": {
              "outlinewidth": 0,
              "ticks": ""
             }
            },
            "marker": {
             "colorbar": {
              "outlinewidth": 0,
              "ticks": ""
             }
            },
            "type": "scatter3d"
           }
          ],
          "scattercarpet": [
           {
            "marker": {
             "colorbar": {
              "outlinewidth": 0,
              "ticks": ""
             }
            },
            "type": "scattercarpet"
           }
          ],
          "scattergeo": [
           {
            "marker": {
             "colorbar": {
              "outlinewidth": 0,
              "ticks": ""
             }
            },
            "type": "scattergeo"
           }
          ],
          "scattergl": [
           {
            "marker": {
             "colorbar": {
              "outlinewidth": 0,
              "ticks": ""
             }
            },
            "type": "scattergl"
           }
          ],
          "scattermapbox": [
           {
            "marker": {
             "colorbar": {
              "outlinewidth": 0,
              "ticks": ""
             }
            },
            "type": "scattermapbox"
           }
          ],
          "scatterpolar": [
           {
            "marker": {
             "colorbar": {
              "outlinewidth": 0,
              "ticks": ""
             }
            },
            "type": "scatterpolar"
           }
          ],
          "scatterpolargl": [
           {
            "marker": {
             "colorbar": {
              "outlinewidth": 0,
              "ticks": ""
             }
            },
            "type": "scatterpolargl"
           }
          ],
          "scatterternary": [
           {
            "marker": {
             "colorbar": {
              "outlinewidth": 0,
              "ticks": ""
             }
            },
            "type": "scatterternary"
           }
          ],
          "surface": [
           {
            "colorbar": {
             "outlinewidth": 0,
             "ticks": ""
            },
            "colorscale": [
             [
              0,
              "#0d0887"
             ],
             [
              0.1111111111111111,
              "#46039f"
             ],
             [
              0.2222222222222222,
              "#7201a8"
             ],
             [
              0.3333333333333333,
              "#9c179e"
             ],
             [
              0.4444444444444444,
              "#bd3786"
             ],
             [
              0.5555555555555556,
              "#d8576b"
             ],
             [
              0.6666666666666666,
              "#ed7953"
             ],
             [
              0.7777777777777778,
              "#fb9f3a"
             ],
             [
              0.8888888888888888,
              "#fdca26"
             ],
             [
              1,
              "#f0f921"
             ]
            ],
            "type": "surface"
           }
          ],
          "table": [
           {
            "cells": {
             "fill": {
              "color": "#EBF0F8"
             },
             "line": {
              "color": "white"
             }
            },
            "header": {
             "fill": {
              "color": "#C8D4E3"
             },
             "line": {
              "color": "white"
             }
            },
            "type": "table"
           }
          ]
         },
         "layout": {
          "annotationdefaults": {
           "arrowcolor": "#2a3f5f",
           "arrowhead": 0,
           "arrowwidth": 1
          },
          "coloraxis": {
           "colorbar": {
            "outlinewidth": 0,
            "ticks": ""
           }
          },
          "colorscale": {
           "diverging": [
            [
             0,
             "#8e0152"
            ],
            [
             0.1,
             "#c51b7d"
            ],
            [
             0.2,
             "#de77ae"
            ],
            [
             0.3,
             "#f1b6da"
            ],
            [
             0.4,
             "#fde0ef"
            ],
            [
             0.5,
             "#f7f7f7"
            ],
            [
             0.6,
             "#e6f5d0"
            ],
            [
             0.7,
             "#b8e186"
            ],
            [
             0.8,
             "#7fbc41"
            ],
            [
             0.9,
             "#4d9221"
            ],
            [
             1,
             "#276419"
            ]
           ],
           "sequential": [
            [
             0,
             "#0d0887"
            ],
            [
             0.1111111111111111,
             "#46039f"
            ],
            [
             0.2222222222222222,
             "#7201a8"
            ],
            [
             0.3333333333333333,
             "#9c179e"
            ],
            [
             0.4444444444444444,
             "#bd3786"
            ],
            [
             0.5555555555555556,
             "#d8576b"
            ],
            [
             0.6666666666666666,
             "#ed7953"
            ],
            [
             0.7777777777777778,
             "#fb9f3a"
            ],
            [
             0.8888888888888888,
             "#fdca26"
            ],
            [
             1,
             "#f0f921"
            ]
           ],
           "sequentialminus": [
            [
             0,
             "#0d0887"
            ],
            [
             0.1111111111111111,
             "#46039f"
            ],
            [
             0.2222222222222222,
             "#7201a8"
            ],
            [
             0.3333333333333333,
             "#9c179e"
            ],
            [
             0.4444444444444444,
             "#bd3786"
            ],
            [
             0.5555555555555556,
             "#d8576b"
            ],
            [
             0.6666666666666666,
             "#ed7953"
            ],
            [
             0.7777777777777778,
             "#fb9f3a"
            ],
            [
             0.8888888888888888,
             "#fdca26"
            ],
            [
             1,
             "#f0f921"
            ]
           ]
          },
          "colorway": [
           "#636efa",
           "#EF553B",
           "#00cc96",
           "#ab63fa",
           "#FFA15A",
           "#19d3f3",
           "#FF6692",
           "#B6E880",
           "#FF97FF",
           "#FECB52"
          ],
          "font": {
           "color": "#2a3f5f"
          },
          "geo": {
           "bgcolor": "white",
           "lakecolor": "white",
           "landcolor": "#E5ECF6",
           "showlakes": true,
           "showland": true,
           "subunitcolor": "white"
          },
          "hoverlabel": {
           "align": "left"
          },
          "hovermode": "closest",
          "mapbox": {
           "style": "light"
          },
          "paper_bgcolor": "white",
          "plot_bgcolor": "#E5ECF6",
          "polar": {
           "angularaxis": {
            "gridcolor": "white",
            "linecolor": "white",
            "ticks": ""
           },
           "bgcolor": "#E5ECF6",
           "radialaxis": {
            "gridcolor": "white",
            "linecolor": "white",
            "ticks": ""
           }
          },
          "scene": {
           "xaxis": {
            "backgroundcolor": "#E5ECF6",
            "gridcolor": "white",
            "gridwidth": 2,
            "linecolor": "white",
            "showbackground": true,
            "ticks": "",
            "zerolinecolor": "white"
           },
           "yaxis": {
            "backgroundcolor": "#E5ECF6",
            "gridcolor": "white",
            "gridwidth": 2,
            "linecolor": "white",
            "showbackground": true,
            "ticks": "",
            "zerolinecolor": "white"
           },
           "zaxis": {
            "backgroundcolor": "#E5ECF6",
            "gridcolor": "white",
            "gridwidth": 2,
            "linecolor": "white",
            "showbackground": true,
            "ticks": "",
            "zerolinecolor": "white"
           }
          },
          "shapedefaults": {
           "line": {
            "color": "#2a3f5f"
           }
          },
          "ternary": {
           "aaxis": {
            "gridcolor": "white",
            "linecolor": "white",
            "ticks": ""
           },
           "baxis": {
            "gridcolor": "white",
            "linecolor": "white",
            "ticks": ""
           },
           "bgcolor": "#E5ECF6",
           "caxis": {
            "gridcolor": "white",
            "linecolor": "white",
            "ticks": ""
           }
          },
          "title": {
           "x": 0.05
          },
          "xaxis": {
           "automargin": true,
           "gridcolor": "white",
           "linecolor": "white",
           "ticks": "",
           "title": {
            "standoff": 15
           },
           "zerolinecolor": "white",
           "zerolinewidth": 2
          },
          "yaxis": {
           "automargin": true,
           "gridcolor": "white",
           "linecolor": "white",
           "ticks": "",
           "title": {
            "standoff": 15
           },
           "zerolinecolor": "white",
           "zerolinewidth": 2
          }
         }
        },
        "xaxis": {
         "anchor": "y",
         "domain": [
          0,
          0.1257142857142857
         ],
         "title": {
          "text": "duration"
         }
        },
        "xaxis2": {
         "anchor": "y2",
         "domain": [
          0.14571428571428569,
          0.27142857142857135
         ],
         "matches": "x",
         "title": {
          "text": "duration"
         }
        },
        "xaxis3": {
         "anchor": "y3",
         "domain": [
          0.29142857142857137,
          0.41714285714285704
         ],
         "matches": "x",
         "title": {
          "text": "duration"
         }
        },
        "xaxis4": {
         "anchor": "y4",
         "domain": [
          0.4371428571428571,
          0.5628571428571428
         ],
         "matches": "x",
         "title": {
          "text": "duration"
         }
        },
        "xaxis5": {
         "anchor": "y5",
         "domain": [
          0.5828571428571427,
          0.7085714285714284
         ],
         "matches": "x",
         "title": {
          "text": "duration"
         }
        },
        "xaxis6": {
         "anchor": "y6",
         "domain": [
          0.7285714285714284,
          0.8542857142857141
         ],
         "matches": "x",
         "title": {
          "text": "duration"
         }
        },
        "xaxis7": {
         "anchor": "y7",
         "domain": [
          0.8742857142857141,
          0.9999999999999998
         ],
         "matches": "x",
         "title": {
          "text": "duration"
         }
        },
        "yaxis": {
         "anchor": "x",
         "domain": [
          0,
          1
         ],
         "title": {
          "text": "count"
         }
        },
        "yaxis2": {
         "anchor": "x2",
         "domain": [
          0,
          1
         ],
         "matches": "y",
         "showticklabels": false
        },
        "yaxis3": {
         "anchor": "x3",
         "domain": [
          0,
          1
         ],
         "matches": "y",
         "showticklabels": false
        },
        "yaxis4": {
         "anchor": "x4",
         "domain": [
          0,
          1
         ],
         "matches": "y",
         "showticklabels": false
        },
        "yaxis5": {
         "anchor": "x5",
         "domain": [
          0,
          1
         ],
         "matches": "y",
         "showticklabels": false
        },
        "yaxis6": {
         "anchor": "x6",
         "domain": [
          0,
          1
         ],
         "matches": "y",
         "showticklabels": false
        },
        "yaxis7": {
         "anchor": "x7",
         "domain": [
          0,
          1
         ],
         "matches": "y",
         "showticklabels": false
        }
       }
      },
      "text/html": [
       "<div>                            <div id=\"e5b77dd7-6f73-47b5-b7db-4cab6149450b\" class=\"plotly-graph-div\" style=\"height:525px; width:100%;\"></div>            <script type=\"text/javascript\">                require([\"plotly\"], function(Plotly) {                    window.PLOTLYENV=window.PLOTLYENV || {};                                    if (document.getElementById(\"e5b77dd7-6f73-47b5-b7db-4cab6149450b\")) {                    Plotly.newPlot(                        \"e5b77dd7-6f73-47b5-b7db-4cab6149450b\",                        [{\"alignmentgroup\": \"True\", \"bingroup\": \"x\", \"hovertemplate\": \"stage=Unknown<br>duration=%{x}<br>count=%{y}<extra></extra>\", \"legendgroup\": \"Unknown\", \"marker\": {\"color\": \"#636efa\"}, \"name\": \"Unknown\", \"offsetgroup\": \"Unknown\", \"orientation\": \"v\", \"showlegend\": true, \"type\": \"histogram\", \"x\": [null, null, null, null, null, null, null, null, null, null, null, null, null, null, null, null, null], \"xaxis\": \"x\", \"yaxis\": \"y\"}, {\"alignmentgroup\": \"True\", \"bingroup\": \"x\", \"hovertemplate\": \"stage=1<br>duration=%{x}<br>count=%{y}<extra></extra>\", \"legendgroup\": \"1\", \"marker\": {\"color\": \"#EF553B\"}, \"name\": \"1\", \"offsetgroup\": \"1\", \"orientation\": \"v\", \"showlegend\": true, \"type\": \"histogram\", \"x\": [1948.0, 1764.0], \"xaxis\": \"x2\", \"yaxis\": \"y2\"}, {\"alignmentgroup\": \"True\", \"bingroup\": \"x\", \"hovertemplate\": \"stage=2<br>duration=%{x}<br>count=%{y}<extra></extra>\", \"legendgroup\": \"2\", \"marker\": {\"color\": \"#00cc96\"}, \"name\": \"2\", \"offsetgroup\": \"2\", \"orientation\": \"v\", \"showlegend\": true, \"type\": \"histogram\", \"x\": [-5.0, 2056.0, 442.0, 1190.0, 2944.0], \"xaxis\": \"x3\", \"yaxis\": \"y3\"}, {\"alignmentgroup\": \"True\", \"bingroup\": \"x\", \"hovertemplate\": \"stage=3a<br>duration=%{x}<br>count=%{y}<extra></extra>\", \"legendgroup\": \"3a\", \"marker\": {\"color\": \"#ab63fa\"}, \"name\": \"3a\", \"offsetgroup\": \"3a\", \"orientation\": \"v\", \"showlegend\": true, \"type\": \"histogram\", \"x\": [3278.0, 2246.0, -21.0, 2013.0, 932.0], \"xaxis\": \"x4\", \"yaxis\": \"y4\"}, {\"alignmentgroup\": \"True\", \"bingroup\": \"x\", \"hovertemplate\": \"stage=3b<br>duration=%{x}<br>count=%{y}<extra></extra>\", \"legendgroup\": \"3b\", \"marker\": {\"color\": \"#FFA15A\"}, \"name\": \"3b\", \"offsetgroup\": \"3b\", \"orientation\": \"v\", \"showlegend\": true, \"type\": \"histogram\", \"x\": [-1976.0, 3191.0, -658.0, 3072.0, 2146.0, 1637.0, -10.0], \"xaxis\": \"x5\", \"yaxis\": \"y5\"}, {\"alignmentgroup\": \"True\", \"bingroup\": \"x\", \"hovertemplate\": \"stage=4<br>duration=%{x}<br>count=%{y}<extra></extra>\", \"legendgroup\": \"4\", \"marker\": {\"color\": \"#19d3f3\"}, \"name\": \"4\", \"offsetgroup\": \"4\", \"orientation\": \"v\", \"showlegend\": true, \"type\": \"histogram\", \"x\": [2224.0, 1841.0, 381.0, -14.0, 2337.0, 1078.0, 786.0, 1183.0, 1755.0, 305.0, 653.0, 1556.0, 787.0, 1942.0, 639.0, 490.0], \"xaxis\": \"x6\", \"yaxis\": \"y6\"}, {\"alignmentgroup\": \"True\", \"bingroup\": \"x\", \"hovertemplate\": \"stage=5<br>duration=%{x}<br>count=%{y}<extra></extra>\", \"legendgroup\": \"5\", \"marker\": {\"color\": \"#FF6692\"}, \"name\": \"5\", \"offsetgroup\": \"5\", \"orientation\": \"v\", \"showlegend\": true, \"type\": \"histogram\", \"x\": [1908.0, 599.0, 1040.0, 923.0, 2200.0, 1543.0, 387.0, 415.0, 1397.0, 56.0, 1362.0, -23.0, 1731.0, 1792.0, 271.0, -101.0, 1513.0, 1809.0], \"xaxis\": \"x7\", \"yaxis\": \"y7\"}],                        {\"annotations\": [{\"font\": {}, \"showarrow\": false, \"text\": \"stage=Unknown\", \"x\": 0.06285714285714285, \"xanchor\": \"center\", \"xref\": \"paper\", \"y\": 1.0, \"yanchor\": \"bottom\", \"yref\": \"paper\"}, {\"font\": {}, \"showarrow\": false, \"text\": \"stage=1\", \"x\": 0.20857142857142852, \"xanchor\": \"center\", \"xref\": \"paper\", \"y\": 1.0, \"yanchor\": \"bottom\", \"yref\": \"paper\"}, {\"font\": {}, \"showarrow\": false, \"text\": \"stage=2\", \"x\": 0.3542857142857142, \"xanchor\": \"center\", \"xref\": \"paper\", \"y\": 1.0, \"yanchor\": \"bottom\", \"yref\": \"paper\"}, {\"font\": {}, \"showarrow\": false, \"text\": \"stage=3a\", \"x\": 0.5, \"xanchor\": \"center\", \"xref\": \"paper\", \"y\": 1.0, \"yanchor\": \"bottom\", \"yref\": \"paper\"}, {\"font\": {}, \"showarrow\": false, \"text\": \"stage=3b\", \"x\": 0.6457142857142856, \"xanchor\": \"center\", \"xref\": \"paper\", \"y\": 1.0, \"yanchor\": \"bottom\", \"yref\": \"paper\"}, {\"font\": {}, \"showarrow\": false, \"text\": \"stage=4\", \"x\": 0.7914285714285713, \"xanchor\": \"center\", \"xref\": \"paper\", \"y\": 1.0, \"yanchor\": \"bottom\", \"yref\": \"paper\"}, {\"font\": {}, \"showarrow\": false, \"text\": \"stage=5\", \"x\": 0.9371428571428569, \"xanchor\": \"center\", \"xref\": \"paper\", \"y\": 1.0, \"yanchor\": \"bottom\", \"yref\": \"paper\"}], \"barmode\": \"relative\", \"legend\": {\"title\": {\"text\": \"stage\"}, \"tracegroupgap\": 0}, \"margin\": {\"t\": 60}, \"template\": {\"data\": {\"bar\": [{\"error_x\": {\"color\": \"#2a3f5f\"}, \"error_y\": {\"color\": \"#2a3f5f\"}, \"marker\": {\"line\": {\"color\": \"#E5ECF6\", \"width\": 0.5}}, \"type\": \"bar\"}], \"barpolar\": [{\"marker\": {\"line\": {\"color\": \"#E5ECF6\", \"width\": 0.5}}, \"type\": \"barpolar\"}], \"carpet\": [{\"aaxis\": {\"endlinecolor\": \"#2a3f5f\", \"gridcolor\": \"white\", \"linecolor\": \"white\", \"minorgridcolor\": \"white\", \"startlinecolor\": \"#2a3f5f\"}, \"baxis\": {\"endlinecolor\": \"#2a3f5f\", \"gridcolor\": \"white\", \"linecolor\": \"white\", \"minorgridcolor\": \"white\", \"startlinecolor\": \"#2a3f5f\"}, \"type\": \"carpet\"}], \"choropleth\": [{\"colorbar\": {\"outlinewidth\": 0, \"ticks\": \"\"}, \"type\": \"choropleth\"}], \"contour\": [{\"colorbar\": {\"outlinewidth\": 0, \"ticks\": \"\"}, \"colorscale\": [[0.0, \"#0d0887\"], [0.1111111111111111, \"#46039f\"], [0.2222222222222222, \"#7201a8\"], [0.3333333333333333, \"#9c179e\"], [0.4444444444444444, \"#bd3786\"], [0.5555555555555556, \"#d8576b\"], [0.6666666666666666, \"#ed7953\"], [0.7777777777777778, \"#fb9f3a\"], [0.8888888888888888, \"#fdca26\"], [1.0, \"#f0f921\"]], \"type\": \"contour\"}], \"contourcarpet\": [{\"colorbar\": {\"outlinewidth\": 0, \"ticks\": \"\"}, \"type\": \"contourcarpet\"}], \"heatmap\": [{\"colorbar\": {\"outlinewidth\": 0, \"ticks\": \"\"}, \"colorscale\": [[0.0, \"#0d0887\"], [0.1111111111111111, \"#46039f\"], [0.2222222222222222, \"#7201a8\"], [0.3333333333333333, \"#9c179e\"], [0.4444444444444444, \"#bd3786\"], [0.5555555555555556, \"#d8576b\"], [0.6666666666666666, \"#ed7953\"], [0.7777777777777778, \"#fb9f3a\"], [0.8888888888888888, \"#fdca26\"], [1.0, \"#f0f921\"]], \"type\": \"heatmap\"}], \"heatmapgl\": [{\"colorbar\": {\"outlinewidth\": 0, \"ticks\": \"\"}, \"colorscale\": [[0.0, \"#0d0887\"], [0.1111111111111111, \"#46039f\"], [0.2222222222222222, \"#7201a8\"], [0.3333333333333333, \"#9c179e\"], [0.4444444444444444, \"#bd3786\"], [0.5555555555555556, \"#d8576b\"], [0.6666666666666666, \"#ed7953\"], [0.7777777777777778, \"#fb9f3a\"], [0.8888888888888888, \"#fdca26\"], [1.0, \"#f0f921\"]], \"type\": \"heatmapgl\"}], \"histogram\": [{\"marker\": {\"colorbar\": {\"outlinewidth\": 0, \"ticks\": \"\"}}, \"type\": \"histogram\"}], \"histogram2d\": [{\"colorbar\": {\"outlinewidth\": 0, \"ticks\": \"\"}, \"colorscale\": [[0.0, \"#0d0887\"], [0.1111111111111111, \"#46039f\"], [0.2222222222222222, \"#7201a8\"], [0.3333333333333333, \"#9c179e\"], [0.4444444444444444, \"#bd3786\"], [0.5555555555555556, \"#d8576b\"], [0.6666666666666666, \"#ed7953\"], [0.7777777777777778, \"#fb9f3a\"], [0.8888888888888888, \"#fdca26\"], [1.0, \"#f0f921\"]], \"type\": \"histogram2d\"}], \"histogram2dcontour\": [{\"colorbar\": {\"outlinewidth\": 0, \"ticks\": \"\"}, \"colorscale\": [[0.0, \"#0d0887\"], [0.1111111111111111, \"#46039f\"], [0.2222222222222222, \"#7201a8\"], [0.3333333333333333, \"#9c179e\"], [0.4444444444444444, \"#bd3786\"], [0.5555555555555556, \"#d8576b\"], [0.6666666666666666, \"#ed7953\"], [0.7777777777777778, \"#fb9f3a\"], [0.8888888888888888, \"#fdca26\"], [1.0, \"#f0f921\"]], \"type\": \"histogram2dcontour\"}], \"mesh3d\": [{\"colorbar\": {\"outlinewidth\": 0, \"ticks\": \"\"}, \"type\": \"mesh3d\"}], \"parcoords\": [{\"line\": {\"colorbar\": {\"outlinewidth\": 0, \"ticks\": \"\"}}, \"type\": \"parcoords\"}], \"pie\": [{\"automargin\": true, \"type\": \"pie\"}], \"scatter\": [{\"marker\": {\"colorbar\": {\"outlinewidth\": 0, \"ticks\": \"\"}}, \"type\": \"scatter\"}], \"scatter3d\": [{\"line\": {\"colorbar\": {\"outlinewidth\": 0, \"ticks\": \"\"}}, \"marker\": {\"colorbar\": {\"outlinewidth\": 0, \"ticks\": \"\"}}, \"type\": \"scatter3d\"}], \"scattercarpet\": [{\"marker\": {\"colorbar\": {\"outlinewidth\": 0, \"ticks\": \"\"}}, \"type\": \"scattercarpet\"}], \"scattergeo\": [{\"marker\": {\"colorbar\": {\"outlinewidth\": 0, \"ticks\": \"\"}}, \"type\": \"scattergeo\"}], \"scattergl\": [{\"marker\": {\"colorbar\": {\"outlinewidth\": 0, \"ticks\": \"\"}}, \"type\": \"scattergl\"}], \"scattermapbox\": [{\"marker\": {\"colorbar\": {\"outlinewidth\": 0, \"ticks\": \"\"}}, \"type\": \"scattermapbox\"}], \"scatterpolar\": [{\"marker\": {\"colorbar\": {\"outlinewidth\": 0, \"ticks\": \"\"}}, \"type\": \"scatterpolar\"}], \"scatterpolargl\": [{\"marker\": {\"colorbar\": {\"outlinewidth\": 0, \"ticks\": \"\"}}, \"type\": \"scatterpolargl\"}], \"scatterternary\": [{\"marker\": {\"colorbar\": {\"outlinewidth\": 0, \"ticks\": \"\"}}, \"type\": \"scatterternary\"}], \"surface\": [{\"colorbar\": {\"outlinewidth\": 0, \"ticks\": \"\"}, \"colorscale\": [[0.0, \"#0d0887\"], [0.1111111111111111, \"#46039f\"], [0.2222222222222222, \"#7201a8\"], [0.3333333333333333, \"#9c179e\"], [0.4444444444444444, \"#bd3786\"], [0.5555555555555556, \"#d8576b\"], [0.6666666666666666, \"#ed7953\"], [0.7777777777777778, \"#fb9f3a\"], [0.8888888888888888, \"#fdca26\"], [1.0, \"#f0f921\"]], \"type\": \"surface\"}], \"table\": [{\"cells\": {\"fill\": {\"color\": \"#EBF0F8\"}, \"line\": {\"color\": \"white\"}}, \"header\": {\"fill\": {\"color\": \"#C8D4E3\"}, \"line\": {\"color\": \"white\"}}, \"type\": \"table\"}]}, \"layout\": {\"annotationdefaults\": {\"arrowcolor\": \"#2a3f5f\", \"arrowhead\": 0, \"arrowwidth\": 1}, \"coloraxis\": {\"colorbar\": {\"outlinewidth\": 0, \"ticks\": \"\"}}, \"colorscale\": {\"diverging\": [[0, \"#8e0152\"], [0.1, \"#c51b7d\"], [0.2, \"#de77ae\"], [0.3, \"#f1b6da\"], [0.4, \"#fde0ef\"], [0.5, \"#f7f7f7\"], [0.6, \"#e6f5d0\"], [0.7, \"#b8e186\"], [0.8, \"#7fbc41\"], [0.9, \"#4d9221\"], [1, \"#276419\"]], \"sequential\": [[0.0, \"#0d0887\"], [0.1111111111111111, \"#46039f\"], [0.2222222222222222, \"#7201a8\"], [0.3333333333333333, \"#9c179e\"], [0.4444444444444444, \"#bd3786\"], [0.5555555555555556, \"#d8576b\"], [0.6666666666666666, \"#ed7953\"], [0.7777777777777778, \"#fb9f3a\"], [0.8888888888888888, \"#fdca26\"], [1.0, \"#f0f921\"]], \"sequentialminus\": [[0.0, \"#0d0887\"], [0.1111111111111111, \"#46039f\"], [0.2222222222222222, \"#7201a8\"], [0.3333333333333333, \"#9c179e\"], [0.4444444444444444, \"#bd3786\"], [0.5555555555555556, \"#d8576b\"], [0.6666666666666666, \"#ed7953\"], [0.7777777777777778, \"#fb9f3a\"], [0.8888888888888888, \"#fdca26\"], [1.0, \"#f0f921\"]]}, \"colorway\": [\"#636efa\", \"#EF553B\", \"#00cc96\", \"#ab63fa\", \"#FFA15A\", \"#19d3f3\", \"#FF6692\", \"#B6E880\", \"#FF97FF\", \"#FECB52\"], \"font\": {\"color\": \"#2a3f5f\"}, \"geo\": {\"bgcolor\": \"white\", \"lakecolor\": \"white\", \"landcolor\": \"#E5ECF6\", \"showlakes\": true, \"showland\": true, \"subunitcolor\": \"white\"}, \"hoverlabel\": {\"align\": \"left\"}, \"hovermode\": \"closest\", \"mapbox\": {\"style\": \"light\"}, \"paper_bgcolor\": \"white\", \"plot_bgcolor\": \"#E5ECF6\", \"polar\": {\"angularaxis\": {\"gridcolor\": \"white\", \"linecolor\": \"white\", \"ticks\": \"\"}, \"bgcolor\": \"#E5ECF6\", \"radialaxis\": {\"gridcolor\": \"white\", \"linecolor\": \"white\", \"ticks\": \"\"}}, \"scene\": {\"xaxis\": {\"backgroundcolor\": \"#E5ECF6\", \"gridcolor\": \"white\", \"gridwidth\": 2, \"linecolor\": \"white\", \"showbackground\": true, \"ticks\": \"\", \"zerolinecolor\": \"white\"}, \"yaxis\": {\"backgroundcolor\": \"#E5ECF6\", \"gridcolor\": \"white\", \"gridwidth\": 2, \"linecolor\": \"white\", \"showbackground\": true, \"ticks\": \"\", \"zerolinecolor\": \"white\"}, \"zaxis\": {\"backgroundcolor\": \"#E5ECF6\", \"gridcolor\": \"white\", \"gridwidth\": 2, \"linecolor\": \"white\", \"showbackground\": true, \"ticks\": \"\", \"zerolinecolor\": \"white\"}}, \"shapedefaults\": {\"line\": {\"color\": \"#2a3f5f\"}}, \"ternary\": {\"aaxis\": {\"gridcolor\": \"white\", \"linecolor\": \"white\", \"ticks\": \"\"}, \"baxis\": {\"gridcolor\": \"white\", \"linecolor\": \"white\", \"ticks\": \"\"}, \"bgcolor\": \"#E5ECF6\", \"caxis\": {\"gridcolor\": \"white\", \"linecolor\": \"white\", \"ticks\": \"\"}}, \"title\": {\"x\": 0.05}, \"xaxis\": {\"automargin\": true, \"gridcolor\": \"white\", \"linecolor\": \"white\", \"ticks\": \"\", \"title\": {\"standoff\": 15}, \"zerolinecolor\": \"white\", \"zerolinewidth\": 2}, \"yaxis\": {\"automargin\": true, \"gridcolor\": \"white\", \"linecolor\": \"white\", \"ticks\": \"\", \"title\": {\"standoff\": 15}, \"zerolinecolor\": \"white\", \"zerolinewidth\": 2}}}, \"xaxis\": {\"anchor\": \"y\", \"domain\": [0.0, 0.1257142857142857], \"title\": {\"text\": \"duration\"}}, \"xaxis2\": {\"anchor\": \"y2\", \"domain\": [0.14571428571428569, 0.27142857142857135], \"matches\": \"x\", \"title\": {\"text\": \"duration\"}}, \"xaxis3\": {\"anchor\": \"y3\", \"domain\": [0.29142857142857137, 0.41714285714285704], \"matches\": \"x\", \"title\": {\"text\": \"duration\"}}, \"xaxis4\": {\"anchor\": \"y4\", \"domain\": [0.4371428571428571, 0.5628571428571428], \"matches\": \"x\", \"title\": {\"text\": \"duration\"}}, \"xaxis5\": {\"anchor\": \"y5\", \"domain\": [0.5828571428571427, 0.7085714285714284], \"matches\": \"x\", \"title\": {\"text\": \"duration\"}}, \"xaxis6\": {\"anchor\": \"y6\", \"domain\": [0.7285714285714284, 0.8542857142857141], \"matches\": \"x\", \"title\": {\"text\": \"duration\"}}, \"xaxis7\": {\"anchor\": \"y7\", \"domain\": [0.8742857142857141, 0.9999999999999998], \"matches\": \"x\", \"title\": {\"text\": \"duration\"}}, \"yaxis\": {\"anchor\": \"x\", \"domain\": [0.0, 1.0], \"title\": {\"text\": \"count\"}}, \"yaxis2\": {\"anchor\": \"x2\", \"domain\": [0.0, 1.0], \"matches\": \"y\", \"showticklabels\": false}, \"yaxis3\": {\"anchor\": \"x3\", \"domain\": [0.0, 1.0], \"matches\": \"y\", \"showticklabels\": false}, \"yaxis4\": {\"anchor\": \"x4\", \"domain\": [0.0, 1.0], \"matches\": \"y\", \"showticklabels\": false}, \"yaxis5\": {\"anchor\": \"x5\", \"domain\": [0.0, 1.0], \"matches\": \"y\", \"showticklabels\": false}, \"yaxis6\": {\"anchor\": \"x6\", \"domain\": [0.0, 1.0], \"matches\": \"y\", \"showticklabels\": false}, \"yaxis7\": {\"anchor\": \"x7\", \"domain\": [0.0, 1.0], \"matches\": \"y\", \"showticklabels\": false}},                        {\"responsive\": true}                    ).then(function(){\n",
       "                            \n",
       "var gd = document.getElementById('e5b77dd7-6f73-47b5-b7db-4cab6149450b');\n",
       "var x = new MutationObserver(function (mutations, observer) {{\n",
       "        var display = window.getComputedStyle(gd).display;\n",
       "        if (!display || display === 'none') {{\n",
       "            console.log([gd, 'removed!']);\n",
       "            Plotly.purge(gd);\n",
       "            observer.disconnect();\n",
       "        }}\n",
       "}});\n",
       "\n",
       "// Listen for the removal of the full notebook cells\n",
       "var notebookContainer = gd.closest('#notebook-container');\n",
       "if (notebookContainer) {{\n",
       "    x.observe(notebookContainer, {childList: true});\n",
       "}}\n",
       "\n",
       "// Listen for the clearing of the current output cell\n",
       "var outputEl = gd.closest('.output');\n",
       "if (outputEl) {{\n",
       "    x.observe(outputEl, {childList: true});\n",
       "}}\n",
       "\n",
       "                        })                };                });            </script>        </div>"
      ]
     },
     "metadata": {},
     "output_type": "display_data"
    },
    {
     "data": {
      "application/vnd.plotly.v1+json": {
       "config": {
        "plotlyServerURL": "https://plot.ly"
       },
       "data": [
        {
         "alignmentgroup": "True",
         "hovertemplate": "stage=%{x}<br>duration=%{y}<extra></extra>",
         "legendgroup": "Unknown",
         "marker": {
          "color": "#636efa"
         },
         "name": "Unknown",
         "notched": false,
         "offsetgroup": "Unknown",
         "orientation": "v",
         "showlegend": true,
         "type": "box",
         "x": [
          "Unknown",
          "Unknown",
          "Unknown",
          "Unknown",
          "Unknown",
          "Unknown",
          "Unknown",
          "Unknown",
          "Unknown",
          "Unknown",
          "Unknown",
          "Unknown",
          "Unknown",
          "Unknown",
          "Unknown",
          "Unknown",
          "Unknown"
         ],
         "x0": " ",
         "xaxis": "x",
         "y": [
          null,
          null,
          null,
          null,
          null,
          null,
          null,
          null,
          null,
          null,
          null,
          null,
          null,
          null,
          null,
          null,
          null
         ],
         "y0": " ",
         "yaxis": "y"
        },
        {
         "alignmentgroup": "True",
         "hovertemplate": "stage=%{x}<br>duration=%{y}<extra></extra>",
         "legendgroup": "1",
         "marker": {
          "color": "#EF553B"
         },
         "name": "1",
         "notched": false,
         "offsetgroup": "1",
         "orientation": "v",
         "showlegend": true,
         "type": "box",
         "x": [
          "1",
          "1"
         ],
         "x0": " ",
         "xaxis": "x",
         "y": [
          1948,
          1764
         ],
         "y0": " ",
         "yaxis": "y"
        },
        {
         "alignmentgroup": "True",
         "hovertemplate": "stage=%{x}<br>duration=%{y}<extra></extra>",
         "legendgroup": "2",
         "marker": {
          "color": "#00cc96"
         },
         "name": "2",
         "notched": false,
         "offsetgroup": "2",
         "orientation": "v",
         "showlegend": true,
         "type": "box",
         "x": [
          "2",
          "2",
          "2",
          "2",
          "2"
         ],
         "x0": " ",
         "xaxis": "x",
         "y": [
          -5,
          2056,
          442,
          1190,
          2944
         ],
         "y0": " ",
         "yaxis": "y"
        },
        {
         "alignmentgroup": "True",
         "hovertemplate": "stage=%{x}<br>duration=%{y}<extra></extra>",
         "legendgroup": "3a",
         "marker": {
          "color": "#ab63fa"
         },
         "name": "3a",
         "notched": false,
         "offsetgroup": "3a",
         "orientation": "v",
         "showlegend": true,
         "type": "box",
         "x": [
          "3a",
          "3a",
          "3a",
          "3a",
          "3a"
         ],
         "x0": " ",
         "xaxis": "x",
         "y": [
          3278,
          2246,
          -21,
          2013,
          932
         ],
         "y0": " ",
         "yaxis": "y"
        },
        {
         "alignmentgroup": "True",
         "hovertemplate": "stage=%{x}<br>duration=%{y}<extra></extra>",
         "legendgroup": "3b",
         "marker": {
          "color": "#FFA15A"
         },
         "name": "3b",
         "notched": false,
         "offsetgroup": "3b",
         "orientation": "v",
         "showlegend": true,
         "type": "box",
         "x": [
          "3b",
          "3b",
          "3b",
          "3b",
          "3b",
          "3b",
          "3b"
         ],
         "x0": " ",
         "xaxis": "x",
         "y": [
          -1976,
          3191,
          -658,
          3072,
          2146,
          1637,
          -10
         ],
         "y0": " ",
         "yaxis": "y"
        },
        {
         "alignmentgroup": "True",
         "hovertemplate": "stage=%{x}<br>duration=%{y}<extra></extra>",
         "legendgroup": "4",
         "marker": {
          "color": "#19d3f3"
         },
         "name": "4",
         "notched": false,
         "offsetgroup": "4",
         "orientation": "v",
         "showlegend": true,
         "type": "box",
         "x": [
          "4",
          "4",
          "4",
          "4",
          "4",
          "4",
          "4",
          "4",
          "4",
          "4",
          "4",
          "4",
          "4",
          "4",
          "4",
          "4"
         ],
         "x0": " ",
         "xaxis": "x",
         "y": [
          2224,
          1841,
          381,
          -14,
          2337,
          1078,
          786,
          1183,
          1755,
          305,
          653,
          1556,
          787,
          1942,
          639,
          490
         ],
         "y0": " ",
         "yaxis": "y"
        },
        {
         "alignmentgroup": "True",
         "hovertemplate": "stage=%{x}<br>duration=%{y}<extra></extra>",
         "legendgroup": "5",
         "marker": {
          "color": "#FF6692"
         },
         "name": "5",
         "notched": false,
         "offsetgroup": "5",
         "orientation": "v",
         "showlegend": true,
         "type": "box",
         "x": [
          "5",
          "5",
          "5",
          "5",
          "5",
          "5",
          "5",
          "5",
          "5",
          "5",
          "5",
          "5",
          "5",
          "5",
          "5",
          "5",
          "5",
          "5"
         ],
         "x0": " ",
         "xaxis": "x",
         "y": [
          1908,
          599,
          1040,
          923,
          2200,
          1543,
          387,
          415,
          1397,
          56,
          1362,
          -23,
          1731,
          1792,
          271,
          -101,
          1513,
          1809
         ],
         "y0": " ",
         "yaxis": "y"
        }
       ],
       "layout": {
        "boxmode": "overlay",
        "legend": {
         "title": {
          "text": "stage"
         },
         "tracegroupgap": 0
        },
        "margin": {
         "t": 60
        },
        "template": {
         "data": {
          "bar": [
           {
            "error_x": {
             "color": "#2a3f5f"
            },
            "error_y": {
             "color": "#2a3f5f"
            },
            "marker": {
             "line": {
              "color": "#E5ECF6",
              "width": 0.5
             }
            },
            "type": "bar"
           }
          ],
          "barpolar": [
           {
            "marker": {
             "line": {
              "color": "#E5ECF6",
              "width": 0.5
             }
            },
            "type": "barpolar"
           }
          ],
          "carpet": [
           {
            "aaxis": {
             "endlinecolor": "#2a3f5f",
             "gridcolor": "white",
             "linecolor": "white",
             "minorgridcolor": "white",
             "startlinecolor": "#2a3f5f"
            },
            "baxis": {
             "endlinecolor": "#2a3f5f",
             "gridcolor": "white",
             "linecolor": "white",
             "minorgridcolor": "white",
             "startlinecolor": "#2a3f5f"
            },
            "type": "carpet"
           }
          ],
          "choropleth": [
           {
            "colorbar": {
             "outlinewidth": 0,
             "ticks": ""
            },
            "type": "choropleth"
           }
          ],
          "contour": [
           {
            "colorbar": {
             "outlinewidth": 0,
             "ticks": ""
            },
            "colorscale": [
             [
              0,
              "#0d0887"
             ],
             [
              0.1111111111111111,
              "#46039f"
             ],
             [
              0.2222222222222222,
              "#7201a8"
             ],
             [
              0.3333333333333333,
              "#9c179e"
             ],
             [
              0.4444444444444444,
              "#bd3786"
             ],
             [
              0.5555555555555556,
              "#d8576b"
             ],
             [
              0.6666666666666666,
              "#ed7953"
             ],
             [
              0.7777777777777778,
              "#fb9f3a"
             ],
             [
              0.8888888888888888,
              "#fdca26"
             ],
             [
              1,
              "#f0f921"
             ]
            ],
            "type": "contour"
           }
          ],
          "contourcarpet": [
           {
            "colorbar": {
             "outlinewidth": 0,
             "ticks": ""
            },
            "type": "contourcarpet"
           }
          ],
          "heatmap": [
           {
            "colorbar": {
             "outlinewidth": 0,
             "ticks": ""
            },
            "colorscale": [
             [
              0,
              "#0d0887"
             ],
             [
              0.1111111111111111,
              "#46039f"
             ],
             [
              0.2222222222222222,
              "#7201a8"
             ],
             [
              0.3333333333333333,
              "#9c179e"
             ],
             [
              0.4444444444444444,
              "#bd3786"
             ],
             [
              0.5555555555555556,
              "#d8576b"
             ],
             [
              0.6666666666666666,
              "#ed7953"
             ],
             [
              0.7777777777777778,
              "#fb9f3a"
             ],
             [
              0.8888888888888888,
              "#fdca26"
             ],
             [
              1,
              "#f0f921"
             ]
            ],
            "type": "heatmap"
           }
          ],
          "heatmapgl": [
           {
            "colorbar": {
             "outlinewidth": 0,
             "ticks": ""
            },
            "colorscale": [
             [
              0,
              "#0d0887"
             ],
             [
              0.1111111111111111,
              "#46039f"
             ],
             [
              0.2222222222222222,
              "#7201a8"
             ],
             [
              0.3333333333333333,
              "#9c179e"
             ],
             [
              0.4444444444444444,
              "#bd3786"
             ],
             [
              0.5555555555555556,
              "#d8576b"
             ],
             [
              0.6666666666666666,
              "#ed7953"
             ],
             [
              0.7777777777777778,
              "#fb9f3a"
             ],
             [
              0.8888888888888888,
              "#fdca26"
             ],
             [
              1,
              "#f0f921"
             ]
            ],
            "type": "heatmapgl"
           }
          ],
          "histogram": [
           {
            "marker": {
             "colorbar": {
              "outlinewidth": 0,
              "ticks": ""
             }
            },
            "type": "histogram"
           }
          ],
          "histogram2d": [
           {
            "colorbar": {
             "outlinewidth": 0,
             "ticks": ""
            },
            "colorscale": [
             [
              0,
              "#0d0887"
             ],
             [
              0.1111111111111111,
              "#46039f"
             ],
             [
              0.2222222222222222,
              "#7201a8"
             ],
             [
              0.3333333333333333,
              "#9c179e"
             ],
             [
              0.4444444444444444,
              "#bd3786"
             ],
             [
              0.5555555555555556,
              "#d8576b"
             ],
             [
              0.6666666666666666,
              "#ed7953"
             ],
             [
              0.7777777777777778,
              "#fb9f3a"
             ],
             [
              0.8888888888888888,
              "#fdca26"
             ],
             [
              1,
              "#f0f921"
             ]
            ],
            "type": "histogram2d"
           }
          ],
          "histogram2dcontour": [
           {
            "colorbar": {
             "outlinewidth": 0,
             "ticks": ""
            },
            "colorscale": [
             [
              0,
              "#0d0887"
             ],
             [
              0.1111111111111111,
              "#46039f"
             ],
             [
              0.2222222222222222,
              "#7201a8"
             ],
             [
              0.3333333333333333,
              "#9c179e"
             ],
             [
              0.4444444444444444,
              "#bd3786"
             ],
             [
              0.5555555555555556,
              "#d8576b"
             ],
             [
              0.6666666666666666,
              "#ed7953"
             ],
             [
              0.7777777777777778,
              "#fb9f3a"
             ],
             [
              0.8888888888888888,
              "#fdca26"
             ],
             [
              1,
              "#f0f921"
             ]
            ],
            "type": "histogram2dcontour"
           }
          ],
          "mesh3d": [
           {
            "colorbar": {
             "outlinewidth": 0,
             "ticks": ""
            },
            "type": "mesh3d"
           }
          ],
          "parcoords": [
           {
            "line": {
             "colorbar": {
              "outlinewidth": 0,
              "ticks": ""
             }
            },
            "type": "parcoords"
           }
          ],
          "pie": [
           {
            "automargin": true,
            "type": "pie"
           }
          ],
          "scatter": [
           {
            "marker": {
             "colorbar": {
              "outlinewidth": 0,
              "ticks": ""
             }
            },
            "type": "scatter"
           }
          ],
          "scatter3d": [
           {
            "line": {
             "colorbar": {
              "outlinewidth": 0,
              "ticks": ""
             }
            },
            "marker": {
             "colorbar": {
              "outlinewidth": 0,
              "ticks": ""
             }
            },
            "type": "scatter3d"
           }
          ],
          "scattercarpet": [
           {
            "marker": {
             "colorbar": {
              "outlinewidth": 0,
              "ticks": ""
             }
            },
            "type": "scattercarpet"
           }
          ],
          "scattergeo": [
           {
            "marker": {
             "colorbar": {
              "outlinewidth": 0,
              "ticks": ""
             }
            },
            "type": "scattergeo"
           }
          ],
          "scattergl": [
           {
            "marker": {
             "colorbar": {
              "outlinewidth": 0,
              "ticks": ""
             }
            },
            "type": "scattergl"
           }
          ],
          "scattermapbox": [
           {
            "marker": {
             "colorbar": {
              "outlinewidth": 0,
              "ticks": ""
             }
            },
            "type": "scattermapbox"
           }
          ],
          "scatterpolar": [
           {
            "marker": {
             "colorbar": {
              "outlinewidth": 0,
              "ticks": ""
             }
            },
            "type": "scatterpolar"
           }
          ],
          "scatterpolargl": [
           {
            "marker": {
             "colorbar": {
              "outlinewidth": 0,
              "ticks": ""
             }
            },
            "type": "scatterpolargl"
           }
          ],
          "scatterternary": [
           {
            "marker": {
             "colorbar": {
              "outlinewidth": 0,
              "ticks": ""
             }
            },
            "type": "scatterternary"
           }
          ],
          "surface": [
           {
            "colorbar": {
             "outlinewidth": 0,
             "ticks": ""
            },
            "colorscale": [
             [
              0,
              "#0d0887"
             ],
             [
              0.1111111111111111,
              "#46039f"
             ],
             [
              0.2222222222222222,
              "#7201a8"
             ],
             [
              0.3333333333333333,
              "#9c179e"
             ],
             [
              0.4444444444444444,
              "#bd3786"
             ],
             [
              0.5555555555555556,
              "#d8576b"
             ],
             [
              0.6666666666666666,
              "#ed7953"
             ],
             [
              0.7777777777777778,
              "#fb9f3a"
             ],
             [
              0.8888888888888888,
              "#fdca26"
             ],
             [
              1,
              "#f0f921"
             ]
            ],
            "type": "surface"
           }
          ],
          "table": [
           {
            "cells": {
             "fill": {
              "color": "#EBF0F8"
             },
             "line": {
              "color": "white"
             }
            },
            "header": {
             "fill": {
              "color": "#C8D4E3"
             },
             "line": {
              "color": "white"
             }
            },
            "type": "table"
           }
          ]
         },
         "layout": {
          "annotationdefaults": {
           "arrowcolor": "#2a3f5f",
           "arrowhead": 0,
           "arrowwidth": 1
          },
          "coloraxis": {
           "colorbar": {
            "outlinewidth": 0,
            "ticks": ""
           }
          },
          "colorscale": {
           "diverging": [
            [
             0,
             "#8e0152"
            ],
            [
             0.1,
             "#c51b7d"
            ],
            [
             0.2,
             "#de77ae"
            ],
            [
             0.3,
             "#f1b6da"
            ],
            [
             0.4,
             "#fde0ef"
            ],
            [
             0.5,
             "#f7f7f7"
            ],
            [
             0.6,
             "#e6f5d0"
            ],
            [
             0.7,
             "#b8e186"
            ],
            [
             0.8,
             "#7fbc41"
            ],
            [
             0.9,
             "#4d9221"
            ],
            [
             1,
             "#276419"
            ]
           ],
           "sequential": [
            [
             0,
             "#0d0887"
            ],
            [
             0.1111111111111111,
             "#46039f"
            ],
            [
             0.2222222222222222,
             "#7201a8"
            ],
            [
             0.3333333333333333,
             "#9c179e"
            ],
            [
             0.4444444444444444,
             "#bd3786"
            ],
            [
             0.5555555555555556,
             "#d8576b"
            ],
            [
             0.6666666666666666,
             "#ed7953"
            ],
            [
             0.7777777777777778,
             "#fb9f3a"
            ],
            [
             0.8888888888888888,
             "#fdca26"
            ],
            [
             1,
             "#f0f921"
            ]
           ],
           "sequentialminus": [
            [
             0,
             "#0d0887"
            ],
            [
             0.1111111111111111,
             "#46039f"
            ],
            [
             0.2222222222222222,
             "#7201a8"
            ],
            [
             0.3333333333333333,
             "#9c179e"
            ],
            [
             0.4444444444444444,
             "#bd3786"
            ],
            [
             0.5555555555555556,
             "#d8576b"
            ],
            [
             0.6666666666666666,
             "#ed7953"
            ],
            [
             0.7777777777777778,
             "#fb9f3a"
            ],
            [
             0.8888888888888888,
             "#fdca26"
            ],
            [
             1,
             "#f0f921"
            ]
           ]
          },
          "colorway": [
           "#636efa",
           "#EF553B",
           "#00cc96",
           "#ab63fa",
           "#FFA15A",
           "#19d3f3",
           "#FF6692",
           "#B6E880",
           "#FF97FF",
           "#FECB52"
          ],
          "font": {
           "color": "#2a3f5f"
          },
          "geo": {
           "bgcolor": "white",
           "lakecolor": "white",
           "landcolor": "#E5ECF6",
           "showlakes": true,
           "showland": true,
           "subunitcolor": "white"
          },
          "hoverlabel": {
           "align": "left"
          },
          "hovermode": "closest",
          "mapbox": {
           "style": "light"
          },
          "paper_bgcolor": "white",
          "plot_bgcolor": "#E5ECF6",
          "polar": {
           "angularaxis": {
            "gridcolor": "white",
            "linecolor": "white",
            "ticks": ""
           },
           "bgcolor": "#E5ECF6",
           "radialaxis": {
            "gridcolor": "white",
            "linecolor": "white",
            "ticks": ""
           }
          },
          "scene": {
           "xaxis": {
            "backgroundcolor": "#E5ECF6",
            "gridcolor": "white",
            "gridwidth": 2,
            "linecolor": "white",
            "showbackground": true,
            "ticks": "",
            "zerolinecolor": "white"
           },
           "yaxis": {
            "backgroundcolor": "#E5ECF6",
            "gridcolor": "white",
            "gridwidth": 2,
            "linecolor": "white",
            "showbackground": true,
            "ticks": "",
            "zerolinecolor": "white"
           },
           "zaxis": {
            "backgroundcolor": "#E5ECF6",
            "gridcolor": "white",
            "gridwidth": 2,
            "linecolor": "white",
            "showbackground": true,
            "ticks": "",
            "zerolinecolor": "white"
           }
          },
          "shapedefaults": {
           "line": {
            "color": "#2a3f5f"
           }
          },
          "ternary": {
           "aaxis": {
            "gridcolor": "white",
            "linecolor": "white",
            "ticks": ""
           },
           "baxis": {
            "gridcolor": "white",
            "linecolor": "white",
            "ticks": ""
           },
           "bgcolor": "#E5ECF6",
           "caxis": {
            "gridcolor": "white",
            "linecolor": "white",
            "ticks": ""
           }
          },
          "title": {
           "x": 0.05
          },
          "xaxis": {
           "automargin": true,
           "gridcolor": "white",
           "linecolor": "white",
           "ticks": "",
           "title": {
            "standoff": 15
           },
           "zerolinecolor": "white",
           "zerolinewidth": 2
          },
          "yaxis": {
           "automargin": true,
           "gridcolor": "white",
           "linecolor": "white",
           "ticks": "",
           "title": {
            "standoff": 15
           },
           "zerolinecolor": "white",
           "zerolinewidth": 2
          }
         }
        },
        "xaxis": {
         "anchor": "y",
         "categoryarray": [
          "Unknown",
          "1",
          "2",
          "3a",
          "3b",
          "4",
          "5"
         ],
         "categoryorder": "array",
         "domain": [
          0,
          1
         ],
         "title": {
          "text": "stage"
         }
        },
        "yaxis": {
         "anchor": "x",
         "domain": [
          0,
          1
         ],
         "title": {
          "text": "duration"
         }
        }
       }
      },
      "text/html": [
       "<div>                            <div id=\"2903dde5-9762-49e8-9aa7-c1ce937104b6\" class=\"plotly-graph-div\" style=\"height:525px; width:100%;\"></div>            <script type=\"text/javascript\">                require([\"plotly\"], function(Plotly) {                    window.PLOTLYENV=window.PLOTLYENV || {};                                    if (document.getElementById(\"2903dde5-9762-49e8-9aa7-c1ce937104b6\")) {                    Plotly.newPlot(                        \"2903dde5-9762-49e8-9aa7-c1ce937104b6\",                        [{\"alignmentgroup\": \"True\", \"hovertemplate\": \"stage=%{x}<br>duration=%{y}<extra></extra>\", \"legendgroup\": \"Unknown\", \"marker\": {\"color\": \"#636efa\"}, \"name\": \"Unknown\", \"notched\": false, \"offsetgroup\": \"Unknown\", \"orientation\": \"v\", \"showlegend\": true, \"type\": \"box\", \"x\": [\"Unknown\", \"Unknown\", \"Unknown\", \"Unknown\", \"Unknown\", \"Unknown\", \"Unknown\", \"Unknown\", \"Unknown\", \"Unknown\", \"Unknown\", \"Unknown\", \"Unknown\", \"Unknown\", \"Unknown\", \"Unknown\", \"Unknown\"], \"x0\": \" \", \"xaxis\": \"x\", \"y\": [null, null, null, null, null, null, null, null, null, null, null, null, null, null, null, null, null], \"y0\": \" \", \"yaxis\": \"y\"}, {\"alignmentgroup\": \"True\", \"hovertemplate\": \"stage=%{x}<br>duration=%{y}<extra></extra>\", \"legendgroup\": \"1\", \"marker\": {\"color\": \"#EF553B\"}, \"name\": \"1\", \"notched\": false, \"offsetgroup\": \"1\", \"orientation\": \"v\", \"showlegend\": true, \"type\": \"box\", \"x\": [\"1\", \"1\"], \"x0\": \" \", \"xaxis\": \"x\", \"y\": [1948.0, 1764.0], \"y0\": \" \", \"yaxis\": \"y\"}, {\"alignmentgroup\": \"True\", \"hovertemplate\": \"stage=%{x}<br>duration=%{y}<extra></extra>\", \"legendgroup\": \"2\", \"marker\": {\"color\": \"#00cc96\"}, \"name\": \"2\", \"notched\": false, \"offsetgroup\": \"2\", \"orientation\": \"v\", \"showlegend\": true, \"type\": \"box\", \"x\": [\"2\", \"2\", \"2\", \"2\", \"2\"], \"x0\": \" \", \"xaxis\": \"x\", \"y\": [-5.0, 2056.0, 442.0, 1190.0, 2944.0], \"y0\": \" \", \"yaxis\": \"y\"}, {\"alignmentgroup\": \"True\", \"hovertemplate\": \"stage=%{x}<br>duration=%{y}<extra></extra>\", \"legendgroup\": \"3a\", \"marker\": {\"color\": \"#ab63fa\"}, \"name\": \"3a\", \"notched\": false, \"offsetgroup\": \"3a\", \"orientation\": \"v\", \"showlegend\": true, \"type\": \"box\", \"x\": [\"3a\", \"3a\", \"3a\", \"3a\", \"3a\"], \"x0\": \" \", \"xaxis\": \"x\", \"y\": [3278.0, 2246.0, -21.0, 2013.0, 932.0], \"y0\": \" \", \"yaxis\": \"y\"}, {\"alignmentgroup\": \"True\", \"hovertemplate\": \"stage=%{x}<br>duration=%{y}<extra></extra>\", \"legendgroup\": \"3b\", \"marker\": {\"color\": \"#FFA15A\"}, \"name\": \"3b\", \"notched\": false, \"offsetgroup\": \"3b\", \"orientation\": \"v\", \"showlegend\": true, \"type\": \"box\", \"x\": [\"3b\", \"3b\", \"3b\", \"3b\", \"3b\", \"3b\", \"3b\"], \"x0\": \" \", \"xaxis\": \"x\", \"y\": [-1976.0, 3191.0, -658.0, 3072.0, 2146.0, 1637.0, -10.0], \"y0\": \" \", \"yaxis\": \"y\"}, {\"alignmentgroup\": \"True\", \"hovertemplate\": \"stage=%{x}<br>duration=%{y}<extra></extra>\", \"legendgroup\": \"4\", \"marker\": {\"color\": \"#19d3f3\"}, \"name\": \"4\", \"notched\": false, \"offsetgroup\": \"4\", \"orientation\": \"v\", \"showlegend\": true, \"type\": \"box\", \"x\": [\"4\", \"4\", \"4\", \"4\", \"4\", \"4\", \"4\", \"4\", \"4\", \"4\", \"4\", \"4\", \"4\", \"4\", \"4\", \"4\"], \"x0\": \" \", \"xaxis\": \"x\", \"y\": [2224.0, 1841.0, 381.0, -14.0, 2337.0, 1078.0, 786.0, 1183.0, 1755.0, 305.0, 653.0, 1556.0, 787.0, 1942.0, 639.0, 490.0], \"y0\": \" \", \"yaxis\": \"y\"}, {\"alignmentgroup\": \"True\", \"hovertemplate\": \"stage=%{x}<br>duration=%{y}<extra></extra>\", \"legendgroup\": \"5\", \"marker\": {\"color\": \"#FF6692\"}, \"name\": \"5\", \"notched\": false, \"offsetgroup\": \"5\", \"orientation\": \"v\", \"showlegend\": true, \"type\": \"box\", \"x\": [\"5\", \"5\", \"5\", \"5\", \"5\", \"5\", \"5\", \"5\", \"5\", \"5\", \"5\", \"5\", \"5\", \"5\", \"5\", \"5\", \"5\", \"5\"], \"x0\": \" \", \"xaxis\": \"x\", \"y\": [1908.0, 599.0, 1040.0, 923.0, 2200.0, 1543.0, 387.0, 415.0, 1397.0, 56.0, 1362.0, -23.0, 1731.0, 1792.0, 271.0, -101.0, 1513.0, 1809.0], \"y0\": \" \", \"yaxis\": \"y\"}],                        {\"boxmode\": \"overlay\", \"legend\": {\"title\": {\"text\": \"stage\"}, \"tracegroupgap\": 0}, \"margin\": {\"t\": 60}, \"template\": {\"data\": {\"bar\": [{\"error_x\": {\"color\": \"#2a3f5f\"}, \"error_y\": {\"color\": \"#2a3f5f\"}, \"marker\": {\"line\": {\"color\": \"#E5ECF6\", \"width\": 0.5}}, \"type\": \"bar\"}], \"barpolar\": [{\"marker\": {\"line\": {\"color\": \"#E5ECF6\", \"width\": 0.5}}, \"type\": \"barpolar\"}], \"carpet\": [{\"aaxis\": {\"endlinecolor\": \"#2a3f5f\", \"gridcolor\": \"white\", \"linecolor\": \"white\", \"minorgridcolor\": \"white\", \"startlinecolor\": \"#2a3f5f\"}, \"baxis\": {\"endlinecolor\": \"#2a3f5f\", \"gridcolor\": \"white\", \"linecolor\": \"white\", \"minorgridcolor\": \"white\", \"startlinecolor\": \"#2a3f5f\"}, \"type\": \"carpet\"}], \"choropleth\": [{\"colorbar\": {\"outlinewidth\": 0, \"ticks\": \"\"}, \"type\": \"choropleth\"}], \"contour\": [{\"colorbar\": {\"outlinewidth\": 0, \"ticks\": \"\"}, \"colorscale\": [[0.0, \"#0d0887\"], [0.1111111111111111, \"#46039f\"], [0.2222222222222222, \"#7201a8\"], [0.3333333333333333, \"#9c179e\"], [0.4444444444444444, \"#bd3786\"], [0.5555555555555556, \"#d8576b\"], [0.6666666666666666, \"#ed7953\"], [0.7777777777777778, \"#fb9f3a\"], [0.8888888888888888, \"#fdca26\"], [1.0, \"#f0f921\"]], \"type\": \"contour\"}], \"contourcarpet\": [{\"colorbar\": {\"outlinewidth\": 0, \"ticks\": \"\"}, \"type\": \"contourcarpet\"}], \"heatmap\": [{\"colorbar\": {\"outlinewidth\": 0, \"ticks\": \"\"}, \"colorscale\": [[0.0, \"#0d0887\"], [0.1111111111111111, \"#46039f\"], [0.2222222222222222, \"#7201a8\"], [0.3333333333333333, \"#9c179e\"], [0.4444444444444444, \"#bd3786\"], [0.5555555555555556, \"#d8576b\"], [0.6666666666666666, \"#ed7953\"], [0.7777777777777778, \"#fb9f3a\"], [0.8888888888888888, \"#fdca26\"], [1.0, \"#f0f921\"]], \"type\": \"heatmap\"}], \"heatmapgl\": [{\"colorbar\": {\"outlinewidth\": 0, \"ticks\": \"\"}, \"colorscale\": [[0.0, \"#0d0887\"], [0.1111111111111111, \"#46039f\"], [0.2222222222222222, \"#7201a8\"], [0.3333333333333333, \"#9c179e\"], [0.4444444444444444, \"#bd3786\"], [0.5555555555555556, \"#d8576b\"], [0.6666666666666666, \"#ed7953\"], [0.7777777777777778, \"#fb9f3a\"], [0.8888888888888888, \"#fdca26\"], [1.0, \"#f0f921\"]], \"type\": \"heatmapgl\"}], \"histogram\": [{\"marker\": {\"colorbar\": {\"outlinewidth\": 0, \"ticks\": \"\"}}, \"type\": \"histogram\"}], \"histogram2d\": [{\"colorbar\": {\"outlinewidth\": 0, \"ticks\": \"\"}, \"colorscale\": [[0.0, \"#0d0887\"], [0.1111111111111111, \"#46039f\"], [0.2222222222222222, \"#7201a8\"], [0.3333333333333333, \"#9c179e\"], [0.4444444444444444, \"#bd3786\"], [0.5555555555555556, \"#d8576b\"], [0.6666666666666666, \"#ed7953\"], [0.7777777777777778, \"#fb9f3a\"], [0.8888888888888888, \"#fdca26\"], [1.0, \"#f0f921\"]], \"type\": \"histogram2d\"}], \"histogram2dcontour\": [{\"colorbar\": {\"outlinewidth\": 0, \"ticks\": \"\"}, \"colorscale\": [[0.0, \"#0d0887\"], [0.1111111111111111, \"#46039f\"], [0.2222222222222222, \"#7201a8\"], [0.3333333333333333, \"#9c179e\"], [0.4444444444444444, \"#bd3786\"], [0.5555555555555556, \"#d8576b\"], [0.6666666666666666, \"#ed7953\"], [0.7777777777777778, \"#fb9f3a\"], [0.8888888888888888, \"#fdca26\"], [1.0, \"#f0f921\"]], \"type\": \"histogram2dcontour\"}], \"mesh3d\": [{\"colorbar\": {\"outlinewidth\": 0, \"ticks\": \"\"}, \"type\": \"mesh3d\"}], \"parcoords\": [{\"line\": {\"colorbar\": {\"outlinewidth\": 0, \"ticks\": \"\"}}, \"type\": \"parcoords\"}], \"pie\": [{\"automargin\": true, \"type\": \"pie\"}], \"scatter\": [{\"marker\": {\"colorbar\": {\"outlinewidth\": 0, \"ticks\": \"\"}}, \"type\": \"scatter\"}], \"scatter3d\": [{\"line\": {\"colorbar\": {\"outlinewidth\": 0, \"ticks\": \"\"}}, \"marker\": {\"colorbar\": {\"outlinewidth\": 0, \"ticks\": \"\"}}, \"type\": \"scatter3d\"}], \"scattercarpet\": [{\"marker\": {\"colorbar\": {\"outlinewidth\": 0, \"ticks\": \"\"}}, \"type\": \"scattercarpet\"}], \"scattergeo\": [{\"marker\": {\"colorbar\": {\"outlinewidth\": 0, \"ticks\": \"\"}}, \"type\": \"scattergeo\"}], \"scattergl\": [{\"marker\": {\"colorbar\": {\"outlinewidth\": 0, \"ticks\": \"\"}}, \"type\": \"scattergl\"}], \"scattermapbox\": [{\"marker\": {\"colorbar\": {\"outlinewidth\": 0, \"ticks\": \"\"}}, \"type\": \"scattermapbox\"}], \"scatterpolar\": [{\"marker\": {\"colorbar\": {\"outlinewidth\": 0, \"ticks\": \"\"}}, \"type\": \"scatterpolar\"}], \"scatterpolargl\": [{\"marker\": {\"colorbar\": {\"outlinewidth\": 0, \"ticks\": \"\"}}, \"type\": \"scatterpolargl\"}], \"scatterternary\": [{\"marker\": {\"colorbar\": {\"outlinewidth\": 0, \"ticks\": \"\"}}, \"type\": \"scatterternary\"}], \"surface\": [{\"colorbar\": {\"outlinewidth\": 0, \"ticks\": \"\"}, \"colorscale\": [[0.0, \"#0d0887\"], [0.1111111111111111, \"#46039f\"], [0.2222222222222222, \"#7201a8\"], [0.3333333333333333, \"#9c179e\"], [0.4444444444444444, \"#bd3786\"], [0.5555555555555556, \"#d8576b\"], [0.6666666666666666, \"#ed7953\"], [0.7777777777777778, \"#fb9f3a\"], [0.8888888888888888, \"#fdca26\"], [1.0, \"#f0f921\"]], \"type\": \"surface\"}], \"table\": [{\"cells\": {\"fill\": {\"color\": \"#EBF0F8\"}, \"line\": {\"color\": \"white\"}}, \"header\": {\"fill\": {\"color\": \"#C8D4E3\"}, \"line\": {\"color\": \"white\"}}, \"type\": \"table\"}]}, \"layout\": {\"annotationdefaults\": {\"arrowcolor\": \"#2a3f5f\", \"arrowhead\": 0, \"arrowwidth\": 1}, \"coloraxis\": {\"colorbar\": {\"outlinewidth\": 0, \"ticks\": \"\"}}, \"colorscale\": {\"diverging\": [[0, \"#8e0152\"], [0.1, \"#c51b7d\"], [0.2, \"#de77ae\"], [0.3, \"#f1b6da\"], [0.4, \"#fde0ef\"], [0.5, \"#f7f7f7\"], [0.6, \"#e6f5d0\"], [0.7, \"#b8e186\"], [0.8, \"#7fbc41\"], [0.9, \"#4d9221\"], [1, \"#276419\"]], \"sequential\": [[0.0, \"#0d0887\"], [0.1111111111111111, \"#46039f\"], [0.2222222222222222, \"#7201a8\"], [0.3333333333333333, \"#9c179e\"], [0.4444444444444444, \"#bd3786\"], [0.5555555555555556, \"#d8576b\"], [0.6666666666666666, \"#ed7953\"], [0.7777777777777778, \"#fb9f3a\"], [0.8888888888888888, \"#fdca26\"], [1.0, \"#f0f921\"]], \"sequentialminus\": [[0.0, \"#0d0887\"], [0.1111111111111111, \"#46039f\"], [0.2222222222222222, \"#7201a8\"], [0.3333333333333333, \"#9c179e\"], [0.4444444444444444, \"#bd3786\"], [0.5555555555555556, \"#d8576b\"], [0.6666666666666666, \"#ed7953\"], [0.7777777777777778, \"#fb9f3a\"], [0.8888888888888888, \"#fdca26\"], [1.0, \"#f0f921\"]]}, \"colorway\": [\"#636efa\", \"#EF553B\", \"#00cc96\", \"#ab63fa\", \"#FFA15A\", \"#19d3f3\", \"#FF6692\", \"#B6E880\", \"#FF97FF\", \"#FECB52\"], \"font\": {\"color\": \"#2a3f5f\"}, \"geo\": {\"bgcolor\": \"white\", \"lakecolor\": \"white\", \"landcolor\": \"#E5ECF6\", \"showlakes\": true, \"showland\": true, \"subunitcolor\": \"white\"}, \"hoverlabel\": {\"align\": \"left\"}, \"hovermode\": \"closest\", \"mapbox\": {\"style\": \"light\"}, \"paper_bgcolor\": \"white\", \"plot_bgcolor\": \"#E5ECF6\", \"polar\": {\"angularaxis\": {\"gridcolor\": \"white\", \"linecolor\": \"white\", \"ticks\": \"\"}, \"bgcolor\": \"#E5ECF6\", \"radialaxis\": {\"gridcolor\": \"white\", \"linecolor\": \"white\", \"ticks\": \"\"}}, \"scene\": {\"xaxis\": {\"backgroundcolor\": \"#E5ECF6\", \"gridcolor\": \"white\", \"gridwidth\": 2, \"linecolor\": \"white\", \"showbackground\": true, \"ticks\": \"\", \"zerolinecolor\": \"white\"}, \"yaxis\": {\"backgroundcolor\": \"#E5ECF6\", \"gridcolor\": \"white\", \"gridwidth\": 2, \"linecolor\": \"white\", \"showbackground\": true, \"ticks\": \"\", \"zerolinecolor\": \"white\"}, \"zaxis\": {\"backgroundcolor\": \"#E5ECF6\", \"gridcolor\": \"white\", \"gridwidth\": 2, \"linecolor\": \"white\", \"showbackground\": true, \"ticks\": \"\", \"zerolinecolor\": \"white\"}}, \"shapedefaults\": {\"line\": {\"color\": \"#2a3f5f\"}}, \"ternary\": {\"aaxis\": {\"gridcolor\": \"white\", \"linecolor\": \"white\", \"ticks\": \"\"}, \"baxis\": {\"gridcolor\": \"white\", \"linecolor\": \"white\", \"ticks\": \"\"}, \"bgcolor\": \"#E5ECF6\", \"caxis\": {\"gridcolor\": \"white\", \"linecolor\": \"white\", \"ticks\": \"\"}}, \"title\": {\"x\": 0.05}, \"xaxis\": {\"automargin\": true, \"gridcolor\": \"white\", \"linecolor\": \"white\", \"ticks\": \"\", \"title\": {\"standoff\": 15}, \"zerolinecolor\": \"white\", \"zerolinewidth\": 2}, \"yaxis\": {\"automargin\": true, \"gridcolor\": \"white\", \"linecolor\": \"white\", \"ticks\": \"\", \"title\": {\"standoff\": 15}, \"zerolinecolor\": \"white\", \"zerolinewidth\": 2}}}, \"xaxis\": {\"anchor\": \"y\", \"categoryarray\": [\"Unknown\", \"1\", \"2\", \"3a\", \"3b\", \"4\", \"5\"], \"categoryorder\": \"array\", \"domain\": [0.0, 1.0], \"title\": {\"text\": \"stage\"}}, \"yaxis\": {\"anchor\": \"x\", \"domain\": [0.0, 1.0], \"title\": {\"text\": \"duration\"}}},                        {\"responsive\": true}                    ).then(function(){\n",
       "                            \n",
       "var gd = document.getElementById('2903dde5-9762-49e8-9aa7-c1ce937104b6');\n",
       "var x = new MutationObserver(function (mutations, observer) {{\n",
       "        var display = window.getComputedStyle(gd).display;\n",
       "        if (!display || display === 'none') {{\n",
       "            console.log([gd, 'removed!']);\n",
       "            Plotly.purge(gd);\n",
       "            observer.disconnect();\n",
       "        }}\n",
       "}});\n",
       "\n",
       "// Listen for the removal of the full notebook cells\n",
       "var notebookContainer = gd.closest('#notebook-container');\n",
       "if (notebookContainer) {{\n",
       "    x.observe(notebookContainer, {childList: true});\n",
       "}}\n",
       "\n",
       "// Listen for the clearing of the current output cell\n",
       "var outputEl = gd.closest('.output');\n",
       "if (outputEl) {{\n",
       "    x.observe(outputEl, {childList: true});\n",
       "}}\n",
       "\n",
       "                        })                };                });            </script>        </div>"
      ]
     },
     "metadata": {},
     "output_type": "display_data"
    }
   ],
   "source": [
    "merged_data_t = see_duration(transplant)\n"
   ]
  },
  {
   "cell_type": "code",
   "execution_count": null,
   "metadata": {},
   "outputs": [],
   "source": []
  },
  {
   "cell_type": "code",
   "execution_count": 50,
   "metadata": {},
   "outputs": [],
   "source": [
    "basepath = r'C:\\Users\\Joyqiao\\Documents\\CMU\\RA\\HIGHMARK Trajectory claim\\HIghmark Project'\n",
    "import os\n",
    "os.chdir(basepath+'\\data\\\\cleaned_data')\n",
    "max_l = pd.read_csv('max_min_patient.csv')['max']\n",
    "def find_tma(tma):\n",
    "    find = False\n",
    "    i = 0\n",
    "    while find == False:\n",
    "        tma_max = max_l[i]\n",
    "        if tma <= tma_max:\n",
    "            data = pd.read_csv('cleaned_{}.csv'.format(i))\n",
    "\n",
    "            if tma in data['TMA_Acct']:\n",
    "                records= data[data['TMA_Acct']==tma]\n",
    "                find = True\n",
    "            else:\n",
    "                data = pd.read_csv('cleaned_16.csv')\n",
    "                records= data[data['TMA_Acct']==tma]\n",
    "                find = True\n",
    "        else:\n",
    "            i+=1\n",
    "    return records"
   ]
  },
  {
   "cell_type": "code",
   "execution_count": 51,
   "metadata": {},
   "outputs": [],
   "source": [
    "egfr = pd.read_csv(basepath+'\\\\Clinical Data\\\\Clinical Data\\\\All_egfr.csv')"
   ]
  },
  {
   "cell_type": "code",
   "execution_count": 52,
   "metadata": {},
   "outputs": [
    {
     "data": {
      "text/html": [
       "<div>\n",
       "<style scoped>\n",
       "    .dataframe tbody tr th:only-of-type {\n",
       "        vertical-align: middle;\n",
       "    }\n",
       "\n",
       "    .dataframe tbody tr th {\n",
       "        vertical-align: top;\n",
       "    }\n",
       "\n",
       "    .dataframe thead th {\n",
       "        text-align: right;\n",
       "    }\n",
       "</style>\n",
       "<table border=\"1\" class=\"dataframe\">\n",
       "  <thead>\n",
       "    <tr style=\"text-align: right;\">\n",
       "      <th></th>\n",
       "      <th>Unnamed: 0</th>\n",
       "      <th>TMA_Acct</th>\n",
       "      <th>date</th>\n",
       "      <th>egfr</th>\n",
       "      <th>source</th>\n",
       "      <th>stage</th>\n",
       "    </tr>\n",
       "  </thead>\n",
       "  <tbody>\n",
       "    <tr>\n",
       "      <th>0</th>\n",
       "      <td>16</td>\n",
       "      <td>9</td>\n",
       "      <td>2000-09-22</td>\n",
       "      <td>43.651041</td>\n",
       "      <td>TMA_Lab_Serum</td>\n",
       "      <td>3b</td>\n",
       "    </tr>\n",
       "    <tr>\n",
       "      <th>1</th>\n",
       "      <td>11</td>\n",
       "      <td>9</td>\n",
       "      <td>2000-11-15</td>\n",
       "      <td>47.448244</td>\n",
       "      <td>TMA_Lab_Serum</td>\n",
       "      <td>3a</td>\n",
       "    </tr>\n",
       "    <tr>\n",
       "      <th>2</th>\n",
       "      <td>2</td>\n",
       "      <td>9</td>\n",
       "      <td>2001-05-21</td>\n",
       "      <td>47.116106</td>\n",
       "      <td>TMA_Lab_Serum</td>\n",
       "      <td>3a</td>\n",
       "    </tr>\n",
       "    <tr>\n",
       "      <th>3</th>\n",
       "      <td>6</td>\n",
       "      <td>9</td>\n",
       "      <td>2001-10-30</td>\n",
       "      <td>47.116106</td>\n",
       "      <td>TMA_Lab_Serum</td>\n",
       "      <td>3a</td>\n",
       "    </tr>\n",
       "    <tr>\n",
       "      <th>4</th>\n",
       "      <td>12</td>\n",
       "      <td>9</td>\n",
       "      <td>2002-03-14</td>\n",
       "      <td>51.171709</td>\n",
       "      <td>TMA_Lab_Serum</td>\n",
       "      <td>3a</td>\n",
       "    </tr>\n",
       "    <tr>\n",
       "      <th>...</th>\n",
       "      <td>...</td>\n",
       "      <td>...</td>\n",
       "      <td>...</td>\n",
       "      <td>...</td>\n",
       "      <td>...</td>\n",
       "      <td>...</td>\n",
       "    </tr>\n",
       "    <tr>\n",
       "      <th>103308</th>\n",
       "      <td>8393</td>\n",
       "      <td>51580</td>\n",
       "      <td>2018-12-21 00:00:00</td>\n",
       "      <td>37.000000</td>\n",
       "      <td>TMA_Lab_Egfr</td>\n",
       "      <td>3b</td>\n",
       "    </tr>\n",
       "    <tr>\n",
       "      <th>103309</th>\n",
       "      <td>8592</td>\n",
       "      <td>52742</td>\n",
       "      <td>2018-01-30 00:00:00</td>\n",
       "      <td>45.000000</td>\n",
       "      <td>TMA_Lab_Egfr</td>\n",
       "      <td>3a</td>\n",
       "    </tr>\n",
       "    <tr>\n",
       "      <th>103310</th>\n",
       "      <td>9110</td>\n",
       "      <td>52742</td>\n",
       "      <td>2018-03-01 00:00:00</td>\n",
       "      <td>51.000000</td>\n",
       "      <td>TMA_Lab_Egfr</td>\n",
       "      <td>3a</td>\n",
       "    </tr>\n",
       "    <tr>\n",
       "      <th>103311</th>\n",
       "      <td>9805</td>\n",
       "      <td>52742</td>\n",
       "      <td>2018-09-20 00:00:00</td>\n",
       "      <td>45.000000</td>\n",
       "      <td>TMA_Lab_Egfr</td>\n",
       "      <td>3a</td>\n",
       "    </tr>\n",
       "    <tr>\n",
       "      <th>103312</th>\n",
       "      <td>9675</td>\n",
       "      <td>53388</td>\n",
       "      <td>2018-09-18 00:00:00</td>\n",
       "      <td>47.000000</td>\n",
       "      <td>TMA_Lab_Egfr</td>\n",
       "      <td>3a</td>\n",
       "    </tr>\n",
       "  </tbody>\n",
       "</table>\n",
       "<p>103313 rows × 6 columns</p>\n",
       "</div>"
      ],
      "text/plain": [
       "        Unnamed: 0  TMA_Acct                 date       egfr         source  \\\n",
       "0               16         9           2000-09-22  43.651041  TMA_Lab_Serum   \n",
       "1               11         9           2000-11-15  47.448244  TMA_Lab_Serum   \n",
       "2                2         9           2001-05-21  47.116106  TMA_Lab_Serum   \n",
       "3                6         9           2001-10-30  47.116106  TMA_Lab_Serum   \n",
       "4               12         9           2002-03-14  51.171709  TMA_Lab_Serum   \n",
       "...            ...       ...                  ...        ...            ...   \n",
       "103308        8393     51580  2018-12-21 00:00:00  37.000000   TMA_Lab_Egfr   \n",
       "103309        8592     52742  2018-01-30 00:00:00  45.000000   TMA_Lab_Egfr   \n",
       "103310        9110     52742  2018-03-01 00:00:00  51.000000   TMA_Lab_Egfr   \n",
       "103311        9805     52742  2018-09-20 00:00:00  45.000000   TMA_Lab_Egfr   \n",
       "103312        9675     53388  2018-09-18 00:00:00  47.000000   TMA_Lab_Egfr   \n",
       "\n",
       "       stage  \n",
       "0         3b  \n",
       "1         3a  \n",
       "2         3a  \n",
       "3         3a  \n",
       "4         3a  \n",
       "...      ...  \n",
       "103308    3b  \n",
       "103309    3a  \n",
       "103310    3a  \n",
       "103311    3a  \n",
       "103312    3a  \n",
       "\n",
       "[103313 rows x 6 columns]"
      ]
     },
     "execution_count": 52,
     "metadata": {},
     "output_type": "execute_result"
    }
   ],
   "source": [
    "egfr"
   ]
  },
  {
   "cell_type": "code",
   "execution_count": 53,
   "metadata": {},
   "outputs": [
    {
     "data": {
      "text/html": [
       "<div>\n",
       "<style scoped>\n",
       "    .dataframe tbody tr th:only-of-type {\n",
       "        vertical-align: middle;\n",
       "    }\n",
       "\n",
       "    .dataframe tbody tr th {\n",
       "        vertical-align: top;\n",
       "    }\n",
       "\n",
       "    .dataframe thead th {\n",
       "        text-align: right;\n",
       "    }\n",
       "</style>\n",
       "<table border=\"1\" class=\"dataframe\">\n",
       "  <thead>\n",
       "    <tr style=\"text-align: right;\">\n",
       "      <th></th>\n",
       "      <th>TMA_Acct</th>\n",
       "      <th>Days</th>\n",
       "      <th>Code</th>\n",
       "      <th>identified_date</th>\n",
       "      <th>egfr</th>\n",
       "      <th>stage</th>\n",
       "      <th>min</th>\n",
       "      <th>duration</th>\n",
       "    </tr>\n",
       "  </thead>\n",
       "  <tbody>\n",
       "    <tr>\n",
       "      <th>47</th>\n",
       "      <td>31925</td>\n",
       "      <td>2078</td>\n",
       "      <td>92</td>\n",
       "      <td>2015-09-10</td>\n",
       "      <td>103.295916</td>\n",
       "      <td>1</td>\n",
       "      <td>2010-05-11</td>\n",
       "      <td>1948.0</td>\n",
       "    </tr>\n",
       "    <tr>\n",
       "      <th>64</th>\n",
       "      <td>47019</td>\n",
       "      <td>2756</td>\n",
       "      <td>652</td>\n",
       "      <td>2017-07-19</td>\n",
       "      <td>138.000000</td>\n",
       "      <td>1</td>\n",
       "      <td>2012-09-19</td>\n",
       "      <td>1764.0</td>\n",
       "    </tr>\n",
       "  </tbody>\n",
       "</table>\n",
       "</div>"
      ],
      "text/plain": [
       "    TMA_Acct  Days Code identified_date        egfr stage        min  duration\n",
       "47     31925  2078   92      2015-09-10  103.295916     1 2010-05-11    1948.0\n",
       "64     47019  2756  652      2017-07-19  138.000000     1 2012-09-19    1764.0"
      ]
     },
     "execution_count": 53,
     "metadata": {},
     "output_type": "execute_result"
    }
   ],
   "source": [
    "merged_data_t[merged_data_t['stage'] =='1']"
   ]
  },
  {
   "cell_type": "code",
   "execution_count": 65,
   "metadata": {},
   "outputs": [
    {
     "data": {
      "application/vnd.plotly.v1+json": {
       "config": {
        "plotlyServerURL": "https://plot.ly"
       },
       "data": [
        {
         "customdata": [
          [
           "TMA_Lab_Serum"
          ],
          [
           "TMA_Lab_Serum"
          ],
          [
           "TMA_Lab_Serum"
          ],
          [
           "TMA_Lab_Egfr"
          ],
          [
           "TMA_Lab_Serum"
          ],
          [
           "TMA_Lab_Serum"
          ],
          [
           "TMA_Lab_Serum"
          ]
         ],
         "hovertemplate": "date=%{x}<br>egfr=%{y}<br>source=%{customdata[0]}<extra></extra>",
         "legendgroup": "",
         "marker": {
          "color": "#636efa",
          "symbol": "circle"
         },
         "mode": "markers",
         "name": "",
         "orientation": "v",
         "showlegend": false,
         "type": "scatter",
         "x": [
          "2010-05-11",
          "2011-05-19",
          "2011-07-12",
          "2011-07-12 00:00:00",
          "2011-11-10",
          "2012-03-12",
          "2012-08-13"
         ],
         "xaxis": "x",
         "y": [
          103.29591590813328,
          102.57284449677636,
          97.09518847609272,
          60,
          102.57284449677636,
          101.8548345852989,
          91.85932945436512
         ],
         "yaxis": "y"
        }
       ],
       "layout": {
        "legend": {
         "tracegroupgap": 0
        },
        "margin": {
         "t": 60
        },
        "template": {
         "data": {
          "bar": [
           {
            "error_x": {
             "color": "#2a3f5f"
            },
            "error_y": {
             "color": "#2a3f5f"
            },
            "marker": {
             "line": {
              "color": "#E5ECF6",
              "width": 0.5
             }
            },
            "type": "bar"
           }
          ],
          "barpolar": [
           {
            "marker": {
             "line": {
              "color": "#E5ECF6",
              "width": 0.5
             }
            },
            "type": "barpolar"
           }
          ],
          "carpet": [
           {
            "aaxis": {
             "endlinecolor": "#2a3f5f",
             "gridcolor": "white",
             "linecolor": "white",
             "minorgridcolor": "white",
             "startlinecolor": "#2a3f5f"
            },
            "baxis": {
             "endlinecolor": "#2a3f5f",
             "gridcolor": "white",
             "linecolor": "white",
             "minorgridcolor": "white",
             "startlinecolor": "#2a3f5f"
            },
            "type": "carpet"
           }
          ],
          "choropleth": [
           {
            "colorbar": {
             "outlinewidth": 0,
             "ticks": ""
            },
            "type": "choropleth"
           }
          ],
          "contour": [
           {
            "colorbar": {
             "outlinewidth": 0,
             "ticks": ""
            },
            "colorscale": [
             [
              0,
              "#0d0887"
             ],
             [
              0.1111111111111111,
              "#46039f"
             ],
             [
              0.2222222222222222,
              "#7201a8"
             ],
             [
              0.3333333333333333,
              "#9c179e"
             ],
             [
              0.4444444444444444,
              "#bd3786"
             ],
             [
              0.5555555555555556,
              "#d8576b"
             ],
             [
              0.6666666666666666,
              "#ed7953"
             ],
             [
              0.7777777777777778,
              "#fb9f3a"
             ],
             [
              0.8888888888888888,
              "#fdca26"
             ],
             [
              1,
              "#f0f921"
             ]
            ],
            "type": "contour"
           }
          ],
          "contourcarpet": [
           {
            "colorbar": {
             "outlinewidth": 0,
             "ticks": ""
            },
            "type": "contourcarpet"
           }
          ],
          "heatmap": [
           {
            "colorbar": {
             "outlinewidth": 0,
             "ticks": ""
            },
            "colorscale": [
             [
              0,
              "#0d0887"
             ],
             [
              0.1111111111111111,
              "#46039f"
             ],
             [
              0.2222222222222222,
              "#7201a8"
             ],
             [
              0.3333333333333333,
              "#9c179e"
             ],
             [
              0.4444444444444444,
              "#bd3786"
             ],
             [
              0.5555555555555556,
              "#d8576b"
             ],
             [
              0.6666666666666666,
              "#ed7953"
             ],
             [
              0.7777777777777778,
              "#fb9f3a"
             ],
             [
              0.8888888888888888,
              "#fdca26"
             ],
             [
              1,
              "#f0f921"
             ]
            ],
            "type": "heatmap"
           }
          ],
          "heatmapgl": [
           {
            "colorbar": {
             "outlinewidth": 0,
             "ticks": ""
            },
            "colorscale": [
             [
              0,
              "#0d0887"
             ],
             [
              0.1111111111111111,
              "#46039f"
             ],
             [
              0.2222222222222222,
              "#7201a8"
             ],
             [
              0.3333333333333333,
              "#9c179e"
             ],
             [
              0.4444444444444444,
              "#bd3786"
             ],
             [
              0.5555555555555556,
              "#d8576b"
             ],
             [
              0.6666666666666666,
              "#ed7953"
             ],
             [
              0.7777777777777778,
              "#fb9f3a"
             ],
             [
              0.8888888888888888,
              "#fdca26"
             ],
             [
              1,
              "#f0f921"
             ]
            ],
            "type": "heatmapgl"
           }
          ],
          "histogram": [
           {
            "marker": {
             "colorbar": {
              "outlinewidth": 0,
              "ticks": ""
             }
            },
            "type": "histogram"
           }
          ],
          "histogram2d": [
           {
            "colorbar": {
             "outlinewidth": 0,
             "ticks": ""
            },
            "colorscale": [
             [
              0,
              "#0d0887"
             ],
             [
              0.1111111111111111,
              "#46039f"
             ],
             [
              0.2222222222222222,
              "#7201a8"
             ],
             [
              0.3333333333333333,
              "#9c179e"
             ],
             [
              0.4444444444444444,
              "#bd3786"
             ],
             [
              0.5555555555555556,
              "#d8576b"
             ],
             [
              0.6666666666666666,
              "#ed7953"
             ],
             [
              0.7777777777777778,
              "#fb9f3a"
             ],
             [
              0.8888888888888888,
              "#fdca26"
             ],
             [
              1,
              "#f0f921"
             ]
            ],
            "type": "histogram2d"
           }
          ],
          "histogram2dcontour": [
           {
            "colorbar": {
             "outlinewidth": 0,
             "ticks": ""
            },
            "colorscale": [
             [
              0,
              "#0d0887"
             ],
             [
              0.1111111111111111,
              "#46039f"
             ],
             [
              0.2222222222222222,
              "#7201a8"
             ],
             [
              0.3333333333333333,
              "#9c179e"
             ],
             [
              0.4444444444444444,
              "#bd3786"
             ],
             [
              0.5555555555555556,
              "#d8576b"
             ],
             [
              0.6666666666666666,
              "#ed7953"
             ],
             [
              0.7777777777777778,
              "#fb9f3a"
             ],
             [
              0.8888888888888888,
              "#fdca26"
             ],
             [
              1,
              "#f0f921"
             ]
            ],
            "type": "histogram2dcontour"
           }
          ],
          "mesh3d": [
           {
            "colorbar": {
             "outlinewidth": 0,
             "ticks": ""
            },
            "type": "mesh3d"
           }
          ],
          "parcoords": [
           {
            "line": {
             "colorbar": {
              "outlinewidth": 0,
              "ticks": ""
             }
            },
            "type": "parcoords"
           }
          ],
          "pie": [
           {
            "automargin": true,
            "type": "pie"
           }
          ],
          "scatter": [
           {
            "marker": {
             "colorbar": {
              "outlinewidth": 0,
              "ticks": ""
             }
            },
            "type": "scatter"
           }
          ],
          "scatter3d": [
           {
            "line": {
             "colorbar": {
              "outlinewidth": 0,
              "ticks": ""
             }
            },
            "marker": {
             "colorbar": {
              "outlinewidth": 0,
              "ticks": ""
             }
            },
            "type": "scatter3d"
           }
          ],
          "scattercarpet": [
           {
            "marker": {
             "colorbar": {
              "outlinewidth": 0,
              "ticks": ""
             }
            },
            "type": "scattercarpet"
           }
          ],
          "scattergeo": [
           {
            "marker": {
             "colorbar": {
              "outlinewidth": 0,
              "ticks": ""
             }
            },
            "type": "scattergeo"
           }
          ],
          "scattergl": [
           {
            "marker": {
             "colorbar": {
              "outlinewidth": 0,
              "ticks": ""
             }
            },
            "type": "scattergl"
           }
          ],
          "scattermapbox": [
           {
            "marker": {
             "colorbar": {
              "outlinewidth": 0,
              "ticks": ""
             }
            },
            "type": "scattermapbox"
           }
          ],
          "scatterpolar": [
           {
            "marker": {
             "colorbar": {
              "outlinewidth": 0,
              "ticks": ""
             }
            },
            "type": "scatterpolar"
           }
          ],
          "scatterpolargl": [
           {
            "marker": {
             "colorbar": {
              "outlinewidth": 0,
              "ticks": ""
             }
            },
            "type": "scatterpolargl"
           }
          ],
          "scatterternary": [
           {
            "marker": {
             "colorbar": {
              "outlinewidth": 0,
              "ticks": ""
             }
            },
            "type": "scatterternary"
           }
          ],
          "surface": [
           {
            "colorbar": {
             "outlinewidth": 0,
             "ticks": ""
            },
            "colorscale": [
             [
              0,
              "#0d0887"
             ],
             [
              0.1111111111111111,
              "#46039f"
             ],
             [
              0.2222222222222222,
              "#7201a8"
             ],
             [
              0.3333333333333333,
              "#9c179e"
             ],
             [
              0.4444444444444444,
              "#bd3786"
             ],
             [
              0.5555555555555556,
              "#d8576b"
             ],
             [
              0.6666666666666666,
              "#ed7953"
             ],
             [
              0.7777777777777778,
              "#fb9f3a"
             ],
             [
              0.8888888888888888,
              "#fdca26"
             ],
             [
              1,
              "#f0f921"
             ]
            ],
            "type": "surface"
           }
          ],
          "table": [
           {
            "cells": {
             "fill": {
              "color": "#EBF0F8"
             },
             "line": {
              "color": "white"
             }
            },
            "header": {
             "fill": {
              "color": "#C8D4E3"
             },
             "line": {
              "color": "white"
             }
            },
            "type": "table"
           }
          ]
         },
         "layout": {
          "annotationdefaults": {
           "arrowcolor": "#2a3f5f",
           "arrowhead": 0,
           "arrowwidth": 1
          },
          "coloraxis": {
           "colorbar": {
            "outlinewidth": 0,
            "ticks": ""
           }
          },
          "colorscale": {
           "diverging": [
            [
             0,
             "#8e0152"
            ],
            [
             0.1,
             "#c51b7d"
            ],
            [
             0.2,
             "#de77ae"
            ],
            [
             0.3,
             "#f1b6da"
            ],
            [
             0.4,
             "#fde0ef"
            ],
            [
             0.5,
             "#f7f7f7"
            ],
            [
             0.6,
             "#e6f5d0"
            ],
            [
             0.7,
             "#b8e186"
            ],
            [
             0.8,
             "#7fbc41"
            ],
            [
             0.9,
             "#4d9221"
            ],
            [
             1,
             "#276419"
            ]
           ],
           "sequential": [
            [
             0,
             "#0d0887"
            ],
            [
             0.1111111111111111,
             "#46039f"
            ],
            [
             0.2222222222222222,
             "#7201a8"
            ],
            [
             0.3333333333333333,
             "#9c179e"
            ],
            [
             0.4444444444444444,
             "#bd3786"
            ],
            [
             0.5555555555555556,
             "#d8576b"
            ],
            [
             0.6666666666666666,
             "#ed7953"
            ],
            [
             0.7777777777777778,
             "#fb9f3a"
            ],
            [
             0.8888888888888888,
             "#fdca26"
            ],
            [
             1,
             "#f0f921"
            ]
           ],
           "sequentialminus": [
            [
             0,
             "#0d0887"
            ],
            [
             0.1111111111111111,
             "#46039f"
            ],
            [
             0.2222222222222222,
             "#7201a8"
            ],
            [
             0.3333333333333333,
             "#9c179e"
            ],
            [
             0.4444444444444444,
             "#bd3786"
            ],
            [
             0.5555555555555556,
             "#d8576b"
            ],
            [
             0.6666666666666666,
             "#ed7953"
            ],
            [
             0.7777777777777778,
             "#fb9f3a"
            ],
            [
             0.8888888888888888,
             "#fdca26"
            ],
            [
             1,
             "#f0f921"
            ]
           ]
          },
          "colorway": [
           "#636efa",
           "#EF553B",
           "#00cc96",
           "#ab63fa",
           "#FFA15A",
           "#19d3f3",
           "#FF6692",
           "#B6E880",
           "#FF97FF",
           "#FECB52"
          ],
          "font": {
           "color": "#2a3f5f"
          },
          "geo": {
           "bgcolor": "white",
           "lakecolor": "white",
           "landcolor": "#E5ECF6",
           "showlakes": true,
           "showland": true,
           "subunitcolor": "white"
          },
          "hoverlabel": {
           "align": "left"
          },
          "hovermode": "closest",
          "mapbox": {
           "style": "light"
          },
          "paper_bgcolor": "white",
          "plot_bgcolor": "#E5ECF6",
          "polar": {
           "angularaxis": {
            "gridcolor": "white",
            "linecolor": "white",
            "ticks": ""
           },
           "bgcolor": "#E5ECF6",
           "radialaxis": {
            "gridcolor": "white",
            "linecolor": "white",
            "ticks": ""
           }
          },
          "scene": {
           "xaxis": {
            "backgroundcolor": "#E5ECF6",
            "gridcolor": "white",
            "gridwidth": 2,
            "linecolor": "white",
            "showbackground": true,
            "ticks": "",
            "zerolinecolor": "white"
           },
           "yaxis": {
            "backgroundcolor": "#E5ECF6",
            "gridcolor": "white",
            "gridwidth": 2,
            "linecolor": "white",
            "showbackground": true,
            "ticks": "",
            "zerolinecolor": "white"
           },
           "zaxis": {
            "backgroundcolor": "#E5ECF6",
            "gridcolor": "white",
            "gridwidth": 2,
            "linecolor": "white",
            "showbackground": true,
            "ticks": "",
            "zerolinecolor": "white"
           }
          },
          "shapedefaults": {
           "line": {
            "color": "#2a3f5f"
           }
          },
          "ternary": {
           "aaxis": {
            "gridcolor": "white",
            "linecolor": "white",
            "ticks": ""
           },
           "baxis": {
            "gridcolor": "white",
            "linecolor": "white",
            "ticks": ""
           },
           "bgcolor": "#E5ECF6",
           "caxis": {
            "gridcolor": "white",
            "linecolor": "white",
            "ticks": ""
           }
          },
          "title": {
           "x": 0.05
          },
          "xaxis": {
           "automargin": true,
           "gridcolor": "white",
           "linecolor": "white",
           "ticks": "",
           "title": {
            "standoff": 15
           },
           "zerolinecolor": "white",
           "zerolinewidth": 2
          },
          "yaxis": {
           "automargin": true,
           "gridcolor": "white",
           "linecolor": "white",
           "ticks": "",
           "title": {
            "standoff": 15
           },
           "zerolinecolor": "white",
           "zerolinewidth": 2
          }
         }
        },
        "xaxis": {
         "anchor": "y",
         "domain": [
          0,
          1
         ],
         "title": {
          "text": "date"
         }
        },
        "yaxis": {
         "anchor": "x",
         "domain": [
          0,
          1
         ],
         "title": {
          "text": "egfr"
         }
        }
       }
      },
      "text/html": [
       "<div>                            <div id=\"f2645754-3711-4625-aa47-b0712132c99e\" class=\"plotly-graph-div\" style=\"height:525px; width:100%;\"></div>            <script type=\"text/javascript\">                require([\"plotly\"], function(Plotly) {                    window.PLOTLYENV=window.PLOTLYENV || {};                                    if (document.getElementById(\"f2645754-3711-4625-aa47-b0712132c99e\")) {                    Plotly.newPlot(                        \"f2645754-3711-4625-aa47-b0712132c99e\",                        [{\"customdata\": [[\"TMA_Lab_Serum\"], [\"TMA_Lab_Serum\"], [\"TMA_Lab_Serum\"], [\"TMA_Lab_Egfr\"], [\"TMA_Lab_Serum\"], [\"TMA_Lab_Serum\"], [\"TMA_Lab_Serum\"]], \"hovertemplate\": \"date=%{x}<br>egfr=%{y}<br>source=%{customdata[0]}<extra></extra>\", \"legendgroup\": \"\", \"marker\": {\"color\": \"#636efa\", \"symbol\": \"circle\"}, \"mode\": \"markers\", \"name\": \"\", \"orientation\": \"v\", \"showlegend\": false, \"type\": \"scatter\", \"x\": [\"2010-05-11\", \"2011-05-19\", \"2011-07-12\", \"2011-07-12 00:00:00\", \"2011-11-10\", \"2012-03-12\", \"2012-08-13\"], \"xaxis\": \"x\", \"y\": [103.29591590813328, 102.57284449677636, 97.09518847609272, 60.0, 102.57284449677636, 101.8548345852989, 91.85932945436512], \"yaxis\": \"y\"}],                        {\"legend\": {\"tracegroupgap\": 0}, \"margin\": {\"t\": 60}, \"template\": {\"data\": {\"bar\": [{\"error_x\": {\"color\": \"#2a3f5f\"}, \"error_y\": {\"color\": \"#2a3f5f\"}, \"marker\": {\"line\": {\"color\": \"#E5ECF6\", \"width\": 0.5}}, \"type\": \"bar\"}], \"barpolar\": [{\"marker\": {\"line\": {\"color\": \"#E5ECF6\", \"width\": 0.5}}, \"type\": \"barpolar\"}], \"carpet\": [{\"aaxis\": {\"endlinecolor\": \"#2a3f5f\", \"gridcolor\": \"white\", \"linecolor\": \"white\", \"minorgridcolor\": \"white\", \"startlinecolor\": \"#2a3f5f\"}, \"baxis\": {\"endlinecolor\": \"#2a3f5f\", \"gridcolor\": \"white\", \"linecolor\": \"white\", \"minorgridcolor\": \"white\", \"startlinecolor\": \"#2a3f5f\"}, \"type\": \"carpet\"}], \"choropleth\": [{\"colorbar\": {\"outlinewidth\": 0, \"ticks\": \"\"}, \"type\": \"choropleth\"}], \"contour\": [{\"colorbar\": {\"outlinewidth\": 0, \"ticks\": \"\"}, \"colorscale\": [[0.0, \"#0d0887\"], [0.1111111111111111, \"#46039f\"], [0.2222222222222222, \"#7201a8\"], [0.3333333333333333, \"#9c179e\"], [0.4444444444444444, \"#bd3786\"], [0.5555555555555556, \"#d8576b\"], [0.6666666666666666, \"#ed7953\"], [0.7777777777777778, \"#fb9f3a\"], [0.8888888888888888, \"#fdca26\"], [1.0, \"#f0f921\"]], \"type\": \"contour\"}], \"contourcarpet\": [{\"colorbar\": {\"outlinewidth\": 0, \"ticks\": \"\"}, \"type\": \"contourcarpet\"}], \"heatmap\": [{\"colorbar\": {\"outlinewidth\": 0, \"ticks\": \"\"}, \"colorscale\": [[0.0, \"#0d0887\"], [0.1111111111111111, \"#46039f\"], [0.2222222222222222, \"#7201a8\"], [0.3333333333333333, \"#9c179e\"], [0.4444444444444444, \"#bd3786\"], [0.5555555555555556, \"#d8576b\"], [0.6666666666666666, \"#ed7953\"], [0.7777777777777778, \"#fb9f3a\"], [0.8888888888888888, \"#fdca26\"], [1.0, \"#f0f921\"]], \"type\": \"heatmap\"}], \"heatmapgl\": [{\"colorbar\": {\"outlinewidth\": 0, \"ticks\": \"\"}, \"colorscale\": [[0.0, \"#0d0887\"], [0.1111111111111111, \"#46039f\"], [0.2222222222222222, \"#7201a8\"], [0.3333333333333333, \"#9c179e\"], [0.4444444444444444, \"#bd3786\"], [0.5555555555555556, \"#d8576b\"], [0.6666666666666666, \"#ed7953\"], [0.7777777777777778, \"#fb9f3a\"], [0.8888888888888888, \"#fdca26\"], [1.0, \"#f0f921\"]], \"type\": \"heatmapgl\"}], \"histogram\": [{\"marker\": {\"colorbar\": {\"outlinewidth\": 0, \"ticks\": \"\"}}, \"type\": \"histogram\"}], \"histogram2d\": [{\"colorbar\": {\"outlinewidth\": 0, \"ticks\": \"\"}, \"colorscale\": [[0.0, \"#0d0887\"], [0.1111111111111111, \"#46039f\"], [0.2222222222222222, \"#7201a8\"], [0.3333333333333333, \"#9c179e\"], [0.4444444444444444, \"#bd3786\"], [0.5555555555555556, \"#d8576b\"], [0.6666666666666666, \"#ed7953\"], [0.7777777777777778, \"#fb9f3a\"], [0.8888888888888888, \"#fdca26\"], [1.0, \"#f0f921\"]], \"type\": \"histogram2d\"}], \"histogram2dcontour\": [{\"colorbar\": {\"outlinewidth\": 0, \"ticks\": \"\"}, \"colorscale\": [[0.0, \"#0d0887\"], [0.1111111111111111, \"#46039f\"], [0.2222222222222222, \"#7201a8\"], [0.3333333333333333, \"#9c179e\"], [0.4444444444444444, \"#bd3786\"], [0.5555555555555556, \"#d8576b\"], [0.6666666666666666, \"#ed7953\"], [0.7777777777777778, \"#fb9f3a\"], [0.8888888888888888, \"#fdca26\"], [1.0, \"#f0f921\"]], \"type\": \"histogram2dcontour\"}], \"mesh3d\": [{\"colorbar\": {\"outlinewidth\": 0, \"ticks\": \"\"}, \"type\": \"mesh3d\"}], \"parcoords\": [{\"line\": {\"colorbar\": {\"outlinewidth\": 0, \"ticks\": \"\"}}, \"type\": \"parcoords\"}], \"pie\": [{\"automargin\": true, \"type\": \"pie\"}], \"scatter\": [{\"marker\": {\"colorbar\": {\"outlinewidth\": 0, \"ticks\": \"\"}}, \"type\": \"scatter\"}], \"scatter3d\": [{\"line\": {\"colorbar\": {\"outlinewidth\": 0, \"ticks\": \"\"}}, \"marker\": {\"colorbar\": {\"outlinewidth\": 0, \"ticks\": \"\"}}, \"type\": \"scatter3d\"}], \"scattercarpet\": [{\"marker\": {\"colorbar\": {\"outlinewidth\": 0, \"ticks\": \"\"}}, \"type\": \"scattercarpet\"}], \"scattergeo\": [{\"marker\": {\"colorbar\": {\"outlinewidth\": 0, \"ticks\": \"\"}}, \"type\": \"scattergeo\"}], \"scattergl\": [{\"marker\": {\"colorbar\": {\"outlinewidth\": 0, \"ticks\": \"\"}}, \"type\": \"scattergl\"}], \"scattermapbox\": [{\"marker\": {\"colorbar\": {\"outlinewidth\": 0, \"ticks\": \"\"}}, \"type\": \"scattermapbox\"}], \"scatterpolar\": [{\"marker\": {\"colorbar\": {\"outlinewidth\": 0, \"ticks\": \"\"}}, \"type\": \"scatterpolar\"}], \"scatterpolargl\": [{\"marker\": {\"colorbar\": {\"outlinewidth\": 0, \"ticks\": \"\"}}, \"type\": \"scatterpolargl\"}], \"scatterternary\": [{\"marker\": {\"colorbar\": {\"outlinewidth\": 0, \"ticks\": \"\"}}, \"type\": \"scatterternary\"}], \"surface\": [{\"colorbar\": {\"outlinewidth\": 0, \"ticks\": \"\"}, \"colorscale\": [[0.0, \"#0d0887\"], [0.1111111111111111, \"#46039f\"], [0.2222222222222222, \"#7201a8\"], [0.3333333333333333, \"#9c179e\"], [0.4444444444444444, \"#bd3786\"], [0.5555555555555556, \"#d8576b\"], [0.6666666666666666, \"#ed7953\"], [0.7777777777777778, \"#fb9f3a\"], [0.8888888888888888, \"#fdca26\"], [1.0, \"#f0f921\"]], \"type\": \"surface\"}], \"table\": [{\"cells\": {\"fill\": {\"color\": \"#EBF0F8\"}, \"line\": {\"color\": \"white\"}}, \"header\": {\"fill\": {\"color\": \"#C8D4E3\"}, \"line\": {\"color\": \"white\"}}, \"type\": \"table\"}]}, \"layout\": {\"annotationdefaults\": {\"arrowcolor\": \"#2a3f5f\", \"arrowhead\": 0, \"arrowwidth\": 1}, \"coloraxis\": {\"colorbar\": {\"outlinewidth\": 0, \"ticks\": \"\"}}, \"colorscale\": {\"diverging\": [[0, \"#8e0152\"], [0.1, \"#c51b7d\"], [0.2, \"#de77ae\"], [0.3, \"#f1b6da\"], [0.4, \"#fde0ef\"], [0.5, \"#f7f7f7\"], [0.6, \"#e6f5d0\"], [0.7, \"#b8e186\"], [0.8, \"#7fbc41\"], [0.9, \"#4d9221\"], [1, \"#276419\"]], \"sequential\": [[0.0, \"#0d0887\"], [0.1111111111111111, \"#46039f\"], [0.2222222222222222, \"#7201a8\"], [0.3333333333333333, \"#9c179e\"], [0.4444444444444444, \"#bd3786\"], [0.5555555555555556, \"#d8576b\"], [0.6666666666666666, \"#ed7953\"], [0.7777777777777778, \"#fb9f3a\"], [0.8888888888888888, \"#fdca26\"], [1.0, \"#f0f921\"]], \"sequentialminus\": [[0.0, \"#0d0887\"], [0.1111111111111111, \"#46039f\"], [0.2222222222222222, \"#7201a8\"], [0.3333333333333333, \"#9c179e\"], [0.4444444444444444, \"#bd3786\"], [0.5555555555555556, \"#d8576b\"], [0.6666666666666666, \"#ed7953\"], [0.7777777777777778, \"#fb9f3a\"], [0.8888888888888888, \"#fdca26\"], [1.0, \"#f0f921\"]]}, \"colorway\": [\"#636efa\", \"#EF553B\", \"#00cc96\", \"#ab63fa\", \"#FFA15A\", \"#19d3f3\", \"#FF6692\", \"#B6E880\", \"#FF97FF\", \"#FECB52\"], \"font\": {\"color\": \"#2a3f5f\"}, \"geo\": {\"bgcolor\": \"white\", \"lakecolor\": \"white\", \"landcolor\": \"#E5ECF6\", \"showlakes\": true, \"showland\": true, \"subunitcolor\": \"white\"}, \"hoverlabel\": {\"align\": \"left\"}, \"hovermode\": \"closest\", \"mapbox\": {\"style\": \"light\"}, \"paper_bgcolor\": \"white\", \"plot_bgcolor\": \"#E5ECF6\", \"polar\": {\"angularaxis\": {\"gridcolor\": \"white\", \"linecolor\": \"white\", \"ticks\": \"\"}, \"bgcolor\": \"#E5ECF6\", \"radialaxis\": {\"gridcolor\": \"white\", \"linecolor\": \"white\", \"ticks\": \"\"}}, \"scene\": {\"xaxis\": {\"backgroundcolor\": \"#E5ECF6\", \"gridcolor\": \"white\", \"gridwidth\": 2, \"linecolor\": \"white\", \"showbackground\": true, \"ticks\": \"\", \"zerolinecolor\": \"white\"}, \"yaxis\": {\"backgroundcolor\": \"#E5ECF6\", \"gridcolor\": \"white\", \"gridwidth\": 2, \"linecolor\": \"white\", \"showbackground\": true, \"ticks\": \"\", \"zerolinecolor\": \"white\"}, \"zaxis\": {\"backgroundcolor\": \"#E5ECF6\", \"gridcolor\": \"white\", \"gridwidth\": 2, \"linecolor\": \"white\", \"showbackground\": true, \"ticks\": \"\", \"zerolinecolor\": \"white\"}}, \"shapedefaults\": {\"line\": {\"color\": \"#2a3f5f\"}}, \"ternary\": {\"aaxis\": {\"gridcolor\": \"white\", \"linecolor\": \"white\", \"ticks\": \"\"}, \"baxis\": {\"gridcolor\": \"white\", \"linecolor\": \"white\", \"ticks\": \"\"}, \"bgcolor\": \"#E5ECF6\", \"caxis\": {\"gridcolor\": \"white\", \"linecolor\": \"white\", \"ticks\": \"\"}}, \"title\": {\"x\": 0.05}, \"xaxis\": {\"automargin\": true, \"gridcolor\": \"white\", \"linecolor\": \"white\", \"ticks\": \"\", \"title\": {\"standoff\": 15}, \"zerolinecolor\": \"white\", \"zerolinewidth\": 2}, \"yaxis\": {\"automargin\": true, \"gridcolor\": \"white\", \"linecolor\": \"white\", \"ticks\": \"\", \"title\": {\"standoff\": 15}, \"zerolinecolor\": \"white\", \"zerolinewidth\": 2}}}, \"xaxis\": {\"anchor\": \"y\", \"domain\": [0.0, 1.0], \"title\": {\"text\": \"date\"}}, \"yaxis\": {\"anchor\": \"x\", \"domain\": [0.0, 1.0], \"title\": {\"text\": \"egfr\"}}},                        {\"responsive\": true}                    ).then(function(){\n",
       "                            \n",
       "var gd = document.getElementById('f2645754-3711-4625-aa47-b0712132c99e');\n",
       "var x = new MutationObserver(function (mutations, observer) {{\n",
       "        var display = window.getComputedStyle(gd).display;\n",
       "        if (!display || display === 'none') {{\n",
       "            console.log([gd, 'removed!']);\n",
       "            Plotly.purge(gd);\n",
       "            observer.disconnect();\n",
       "        }}\n",
       "}});\n",
       "\n",
       "// Listen for the removal of the full notebook cells\n",
       "var notebookContainer = gd.closest('#notebook-container');\n",
       "if (notebookContainer) {{\n",
       "    x.observe(notebookContainer, {childList: true});\n",
       "}}\n",
       "\n",
       "// Listen for the clearing of the current output cell\n",
       "var outputEl = gd.closest('.output');\n",
       "if (outputEl) {{\n",
       "    x.observe(outputEl, {childList: true});\n",
       "}}\n",
       "\n",
       "                        })                };                });            </script>        </div>"
      ]
     },
     "metadata": {},
     "output_type": "display_data"
    },
    {
     "name": "stderr",
     "output_type": "stream",
     "text": [
      "C:\\Users\\Joyqiao\\anaconda3\\lib\\site-packages\\IPython\\core\\interactiveshell.py:3254: DtypeWarning:\n",
      "\n",
      "Columns (10,12,13,14,15,16,17,18,19,20,21,23,25,39,40,41,42,43,44,45,46,47,48,49,52,53) have mixed types.Specify dtype option on import or set low_memory=False.\n",
      "\n"
     ]
    },
    {
     "data": {
      "text/html": [
       "<div>\n",
       "<style scoped>\n",
       "    .dataframe tbody tr th:only-of-type {\n",
       "        vertical-align: middle;\n",
       "    }\n",
       "\n",
       "    .dataframe tbody tr th {\n",
       "        vertical-align: top;\n",
       "    }\n",
       "\n",
       "    .dataframe thead th {\n",
       "        text-align: right;\n",
       "    }\n",
       "</style>\n",
       "<table border=\"1\" class=\"dataframe\">\n",
       "  <thead>\n",
       "    <tr style=\"text-align: right;\">\n",
       "      <th></th>\n",
       "      <th>Unnamed: 0</th>\n",
       "      <th>Unnamed: 0.1</th>\n",
       "      <th>claim_type</th>\n",
       "      <th>line_number</th>\n",
       "      <th>place_service</th>\n",
       "      <th>eacl_prv_alcrg_at</th>\n",
       "      <th>mmn_mr_hcg_catg_cd</th>\n",
       "      <th>proc_code</th>\n",
       "      <th>proc_code_format</th>\n",
       "      <th>prin_proc_mod</th>\n",
       "      <th>ip_prn_proc_code</th>\n",
       "      <th>ip_prn_proc_format_cd</th>\n",
       "      <th>ip_other_proc1</th>\n",
       "      <th>ip_other_proc2</th>\n",
       "      <th>ip_other_proc3</th>\n",
       "      <th>ip_other_proc4</th>\n",
       "      <th>ip_other_proc5</th>\n",
       "      <th>ip_other_proc6</th>\n",
       "      <th>ip_other_proc7</th>\n",
       "      <th>ip_other_proc8</th>\n",
       "      <th>ip_other_proc9</th>\n",
       "      <th>ip_other_proc10</th>\n",
       "      <th>pri_diag_cd</th>\n",
       "      <th>prim_diag_qfr_cd</th>\n",
       "      <th>admitting_diag_cd</th>\n",
       "      <th>admi_diag_qfr_cd</th>\n",
       "      <th>dx1</th>\n",
       "      <th>dx2</th>\n",
       "      <th>dx3</th>\n",
       "      <th>dx4</th>\n",
       "      <th>dx5</th>\n",
       "      <th>dx6</th>\n",
       "      <th>dx7</th>\n",
       "      <th>dx8</th>\n",
       "      <th>dx9</th>\n",
       "      <th>dx10</th>\n",
       "      <th>dx11</th>\n",
       "      <th>dx12</th>\n",
       "      <th>dx13</th>\n",
       "      <th>dx14</th>\n",
       "      <th>dx15</th>\n",
       "      <th>dx16</th>\n",
       "      <th>dx17</th>\n",
       "      <th>dx18</th>\n",
       "      <th>dx19</th>\n",
       "      <th>dx20</th>\n",
       "      <th>dx21</th>\n",
       "      <th>dx22</th>\n",
       "      <th>dx23</th>\n",
       "      <th>dx24</th>\n",
       "      <th>dx25</th>\n",
       "      <th>dx26</th>\n",
       "      <th>diag_qfr_cd_001</th>\n",
       "      <th>admission_source</th>\n",
       "      <th>admission_type</th>\n",
       "      <th>discharge_status</th>\n",
       "      <th>current_drg</th>\n",
       "      <th>bill_provider_specialty</th>\n",
       "      <th>TMA_Acct</th>\n",
       "      <th>claim_number_deidentified</th>\n",
       "      <th>provider_bill_npi_deidentified</th>\n",
       "      <th>icrd_dt_deidentified</th>\n",
       "      <th>admission_date_deidentified</th>\n",
       "      <th>discharge_date_deidentified</th>\n",
       "      <th>date</th>\n",
       "    </tr>\n",
       "  </thead>\n",
       "  <tbody>\n",
       "    <tr>\n",
       "      <th>204447</th>\n",
       "      <td>208540</td>\n",
       "      <td>7095001</td>\n",
       "      <td>O</td>\n",
       "      <td>3</td>\n",
       "      <td>22</td>\n",
       "      <td>106.04</td>\n",
       "      <td>O41b</td>\n",
       "      <td>36430</td>\n",
       "      <td>H</td>\n",
       "      <td>0</td>\n",
       "      <td>NaN</td>\n",
       "      <td>NaN</td>\n",
       "      <td>NaN</td>\n",
       "      <td>NaN</td>\n",
       "      <td>NaN</td>\n",
       "      <td>NaN</td>\n",
       "      <td>NaN</td>\n",
       "      <td>NaN</td>\n",
       "      <td>NaN</td>\n",
       "      <td>NaN</td>\n",
       "      <td>NaN</td>\n",
       "      <td>NaN</td>\n",
       "      <td>2859</td>\n",
       "      <td>9</td>\n",
       "      <td>NaN</td>\n",
       "      <td>NaN</td>\n",
       "      <td>NaN</td>\n",
       "      <td>NaN</td>\n",
       "      <td>NaN</td>\n",
       "      <td>NaN</td>\n",
       "      <td>NaN</td>\n",
       "      <td>NaN</td>\n",
       "      <td>NaN</td>\n",
       "      <td>NaN</td>\n",
       "      <td>NaN</td>\n",
       "      <td>NaN</td>\n",
       "      <td>NaN</td>\n",
       "      <td>NaN</td>\n",
       "      <td>NaN</td>\n",
       "      <td>NaN</td>\n",
       "      <td>NaN</td>\n",
       "      <td>NaN</td>\n",
       "      <td>NaN</td>\n",
       "      <td>NaN</td>\n",
       "      <td>NaN</td>\n",
       "      <td>NaN</td>\n",
       "      <td>NaN</td>\n",
       "      <td>NaN</td>\n",
       "      <td>NaN</td>\n",
       "      <td>NaN</td>\n",
       "      <td>NaN</td>\n",
       "      <td>NaN</td>\n",
       "      <td>NaN</td>\n",
       "      <td>1</td>\n",
       "      <td>3.0</td>\n",
       "      <td>1.0</td>\n",
       "      <td>NaN</td>\n",
       "      <td>301.0</td>\n",
       "      <td>31925.0</td>\n",
       "      <td>4466910</td>\n",
       "      <td>45637</td>\n",
       "      <td>1639</td>\n",
       "      <td>NaN</td>\n",
       "      <td>NaN</td>\n",
       "      <td>2014-06-28</td>\n",
       "    </tr>\n",
       "    <tr>\n",
       "      <th>204448</th>\n",
       "      <td>208541</td>\n",
       "      <td>7095004</td>\n",
       "      <td>O</td>\n",
       "      <td>3</td>\n",
       "      <td>22</td>\n",
       "      <td>12.36</td>\n",
       "      <td>O15</td>\n",
       "      <td>85025</td>\n",
       "      <td>H</td>\n",
       "      <td>0</td>\n",
       "      <td>NaN</td>\n",
       "      <td>NaN</td>\n",
       "      <td>NaN</td>\n",
       "      <td>NaN</td>\n",
       "      <td>NaN</td>\n",
       "      <td>NaN</td>\n",
       "      <td>NaN</td>\n",
       "      <td>NaN</td>\n",
       "      <td>NaN</td>\n",
       "      <td>NaN</td>\n",
       "      <td>NaN</td>\n",
       "      <td>NaN</td>\n",
       "      <td>23875</td>\n",
       "      <td>9</td>\n",
       "      <td>NaN</td>\n",
       "      <td>NaN</td>\n",
       "      <td>2859</td>\n",
       "      <td>NaN</td>\n",
       "      <td>NaN</td>\n",
       "      <td>NaN</td>\n",
       "      <td>NaN</td>\n",
       "      <td>NaN</td>\n",
       "      <td>NaN</td>\n",
       "      <td>NaN</td>\n",
       "      <td>NaN</td>\n",
       "      <td>NaN</td>\n",
       "      <td>NaN</td>\n",
       "      <td>NaN</td>\n",
       "      <td>NaN</td>\n",
       "      <td>NaN</td>\n",
       "      <td>NaN</td>\n",
       "      <td>NaN</td>\n",
       "      <td>NaN</td>\n",
       "      <td>NaN</td>\n",
       "      <td>NaN</td>\n",
       "      <td>NaN</td>\n",
       "      <td>NaN</td>\n",
       "      <td>NaN</td>\n",
       "      <td>NaN</td>\n",
       "      <td>NaN</td>\n",
       "      <td>NaN</td>\n",
       "      <td>NaN</td>\n",
       "      <td>9</td>\n",
       "      <td>1</td>\n",
       "      <td>3.0</td>\n",
       "      <td>1.0</td>\n",
       "      <td>NaN</td>\n",
       "      <td>302.0</td>\n",
       "      <td>31925.0</td>\n",
       "      <td>3627998</td>\n",
       "      <td>15009</td>\n",
       "      <td>1624</td>\n",
       "      <td>NaN</td>\n",
       "      <td>NaN</td>\n",
       "      <td>2014-06-13</td>\n",
       "    </tr>\n",
       "    <tr>\n",
       "      <th>204449</th>\n",
       "      <td>208542</td>\n",
       "      <td>7095005</td>\n",
       "      <td>O</td>\n",
       "      <td>3</td>\n",
       "      <td>22</td>\n",
       "      <td>12.36</td>\n",
       "      <td>O15</td>\n",
       "      <td>85025</td>\n",
       "      <td>H</td>\n",
       "      <td>0</td>\n",
       "      <td>NaN</td>\n",
       "      <td>NaN</td>\n",
       "      <td>NaN</td>\n",
       "      <td>NaN</td>\n",
       "      <td>NaN</td>\n",
       "      <td>NaN</td>\n",
       "      <td>NaN</td>\n",
       "      <td>NaN</td>\n",
       "      <td>NaN</td>\n",
       "      <td>NaN</td>\n",
       "      <td>NaN</td>\n",
       "      <td>NaN</td>\n",
       "      <td>23875</td>\n",
       "      <td>9</td>\n",
       "      <td>NaN</td>\n",
       "      <td>NaN</td>\n",
       "      <td>2859</td>\n",
       "      <td>NaN</td>\n",
       "      <td>NaN</td>\n",
       "      <td>NaN</td>\n",
       "      <td>NaN</td>\n",
       "      <td>NaN</td>\n",
       "      <td>NaN</td>\n",
       "      <td>NaN</td>\n",
       "      <td>NaN</td>\n",
       "      <td>NaN</td>\n",
       "      <td>NaN</td>\n",
       "      <td>NaN</td>\n",
       "      <td>NaN</td>\n",
       "      <td>NaN</td>\n",
       "      <td>NaN</td>\n",
       "      <td>NaN</td>\n",
       "      <td>NaN</td>\n",
       "      <td>NaN</td>\n",
       "      <td>NaN</td>\n",
       "      <td>NaN</td>\n",
       "      <td>NaN</td>\n",
       "      <td>NaN</td>\n",
       "      <td>NaN</td>\n",
       "      <td>NaN</td>\n",
       "      <td>NaN</td>\n",
       "      <td>NaN</td>\n",
       "      <td>9</td>\n",
       "      <td>1</td>\n",
       "      <td>3.0</td>\n",
       "      <td>1.0</td>\n",
       "      <td>NaN</td>\n",
       "      <td>302.0</td>\n",
       "      <td>31925.0</td>\n",
       "      <td>5112089</td>\n",
       "      <td>15009</td>\n",
       "      <td>1638</td>\n",
       "      <td>NaN</td>\n",
       "      <td>NaN</td>\n",
       "      <td>2014-06-27</td>\n",
       "    </tr>\n",
       "    <tr>\n",
       "      <th>204450</th>\n",
       "      <td>208543</td>\n",
       "      <td>7095006</td>\n",
       "      <td>O</td>\n",
       "      <td>3</td>\n",
       "      <td>22</td>\n",
       "      <td>12.36</td>\n",
       "      <td>O15</td>\n",
       "      <td>85025</td>\n",
       "      <td>H</td>\n",
       "      <td>0</td>\n",
       "      <td>NaN</td>\n",
       "      <td>NaN</td>\n",
       "      <td>NaN</td>\n",
       "      <td>NaN</td>\n",
       "      <td>NaN</td>\n",
       "      <td>NaN</td>\n",
       "      <td>NaN</td>\n",
       "      <td>NaN</td>\n",
       "      <td>NaN</td>\n",
       "      <td>NaN</td>\n",
       "      <td>NaN</td>\n",
       "      <td>NaN</td>\n",
       "      <td>23875</td>\n",
       "      <td>9</td>\n",
       "      <td>NaN</td>\n",
       "      <td>NaN</td>\n",
       "      <td>2859</td>\n",
       "      <td>NaN</td>\n",
       "      <td>NaN</td>\n",
       "      <td>NaN</td>\n",
       "      <td>NaN</td>\n",
       "      <td>NaN</td>\n",
       "      <td>NaN</td>\n",
       "      <td>NaN</td>\n",
       "      <td>NaN</td>\n",
       "      <td>NaN</td>\n",
       "      <td>NaN</td>\n",
       "      <td>NaN</td>\n",
       "      <td>NaN</td>\n",
       "      <td>NaN</td>\n",
       "      <td>NaN</td>\n",
       "      <td>NaN</td>\n",
       "      <td>NaN</td>\n",
       "      <td>NaN</td>\n",
       "      <td>NaN</td>\n",
       "      <td>NaN</td>\n",
       "      <td>NaN</td>\n",
       "      <td>NaN</td>\n",
       "      <td>NaN</td>\n",
       "      <td>NaN</td>\n",
       "      <td>NaN</td>\n",
       "      <td>NaN</td>\n",
       "      <td>9</td>\n",
       "      <td>1</td>\n",
       "      <td>3.0</td>\n",
       "      <td>1.0</td>\n",
       "      <td>NaN</td>\n",
       "      <td>302.0</td>\n",
       "      <td>31925.0</td>\n",
       "      <td>5286343</td>\n",
       "      <td>15009</td>\n",
       "      <td>1617</td>\n",
       "      <td>NaN</td>\n",
       "      <td>NaN</td>\n",
       "      <td>2014-06-06</td>\n",
       "    </tr>\n",
       "    <tr>\n",
       "      <th>204451</th>\n",
       "      <td>208544</td>\n",
       "      <td>7095007</td>\n",
       "      <td>O</td>\n",
       "      <td>3</td>\n",
       "      <td>22</td>\n",
       "      <td>12.36</td>\n",
       "      <td>O15</td>\n",
       "      <td>85025</td>\n",
       "      <td>H</td>\n",
       "      <td>0</td>\n",
       "      <td>NaN</td>\n",
       "      <td>NaN</td>\n",
       "      <td>NaN</td>\n",
       "      <td>NaN</td>\n",
       "      <td>NaN</td>\n",
       "      <td>NaN</td>\n",
       "      <td>NaN</td>\n",
       "      <td>NaN</td>\n",
       "      <td>NaN</td>\n",
       "      <td>NaN</td>\n",
       "      <td>NaN</td>\n",
       "      <td>NaN</td>\n",
       "      <td>23875</td>\n",
       "      <td>9</td>\n",
       "      <td>NaN</td>\n",
       "      <td>NaN</td>\n",
       "      <td>2859</td>\n",
       "      <td>NaN</td>\n",
       "      <td>NaN</td>\n",
       "      <td>NaN</td>\n",
       "      <td>NaN</td>\n",
       "      <td>NaN</td>\n",
       "      <td>NaN</td>\n",
       "      <td>NaN</td>\n",
       "      <td>NaN</td>\n",
       "      <td>NaN</td>\n",
       "      <td>NaN</td>\n",
       "      <td>NaN</td>\n",
       "      <td>NaN</td>\n",
       "      <td>NaN</td>\n",
       "      <td>NaN</td>\n",
       "      <td>NaN</td>\n",
       "      <td>NaN</td>\n",
       "      <td>NaN</td>\n",
       "      <td>NaN</td>\n",
       "      <td>NaN</td>\n",
       "      <td>NaN</td>\n",
       "      <td>NaN</td>\n",
       "      <td>NaN</td>\n",
       "      <td>NaN</td>\n",
       "      <td>NaN</td>\n",
       "      <td>NaN</td>\n",
       "      <td>9</td>\n",
       "      <td>1</td>\n",
       "      <td>3.0</td>\n",
       "      <td>1.0</td>\n",
       "      <td>NaN</td>\n",
       "      <td>302.0</td>\n",
       "      <td>31925.0</td>\n",
       "      <td>5583310</td>\n",
       "      <td>15009</td>\n",
       "      <td>1630</td>\n",
       "      <td>NaN</td>\n",
       "      <td>NaN</td>\n",
       "      <td>2014-06-19</td>\n",
       "    </tr>\n",
       "    <tr>\n",
       "      <th>...</th>\n",
       "      <td>...</td>\n",
       "      <td>...</td>\n",
       "      <td>...</td>\n",
       "      <td>...</td>\n",
       "      <td>...</td>\n",
       "      <td>...</td>\n",
       "      <td>...</td>\n",
       "      <td>...</td>\n",
       "      <td>...</td>\n",
       "      <td>...</td>\n",
       "      <td>...</td>\n",
       "      <td>...</td>\n",
       "      <td>...</td>\n",
       "      <td>...</td>\n",
       "      <td>...</td>\n",
       "      <td>...</td>\n",
       "      <td>...</td>\n",
       "      <td>...</td>\n",
       "      <td>...</td>\n",
       "      <td>...</td>\n",
       "      <td>...</td>\n",
       "      <td>...</td>\n",
       "      <td>...</td>\n",
       "      <td>...</td>\n",
       "      <td>...</td>\n",
       "      <td>...</td>\n",
       "      <td>...</td>\n",
       "      <td>...</td>\n",
       "      <td>...</td>\n",
       "      <td>...</td>\n",
       "      <td>...</td>\n",
       "      <td>...</td>\n",
       "      <td>...</td>\n",
       "      <td>...</td>\n",
       "      <td>...</td>\n",
       "      <td>...</td>\n",
       "      <td>...</td>\n",
       "      <td>...</td>\n",
       "      <td>...</td>\n",
       "      <td>...</td>\n",
       "      <td>...</td>\n",
       "      <td>...</td>\n",
       "      <td>...</td>\n",
       "      <td>...</td>\n",
       "      <td>...</td>\n",
       "      <td>...</td>\n",
       "      <td>...</td>\n",
       "      <td>...</td>\n",
       "      <td>...</td>\n",
       "      <td>...</td>\n",
       "      <td>...</td>\n",
       "      <td>...</td>\n",
       "      <td>...</td>\n",
       "      <td>...</td>\n",
       "      <td>...</td>\n",
       "      <td>...</td>\n",
       "      <td>...</td>\n",
       "      <td>...</td>\n",
       "      <td>...</td>\n",
       "      <td>...</td>\n",
       "      <td>...</td>\n",
       "      <td>...</td>\n",
       "      <td>...</td>\n",
       "      <td>...</td>\n",
       "      <td>...</td>\n",
       "    </tr>\n",
       "    <tr>\n",
       "      <th>636170</th>\n",
       "      <td>647150</td>\n",
       "      <td>7097486</td>\n",
       "      <td>O</td>\n",
       "      <td>26</td>\n",
       "      <td>22</td>\n",
       "      <td>80.61</td>\n",
       "      <td>O12a</td>\n",
       "      <td>88271</td>\n",
       "      <td>H</td>\n",
       "      <td>0</td>\n",
       "      <td>NaN</td>\n",
       "      <td>NaN</td>\n",
       "      <td>NaN</td>\n",
       "      <td>NaN</td>\n",
       "      <td>NaN</td>\n",
       "      <td>NaN</td>\n",
       "      <td>NaN</td>\n",
       "      <td>NaN</td>\n",
       "      <td>NaN</td>\n",
       "      <td>NaN</td>\n",
       "      <td>NaN</td>\n",
       "      <td>NaN</td>\n",
       "      <td>23875</td>\n",
       "      <td>9</td>\n",
       "      <td>NaN</td>\n",
       "      <td>NaN</td>\n",
       "      <td>NaN</td>\n",
       "      <td>NaN</td>\n",
       "      <td>NaN</td>\n",
       "      <td>NaN</td>\n",
       "      <td>NaN</td>\n",
       "      <td>NaN</td>\n",
       "      <td>NaN</td>\n",
       "      <td>NaN</td>\n",
       "      <td>NaN</td>\n",
       "      <td>NaN</td>\n",
       "      <td>NaN</td>\n",
       "      <td>NaN</td>\n",
       "      <td>NaN</td>\n",
       "      <td>NaN</td>\n",
       "      <td>NaN</td>\n",
       "      <td>NaN</td>\n",
       "      <td>NaN</td>\n",
       "      <td>NaN</td>\n",
       "      <td>NaN</td>\n",
       "      <td>NaN</td>\n",
       "      <td>NaN</td>\n",
       "      <td>NaN</td>\n",
       "      <td>NaN</td>\n",
       "      <td>NaN</td>\n",
       "      <td>NaN</td>\n",
       "      <td>NaN</td>\n",
       "      <td>NaN</td>\n",
       "      <td>1</td>\n",
       "      <td>3.0</td>\n",
       "      <td>1.0</td>\n",
       "      <td>NaN</td>\n",
       "      <td>302.0</td>\n",
       "      <td>31925.0</td>\n",
       "      <td>129064</td>\n",
       "      <td>15009</td>\n",
       "      <td>1874</td>\n",
       "      <td>NaN</td>\n",
       "      <td>NaN</td>\n",
       "      <td>2015-02-18</td>\n",
       "    </tr>\n",
       "    <tr>\n",
       "      <th>636171</th>\n",
       "      <td>647151</td>\n",
       "      <td>7097582</td>\n",
       "      <td>O</td>\n",
       "      <td>9</td>\n",
       "      <td>22</td>\n",
       "      <td>33.55</td>\n",
       "      <td>O13b</td>\n",
       "      <td>71020</td>\n",
       "      <td>H</td>\n",
       "      <td>0</td>\n",
       "      <td>NaN</td>\n",
       "      <td>NaN</td>\n",
       "      <td>NaN</td>\n",
       "      <td>NaN</td>\n",
       "      <td>NaN</td>\n",
       "      <td>NaN</td>\n",
       "      <td>NaN</td>\n",
       "      <td>NaN</td>\n",
       "      <td>NaN</td>\n",
       "      <td>NaN</td>\n",
       "      <td>NaN</td>\n",
       "      <td>NaN</td>\n",
       "      <td>23875</td>\n",
       "      <td>9</td>\n",
       "      <td>NaN</td>\n",
       "      <td>NaN</td>\n",
       "      <td>V7283</td>\n",
       "      <td>NaN</td>\n",
       "      <td>NaN</td>\n",
       "      <td>NaN</td>\n",
       "      <td>NaN</td>\n",
       "      <td>NaN</td>\n",
       "      <td>NaN</td>\n",
       "      <td>NaN</td>\n",
       "      <td>NaN</td>\n",
       "      <td>NaN</td>\n",
       "      <td>NaN</td>\n",
       "      <td>NaN</td>\n",
       "      <td>NaN</td>\n",
       "      <td>NaN</td>\n",
       "      <td>NaN</td>\n",
       "      <td>NaN</td>\n",
       "      <td>NaN</td>\n",
       "      <td>NaN</td>\n",
       "      <td>NaN</td>\n",
       "      <td>NaN</td>\n",
       "      <td>NaN</td>\n",
       "      <td>NaN</td>\n",
       "      <td>NaN</td>\n",
       "      <td>NaN</td>\n",
       "      <td>NaN</td>\n",
       "      <td>NaN</td>\n",
       "      <td>9</td>\n",
       "      <td>1</td>\n",
       "      <td>3.0</td>\n",
       "      <td>1.0</td>\n",
       "      <td>NaN</td>\n",
       "      <td>301.0</td>\n",
       "      <td>31925.0</td>\n",
       "      <td>4207791</td>\n",
       "      <td>45981</td>\n",
       "      <td>2063</td>\n",
       "      <td>NaN</td>\n",
       "      <td>NaN</td>\n",
       "      <td>2015-08-26</td>\n",
       "    </tr>\n",
       "    <tr>\n",
       "      <th>636172</th>\n",
       "      <td>647152</td>\n",
       "      <td>7097610</td>\n",
       "      <td>O</td>\n",
       "      <td>7</td>\n",
       "      <td>22</td>\n",
       "      <td>10.40</td>\n",
       "      <td>O15</td>\n",
       "      <td>85027</td>\n",
       "      <td>H</td>\n",
       "      <td>0</td>\n",
       "      <td>NaN</td>\n",
       "      <td>NaN</td>\n",
       "      <td>NaN</td>\n",
       "      <td>NaN</td>\n",
       "      <td>NaN</td>\n",
       "      <td>NaN</td>\n",
       "      <td>NaN</td>\n",
       "      <td>NaN</td>\n",
       "      <td>NaN</td>\n",
       "      <td>NaN</td>\n",
       "      <td>NaN</td>\n",
       "      <td>NaN</td>\n",
       "      <td>79439</td>\n",
       "      <td>9</td>\n",
       "      <td>NaN</td>\n",
       "      <td>NaN</td>\n",
       "      <td>NaN</td>\n",
       "      <td>NaN</td>\n",
       "      <td>NaN</td>\n",
       "      <td>NaN</td>\n",
       "      <td>NaN</td>\n",
       "      <td>NaN</td>\n",
       "      <td>NaN</td>\n",
       "      <td>NaN</td>\n",
       "      <td>NaN</td>\n",
       "      <td>NaN</td>\n",
       "      <td>NaN</td>\n",
       "      <td>NaN</td>\n",
       "      <td>NaN</td>\n",
       "      <td>NaN</td>\n",
       "      <td>NaN</td>\n",
       "      <td>NaN</td>\n",
       "      <td>NaN</td>\n",
       "      <td>NaN</td>\n",
       "      <td>NaN</td>\n",
       "      <td>NaN</td>\n",
       "      <td>NaN</td>\n",
       "      <td>NaN</td>\n",
       "      <td>NaN</td>\n",
       "      <td>NaN</td>\n",
       "      <td>NaN</td>\n",
       "      <td>NaN</td>\n",
       "      <td>NaN</td>\n",
       "      <td>1</td>\n",
       "      <td>3.0</td>\n",
       "      <td>1.0</td>\n",
       "      <td>NaN</td>\n",
       "      <td>301.0</td>\n",
       "      <td>31925.0</td>\n",
       "      <td>6040205</td>\n",
       "      <td>45637</td>\n",
       "      <td>2055</td>\n",
       "      <td>NaN</td>\n",
       "      <td>NaN</td>\n",
       "      <td>2015-08-18</td>\n",
       "    </tr>\n",
       "    <tr>\n",
       "      <th>636173</th>\n",
       "      <td>647153</td>\n",
       "      <td>7097883</td>\n",
       "      <td>O</td>\n",
       "      <td>1</td>\n",
       "      <td>BF</td>\n",
       "      <td>30.76</td>\n",
       "      <td>O12b</td>\n",
       "      <td>20610</td>\n",
       "      <td>H</td>\n",
       "      <td>0</td>\n",
       "      <td>NaN</td>\n",
       "      <td>NaN</td>\n",
       "      <td>NaN</td>\n",
       "      <td>NaN</td>\n",
       "      <td>NaN</td>\n",
       "      <td>NaN</td>\n",
       "      <td>NaN</td>\n",
       "      <td>NaN</td>\n",
       "      <td>NaN</td>\n",
       "      <td>NaN</td>\n",
       "      <td>NaN</td>\n",
       "      <td>NaN</td>\n",
       "      <td>71941</td>\n",
       "      <td>9</td>\n",
       "      <td>NaN</td>\n",
       "      <td>NaN</td>\n",
       "      <td>71591</td>\n",
       "      <td>NaN</td>\n",
       "      <td>NaN</td>\n",
       "      <td>NaN</td>\n",
       "      <td>NaN</td>\n",
       "      <td>NaN</td>\n",
       "      <td>NaN</td>\n",
       "      <td>NaN</td>\n",
       "      <td>NaN</td>\n",
       "      <td>NaN</td>\n",
       "      <td>NaN</td>\n",
       "      <td>NaN</td>\n",
       "      <td>NaN</td>\n",
       "      <td>NaN</td>\n",
       "      <td>NaN</td>\n",
       "      <td>NaN</td>\n",
       "      <td>NaN</td>\n",
       "      <td>NaN</td>\n",
       "      <td>NaN</td>\n",
       "      <td>NaN</td>\n",
       "      <td>NaN</td>\n",
       "      <td>NaN</td>\n",
       "      <td>NaN</td>\n",
       "      <td>NaN</td>\n",
       "      <td>NaN</td>\n",
       "      <td>NaN</td>\n",
       "      <td>9</td>\n",
       "      <td>2</td>\n",
       "      <td>9.0</td>\n",
       "      <td>1.0</td>\n",
       "      <td>NaN</td>\n",
       "      <td>326.0</td>\n",
       "      <td>31925.0</td>\n",
       "      <td>116952</td>\n",
       "      <td>27917</td>\n",
       "      <td>1707</td>\n",
       "      <td>NaN</td>\n",
       "      <td>NaN</td>\n",
       "      <td>2014-09-04</td>\n",
       "    </tr>\n",
       "    <tr>\n",
       "      <th>636174</th>\n",
       "      <td>647154</td>\n",
       "      <td>7098137</td>\n",
       "      <td>O</td>\n",
       "      <td>2</td>\n",
       "      <td>BF</td>\n",
       "      <td>15.39</td>\n",
       "      <td>O12b</td>\n",
       "      <td>20610</td>\n",
       "      <td>H</td>\n",
       "      <td>0</td>\n",
       "      <td>NaN</td>\n",
       "      <td>NaN</td>\n",
       "      <td>NaN</td>\n",
       "      <td>NaN</td>\n",
       "      <td>NaN</td>\n",
       "      <td>NaN</td>\n",
       "      <td>NaN</td>\n",
       "      <td>NaN</td>\n",
       "      <td>NaN</td>\n",
       "      <td>NaN</td>\n",
       "      <td>NaN</td>\n",
       "      <td>NaN</td>\n",
       "      <td>71941</td>\n",
       "      <td>9</td>\n",
       "      <td>NaN</td>\n",
       "      <td>NaN</td>\n",
       "      <td>71591</td>\n",
       "      <td>NaN</td>\n",
       "      <td>NaN</td>\n",
       "      <td>NaN</td>\n",
       "      <td>NaN</td>\n",
       "      <td>NaN</td>\n",
       "      <td>NaN</td>\n",
       "      <td>NaN</td>\n",
       "      <td>NaN</td>\n",
       "      <td>NaN</td>\n",
       "      <td>NaN</td>\n",
       "      <td>NaN</td>\n",
       "      <td>NaN</td>\n",
       "      <td>NaN</td>\n",
       "      <td>NaN</td>\n",
       "      <td>NaN</td>\n",
       "      <td>NaN</td>\n",
       "      <td>NaN</td>\n",
       "      <td>NaN</td>\n",
       "      <td>NaN</td>\n",
       "      <td>NaN</td>\n",
       "      <td>NaN</td>\n",
       "      <td>NaN</td>\n",
       "      <td>NaN</td>\n",
       "      <td>NaN</td>\n",
       "      <td>NaN</td>\n",
       "      <td>9</td>\n",
       "      <td>2</td>\n",
       "      <td>9.0</td>\n",
       "      <td>1.0</td>\n",
       "      <td>NaN</td>\n",
       "      <td>326.0</td>\n",
       "      <td>31925.0</td>\n",
       "      <td>116952</td>\n",
       "      <td>27917</td>\n",
       "      <td>1707</td>\n",
       "      <td>NaN</td>\n",
       "      <td>NaN</td>\n",
       "      <td>2014-09-04</td>\n",
       "    </tr>\n",
       "  </tbody>\n",
       "</table>\n",
       "<p>2849 rows × 65 columns</p>\n",
       "</div>"
      ],
      "text/plain": [
       "        Unnamed: 0  Unnamed: 0.1 claim_type  line_number place_service  \\\n",
       "204447      208540       7095001          O            3            22   \n",
       "204448      208541       7095004          O            3            22   \n",
       "204449      208542       7095005          O            3            22   \n",
       "204450      208543       7095006          O            3            22   \n",
       "204451      208544       7095007          O            3            22   \n",
       "...            ...           ...        ...          ...           ...   \n",
       "636170      647150       7097486          O           26            22   \n",
       "636171      647151       7097582          O            9            22   \n",
       "636172      647152       7097610          O            7            22   \n",
       "636173      647153       7097883          O            1            BF   \n",
       "636174      647154       7098137          O            2            BF   \n",
       "\n",
       "        eacl_prv_alcrg_at mmn_mr_hcg_catg_cd proc_code proc_code_format  \\\n",
       "204447             106.04               O41b     36430                H   \n",
       "204448              12.36                O15     85025                H   \n",
       "204449              12.36                O15     85025                H   \n",
       "204450              12.36                O15     85025                H   \n",
       "204451              12.36                O15     85025                H   \n",
       "...                   ...                ...       ...              ...   \n",
       "636170              80.61               O12a     88271                H   \n",
       "636171              33.55               O13b     71020                H   \n",
       "636172              10.40                O15     85027                H   \n",
       "636173              30.76               O12b     20610                H   \n",
       "636174              15.39               O12b     20610                H   \n",
       "\n",
       "       prin_proc_mod ip_prn_proc_code ip_prn_proc_format_cd ip_other_proc1  \\\n",
       "204447             0              NaN                   NaN            NaN   \n",
       "204448             0              NaN                   NaN            NaN   \n",
       "204449             0              NaN                   NaN            NaN   \n",
       "204450             0              NaN                   NaN            NaN   \n",
       "204451             0              NaN                   NaN            NaN   \n",
       "...              ...              ...                   ...            ...   \n",
       "636170             0              NaN                   NaN            NaN   \n",
       "636171             0              NaN                   NaN            NaN   \n",
       "636172             0              NaN                   NaN            NaN   \n",
       "636173             0              NaN                   NaN            NaN   \n",
       "636174             0              NaN                   NaN            NaN   \n",
       "\n",
       "       ip_other_proc2 ip_other_proc3 ip_other_proc4 ip_other_proc5  \\\n",
       "204447            NaN            NaN            NaN            NaN   \n",
       "204448            NaN            NaN            NaN            NaN   \n",
       "204449            NaN            NaN            NaN            NaN   \n",
       "204450            NaN            NaN            NaN            NaN   \n",
       "204451            NaN            NaN            NaN            NaN   \n",
       "...               ...            ...            ...            ...   \n",
       "636170            NaN            NaN            NaN            NaN   \n",
       "636171            NaN            NaN            NaN            NaN   \n",
       "636172            NaN            NaN            NaN            NaN   \n",
       "636173            NaN            NaN            NaN            NaN   \n",
       "636174            NaN            NaN            NaN            NaN   \n",
       "\n",
       "       ip_other_proc6 ip_other_proc7 ip_other_proc8 ip_other_proc9  \\\n",
       "204447            NaN            NaN            NaN            NaN   \n",
       "204448            NaN            NaN            NaN            NaN   \n",
       "204449            NaN            NaN            NaN            NaN   \n",
       "204450            NaN            NaN            NaN            NaN   \n",
       "204451            NaN            NaN            NaN            NaN   \n",
       "...               ...            ...            ...            ...   \n",
       "636170            NaN            NaN            NaN            NaN   \n",
       "636171            NaN            NaN            NaN            NaN   \n",
       "636172            NaN            NaN            NaN            NaN   \n",
       "636173            NaN            NaN            NaN            NaN   \n",
       "636174            NaN            NaN            NaN            NaN   \n",
       "\n",
       "       ip_other_proc10 pri_diag_cd prim_diag_qfr_cd admitting_diag_cd  \\\n",
       "204447             NaN        2859                9               NaN   \n",
       "204448             NaN       23875                9               NaN   \n",
       "204449             NaN       23875                9               NaN   \n",
       "204450             NaN       23875                9               NaN   \n",
       "204451             NaN       23875                9               NaN   \n",
       "...                ...         ...              ...               ...   \n",
       "636170             NaN       23875                9               NaN   \n",
       "636171             NaN       23875                9               NaN   \n",
       "636172             NaN       79439                9               NaN   \n",
       "636173             NaN       71941                9               NaN   \n",
       "636174             NaN       71941                9               NaN   \n",
       "\n",
       "       admi_diag_qfr_cd    dx1  dx2  dx3  dx4  dx5  dx6  dx7  dx8  dx9 dx10  \\\n",
       "204447              NaN    NaN  NaN  NaN  NaN  NaN  NaN  NaN  NaN  NaN  NaN   \n",
       "204448              NaN   2859  NaN  NaN  NaN  NaN  NaN  NaN  NaN  NaN  NaN   \n",
       "204449              NaN   2859  NaN  NaN  NaN  NaN  NaN  NaN  NaN  NaN  NaN   \n",
       "204450              NaN   2859  NaN  NaN  NaN  NaN  NaN  NaN  NaN  NaN  NaN   \n",
       "204451              NaN   2859  NaN  NaN  NaN  NaN  NaN  NaN  NaN  NaN  NaN   \n",
       "...                 ...    ...  ...  ...  ...  ...  ...  ...  ...  ...  ...   \n",
       "636170              NaN    NaN  NaN  NaN  NaN  NaN  NaN  NaN  NaN  NaN  NaN   \n",
       "636171              NaN  V7283  NaN  NaN  NaN  NaN  NaN  NaN  NaN  NaN  NaN   \n",
       "636172              NaN    NaN  NaN  NaN  NaN  NaN  NaN  NaN  NaN  NaN  NaN   \n",
       "636173              NaN  71591  NaN  NaN  NaN  NaN  NaN  NaN  NaN  NaN  NaN   \n",
       "636174              NaN  71591  NaN  NaN  NaN  NaN  NaN  NaN  NaN  NaN  NaN   \n",
       "\n",
       "       dx11 dx12 dx13 dx14 dx15 dx16 dx17 dx18 dx19 dx20 dx21 dx22 dx23 dx24  \\\n",
       "204447  NaN  NaN  NaN  NaN  NaN  NaN  NaN  NaN  NaN  NaN  NaN  NaN  NaN  NaN   \n",
       "204448  NaN  NaN  NaN  NaN  NaN  NaN  NaN  NaN  NaN  NaN  NaN  NaN  NaN  NaN   \n",
       "204449  NaN  NaN  NaN  NaN  NaN  NaN  NaN  NaN  NaN  NaN  NaN  NaN  NaN  NaN   \n",
       "204450  NaN  NaN  NaN  NaN  NaN  NaN  NaN  NaN  NaN  NaN  NaN  NaN  NaN  NaN   \n",
       "204451  NaN  NaN  NaN  NaN  NaN  NaN  NaN  NaN  NaN  NaN  NaN  NaN  NaN  NaN   \n",
       "...     ...  ...  ...  ...  ...  ...  ...  ...  ...  ...  ...  ...  ...  ...   \n",
       "636170  NaN  NaN  NaN  NaN  NaN  NaN  NaN  NaN  NaN  NaN  NaN  NaN  NaN  NaN   \n",
       "636171  NaN  NaN  NaN  NaN  NaN  NaN  NaN  NaN  NaN  NaN  NaN  NaN  NaN  NaN   \n",
       "636172  NaN  NaN  NaN  NaN  NaN  NaN  NaN  NaN  NaN  NaN  NaN  NaN  NaN  NaN   \n",
       "636173  NaN  NaN  NaN  NaN  NaN  NaN  NaN  NaN  NaN  NaN  NaN  NaN  NaN  NaN   \n",
       "636174  NaN  NaN  NaN  NaN  NaN  NaN  NaN  NaN  NaN  NaN  NaN  NaN  NaN  NaN   \n",
       "\n",
       "        dx25  dx26 diag_qfr_cd_001 admission_source  admission_type  \\\n",
       "204447   NaN   NaN             NaN                1             3.0   \n",
       "204448   NaN   NaN               9                1             3.0   \n",
       "204449   NaN   NaN               9                1             3.0   \n",
       "204450   NaN   NaN               9                1             3.0   \n",
       "204451   NaN   NaN               9                1             3.0   \n",
       "...      ...   ...             ...              ...             ...   \n",
       "636170   NaN   NaN             NaN                1             3.0   \n",
       "636171   NaN   NaN               9                1             3.0   \n",
       "636172   NaN   NaN             NaN                1             3.0   \n",
       "636173   NaN   NaN               9                2             9.0   \n",
       "636174   NaN   NaN               9                2             9.0   \n",
       "\n",
       "        discharge_status  current_drg  bill_provider_specialty  TMA_Acct  \\\n",
       "204447               1.0          NaN                    301.0   31925.0   \n",
       "204448               1.0          NaN                    302.0   31925.0   \n",
       "204449               1.0          NaN                    302.0   31925.0   \n",
       "204450               1.0          NaN                    302.0   31925.0   \n",
       "204451               1.0          NaN                    302.0   31925.0   \n",
       "...                  ...          ...                      ...       ...   \n",
       "636170               1.0          NaN                    302.0   31925.0   \n",
       "636171               1.0          NaN                    301.0   31925.0   \n",
       "636172               1.0          NaN                    301.0   31925.0   \n",
       "636173               1.0          NaN                    326.0   31925.0   \n",
       "636174               1.0          NaN                    326.0   31925.0   \n",
       "\n",
       "        claim_number_deidentified  provider_bill_npi_deidentified  \\\n",
       "204447                    4466910                           45637   \n",
       "204448                    3627998                           15009   \n",
       "204449                    5112089                           15009   \n",
       "204450                    5286343                           15009   \n",
       "204451                    5583310                           15009   \n",
       "...                           ...                             ...   \n",
       "636170                     129064                           15009   \n",
       "636171                    4207791                           45981   \n",
       "636172                    6040205                           45637   \n",
       "636173                     116952                           27917   \n",
       "636174                     116952                           27917   \n",
       "\n",
       "        icrd_dt_deidentified  admission_date_deidentified  \\\n",
       "204447                  1639                          NaN   \n",
       "204448                  1624                          NaN   \n",
       "204449                  1638                          NaN   \n",
       "204450                  1617                          NaN   \n",
       "204451                  1630                          NaN   \n",
       "...                      ...                          ...   \n",
       "636170                  1874                          NaN   \n",
       "636171                  2063                          NaN   \n",
       "636172                  2055                          NaN   \n",
       "636173                  1707                          NaN   \n",
       "636174                  1707                          NaN   \n",
       "\n",
       "        discharge_date_deidentified       date  \n",
       "204447                          NaN 2014-06-28  \n",
       "204448                          NaN 2014-06-13  \n",
       "204449                          NaN 2014-06-27  \n",
       "204450                          NaN 2014-06-06  \n",
       "204451                          NaN 2014-06-19  \n",
       "...                             ...        ...  \n",
       "636170                          NaN 2015-02-18  \n",
       "636171                          NaN 2015-08-26  \n",
       "636172                          NaN 2015-08-18  \n",
       "636173                          NaN 2014-09-04  \n",
       "636174                          NaN 2014-09-04  \n",
       "\n",
       "[2849 rows x 65 columns]"
      ]
     },
     "metadata": {},
     "output_type": "display_data"
    },
    {
     "data": {
      "application/vnd.plotly.v1+json": {
       "config": {
        "plotlyServerURL": "https://plot.ly"
       },
       "data": [
        {
         "customdata": [
          [
           "I"
          ],
          [
           "I"
          ],
          [
           "I"
          ],
          [
           "I"
          ],
          [
           "I"
          ],
          [
           "I"
          ],
          [
           "I"
          ],
          [
           "I"
          ],
          [
           "I"
          ],
          [
           "I"
          ],
          [
           "I"
          ],
          [
           "I"
          ],
          [
           "I"
          ],
          [
           "I"
          ],
          [
           "I"
          ],
          [
           "I"
          ],
          [
           "I"
          ],
          [
           "I"
          ],
          [
           "I"
          ],
          [
           "I"
          ],
          [
           "I"
          ],
          [
           "I"
          ],
          [
           "I"
          ],
          [
           "I"
          ],
          [
           "I"
          ],
          [
           "I"
          ],
          [
           "I"
          ],
          [
           "I"
          ],
          [
           "I"
          ],
          [
           "I"
          ],
          [
           "I"
          ],
          [
           "I"
          ],
          [
           "I"
          ],
          [
           "I"
          ],
          [
           "I"
          ],
          [
           "I"
          ],
          [
           "I"
          ],
          [
           "I"
          ],
          [
           "I"
          ],
          [
           "I"
          ],
          [
           "I"
          ],
          [
           "I"
          ],
          [
           "I"
          ],
          [
           "I"
          ],
          [
           "I"
          ],
          [
           "I"
          ],
          [
           "I"
          ],
          [
           "I"
          ],
          [
           "I"
          ],
          [
           "I"
          ],
          [
           "I"
          ],
          [
           "I"
          ],
          [
           "I"
          ],
          [
           "I"
          ],
          [
           "I"
          ],
          [
           "I"
          ],
          [
           "I"
          ],
          [
           "I"
          ],
          [
           "I"
          ],
          [
           "I"
          ],
          [
           "I"
          ],
          [
           "I"
          ],
          [
           "I"
          ],
          [
           "I"
          ],
          [
           "I"
          ],
          [
           "I"
          ],
          [
           "I"
          ],
          [
           "I"
          ],
          [
           "I"
          ],
          [
           "I"
          ],
          [
           "I"
          ],
          [
           "I"
          ],
          [
           "I"
          ],
          [
           "I"
          ],
          [
           "I"
          ],
          [
           "I"
          ],
          [
           "I"
          ],
          [
           "I"
          ],
          [
           "I"
          ],
          [
           "I"
          ],
          [
           "I"
          ],
          [
           "I"
          ],
          [
           "I"
          ],
          [
           "I"
          ],
          [
           "I"
          ],
          [
           "I"
          ],
          [
           "I"
          ],
          [
           "I"
          ],
          [
           "I"
          ],
          [
           "I"
          ],
          [
           "I"
          ]
         ],
         "hovertemplate": "date=%{x}<br>eacl_prv_alcrg_at=%{y}<br>claim_type=%{customdata[0]}<extra></extra>",
         "legendgroup": "",
         "marker": {
          "color": "#636efa",
          "symbol": "circle"
         },
         "mode": "markers",
         "name": "",
         "orientation": "v",
         "showlegend": false,
         "type": "scatter",
         "x": [
          "2013-06-21T00:00:00",
          "2013-06-21T00:00:00",
          "2013-06-21T00:00:00",
          "2013-06-21T00:00:00",
          "2013-06-21T00:00:00",
          "2013-06-21T00:00:00",
          "2013-06-21T00:00:00",
          "2013-06-21T00:00:00",
          "2013-06-21T00:00:00",
          "2013-07-21T00:00:00",
          "2013-07-21T00:00:00",
          "2013-06-21T00:00:00",
          "2013-07-21T00:00:00",
          "2013-07-21T00:00:00",
          "2013-06-21T00:00:00",
          "2013-07-21T00:00:00",
          "2013-06-21T00:00:00",
          "2013-07-21T00:00:00",
          "2013-06-21T00:00:00",
          "2013-06-21T00:00:00",
          "2013-06-21T00:00:00",
          "2013-06-21T00:00:00",
          "2013-06-21T00:00:00",
          "2013-06-21T00:00:00",
          "2013-06-21T00:00:00",
          "2013-06-21T00:00:00",
          "2013-06-21T00:00:00",
          "2013-06-21T00:00:00",
          "2013-06-21T00:00:00",
          "2013-06-21T00:00:00",
          "2013-06-21T00:00:00",
          "2013-06-21T00:00:00",
          "2013-06-21T00:00:00",
          "2013-06-21T00:00:00",
          "2013-06-21T00:00:00",
          "2013-06-21T00:00:00",
          "2013-06-21T00:00:00",
          "2013-07-21T00:00:00",
          "2013-06-21T00:00:00",
          "2013-06-21T00:00:00",
          "2013-06-21T00:00:00",
          "2013-07-21T00:00:00",
          "2014-01-25T00:00:00",
          "2014-01-25T00:00:00",
          "2012-12-22T00:00:00",
          "2012-12-22T00:00:00",
          "2012-12-22T00:00:00",
          "2012-12-22T00:00:00",
          "2012-12-22T00:00:00",
          "2012-12-22T00:00:00",
          "2012-12-22T00:00:00",
          "2012-12-22T00:00:00",
          "2012-12-22T00:00:00",
          "2012-12-22T00:00:00",
          "2012-12-22T00:00:00",
          "2012-12-22T00:00:00",
          "2012-12-22T00:00:00",
          "2012-12-22T00:00:00",
          "2012-12-22T00:00:00",
          "2012-12-22T00:00:00",
          "2012-12-22T00:00:00",
          "2012-12-22T00:00:00",
          "2012-12-22T00:00:00",
          "2012-12-22T00:00:00",
          "2012-12-22T00:00:00",
          "2012-12-22T00:00:00",
          "2012-12-22T00:00:00",
          "2012-12-22T00:00:00",
          "2012-12-22T00:00:00",
          "2014-01-25T00:00:00",
          "2014-01-25T00:00:00",
          "2014-01-25T00:00:00",
          "2014-01-25T00:00:00",
          "2014-01-25T00:00:00",
          "2014-01-25T00:00:00",
          "2014-01-25T00:00:00",
          "2014-01-25T00:00:00",
          "2014-01-25T00:00:00",
          "2014-01-25T00:00:00",
          "2014-01-25T00:00:00",
          "2014-01-25T00:00:00",
          "2014-01-25T00:00:00",
          "2014-01-25T00:00:00",
          "2014-01-25T00:00:00",
          "2014-01-25T00:00:00",
          "2014-01-25T00:00:00",
          "2014-01-25T00:00:00",
          "2012-12-22T00:00:00",
          "2014-01-25T00:00:00",
          "2012-12-22T00:00:00",
          "2012-12-22T00:00:00"
         ],
         "xaxis": "x",
         "y": [
          8.43,
          10608.43,
          186.83,
          391.18,
          39.09,
          579.03,
          145.58,
          17.94,
          196.44,
          629.75,
          4177.37,
          2048.05,
          762.16,
          3051.61,
          3269.07,
          1411.18,
          419.45,
          1285.32,
          2869.81,
          751.87,
          710.72,
          46.38,
          242.54,
          30.2,
          513.06,
          1676.04,
          388.51,
          607.98,
          2064.51,
          1468.54,
          689.96,
          405.68,
          2384.87,
          4950.15,
          152.87,
          37.67,
          15.26,
          1290.64,
          5026.72,
          1622.68,
          4471.79,
          1882.12,
          619.6,
          1239.5,
          1688.25,
          114.73,
          1948.81,
          849.78,
          8.68,
          814.26,
          95.12,
          354.15,
          148.71,
          7.75,
          41.08,
          347.04,
          844.12,
          282.25,
          1845.6,
          26.06,
          842.37,
          1183.85,
          421.57,
          723.87,
          223.84,
          614.92,
          2654.38,
          675.3,
          1350.6,
          16.32,
          23.5,
          232.04,
          790.42,
          463.69,
          1678.48,
          49.62,
          22.61,
          25.08,
          70.8,
          384.99,
          81.85,
          206.26,
          41.81,
          1772.07,
          0.01,
          51.47,
          1600.41,
          934.27,
          363.58,
          247.82,
          253.72
         ],
         "yaxis": "y"
        }
       ],
       "layout": {
        "legend": {
         "tracegroupgap": 0
        },
        "margin": {
         "t": 60
        },
        "template": {
         "data": {
          "bar": [
           {
            "error_x": {
             "color": "#2a3f5f"
            },
            "error_y": {
             "color": "#2a3f5f"
            },
            "marker": {
             "line": {
              "color": "#E5ECF6",
              "width": 0.5
             }
            },
            "type": "bar"
           }
          ],
          "barpolar": [
           {
            "marker": {
             "line": {
              "color": "#E5ECF6",
              "width": 0.5
             }
            },
            "type": "barpolar"
           }
          ],
          "carpet": [
           {
            "aaxis": {
             "endlinecolor": "#2a3f5f",
             "gridcolor": "white",
             "linecolor": "white",
             "minorgridcolor": "white",
             "startlinecolor": "#2a3f5f"
            },
            "baxis": {
             "endlinecolor": "#2a3f5f",
             "gridcolor": "white",
             "linecolor": "white",
             "minorgridcolor": "white",
             "startlinecolor": "#2a3f5f"
            },
            "type": "carpet"
           }
          ],
          "choropleth": [
           {
            "colorbar": {
             "outlinewidth": 0,
             "ticks": ""
            },
            "type": "choropleth"
           }
          ],
          "contour": [
           {
            "colorbar": {
             "outlinewidth": 0,
             "ticks": ""
            },
            "colorscale": [
             [
              0,
              "#0d0887"
             ],
             [
              0.1111111111111111,
              "#46039f"
             ],
             [
              0.2222222222222222,
              "#7201a8"
             ],
             [
              0.3333333333333333,
              "#9c179e"
             ],
             [
              0.4444444444444444,
              "#bd3786"
             ],
             [
              0.5555555555555556,
              "#d8576b"
             ],
             [
              0.6666666666666666,
              "#ed7953"
             ],
             [
              0.7777777777777778,
              "#fb9f3a"
             ],
             [
              0.8888888888888888,
              "#fdca26"
             ],
             [
              1,
              "#f0f921"
             ]
            ],
            "type": "contour"
           }
          ],
          "contourcarpet": [
           {
            "colorbar": {
             "outlinewidth": 0,
             "ticks": ""
            },
            "type": "contourcarpet"
           }
          ],
          "heatmap": [
           {
            "colorbar": {
             "outlinewidth": 0,
             "ticks": ""
            },
            "colorscale": [
             [
              0,
              "#0d0887"
             ],
             [
              0.1111111111111111,
              "#46039f"
             ],
             [
              0.2222222222222222,
              "#7201a8"
             ],
             [
              0.3333333333333333,
              "#9c179e"
             ],
             [
              0.4444444444444444,
              "#bd3786"
             ],
             [
              0.5555555555555556,
              "#d8576b"
             ],
             [
              0.6666666666666666,
              "#ed7953"
             ],
             [
              0.7777777777777778,
              "#fb9f3a"
             ],
             [
              0.8888888888888888,
              "#fdca26"
             ],
             [
              1,
              "#f0f921"
             ]
            ],
            "type": "heatmap"
           }
          ],
          "heatmapgl": [
           {
            "colorbar": {
             "outlinewidth": 0,
             "ticks": ""
            },
            "colorscale": [
             [
              0,
              "#0d0887"
             ],
             [
              0.1111111111111111,
              "#46039f"
             ],
             [
              0.2222222222222222,
              "#7201a8"
             ],
             [
              0.3333333333333333,
              "#9c179e"
             ],
             [
              0.4444444444444444,
              "#bd3786"
             ],
             [
              0.5555555555555556,
              "#d8576b"
             ],
             [
              0.6666666666666666,
              "#ed7953"
             ],
             [
              0.7777777777777778,
              "#fb9f3a"
             ],
             [
              0.8888888888888888,
              "#fdca26"
             ],
             [
              1,
              "#f0f921"
             ]
            ],
            "type": "heatmapgl"
           }
          ],
          "histogram": [
           {
            "marker": {
             "colorbar": {
              "outlinewidth": 0,
              "ticks": ""
             }
            },
            "type": "histogram"
           }
          ],
          "histogram2d": [
           {
            "colorbar": {
             "outlinewidth": 0,
             "ticks": ""
            },
            "colorscale": [
             [
              0,
              "#0d0887"
             ],
             [
              0.1111111111111111,
              "#46039f"
             ],
             [
              0.2222222222222222,
              "#7201a8"
             ],
             [
              0.3333333333333333,
              "#9c179e"
             ],
             [
              0.4444444444444444,
              "#bd3786"
             ],
             [
              0.5555555555555556,
              "#d8576b"
             ],
             [
              0.6666666666666666,
              "#ed7953"
             ],
             [
              0.7777777777777778,
              "#fb9f3a"
             ],
             [
              0.8888888888888888,
              "#fdca26"
             ],
             [
              1,
              "#f0f921"
             ]
            ],
            "type": "histogram2d"
           }
          ],
          "histogram2dcontour": [
           {
            "colorbar": {
             "outlinewidth": 0,
             "ticks": ""
            },
            "colorscale": [
             [
              0,
              "#0d0887"
             ],
             [
              0.1111111111111111,
              "#46039f"
             ],
             [
              0.2222222222222222,
              "#7201a8"
             ],
             [
              0.3333333333333333,
              "#9c179e"
             ],
             [
              0.4444444444444444,
              "#bd3786"
             ],
             [
              0.5555555555555556,
              "#d8576b"
             ],
             [
              0.6666666666666666,
              "#ed7953"
             ],
             [
              0.7777777777777778,
              "#fb9f3a"
             ],
             [
              0.8888888888888888,
              "#fdca26"
             ],
             [
              1,
              "#f0f921"
             ]
            ],
            "type": "histogram2dcontour"
           }
          ],
          "mesh3d": [
           {
            "colorbar": {
             "outlinewidth": 0,
             "ticks": ""
            },
            "type": "mesh3d"
           }
          ],
          "parcoords": [
           {
            "line": {
             "colorbar": {
              "outlinewidth": 0,
              "ticks": ""
             }
            },
            "type": "parcoords"
           }
          ],
          "pie": [
           {
            "automargin": true,
            "type": "pie"
           }
          ],
          "scatter": [
           {
            "marker": {
             "colorbar": {
              "outlinewidth": 0,
              "ticks": ""
             }
            },
            "type": "scatter"
           }
          ],
          "scatter3d": [
           {
            "line": {
             "colorbar": {
              "outlinewidth": 0,
              "ticks": ""
             }
            },
            "marker": {
             "colorbar": {
              "outlinewidth": 0,
              "ticks": ""
             }
            },
            "type": "scatter3d"
           }
          ],
          "scattercarpet": [
           {
            "marker": {
             "colorbar": {
              "outlinewidth": 0,
              "ticks": ""
             }
            },
            "type": "scattercarpet"
           }
          ],
          "scattergeo": [
           {
            "marker": {
             "colorbar": {
              "outlinewidth": 0,
              "ticks": ""
             }
            },
            "type": "scattergeo"
           }
          ],
          "scattergl": [
           {
            "marker": {
             "colorbar": {
              "outlinewidth": 0,
              "ticks": ""
             }
            },
            "type": "scattergl"
           }
          ],
          "scattermapbox": [
           {
            "marker": {
             "colorbar": {
              "outlinewidth": 0,
              "ticks": ""
             }
            },
            "type": "scattermapbox"
           }
          ],
          "scatterpolar": [
           {
            "marker": {
             "colorbar": {
              "outlinewidth": 0,
              "ticks": ""
             }
            },
            "type": "scatterpolar"
           }
          ],
          "scatterpolargl": [
           {
            "marker": {
             "colorbar": {
              "outlinewidth": 0,
              "ticks": ""
             }
            },
            "type": "scatterpolargl"
           }
          ],
          "scatterternary": [
           {
            "marker": {
             "colorbar": {
              "outlinewidth": 0,
              "ticks": ""
             }
            },
            "type": "scatterternary"
           }
          ],
          "surface": [
           {
            "colorbar": {
             "outlinewidth": 0,
             "ticks": ""
            },
            "colorscale": [
             [
              0,
              "#0d0887"
             ],
             [
              0.1111111111111111,
              "#46039f"
             ],
             [
              0.2222222222222222,
              "#7201a8"
             ],
             [
              0.3333333333333333,
              "#9c179e"
             ],
             [
              0.4444444444444444,
              "#bd3786"
             ],
             [
              0.5555555555555556,
              "#d8576b"
             ],
             [
              0.6666666666666666,
              "#ed7953"
             ],
             [
              0.7777777777777778,
              "#fb9f3a"
             ],
             [
              0.8888888888888888,
              "#fdca26"
             ],
             [
              1,
              "#f0f921"
             ]
            ],
            "type": "surface"
           }
          ],
          "table": [
           {
            "cells": {
             "fill": {
              "color": "#EBF0F8"
             },
             "line": {
              "color": "white"
             }
            },
            "header": {
             "fill": {
              "color": "#C8D4E3"
             },
             "line": {
              "color": "white"
             }
            },
            "type": "table"
           }
          ]
         },
         "layout": {
          "annotationdefaults": {
           "arrowcolor": "#2a3f5f",
           "arrowhead": 0,
           "arrowwidth": 1
          },
          "coloraxis": {
           "colorbar": {
            "outlinewidth": 0,
            "ticks": ""
           }
          },
          "colorscale": {
           "diverging": [
            [
             0,
             "#8e0152"
            ],
            [
             0.1,
             "#c51b7d"
            ],
            [
             0.2,
             "#de77ae"
            ],
            [
             0.3,
             "#f1b6da"
            ],
            [
             0.4,
             "#fde0ef"
            ],
            [
             0.5,
             "#f7f7f7"
            ],
            [
             0.6,
             "#e6f5d0"
            ],
            [
             0.7,
             "#b8e186"
            ],
            [
             0.8,
             "#7fbc41"
            ],
            [
             0.9,
             "#4d9221"
            ],
            [
             1,
             "#276419"
            ]
           ],
           "sequential": [
            [
             0,
             "#0d0887"
            ],
            [
             0.1111111111111111,
             "#46039f"
            ],
            [
             0.2222222222222222,
             "#7201a8"
            ],
            [
             0.3333333333333333,
             "#9c179e"
            ],
            [
             0.4444444444444444,
             "#bd3786"
            ],
            [
             0.5555555555555556,
             "#d8576b"
            ],
            [
             0.6666666666666666,
             "#ed7953"
            ],
            [
             0.7777777777777778,
             "#fb9f3a"
            ],
            [
             0.8888888888888888,
             "#fdca26"
            ],
            [
             1,
             "#f0f921"
            ]
           ],
           "sequentialminus": [
            [
             0,
             "#0d0887"
            ],
            [
             0.1111111111111111,
             "#46039f"
            ],
            [
             0.2222222222222222,
             "#7201a8"
            ],
            [
             0.3333333333333333,
             "#9c179e"
            ],
            [
             0.4444444444444444,
             "#bd3786"
            ],
            [
             0.5555555555555556,
             "#d8576b"
            ],
            [
             0.6666666666666666,
             "#ed7953"
            ],
            [
             0.7777777777777778,
             "#fb9f3a"
            ],
            [
             0.8888888888888888,
             "#fdca26"
            ],
            [
             1,
             "#f0f921"
            ]
           ]
          },
          "colorway": [
           "#636efa",
           "#EF553B",
           "#00cc96",
           "#ab63fa",
           "#FFA15A",
           "#19d3f3",
           "#FF6692",
           "#B6E880",
           "#FF97FF",
           "#FECB52"
          ],
          "font": {
           "color": "#2a3f5f"
          },
          "geo": {
           "bgcolor": "white",
           "lakecolor": "white",
           "landcolor": "#E5ECF6",
           "showlakes": true,
           "showland": true,
           "subunitcolor": "white"
          },
          "hoverlabel": {
           "align": "left"
          },
          "hovermode": "closest",
          "mapbox": {
           "style": "light"
          },
          "paper_bgcolor": "white",
          "plot_bgcolor": "#E5ECF6",
          "polar": {
           "angularaxis": {
            "gridcolor": "white",
            "linecolor": "white",
            "ticks": ""
           },
           "bgcolor": "#E5ECF6",
           "radialaxis": {
            "gridcolor": "white",
            "linecolor": "white",
            "ticks": ""
           }
          },
          "scene": {
           "xaxis": {
            "backgroundcolor": "#E5ECF6",
            "gridcolor": "white",
            "gridwidth": 2,
            "linecolor": "white",
            "showbackground": true,
            "ticks": "",
            "zerolinecolor": "white"
           },
           "yaxis": {
            "backgroundcolor": "#E5ECF6",
            "gridcolor": "white",
            "gridwidth": 2,
            "linecolor": "white",
            "showbackground": true,
            "ticks": "",
            "zerolinecolor": "white"
           },
           "zaxis": {
            "backgroundcolor": "#E5ECF6",
            "gridcolor": "white",
            "gridwidth": 2,
            "linecolor": "white",
            "showbackground": true,
            "ticks": "",
            "zerolinecolor": "white"
           }
          },
          "shapedefaults": {
           "line": {
            "color": "#2a3f5f"
           }
          },
          "ternary": {
           "aaxis": {
            "gridcolor": "white",
            "linecolor": "white",
            "ticks": ""
           },
           "baxis": {
            "gridcolor": "white",
            "linecolor": "white",
            "ticks": ""
           },
           "bgcolor": "#E5ECF6",
           "caxis": {
            "gridcolor": "white",
            "linecolor": "white",
            "ticks": ""
           }
          },
          "title": {
           "x": 0.05
          },
          "xaxis": {
           "automargin": true,
           "gridcolor": "white",
           "linecolor": "white",
           "ticks": "",
           "title": {
            "standoff": 15
           },
           "zerolinecolor": "white",
           "zerolinewidth": 2
          },
          "yaxis": {
           "automargin": true,
           "gridcolor": "white",
           "linecolor": "white",
           "ticks": "",
           "title": {
            "standoff": 15
           },
           "zerolinecolor": "white",
           "zerolinewidth": 2
          }
         }
        },
        "xaxis": {
         "anchor": "y",
         "domain": [
          0,
          1
         ],
         "title": {
          "text": "date"
         }
        },
        "yaxis": {
         "anchor": "x",
         "domain": [
          0,
          1
         ],
         "title": {
          "text": "eacl_prv_alcrg_at"
         }
        }
       }
      },
      "text/html": [
       "<div>                            <div id=\"be488bee-501e-4a0a-8fd6-3a111de335e5\" class=\"plotly-graph-div\" style=\"height:525px; width:100%;\"></div>            <script type=\"text/javascript\">                require([\"plotly\"], function(Plotly) {                    window.PLOTLYENV=window.PLOTLYENV || {};                                    if (document.getElementById(\"be488bee-501e-4a0a-8fd6-3a111de335e5\")) {                    Plotly.newPlot(                        \"be488bee-501e-4a0a-8fd6-3a111de335e5\",                        [{\"customdata\": [[\"I\"], [\"I\"], [\"I\"], [\"I\"], [\"I\"], [\"I\"], [\"I\"], [\"I\"], [\"I\"], [\"I\"], [\"I\"], [\"I\"], [\"I\"], [\"I\"], [\"I\"], [\"I\"], [\"I\"], [\"I\"], [\"I\"], [\"I\"], [\"I\"], [\"I\"], [\"I\"], [\"I\"], [\"I\"], [\"I\"], [\"I\"], [\"I\"], [\"I\"], [\"I\"], [\"I\"], [\"I\"], [\"I\"], [\"I\"], [\"I\"], [\"I\"], [\"I\"], [\"I\"], [\"I\"], [\"I\"], [\"I\"], [\"I\"], [\"I\"], [\"I\"], [\"I\"], [\"I\"], [\"I\"], [\"I\"], [\"I\"], [\"I\"], [\"I\"], [\"I\"], [\"I\"], [\"I\"], [\"I\"], [\"I\"], [\"I\"], [\"I\"], [\"I\"], [\"I\"], [\"I\"], [\"I\"], [\"I\"], [\"I\"], [\"I\"], [\"I\"], [\"I\"], [\"I\"], [\"I\"], [\"I\"], [\"I\"], [\"I\"], [\"I\"], [\"I\"], [\"I\"], [\"I\"], [\"I\"], [\"I\"], [\"I\"], [\"I\"], [\"I\"], [\"I\"], [\"I\"], [\"I\"], [\"I\"], [\"I\"], [\"I\"], [\"I\"], [\"I\"], [\"I\"], [\"I\"]], \"hovertemplate\": \"date=%{x}<br>eacl_prv_alcrg_at=%{y}<br>claim_type=%{customdata[0]}<extra></extra>\", \"legendgroup\": \"\", \"marker\": {\"color\": \"#636efa\", \"symbol\": \"circle\"}, \"mode\": \"markers\", \"name\": \"\", \"orientation\": \"v\", \"showlegend\": false, \"type\": \"scatter\", \"x\": [\"2013-06-21T00:00:00\", \"2013-06-21T00:00:00\", \"2013-06-21T00:00:00\", \"2013-06-21T00:00:00\", \"2013-06-21T00:00:00\", \"2013-06-21T00:00:00\", \"2013-06-21T00:00:00\", \"2013-06-21T00:00:00\", \"2013-06-21T00:00:00\", \"2013-07-21T00:00:00\", \"2013-07-21T00:00:00\", \"2013-06-21T00:00:00\", \"2013-07-21T00:00:00\", \"2013-07-21T00:00:00\", \"2013-06-21T00:00:00\", \"2013-07-21T00:00:00\", \"2013-06-21T00:00:00\", \"2013-07-21T00:00:00\", \"2013-06-21T00:00:00\", \"2013-06-21T00:00:00\", \"2013-06-21T00:00:00\", \"2013-06-21T00:00:00\", \"2013-06-21T00:00:00\", \"2013-06-21T00:00:00\", \"2013-06-21T00:00:00\", \"2013-06-21T00:00:00\", \"2013-06-21T00:00:00\", \"2013-06-21T00:00:00\", \"2013-06-21T00:00:00\", \"2013-06-21T00:00:00\", \"2013-06-21T00:00:00\", \"2013-06-21T00:00:00\", \"2013-06-21T00:00:00\", \"2013-06-21T00:00:00\", \"2013-06-21T00:00:00\", \"2013-06-21T00:00:00\", \"2013-06-21T00:00:00\", \"2013-07-21T00:00:00\", \"2013-06-21T00:00:00\", \"2013-06-21T00:00:00\", \"2013-06-21T00:00:00\", \"2013-07-21T00:00:00\", \"2014-01-25T00:00:00\", \"2014-01-25T00:00:00\", \"2012-12-22T00:00:00\", \"2012-12-22T00:00:00\", \"2012-12-22T00:00:00\", \"2012-12-22T00:00:00\", \"2012-12-22T00:00:00\", \"2012-12-22T00:00:00\", \"2012-12-22T00:00:00\", \"2012-12-22T00:00:00\", \"2012-12-22T00:00:00\", \"2012-12-22T00:00:00\", \"2012-12-22T00:00:00\", \"2012-12-22T00:00:00\", \"2012-12-22T00:00:00\", \"2012-12-22T00:00:00\", \"2012-12-22T00:00:00\", \"2012-12-22T00:00:00\", \"2012-12-22T00:00:00\", \"2012-12-22T00:00:00\", \"2012-12-22T00:00:00\", \"2012-12-22T00:00:00\", \"2012-12-22T00:00:00\", \"2012-12-22T00:00:00\", \"2012-12-22T00:00:00\", \"2012-12-22T00:00:00\", \"2012-12-22T00:00:00\", \"2014-01-25T00:00:00\", \"2014-01-25T00:00:00\", \"2014-01-25T00:00:00\", \"2014-01-25T00:00:00\", \"2014-01-25T00:00:00\", \"2014-01-25T00:00:00\", \"2014-01-25T00:00:00\", \"2014-01-25T00:00:00\", \"2014-01-25T00:00:00\", \"2014-01-25T00:00:00\", \"2014-01-25T00:00:00\", \"2014-01-25T00:00:00\", \"2014-01-25T00:00:00\", \"2014-01-25T00:00:00\", \"2014-01-25T00:00:00\", \"2014-01-25T00:00:00\", \"2014-01-25T00:00:00\", \"2014-01-25T00:00:00\", \"2012-12-22T00:00:00\", \"2014-01-25T00:00:00\", \"2012-12-22T00:00:00\", \"2012-12-22T00:00:00\"], \"xaxis\": \"x\", \"y\": [8.43, 10608.43, 186.83, 391.18, 39.09, 579.03, 145.58, 17.94, 196.44, 629.75, 4177.37, 2048.05, 762.16, 3051.61, 3269.07, 1411.18, 419.45, 1285.32, 2869.81, 751.87, 710.72, 46.38, 242.54, 30.2, 513.06, 1676.04, 388.51, 607.98, 2064.51, 1468.54, 689.96, 405.68, 2384.87, 4950.15, 152.87, 37.67, 15.26, 1290.64, 5026.72, 1622.68, 4471.79, 1882.12, 619.6, 1239.5, 1688.25, 114.73, 1948.81, 849.78, 8.68, 814.26, 95.12, 354.15, 148.71, 7.75, 41.08, 347.04, 844.12, 282.25, 1845.6, 26.06, 842.37, 1183.85, 421.57, 723.87, 223.84, 614.92, 2654.38, 675.3, 1350.6, 16.32, 23.5, 232.04, 790.42, 463.69, 1678.48, 49.62, 22.61, 25.08, 70.8, 384.99, 81.85, 206.26, 41.81, 1772.07, 0.01, 51.47, 1600.41, 934.27, 363.58, 247.82, 253.72], \"yaxis\": \"y\"}],                        {\"legend\": {\"tracegroupgap\": 0}, \"margin\": {\"t\": 60}, \"template\": {\"data\": {\"bar\": [{\"error_x\": {\"color\": \"#2a3f5f\"}, \"error_y\": {\"color\": \"#2a3f5f\"}, \"marker\": {\"line\": {\"color\": \"#E5ECF6\", \"width\": 0.5}}, \"type\": \"bar\"}], \"barpolar\": [{\"marker\": {\"line\": {\"color\": \"#E5ECF6\", \"width\": 0.5}}, \"type\": \"barpolar\"}], \"carpet\": [{\"aaxis\": {\"endlinecolor\": \"#2a3f5f\", \"gridcolor\": \"white\", \"linecolor\": \"white\", \"minorgridcolor\": \"white\", \"startlinecolor\": \"#2a3f5f\"}, \"baxis\": {\"endlinecolor\": \"#2a3f5f\", \"gridcolor\": \"white\", \"linecolor\": \"white\", \"minorgridcolor\": \"white\", \"startlinecolor\": \"#2a3f5f\"}, \"type\": \"carpet\"}], \"choropleth\": [{\"colorbar\": {\"outlinewidth\": 0, \"ticks\": \"\"}, \"type\": \"choropleth\"}], \"contour\": [{\"colorbar\": {\"outlinewidth\": 0, \"ticks\": \"\"}, \"colorscale\": [[0.0, \"#0d0887\"], [0.1111111111111111, \"#46039f\"], [0.2222222222222222, \"#7201a8\"], [0.3333333333333333, \"#9c179e\"], [0.4444444444444444, \"#bd3786\"], [0.5555555555555556, \"#d8576b\"], [0.6666666666666666, \"#ed7953\"], [0.7777777777777778, \"#fb9f3a\"], [0.8888888888888888, \"#fdca26\"], [1.0, \"#f0f921\"]], \"type\": \"contour\"}], \"contourcarpet\": [{\"colorbar\": {\"outlinewidth\": 0, \"ticks\": \"\"}, \"type\": \"contourcarpet\"}], \"heatmap\": [{\"colorbar\": {\"outlinewidth\": 0, \"ticks\": \"\"}, \"colorscale\": [[0.0, \"#0d0887\"], [0.1111111111111111, \"#46039f\"], [0.2222222222222222, \"#7201a8\"], [0.3333333333333333, \"#9c179e\"], [0.4444444444444444, \"#bd3786\"], [0.5555555555555556, \"#d8576b\"], [0.6666666666666666, \"#ed7953\"], [0.7777777777777778, \"#fb9f3a\"], [0.8888888888888888, \"#fdca26\"], [1.0, \"#f0f921\"]], \"type\": \"heatmap\"}], \"heatmapgl\": [{\"colorbar\": {\"outlinewidth\": 0, \"ticks\": \"\"}, \"colorscale\": [[0.0, \"#0d0887\"], [0.1111111111111111, \"#46039f\"], [0.2222222222222222, \"#7201a8\"], [0.3333333333333333, \"#9c179e\"], [0.4444444444444444, \"#bd3786\"], [0.5555555555555556, \"#d8576b\"], [0.6666666666666666, \"#ed7953\"], [0.7777777777777778, \"#fb9f3a\"], [0.8888888888888888, \"#fdca26\"], [1.0, \"#f0f921\"]], \"type\": \"heatmapgl\"}], \"histogram\": [{\"marker\": {\"colorbar\": {\"outlinewidth\": 0, \"ticks\": \"\"}}, \"type\": \"histogram\"}], \"histogram2d\": [{\"colorbar\": {\"outlinewidth\": 0, \"ticks\": \"\"}, \"colorscale\": [[0.0, \"#0d0887\"], [0.1111111111111111, \"#46039f\"], [0.2222222222222222, \"#7201a8\"], [0.3333333333333333, \"#9c179e\"], [0.4444444444444444, \"#bd3786\"], [0.5555555555555556, \"#d8576b\"], [0.6666666666666666, \"#ed7953\"], [0.7777777777777778, \"#fb9f3a\"], [0.8888888888888888, \"#fdca26\"], [1.0, \"#f0f921\"]], \"type\": \"histogram2d\"}], \"histogram2dcontour\": [{\"colorbar\": {\"outlinewidth\": 0, \"ticks\": \"\"}, \"colorscale\": [[0.0, \"#0d0887\"], [0.1111111111111111, \"#46039f\"], [0.2222222222222222, \"#7201a8\"], [0.3333333333333333, \"#9c179e\"], [0.4444444444444444, \"#bd3786\"], [0.5555555555555556, \"#d8576b\"], [0.6666666666666666, \"#ed7953\"], [0.7777777777777778, \"#fb9f3a\"], [0.8888888888888888, \"#fdca26\"], [1.0, \"#f0f921\"]], \"type\": \"histogram2dcontour\"}], \"mesh3d\": [{\"colorbar\": {\"outlinewidth\": 0, \"ticks\": \"\"}, \"type\": \"mesh3d\"}], \"parcoords\": [{\"line\": {\"colorbar\": {\"outlinewidth\": 0, \"ticks\": \"\"}}, \"type\": \"parcoords\"}], \"pie\": [{\"automargin\": true, \"type\": \"pie\"}], \"scatter\": [{\"marker\": {\"colorbar\": {\"outlinewidth\": 0, \"ticks\": \"\"}}, \"type\": \"scatter\"}], \"scatter3d\": [{\"line\": {\"colorbar\": {\"outlinewidth\": 0, \"ticks\": \"\"}}, \"marker\": {\"colorbar\": {\"outlinewidth\": 0, \"ticks\": \"\"}}, \"type\": \"scatter3d\"}], \"scattercarpet\": [{\"marker\": {\"colorbar\": {\"outlinewidth\": 0, \"ticks\": \"\"}}, \"type\": \"scattercarpet\"}], \"scattergeo\": [{\"marker\": {\"colorbar\": {\"outlinewidth\": 0, \"ticks\": \"\"}}, \"type\": \"scattergeo\"}], \"scattergl\": [{\"marker\": {\"colorbar\": {\"outlinewidth\": 0, \"ticks\": \"\"}}, \"type\": \"scattergl\"}], \"scattermapbox\": [{\"marker\": {\"colorbar\": {\"outlinewidth\": 0, \"ticks\": \"\"}}, \"type\": \"scattermapbox\"}], \"scatterpolar\": [{\"marker\": {\"colorbar\": {\"outlinewidth\": 0, \"ticks\": \"\"}}, \"type\": \"scatterpolar\"}], \"scatterpolargl\": [{\"marker\": {\"colorbar\": {\"outlinewidth\": 0, \"ticks\": \"\"}}, \"type\": \"scatterpolargl\"}], \"scatterternary\": [{\"marker\": {\"colorbar\": {\"outlinewidth\": 0, \"ticks\": \"\"}}, \"type\": \"scatterternary\"}], \"surface\": [{\"colorbar\": {\"outlinewidth\": 0, \"ticks\": \"\"}, \"colorscale\": [[0.0, \"#0d0887\"], [0.1111111111111111, \"#46039f\"], [0.2222222222222222, \"#7201a8\"], [0.3333333333333333, \"#9c179e\"], [0.4444444444444444, \"#bd3786\"], [0.5555555555555556, \"#d8576b\"], [0.6666666666666666, \"#ed7953\"], [0.7777777777777778, \"#fb9f3a\"], [0.8888888888888888, \"#fdca26\"], [1.0, \"#f0f921\"]], \"type\": \"surface\"}], \"table\": [{\"cells\": {\"fill\": {\"color\": \"#EBF0F8\"}, \"line\": {\"color\": \"white\"}}, \"header\": {\"fill\": {\"color\": \"#C8D4E3\"}, \"line\": {\"color\": \"white\"}}, \"type\": \"table\"}]}, \"layout\": {\"annotationdefaults\": {\"arrowcolor\": \"#2a3f5f\", \"arrowhead\": 0, \"arrowwidth\": 1}, \"coloraxis\": {\"colorbar\": {\"outlinewidth\": 0, \"ticks\": \"\"}}, \"colorscale\": {\"diverging\": [[0, \"#8e0152\"], [0.1, \"#c51b7d\"], [0.2, \"#de77ae\"], [0.3, \"#f1b6da\"], [0.4, \"#fde0ef\"], [0.5, \"#f7f7f7\"], [0.6, \"#e6f5d0\"], [0.7, \"#b8e186\"], [0.8, \"#7fbc41\"], [0.9, \"#4d9221\"], [1, \"#276419\"]], \"sequential\": [[0.0, \"#0d0887\"], [0.1111111111111111, \"#46039f\"], [0.2222222222222222, \"#7201a8\"], [0.3333333333333333, \"#9c179e\"], [0.4444444444444444, \"#bd3786\"], [0.5555555555555556, \"#d8576b\"], [0.6666666666666666, \"#ed7953\"], [0.7777777777777778, \"#fb9f3a\"], [0.8888888888888888, \"#fdca26\"], [1.0, \"#f0f921\"]], \"sequentialminus\": [[0.0, \"#0d0887\"], [0.1111111111111111, \"#46039f\"], [0.2222222222222222, \"#7201a8\"], [0.3333333333333333, \"#9c179e\"], [0.4444444444444444, \"#bd3786\"], [0.5555555555555556, \"#d8576b\"], [0.6666666666666666, \"#ed7953\"], [0.7777777777777778, \"#fb9f3a\"], [0.8888888888888888, \"#fdca26\"], [1.0, \"#f0f921\"]]}, \"colorway\": [\"#636efa\", \"#EF553B\", \"#00cc96\", \"#ab63fa\", \"#FFA15A\", \"#19d3f3\", \"#FF6692\", \"#B6E880\", \"#FF97FF\", \"#FECB52\"], \"font\": {\"color\": \"#2a3f5f\"}, \"geo\": {\"bgcolor\": \"white\", \"lakecolor\": \"white\", \"landcolor\": \"#E5ECF6\", \"showlakes\": true, \"showland\": true, \"subunitcolor\": \"white\"}, \"hoverlabel\": {\"align\": \"left\"}, \"hovermode\": \"closest\", \"mapbox\": {\"style\": \"light\"}, \"paper_bgcolor\": \"white\", \"plot_bgcolor\": \"#E5ECF6\", \"polar\": {\"angularaxis\": {\"gridcolor\": \"white\", \"linecolor\": \"white\", \"ticks\": \"\"}, \"bgcolor\": \"#E5ECF6\", \"radialaxis\": {\"gridcolor\": \"white\", \"linecolor\": \"white\", \"ticks\": \"\"}}, \"scene\": {\"xaxis\": {\"backgroundcolor\": \"#E5ECF6\", \"gridcolor\": \"white\", \"gridwidth\": 2, \"linecolor\": \"white\", \"showbackground\": true, \"ticks\": \"\", \"zerolinecolor\": \"white\"}, \"yaxis\": {\"backgroundcolor\": \"#E5ECF6\", \"gridcolor\": \"white\", \"gridwidth\": 2, \"linecolor\": \"white\", \"showbackground\": true, \"ticks\": \"\", \"zerolinecolor\": \"white\"}, \"zaxis\": {\"backgroundcolor\": \"#E5ECF6\", \"gridcolor\": \"white\", \"gridwidth\": 2, \"linecolor\": \"white\", \"showbackground\": true, \"ticks\": \"\", \"zerolinecolor\": \"white\"}}, \"shapedefaults\": {\"line\": {\"color\": \"#2a3f5f\"}}, \"ternary\": {\"aaxis\": {\"gridcolor\": \"white\", \"linecolor\": \"white\", \"ticks\": \"\"}, \"baxis\": {\"gridcolor\": \"white\", \"linecolor\": \"white\", \"ticks\": \"\"}, \"bgcolor\": \"#E5ECF6\", \"caxis\": {\"gridcolor\": \"white\", \"linecolor\": \"white\", \"ticks\": \"\"}}, \"title\": {\"x\": 0.05}, \"xaxis\": {\"automargin\": true, \"gridcolor\": \"white\", \"linecolor\": \"white\", \"ticks\": \"\", \"title\": {\"standoff\": 15}, \"zerolinecolor\": \"white\", \"zerolinewidth\": 2}, \"yaxis\": {\"automargin\": true, \"gridcolor\": \"white\", \"linecolor\": \"white\", \"ticks\": \"\", \"title\": {\"standoff\": 15}, \"zerolinecolor\": \"white\", \"zerolinewidth\": 2}}}, \"xaxis\": {\"anchor\": \"y\", \"domain\": [0.0, 1.0], \"title\": {\"text\": \"date\"}}, \"yaxis\": {\"anchor\": \"x\", \"domain\": [0.0, 1.0], \"title\": {\"text\": \"eacl_prv_alcrg_at\"}}},                        {\"responsive\": true}                    ).then(function(){\n",
       "                            \n",
       "var gd = document.getElementById('be488bee-501e-4a0a-8fd6-3a111de335e5');\n",
       "var x = new MutationObserver(function (mutations, observer) {{\n",
       "        var display = window.getComputedStyle(gd).display;\n",
       "        if (!display || display === 'none') {{\n",
       "            console.log([gd, 'removed!']);\n",
       "            Plotly.purge(gd);\n",
       "            observer.disconnect();\n",
       "        }}\n",
       "}});\n",
       "\n",
       "// Listen for the removal of the full notebook cells\n",
       "var notebookContainer = gd.closest('#notebook-container');\n",
       "if (notebookContainer) {{\n",
       "    x.observe(notebookContainer, {childList: true});\n",
       "}}\n",
       "\n",
       "// Listen for the clearing of the current output cell\n",
       "var outputEl = gd.closest('.output');\n",
       "if (outputEl) {{\n",
       "    x.observe(outputEl, {childList: true});\n",
       "}}\n",
       "\n",
       "                        })                };                });            </script>        </div>"
      ]
     },
     "metadata": {},
     "output_type": "display_data"
    },
    {
     "data": {
      "application/vnd.plotly.v1+json": {
       "config": {
        "plotlyServerURL": "https://plot.ly"
       },
       "data": [
        {
         "customdata": [
          [
           "Highmark_Lab_Egfr"
          ],
          [
           "Highmark_Lab_Egfr"
          ]
         ],
         "hovertemplate": "date=%{x}<br>egfr=%{y}<br>source=%{customdata[0]}<extra></extra>",
         "legendgroup": "",
         "marker": {
          "color": "#636efa",
          "symbol": "circle"
         },
         "mode": "markers",
         "name": "",
         "orientation": "v",
         "showlegend": false,
         "type": "scatter",
         "x": [
          "2012-09-19",
          "2012-10-19"
         ],
         "xaxis": "x",
         "y": [
          138,
          103
         ],
         "yaxis": "y"
        }
       ],
       "layout": {
        "legend": {
         "tracegroupgap": 0
        },
        "margin": {
         "t": 60
        },
        "template": {
         "data": {
          "bar": [
           {
            "error_x": {
             "color": "#2a3f5f"
            },
            "error_y": {
             "color": "#2a3f5f"
            },
            "marker": {
             "line": {
              "color": "#E5ECF6",
              "width": 0.5
             }
            },
            "type": "bar"
           }
          ],
          "barpolar": [
           {
            "marker": {
             "line": {
              "color": "#E5ECF6",
              "width": 0.5
             }
            },
            "type": "barpolar"
           }
          ],
          "carpet": [
           {
            "aaxis": {
             "endlinecolor": "#2a3f5f",
             "gridcolor": "white",
             "linecolor": "white",
             "minorgridcolor": "white",
             "startlinecolor": "#2a3f5f"
            },
            "baxis": {
             "endlinecolor": "#2a3f5f",
             "gridcolor": "white",
             "linecolor": "white",
             "minorgridcolor": "white",
             "startlinecolor": "#2a3f5f"
            },
            "type": "carpet"
           }
          ],
          "choropleth": [
           {
            "colorbar": {
             "outlinewidth": 0,
             "ticks": ""
            },
            "type": "choropleth"
           }
          ],
          "contour": [
           {
            "colorbar": {
             "outlinewidth": 0,
             "ticks": ""
            },
            "colorscale": [
             [
              0,
              "#0d0887"
             ],
             [
              0.1111111111111111,
              "#46039f"
             ],
             [
              0.2222222222222222,
              "#7201a8"
             ],
             [
              0.3333333333333333,
              "#9c179e"
             ],
             [
              0.4444444444444444,
              "#bd3786"
             ],
             [
              0.5555555555555556,
              "#d8576b"
             ],
             [
              0.6666666666666666,
              "#ed7953"
             ],
             [
              0.7777777777777778,
              "#fb9f3a"
             ],
             [
              0.8888888888888888,
              "#fdca26"
             ],
             [
              1,
              "#f0f921"
             ]
            ],
            "type": "contour"
           }
          ],
          "contourcarpet": [
           {
            "colorbar": {
             "outlinewidth": 0,
             "ticks": ""
            },
            "type": "contourcarpet"
           }
          ],
          "heatmap": [
           {
            "colorbar": {
             "outlinewidth": 0,
             "ticks": ""
            },
            "colorscale": [
             [
              0,
              "#0d0887"
             ],
             [
              0.1111111111111111,
              "#46039f"
             ],
             [
              0.2222222222222222,
              "#7201a8"
             ],
             [
              0.3333333333333333,
              "#9c179e"
             ],
             [
              0.4444444444444444,
              "#bd3786"
             ],
             [
              0.5555555555555556,
              "#d8576b"
             ],
             [
              0.6666666666666666,
              "#ed7953"
             ],
             [
              0.7777777777777778,
              "#fb9f3a"
             ],
             [
              0.8888888888888888,
              "#fdca26"
             ],
             [
              1,
              "#f0f921"
             ]
            ],
            "type": "heatmap"
           }
          ],
          "heatmapgl": [
           {
            "colorbar": {
             "outlinewidth": 0,
             "ticks": ""
            },
            "colorscale": [
             [
              0,
              "#0d0887"
             ],
             [
              0.1111111111111111,
              "#46039f"
             ],
             [
              0.2222222222222222,
              "#7201a8"
             ],
             [
              0.3333333333333333,
              "#9c179e"
             ],
             [
              0.4444444444444444,
              "#bd3786"
             ],
             [
              0.5555555555555556,
              "#d8576b"
             ],
             [
              0.6666666666666666,
              "#ed7953"
             ],
             [
              0.7777777777777778,
              "#fb9f3a"
             ],
             [
              0.8888888888888888,
              "#fdca26"
             ],
             [
              1,
              "#f0f921"
             ]
            ],
            "type": "heatmapgl"
           }
          ],
          "histogram": [
           {
            "marker": {
             "colorbar": {
              "outlinewidth": 0,
              "ticks": ""
             }
            },
            "type": "histogram"
           }
          ],
          "histogram2d": [
           {
            "colorbar": {
             "outlinewidth": 0,
             "ticks": ""
            },
            "colorscale": [
             [
              0,
              "#0d0887"
             ],
             [
              0.1111111111111111,
              "#46039f"
             ],
             [
              0.2222222222222222,
              "#7201a8"
             ],
             [
              0.3333333333333333,
              "#9c179e"
             ],
             [
              0.4444444444444444,
              "#bd3786"
             ],
             [
              0.5555555555555556,
              "#d8576b"
             ],
             [
              0.6666666666666666,
              "#ed7953"
             ],
             [
              0.7777777777777778,
              "#fb9f3a"
             ],
             [
              0.8888888888888888,
              "#fdca26"
             ],
             [
              1,
              "#f0f921"
             ]
            ],
            "type": "histogram2d"
           }
          ],
          "histogram2dcontour": [
           {
            "colorbar": {
             "outlinewidth": 0,
             "ticks": ""
            },
            "colorscale": [
             [
              0,
              "#0d0887"
             ],
             [
              0.1111111111111111,
              "#46039f"
             ],
             [
              0.2222222222222222,
              "#7201a8"
             ],
             [
              0.3333333333333333,
              "#9c179e"
             ],
             [
              0.4444444444444444,
              "#bd3786"
             ],
             [
              0.5555555555555556,
              "#d8576b"
             ],
             [
              0.6666666666666666,
              "#ed7953"
             ],
             [
              0.7777777777777778,
              "#fb9f3a"
             ],
             [
              0.8888888888888888,
              "#fdca26"
             ],
             [
              1,
              "#f0f921"
             ]
            ],
            "type": "histogram2dcontour"
           }
          ],
          "mesh3d": [
           {
            "colorbar": {
             "outlinewidth": 0,
             "ticks": ""
            },
            "type": "mesh3d"
           }
          ],
          "parcoords": [
           {
            "line": {
             "colorbar": {
              "outlinewidth": 0,
              "ticks": ""
             }
            },
            "type": "parcoords"
           }
          ],
          "pie": [
           {
            "automargin": true,
            "type": "pie"
           }
          ],
          "scatter": [
           {
            "marker": {
             "colorbar": {
              "outlinewidth": 0,
              "ticks": ""
             }
            },
            "type": "scatter"
           }
          ],
          "scatter3d": [
           {
            "line": {
             "colorbar": {
              "outlinewidth": 0,
              "ticks": ""
             }
            },
            "marker": {
             "colorbar": {
              "outlinewidth": 0,
              "ticks": ""
             }
            },
            "type": "scatter3d"
           }
          ],
          "scattercarpet": [
           {
            "marker": {
             "colorbar": {
              "outlinewidth": 0,
              "ticks": ""
             }
            },
            "type": "scattercarpet"
           }
          ],
          "scattergeo": [
           {
            "marker": {
             "colorbar": {
              "outlinewidth": 0,
              "ticks": ""
             }
            },
            "type": "scattergeo"
           }
          ],
          "scattergl": [
           {
            "marker": {
             "colorbar": {
              "outlinewidth": 0,
              "ticks": ""
             }
            },
            "type": "scattergl"
           }
          ],
          "scattermapbox": [
           {
            "marker": {
             "colorbar": {
              "outlinewidth": 0,
              "ticks": ""
             }
            },
            "type": "scattermapbox"
           }
          ],
          "scatterpolar": [
           {
            "marker": {
             "colorbar": {
              "outlinewidth": 0,
              "ticks": ""
             }
            },
            "type": "scatterpolar"
           }
          ],
          "scatterpolargl": [
           {
            "marker": {
             "colorbar": {
              "outlinewidth": 0,
              "ticks": ""
             }
            },
            "type": "scatterpolargl"
           }
          ],
          "scatterternary": [
           {
            "marker": {
             "colorbar": {
              "outlinewidth": 0,
              "ticks": ""
             }
            },
            "type": "scatterternary"
           }
          ],
          "surface": [
           {
            "colorbar": {
             "outlinewidth": 0,
             "ticks": ""
            },
            "colorscale": [
             [
              0,
              "#0d0887"
             ],
             [
              0.1111111111111111,
              "#46039f"
             ],
             [
              0.2222222222222222,
              "#7201a8"
             ],
             [
              0.3333333333333333,
              "#9c179e"
             ],
             [
              0.4444444444444444,
              "#bd3786"
             ],
             [
              0.5555555555555556,
              "#d8576b"
             ],
             [
              0.6666666666666666,
              "#ed7953"
             ],
             [
              0.7777777777777778,
              "#fb9f3a"
             ],
             [
              0.8888888888888888,
              "#fdca26"
             ],
             [
              1,
              "#f0f921"
             ]
            ],
            "type": "surface"
           }
          ],
          "table": [
           {
            "cells": {
             "fill": {
              "color": "#EBF0F8"
             },
             "line": {
              "color": "white"
             }
            },
            "header": {
             "fill": {
              "color": "#C8D4E3"
             },
             "line": {
              "color": "white"
             }
            },
            "type": "table"
           }
          ]
         },
         "layout": {
          "annotationdefaults": {
           "arrowcolor": "#2a3f5f",
           "arrowhead": 0,
           "arrowwidth": 1
          },
          "coloraxis": {
           "colorbar": {
            "outlinewidth": 0,
            "ticks": ""
           }
          },
          "colorscale": {
           "diverging": [
            [
             0,
             "#8e0152"
            ],
            [
             0.1,
             "#c51b7d"
            ],
            [
             0.2,
             "#de77ae"
            ],
            [
             0.3,
             "#f1b6da"
            ],
            [
             0.4,
             "#fde0ef"
            ],
            [
             0.5,
             "#f7f7f7"
            ],
            [
             0.6,
             "#e6f5d0"
            ],
            [
             0.7,
             "#b8e186"
            ],
            [
             0.8,
             "#7fbc41"
            ],
            [
             0.9,
             "#4d9221"
            ],
            [
             1,
             "#276419"
            ]
           ],
           "sequential": [
            [
             0,
             "#0d0887"
            ],
            [
             0.1111111111111111,
             "#46039f"
            ],
            [
             0.2222222222222222,
             "#7201a8"
            ],
            [
             0.3333333333333333,
             "#9c179e"
            ],
            [
             0.4444444444444444,
             "#bd3786"
            ],
            [
             0.5555555555555556,
             "#d8576b"
            ],
            [
             0.6666666666666666,
             "#ed7953"
            ],
            [
             0.7777777777777778,
             "#fb9f3a"
            ],
            [
             0.8888888888888888,
             "#fdca26"
            ],
            [
             1,
             "#f0f921"
            ]
           ],
           "sequentialminus": [
            [
             0,
             "#0d0887"
            ],
            [
             0.1111111111111111,
             "#46039f"
            ],
            [
             0.2222222222222222,
             "#7201a8"
            ],
            [
             0.3333333333333333,
             "#9c179e"
            ],
            [
             0.4444444444444444,
             "#bd3786"
            ],
            [
             0.5555555555555556,
             "#d8576b"
            ],
            [
             0.6666666666666666,
             "#ed7953"
            ],
            [
             0.7777777777777778,
             "#fb9f3a"
            ],
            [
             0.8888888888888888,
             "#fdca26"
            ],
            [
             1,
             "#f0f921"
            ]
           ]
          },
          "colorway": [
           "#636efa",
           "#EF553B",
           "#00cc96",
           "#ab63fa",
           "#FFA15A",
           "#19d3f3",
           "#FF6692",
           "#B6E880",
           "#FF97FF",
           "#FECB52"
          ],
          "font": {
           "color": "#2a3f5f"
          },
          "geo": {
           "bgcolor": "white",
           "lakecolor": "white",
           "landcolor": "#E5ECF6",
           "showlakes": true,
           "showland": true,
           "subunitcolor": "white"
          },
          "hoverlabel": {
           "align": "left"
          },
          "hovermode": "closest",
          "mapbox": {
           "style": "light"
          },
          "paper_bgcolor": "white",
          "plot_bgcolor": "#E5ECF6",
          "polar": {
           "angularaxis": {
            "gridcolor": "white",
            "linecolor": "white",
            "ticks": ""
           },
           "bgcolor": "#E5ECF6",
           "radialaxis": {
            "gridcolor": "white",
            "linecolor": "white",
            "ticks": ""
           }
          },
          "scene": {
           "xaxis": {
            "backgroundcolor": "#E5ECF6",
            "gridcolor": "white",
            "gridwidth": 2,
            "linecolor": "white",
            "showbackground": true,
            "ticks": "",
            "zerolinecolor": "white"
           },
           "yaxis": {
            "backgroundcolor": "#E5ECF6",
            "gridcolor": "white",
            "gridwidth": 2,
            "linecolor": "white",
            "showbackground": true,
            "ticks": "",
            "zerolinecolor": "white"
           },
           "zaxis": {
            "backgroundcolor": "#E5ECF6",
            "gridcolor": "white",
            "gridwidth": 2,
            "linecolor": "white",
            "showbackground": true,
            "ticks": "",
            "zerolinecolor": "white"
           }
          },
          "shapedefaults": {
           "line": {
            "color": "#2a3f5f"
           }
          },
          "ternary": {
           "aaxis": {
            "gridcolor": "white",
            "linecolor": "white",
            "ticks": ""
           },
           "baxis": {
            "gridcolor": "white",
            "linecolor": "white",
            "ticks": ""
           },
           "bgcolor": "#E5ECF6",
           "caxis": {
            "gridcolor": "white",
            "linecolor": "white",
            "ticks": ""
           }
          },
          "title": {
           "x": 0.05
          },
          "xaxis": {
           "automargin": true,
           "gridcolor": "white",
           "linecolor": "white",
           "ticks": "",
           "title": {
            "standoff": 15
           },
           "zerolinecolor": "white",
           "zerolinewidth": 2
          },
          "yaxis": {
           "automargin": true,
           "gridcolor": "white",
           "linecolor": "white",
           "ticks": "",
           "title": {
            "standoff": 15
           },
           "zerolinecolor": "white",
           "zerolinewidth": 2
          }
         }
        },
        "xaxis": {
         "anchor": "y",
         "domain": [
          0,
          1
         ],
         "title": {
          "text": "date"
         }
        },
        "yaxis": {
         "anchor": "x",
         "domain": [
          0,
          1
         ],
         "title": {
          "text": "egfr"
         }
        }
       }
      },
      "text/html": [
       "<div>                            <div id=\"0f35c6af-6a33-4560-b18b-735bb4de4718\" class=\"plotly-graph-div\" style=\"height:525px; width:100%;\"></div>            <script type=\"text/javascript\">                require([\"plotly\"], function(Plotly) {                    window.PLOTLYENV=window.PLOTLYENV || {};                                    if (document.getElementById(\"0f35c6af-6a33-4560-b18b-735bb4de4718\")) {                    Plotly.newPlot(                        \"0f35c6af-6a33-4560-b18b-735bb4de4718\",                        [{\"customdata\": [[\"Highmark_Lab_Egfr\"], [\"Highmark_Lab_Egfr\"]], \"hovertemplate\": \"date=%{x}<br>egfr=%{y}<br>source=%{customdata[0]}<extra></extra>\", \"legendgroup\": \"\", \"marker\": {\"color\": \"#636efa\", \"symbol\": \"circle\"}, \"mode\": \"markers\", \"name\": \"\", \"orientation\": \"v\", \"showlegend\": false, \"type\": \"scatter\", \"x\": [\"2012-09-19\", \"2012-10-19\"], \"xaxis\": \"x\", \"y\": [138.0, 103.0], \"yaxis\": \"y\"}],                        {\"legend\": {\"tracegroupgap\": 0}, \"margin\": {\"t\": 60}, \"template\": {\"data\": {\"bar\": [{\"error_x\": {\"color\": \"#2a3f5f\"}, \"error_y\": {\"color\": \"#2a3f5f\"}, \"marker\": {\"line\": {\"color\": \"#E5ECF6\", \"width\": 0.5}}, \"type\": \"bar\"}], \"barpolar\": [{\"marker\": {\"line\": {\"color\": \"#E5ECF6\", \"width\": 0.5}}, \"type\": \"barpolar\"}], \"carpet\": [{\"aaxis\": {\"endlinecolor\": \"#2a3f5f\", \"gridcolor\": \"white\", \"linecolor\": \"white\", \"minorgridcolor\": \"white\", \"startlinecolor\": \"#2a3f5f\"}, \"baxis\": {\"endlinecolor\": \"#2a3f5f\", \"gridcolor\": \"white\", \"linecolor\": \"white\", \"minorgridcolor\": \"white\", \"startlinecolor\": \"#2a3f5f\"}, \"type\": \"carpet\"}], \"choropleth\": [{\"colorbar\": {\"outlinewidth\": 0, \"ticks\": \"\"}, \"type\": \"choropleth\"}], \"contour\": [{\"colorbar\": {\"outlinewidth\": 0, \"ticks\": \"\"}, \"colorscale\": [[0.0, \"#0d0887\"], [0.1111111111111111, \"#46039f\"], [0.2222222222222222, \"#7201a8\"], [0.3333333333333333, \"#9c179e\"], [0.4444444444444444, \"#bd3786\"], [0.5555555555555556, \"#d8576b\"], [0.6666666666666666, \"#ed7953\"], [0.7777777777777778, \"#fb9f3a\"], [0.8888888888888888, \"#fdca26\"], [1.0, \"#f0f921\"]], \"type\": \"contour\"}], \"contourcarpet\": [{\"colorbar\": {\"outlinewidth\": 0, \"ticks\": \"\"}, \"type\": \"contourcarpet\"}], \"heatmap\": [{\"colorbar\": {\"outlinewidth\": 0, \"ticks\": \"\"}, \"colorscale\": [[0.0, \"#0d0887\"], [0.1111111111111111, \"#46039f\"], [0.2222222222222222, \"#7201a8\"], [0.3333333333333333, \"#9c179e\"], [0.4444444444444444, \"#bd3786\"], [0.5555555555555556, \"#d8576b\"], [0.6666666666666666, \"#ed7953\"], [0.7777777777777778, \"#fb9f3a\"], [0.8888888888888888, \"#fdca26\"], [1.0, \"#f0f921\"]], \"type\": \"heatmap\"}], \"heatmapgl\": [{\"colorbar\": {\"outlinewidth\": 0, \"ticks\": \"\"}, \"colorscale\": [[0.0, \"#0d0887\"], [0.1111111111111111, \"#46039f\"], [0.2222222222222222, \"#7201a8\"], [0.3333333333333333, \"#9c179e\"], [0.4444444444444444, \"#bd3786\"], [0.5555555555555556, \"#d8576b\"], [0.6666666666666666, \"#ed7953\"], [0.7777777777777778, \"#fb9f3a\"], [0.8888888888888888, \"#fdca26\"], [1.0, \"#f0f921\"]], \"type\": \"heatmapgl\"}], \"histogram\": [{\"marker\": {\"colorbar\": {\"outlinewidth\": 0, \"ticks\": \"\"}}, \"type\": \"histogram\"}], \"histogram2d\": [{\"colorbar\": {\"outlinewidth\": 0, \"ticks\": \"\"}, \"colorscale\": [[0.0, \"#0d0887\"], [0.1111111111111111, \"#46039f\"], [0.2222222222222222, \"#7201a8\"], [0.3333333333333333, \"#9c179e\"], [0.4444444444444444, \"#bd3786\"], [0.5555555555555556, \"#d8576b\"], [0.6666666666666666, \"#ed7953\"], [0.7777777777777778, \"#fb9f3a\"], [0.8888888888888888, \"#fdca26\"], [1.0, \"#f0f921\"]], \"type\": \"histogram2d\"}], \"histogram2dcontour\": [{\"colorbar\": {\"outlinewidth\": 0, \"ticks\": \"\"}, \"colorscale\": [[0.0, \"#0d0887\"], [0.1111111111111111, \"#46039f\"], [0.2222222222222222, \"#7201a8\"], [0.3333333333333333, \"#9c179e\"], [0.4444444444444444, \"#bd3786\"], [0.5555555555555556, \"#d8576b\"], [0.6666666666666666, \"#ed7953\"], [0.7777777777777778, \"#fb9f3a\"], [0.8888888888888888, \"#fdca26\"], [1.0, \"#f0f921\"]], \"type\": \"histogram2dcontour\"}], \"mesh3d\": [{\"colorbar\": {\"outlinewidth\": 0, \"ticks\": \"\"}, \"type\": \"mesh3d\"}], \"parcoords\": [{\"line\": {\"colorbar\": {\"outlinewidth\": 0, \"ticks\": \"\"}}, \"type\": \"parcoords\"}], \"pie\": [{\"automargin\": true, \"type\": \"pie\"}], \"scatter\": [{\"marker\": {\"colorbar\": {\"outlinewidth\": 0, \"ticks\": \"\"}}, \"type\": \"scatter\"}], \"scatter3d\": [{\"line\": {\"colorbar\": {\"outlinewidth\": 0, \"ticks\": \"\"}}, \"marker\": {\"colorbar\": {\"outlinewidth\": 0, \"ticks\": \"\"}}, \"type\": \"scatter3d\"}], \"scattercarpet\": [{\"marker\": {\"colorbar\": {\"outlinewidth\": 0, \"ticks\": \"\"}}, \"type\": \"scattercarpet\"}], \"scattergeo\": [{\"marker\": {\"colorbar\": {\"outlinewidth\": 0, \"ticks\": \"\"}}, \"type\": \"scattergeo\"}], \"scattergl\": [{\"marker\": {\"colorbar\": {\"outlinewidth\": 0, \"ticks\": \"\"}}, \"type\": \"scattergl\"}], \"scattermapbox\": [{\"marker\": {\"colorbar\": {\"outlinewidth\": 0, \"ticks\": \"\"}}, \"type\": \"scattermapbox\"}], \"scatterpolar\": [{\"marker\": {\"colorbar\": {\"outlinewidth\": 0, \"ticks\": \"\"}}, \"type\": \"scatterpolar\"}], \"scatterpolargl\": [{\"marker\": {\"colorbar\": {\"outlinewidth\": 0, \"ticks\": \"\"}}, \"type\": \"scatterpolargl\"}], \"scatterternary\": [{\"marker\": {\"colorbar\": {\"outlinewidth\": 0, \"ticks\": \"\"}}, \"type\": \"scatterternary\"}], \"surface\": [{\"colorbar\": {\"outlinewidth\": 0, \"ticks\": \"\"}, \"colorscale\": [[0.0, \"#0d0887\"], [0.1111111111111111, \"#46039f\"], [0.2222222222222222, \"#7201a8\"], [0.3333333333333333, \"#9c179e\"], [0.4444444444444444, \"#bd3786\"], [0.5555555555555556, \"#d8576b\"], [0.6666666666666666, \"#ed7953\"], [0.7777777777777778, \"#fb9f3a\"], [0.8888888888888888, \"#fdca26\"], [1.0, \"#f0f921\"]], \"type\": \"surface\"}], \"table\": [{\"cells\": {\"fill\": {\"color\": \"#EBF0F8\"}, \"line\": {\"color\": \"white\"}}, \"header\": {\"fill\": {\"color\": \"#C8D4E3\"}, \"line\": {\"color\": \"white\"}}, \"type\": \"table\"}]}, \"layout\": {\"annotationdefaults\": {\"arrowcolor\": \"#2a3f5f\", \"arrowhead\": 0, \"arrowwidth\": 1}, \"coloraxis\": {\"colorbar\": {\"outlinewidth\": 0, \"ticks\": \"\"}}, \"colorscale\": {\"diverging\": [[0, \"#8e0152\"], [0.1, \"#c51b7d\"], [0.2, \"#de77ae\"], [0.3, \"#f1b6da\"], [0.4, \"#fde0ef\"], [0.5, \"#f7f7f7\"], [0.6, \"#e6f5d0\"], [0.7, \"#b8e186\"], [0.8, \"#7fbc41\"], [0.9, \"#4d9221\"], [1, \"#276419\"]], \"sequential\": [[0.0, \"#0d0887\"], [0.1111111111111111, \"#46039f\"], [0.2222222222222222, \"#7201a8\"], [0.3333333333333333, \"#9c179e\"], [0.4444444444444444, \"#bd3786\"], [0.5555555555555556, \"#d8576b\"], [0.6666666666666666, \"#ed7953\"], [0.7777777777777778, \"#fb9f3a\"], [0.8888888888888888, \"#fdca26\"], [1.0, \"#f0f921\"]], \"sequentialminus\": [[0.0, \"#0d0887\"], [0.1111111111111111, \"#46039f\"], [0.2222222222222222, \"#7201a8\"], [0.3333333333333333, \"#9c179e\"], [0.4444444444444444, \"#bd3786\"], [0.5555555555555556, \"#d8576b\"], [0.6666666666666666, \"#ed7953\"], [0.7777777777777778, \"#fb9f3a\"], [0.8888888888888888, \"#fdca26\"], [1.0, \"#f0f921\"]]}, \"colorway\": [\"#636efa\", \"#EF553B\", \"#00cc96\", \"#ab63fa\", \"#FFA15A\", \"#19d3f3\", \"#FF6692\", \"#B6E880\", \"#FF97FF\", \"#FECB52\"], \"font\": {\"color\": \"#2a3f5f\"}, \"geo\": {\"bgcolor\": \"white\", \"lakecolor\": \"white\", \"landcolor\": \"#E5ECF6\", \"showlakes\": true, \"showland\": true, \"subunitcolor\": \"white\"}, \"hoverlabel\": {\"align\": \"left\"}, \"hovermode\": \"closest\", \"mapbox\": {\"style\": \"light\"}, \"paper_bgcolor\": \"white\", \"plot_bgcolor\": \"#E5ECF6\", \"polar\": {\"angularaxis\": {\"gridcolor\": \"white\", \"linecolor\": \"white\", \"ticks\": \"\"}, \"bgcolor\": \"#E5ECF6\", \"radialaxis\": {\"gridcolor\": \"white\", \"linecolor\": \"white\", \"ticks\": \"\"}}, \"scene\": {\"xaxis\": {\"backgroundcolor\": \"#E5ECF6\", \"gridcolor\": \"white\", \"gridwidth\": 2, \"linecolor\": \"white\", \"showbackground\": true, \"ticks\": \"\", \"zerolinecolor\": \"white\"}, \"yaxis\": {\"backgroundcolor\": \"#E5ECF6\", \"gridcolor\": \"white\", \"gridwidth\": 2, \"linecolor\": \"white\", \"showbackground\": true, \"ticks\": \"\", \"zerolinecolor\": \"white\"}, \"zaxis\": {\"backgroundcolor\": \"#E5ECF6\", \"gridcolor\": \"white\", \"gridwidth\": 2, \"linecolor\": \"white\", \"showbackground\": true, \"ticks\": \"\", \"zerolinecolor\": \"white\"}}, \"shapedefaults\": {\"line\": {\"color\": \"#2a3f5f\"}}, \"ternary\": {\"aaxis\": {\"gridcolor\": \"white\", \"linecolor\": \"white\", \"ticks\": \"\"}, \"baxis\": {\"gridcolor\": \"white\", \"linecolor\": \"white\", \"ticks\": \"\"}, \"bgcolor\": \"#E5ECF6\", \"caxis\": {\"gridcolor\": \"white\", \"linecolor\": \"white\", \"ticks\": \"\"}}, \"title\": {\"x\": 0.05}, \"xaxis\": {\"automargin\": true, \"gridcolor\": \"white\", \"linecolor\": \"white\", \"ticks\": \"\", \"title\": {\"standoff\": 15}, \"zerolinecolor\": \"white\", \"zerolinewidth\": 2}, \"yaxis\": {\"automargin\": true, \"gridcolor\": \"white\", \"linecolor\": \"white\", \"ticks\": \"\", \"title\": {\"standoff\": 15}, \"zerolinecolor\": \"white\", \"zerolinewidth\": 2}}}, \"xaxis\": {\"anchor\": \"y\", \"domain\": [0.0, 1.0], \"title\": {\"text\": \"date\"}}, \"yaxis\": {\"anchor\": \"x\", \"domain\": [0.0, 1.0], \"title\": {\"text\": \"egfr\"}}},                        {\"responsive\": true}                    ).then(function(){\n",
       "                            \n",
       "var gd = document.getElementById('0f35c6af-6a33-4560-b18b-735bb4de4718');\n",
       "var x = new MutationObserver(function (mutations, observer) {{\n",
       "        var display = window.getComputedStyle(gd).display;\n",
       "        if (!display || display === 'none') {{\n",
       "            console.log([gd, 'removed!']);\n",
       "            Plotly.purge(gd);\n",
       "            observer.disconnect();\n",
       "        }}\n",
       "}});\n",
       "\n",
       "// Listen for the removal of the full notebook cells\n",
       "var notebookContainer = gd.closest('#notebook-container');\n",
       "if (notebookContainer) {{\n",
       "    x.observe(notebookContainer, {childList: true});\n",
       "}}\n",
       "\n",
       "// Listen for the clearing of the current output cell\n",
       "var outputEl = gd.closest('.output');\n",
       "if (outputEl) {{\n",
       "    x.observe(outputEl, {childList: true});\n",
       "}}\n",
       "\n",
       "                        })                };                });            </script>        </div>"
      ]
     },
     "metadata": {},
     "output_type": "display_data"
    },
    {
     "name": "stderr",
     "output_type": "stream",
     "text": [
      "C:\\Users\\Joyqiao\\anaconda3\\lib\\site-packages\\IPython\\core\\interactiveshell.py:3254: DtypeWarning:\n",
      "\n",
      "Columns (13,14,15,16,17,18,19,20,21,23,25,41,42,43,44,45,46,47,48,49,52,53) have mixed types.Specify dtype option on import or set low_memory=False.\n",
      "\n"
     ]
    },
    {
     "data": {
      "text/html": [
       "<div>\n",
       "<style scoped>\n",
       "    .dataframe tbody tr th:only-of-type {\n",
       "        vertical-align: middle;\n",
       "    }\n",
       "\n",
       "    .dataframe tbody tr th {\n",
       "        vertical-align: top;\n",
       "    }\n",
       "\n",
       "    .dataframe thead th {\n",
       "        text-align: right;\n",
       "    }\n",
       "</style>\n",
       "<table border=\"1\" class=\"dataframe\">\n",
       "  <thead>\n",
       "    <tr style=\"text-align: right;\">\n",
       "      <th></th>\n",
       "      <th>Unnamed: 0</th>\n",
       "      <th>Unnamed: 0.1</th>\n",
       "      <th>claim_type</th>\n",
       "      <th>line_number</th>\n",
       "      <th>place_service</th>\n",
       "      <th>eacl_prv_alcrg_at</th>\n",
       "      <th>mmn_mr_hcg_catg_cd</th>\n",
       "      <th>proc_code</th>\n",
       "      <th>proc_code_format</th>\n",
       "      <th>prin_proc_mod</th>\n",
       "      <th>ip_prn_proc_code</th>\n",
       "      <th>ip_prn_proc_format_cd</th>\n",
       "      <th>ip_other_proc1</th>\n",
       "      <th>ip_other_proc2</th>\n",
       "      <th>ip_other_proc3</th>\n",
       "      <th>ip_other_proc4</th>\n",
       "      <th>ip_other_proc5</th>\n",
       "      <th>ip_other_proc6</th>\n",
       "      <th>ip_other_proc7</th>\n",
       "      <th>ip_other_proc8</th>\n",
       "      <th>ip_other_proc9</th>\n",
       "      <th>ip_other_proc10</th>\n",
       "      <th>pri_diag_cd</th>\n",
       "      <th>prim_diag_qfr_cd</th>\n",
       "      <th>admitting_diag_cd</th>\n",
       "      <th>admi_diag_qfr_cd</th>\n",
       "      <th>dx1</th>\n",
       "      <th>dx2</th>\n",
       "      <th>dx3</th>\n",
       "      <th>dx4</th>\n",
       "      <th>dx5</th>\n",
       "      <th>dx6</th>\n",
       "      <th>dx7</th>\n",
       "      <th>dx8</th>\n",
       "      <th>dx9</th>\n",
       "      <th>dx10</th>\n",
       "      <th>dx11</th>\n",
       "      <th>dx12</th>\n",
       "      <th>dx13</th>\n",
       "      <th>dx14</th>\n",
       "      <th>dx15</th>\n",
       "      <th>dx16</th>\n",
       "      <th>dx17</th>\n",
       "      <th>dx18</th>\n",
       "      <th>dx19</th>\n",
       "      <th>dx20</th>\n",
       "      <th>dx21</th>\n",
       "      <th>dx22</th>\n",
       "      <th>dx23</th>\n",
       "      <th>dx24</th>\n",
       "      <th>dx25</th>\n",
       "      <th>dx26</th>\n",
       "      <th>diag_qfr_cd_001</th>\n",
       "      <th>admission_source</th>\n",
       "      <th>admission_type</th>\n",
       "      <th>discharge_status</th>\n",
       "      <th>current_drg</th>\n",
       "      <th>bill_provider_specialty</th>\n",
       "      <th>TMA_Acct</th>\n",
       "      <th>claim_number_deidentified</th>\n",
       "      <th>provider_bill_npi_deidentified</th>\n",
       "      <th>icrd_dt_deidentified</th>\n",
       "      <th>admission_date_deidentified</th>\n",
       "      <th>discharge_date_deidentified</th>\n",
       "      <th>date</th>\n",
       "    </tr>\n",
       "  </thead>\n",
       "  <tbody>\n",
       "    <tr>\n",
       "      <th>189773</th>\n",
       "      <td>196288</td>\n",
       "      <td>13852827</td>\n",
       "      <td>O</td>\n",
       "      <td>5</td>\n",
       "      <td>22</td>\n",
       "      <td>3.65</td>\n",
       "      <td>O15</td>\n",
       "      <td>82247</td>\n",
       "      <td>H</td>\n",
       "      <td>0</td>\n",
       "      <td>NaN</td>\n",
       "      <td>NaN</td>\n",
       "      <td>NaN</td>\n",
       "      <td>NaN</td>\n",
       "      <td>NaN</td>\n",
       "      <td>NaN</td>\n",
       "      <td>NaN</td>\n",
       "      <td>NaN</td>\n",
       "      <td>NaN</td>\n",
       "      <td>NaN</td>\n",
       "      <td>NaN</td>\n",
       "      <td>NaN</td>\n",
       "      <td>V427</td>\n",
       "      <td>9</td>\n",
       "      <td>NaN</td>\n",
       "      <td>NaN</td>\n",
       "      <td>NaN</td>\n",
       "      <td>NaN</td>\n",
       "      <td>NaN</td>\n",
       "      <td>NaN</td>\n",
       "      <td>NaN</td>\n",
       "      <td>NaN</td>\n",
       "      <td>NaN</td>\n",
       "      <td>NaN</td>\n",
       "      <td>NaN</td>\n",
       "      <td>NaN</td>\n",
       "      <td>NaN</td>\n",
       "      <td>NaN</td>\n",
       "      <td>NaN</td>\n",
       "      <td>NaN</td>\n",
       "      <td>NaN</td>\n",
       "      <td>NaN</td>\n",
       "      <td>NaN</td>\n",
       "      <td>NaN</td>\n",
       "      <td>NaN</td>\n",
       "      <td>NaN</td>\n",
       "      <td>NaN</td>\n",
       "      <td>NaN</td>\n",
       "      <td>NaN</td>\n",
       "      <td>NaN</td>\n",
       "      <td>NaN</td>\n",
       "      <td>NaN</td>\n",
       "      <td>NaN</td>\n",
       "      <td>1</td>\n",
       "      <td>3.0</td>\n",
       "      <td>1.0</td>\n",
       "      <td>NaN</td>\n",
       "      <td>302.0</td>\n",
       "      <td>47019.0</td>\n",
       "      <td>1043338</td>\n",
       "      <td>48397</td>\n",
       "      <td>1282</td>\n",
       "      <td>NaN</td>\n",
       "      <td>NaN</td>\n",
       "      <td>2013-07-06</td>\n",
       "    </tr>\n",
       "    <tr>\n",
       "      <th>189774</th>\n",
       "      <td>196289</td>\n",
       "      <td>13852828</td>\n",
       "      <td>O</td>\n",
       "      <td>5</td>\n",
       "      <td>22</td>\n",
       "      <td>248.37</td>\n",
       "      <td>O11</td>\n",
       "      <td>99284</td>\n",
       "      <td>H</td>\n",
       "      <td>0</td>\n",
       "      <td>NaN</td>\n",
       "      <td>NaN</td>\n",
       "      <td>NaN</td>\n",
       "      <td>NaN</td>\n",
       "      <td>NaN</td>\n",
       "      <td>NaN</td>\n",
       "      <td>NaN</td>\n",
       "      <td>NaN</td>\n",
       "      <td>NaN</td>\n",
       "      <td>NaN</td>\n",
       "      <td>NaN</td>\n",
       "      <td>NaN</td>\n",
       "      <td>2752</td>\n",
       "      <td>9</td>\n",
       "      <td>NaN</td>\n",
       "      <td>NaN</td>\n",
       "      <td>72981</td>\n",
       "      <td>V426</td>\n",
       "      <td>V427</td>\n",
       "      <td>NaN</td>\n",
       "      <td>NaN</td>\n",
       "      <td>NaN</td>\n",
       "      <td>NaN</td>\n",
       "      <td>NaN</td>\n",
       "      <td>NaN</td>\n",
       "      <td>NaN</td>\n",
       "      <td>NaN</td>\n",
       "      <td>NaN</td>\n",
       "      <td>NaN</td>\n",
       "      <td>NaN</td>\n",
       "      <td>NaN</td>\n",
       "      <td>NaN</td>\n",
       "      <td>NaN</td>\n",
       "      <td>NaN</td>\n",
       "      <td>NaN</td>\n",
       "      <td>NaN</td>\n",
       "      <td>NaN</td>\n",
       "      <td>NaN</td>\n",
       "      <td>NaN</td>\n",
       "      <td>NaN</td>\n",
       "      <td>NaN</td>\n",
       "      <td>NaN</td>\n",
       "      <td>9</td>\n",
       "      <td>1</td>\n",
       "      <td>1.0</td>\n",
       "      <td>1.0</td>\n",
       "      <td>NaN</td>\n",
       "      <td>334.0</td>\n",
       "      <td>47019.0</td>\n",
       "      <td>456288</td>\n",
       "      <td>29021</td>\n",
       "      <td>1320</td>\n",
       "      <td>NaN</td>\n",
       "      <td>NaN</td>\n",
       "      <td>2013-08-13</td>\n",
       "    </tr>\n",
       "    <tr>\n",
       "      <th>189775</th>\n",
       "      <td>196290</td>\n",
       "      <td>13852829</td>\n",
       "      <td>O</td>\n",
       "      <td>5</td>\n",
       "      <td>22</td>\n",
       "      <td>171.00</td>\n",
       "      <td>O15</td>\n",
       "      <td>80197</td>\n",
       "      <td>H</td>\n",
       "      <td>0</td>\n",
       "      <td>NaN</td>\n",
       "      <td>NaN</td>\n",
       "      <td>NaN</td>\n",
       "      <td>NaN</td>\n",
       "      <td>NaN</td>\n",
       "      <td>NaN</td>\n",
       "      <td>NaN</td>\n",
       "      <td>NaN</td>\n",
       "      <td>NaN</td>\n",
       "      <td>NaN</td>\n",
       "      <td>NaN</td>\n",
       "      <td>NaN</td>\n",
       "      <td>V426</td>\n",
       "      <td>9</td>\n",
       "      <td>NaN</td>\n",
       "      <td>NaN</td>\n",
       "      <td>V5869</td>\n",
       "      <td>NaN</td>\n",
       "      <td>NaN</td>\n",
       "      <td>NaN</td>\n",
       "      <td>NaN</td>\n",
       "      <td>NaN</td>\n",
       "      <td>NaN</td>\n",
       "      <td>NaN</td>\n",
       "      <td>NaN</td>\n",
       "      <td>NaN</td>\n",
       "      <td>NaN</td>\n",
       "      <td>NaN</td>\n",
       "      <td>NaN</td>\n",
       "      <td>NaN</td>\n",
       "      <td>NaN</td>\n",
       "      <td>NaN</td>\n",
       "      <td>NaN</td>\n",
       "      <td>NaN</td>\n",
       "      <td>NaN</td>\n",
       "      <td>NaN</td>\n",
       "      <td>NaN</td>\n",
       "      <td>NaN</td>\n",
       "      <td>NaN</td>\n",
       "      <td>NaN</td>\n",
       "      <td>NaN</td>\n",
       "      <td>NaN</td>\n",
       "      <td>9</td>\n",
       "      <td>1</td>\n",
       "      <td>3.0</td>\n",
       "      <td>1.0</td>\n",
       "      <td>NaN</td>\n",
       "      <td>302.0</td>\n",
       "      <td>47019.0</td>\n",
       "      <td>2852207</td>\n",
       "      <td>50060</td>\n",
       "      <td>1313</td>\n",
       "      <td>NaN</td>\n",
       "      <td>NaN</td>\n",
       "      <td>2013-08-06</td>\n",
       "    </tr>\n",
       "    <tr>\n",
       "      <th>189776</th>\n",
       "      <td>196291</td>\n",
       "      <td>13852830</td>\n",
       "      <td>O</td>\n",
       "      <td>5</td>\n",
       "      <td>22</td>\n",
       "      <td>24.45</td>\n",
       "      <td>O15</td>\n",
       "      <td>82977</td>\n",
       "      <td>H</td>\n",
       "      <td>0</td>\n",
       "      <td>NaN</td>\n",
       "      <td>NaN</td>\n",
       "      <td>NaN</td>\n",
       "      <td>NaN</td>\n",
       "      <td>NaN</td>\n",
       "      <td>NaN</td>\n",
       "      <td>NaN</td>\n",
       "      <td>NaN</td>\n",
       "      <td>NaN</td>\n",
       "      <td>NaN</td>\n",
       "      <td>NaN</td>\n",
       "      <td>NaN</td>\n",
       "      <td>V426</td>\n",
       "      <td>9</td>\n",
       "      <td>NaN</td>\n",
       "      <td>NaN</td>\n",
       "      <td>NaN</td>\n",
       "      <td>NaN</td>\n",
       "      <td>NaN</td>\n",
       "      <td>NaN</td>\n",
       "      <td>NaN</td>\n",
       "      <td>NaN</td>\n",
       "      <td>NaN</td>\n",
       "      <td>NaN</td>\n",
       "      <td>NaN</td>\n",
       "      <td>NaN</td>\n",
       "      <td>NaN</td>\n",
       "      <td>NaN</td>\n",
       "      <td>NaN</td>\n",
       "      <td>NaN</td>\n",
       "      <td>NaN</td>\n",
       "      <td>NaN</td>\n",
       "      <td>NaN</td>\n",
       "      <td>NaN</td>\n",
       "      <td>NaN</td>\n",
       "      <td>NaN</td>\n",
       "      <td>NaN</td>\n",
       "      <td>NaN</td>\n",
       "      <td>NaN</td>\n",
       "      <td>NaN</td>\n",
       "      <td>NaN</td>\n",
       "      <td>NaN</td>\n",
       "      <td>NaN</td>\n",
       "      <td>1</td>\n",
       "      <td>3.0</td>\n",
       "      <td>1.0</td>\n",
       "      <td>NaN</td>\n",
       "      <td>334.0</td>\n",
       "      <td>47019.0</td>\n",
       "      <td>1147297</td>\n",
       "      <td>29021</td>\n",
       "      <td>1320</td>\n",
       "      <td>NaN</td>\n",
       "      <td>NaN</td>\n",
       "      <td>2013-08-13</td>\n",
       "    </tr>\n",
       "    <tr>\n",
       "      <th>189777</th>\n",
       "      <td>196292</td>\n",
       "      <td>13852831</td>\n",
       "      <td>O</td>\n",
       "      <td>5</td>\n",
       "      <td>22</td>\n",
       "      <td>20.92</td>\n",
       "      <td>O15</td>\n",
       "      <td>82247</td>\n",
       "      <td>H</td>\n",
       "      <td>0</td>\n",
       "      <td>NaN</td>\n",
       "      <td>NaN</td>\n",
       "      <td>NaN</td>\n",
       "      <td>NaN</td>\n",
       "      <td>NaN</td>\n",
       "      <td>NaN</td>\n",
       "      <td>NaN</td>\n",
       "      <td>NaN</td>\n",
       "      <td>NaN</td>\n",
       "      <td>NaN</td>\n",
       "      <td>NaN</td>\n",
       "      <td>NaN</td>\n",
       "      <td>78605</td>\n",
       "      <td>9</td>\n",
       "      <td>NaN</td>\n",
       "      <td>NaN</td>\n",
       "      <td>7862</td>\n",
       "      <td>78791</td>\n",
       "      <td>27700</td>\n",
       "      <td>V426</td>\n",
       "      <td>V427</td>\n",
       "      <td>V4585</td>\n",
       "      <td>NaN</td>\n",
       "      <td>NaN</td>\n",
       "      <td>NaN</td>\n",
       "      <td>NaN</td>\n",
       "      <td>NaN</td>\n",
       "      <td>NaN</td>\n",
       "      <td>NaN</td>\n",
       "      <td>NaN</td>\n",
       "      <td>NaN</td>\n",
       "      <td>NaN</td>\n",
       "      <td>NaN</td>\n",
       "      <td>NaN</td>\n",
       "      <td>NaN</td>\n",
       "      <td>NaN</td>\n",
       "      <td>NaN</td>\n",
       "      <td>NaN</td>\n",
       "      <td>NaN</td>\n",
       "      <td>NaN</td>\n",
       "      <td>NaN</td>\n",
       "      <td>NaN</td>\n",
       "      <td>9</td>\n",
       "      <td>2</td>\n",
       "      <td>3.0</td>\n",
       "      <td>1.0</td>\n",
       "      <td>NaN</td>\n",
       "      <td>302.0</td>\n",
       "      <td>47019.0</td>\n",
       "      <td>4062605</td>\n",
       "      <td>45210</td>\n",
       "      <td>1400</td>\n",
       "      <td>NaN</td>\n",
       "      <td>NaN</td>\n",
       "      <td>2013-11-01</td>\n",
       "    </tr>\n",
       "    <tr>\n",
       "      <th>...</th>\n",
       "      <td>...</td>\n",
       "      <td>...</td>\n",
       "      <td>...</td>\n",
       "      <td>...</td>\n",
       "      <td>...</td>\n",
       "      <td>...</td>\n",
       "      <td>...</td>\n",
       "      <td>...</td>\n",
       "      <td>...</td>\n",
       "      <td>...</td>\n",
       "      <td>...</td>\n",
       "      <td>...</td>\n",
       "      <td>...</td>\n",
       "      <td>...</td>\n",
       "      <td>...</td>\n",
       "      <td>...</td>\n",
       "      <td>...</td>\n",
       "      <td>...</td>\n",
       "      <td>...</td>\n",
       "      <td>...</td>\n",
       "      <td>...</td>\n",
       "      <td>...</td>\n",
       "      <td>...</td>\n",
       "      <td>...</td>\n",
       "      <td>...</td>\n",
       "      <td>...</td>\n",
       "      <td>...</td>\n",
       "      <td>...</td>\n",
       "      <td>...</td>\n",
       "      <td>...</td>\n",
       "      <td>...</td>\n",
       "      <td>...</td>\n",
       "      <td>...</td>\n",
       "      <td>...</td>\n",
       "      <td>...</td>\n",
       "      <td>...</td>\n",
       "      <td>...</td>\n",
       "      <td>...</td>\n",
       "      <td>...</td>\n",
       "      <td>...</td>\n",
       "      <td>...</td>\n",
       "      <td>...</td>\n",
       "      <td>...</td>\n",
       "      <td>...</td>\n",
       "      <td>...</td>\n",
       "      <td>...</td>\n",
       "      <td>...</td>\n",
       "      <td>...</td>\n",
       "      <td>...</td>\n",
       "      <td>...</td>\n",
       "      <td>...</td>\n",
       "      <td>...</td>\n",
       "      <td>...</td>\n",
       "      <td>...</td>\n",
       "      <td>...</td>\n",
       "      <td>...</td>\n",
       "      <td>...</td>\n",
       "      <td>...</td>\n",
       "      <td>...</td>\n",
       "      <td>...</td>\n",
       "      <td>...</td>\n",
       "      <td>...</td>\n",
       "      <td>...</td>\n",
       "      <td>...</td>\n",
       "      <td>...</td>\n",
       "    </tr>\n",
       "    <tr>\n",
       "      <th>582677</th>\n",
       "      <td>615420</td>\n",
       "      <td>13862543</td>\n",
       "      <td>O</td>\n",
       "      <td>13</td>\n",
       "      <td>22</td>\n",
       "      <td>153.80</td>\n",
       "      <td>O13b</td>\n",
       "      <td>71034</td>\n",
       "      <td>H</td>\n",
       "      <td>0</td>\n",
       "      <td>NaN</td>\n",
       "      <td>NaN</td>\n",
       "      <td>NaN</td>\n",
       "      <td>NaN</td>\n",
       "      <td>NaN</td>\n",
       "      <td>NaN</td>\n",
       "      <td>NaN</td>\n",
       "      <td>NaN</td>\n",
       "      <td>NaN</td>\n",
       "      <td>NaN</td>\n",
       "      <td>NaN</td>\n",
       "      <td>NaN</td>\n",
       "      <td>5194</td>\n",
       "      <td>9</td>\n",
       "      <td>NaN</td>\n",
       "      <td>NaN</td>\n",
       "      <td>V426</td>\n",
       "      <td>99684</td>\n",
       "      <td>NaN</td>\n",
       "      <td>NaN</td>\n",
       "      <td>NaN</td>\n",
       "      <td>NaN</td>\n",
       "      <td>NaN</td>\n",
       "      <td>NaN</td>\n",
       "      <td>NaN</td>\n",
       "      <td>NaN</td>\n",
       "      <td>NaN</td>\n",
       "      <td>NaN</td>\n",
       "      <td>NaN</td>\n",
       "      <td>NaN</td>\n",
       "      <td>NaN</td>\n",
       "      <td>NaN</td>\n",
       "      <td>NaN</td>\n",
       "      <td>NaN</td>\n",
       "      <td>NaN</td>\n",
       "      <td>NaN</td>\n",
       "      <td>NaN</td>\n",
       "      <td>NaN</td>\n",
       "      <td>NaN</td>\n",
       "      <td>NaN</td>\n",
       "      <td>NaN</td>\n",
       "      <td>NaN</td>\n",
       "      <td>9</td>\n",
       "      <td>1</td>\n",
       "      <td>3.0</td>\n",
       "      <td>1.0</td>\n",
       "      <td>NaN</td>\n",
       "      <td>301.0</td>\n",
       "      <td>47019.0</td>\n",
       "      <td>1174113</td>\n",
       "      <td>45981</td>\n",
       "      <td>1652</td>\n",
       "      <td>NaN</td>\n",
       "      <td>NaN</td>\n",
       "      <td>2014-07-11</td>\n",
       "    </tr>\n",
       "    <tr>\n",
       "      <th>582678</th>\n",
       "      <td>615421</td>\n",
       "      <td>13862579</td>\n",
       "      <td>O</td>\n",
       "      <td>2</td>\n",
       "      <td>22</td>\n",
       "      <td>148.15</td>\n",
       "      <td>O41j</td>\n",
       "      <td>94620</td>\n",
       "      <td>H</td>\n",
       "      <td>0</td>\n",
       "      <td>NaN</td>\n",
       "      <td>NaN</td>\n",
       "      <td>NaN</td>\n",
       "      <td>NaN</td>\n",
       "      <td>NaN</td>\n",
       "      <td>NaN</td>\n",
       "      <td>NaN</td>\n",
       "      <td>NaN</td>\n",
       "      <td>NaN</td>\n",
       "      <td>NaN</td>\n",
       "      <td>NaN</td>\n",
       "      <td>NaN</td>\n",
       "      <td>99684</td>\n",
       "      <td>9</td>\n",
       "      <td>NaN</td>\n",
       "      <td>NaN</td>\n",
       "      <td>NaN</td>\n",
       "      <td>NaN</td>\n",
       "      <td>NaN</td>\n",
       "      <td>NaN</td>\n",
       "      <td>NaN</td>\n",
       "      <td>NaN</td>\n",
       "      <td>NaN</td>\n",
       "      <td>NaN</td>\n",
       "      <td>NaN</td>\n",
       "      <td>NaN</td>\n",
       "      <td>NaN</td>\n",
       "      <td>NaN</td>\n",
       "      <td>NaN</td>\n",
       "      <td>NaN</td>\n",
       "      <td>NaN</td>\n",
       "      <td>NaN</td>\n",
       "      <td>NaN</td>\n",
       "      <td>NaN</td>\n",
       "      <td>NaN</td>\n",
       "      <td>NaN</td>\n",
       "      <td>NaN</td>\n",
       "      <td>NaN</td>\n",
       "      <td>NaN</td>\n",
       "      <td>NaN</td>\n",
       "      <td>NaN</td>\n",
       "      <td>NaN</td>\n",
       "      <td>NaN</td>\n",
       "      <td>1</td>\n",
       "      <td>3.0</td>\n",
       "      <td>1.0</td>\n",
       "      <td>NaN</td>\n",
       "      <td>301.0</td>\n",
       "      <td>47019.0</td>\n",
       "      <td>3494669</td>\n",
       "      <td>45981</td>\n",
       "      <td>1771</td>\n",
       "      <td>NaN</td>\n",
       "      <td>NaN</td>\n",
       "      <td>2014-11-07</td>\n",
       "    </tr>\n",
       "    <tr>\n",
       "      <th>582679</th>\n",
       "      <td>615422</td>\n",
       "      <td>13862584</td>\n",
       "      <td>O</td>\n",
       "      <td>3</td>\n",
       "      <td>22</td>\n",
       "      <td>49.33</td>\n",
       "      <td>O41d</td>\n",
       "      <td>99214</td>\n",
       "      <td>H</td>\n",
       "      <td>0</td>\n",
       "      <td>NaN</td>\n",
       "      <td>NaN</td>\n",
       "      <td>NaN</td>\n",
       "      <td>NaN</td>\n",
       "      <td>NaN</td>\n",
       "      <td>NaN</td>\n",
       "      <td>NaN</td>\n",
       "      <td>NaN</td>\n",
       "      <td>NaN</td>\n",
       "      <td>NaN</td>\n",
       "      <td>NaN</td>\n",
       "      <td>NaN</td>\n",
       "      <td>99684</td>\n",
       "      <td>9</td>\n",
       "      <td>NaN</td>\n",
       "      <td>NaN</td>\n",
       "      <td>NaN</td>\n",
       "      <td>NaN</td>\n",
       "      <td>NaN</td>\n",
       "      <td>NaN</td>\n",
       "      <td>NaN</td>\n",
       "      <td>NaN</td>\n",
       "      <td>NaN</td>\n",
       "      <td>NaN</td>\n",
       "      <td>NaN</td>\n",
       "      <td>NaN</td>\n",
       "      <td>NaN</td>\n",
       "      <td>NaN</td>\n",
       "      <td>NaN</td>\n",
       "      <td>NaN</td>\n",
       "      <td>NaN</td>\n",
       "      <td>NaN</td>\n",
       "      <td>NaN</td>\n",
       "      <td>NaN</td>\n",
       "      <td>NaN</td>\n",
       "      <td>NaN</td>\n",
       "      <td>NaN</td>\n",
       "      <td>NaN</td>\n",
       "      <td>NaN</td>\n",
       "      <td>NaN</td>\n",
       "      <td>NaN</td>\n",
       "      <td>NaN</td>\n",
       "      <td>NaN</td>\n",
       "      <td>1</td>\n",
       "      <td>3.0</td>\n",
       "      <td>1.0</td>\n",
       "      <td>NaN</td>\n",
       "      <td>301.0</td>\n",
       "      <td>47019.0</td>\n",
       "      <td>3494669</td>\n",
       "      <td>45981</td>\n",
       "      <td>1771</td>\n",
       "      <td>NaN</td>\n",
       "      <td>NaN</td>\n",
       "      <td>2014-11-07</td>\n",
       "    </tr>\n",
       "    <tr>\n",
       "      <th>582680</th>\n",
       "      <td>615423</td>\n",
       "      <td>13862670</td>\n",
       "      <td>O</td>\n",
       "      <td>5</td>\n",
       "      <td>22</td>\n",
       "      <td>58.64</td>\n",
       "      <td>O41d</td>\n",
       "      <td>99204</td>\n",
       "      <td>H</td>\n",
       "      <td>0</td>\n",
       "      <td>NaN</td>\n",
       "      <td>NaN</td>\n",
       "      <td>NaN</td>\n",
       "      <td>NaN</td>\n",
       "      <td>NaN</td>\n",
       "      <td>NaN</td>\n",
       "      <td>NaN</td>\n",
       "      <td>NaN</td>\n",
       "      <td>NaN</td>\n",
       "      <td>NaN</td>\n",
       "      <td>NaN</td>\n",
       "      <td>NaN</td>\n",
       "      <td>99684</td>\n",
       "      <td>9</td>\n",
       "      <td>NaN</td>\n",
       "      <td>NaN</td>\n",
       "      <td>27700</td>\n",
       "      <td>NaN</td>\n",
       "      <td>NaN</td>\n",
       "      <td>NaN</td>\n",
       "      <td>NaN</td>\n",
       "      <td>NaN</td>\n",
       "      <td>NaN</td>\n",
       "      <td>NaN</td>\n",
       "      <td>NaN</td>\n",
       "      <td>NaN</td>\n",
       "      <td>NaN</td>\n",
       "      <td>NaN</td>\n",
       "      <td>NaN</td>\n",
       "      <td>NaN</td>\n",
       "      <td>NaN</td>\n",
       "      <td>NaN</td>\n",
       "      <td>NaN</td>\n",
       "      <td>NaN</td>\n",
       "      <td>NaN</td>\n",
       "      <td>NaN</td>\n",
       "      <td>NaN</td>\n",
       "      <td>NaN</td>\n",
       "      <td>NaN</td>\n",
       "      <td>NaN</td>\n",
       "      <td>NaN</td>\n",
       "      <td>NaN</td>\n",
       "      <td>9</td>\n",
       "      <td>1</td>\n",
       "      <td>3.0</td>\n",
       "      <td>1.0</td>\n",
       "      <td>NaN</td>\n",
       "      <td>301.0</td>\n",
       "      <td>47019.0</td>\n",
       "      <td>1264266</td>\n",
       "      <td>45981</td>\n",
       "      <td>1699</td>\n",
       "      <td>NaN</td>\n",
       "      <td>NaN</td>\n",
       "      <td>2014-08-27</td>\n",
       "    </tr>\n",
       "    <tr>\n",
       "      <th>582681</th>\n",
       "      <td>615424</td>\n",
       "      <td>13862970</td>\n",
       "      <td>P</td>\n",
       "      <td>1</td>\n",
       "      <td>10</td>\n",
       "      <td>32.00</td>\n",
       "      <td>P37f</td>\n",
       "      <td>93970</td>\n",
       "      <td>H</td>\n",
       "      <td>26</td>\n",
       "      <td>NaN</td>\n",
       "      <td>NaN</td>\n",
       "      <td>NaN</td>\n",
       "      <td>NaN</td>\n",
       "      <td>NaN</td>\n",
       "      <td>NaN</td>\n",
       "      <td>NaN</td>\n",
       "      <td>NaN</td>\n",
       "      <td>NaN</td>\n",
       "      <td>NaN</td>\n",
       "      <td>NaN</td>\n",
       "      <td>NaN</td>\n",
       "      <td>78652</td>\n",
       "      <td>9</td>\n",
       "      <td>NaN</td>\n",
       "      <td>NaN</td>\n",
       "      <td>NaN</td>\n",
       "      <td>NaN</td>\n",
       "      <td>NaN</td>\n",
       "      <td>NaN</td>\n",
       "      <td>NaN</td>\n",
       "      <td>NaN</td>\n",
       "      <td>NaN</td>\n",
       "      <td>NaN</td>\n",
       "      <td>NaN</td>\n",
       "      <td>NaN</td>\n",
       "      <td>NaN</td>\n",
       "      <td>NaN</td>\n",
       "      <td>NaN</td>\n",
       "      <td>NaN</td>\n",
       "      <td>NaN</td>\n",
       "      <td>NaN</td>\n",
       "      <td>NaN</td>\n",
       "      <td>NaN</td>\n",
       "      <td>NaN</td>\n",
       "      <td>NaN</td>\n",
       "      <td>NaN</td>\n",
       "      <td>NaN</td>\n",
       "      <td>NaN</td>\n",
       "      <td>NaN</td>\n",
       "      <td>NaN</td>\n",
       "      <td>NaN</td>\n",
       "      <td>NaN</td>\n",
       "      <td>NaN</td>\n",
       "      <td>NaN</td>\n",
       "      <td>NaN</td>\n",
       "      <td>NaN</td>\n",
       "      <td>29.0</td>\n",
       "      <td>47019.0</td>\n",
       "      <td>4395052</td>\n",
       "      <td>9134</td>\n",
       "      <td>1757</td>\n",
       "      <td>NaN</td>\n",
       "      <td>NaN</td>\n",
       "      <td>2014-10-24</td>\n",
       "    </tr>\n",
       "  </tbody>\n",
       "</table>\n",
       "<p>4325 rows × 65 columns</p>\n",
       "</div>"
      ],
      "text/plain": [
       "        Unnamed: 0  Unnamed: 0.1 claim_type  line_number place_service  \\\n",
       "189773      196288      13852827          O            5            22   \n",
       "189774      196289      13852828          O            5            22   \n",
       "189775      196290      13852829          O            5            22   \n",
       "189776      196291      13852830          O            5            22   \n",
       "189777      196292      13852831          O            5            22   \n",
       "...            ...           ...        ...          ...           ...   \n",
       "582677      615420      13862543          O           13            22   \n",
       "582678      615421      13862579          O            2            22   \n",
       "582679      615422      13862584          O            3            22   \n",
       "582680      615423      13862670          O            5            22   \n",
       "582681      615424      13862970          P            1            10   \n",
       "\n",
       "        eacl_prv_alcrg_at mmn_mr_hcg_catg_cd proc_code proc_code_format  \\\n",
       "189773               3.65                O15     82247                H   \n",
       "189774             248.37                O11     99284                H   \n",
       "189775             171.00                O15     80197                H   \n",
       "189776              24.45                O15     82977                H   \n",
       "189777              20.92                O15     82247                H   \n",
       "...                   ...                ...       ...              ...   \n",
       "582677             153.80               O13b     71034                H   \n",
       "582678             148.15               O41j     94620                H   \n",
       "582679              49.33               O41d     99214                H   \n",
       "582680              58.64               O41d     99204                H   \n",
       "582681              32.00               P37f     93970                H   \n",
       "\n",
       "       prin_proc_mod ip_prn_proc_code ip_prn_proc_format_cd ip_other_proc1  \\\n",
       "189773             0              NaN                   NaN            NaN   \n",
       "189774             0              NaN                   NaN            NaN   \n",
       "189775             0              NaN                   NaN            NaN   \n",
       "189776             0              NaN                   NaN            NaN   \n",
       "189777             0              NaN                   NaN            NaN   \n",
       "...              ...              ...                   ...            ...   \n",
       "582677             0              NaN                   NaN            NaN   \n",
       "582678             0              NaN                   NaN            NaN   \n",
       "582679             0              NaN                   NaN            NaN   \n",
       "582680             0              NaN                   NaN            NaN   \n",
       "582681            26              NaN                   NaN            NaN   \n",
       "\n",
       "       ip_other_proc2 ip_other_proc3 ip_other_proc4 ip_other_proc5  \\\n",
       "189773            NaN            NaN            NaN            NaN   \n",
       "189774            NaN            NaN            NaN            NaN   \n",
       "189775            NaN            NaN            NaN            NaN   \n",
       "189776            NaN            NaN            NaN            NaN   \n",
       "189777            NaN            NaN            NaN            NaN   \n",
       "...               ...            ...            ...            ...   \n",
       "582677            NaN            NaN            NaN            NaN   \n",
       "582678            NaN            NaN            NaN            NaN   \n",
       "582679            NaN            NaN            NaN            NaN   \n",
       "582680            NaN            NaN            NaN            NaN   \n",
       "582681            NaN            NaN            NaN            NaN   \n",
       "\n",
       "       ip_other_proc6 ip_other_proc7 ip_other_proc8 ip_other_proc9  \\\n",
       "189773            NaN            NaN            NaN            NaN   \n",
       "189774            NaN            NaN            NaN            NaN   \n",
       "189775            NaN            NaN            NaN            NaN   \n",
       "189776            NaN            NaN            NaN            NaN   \n",
       "189777            NaN            NaN            NaN            NaN   \n",
       "...               ...            ...            ...            ...   \n",
       "582677            NaN            NaN            NaN            NaN   \n",
       "582678            NaN            NaN            NaN            NaN   \n",
       "582679            NaN            NaN            NaN            NaN   \n",
       "582680            NaN            NaN            NaN            NaN   \n",
       "582681            NaN            NaN            NaN            NaN   \n",
       "\n",
       "       ip_other_proc10 pri_diag_cd prim_diag_qfr_cd admitting_diag_cd  \\\n",
       "189773             NaN        V427                9               NaN   \n",
       "189774             NaN        2752                9               NaN   \n",
       "189775             NaN        V426                9               NaN   \n",
       "189776             NaN        V426                9               NaN   \n",
       "189777             NaN       78605                9               NaN   \n",
       "...                ...         ...              ...               ...   \n",
       "582677             NaN        5194                9               NaN   \n",
       "582678             NaN       99684                9               NaN   \n",
       "582679             NaN       99684                9               NaN   \n",
       "582680             NaN       99684                9               NaN   \n",
       "582681             NaN       78652                9               NaN   \n",
       "\n",
       "       admi_diag_qfr_cd    dx1    dx2    dx3   dx4   dx5    dx6  dx7  dx8  \\\n",
       "189773              NaN    NaN    NaN    NaN   NaN   NaN    NaN  NaN  NaN   \n",
       "189774              NaN  72981   V426   V427   NaN   NaN    NaN  NaN  NaN   \n",
       "189775              NaN  V5869    NaN    NaN   NaN   NaN    NaN  NaN  NaN   \n",
       "189776              NaN    NaN    NaN    NaN   NaN   NaN    NaN  NaN  NaN   \n",
       "189777              NaN   7862  78791  27700  V426  V427  V4585  NaN  NaN   \n",
       "...                 ...    ...    ...    ...   ...   ...    ...  ...  ...   \n",
       "582677              NaN   V426  99684    NaN   NaN   NaN    NaN  NaN  NaN   \n",
       "582678              NaN    NaN    NaN    NaN   NaN   NaN    NaN  NaN  NaN   \n",
       "582679              NaN    NaN    NaN    NaN   NaN   NaN    NaN  NaN  NaN   \n",
       "582680              NaN  27700    NaN    NaN   NaN   NaN    NaN  NaN  NaN   \n",
       "582681              NaN    NaN    NaN    NaN   NaN   NaN    NaN  NaN  NaN   \n",
       "\n",
       "        dx9 dx10 dx11 dx12 dx13 dx14 dx15 dx16 dx17 dx18 dx19 dx20 dx21 dx22  \\\n",
       "189773  NaN  NaN  NaN  NaN  NaN  NaN  NaN  NaN  NaN  NaN  NaN  NaN  NaN  NaN   \n",
       "189774  NaN  NaN  NaN  NaN  NaN  NaN  NaN  NaN  NaN  NaN  NaN  NaN  NaN  NaN   \n",
       "189775  NaN  NaN  NaN  NaN  NaN  NaN  NaN  NaN  NaN  NaN  NaN  NaN  NaN  NaN   \n",
       "189776  NaN  NaN  NaN  NaN  NaN  NaN  NaN  NaN  NaN  NaN  NaN  NaN  NaN  NaN   \n",
       "189777  NaN  NaN  NaN  NaN  NaN  NaN  NaN  NaN  NaN  NaN  NaN  NaN  NaN  NaN   \n",
       "...     ...  ...  ...  ...  ...  ...  ...  ...  ...  ...  ...  ...  ...  ...   \n",
       "582677  NaN  NaN  NaN  NaN  NaN  NaN  NaN  NaN  NaN  NaN  NaN  NaN  NaN  NaN   \n",
       "582678  NaN  NaN  NaN  NaN  NaN  NaN  NaN  NaN  NaN  NaN  NaN  NaN  NaN  NaN   \n",
       "582679  NaN  NaN  NaN  NaN  NaN  NaN  NaN  NaN  NaN  NaN  NaN  NaN  NaN  NaN   \n",
       "582680  NaN  NaN  NaN  NaN  NaN  NaN  NaN  NaN  NaN  NaN  NaN  NaN  NaN  NaN   \n",
       "582681  NaN  NaN  NaN  NaN  NaN  NaN  NaN  NaN  NaN  NaN  NaN  NaN  NaN  NaN   \n",
       "\n",
       "       dx23 dx24  dx25  dx26 diag_qfr_cd_001 admission_source  admission_type  \\\n",
       "189773  NaN  NaN   NaN   NaN             NaN                1             3.0   \n",
       "189774  NaN  NaN   NaN   NaN               9                1             1.0   \n",
       "189775  NaN  NaN   NaN   NaN               9                1             3.0   \n",
       "189776  NaN  NaN   NaN   NaN             NaN                1             3.0   \n",
       "189777  NaN  NaN   NaN   NaN               9                2             3.0   \n",
       "...     ...  ...   ...   ...             ...              ...             ...   \n",
       "582677  NaN  NaN   NaN   NaN               9                1             3.0   \n",
       "582678  NaN  NaN   NaN   NaN             NaN                1             3.0   \n",
       "582679  NaN  NaN   NaN   NaN             NaN                1             3.0   \n",
       "582680  NaN  NaN   NaN   NaN               9                1             3.0   \n",
       "582681  NaN  NaN   NaN   NaN             NaN              NaN             NaN   \n",
       "\n",
       "        discharge_status  current_drg  bill_provider_specialty  TMA_Acct  \\\n",
       "189773               1.0          NaN                    302.0   47019.0   \n",
       "189774               1.0          NaN                    334.0   47019.0   \n",
       "189775               1.0          NaN                    302.0   47019.0   \n",
       "189776               1.0          NaN                    334.0   47019.0   \n",
       "189777               1.0          NaN                    302.0   47019.0   \n",
       "...                  ...          ...                      ...       ...   \n",
       "582677               1.0          NaN                    301.0   47019.0   \n",
       "582678               1.0          NaN                    301.0   47019.0   \n",
       "582679               1.0          NaN                    301.0   47019.0   \n",
       "582680               1.0          NaN                    301.0   47019.0   \n",
       "582681               NaN          NaN                     29.0   47019.0   \n",
       "\n",
       "        claim_number_deidentified  provider_bill_npi_deidentified  \\\n",
       "189773                    1043338                           48397   \n",
       "189774                     456288                           29021   \n",
       "189775                    2852207                           50060   \n",
       "189776                    1147297                           29021   \n",
       "189777                    4062605                           45210   \n",
       "...                           ...                             ...   \n",
       "582677                    1174113                           45981   \n",
       "582678                    3494669                           45981   \n",
       "582679                    3494669                           45981   \n",
       "582680                    1264266                           45981   \n",
       "582681                    4395052                            9134   \n",
       "\n",
       "        icrd_dt_deidentified  admission_date_deidentified  \\\n",
       "189773                  1282                          NaN   \n",
       "189774                  1320                          NaN   \n",
       "189775                  1313                          NaN   \n",
       "189776                  1320                          NaN   \n",
       "189777                  1400                          NaN   \n",
       "...                      ...                          ...   \n",
       "582677                  1652                          NaN   \n",
       "582678                  1771                          NaN   \n",
       "582679                  1771                          NaN   \n",
       "582680                  1699                          NaN   \n",
       "582681                  1757                          NaN   \n",
       "\n",
       "        discharge_date_deidentified       date  \n",
       "189773                          NaN 2013-07-06  \n",
       "189774                          NaN 2013-08-13  \n",
       "189775                          NaN 2013-08-06  \n",
       "189776                          NaN 2013-08-13  \n",
       "189777                          NaN 2013-11-01  \n",
       "...                             ...        ...  \n",
       "582677                          NaN 2014-07-11  \n",
       "582678                          NaN 2014-11-07  \n",
       "582679                          NaN 2014-11-07  \n",
       "582680                          NaN 2014-08-27  \n",
       "582681                          NaN 2014-10-24  \n",
       "\n",
       "[4325 rows x 65 columns]"
      ]
     },
     "metadata": {},
     "output_type": "display_data"
    },
    {
     "data": {
      "application/vnd.plotly.v1+json": {
       "config": {
        "plotlyServerURL": "https://plot.ly"
       },
       "data": [
        {
         "customdata": [
          [
           "I"
          ],
          [
           "I"
          ],
          [
           "I"
          ],
          [
           "I"
          ],
          [
           "I"
          ],
          [
           "I"
          ],
          [
           "I"
          ],
          [
           "I"
          ],
          [
           "I"
          ],
          [
           "I"
          ],
          [
           "I"
          ],
          [
           "I"
          ],
          [
           "I"
          ],
          [
           "I"
          ],
          [
           "I"
          ],
          [
           "I"
          ],
          [
           "I"
          ],
          [
           "I"
          ],
          [
           "I"
          ],
          [
           "I"
          ],
          [
           "I"
          ],
          [
           "I"
          ],
          [
           "I"
          ],
          [
           "I"
          ],
          [
           "I"
          ],
          [
           "I"
          ],
          [
           "I"
          ],
          [
           "I"
          ],
          [
           "I"
          ],
          [
           "I"
          ],
          [
           "I"
          ],
          [
           "I"
          ],
          [
           "I"
          ],
          [
           "I"
          ],
          [
           "I"
          ],
          [
           "I"
          ],
          [
           "I"
          ],
          [
           "I"
          ],
          [
           "I"
          ],
          [
           "I"
          ],
          [
           "I"
          ],
          [
           "I"
          ],
          [
           "I"
          ],
          [
           "I"
          ],
          [
           "I"
          ],
          [
           "I"
          ],
          [
           "I"
          ],
          [
           "I"
          ],
          [
           "I"
          ],
          [
           "I"
          ],
          [
           "I"
          ],
          [
           "I"
          ],
          [
           "I"
          ],
          [
           "I"
          ],
          [
           "I"
          ],
          [
           "I"
          ],
          [
           "I"
          ],
          [
           "I"
          ],
          [
           "I"
          ],
          [
           "I"
          ],
          [
           "I"
          ],
          [
           "I"
          ],
          [
           "I"
          ],
          [
           "I"
          ],
          [
           "I"
          ],
          [
           "I"
          ],
          [
           "I"
          ],
          [
           "I"
          ],
          [
           "I"
          ],
          [
           "I"
          ],
          [
           "I"
          ],
          [
           "I"
          ],
          [
           "I"
          ],
          [
           "I"
          ],
          [
           "I"
          ],
          [
           "I"
          ],
          [
           "I"
          ],
          [
           "I"
          ],
          [
           "I"
          ],
          [
           "I"
          ],
          [
           "I"
          ],
          [
           "I"
          ],
          [
           "I"
          ],
          [
           "I"
          ],
          [
           "I"
          ],
          [
           "I"
          ],
          [
           "I"
          ],
          [
           "I"
          ],
          [
           "I"
          ],
          [
           "I"
          ],
          [
           "I"
          ],
          [
           "I"
          ],
          [
           "I"
          ],
          [
           "I"
          ],
          [
           "I"
          ],
          [
           "I"
          ],
          [
           "I"
          ],
          [
           "I"
          ],
          [
           "I"
          ],
          [
           "I"
          ],
          [
           "I"
          ],
          [
           "I"
          ],
          [
           "I"
          ],
          [
           "I"
          ],
          [
           "I"
          ],
          [
           "I"
          ],
          [
           "I"
          ],
          [
           "I"
          ],
          [
           "I"
          ],
          [
           "I"
          ],
          [
           "I"
          ],
          [
           "I"
          ],
          [
           "I"
          ],
          [
           "I"
          ],
          [
           "I"
          ],
          [
           "I"
          ],
          [
           "I"
          ],
          [
           "I"
          ],
          [
           "I"
          ],
          [
           "I"
          ],
          [
           "I"
          ],
          [
           "I"
          ],
          [
           "I"
          ],
          [
           "I"
          ],
          [
           "I"
          ],
          [
           "I"
          ],
          [
           "I"
          ],
          [
           "I"
          ],
          [
           "I"
          ],
          [
           "I"
          ],
          [
           "I"
          ],
          [
           "I"
          ],
          [
           "I"
          ],
          [
           "I"
          ],
          [
           "I"
          ],
          [
           "I"
          ],
          [
           "I"
          ],
          [
           "I"
          ],
          [
           "I"
          ],
          [
           "I"
          ],
          [
           "I"
          ],
          [
           "I"
          ],
          [
           "I"
          ],
          [
           "I"
          ],
          [
           "I"
          ],
          [
           "I"
          ],
          [
           "I"
          ],
          [
           "I"
          ],
          [
           "I"
          ],
          [
           "I"
          ],
          [
           "I"
          ],
          [
           "I"
          ],
          [
           "I"
          ],
          [
           "I"
          ],
          [
           "I"
          ],
          [
           "I"
          ],
          [
           "I"
          ],
          [
           "I"
          ],
          [
           "I"
          ],
          [
           "I"
          ],
          [
           "I"
          ],
          [
           "I"
          ],
          [
           "I"
          ],
          [
           "I"
          ],
          [
           "I"
          ],
          [
           "I"
          ],
          [
           "I"
          ],
          [
           "I"
          ],
          [
           "I"
          ],
          [
           "I"
          ],
          [
           "I"
          ],
          [
           "I"
          ],
          [
           "I"
          ],
          [
           "I"
          ],
          [
           "I"
          ],
          [
           "I"
          ],
          [
           "I"
          ],
          [
           "I"
          ],
          [
           "I"
          ],
          [
           "I"
          ],
          [
           "I"
          ],
          [
           "I"
          ],
          [
           "I"
          ],
          [
           "I"
          ],
          [
           "I"
          ],
          [
           "I"
          ],
          [
           "I"
          ],
          [
           "I"
          ],
          [
           "I"
          ],
          [
           "I"
          ],
          [
           "I"
          ],
          [
           "I"
          ],
          [
           "I"
          ],
          [
           "I"
          ],
          [
           "I"
          ],
          [
           "I"
          ],
          [
           "I"
          ],
          [
           "I"
          ],
          [
           "I"
          ],
          [
           "I"
          ],
          [
           "I"
          ],
          [
           "I"
          ],
          [
           "I"
          ],
          [
           "I"
          ],
          [
           "I"
          ],
          [
           "I"
          ],
          [
           "I"
          ],
          [
           "I"
          ],
          [
           "I"
          ],
          [
           "I"
          ],
          [
           "I"
          ],
          [
           "I"
          ],
          [
           "I"
          ],
          [
           "I"
          ],
          [
           "I"
          ],
          [
           "I"
          ],
          [
           "I"
          ],
          [
           "I"
          ],
          [
           "I"
          ],
          [
           "I"
          ],
          [
           "I"
          ],
          [
           "I"
          ],
          [
           "I"
          ],
          [
           "I"
          ],
          [
           "I"
          ],
          [
           "I"
          ],
          [
           "I"
          ],
          [
           "I"
          ],
          [
           "I"
          ],
          [
           "I"
          ],
          [
           "I"
          ],
          [
           "I"
          ],
          [
           "I"
          ],
          [
           "I"
          ],
          [
           "I"
          ],
          [
           "I"
          ],
          [
           "I"
          ],
          [
           "I"
          ],
          [
           "I"
          ],
          [
           "I"
          ],
          [
           "I"
          ],
          [
           "I"
          ],
          [
           "I"
          ],
          [
           "I"
          ],
          [
           "I"
          ],
          [
           "I"
          ],
          [
           "I"
          ],
          [
           "I"
          ],
          [
           "I"
          ],
          [
           "I"
          ],
          [
           "I"
          ],
          [
           "I"
          ],
          [
           "I"
          ],
          [
           "I"
          ],
          [
           "I"
          ],
          [
           "I"
          ],
          [
           "I"
          ],
          [
           "I"
          ],
          [
           "I"
          ],
          [
           "I"
          ],
          [
           "I"
          ],
          [
           "I"
          ],
          [
           "I"
          ],
          [
           "I"
          ],
          [
           "I"
          ],
          [
           "I"
          ],
          [
           "I"
          ],
          [
           "I"
          ],
          [
           "I"
          ],
          [
           "I"
          ],
          [
           "I"
          ],
          [
           "I"
          ],
          [
           "I"
          ],
          [
           "I"
          ],
          [
           "I"
          ],
          [
           "I"
          ],
          [
           "I"
          ],
          [
           "I"
          ],
          [
           "I"
          ],
          [
           "I"
          ],
          [
           "I"
          ],
          [
           "I"
          ],
          [
           "I"
          ],
          [
           "I"
          ],
          [
           "I"
          ],
          [
           "I"
          ],
          [
           "I"
          ],
          [
           "I"
          ],
          [
           "I"
          ],
          [
           "I"
          ],
          [
           "I"
          ],
          [
           "I"
          ],
          [
           "I"
          ],
          [
           "I"
          ],
          [
           "I"
          ],
          [
           "I"
          ],
          [
           "I"
          ],
          [
           "I"
          ],
          [
           "I"
          ],
          [
           "I"
          ],
          [
           "I"
          ],
          [
           "I"
          ],
          [
           "I"
          ]
         ],
         "hovertemplate": "date=%{x}<br>eacl_prv_alcrg_at=%{y}<br>claim_type=%{customdata[0]}<extra></extra>",
         "legendgroup": "",
         "marker": {
          "color": "#636efa",
          "symbol": "circle"
         },
         "mode": "markers",
         "name": "",
         "orientation": "v",
         "showlegend": false,
         "type": "scatter",
         "x": [
          "2013-05-05T00:00:00",
          "2013-05-05T00:00:00",
          "2013-05-05T00:00:00",
          "2013-05-05T00:00:00",
          "2013-05-05T00:00:00",
          "2013-05-05T00:00:00",
          "2013-05-05T00:00:00",
          "2013-05-05T00:00:00",
          "2013-05-05T00:00:00",
          "2013-07-19T00:00:00",
          "2013-07-19T00:00:00",
          "2013-05-05T00:00:00",
          "2013-07-19T00:00:00",
          "2013-07-19T00:00:00",
          "2013-05-05T00:00:00",
          "2013-07-19T00:00:00",
          "2013-05-05T00:00:00",
          "2013-07-19T00:00:00",
          "2013-05-05T00:00:00",
          "2013-05-05T00:00:00",
          "2013-07-19T00:00:00",
          "2013-05-05T00:00:00",
          "2013-07-19T00:00:00",
          "2013-05-05T00:00:00",
          "2013-07-19T00:00:00",
          "2013-05-05T00:00:00",
          "2013-07-19T00:00:00",
          "2013-05-05T00:00:00",
          "2013-07-19T00:00:00",
          "2013-05-05T00:00:00",
          "2013-07-19T00:00:00",
          "2013-05-05T00:00:00",
          "2013-07-19T00:00:00",
          "2013-05-05T00:00:00",
          "2013-05-05T00:00:00",
          "2013-07-19T00:00:00",
          "2013-05-05T00:00:00",
          "2013-07-19T00:00:00",
          "2013-05-05T00:00:00",
          "2013-07-19T00:00:00",
          "2013-05-05T00:00:00",
          "2013-07-19T00:00:00",
          "2013-07-19T00:00:00",
          "2016-09-02T00:00:00",
          "2016-01-22T00:00:00",
          "2016-11-27T00:00:00",
          "2016-09-02T00:00:00",
          "2016-01-22T00:00:00",
          "2016-11-27T00:00:00",
          "2016-11-27T00:00:00",
          "2016-09-02T00:00:00",
          "2016-11-27T00:00:00",
          "2016-09-02T00:00:00",
          "2016-01-22T00:00:00",
          "2016-11-27T00:00:00",
          "2016-09-02T00:00:00",
          "2016-01-22T00:00:00",
          "2016-01-22T00:00:00",
          "2016-09-02T00:00:00",
          "2016-11-27T00:00:00",
          "2016-09-02T00:00:00",
          "2016-11-27T00:00:00",
          "2016-11-27T00:00:00",
          "2016-11-27T00:00:00",
          "2016-11-27T00:00:00",
          "2016-11-27T00:00:00",
          "2016-11-27T00:00:00",
          "2016-09-02T00:00:00",
          "2016-11-27T00:00:00",
          "2016-09-02T00:00:00",
          "2016-11-27T00:00:00",
          "2016-01-22T00:00:00",
          "2016-09-02T00:00:00",
          "2016-01-22T00:00:00",
          "2016-11-27T00:00:00",
          "2016-09-02T00:00:00",
          "2016-01-22T00:00:00",
          "2016-11-27T00:00:00",
          "2016-09-02T00:00:00",
          "2016-01-22T00:00:00",
          "2016-11-27T00:00:00",
          "2016-09-02T00:00:00",
          "2016-04-25T00:00:00",
          "2016-01-22T00:00:00",
          "2016-11-27T00:00:00",
          "2016-09-02T00:00:00",
          "2016-04-25T00:00:00",
          "2016-01-22T00:00:00",
          "2014-01-12T00:00:00",
          "2014-12-12T00:00:00",
          "2014-10-21T00:00:00",
          "2014-10-03T00:00:00",
          "2014-10-03T00:00:00",
          "2014-01-12T00:00:00",
          "2014-12-12T00:00:00",
          "2014-10-21T00:00:00",
          "2014-10-03T00:00:00",
          "2014-10-21T00:00:00",
          "2014-12-12T00:00:00",
          "2014-01-12T00:00:00",
          "2014-12-12T00:00:00",
          "2014-10-21T00:00:00",
          "2014-12-12T00:00:00",
          "2014-10-21T00:00:00",
          "2014-01-12T00:00:00",
          "2014-12-12T00:00:00",
          "2014-10-21T00:00:00",
          "2014-10-03T00:00:00",
          "2014-01-12T00:00:00",
          "2014-12-12T00:00:00",
          "2014-10-03T00:00:00",
          "2014-01-12T00:00:00",
          "2014-12-12T00:00:00",
          "2014-10-21T00:00:00",
          "2014-10-03T00:00:00",
          "2014-12-12T00:00:00",
          "2014-10-21T00:00:00",
          "2014-10-03T00:00:00",
          "2014-01-12T00:00:00",
          "2014-01-12T00:00:00",
          "2014-10-03T00:00:00",
          "2014-10-21T00:00:00",
          "2014-12-12T00:00:00",
          "2014-01-12T00:00:00",
          "2014-12-12T00:00:00",
          "2014-10-21T00:00:00",
          "2014-10-03T00:00:00",
          "2014-01-12T00:00:00",
          "2014-12-12T00:00:00",
          "2014-10-21T00:00:00",
          "2014-10-03T00:00:00",
          "2014-01-12T00:00:00",
          "2014-10-21T00:00:00",
          "2014-10-21T00:00:00",
          "2014-02-11T00:00:00",
          "2014-02-11T00:00:00",
          "2014-02-11T00:00:00",
          "2014-02-11T00:00:00",
          "2014-02-11T00:00:00",
          "2014-02-11T00:00:00",
          "2014-02-11T00:00:00",
          "2014-02-11T00:00:00",
          "2014-02-11T00:00:00",
          "2014-02-11T00:00:00",
          "2014-10-21T00:00:00",
          "2014-02-11T00:00:00",
          "2014-12-12T00:00:00",
          "2014-02-11T00:00:00",
          "2014-10-21T00:00:00",
          "2014-01-12T00:00:00",
          "2014-12-12T00:00:00",
          "2014-10-21T00:00:00",
          "2014-10-03T00:00:00",
          "2014-01-12T00:00:00",
          "2014-10-21T00:00:00",
          "2014-10-03T00:00:00",
          "2014-01-12T00:00:00",
          "2014-12-12T00:00:00",
          "2014-12-12T00:00:00",
          "2014-10-03T00:00:00",
          "2014-10-21T00:00:00",
          "2014-01-12T00:00:00",
          "2014-12-12T00:00:00",
          "2014-10-21T00:00:00",
          "2014-10-03T00:00:00",
          "2014-01-12T00:00:00",
          "2014-12-12T00:00:00",
          "2014-10-21T00:00:00",
          "2014-10-03T00:00:00",
          "2014-01-12T00:00:00",
          "2014-12-12T00:00:00",
          "2014-10-21T00:00:00",
          "2014-10-03T00:00:00",
          "2014-10-03T00:00:00",
          "2014-01-12T00:00:00",
          "2014-12-12T00:00:00",
          "2014-10-21T00:00:00",
          "2014-10-03T00:00:00",
          "2014-01-12T00:00:00",
          "2016-01-22T00:00:00",
          "2016-11-27T00:00:00",
          "2016-09-02T00:00:00",
          "2016-04-25T00:00:00",
          "2016-01-22T00:00:00",
          "2016-11-27T00:00:00",
          "2016-04-25T00:00:00",
          "2011-05-16T00:00:00",
          "2011-05-28T00:00:00",
          "2011-05-16T00:00:00",
          "2011-05-28T00:00:00",
          "2011-05-16T00:00:00",
          "2011-05-28T00:00:00",
          "2011-05-16T00:00:00",
          "2011-05-16T00:00:00",
          "2016-09-02T00:00:00",
          "2011-05-28T00:00:00",
          "2016-04-25T00:00:00",
          "2016-11-27T00:00:00",
          "2016-06-24T00:00:00",
          "2016-04-25T00:00:00",
          "2016-01-22T00:00:00",
          "2016-11-27T00:00:00",
          "2016-09-02T00:00:00",
          "2016-06-24T00:00:00",
          "2016-09-02T00:00:00",
          "2016-04-25T00:00:00",
          "2016-11-27T00:00:00",
          "2016-09-02T00:00:00",
          "2016-06-24T00:00:00",
          "2016-04-25T00:00:00",
          "2016-01-22T00:00:00",
          "2016-11-27T00:00:00",
          "2016-01-22T00:00:00",
          "2016-11-27T00:00:00",
          "2016-01-22T00:00:00",
          "2016-04-25T00:00:00",
          "2016-09-02T00:00:00",
          "2016-04-25T00:00:00",
          "2016-01-22T00:00:00",
          "2016-11-27T00:00:00",
          "2016-09-02T00:00:00",
          "2016-04-25T00:00:00",
          "2016-01-22T00:00:00",
          "2016-11-27T00:00:00",
          "2016-09-02T00:00:00",
          "2016-06-24T00:00:00",
          "2016-04-25T00:00:00",
          "2016-01-22T00:00:00",
          "2016-11-27T00:00:00",
          "2016-09-02T00:00:00",
          "2016-06-24T00:00:00",
          "2016-01-22T00:00:00",
          "2016-09-02T00:00:00",
          "2011-05-16T00:00:00",
          "2011-05-16T00:00:00",
          "2011-05-28T00:00:00",
          "2011-05-28T00:00:00",
          "2011-05-28T00:00:00",
          "2011-05-28T00:00:00",
          "2011-05-28T00:00:00",
          "2011-05-28T00:00:00",
          "2011-05-28T00:00:00",
          "2011-05-28T00:00:00",
          "2011-05-28T00:00:00",
          "2011-05-28T00:00:00",
          "2011-05-28T00:00:00",
          "2011-05-28T00:00:00",
          "2011-05-28T00:00:00",
          "2011-05-28T00:00:00",
          "2011-05-28T00:00:00",
          "2016-06-24T00:00:00",
          "2016-04-25T00:00:00",
          "2016-01-22T00:00:00",
          "2016-01-22T00:00:00",
          "2016-11-27T00:00:00",
          "2016-09-02T00:00:00",
          "2016-06-24T00:00:00",
          "2016-04-25T00:00:00",
          "2016-01-22T00:00:00",
          "2016-04-25T00:00:00",
          "2016-06-24T00:00:00",
          "2016-09-02T00:00:00",
          "2016-11-27T00:00:00",
          "2016-11-27T00:00:00",
          "2016-09-02T00:00:00",
          "2016-06-24T00:00:00",
          "2016-04-25T00:00:00",
          "2016-01-22T00:00:00",
          "2016-11-27T00:00:00",
          "2016-09-02T00:00:00",
          "2016-06-24T00:00:00",
          "2016-04-25T00:00:00",
          "2016-01-22T00:00:00",
          "2016-11-27T00:00:00",
          "2016-09-02T00:00:00",
          "2016-06-24T00:00:00",
          "2016-04-25T00:00:00",
          "2016-01-22T00:00:00",
          "2015-07-10T00:00:00",
          "2015-07-10T00:00:00",
          "2015-07-10T00:00:00",
          "2015-07-10T00:00:00",
          "2015-07-10T00:00:00",
          "2015-07-10T00:00:00",
          "2015-07-10T00:00:00",
          "2015-07-10T00:00:00",
          "2015-07-10T00:00:00",
          "2015-07-10T00:00:00",
          "2015-07-10T00:00:00",
          "2015-07-10T00:00:00",
          "2015-07-10T00:00:00",
          "2014-02-11T00:00:00",
          "2014-02-11T00:00:00",
          "2014-02-11T00:00:00",
          "2014-02-11T00:00:00",
          "2014-02-11T00:00:00",
          "2014-02-11T00:00:00",
          "2014-02-11T00:00:00",
          "2014-02-11T00:00:00",
          "2014-02-11T00:00:00",
          "2014-02-11T00:00:00",
          "2014-02-11T00:00:00",
          "2014-02-11T00:00:00"
         ],
         "xaxis": "x",
         "y": [
          8403.56,
          239.66,
          108400.67,
          2305.38,
          97.05,
          3.21,
          137.61,
          61.31,
          2388.6,
          647.35,
          407.37,
          654.45,
          37.04,
          350.51,
          1113.01,
          411.45,
          8904.14,
          1454.69,
          273.3,
          759.71,
          122.18,
          306.78,
          87.1,
          1640.99,
          21678.89,
          188.8,
          30.92,
          799.71,
          1106.29,
          5027.08,
          14.06,
          20898.29,
          8.46,
          644.79,
          4463.49,
          1298.79,
          500.73,
          498.71,
          1238.08,
          120.67,
          296.48,
          104.33,
          159.38,
          42.13,
          1568.31,
          80667.23,
          266.78,
          469.73,
          817.94,
          362.34,
          6178.55,
          544.98,
          602.22,
          506.02,
          1432.31,
          16.2,
          254.26,
          534.4,
          1.96,
          171.7,
          131.43,
          8971.62,
          5201.2,
          902.93,
          22018.76,
          19653.32,
          532.84,
          252.05,
          201.31,
          411.86,
          7032.41,
          371.41,
          121.11,
          1452.52,
          519.5,
          162.36,
          19.58,
          55470.7,
          13216.93,
          436.46,
          216.26,
          383.77,
          5674.79,
          611.62,
          28023.85,
          504.29,
          556.48,
          44662.95,
          158.72,
          22.75,
          83.88,
          958.54,
          20.16,
          1429.92,
          209.67,
          600.09,
          51.49,
          129.78,
          150.21,
          82.69,
          25.53,
          10.13,
          108.71,
          180.44,
          9.49,
          6234.16,
          2010.38,
          2822.39,
          712.5,
          2598,
          1901.43,
          270.9,
          299.24,
          24.45,
          63.9,
          79.31,
          46.64,
          1275.81,
          204.91,
          302.3,
          122.22,
          34.13,
          241.83,
          152.43,
          10.91,
          102.56,
          570.32,
          123.49,
          140.21,
          68.26,
          400.01,
          506.39,
          61.86,
          2789.81,
          508.44,
          489.31,
          87.32,
          22.82,
          147.85,
          1327.58,
          114.21,
          484.98,
          1564.48,
          3471.41,
          180.94,
          1736.24,
          131.14,
          36.89,
          1046.18,
          1789.37,
          600.27,
          290.76,
          146.41,
          122.58,
          87.16,
          2075.96,
          28.29,
          3079.68,
          25.32,
          329.13,
          2235.04,
          216.05,
          2.84,
          61.13,
          497.73,
          84.88,
          740.93,
          203.68,
          1588.27,
          248.63,
          2714.87,
          2361.05,
          3659.7,
          42.18,
          1027.99,
          7759.09,
          2590.1,
          435.84,
          2853.74,
          48452.63,
          74689.9,
          964.09,
          398.87,
          147.66,
          1546.51,
          8027.22,
          12.14,
          2096.57,
          52.93,
          115.62,
          240.62,
          2475,
          888.02,
          462.69,
          284.66,
          130.66,
          857.03,
          6229,
          648.85,
          375.65,
          941.73,
          165.96,
          1035.58,
          15.48,
          444.87,
          256.13,
          28126.11,
          10041.42,
          180.27,
          4931.17,
          9.44,
          48.56,
          36705.93,
          872.78,
          1444.23,
          1180.93,
          265.99,
          450.25,
          496.6,
          1131.46,
          115.31,
          315.7,
          2453.23,
          3159.32,
          136.43,
          45.55,
          102.1,
          686.58,
          78927.8,
          2696.57,
          2927.47,
          1824.69,
          1436.56,
          333.89,
          24.79,
          278.73,
          20.17,
          448.92,
          573.99,
          2267.65,
          70.79,
          537.41,
          2001.59,
          160.75,
          138.04,
          398.49,
          23.3,
          13.86,
          623.54,
          3161.97,
          4733.81,
          896.72,
          2326.79,
          28257.55,
          5480.56,
          1942.43,
          1671.49,
          490.77,
          4683.53,
          9608.72,
          1227.11,
          10414.02,
          1055.28,
          12214.33,
          122.39,
          71.68,
          191.03,
          378.19,
          39496.62,
          4022.83,
          3422.19,
          3629.43,
          13461.81,
          3536.08,
          4690.33,
          333.17,
          2967.67,
          23757.96,
          6538.26,
          14.68,
          109.48,
          1273.94,
          257.38,
          60.15,
          484.45,
          274.8,
          1143.15,
          46.6,
          16.19,
          1675.86,
          1402.73,
          2132.72,
          183.47,
          779.12,
          140.28,
          36.66,
          237.53,
          786.07,
          2513.3,
          5576.74,
          816.8,
          59.18,
          2789.24
         ],
         "yaxis": "y"
        }
       ],
       "layout": {
        "legend": {
         "tracegroupgap": 0
        },
        "margin": {
         "t": 60
        },
        "template": {
         "data": {
          "bar": [
           {
            "error_x": {
             "color": "#2a3f5f"
            },
            "error_y": {
             "color": "#2a3f5f"
            },
            "marker": {
             "line": {
              "color": "#E5ECF6",
              "width": 0.5
             }
            },
            "type": "bar"
           }
          ],
          "barpolar": [
           {
            "marker": {
             "line": {
              "color": "#E5ECF6",
              "width": 0.5
             }
            },
            "type": "barpolar"
           }
          ],
          "carpet": [
           {
            "aaxis": {
             "endlinecolor": "#2a3f5f",
             "gridcolor": "white",
             "linecolor": "white",
             "minorgridcolor": "white",
             "startlinecolor": "#2a3f5f"
            },
            "baxis": {
             "endlinecolor": "#2a3f5f",
             "gridcolor": "white",
             "linecolor": "white",
             "minorgridcolor": "white",
             "startlinecolor": "#2a3f5f"
            },
            "type": "carpet"
           }
          ],
          "choropleth": [
           {
            "colorbar": {
             "outlinewidth": 0,
             "ticks": ""
            },
            "type": "choropleth"
           }
          ],
          "contour": [
           {
            "colorbar": {
             "outlinewidth": 0,
             "ticks": ""
            },
            "colorscale": [
             [
              0,
              "#0d0887"
             ],
             [
              0.1111111111111111,
              "#46039f"
             ],
             [
              0.2222222222222222,
              "#7201a8"
             ],
             [
              0.3333333333333333,
              "#9c179e"
             ],
             [
              0.4444444444444444,
              "#bd3786"
             ],
             [
              0.5555555555555556,
              "#d8576b"
             ],
             [
              0.6666666666666666,
              "#ed7953"
             ],
             [
              0.7777777777777778,
              "#fb9f3a"
             ],
             [
              0.8888888888888888,
              "#fdca26"
             ],
             [
              1,
              "#f0f921"
             ]
            ],
            "type": "contour"
           }
          ],
          "contourcarpet": [
           {
            "colorbar": {
             "outlinewidth": 0,
             "ticks": ""
            },
            "type": "contourcarpet"
           }
          ],
          "heatmap": [
           {
            "colorbar": {
             "outlinewidth": 0,
             "ticks": ""
            },
            "colorscale": [
             [
              0,
              "#0d0887"
             ],
             [
              0.1111111111111111,
              "#46039f"
             ],
             [
              0.2222222222222222,
              "#7201a8"
             ],
             [
              0.3333333333333333,
              "#9c179e"
             ],
             [
              0.4444444444444444,
              "#bd3786"
             ],
             [
              0.5555555555555556,
              "#d8576b"
             ],
             [
              0.6666666666666666,
              "#ed7953"
             ],
             [
              0.7777777777777778,
              "#fb9f3a"
             ],
             [
              0.8888888888888888,
              "#fdca26"
             ],
             [
              1,
              "#f0f921"
             ]
            ],
            "type": "heatmap"
           }
          ],
          "heatmapgl": [
           {
            "colorbar": {
             "outlinewidth": 0,
             "ticks": ""
            },
            "colorscale": [
             [
              0,
              "#0d0887"
             ],
             [
              0.1111111111111111,
              "#46039f"
             ],
             [
              0.2222222222222222,
              "#7201a8"
             ],
             [
              0.3333333333333333,
              "#9c179e"
             ],
             [
              0.4444444444444444,
              "#bd3786"
             ],
             [
              0.5555555555555556,
              "#d8576b"
             ],
             [
              0.6666666666666666,
              "#ed7953"
             ],
             [
              0.7777777777777778,
              "#fb9f3a"
             ],
             [
              0.8888888888888888,
              "#fdca26"
             ],
             [
              1,
              "#f0f921"
             ]
            ],
            "type": "heatmapgl"
           }
          ],
          "histogram": [
           {
            "marker": {
             "colorbar": {
              "outlinewidth": 0,
              "ticks": ""
             }
            },
            "type": "histogram"
           }
          ],
          "histogram2d": [
           {
            "colorbar": {
             "outlinewidth": 0,
             "ticks": ""
            },
            "colorscale": [
             [
              0,
              "#0d0887"
             ],
             [
              0.1111111111111111,
              "#46039f"
             ],
             [
              0.2222222222222222,
              "#7201a8"
             ],
             [
              0.3333333333333333,
              "#9c179e"
             ],
             [
              0.4444444444444444,
              "#bd3786"
             ],
             [
              0.5555555555555556,
              "#d8576b"
             ],
             [
              0.6666666666666666,
              "#ed7953"
             ],
             [
              0.7777777777777778,
              "#fb9f3a"
             ],
             [
              0.8888888888888888,
              "#fdca26"
             ],
             [
              1,
              "#f0f921"
             ]
            ],
            "type": "histogram2d"
           }
          ],
          "histogram2dcontour": [
           {
            "colorbar": {
             "outlinewidth": 0,
             "ticks": ""
            },
            "colorscale": [
             [
              0,
              "#0d0887"
             ],
             [
              0.1111111111111111,
              "#46039f"
             ],
             [
              0.2222222222222222,
              "#7201a8"
             ],
             [
              0.3333333333333333,
              "#9c179e"
             ],
             [
              0.4444444444444444,
              "#bd3786"
             ],
             [
              0.5555555555555556,
              "#d8576b"
             ],
             [
              0.6666666666666666,
              "#ed7953"
             ],
             [
              0.7777777777777778,
              "#fb9f3a"
             ],
             [
              0.8888888888888888,
              "#fdca26"
             ],
             [
              1,
              "#f0f921"
             ]
            ],
            "type": "histogram2dcontour"
           }
          ],
          "mesh3d": [
           {
            "colorbar": {
             "outlinewidth": 0,
             "ticks": ""
            },
            "type": "mesh3d"
           }
          ],
          "parcoords": [
           {
            "line": {
             "colorbar": {
              "outlinewidth": 0,
              "ticks": ""
             }
            },
            "type": "parcoords"
           }
          ],
          "pie": [
           {
            "automargin": true,
            "type": "pie"
           }
          ],
          "scatter": [
           {
            "marker": {
             "colorbar": {
              "outlinewidth": 0,
              "ticks": ""
             }
            },
            "type": "scatter"
           }
          ],
          "scatter3d": [
           {
            "line": {
             "colorbar": {
              "outlinewidth": 0,
              "ticks": ""
             }
            },
            "marker": {
             "colorbar": {
              "outlinewidth": 0,
              "ticks": ""
             }
            },
            "type": "scatter3d"
           }
          ],
          "scattercarpet": [
           {
            "marker": {
             "colorbar": {
              "outlinewidth": 0,
              "ticks": ""
             }
            },
            "type": "scattercarpet"
           }
          ],
          "scattergeo": [
           {
            "marker": {
             "colorbar": {
              "outlinewidth": 0,
              "ticks": ""
             }
            },
            "type": "scattergeo"
           }
          ],
          "scattergl": [
           {
            "marker": {
             "colorbar": {
              "outlinewidth": 0,
              "ticks": ""
             }
            },
            "type": "scattergl"
           }
          ],
          "scattermapbox": [
           {
            "marker": {
             "colorbar": {
              "outlinewidth": 0,
              "ticks": ""
             }
            },
            "type": "scattermapbox"
           }
          ],
          "scatterpolar": [
           {
            "marker": {
             "colorbar": {
              "outlinewidth": 0,
              "ticks": ""
             }
            },
            "type": "scatterpolar"
           }
          ],
          "scatterpolargl": [
           {
            "marker": {
             "colorbar": {
              "outlinewidth": 0,
              "ticks": ""
             }
            },
            "type": "scatterpolargl"
           }
          ],
          "scatterternary": [
           {
            "marker": {
             "colorbar": {
              "outlinewidth": 0,
              "ticks": ""
             }
            },
            "type": "scatterternary"
           }
          ],
          "surface": [
           {
            "colorbar": {
             "outlinewidth": 0,
             "ticks": ""
            },
            "colorscale": [
             [
              0,
              "#0d0887"
             ],
             [
              0.1111111111111111,
              "#46039f"
             ],
             [
              0.2222222222222222,
              "#7201a8"
             ],
             [
              0.3333333333333333,
              "#9c179e"
             ],
             [
              0.4444444444444444,
              "#bd3786"
             ],
             [
              0.5555555555555556,
              "#d8576b"
             ],
             [
              0.6666666666666666,
              "#ed7953"
             ],
             [
              0.7777777777777778,
              "#fb9f3a"
             ],
             [
              0.8888888888888888,
              "#fdca26"
             ],
             [
              1,
              "#f0f921"
             ]
            ],
            "type": "surface"
           }
          ],
          "table": [
           {
            "cells": {
             "fill": {
              "color": "#EBF0F8"
             },
             "line": {
              "color": "white"
             }
            },
            "header": {
             "fill": {
              "color": "#C8D4E3"
             },
             "line": {
              "color": "white"
             }
            },
            "type": "table"
           }
          ]
         },
         "layout": {
          "annotationdefaults": {
           "arrowcolor": "#2a3f5f",
           "arrowhead": 0,
           "arrowwidth": 1
          },
          "coloraxis": {
           "colorbar": {
            "outlinewidth": 0,
            "ticks": ""
           }
          },
          "colorscale": {
           "diverging": [
            [
             0,
             "#8e0152"
            ],
            [
             0.1,
             "#c51b7d"
            ],
            [
             0.2,
             "#de77ae"
            ],
            [
             0.3,
             "#f1b6da"
            ],
            [
             0.4,
             "#fde0ef"
            ],
            [
             0.5,
             "#f7f7f7"
            ],
            [
             0.6,
             "#e6f5d0"
            ],
            [
             0.7,
             "#b8e186"
            ],
            [
             0.8,
             "#7fbc41"
            ],
            [
             0.9,
             "#4d9221"
            ],
            [
             1,
             "#276419"
            ]
           ],
           "sequential": [
            [
             0,
             "#0d0887"
            ],
            [
             0.1111111111111111,
             "#46039f"
            ],
            [
             0.2222222222222222,
             "#7201a8"
            ],
            [
             0.3333333333333333,
             "#9c179e"
            ],
            [
             0.4444444444444444,
             "#bd3786"
            ],
            [
             0.5555555555555556,
             "#d8576b"
            ],
            [
             0.6666666666666666,
             "#ed7953"
            ],
            [
             0.7777777777777778,
             "#fb9f3a"
            ],
            [
             0.8888888888888888,
             "#fdca26"
            ],
            [
             1,
             "#f0f921"
            ]
           ],
           "sequentialminus": [
            [
             0,
             "#0d0887"
            ],
            [
             0.1111111111111111,
             "#46039f"
            ],
            [
             0.2222222222222222,
             "#7201a8"
            ],
            [
             0.3333333333333333,
             "#9c179e"
            ],
            [
             0.4444444444444444,
             "#bd3786"
            ],
            [
             0.5555555555555556,
             "#d8576b"
            ],
            [
             0.6666666666666666,
             "#ed7953"
            ],
            [
             0.7777777777777778,
             "#fb9f3a"
            ],
            [
             0.8888888888888888,
             "#fdca26"
            ],
            [
             1,
             "#f0f921"
            ]
           ]
          },
          "colorway": [
           "#636efa",
           "#EF553B",
           "#00cc96",
           "#ab63fa",
           "#FFA15A",
           "#19d3f3",
           "#FF6692",
           "#B6E880",
           "#FF97FF",
           "#FECB52"
          ],
          "font": {
           "color": "#2a3f5f"
          },
          "geo": {
           "bgcolor": "white",
           "lakecolor": "white",
           "landcolor": "#E5ECF6",
           "showlakes": true,
           "showland": true,
           "subunitcolor": "white"
          },
          "hoverlabel": {
           "align": "left"
          },
          "hovermode": "closest",
          "mapbox": {
           "style": "light"
          },
          "paper_bgcolor": "white",
          "plot_bgcolor": "#E5ECF6",
          "polar": {
           "angularaxis": {
            "gridcolor": "white",
            "linecolor": "white",
            "ticks": ""
           },
           "bgcolor": "#E5ECF6",
           "radialaxis": {
            "gridcolor": "white",
            "linecolor": "white",
            "ticks": ""
           }
          },
          "scene": {
           "xaxis": {
            "backgroundcolor": "#E5ECF6",
            "gridcolor": "white",
            "gridwidth": 2,
            "linecolor": "white",
            "showbackground": true,
            "ticks": "",
            "zerolinecolor": "white"
           },
           "yaxis": {
            "backgroundcolor": "#E5ECF6",
            "gridcolor": "white",
            "gridwidth": 2,
            "linecolor": "white",
            "showbackground": true,
            "ticks": "",
            "zerolinecolor": "white"
           },
           "zaxis": {
            "backgroundcolor": "#E5ECF6",
            "gridcolor": "white",
            "gridwidth": 2,
            "linecolor": "white",
            "showbackground": true,
            "ticks": "",
            "zerolinecolor": "white"
           }
          },
          "shapedefaults": {
           "line": {
            "color": "#2a3f5f"
           }
          },
          "ternary": {
           "aaxis": {
            "gridcolor": "white",
            "linecolor": "white",
            "ticks": ""
           },
           "baxis": {
            "gridcolor": "white",
            "linecolor": "white",
            "ticks": ""
           },
           "bgcolor": "#E5ECF6",
           "caxis": {
            "gridcolor": "white",
            "linecolor": "white",
            "ticks": ""
           }
          },
          "title": {
           "x": 0.05
          },
          "xaxis": {
           "automargin": true,
           "gridcolor": "white",
           "linecolor": "white",
           "ticks": "",
           "title": {
            "standoff": 15
           },
           "zerolinecolor": "white",
           "zerolinewidth": 2
          },
          "yaxis": {
           "automargin": true,
           "gridcolor": "white",
           "linecolor": "white",
           "ticks": "",
           "title": {
            "standoff": 15
           },
           "zerolinecolor": "white",
           "zerolinewidth": 2
          }
         }
        },
        "xaxis": {
         "anchor": "y",
         "domain": [
          0,
          1
         ],
         "title": {
          "text": "date"
         }
        },
        "yaxis": {
         "anchor": "x",
         "domain": [
          0,
          1
         ],
         "title": {
          "text": "eacl_prv_alcrg_at"
         }
        }
       }
      },
      "text/html": [
       "<div>                            <div id=\"3b4425d5-0c1f-4e86-8d76-d241542aed99\" class=\"plotly-graph-div\" style=\"height:525px; width:100%;\"></div>            <script type=\"text/javascript\">                require([\"plotly\"], function(Plotly) {                    window.PLOTLYENV=window.PLOTLYENV || {};                                    if (document.getElementById(\"3b4425d5-0c1f-4e86-8d76-d241542aed99\")) {                    Plotly.newPlot(                        \"3b4425d5-0c1f-4e86-8d76-d241542aed99\",                        [{\"customdata\": [[\"I\"], [\"I\"], [\"I\"], [\"I\"], [\"I\"], [\"I\"], [\"I\"], [\"I\"], [\"I\"], [\"I\"], [\"I\"], [\"I\"], [\"I\"], [\"I\"], [\"I\"], [\"I\"], [\"I\"], [\"I\"], [\"I\"], [\"I\"], [\"I\"], [\"I\"], [\"I\"], [\"I\"], [\"I\"], [\"I\"], [\"I\"], [\"I\"], [\"I\"], [\"I\"], [\"I\"], [\"I\"], [\"I\"], [\"I\"], [\"I\"], [\"I\"], [\"I\"], [\"I\"], [\"I\"], [\"I\"], [\"I\"], [\"I\"], [\"I\"], [\"I\"], [\"I\"], [\"I\"], [\"I\"], [\"I\"], [\"I\"], [\"I\"], [\"I\"], [\"I\"], [\"I\"], [\"I\"], [\"I\"], [\"I\"], [\"I\"], [\"I\"], [\"I\"], [\"I\"], [\"I\"], [\"I\"], [\"I\"], [\"I\"], [\"I\"], [\"I\"], [\"I\"], [\"I\"], [\"I\"], [\"I\"], [\"I\"], [\"I\"], [\"I\"], [\"I\"], [\"I\"], [\"I\"], [\"I\"], [\"I\"], [\"I\"], [\"I\"], [\"I\"], [\"I\"], [\"I\"], [\"I\"], [\"I\"], [\"I\"], [\"I\"], [\"I\"], [\"I\"], [\"I\"], [\"I\"], [\"I\"], [\"I\"], [\"I\"], [\"I\"], [\"I\"], [\"I\"], [\"I\"], [\"I\"], [\"I\"], [\"I\"], [\"I\"], [\"I\"], [\"I\"], [\"I\"], [\"I\"], [\"I\"], [\"I\"], [\"I\"], [\"I\"], [\"I\"], [\"I\"], [\"I\"], [\"I\"], [\"I\"], [\"I\"], [\"I\"], [\"I\"], [\"I\"], [\"I\"], [\"I\"], [\"I\"], [\"I\"], [\"I\"], [\"I\"], [\"I\"], [\"I\"], [\"I\"], [\"I\"], [\"I\"], [\"I\"], [\"I\"], [\"I\"], [\"I\"], [\"I\"], [\"I\"], [\"I\"], [\"I\"], [\"I\"], [\"I\"], [\"I\"], [\"I\"], [\"I\"], [\"I\"], [\"I\"], [\"I\"], [\"I\"], [\"I\"], [\"I\"], [\"I\"], [\"I\"], [\"I\"], [\"I\"], [\"I\"], [\"I\"], [\"I\"], [\"I\"], [\"I\"], [\"I\"], [\"I\"], [\"I\"], [\"I\"], [\"I\"], [\"I\"], [\"I\"], [\"I\"], [\"I\"], [\"I\"], [\"I\"], [\"I\"], [\"I\"], [\"I\"], [\"I\"], [\"I\"], [\"I\"], [\"I\"], [\"I\"], [\"I\"], [\"I\"], [\"I\"], [\"I\"], [\"I\"], [\"I\"], [\"I\"], [\"I\"], [\"I\"], [\"I\"], [\"I\"], [\"I\"], [\"I\"], [\"I\"], [\"I\"], [\"I\"], [\"I\"], [\"I\"], [\"I\"], [\"I\"], [\"I\"], [\"I\"], [\"I\"], [\"I\"], [\"I\"], [\"I\"], [\"I\"], [\"I\"], [\"I\"], [\"I\"], [\"I\"], [\"I\"], [\"I\"], [\"I\"], [\"I\"], [\"I\"], [\"I\"], [\"I\"], [\"I\"], [\"I\"], [\"I\"], [\"I\"], [\"I\"], [\"I\"], [\"I\"], [\"I\"], [\"I\"], [\"I\"], [\"I\"], [\"I\"], [\"I\"], [\"I\"], [\"I\"], [\"I\"], [\"I\"], [\"I\"], [\"I\"], [\"I\"], [\"I\"], [\"I\"], [\"I\"], [\"I\"], [\"I\"], [\"I\"], [\"I\"], [\"I\"], [\"I\"], [\"I\"], [\"I\"], [\"I\"], [\"I\"], [\"I\"], [\"I\"], [\"I\"], [\"I\"], [\"I\"], [\"I\"], [\"I\"], [\"I\"], [\"I\"], [\"I\"], [\"I\"], [\"I\"], [\"I\"], [\"I\"], [\"I\"], [\"I\"], [\"I\"], [\"I\"], [\"I\"], [\"I\"], [\"I\"], [\"I\"], [\"I\"], [\"I\"], [\"I\"], [\"I\"], [\"I\"], [\"I\"], [\"I\"], [\"I\"], [\"I\"], [\"I\"], [\"I\"], [\"I\"], [\"I\"], [\"I\"], [\"I\"], [\"I\"], [\"I\"], [\"I\"], [\"I\"], [\"I\"], [\"I\"], [\"I\"], [\"I\"], [\"I\"], [\"I\"], [\"I\"], [\"I\"], [\"I\"], [\"I\"], [\"I\"], [\"I\"], [\"I\"], [\"I\"]], \"hovertemplate\": \"date=%{x}<br>eacl_prv_alcrg_at=%{y}<br>claim_type=%{customdata[0]}<extra></extra>\", \"legendgroup\": \"\", \"marker\": {\"color\": \"#636efa\", \"symbol\": \"circle\"}, \"mode\": \"markers\", \"name\": \"\", \"orientation\": \"v\", \"showlegend\": false, \"type\": \"scatter\", \"x\": [\"2013-05-05T00:00:00\", \"2013-05-05T00:00:00\", \"2013-05-05T00:00:00\", \"2013-05-05T00:00:00\", \"2013-05-05T00:00:00\", \"2013-05-05T00:00:00\", \"2013-05-05T00:00:00\", \"2013-05-05T00:00:00\", \"2013-05-05T00:00:00\", \"2013-07-19T00:00:00\", \"2013-07-19T00:00:00\", \"2013-05-05T00:00:00\", \"2013-07-19T00:00:00\", \"2013-07-19T00:00:00\", \"2013-05-05T00:00:00\", \"2013-07-19T00:00:00\", \"2013-05-05T00:00:00\", \"2013-07-19T00:00:00\", \"2013-05-05T00:00:00\", \"2013-05-05T00:00:00\", \"2013-07-19T00:00:00\", \"2013-05-05T00:00:00\", \"2013-07-19T00:00:00\", \"2013-05-05T00:00:00\", \"2013-07-19T00:00:00\", \"2013-05-05T00:00:00\", \"2013-07-19T00:00:00\", \"2013-05-05T00:00:00\", \"2013-07-19T00:00:00\", \"2013-05-05T00:00:00\", \"2013-07-19T00:00:00\", \"2013-05-05T00:00:00\", \"2013-07-19T00:00:00\", \"2013-05-05T00:00:00\", \"2013-05-05T00:00:00\", \"2013-07-19T00:00:00\", \"2013-05-05T00:00:00\", \"2013-07-19T00:00:00\", \"2013-05-05T00:00:00\", \"2013-07-19T00:00:00\", \"2013-05-05T00:00:00\", \"2013-07-19T00:00:00\", \"2013-07-19T00:00:00\", \"2016-09-02T00:00:00\", \"2016-01-22T00:00:00\", \"2016-11-27T00:00:00\", \"2016-09-02T00:00:00\", \"2016-01-22T00:00:00\", \"2016-11-27T00:00:00\", \"2016-11-27T00:00:00\", \"2016-09-02T00:00:00\", \"2016-11-27T00:00:00\", \"2016-09-02T00:00:00\", \"2016-01-22T00:00:00\", \"2016-11-27T00:00:00\", \"2016-09-02T00:00:00\", \"2016-01-22T00:00:00\", \"2016-01-22T00:00:00\", \"2016-09-02T00:00:00\", \"2016-11-27T00:00:00\", \"2016-09-02T00:00:00\", \"2016-11-27T00:00:00\", \"2016-11-27T00:00:00\", \"2016-11-27T00:00:00\", \"2016-11-27T00:00:00\", \"2016-11-27T00:00:00\", \"2016-11-27T00:00:00\", \"2016-09-02T00:00:00\", \"2016-11-27T00:00:00\", \"2016-09-02T00:00:00\", \"2016-11-27T00:00:00\", \"2016-01-22T00:00:00\", \"2016-09-02T00:00:00\", \"2016-01-22T00:00:00\", \"2016-11-27T00:00:00\", \"2016-09-02T00:00:00\", \"2016-01-22T00:00:00\", \"2016-11-27T00:00:00\", \"2016-09-02T00:00:00\", \"2016-01-22T00:00:00\", \"2016-11-27T00:00:00\", \"2016-09-02T00:00:00\", \"2016-04-25T00:00:00\", \"2016-01-22T00:00:00\", \"2016-11-27T00:00:00\", \"2016-09-02T00:00:00\", \"2016-04-25T00:00:00\", \"2016-01-22T00:00:00\", \"2014-01-12T00:00:00\", \"2014-12-12T00:00:00\", \"2014-10-21T00:00:00\", \"2014-10-03T00:00:00\", \"2014-10-03T00:00:00\", \"2014-01-12T00:00:00\", \"2014-12-12T00:00:00\", \"2014-10-21T00:00:00\", \"2014-10-03T00:00:00\", \"2014-10-21T00:00:00\", \"2014-12-12T00:00:00\", \"2014-01-12T00:00:00\", \"2014-12-12T00:00:00\", \"2014-10-21T00:00:00\", \"2014-12-12T00:00:00\", \"2014-10-21T00:00:00\", \"2014-01-12T00:00:00\", \"2014-12-12T00:00:00\", \"2014-10-21T00:00:00\", \"2014-10-03T00:00:00\", \"2014-01-12T00:00:00\", \"2014-12-12T00:00:00\", \"2014-10-03T00:00:00\", \"2014-01-12T00:00:00\", \"2014-12-12T00:00:00\", \"2014-10-21T00:00:00\", \"2014-10-03T00:00:00\", \"2014-12-12T00:00:00\", \"2014-10-21T00:00:00\", \"2014-10-03T00:00:00\", \"2014-01-12T00:00:00\", \"2014-01-12T00:00:00\", \"2014-10-03T00:00:00\", \"2014-10-21T00:00:00\", \"2014-12-12T00:00:00\", \"2014-01-12T00:00:00\", \"2014-12-12T00:00:00\", \"2014-10-21T00:00:00\", \"2014-10-03T00:00:00\", \"2014-01-12T00:00:00\", \"2014-12-12T00:00:00\", \"2014-10-21T00:00:00\", \"2014-10-03T00:00:00\", \"2014-01-12T00:00:00\", \"2014-10-21T00:00:00\", \"2014-10-21T00:00:00\", \"2014-02-11T00:00:00\", \"2014-02-11T00:00:00\", \"2014-02-11T00:00:00\", \"2014-02-11T00:00:00\", \"2014-02-11T00:00:00\", \"2014-02-11T00:00:00\", \"2014-02-11T00:00:00\", \"2014-02-11T00:00:00\", \"2014-02-11T00:00:00\", \"2014-02-11T00:00:00\", \"2014-10-21T00:00:00\", \"2014-02-11T00:00:00\", \"2014-12-12T00:00:00\", \"2014-02-11T00:00:00\", \"2014-10-21T00:00:00\", \"2014-01-12T00:00:00\", \"2014-12-12T00:00:00\", \"2014-10-21T00:00:00\", \"2014-10-03T00:00:00\", \"2014-01-12T00:00:00\", \"2014-10-21T00:00:00\", \"2014-10-03T00:00:00\", \"2014-01-12T00:00:00\", \"2014-12-12T00:00:00\", \"2014-12-12T00:00:00\", \"2014-10-03T00:00:00\", \"2014-10-21T00:00:00\", \"2014-01-12T00:00:00\", \"2014-12-12T00:00:00\", \"2014-10-21T00:00:00\", \"2014-10-03T00:00:00\", \"2014-01-12T00:00:00\", \"2014-12-12T00:00:00\", \"2014-10-21T00:00:00\", \"2014-10-03T00:00:00\", \"2014-01-12T00:00:00\", \"2014-12-12T00:00:00\", \"2014-10-21T00:00:00\", \"2014-10-03T00:00:00\", \"2014-10-03T00:00:00\", \"2014-01-12T00:00:00\", \"2014-12-12T00:00:00\", \"2014-10-21T00:00:00\", \"2014-10-03T00:00:00\", \"2014-01-12T00:00:00\", \"2016-01-22T00:00:00\", \"2016-11-27T00:00:00\", \"2016-09-02T00:00:00\", \"2016-04-25T00:00:00\", \"2016-01-22T00:00:00\", \"2016-11-27T00:00:00\", \"2016-04-25T00:00:00\", \"2011-05-16T00:00:00\", \"2011-05-28T00:00:00\", \"2011-05-16T00:00:00\", \"2011-05-28T00:00:00\", \"2011-05-16T00:00:00\", \"2011-05-28T00:00:00\", \"2011-05-16T00:00:00\", \"2011-05-16T00:00:00\", \"2016-09-02T00:00:00\", \"2011-05-28T00:00:00\", \"2016-04-25T00:00:00\", \"2016-11-27T00:00:00\", \"2016-06-24T00:00:00\", \"2016-04-25T00:00:00\", \"2016-01-22T00:00:00\", \"2016-11-27T00:00:00\", \"2016-09-02T00:00:00\", \"2016-06-24T00:00:00\", \"2016-09-02T00:00:00\", \"2016-04-25T00:00:00\", \"2016-11-27T00:00:00\", \"2016-09-02T00:00:00\", \"2016-06-24T00:00:00\", \"2016-04-25T00:00:00\", \"2016-01-22T00:00:00\", \"2016-11-27T00:00:00\", \"2016-01-22T00:00:00\", \"2016-11-27T00:00:00\", \"2016-01-22T00:00:00\", \"2016-04-25T00:00:00\", \"2016-09-02T00:00:00\", \"2016-04-25T00:00:00\", \"2016-01-22T00:00:00\", \"2016-11-27T00:00:00\", \"2016-09-02T00:00:00\", \"2016-04-25T00:00:00\", \"2016-01-22T00:00:00\", \"2016-11-27T00:00:00\", \"2016-09-02T00:00:00\", \"2016-06-24T00:00:00\", \"2016-04-25T00:00:00\", \"2016-01-22T00:00:00\", \"2016-11-27T00:00:00\", \"2016-09-02T00:00:00\", \"2016-06-24T00:00:00\", \"2016-01-22T00:00:00\", \"2016-09-02T00:00:00\", \"2011-05-16T00:00:00\", \"2011-05-16T00:00:00\", \"2011-05-28T00:00:00\", \"2011-05-28T00:00:00\", \"2011-05-28T00:00:00\", \"2011-05-28T00:00:00\", \"2011-05-28T00:00:00\", \"2011-05-28T00:00:00\", \"2011-05-28T00:00:00\", \"2011-05-28T00:00:00\", \"2011-05-28T00:00:00\", \"2011-05-28T00:00:00\", \"2011-05-28T00:00:00\", \"2011-05-28T00:00:00\", \"2011-05-28T00:00:00\", \"2011-05-28T00:00:00\", \"2011-05-28T00:00:00\", \"2016-06-24T00:00:00\", \"2016-04-25T00:00:00\", \"2016-01-22T00:00:00\", \"2016-01-22T00:00:00\", \"2016-11-27T00:00:00\", \"2016-09-02T00:00:00\", \"2016-06-24T00:00:00\", \"2016-04-25T00:00:00\", \"2016-01-22T00:00:00\", \"2016-04-25T00:00:00\", \"2016-06-24T00:00:00\", \"2016-09-02T00:00:00\", \"2016-11-27T00:00:00\", \"2016-11-27T00:00:00\", \"2016-09-02T00:00:00\", \"2016-06-24T00:00:00\", \"2016-04-25T00:00:00\", \"2016-01-22T00:00:00\", \"2016-11-27T00:00:00\", \"2016-09-02T00:00:00\", \"2016-06-24T00:00:00\", \"2016-04-25T00:00:00\", \"2016-01-22T00:00:00\", \"2016-11-27T00:00:00\", \"2016-09-02T00:00:00\", \"2016-06-24T00:00:00\", \"2016-04-25T00:00:00\", \"2016-01-22T00:00:00\", \"2015-07-10T00:00:00\", \"2015-07-10T00:00:00\", \"2015-07-10T00:00:00\", \"2015-07-10T00:00:00\", \"2015-07-10T00:00:00\", \"2015-07-10T00:00:00\", \"2015-07-10T00:00:00\", \"2015-07-10T00:00:00\", \"2015-07-10T00:00:00\", \"2015-07-10T00:00:00\", \"2015-07-10T00:00:00\", \"2015-07-10T00:00:00\", \"2015-07-10T00:00:00\", \"2014-02-11T00:00:00\", \"2014-02-11T00:00:00\", \"2014-02-11T00:00:00\", \"2014-02-11T00:00:00\", \"2014-02-11T00:00:00\", \"2014-02-11T00:00:00\", \"2014-02-11T00:00:00\", \"2014-02-11T00:00:00\", \"2014-02-11T00:00:00\", \"2014-02-11T00:00:00\", \"2014-02-11T00:00:00\", \"2014-02-11T00:00:00\"], \"xaxis\": \"x\", \"y\": [8403.56, 239.66, 108400.67, 2305.38, 97.05, 3.21, 137.61, 61.31, 2388.6, 647.35, 407.37, 654.45, 37.04, 350.51, 1113.01, 411.45, 8904.14, 1454.69, 273.3, 759.71, 122.18, 306.78, 87.1, 1640.99, 21678.89, 188.8, 30.92, 799.71, 1106.29, 5027.08, 14.06, 20898.29, 8.46, 644.79, 4463.49, 1298.79, 500.73, 498.71, 1238.08, 120.67, 296.48, 104.33, 159.38, 42.13, 1568.31, 80667.23, 266.78, 469.73, 817.94, 362.34, 6178.55, 544.98, 602.22, 506.02, 1432.31, 16.2, 254.26, 534.4, 1.96, 171.7, 131.43, 8971.62, 5201.2, 902.93, 22018.76, 19653.32, 532.84, 252.05, 201.31, 411.86, 7032.41, 371.41, 121.11, 1452.52, 519.5, 162.36, 19.58, 55470.7, 13216.93, 436.46, 216.26, 383.77, 5674.79, 611.62, 28023.85, 504.29, 556.48, 44662.95, 158.72, 22.75, 83.88, 958.54, 20.16, 1429.92, 209.67, 600.09, 51.49, 129.78, 150.21, 82.69, 25.53, 10.13, 108.71, 180.44, 9.49, 6234.16, 2010.38, 2822.39, 712.5, 2598.0, 1901.43, 270.9, 299.24, 24.45, 63.9, 79.31, 46.64, 1275.81, 204.91, 302.3, 122.22, 34.13, 241.83, 152.43, 10.91, 102.56, 570.32, 123.49, 140.21, 68.26, 400.01, 506.39, 61.86, 2789.81, 508.44, 489.31, 87.32, 22.82, 147.85, 1327.58, 114.21, 484.98, 1564.48, 3471.41, 180.94, 1736.24, 131.14, 36.89, 1046.18, 1789.37, 600.27, 290.76, 146.41, 122.58, 87.16, 2075.96, 28.29, 3079.68, 25.32, 329.13, 2235.04, 216.05, 2.84, 61.13, 497.73, 84.88, 740.93, 203.68, 1588.27, 248.63, 2714.87, 2361.05, 3659.7, 42.18, 1027.99, 7759.09, 2590.1, 435.84, 2853.74, 48452.63, 74689.9, 964.09, 398.87, 147.66, 1546.51, 8027.22, 12.14, 2096.57, 52.93, 115.62, 240.62, 2475.0, 888.02, 462.69, 284.66, 130.66, 857.03, 6229.0, 648.85, 375.65, 941.73, 165.96, 1035.58, 15.48, 444.87, 256.13, 28126.11, 10041.42, 180.27, 4931.17, 9.44, 48.56, 36705.93, 872.78, 1444.23, 1180.93, 265.99, 450.25, 496.6, 1131.46, 115.31, 315.7, 2453.23, 3159.32, 136.43, 45.55, 102.1, 686.58, 78927.8, 2696.57, 2927.47, 1824.69, 1436.56, 333.89, 24.79, 278.73, 20.17, 448.92, 573.99, 2267.65, 70.79, 537.41, 2001.59, 160.75, 138.04, 398.49, 23.3, 13.86, 623.54, 3161.97, 4733.81, 896.72, 2326.79, 28257.55, 5480.56, 1942.43, 1671.49, 490.77, 4683.53, 9608.72, 1227.11, 10414.02, 1055.28, 12214.33, 122.39, 71.68, 191.03, 378.19, 39496.62, 4022.83, 3422.19, 3629.43, 13461.81, 3536.08, 4690.33, 333.17, 2967.67, 23757.96, 6538.26, 14.68, 109.48, 1273.94, 257.38, 60.15, 484.45, 274.8, 1143.15, 46.6, 16.19, 1675.86, 1402.73, 2132.72, 183.47, 779.12, 140.28, 36.66, 237.53, 786.07, 2513.3, 5576.74, 816.8, 59.18, 2789.24], \"yaxis\": \"y\"}],                        {\"legend\": {\"tracegroupgap\": 0}, \"margin\": {\"t\": 60}, \"template\": {\"data\": {\"bar\": [{\"error_x\": {\"color\": \"#2a3f5f\"}, \"error_y\": {\"color\": \"#2a3f5f\"}, \"marker\": {\"line\": {\"color\": \"#E5ECF6\", \"width\": 0.5}}, \"type\": \"bar\"}], \"barpolar\": [{\"marker\": {\"line\": {\"color\": \"#E5ECF6\", \"width\": 0.5}}, \"type\": \"barpolar\"}], \"carpet\": [{\"aaxis\": {\"endlinecolor\": \"#2a3f5f\", \"gridcolor\": \"white\", \"linecolor\": \"white\", \"minorgridcolor\": \"white\", \"startlinecolor\": \"#2a3f5f\"}, \"baxis\": {\"endlinecolor\": \"#2a3f5f\", \"gridcolor\": \"white\", \"linecolor\": \"white\", \"minorgridcolor\": \"white\", \"startlinecolor\": \"#2a3f5f\"}, \"type\": \"carpet\"}], \"choropleth\": [{\"colorbar\": {\"outlinewidth\": 0, \"ticks\": \"\"}, \"type\": \"choropleth\"}], \"contour\": [{\"colorbar\": {\"outlinewidth\": 0, \"ticks\": \"\"}, \"colorscale\": [[0.0, \"#0d0887\"], [0.1111111111111111, \"#46039f\"], [0.2222222222222222, \"#7201a8\"], [0.3333333333333333, \"#9c179e\"], [0.4444444444444444, \"#bd3786\"], [0.5555555555555556, \"#d8576b\"], [0.6666666666666666, \"#ed7953\"], [0.7777777777777778, \"#fb9f3a\"], [0.8888888888888888, \"#fdca26\"], [1.0, \"#f0f921\"]], \"type\": \"contour\"}], \"contourcarpet\": [{\"colorbar\": {\"outlinewidth\": 0, \"ticks\": \"\"}, \"type\": \"contourcarpet\"}], \"heatmap\": [{\"colorbar\": {\"outlinewidth\": 0, \"ticks\": \"\"}, \"colorscale\": [[0.0, \"#0d0887\"], [0.1111111111111111, \"#46039f\"], [0.2222222222222222, \"#7201a8\"], [0.3333333333333333, \"#9c179e\"], [0.4444444444444444, \"#bd3786\"], [0.5555555555555556, \"#d8576b\"], [0.6666666666666666, \"#ed7953\"], [0.7777777777777778, \"#fb9f3a\"], [0.8888888888888888, \"#fdca26\"], [1.0, \"#f0f921\"]], \"type\": \"heatmap\"}], \"heatmapgl\": [{\"colorbar\": {\"outlinewidth\": 0, \"ticks\": \"\"}, \"colorscale\": [[0.0, \"#0d0887\"], [0.1111111111111111, \"#46039f\"], [0.2222222222222222, \"#7201a8\"], [0.3333333333333333, \"#9c179e\"], [0.4444444444444444, \"#bd3786\"], [0.5555555555555556, \"#d8576b\"], [0.6666666666666666, \"#ed7953\"], [0.7777777777777778, \"#fb9f3a\"], [0.8888888888888888, \"#fdca26\"], [1.0, \"#f0f921\"]], \"type\": \"heatmapgl\"}], \"histogram\": [{\"marker\": {\"colorbar\": {\"outlinewidth\": 0, \"ticks\": \"\"}}, \"type\": \"histogram\"}], \"histogram2d\": [{\"colorbar\": {\"outlinewidth\": 0, \"ticks\": \"\"}, \"colorscale\": [[0.0, \"#0d0887\"], [0.1111111111111111, \"#46039f\"], [0.2222222222222222, \"#7201a8\"], [0.3333333333333333, \"#9c179e\"], [0.4444444444444444, \"#bd3786\"], [0.5555555555555556, \"#d8576b\"], [0.6666666666666666, \"#ed7953\"], [0.7777777777777778, \"#fb9f3a\"], [0.8888888888888888, \"#fdca26\"], [1.0, \"#f0f921\"]], \"type\": \"histogram2d\"}], \"histogram2dcontour\": [{\"colorbar\": {\"outlinewidth\": 0, \"ticks\": \"\"}, \"colorscale\": [[0.0, \"#0d0887\"], [0.1111111111111111, \"#46039f\"], [0.2222222222222222, \"#7201a8\"], [0.3333333333333333, \"#9c179e\"], [0.4444444444444444, \"#bd3786\"], [0.5555555555555556, \"#d8576b\"], [0.6666666666666666, \"#ed7953\"], [0.7777777777777778, \"#fb9f3a\"], [0.8888888888888888, \"#fdca26\"], [1.0, \"#f0f921\"]], \"type\": \"histogram2dcontour\"}], \"mesh3d\": [{\"colorbar\": {\"outlinewidth\": 0, \"ticks\": \"\"}, \"type\": \"mesh3d\"}], \"parcoords\": [{\"line\": {\"colorbar\": {\"outlinewidth\": 0, \"ticks\": \"\"}}, \"type\": \"parcoords\"}], \"pie\": [{\"automargin\": true, \"type\": \"pie\"}], \"scatter\": [{\"marker\": {\"colorbar\": {\"outlinewidth\": 0, \"ticks\": \"\"}}, \"type\": \"scatter\"}], \"scatter3d\": [{\"line\": {\"colorbar\": {\"outlinewidth\": 0, \"ticks\": \"\"}}, \"marker\": {\"colorbar\": {\"outlinewidth\": 0, \"ticks\": \"\"}}, \"type\": \"scatter3d\"}], \"scattercarpet\": [{\"marker\": {\"colorbar\": {\"outlinewidth\": 0, \"ticks\": \"\"}}, \"type\": \"scattercarpet\"}], \"scattergeo\": [{\"marker\": {\"colorbar\": {\"outlinewidth\": 0, \"ticks\": \"\"}}, \"type\": \"scattergeo\"}], \"scattergl\": [{\"marker\": {\"colorbar\": {\"outlinewidth\": 0, \"ticks\": \"\"}}, \"type\": \"scattergl\"}], \"scattermapbox\": [{\"marker\": {\"colorbar\": {\"outlinewidth\": 0, \"ticks\": \"\"}}, \"type\": \"scattermapbox\"}], \"scatterpolar\": [{\"marker\": {\"colorbar\": {\"outlinewidth\": 0, \"ticks\": \"\"}}, \"type\": \"scatterpolar\"}], \"scatterpolargl\": [{\"marker\": {\"colorbar\": {\"outlinewidth\": 0, \"ticks\": \"\"}}, \"type\": \"scatterpolargl\"}], \"scatterternary\": [{\"marker\": {\"colorbar\": {\"outlinewidth\": 0, \"ticks\": \"\"}}, \"type\": \"scatterternary\"}], \"surface\": [{\"colorbar\": {\"outlinewidth\": 0, \"ticks\": \"\"}, \"colorscale\": [[0.0, \"#0d0887\"], [0.1111111111111111, \"#46039f\"], [0.2222222222222222, \"#7201a8\"], [0.3333333333333333, \"#9c179e\"], [0.4444444444444444, \"#bd3786\"], [0.5555555555555556, \"#d8576b\"], [0.6666666666666666, \"#ed7953\"], [0.7777777777777778, \"#fb9f3a\"], [0.8888888888888888, \"#fdca26\"], [1.0, \"#f0f921\"]], \"type\": \"surface\"}], \"table\": [{\"cells\": {\"fill\": {\"color\": \"#EBF0F8\"}, \"line\": {\"color\": \"white\"}}, \"header\": {\"fill\": {\"color\": \"#C8D4E3\"}, \"line\": {\"color\": \"white\"}}, \"type\": \"table\"}]}, \"layout\": {\"annotationdefaults\": {\"arrowcolor\": \"#2a3f5f\", \"arrowhead\": 0, \"arrowwidth\": 1}, \"coloraxis\": {\"colorbar\": {\"outlinewidth\": 0, \"ticks\": \"\"}}, \"colorscale\": {\"diverging\": [[0, \"#8e0152\"], [0.1, \"#c51b7d\"], [0.2, \"#de77ae\"], [0.3, \"#f1b6da\"], [0.4, \"#fde0ef\"], [0.5, \"#f7f7f7\"], [0.6, \"#e6f5d0\"], [0.7, \"#b8e186\"], [0.8, \"#7fbc41\"], [0.9, \"#4d9221\"], [1, \"#276419\"]], \"sequential\": [[0.0, \"#0d0887\"], [0.1111111111111111, \"#46039f\"], [0.2222222222222222, \"#7201a8\"], [0.3333333333333333, \"#9c179e\"], [0.4444444444444444, \"#bd3786\"], [0.5555555555555556, \"#d8576b\"], [0.6666666666666666, \"#ed7953\"], [0.7777777777777778, \"#fb9f3a\"], [0.8888888888888888, \"#fdca26\"], [1.0, \"#f0f921\"]], \"sequentialminus\": [[0.0, \"#0d0887\"], [0.1111111111111111, \"#46039f\"], [0.2222222222222222, \"#7201a8\"], [0.3333333333333333, \"#9c179e\"], [0.4444444444444444, \"#bd3786\"], [0.5555555555555556, \"#d8576b\"], [0.6666666666666666, \"#ed7953\"], [0.7777777777777778, \"#fb9f3a\"], [0.8888888888888888, \"#fdca26\"], [1.0, \"#f0f921\"]]}, \"colorway\": [\"#636efa\", \"#EF553B\", \"#00cc96\", \"#ab63fa\", \"#FFA15A\", \"#19d3f3\", \"#FF6692\", \"#B6E880\", \"#FF97FF\", \"#FECB52\"], \"font\": {\"color\": \"#2a3f5f\"}, \"geo\": {\"bgcolor\": \"white\", \"lakecolor\": \"white\", \"landcolor\": \"#E5ECF6\", \"showlakes\": true, \"showland\": true, \"subunitcolor\": \"white\"}, \"hoverlabel\": {\"align\": \"left\"}, \"hovermode\": \"closest\", \"mapbox\": {\"style\": \"light\"}, \"paper_bgcolor\": \"white\", \"plot_bgcolor\": \"#E5ECF6\", \"polar\": {\"angularaxis\": {\"gridcolor\": \"white\", \"linecolor\": \"white\", \"ticks\": \"\"}, \"bgcolor\": \"#E5ECF6\", \"radialaxis\": {\"gridcolor\": \"white\", \"linecolor\": \"white\", \"ticks\": \"\"}}, \"scene\": {\"xaxis\": {\"backgroundcolor\": \"#E5ECF6\", \"gridcolor\": \"white\", \"gridwidth\": 2, \"linecolor\": \"white\", \"showbackground\": true, \"ticks\": \"\", \"zerolinecolor\": \"white\"}, \"yaxis\": {\"backgroundcolor\": \"#E5ECF6\", \"gridcolor\": \"white\", \"gridwidth\": 2, \"linecolor\": \"white\", \"showbackground\": true, \"ticks\": \"\", \"zerolinecolor\": \"white\"}, \"zaxis\": {\"backgroundcolor\": \"#E5ECF6\", \"gridcolor\": \"white\", \"gridwidth\": 2, \"linecolor\": \"white\", \"showbackground\": true, \"ticks\": \"\", \"zerolinecolor\": \"white\"}}, \"shapedefaults\": {\"line\": {\"color\": \"#2a3f5f\"}}, \"ternary\": {\"aaxis\": {\"gridcolor\": \"white\", \"linecolor\": \"white\", \"ticks\": \"\"}, \"baxis\": {\"gridcolor\": \"white\", \"linecolor\": \"white\", \"ticks\": \"\"}, \"bgcolor\": \"#E5ECF6\", \"caxis\": {\"gridcolor\": \"white\", \"linecolor\": \"white\", \"ticks\": \"\"}}, \"title\": {\"x\": 0.05}, \"xaxis\": {\"automargin\": true, \"gridcolor\": \"white\", \"linecolor\": \"white\", \"ticks\": \"\", \"title\": {\"standoff\": 15}, \"zerolinecolor\": \"white\", \"zerolinewidth\": 2}, \"yaxis\": {\"automargin\": true, \"gridcolor\": \"white\", \"linecolor\": \"white\", \"ticks\": \"\", \"title\": {\"standoff\": 15}, \"zerolinecolor\": \"white\", \"zerolinewidth\": 2}}}, \"xaxis\": {\"anchor\": \"y\", \"domain\": [0.0, 1.0], \"title\": {\"text\": \"date\"}}, \"yaxis\": {\"anchor\": \"x\", \"domain\": [0.0, 1.0], \"title\": {\"text\": \"eacl_prv_alcrg_at\"}}},                        {\"responsive\": true}                    ).then(function(){\n",
       "                            \n",
       "var gd = document.getElementById('3b4425d5-0c1f-4e86-8d76-d241542aed99');\n",
       "var x = new MutationObserver(function (mutations, observer) {{\n",
       "        var display = window.getComputedStyle(gd).display;\n",
       "        if (!display || display === 'none') {{\n",
       "            console.log([gd, 'removed!']);\n",
       "            Plotly.purge(gd);\n",
       "            observer.disconnect();\n",
       "        }}\n",
       "}});\n",
       "\n",
       "// Listen for the removal of the full notebook cells\n",
       "var notebookContainer = gd.closest('#notebook-container');\n",
       "if (notebookContainer) {{\n",
       "    x.observe(notebookContainer, {childList: true});\n",
       "}}\n",
       "\n",
       "// Listen for the clearing of the current output cell\n",
       "var outputEl = gd.closest('.output');\n",
       "if (outputEl) {{\n",
       "    x.observe(outputEl, {childList: true});\n",
       "}}\n",
       "\n",
       "                        })                };                });            </script>        </div>"
      ]
     },
     "metadata": {},
     "output_type": "display_data"
    }
   ],
   "source": [
    "pd.set_option('display.max_columns',None)\n",
    "for i in merged_data_t[merged_data_t['stage'] =='1']['TMA_Acct']:\n",
    "    \n",
    "    egfr_target = egfr[egfr['TMA_Acct'] == i]\n",
    "    fig = px.scatter(egfr_target,x = 'date',y = 'egfr',hover_data = ['source'])\n",
    "    fig.show()\n",
    "    target = find_tma(i)\n",
    "    target['date'] = pd.to_datetime('2010-01-01') + target['icrd_dt_deidentified'].apply(lambda i:pd.Timedelta(days = i))   \n",
    "    fig = px.scatter(target[target['claim_type'] == 'I'],x = 'date',y = 'eacl_prv_alcrg_at',hover_data = ['claim_type'])\n",
    "    display(target)\n",
    "    fig.show()\n",
    "    "
   ]
  },
  {
   "cell_type": "code",
   "execution_count": null,
   "metadata": {},
   "outputs": [],
   "source": []
  },
  {
   "cell_type": "code",
   "execution_count": 55,
   "metadata": {},
   "outputs": [
    {
     "data": {
      "text/html": [
       "<div>\n",
       "<style scoped>\n",
       "    .dataframe tbody tr th:only-of-type {\n",
       "        vertical-align: middle;\n",
       "    }\n",
       "\n",
       "    .dataframe tbody tr th {\n",
       "        vertical-align: top;\n",
       "    }\n",
       "\n",
       "    .dataframe thead th {\n",
       "        text-align: right;\n",
       "    }\n",
       "</style>\n",
       "<table border=\"1\" class=\"dataframe\">\n",
       "  <thead>\n",
       "    <tr style=\"text-align: right;\">\n",
       "      <th></th>\n",
       "      <th>TMA_Acct</th>\n",
       "      <th>Days</th>\n",
       "      <th>Code</th>\n",
       "      <th>identified_date</th>\n",
       "      <th>egfr</th>\n",
       "      <th>stage</th>\n",
       "      <th>min</th>\n",
       "      <th>duration</th>\n",
       "    </tr>\n",
       "  </thead>\n",
       "  <tbody>\n",
       "    <tr>\n",
       "      <th>28</th>\n",
       "      <td>21012</td>\n",
       "      <td>183</td>\n",
       "      <td>652</td>\n",
       "      <td>2010-07-03</td>\n",
       "      <td>81.053517</td>\n",
       "      <td>2</td>\n",
       "      <td>2010-07-08</td>\n",
       "      <td>-5.0</td>\n",
       "    </tr>\n",
       "    <tr>\n",
       "      <th>44</th>\n",
       "      <td>31070</td>\n",
       "      <td>2451</td>\n",
       "      <td>652</td>\n",
       "      <td>2016-09-17</td>\n",
       "      <td>62.457261</td>\n",
       "      <td>2</td>\n",
       "      <td>2011-01-31</td>\n",
       "      <td>2056.0</td>\n",
       "    </tr>\n",
       "    <tr>\n",
       "      <th>55</th>\n",
       "      <td>37703</td>\n",
       "      <td>1713</td>\n",
       "      <td>93</td>\n",
       "      <td>2014-09-10</td>\n",
       "      <td>69.000000</td>\n",
       "      <td>2</td>\n",
       "      <td>2013-06-25</td>\n",
       "      <td>442.0</td>\n",
       "    </tr>\n",
       "    <tr>\n",
       "      <th>56</th>\n",
       "      <td>38754</td>\n",
       "      <td>2640</td>\n",
       "      <td>8</td>\n",
       "      <td>2017-03-25</td>\n",
       "      <td>78.187260</td>\n",
       "      <td>2</td>\n",
       "      <td>2013-12-21</td>\n",
       "      <td>1190.0</td>\n",
       "    </tr>\n",
       "    <tr>\n",
       "      <th>67</th>\n",
       "      <td>49116</td>\n",
       "      <td>2976</td>\n",
       "      <td>652</td>\n",
       "      <td>2018-02-24</td>\n",
       "      <td>60.000000</td>\n",
       "      <td>2</td>\n",
       "      <td>2010-02-02</td>\n",
       "      <td>2944.0</td>\n",
       "    </tr>\n",
       "  </tbody>\n",
       "</table>\n",
       "</div>"
      ],
      "text/plain": [
       "    TMA_Acct  Days Code identified_date       egfr stage        min  duration\n",
       "28     21012   183  652      2010-07-03  81.053517     2 2010-07-08      -5.0\n",
       "44     31070  2451  652      2016-09-17  62.457261     2 2011-01-31    2056.0\n",
       "55     37703  1713   93      2014-09-10  69.000000     2 2013-06-25     442.0\n",
       "56     38754  2640    8      2017-03-25  78.187260     2 2013-12-21    1190.0\n",
       "67     49116  2976  652      2018-02-24  60.000000     2 2010-02-02    2944.0"
      ]
     },
     "execution_count": 55,
     "metadata": {},
     "output_type": "execute_result"
    }
   ],
   "source": [
    "merged_data_t[merged_data_t['stage'] =='2']"
   ]
  },
  {
   "cell_type": "code",
   "execution_count": 62,
   "metadata": {},
   "outputs": [
    {
     "data": {
      "application/vnd.plotly.v1+json": {
       "config": {
        "plotlyServerURL": "https://plot.ly"
       },
       "data": [
        {
         "customdata": [
          [
           "TMA_Lab_Serum"
          ],
          [
           "TMA_Lab_Serum"
          ],
          [
           "TMA_Lab_Serum"
          ],
          [
           "TMA_Lab_Serum"
          ],
          [
           "TMA_Lab_Serum"
          ],
          [
           "TMA_Lab_Serum"
          ],
          [
           "TMA_Lab_Serum"
          ],
          [
           "TMA_Lab_Serum"
          ],
          [
           "TMA_Lab_Serum"
          ],
          [
           "TMA_Lab_Serum"
          ],
          [
           "TMA_Lab_Serum"
          ],
          [
           "TMA_Lab_Serum"
          ],
          [
           "TMA_Lab_Egfr"
          ],
          [
           "TMA_Lab_Serum"
          ],
          [
           "TMA_Lab_Serum"
          ],
          [
           "TMA_Lab_Serum"
          ],
          [
           "TMA_Lab_Serum"
          ],
          [
           "TMA_Lab_Serum"
          ],
          [
           "TMA_Lab_Serum"
          ],
          [
           "TMA_Lab_Serum"
          ],
          [
           "TMA_Lab_Serum"
          ],
          [
           "TMA_Lab_Serum"
          ],
          [
           "TMA_Lab_Serum"
          ],
          [
           "TMA_Lab_Serum"
          ],
          [
           "TMA_Lab_Serum"
          ],
          [
           "TMA_Lab_Serum"
          ],
          [
           "TMA_Lab_Egfr"
          ],
          [
           "TMA_Lab_Serum"
          ],
          [
           "TMA_Lab_Egfr"
          ],
          [
           "TMA_Lab_Serum"
          ],
          [
           "TMA_Lab_Serum"
          ],
          [
           "TMA_Lab_Serum"
          ],
          [
           "TMA_Lab_Serum"
          ],
          [
           "TMA_Lab_Egfr"
          ],
          [
           "TMA_Lab_Serum"
          ],
          [
           "TMA_Lab_Egfr"
          ],
          [
           "TMA_Lab_Serum"
          ],
          [
           "TMA_Lab_Serum"
          ],
          [
           "TMA_Lab_Serum"
          ],
          [
           "TMA_Lab_Serum"
          ],
          [
           "TMA_Lab_Serum"
          ],
          [
           "TMA_Lab_Serum"
          ]
         ],
         "hovertemplate": "date=%{x}<br>egfr=%{y}<br>source=%{customdata[0]}<extra></extra>",
         "legendgroup": "",
         "marker": {
          "color": "#636efa",
          "symbol": "circle"
         },
         "mode": "markers",
         "name": "",
         "orientation": "v",
         "showlegend": false,
         "type": "scatter",
         "x": [
          "2010-07-08",
          "2010-07-14",
          "2010-07-21",
          "2010-07-26",
          "2010-08-02",
          "2010-11-20",
          "2011-02-12",
          "2011-03-05",
          "2011-04-25",
          "2011-05-07",
          "2011-05-21",
          "2011-07-23",
          "2011-07-23 00:00:00",
          "2011-10-30",
          "2011-10-31",
          "2011-11-01",
          "2011-11-02",
          "2011-11-03",
          "2011-11-11",
          "2011-12-27",
          "2012-02-11",
          "2012-02-28",
          "2012-04-30",
          "2012-07-03",
          "2012-07-12",
          "2013-01-07",
          "2013-01-07 00:00:00",
          "2013-01-19",
          "2013-01-19 00:00:00",
          "2013-05-21",
          "2013-12-10",
          "2014-12-06",
          "2015-04-21",
          "2015-04-21 00:00:00",
          "2015-12-01",
          "2015-12-01 00:00:00",
          "2016-02-09",
          "2016-06-06",
          "2016-08-08",
          "2017-10-02",
          "2018-01-15",
          "2018-08-20"
         ],
         "xaxis": "x",
         "y": [
          81.05351698665365,
          82.08616116915753,
          86.46826432035334,
          87.63116610283654,
          87.63116610283654,
          101.04201315763987,
          76.61027711436158,
          76.61027711436158,
          61.45495525463647,
          76.61027711436158,
          55.786552068769524,
          61.45495525463647,
          60,
          40.334278002210624,
          40.334278002210624,
          61.45495525463647,
          61.45495525463647,
          68.27210240137622,
          61.45495525463647,
          61.45495525463647,
          50.64860481554291,
          59.81736064245704,
          55.39604620428813,
          40.05193805619514,
          46.59528254611392,
          39.771574489801786,
          38,
          55.0082738808581,
          52,
          50.29406458183411,
          55.0082738808581,
          49.94200612976129,
          59.75220009570624,
          57,
          45.6236151369979,
          44,
          49.245265202244966,
          53.86116747778263,
          45.304249831038895,
          53.48413930543815,
          44.67221024164608,
          53.1097503303001
         ],
         "yaxis": "y"
        }
       ],
       "layout": {
        "legend": {
         "tracegroupgap": 0
        },
        "margin": {
         "t": 60
        },
        "template": {
         "data": {
          "bar": [
           {
            "error_x": {
             "color": "#2a3f5f"
            },
            "error_y": {
             "color": "#2a3f5f"
            },
            "marker": {
             "line": {
              "color": "#E5ECF6",
              "width": 0.5
             }
            },
            "type": "bar"
           }
          ],
          "barpolar": [
           {
            "marker": {
             "line": {
              "color": "#E5ECF6",
              "width": 0.5
             }
            },
            "type": "barpolar"
           }
          ],
          "carpet": [
           {
            "aaxis": {
             "endlinecolor": "#2a3f5f",
             "gridcolor": "white",
             "linecolor": "white",
             "minorgridcolor": "white",
             "startlinecolor": "#2a3f5f"
            },
            "baxis": {
             "endlinecolor": "#2a3f5f",
             "gridcolor": "white",
             "linecolor": "white",
             "minorgridcolor": "white",
             "startlinecolor": "#2a3f5f"
            },
            "type": "carpet"
           }
          ],
          "choropleth": [
           {
            "colorbar": {
             "outlinewidth": 0,
             "ticks": ""
            },
            "type": "choropleth"
           }
          ],
          "contour": [
           {
            "colorbar": {
             "outlinewidth": 0,
             "ticks": ""
            },
            "colorscale": [
             [
              0,
              "#0d0887"
             ],
             [
              0.1111111111111111,
              "#46039f"
             ],
             [
              0.2222222222222222,
              "#7201a8"
             ],
             [
              0.3333333333333333,
              "#9c179e"
             ],
             [
              0.4444444444444444,
              "#bd3786"
             ],
             [
              0.5555555555555556,
              "#d8576b"
             ],
             [
              0.6666666666666666,
              "#ed7953"
             ],
             [
              0.7777777777777778,
              "#fb9f3a"
             ],
             [
              0.8888888888888888,
              "#fdca26"
             ],
             [
              1,
              "#f0f921"
             ]
            ],
            "type": "contour"
           }
          ],
          "contourcarpet": [
           {
            "colorbar": {
             "outlinewidth": 0,
             "ticks": ""
            },
            "type": "contourcarpet"
           }
          ],
          "heatmap": [
           {
            "colorbar": {
             "outlinewidth": 0,
             "ticks": ""
            },
            "colorscale": [
             [
              0,
              "#0d0887"
             ],
             [
              0.1111111111111111,
              "#46039f"
             ],
             [
              0.2222222222222222,
              "#7201a8"
             ],
             [
              0.3333333333333333,
              "#9c179e"
             ],
             [
              0.4444444444444444,
              "#bd3786"
             ],
             [
              0.5555555555555556,
              "#d8576b"
             ],
             [
              0.6666666666666666,
              "#ed7953"
             ],
             [
              0.7777777777777778,
              "#fb9f3a"
             ],
             [
              0.8888888888888888,
              "#fdca26"
             ],
             [
              1,
              "#f0f921"
             ]
            ],
            "type": "heatmap"
           }
          ],
          "heatmapgl": [
           {
            "colorbar": {
             "outlinewidth": 0,
             "ticks": ""
            },
            "colorscale": [
             [
              0,
              "#0d0887"
             ],
             [
              0.1111111111111111,
              "#46039f"
             ],
             [
              0.2222222222222222,
              "#7201a8"
             ],
             [
              0.3333333333333333,
              "#9c179e"
             ],
             [
              0.4444444444444444,
              "#bd3786"
             ],
             [
              0.5555555555555556,
              "#d8576b"
             ],
             [
              0.6666666666666666,
              "#ed7953"
             ],
             [
              0.7777777777777778,
              "#fb9f3a"
             ],
             [
              0.8888888888888888,
              "#fdca26"
             ],
             [
              1,
              "#f0f921"
             ]
            ],
            "type": "heatmapgl"
           }
          ],
          "histogram": [
           {
            "marker": {
             "colorbar": {
              "outlinewidth": 0,
              "ticks": ""
             }
            },
            "type": "histogram"
           }
          ],
          "histogram2d": [
           {
            "colorbar": {
             "outlinewidth": 0,
             "ticks": ""
            },
            "colorscale": [
             [
              0,
              "#0d0887"
             ],
             [
              0.1111111111111111,
              "#46039f"
             ],
             [
              0.2222222222222222,
              "#7201a8"
             ],
             [
              0.3333333333333333,
              "#9c179e"
             ],
             [
              0.4444444444444444,
              "#bd3786"
             ],
             [
              0.5555555555555556,
              "#d8576b"
             ],
             [
              0.6666666666666666,
              "#ed7953"
             ],
             [
              0.7777777777777778,
              "#fb9f3a"
             ],
             [
              0.8888888888888888,
              "#fdca26"
             ],
             [
              1,
              "#f0f921"
             ]
            ],
            "type": "histogram2d"
           }
          ],
          "histogram2dcontour": [
           {
            "colorbar": {
             "outlinewidth": 0,
             "ticks": ""
            },
            "colorscale": [
             [
              0,
              "#0d0887"
             ],
             [
              0.1111111111111111,
              "#46039f"
             ],
             [
              0.2222222222222222,
              "#7201a8"
             ],
             [
              0.3333333333333333,
              "#9c179e"
             ],
             [
              0.4444444444444444,
              "#bd3786"
             ],
             [
              0.5555555555555556,
              "#d8576b"
             ],
             [
              0.6666666666666666,
              "#ed7953"
             ],
             [
              0.7777777777777778,
              "#fb9f3a"
             ],
             [
              0.8888888888888888,
              "#fdca26"
             ],
             [
              1,
              "#f0f921"
             ]
            ],
            "type": "histogram2dcontour"
           }
          ],
          "mesh3d": [
           {
            "colorbar": {
             "outlinewidth": 0,
             "ticks": ""
            },
            "type": "mesh3d"
           }
          ],
          "parcoords": [
           {
            "line": {
             "colorbar": {
              "outlinewidth": 0,
              "ticks": ""
             }
            },
            "type": "parcoords"
           }
          ],
          "pie": [
           {
            "automargin": true,
            "type": "pie"
           }
          ],
          "scatter": [
           {
            "marker": {
             "colorbar": {
              "outlinewidth": 0,
              "ticks": ""
             }
            },
            "type": "scatter"
           }
          ],
          "scatter3d": [
           {
            "line": {
             "colorbar": {
              "outlinewidth": 0,
              "ticks": ""
             }
            },
            "marker": {
             "colorbar": {
              "outlinewidth": 0,
              "ticks": ""
             }
            },
            "type": "scatter3d"
           }
          ],
          "scattercarpet": [
           {
            "marker": {
             "colorbar": {
              "outlinewidth": 0,
              "ticks": ""
             }
            },
            "type": "scattercarpet"
           }
          ],
          "scattergeo": [
           {
            "marker": {
             "colorbar": {
              "outlinewidth": 0,
              "ticks": ""
             }
            },
            "type": "scattergeo"
           }
          ],
          "scattergl": [
           {
            "marker": {
             "colorbar": {
              "outlinewidth": 0,
              "ticks": ""
             }
            },
            "type": "scattergl"
           }
          ],
          "scattermapbox": [
           {
            "marker": {
             "colorbar": {
              "outlinewidth": 0,
              "ticks": ""
             }
            },
            "type": "scattermapbox"
           }
          ],
          "scatterpolar": [
           {
            "marker": {
             "colorbar": {
              "outlinewidth": 0,
              "ticks": ""
             }
            },
            "type": "scatterpolar"
           }
          ],
          "scatterpolargl": [
           {
            "marker": {
             "colorbar": {
              "outlinewidth": 0,
              "ticks": ""
             }
            },
            "type": "scatterpolargl"
           }
          ],
          "scatterternary": [
           {
            "marker": {
             "colorbar": {
              "outlinewidth": 0,
              "ticks": ""
             }
            },
            "type": "scatterternary"
           }
          ],
          "surface": [
           {
            "colorbar": {
             "outlinewidth": 0,
             "ticks": ""
            },
            "colorscale": [
             [
              0,
              "#0d0887"
             ],
             [
              0.1111111111111111,
              "#46039f"
             ],
             [
              0.2222222222222222,
              "#7201a8"
             ],
             [
              0.3333333333333333,
              "#9c179e"
             ],
             [
              0.4444444444444444,
              "#bd3786"
             ],
             [
              0.5555555555555556,
              "#d8576b"
             ],
             [
              0.6666666666666666,
              "#ed7953"
             ],
             [
              0.7777777777777778,
              "#fb9f3a"
             ],
             [
              0.8888888888888888,
              "#fdca26"
             ],
             [
              1,
              "#f0f921"
             ]
            ],
            "type": "surface"
           }
          ],
          "table": [
           {
            "cells": {
             "fill": {
              "color": "#EBF0F8"
             },
             "line": {
              "color": "white"
             }
            },
            "header": {
             "fill": {
              "color": "#C8D4E3"
             },
             "line": {
              "color": "white"
             }
            },
            "type": "table"
           }
          ]
         },
         "layout": {
          "annotationdefaults": {
           "arrowcolor": "#2a3f5f",
           "arrowhead": 0,
           "arrowwidth": 1
          },
          "coloraxis": {
           "colorbar": {
            "outlinewidth": 0,
            "ticks": ""
           }
          },
          "colorscale": {
           "diverging": [
            [
             0,
             "#8e0152"
            ],
            [
             0.1,
             "#c51b7d"
            ],
            [
             0.2,
             "#de77ae"
            ],
            [
             0.3,
             "#f1b6da"
            ],
            [
             0.4,
             "#fde0ef"
            ],
            [
             0.5,
             "#f7f7f7"
            ],
            [
             0.6,
             "#e6f5d0"
            ],
            [
             0.7,
             "#b8e186"
            ],
            [
             0.8,
             "#7fbc41"
            ],
            [
             0.9,
             "#4d9221"
            ],
            [
             1,
             "#276419"
            ]
           ],
           "sequential": [
            [
             0,
             "#0d0887"
            ],
            [
             0.1111111111111111,
             "#46039f"
            ],
            [
             0.2222222222222222,
             "#7201a8"
            ],
            [
             0.3333333333333333,
             "#9c179e"
            ],
            [
             0.4444444444444444,
             "#bd3786"
            ],
            [
             0.5555555555555556,
             "#d8576b"
            ],
            [
             0.6666666666666666,
             "#ed7953"
            ],
            [
             0.7777777777777778,
             "#fb9f3a"
            ],
            [
             0.8888888888888888,
             "#fdca26"
            ],
            [
             1,
             "#f0f921"
            ]
           ],
           "sequentialminus": [
            [
             0,
             "#0d0887"
            ],
            [
             0.1111111111111111,
             "#46039f"
            ],
            [
             0.2222222222222222,
             "#7201a8"
            ],
            [
             0.3333333333333333,
             "#9c179e"
            ],
            [
             0.4444444444444444,
             "#bd3786"
            ],
            [
             0.5555555555555556,
             "#d8576b"
            ],
            [
             0.6666666666666666,
             "#ed7953"
            ],
            [
             0.7777777777777778,
             "#fb9f3a"
            ],
            [
             0.8888888888888888,
             "#fdca26"
            ],
            [
             1,
             "#f0f921"
            ]
           ]
          },
          "colorway": [
           "#636efa",
           "#EF553B",
           "#00cc96",
           "#ab63fa",
           "#FFA15A",
           "#19d3f3",
           "#FF6692",
           "#B6E880",
           "#FF97FF",
           "#FECB52"
          ],
          "font": {
           "color": "#2a3f5f"
          },
          "geo": {
           "bgcolor": "white",
           "lakecolor": "white",
           "landcolor": "#E5ECF6",
           "showlakes": true,
           "showland": true,
           "subunitcolor": "white"
          },
          "hoverlabel": {
           "align": "left"
          },
          "hovermode": "closest",
          "mapbox": {
           "style": "light"
          },
          "paper_bgcolor": "white",
          "plot_bgcolor": "#E5ECF6",
          "polar": {
           "angularaxis": {
            "gridcolor": "white",
            "linecolor": "white",
            "ticks": ""
           },
           "bgcolor": "#E5ECF6",
           "radialaxis": {
            "gridcolor": "white",
            "linecolor": "white",
            "ticks": ""
           }
          },
          "scene": {
           "xaxis": {
            "backgroundcolor": "#E5ECF6",
            "gridcolor": "white",
            "gridwidth": 2,
            "linecolor": "white",
            "showbackground": true,
            "ticks": "",
            "zerolinecolor": "white"
           },
           "yaxis": {
            "backgroundcolor": "#E5ECF6",
            "gridcolor": "white",
            "gridwidth": 2,
            "linecolor": "white",
            "showbackground": true,
            "ticks": "",
            "zerolinecolor": "white"
           },
           "zaxis": {
            "backgroundcolor": "#E5ECF6",
            "gridcolor": "white",
            "gridwidth": 2,
            "linecolor": "white",
            "showbackground": true,
            "ticks": "",
            "zerolinecolor": "white"
           }
          },
          "shapedefaults": {
           "line": {
            "color": "#2a3f5f"
           }
          },
          "ternary": {
           "aaxis": {
            "gridcolor": "white",
            "linecolor": "white",
            "ticks": ""
           },
           "baxis": {
            "gridcolor": "white",
            "linecolor": "white",
            "ticks": ""
           },
           "bgcolor": "#E5ECF6",
           "caxis": {
            "gridcolor": "white",
            "linecolor": "white",
            "ticks": ""
           }
          },
          "title": {
           "x": 0.05
          },
          "xaxis": {
           "automargin": true,
           "gridcolor": "white",
           "linecolor": "white",
           "ticks": "",
           "title": {
            "standoff": 15
           },
           "zerolinecolor": "white",
           "zerolinewidth": 2
          },
          "yaxis": {
           "automargin": true,
           "gridcolor": "white",
           "linecolor": "white",
           "ticks": "",
           "title": {
            "standoff": 15
           },
           "zerolinecolor": "white",
           "zerolinewidth": 2
          }
         }
        },
        "xaxis": {
         "anchor": "y",
         "domain": [
          0,
          1
         ],
         "title": {
          "text": "date"
         }
        },
        "yaxis": {
         "anchor": "x",
         "domain": [
          0,
          1
         ],
         "title": {
          "text": "egfr"
         }
        }
       }
      },
      "text/html": [
       "<div>                            <div id=\"7a001c37-ad61-46ce-adc4-ba4c9e9e3617\" class=\"plotly-graph-div\" style=\"height:525px; width:100%;\"></div>            <script type=\"text/javascript\">                require([\"plotly\"], function(Plotly) {                    window.PLOTLYENV=window.PLOTLYENV || {};                                    if (document.getElementById(\"7a001c37-ad61-46ce-adc4-ba4c9e9e3617\")) {                    Plotly.newPlot(                        \"7a001c37-ad61-46ce-adc4-ba4c9e9e3617\",                        [{\"customdata\": [[\"TMA_Lab_Serum\"], [\"TMA_Lab_Serum\"], [\"TMA_Lab_Serum\"], [\"TMA_Lab_Serum\"], [\"TMA_Lab_Serum\"], [\"TMA_Lab_Serum\"], [\"TMA_Lab_Serum\"], [\"TMA_Lab_Serum\"], [\"TMA_Lab_Serum\"], [\"TMA_Lab_Serum\"], [\"TMA_Lab_Serum\"], [\"TMA_Lab_Serum\"], [\"TMA_Lab_Egfr\"], [\"TMA_Lab_Serum\"], [\"TMA_Lab_Serum\"], [\"TMA_Lab_Serum\"], [\"TMA_Lab_Serum\"], [\"TMA_Lab_Serum\"], [\"TMA_Lab_Serum\"], [\"TMA_Lab_Serum\"], [\"TMA_Lab_Serum\"], [\"TMA_Lab_Serum\"], [\"TMA_Lab_Serum\"], [\"TMA_Lab_Serum\"], [\"TMA_Lab_Serum\"], [\"TMA_Lab_Serum\"], [\"TMA_Lab_Egfr\"], [\"TMA_Lab_Serum\"], [\"TMA_Lab_Egfr\"], [\"TMA_Lab_Serum\"], [\"TMA_Lab_Serum\"], [\"TMA_Lab_Serum\"], [\"TMA_Lab_Serum\"], [\"TMA_Lab_Egfr\"], [\"TMA_Lab_Serum\"], [\"TMA_Lab_Egfr\"], [\"TMA_Lab_Serum\"], [\"TMA_Lab_Serum\"], [\"TMA_Lab_Serum\"], [\"TMA_Lab_Serum\"], [\"TMA_Lab_Serum\"], [\"TMA_Lab_Serum\"]], \"hovertemplate\": \"date=%{x}<br>egfr=%{y}<br>source=%{customdata[0]}<extra></extra>\", \"legendgroup\": \"\", \"marker\": {\"color\": \"#636efa\", \"symbol\": \"circle\"}, \"mode\": \"markers\", \"name\": \"\", \"orientation\": \"v\", \"showlegend\": false, \"type\": \"scatter\", \"x\": [\"2010-07-08\", \"2010-07-14\", \"2010-07-21\", \"2010-07-26\", \"2010-08-02\", \"2010-11-20\", \"2011-02-12\", \"2011-03-05\", \"2011-04-25\", \"2011-05-07\", \"2011-05-21\", \"2011-07-23\", \"2011-07-23 00:00:00\", \"2011-10-30\", \"2011-10-31\", \"2011-11-01\", \"2011-11-02\", \"2011-11-03\", \"2011-11-11\", \"2011-12-27\", \"2012-02-11\", \"2012-02-28\", \"2012-04-30\", \"2012-07-03\", \"2012-07-12\", \"2013-01-07\", \"2013-01-07 00:00:00\", \"2013-01-19\", \"2013-01-19 00:00:00\", \"2013-05-21\", \"2013-12-10\", \"2014-12-06\", \"2015-04-21\", \"2015-04-21 00:00:00\", \"2015-12-01\", \"2015-12-01 00:00:00\", \"2016-02-09\", \"2016-06-06\", \"2016-08-08\", \"2017-10-02\", \"2018-01-15\", \"2018-08-20\"], \"xaxis\": \"x\", \"y\": [81.05351698665365, 82.08616116915753, 86.46826432035334, 87.63116610283654, 87.63116610283654, 101.04201315763987, 76.61027711436158, 76.61027711436158, 61.45495525463647, 76.61027711436158, 55.786552068769524, 61.45495525463647, 60.0, 40.334278002210624, 40.334278002210624, 61.45495525463647, 61.45495525463647, 68.27210240137622, 61.45495525463647, 61.45495525463647, 50.64860481554291, 59.81736064245704, 55.39604620428813, 40.05193805619514, 46.59528254611392, 39.771574489801786, 38.0, 55.0082738808581, 52.0, 50.29406458183411, 55.0082738808581, 49.94200612976129, 59.75220009570624, 57.0, 45.6236151369979, 44.0, 49.245265202244966, 53.86116747778263, 45.304249831038895, 53.48413930543815, 44.67221024164608, 53.1097503303001], \"yaxis\": \"y\"}],                        {\"legend\": {\"tracegroupgap\": 0}, \"margin\": {\"t\": 60}, \"template\": {\"data\": {\"bar\": [{\"error_x\": {\"color\": \"#2a3f5f\"}, \"error_y\": {\"color\": \"#2a3f5f\"}, \"marker\": {\"line\": {\"color\": \"#E5ECF6\", \"width\": 0.5}}, \"type\": \"bar\"}], \"barpolar\": [{\"marker\": {\"line\": {\"color\": \"#E5ECF6\", \"width\": 0.5}}, \"type\": \"barpolar\"}], \"carpet\": [{\"aaxis\": {\"endlinecolor\": \"#2a3f5f\", \"gridcolor\": \"white\", \"linecolor\": \"white\", \"minorgridcolor\": \"white\", \"startlinecolor\": \"#2a3f5f\"}, \"baxis\": {\"endlinecolor\": \"#2a3f5f\", \"gridcolor\": \"white\", \"linecolor\": \"white\", \"minorgridcolor\": \"white\", \"startlinecolor\": \"#2a3f5f\"}, \"type\": \"carpet\"}], \"choropleth\": [{\"colorbar\": {\"outlinewidth\": 0, \"ticks\": \"\"}, \"type\": \"choropleth\"}], \"contour\": [{\"colorbar\": {\"outlinewidth\": 0, \"ticks\": \"\"}, \"colorscale\": [[0.0, \"#0d0887\"], [0.1111111111111111, \"#46039f\"], [0.2222222222222222, \"#7201a8\"], [0.3333333333333333, \"#9c179e\"], [0.4444444444444444, \"#bd3786\"], [0.5555555555555556, \"#d8576b\"], [0.6666666666666666, \"#ed7953\"], [0.7777777777777778, \"#fb9f3a\"], [0.8888888888888888, \"#fdca26\"], [1.0, \"#f0f921\"]], \"type\": \"contour\"}], \"contourcarpet\": [{\"colorbar\": {\"outlinewidth\": 0, \"ticks\": \"\"}, \"type\": \"contourcarpet\"}], \"heatmap\": [{\"colorbar\": {\"outlinewidth\": 0, \"ticks\": \"\"}, \"colorscale\": [[0.0, \"#0d0887\"], [0.1111111111111111, \"#46039f\"], [0.2222222222222222, \"#7201a8\"], [0.3333333333333333, \"#9c179e\"], [0.4444444444444444, \"#bd3786\"], [0.5555555555555556, \"#d8576b\"], [0.6666666666666666, \"#ed7953\"], [0.7777777777777778, \"#fb9f3a\"], [0.8888888888888888, \"#fdca26\"], [1.0, \"#f0f921\"]], \"type\": \"heatmap\"}], \"heatmapgl\": [{\"colorbar\": {\"outlinewidth\": 0, \"ticks\": \"\"}, \"colorscale\": [[0.0, \"#0d0887\"], [0.1111111111111111, \"#46039f\"], [0.2222222222222222, \"#7201a8\"], [0.3333333333333333, \"#9c179e\"], [0.4444444444444444, \"#bd3786\"], [0.5555555555555556, \"#d8576b\"], [0.6666666666666666, \"#ed7953\"], [0.7777777777777778, \"#fb9f3a\"], [0.8888888888888888, \"#fdca26\"], [1.0, \"#f0f921\"]], \"type\": \"heatmapgl\"}], \"histogram\": [{\"marker\": {\"colorbar\": {\"outlinewidth\": 0, \"ticks\": \"\"}}, \"type\": \"histogram\"}], \"histogram2d\": [{\"colorbar\": {\"outlinewidth\": 0, \"ticks\": \"\"}, \"colorscale\": [[0.0, \"#0d0887\"], [0.1111111111111111, \"#46039f\"], [0.2222222222222222, \"#7201a8\"], [0.3333333333333333, \"#9c179e\"], [0.4444444444444444, \"#bd3786\"], [0.5555555555555556, \"#d8576b\"], [0.6666666666666666, \"#ed7953\"], [0.7777777777777778, \"#fb9f3a\"], [0.8888888888888888, \"#fdca26\"], [1.0, \"#f0f921\"]], \"type\": \"histogram2d\"}], \"histogram2dcontour\": [{\"colorbar\": {\"outlinewidth\": 0, \"ticks\": \"\"}, \"colorscale\": [[0.0, \"#0d0887\"], [0.1111111111111111, \"#46039f\"], [0.2222222222222222, \"#7201a8\"], [0.3333333333333333, \"#9c179e\"], [0.4444444444444444, \"#bd3786\"], [0.5555555555555556, \"#d8576b\"], [0.6666666666666666, \"#ed7953\"], [0.7777777777777778, \"#fb9f3a\"], [0.8888888888888888, \"#fdca26\"], [1.0, \"#f0f921\"]], \"type\": \"histogram2dcontour\"}], \"mesh3d\": [{\"colorbar\": {\"outlinewidth\": 0, \"ticks\": \"\"}, \"type\": \"mesh3d\"}], \"parcoords\": [{\"line\": {\"colorbar\": {\"outlinewidth\": 0, \"ticks\": \"\"}}, \"type\": \"parcoords\"}], \"pie\": [{\"automargin\": true, \"type\": \"pie\"}], \"scatter\": [{\"marker\": {\"colorbar\": {\"outlinewidth\": 0, \"ticks\": \"\"}}, \"type\": \"scatter\"}], \"scatter3d\": [{\"line\": {\"colorbar\": {\"outlinewidth\": 0, \"ticks\": \"\"}}, \"marker\": {\"colorbar\": {\"outlinewidth\": 0, \"ticks\": \"\"}}, \"type\": \"scatter3d\"}], \"scattercarpet\": [{\"marker\": {\"colorbar\": {\"outlinewidth\": 0, \"ticks\": \"\"}}, \"type\": \"scattercarpet\"}], \"scattergeo\": [{\"marker\": {\"colorbar\": {\"outlinewidth\": 0, \"ticks\": \"\"}}, \"type\": \"scattergeo\"}], \"scattergl\": [{\"marker\": {\"colorbar\": {\"outlinewidth\": 0, \"ticks\": \"\"}}, \"type\": \"scattergl\"}], \"scattermapbox\": [{\"marker\": {\"colorbar\": {\"outlinewidth\": 0, \"ticks\": \"\"}}, \"type\": \"scattermapbox\"}], \"scatterpolar\": [{\"marker\": {\"colorbar\": {\"outlinewidth\": 0, \"ticks\": \"\"}}, \"type\": \"scatterpolar\"}], \"scatterpolargl\": [{\"marker\": {\"colorbar\": {\"outlinewidth\": 0, \"ticks\": \"\"}}, \"type\": \"scatterpolargl\"}], \"scatterternary\": [{\"marker\": {\"colorbar\": {\"outlinewidth\": 0, \"ticks\": \"\"}}, \"type\": \"scatterternary\"}], \"surface\": [{\"colorbar\": {\"outlinewidth\": 0, \"ticks\": \"\"}, \"colorscale\": [[0.0, \"#0d0887\"], [0.1111111111111111, \"#46039f\"], [0.2222222222222222, \"#7201a8\"], [0.3333333333333333, \"#9c179e\"], [0.4444444444444444, \"#bd3786\"], [0.5555555555555556, \"#d8576b\"], [0.6666666666666666, \"#ed7953\"], [0.7777777777777778, \"#fb9f3a\"], [0.8888888888888888, \"#fdca26\"], [1.0, \"#f0f921\"]], \"type\": \"surface\"}], \"table\": [{\"cells\": {\"fill\": {\"color\": \"#EBF0F8\"}, \"line\": {\"color\": \"white\"}}, \"header\": {\"fill\": {\"color\": \"#C8D4E3\"}, \"line\": {\"color\": \"white\"}}, \"type\": \"table\"}]}, \"layout\": {\"annotationdefaults\": {\"arrowcolor\": \"#2a3f5f\", \"arrowhead\": 0, \"arrowwidth\": 1}, \"coloraxis\": {\"colorbar\": {\"outlinewidth\": 0, \"ticks\": \"\"}}, \"colorscale\": {\"diverging\": [[0, \"#8e0152\"], [0.1, \"#c51b7d\"], [0.2, \"#de77ae\"], [0.3, \"#f1b6da\"], [0.4, \"#fde0ef\"], [0.5, \"#f7f7f7\"], [0.6, \"#e6f5d0\"], [0.7, \"#b8e186\"], [0.8, \"#7fbc41\"], [0.9, \"#4d9221\"], [1, \"#276419\"]], \"sequential\": [[0.0, \"#0d0887\"], [0.1111111111111111, \"#46039f\"], [0.2222222222222222, \"#7201a8\"], [0.3333333333333333, \"#9c179e\"], [0.4444444444444444, \"#bd3786\"], [0.5555555555555556, \"#d8576b\"], [0.6666666666666666, \"#ed7953\"], [0.7777777777777778, \"#fb9f3a\"], [0.8888888888888888, \"#fdca26\"], [1.0, \"#f0f921\"]], \"sequentialminus\": [[0.0, \"#0d0887\"], [0.1111111111111111, \"#46039f\"], [0.2222222222222222, \"#7201a8\"], [0.3333333333333333, \"#9c179e\"], [0.4444444444444444, \"#bd3786\"], [0.5555555555555556, \"#d8576b\"], [0.6666666666666666, \"#ed7953\"], [0.7777777777777778, \"#fb9f3a\"], [0.8888888888888888, \"#fdca26\"], [1.0, \"#f0f921\"]]}, \"colorway\": [\"#636efa\", \"#EF553B\", \"#00cc96\", \"#ab63fa\", \"#FFA15A\", \"#19d3f3\", \"#FF6692\", \"#B6E880\", \"#FF97FF\", \"#FECB52\"], \"font\": {\"color\": \"#2a3f5f\"}, \"geo\": {\"bgcolor\": \"white\", \"lakecolor\": \"white\", \"landcolor\": \"#E5ECF6\", \"showlakes\": true, \"showland\": true, \"subunitcolor\": \"white\"}, \"hoverlabel\": {\"align\": \"left\"}, \"hovermode\": \"closest\", \"mapbox\": {\"style\": \"light\"}, \"paper_bgcolor\": \"white\", \"plot_bgcolor\": \"#E5ECF6\", \"polar\": {\"angularaxis\": {\"gridcolor\": \"white\", \"linecolor\": \"white\", \"ticks\": \"\"}, \"bgcolor\": \"#E5ECF6\", \"radialaxis\": {\"gridcolor\": \"white\", \"linecolor\": \"white\", \"ticks\": \"\"}}, \"scene\": {\"xaxis\": {\"backgroundcolor\": \"#E5ECF6\", \"gridcolor\": \"white\", \"gridwidth\": 2, \"linecolor\": \"white\", \"showbackground\": true, \"ticks\": \"\", \"zerolinecolor\": \"white\"}, \"yaxis\": {\"backgroundcolor\": \"#E5ECF6\", \"gridcolor\": \"white\", \"gridwidth\": 2, \"linecolor\": \"white\", \"showbackground\": true, \"ticks\": \"\", \"zerolinecolor\": \"white\"}, \"zaxis\": {\"backgroundcolor\": \"#E5ECF6\", \"gridcolor\": \"white\", \"gridwidth\": 2, \"linecolor\": \"white\", \"showbackground\": true, \"ticks\": \"\", \"zerolinecolor\": \"white\"}}, \"shapedefaults\": {\"line\": {\"color\": \"#2a3f5f\"}}, \"ternary\": {\"aaxis\": {\"gridcolor\": \"white\", \"linecolor\": \"white\", \"ticks\": \"\"}, \"baxis\": {\"gridcolor\": \"white\", \"linecolor\": \"white\", \"ticks\": \"\"}, \"bgcolor\": \"#E5ECF6\", \"caxis\": {\"gridcolor\": \"white\", \"linecolor\": \"white\", \"ticks\": \"\"}}, \"title\": {\"x\": 0.05}, \"xaxis\": {\"automargin\": true, \"gridcolor\": \"white\", \"linecolor\": \"white\", \"ticks\": \"\", \"title\": {\"standoff\": 15}, \"zerolinecolor\": \"white\", \"zerolinewidth\": 2}, \"yaxis\": {\"automargin\": true, \"gridcolor\": \"white\", \"linecolor\": \"white\", \"ticks\": \"\", \"title\": {\"standoff\": 15}, \"zerolinecolor\": \"white\", \"zerolinewidth\": 2}}}, \"xaxis\": {\"anchor\": \"y\", \"domain\": [0.0, 1.0], \"title\": {\"text\": \"date\"}}, \"yaxis\": {\"anchor\": \"x\", \"domain\": [0.0, 1.0], \"title\": {\"text\": \"egfr\"}}},                        {\"responsive\": true}                    ).then(function(){\n",
       "                            \n",
       "var gd = document.getElementById('7a001c37-ad61-46ce-adc4-ba4c9e9e3617');\n",
       "var x = new MutationObserver(function (mutations, observer) {{\n",
       "        var display = window.getComputedStyle(gd).display;\n",
       "        if (!display || display === 'none') {{\n",
       "            console.log([gd, 'removed!']);\n",
       "            Plotly.purge(gd);\n",
       "            observer.disconnect();\n",
       "        }}\n",
       "}});\n",
       "\n",
       "// Listen for the removal of the full notebook cells\n",
       "var notebookContainer = gd.closest('#notebook-container');\n",
       "if (notebookContainer) {{\n",
       "    x.observe(notebookContainer, {childList: true});\n",
       "}}\n",
       "\n",
       "// Listen for the clearing of the current output cell\n",
       "var outputEl = gd.closest('.output');\n",
       "if (outputEl) {{\n",
       "    x.observe(outputEl, {childList: true});\n",
       "}}\n",
       "\n",
       "                        })                };                });            </script>        </div>"
      ]
     },
     "metadata": {},
     "output_type": "display_data"
    },
    {
     "name": "stderr",
     "output_type": "stream",
     "text": [
      "C:\\Users\\Joyqiao\\anaconda3\\lib\\site-packages\\IPython\\core\\interactiveshell.py:3254: DtypeWarning:\n",
      "\n",
      "Columns (10,12,13,14,15,16,17,18,19,20,21,23,25,37,38,40,41,42,43,44,45,46,47,48,49,52,53) have mixed types.Specify dtype option on import or set low_memory=False.\n",
      "\n"
     ]
    },
    {
     "data": {
      "application/vnd.plotly.v1+json": {
       "config": {
        "plotlyServerURL": "https://plot.ly"
       },
       "data": [],
       "layout": {
        "legend": {
         "tracegroupgap": 0
        },
        "margin": {
         "t": 60
        },
        "template": {
         "data": {
          "bar": [
           {
            "error_x": {
             "color": "#2a3f5f"
            },
            "error_y": {
             "color": "#2a3f5f"
            },
            "marker": {
             "line": {
              "color": "#E5ECF6",
              "width": 0.5
             }
            },
            "type": "bar"
           }
          ],
          "barpolar": [
           {
            "marker": {
             "line": {
              "color": "#E5ECF6",
              "width": 0.5
             }
            },
            "type": "barpolar"
           }
          ],
          "carpet": [
           {
            "aaxis": {
             "endlinecolor": "#2a3f5f",
             "gridcolor": "white",
             "linecolor": "white",
             "minorgridcolor": "white",
             "startlinecolor": "#2a3f5f"
            },
            "baxis": {
             "endlinecolor": "#2a3f5f",
             "gridcolor": "white",
             "linecolor": "white",
             "minorgridcolor": "white",
             "startlinecolor": "#2a3f5f"
            },
            "type": "carpet"
           }
          ],
          "choropleth": [
           {
            "colorbar": {
             "outlinewidth": 0,
             "ticks": ""
            },
            "type": "choropleth"
           }
          ],
          "contour": [
           {
            "colorbar": {
             "outlinewidth": 0,
             "ticks": ""
            },
            "colorscale": [
             [
              0,
              "#0d0887"
             ],
             [
              0.1111111111111111,
              "#46039f"
             ],
             [
              0.2222222222222222,
              "#7201a8"
             ],
             [
              0.3333333333333333,
              "#9c179e"
             ],
             [
              0.4444444444444444,
              "#bd3786"
             ],
             [
              0.5555555555555556,
              "#d8576b"
             ],
             [
              0.6666666666666666,
              "#ed7953"
             ],
             [
              0.7777777777777778,
              "#fb9f3a"
             ],
             [
              0.8888888888888888,
              "#fdca26"
             ],
             [
              1,
              "#f0f921"
             ]
            ],
            "type": "contour"
           }
          ],
          "contourcarpet": [
           {
            "colorbar": {
             "outlinewidth": 0,
             "ticks": ""
            },
            "type": "contourcarpet"
           }
          ],
          "heatmap": [
           {
            "colorbar": {
             "outlinewidth": 0,
             "ticks": ""
            },
            "colorscale": [
             [
              0,
              "#0d0887"
             ],
             [
              0.1111111111111111,
              "#46039f"
             ],
             [
              0.2222222222222222,
              "#7201a8"
             ],
             [
              0.3333333333333333,
              "#9c179e"
             ],
             [
              0.4444444444444444,
              "#bd3786"
             ],
             [
              0.5555555555555556,
              "#d8576b"
             ],
             [
              0.6666666666666666,
              "#ed7953"
             ],
             [
              0.7777777777777778,
              "#fb9f3a"
             ],
             [
              0.8888888888888888,
              "#fdca26"
             ],
             [
              1,
              "#f0f921"
             ]
            ],
            "type": "heatmap"
           }
          ],
          "heatmapgl": [
           {
            "colorbar": {
             "outlinewidth": 0,
             "ticks": ""
            },
            "colorscale": [
             [
              0,
              "#0d0887"
             ],
             [
              0.1111111111111111,
              "#46039f"
             ],
             [
              0.2222222222222222,
              "#7201a8"
             ],
             [
              0.3333333333333333,
              "#9c179e"
             ],
             [
              0.4444444444444444,
              "#bd3786"
             ],
             [
              0.5555555555555556,
              "#d8576b"
             ],
             [
              0.6666666666666666,
              "#ed7953"
             ],
             [
              0.7777777777777778,
              "#fb9f3a"
             ],
             [
              0.8888888888888888,
              "#fdca26"
             ],
             [
              1,
              "#f0f921"
             ]
            ],
            "type": "heatmapgl"
           }
          ],
          "histogram": [
           {
            "marker": {
             "colorbar": {
              "outlinewidth": 0,
              "ticks": ""
             }
            },
            "type": "histogram"
           }
          ],
          "histogram2d": [
           {
            "colorbar": {
             "outlinewidth": 0,
             "ticks": ""
            },
            "colorscale": [
             [
              0,
              "#0d0887"
             ],
             [
              0.1111111111111111,
              "#46039f"
             ],
             [
              0.2222222222222222,
              "#7201a8"
             ],
             [
              0.3333333333333333,
              "#9c179e"
             ],
             [
              0.4444444444444444,
              "#bd3786"
             ],
             [
              0.5555555555555556,
              "#d8576b"
             ],
             [
              0.6666666666666666,
              "#ed7953"
             ],
             [
              0.7777777777777778,
              "#fb9f3a"
             ],
             [
              0.8888888888888888,
              "#fdca26"
             ],
             [
              1,
              "#f0f921"
             ]
            ],
            "type": "histogram2d"
           }
          ],
          "histogram2dcontour": [
           {
            "colorbar": {
             "outlinewidth": 0,
             "ticks": ""
            },
            "colorscale": [
             [
              0,
              "#0d0887"
             ],
             [
              0.1111111111111111,
              "#46039f"
             ],
             [
              0.2222222222222222,
              "#7201a8"
             ],
             [
              0.3333333333333333,
              "#9c179e"
             ],
             [
              0.4444444444444444,
              "#bd3786"
             ],
             [
              0.5555555555555556,
              "#d8576b"
             ],
             [
              0.6666666666666666,
              "#ed7953"
             ],
             [
              0.7777777777777778,
              "#fb9f3a"
             ],
             [
              0.8888888888888888,
              "#fdca26"
             ],
             [
              1,
              "#f0f921"
             ]
            ],
            "type": "histogram2dcontour"
           }
          ],
          "mesh3d": [
           {
            "colorbar": {
             "outlinewidth": 0,
             "ticks": ""
            },
            "type": "mesh3d"
           }
          ],
          "parcoords": [
           {
            "line": {
             "colorbar": {
              "outlinewidth": 0,
              "ticks": ""
             }
            },
            "type": "parcoords"
           }
          ],
          "pie": [
           {
            "automargin": true,
            "type": "pie"
           }
          ],
          "scatter": [
           {
            "marker": {
             "colorbar": {
              "outlinewidth": 0,
              "ticks": ""
             }
            },
            "type": "scatter"
           }
          ],
          "scatter3d": [
           {
            "line": {
             "colorbar": {
              "outlinewidth": 0,
              "ticks": ""
             }
            },
            "marker": {
             "colorbar": {
              "outlinewidth": 0,
              "ticks": ""
             }
            },
            "type": "scatter3d"
           }
          ],
          "scattercarpet": [
           {
            "marker": {
             "colorbar": {
              "outlinewidth": 0,
              "ticks": ""
             }
            },
            "type": "scattercarpet"
           }
          ],
          "scattergeo": [
           {
            "marker": {
             "colorbar": {
              "outlinewidth": 0,
              "ticks": ""
             }
            },
            "type": "scattergeo"
           }
          ],
          "scattergl": [
           {
            "marker": {
             "colorbar": {
              "outlinewidth": 0,
              "ticks": ""
             }
            },
            "type": "scattergl"
           }
          ],
          "scattermapbox": [
           {
            "marker": {
             "colorbar": {
              "outlinewidth": 0,
              "ticks": ""
             }
            },
            "type": "scattermapbox"
           }
          ],
          "scatterpolar": [
           {
            "marker": {
             "colorbar": {
              "outlinewidth": 0,
              "ticks": ""
             }
            },
            "type": "scatterpolar"
           }
          ],
          "scatterpolargl": [
           {
            "marker": {
             "colorbar": {
              "outlinewidth": 0,
              "ticks": ""
             }
            },
            "type": "scatterpolargl"
           }
          ],
          "scatterternary": [
           {
            "marker": {
             "colorbar": {
              "outlinewidth": 0,
              "ticks": ""
             }
            },
            "type": "scatterternary"
           }
          ],
          "surface": [
           {
            "colorbar": {
             "outlinewidth": 0,
             "ticks": ""
            },
            "colorscale": [
             [
              0,
              "#0d0887"
             ],
             [
              0.1111111111111111,
              "#46039f"
             ],
             [
              0.2222222222222222,
              "#7201a8"
             ],
             [
              0.3333333333333333,
              "#9c179e"
             ],
             [
              0.4444444444444444,
              "#bd3786"
             ],
             [
              0.5555555555555556,
              "#d8576b"
             ],
             [
              0.6666666666666666,
              "#ed7953"
             ],
             [
              0.7777777777777778,
              "#fb9f3a"
             ],
             [
              0.8888888888888888,
              "#fdca26"
             ],
             [
              1,
              "#f0f921"
             ]
            ],
            "type": "surface"
           }
          ],
          "table": [
           {
            "cells": {
             "fill": {
              "color": "#EBF0F8"
             },
             "line": {
              "color": "white"
             }
            },
            "header": {
             "fill": {
              "color": "#C8D4E3"
             },
             "line": {
              "color": "white"
             }
            },
            "type": "table"
           }
          ]
         },
         "layout": {
          "annotationdefaults": {
           "arrowcolor": "#2a3f5f",
           "arrowhead": 0,
           "arrowwidth": 1
          },
          "coloraxis": {
           "colorbar": {
            "outlinewidth": 0,
            "ticks": ""
           }
          },
          "colorscale": {
           "diverging": [
            [
             0,
             "#8e0152"
            ],
            [
             0.1,
             "#c51b7d"
            ],
            [
             0.2,
             "#de77ae"
            ],
            [
             0.3,
             "#f1b6da"
            ],
            [
             0.4,
             "#fde0ef"
            ],
            [
             0.5,
             "#f7f7f7"
            ],
            [
             0.6,
             "#e6f5d0"
            ],
            [
             0.7,
             "#b8e186"
            ],
            [
             0.8,
             "#7fbc41"
            ],
            [
             0.9,
             "#4d9221"
            ],
            [
             1,
             "#276419"
            ]
           ],
           "sequential": [
            [
             0,
             "#0d0887"
            ],
            [
             0.1111111111111111,
             "#46039f"
            ],
            [
             0.2222222222222222,
             "#7201a8"
            ],
            [
             0.3333333333333333,
             "#9c179e"
            ],
            [
             0.4444444444444444,
             "#bd3786"
            ],
            [
             0.5555555555555556,
             "#d8576b"
            ],
            [
             0.6666666666666666,
             "#ed7953"
            ],
            [
             0.7777777777777778,
             "#fb9f3a"
            ],
            [
             0.8888888888888888,
             "#fdca26"
            ],
            [
             1,
             "#f0f921"
            ]
           ],
           "sequentialminus": [
            [
             0,
             "#0d0887"
            ],
            [
             0.1111111111111111,
             "#46039f"
            ],
            [
             0.2222222222222222,
             "#7201a8"
            ],
            [
             0.3333333333333333,
             "#9c179e"
            ],
            [
             0.4444444444444444,
             "#bd3786"
            ],
            [
             0.5555555555555556,
             "#d8576b"
            ],
            [
             0.6666666666666666,
             "#ed7953"
            ],
            [
             0.7777777777777778,
             "#fb9f3a"
            ],
            [
             0.8888888888888888,
             "#fdca26"
            ],
            [
             1,
             "#f0f921"
            ]
           ]
          },
          "colorway": [
           "#636efa",
           "#EF553B",
           "#00cc96",
           "#ab63fa",
           "#FFA15A",
           "#19d3f3",
           "#FF6692",
           "#B6E880",
           "#FF97FF",
           "#FECB52"
          ],
          "font": {
           "color": "#2a3f5f"
          },
          "geo": {
           "bgcolor": "white",
           "lakecolor": "white",
           "landcolor": "#E5ECF6",
           "showlakes": true,
           "showland": true,
           "subunitcolor": "white"
          },
          "hoverlabel": {
           "align": "left"
          },
          "hovermode": "closest",
          "mapbox": {
           "style": "light"
          },
          "paper_bgcolor": "white",
          "plot_bgcolor": "#E5ECF6",
          "polar": {
           "angularaxis": {
            "gridcolor": "white",
            "linecolor": "white",
            "ticks": ""
           },
           "bgcolor": "#E5ECF6",
           "radialaxis": {
            "gridcolor": "white",
            "linecolor": "white",
            "ticks": ""
           }
          },
          "scene": {
           "xaxis": {
            "backgroundcolor": "#E5ECF6",
            "gridcolor": "white",
            "gridwidth": 2,
            "linecolor": "white",
            "showbackground": true,
            "ticks": "",
            "zerolinecolor": "white"
           },
           "yaxis": {
            "backgroundcolor": "#E5ECF6",
            "gridcolor": "white",
            "gridwidth": 2,
            "linecolor": "white",
            "showbackground": true,
            "ticks": "",
            "zerolinecolor": "white"
           },
           "zaxis": {
            "backgroundcolor": "#E5ECF6",
            "gridcolor": "white",
            "gridwidth": 2,
            "linecolor": "white",
            "showbackground": true,
            "ticks": "",
            "zerolinecolor": "white"
           }
          },
          "shapedefaults": {
           "line": {
            "color": "#2a3f5f"
           }
          },
          "ternary": {
           "aaxis": {
            "gridcolor": "white",
            "linecolor": "white",
            "ticks": ""
           },
           "baxis": {
            "gridcolor": "white",
            "linecolor": "white",
            "ticks": ""
           },
           "bgcolor": "#E5ECF6",
           "caxis": {
            "gridcolor": "white",
            "linecolor": "white",
            "ticks": ""
           }
          },
          "title": {
           "x": 0.05
          },
          "xaxis": {
           "automargin": true,
           "gridcolor": "white",
           "linecolor": "white",
           "ticks": "",
           "title": {
            "standoff": 15
           },
           "zerolinecolor": "white",
           "zerolinewidth": 2
          },
          "yaxis": {
           "automargin": true,
           "gridcolor": "white",
           "linecolor": "white",
           "ticks": "",
           "title": {
            "standoff": 15
           },
           "zerolinecolor": "white",
           "zerolinewidth": 2
          }
         }
        },
        "xaxis": {
         "anchor": "y",
         "domain": [
          0,
          1
         ],
         "title": {
          "text": "date"
         }
        },
        "yaxis": {
         "anchor": "x",
         "domain": [
          0,
          1
         ],
         "title": {
          "text": "eacl_prv_alcrg_at"
         }
        }
       }
      },
      "text/html": [
       "<div>                            <div id=\"a9d6b4a8-0ed1-44d1-adcd-d3022a72ed53\" class=\"plotly-graph-div\" style=\"height:525px; width:100%;\"></div>            <script type=\"text/javascript\">                require([\"plotly\"], function(Plotly) {                    window.PLOTLYENV=window.PLOTLYENV || {};                                    if (document.getElementById(\"a9d6b4a8-0ed1-44d1-adcd-d3022a72ed53\")) {                    Plotly.newPlot(                        \"a9d6b4a8-0ed1-44d1-adcd-d3022a72ed53\",                        [],                        {\"legend\": {\"tracegroupgap\": 0}, \"margin\": {\"t\": 60}, \"template\": {\"data\": {\"bar\": [{\"error_x\": {\"color\": \"#2a3f5f\"}, \"error_y\": {\"color\": \"#2a3f5f\"}, \"marker\": {\"line\": {\"color\": \"#E5ECF6\", \"width\": 0.5}}, \"type\": \"bar\"}], \"barpolar\": [{\"marker\": {\"line\": {\"color\": \"#E5ECF6\", \"width\": 0.5}}, \"type\": \"barpolar\"}], \"carpet\": [{\"aaxis\": {\"endlinecolor\": \"#2a3f5f\", \"gridcolor\": \"white\", \"linecolor\": \"white\", \"minorgridcolor\": \"white\", \"startlinecolor\": \"#2a3f5f\"}, \"baxis\": {\"endlinecolor\": \"#2a3f5f\", \"gridcolor\": \"white\", \"linecolor\": \"white\", \"minorgridcolor\": \"white\", \"startlinecolor\": \"#2a3f5f\"}, \"type\": \"carpet\"}], \"choropleth\": [{\"colorbar\": {\"outlinewidth\": 0, \"ticks\": \"\"}, \"type\": \"choropleth\"}], \"contour\": [{\"colorbar\": {\"outlinewidth\": 0, \"ticks\": \"\"}, \"colorscale\": [[0.0, \"#0d0887\"], [0.1111111111111111, \"#46039f\"], [0.2222222222222222, \"#7201a8\"], [0.3333333333333333, \"#9c179e\"], [0.4444444444444444, \"#bd3786\"], [0.5555555555555556, \"#d8576b\"], [0.6666666666666666, \"#ed7953\"], [0.7777777777777778, \"#fb9f3a\"], [0.8888888888888888, \"#fdca26\"], [1.0, \"#f0f921\"]], \"type\": \"contour\"}], \"contourcarpet\": [{\"colorbar\": {\"outlinewidth\": 0, \"ticks\": \"\"}, \"type\": \"contourcarpet\"}], \"heatmap\": [{\"colorbar\": {\"outlinewidth\": 0, \"ticks\": \"\"}, \"colorscale\": [[0.0, \"#0d0887\"], [0.1111111111111111, \"#46039f\"], [0.2222222222222222, \"#7201a8\"], [0.3333333333333333, \"#9c179e\"], [0.4444444444444444, \"#bd3786\"], [0.5555555555555556, \"#d8576b\"], [0.6666666666666666, \"#ed7953\"], [0.7777777777777778, \"#fb9f3a\"], [0.8888888888888888, \"#fdca26\"], [1.0, \"#f0f921\"]], \"type\": \"heatmap\"}], \"heatmapgl\": [{\"colorbar\": {\"outlinewidth\": 0, \"ticks\": \"\"}, \"colorscale\": [[0.0, \"#0d0887\"], [0.1111111111111111, \"#46039f\"], [0.2222222222222222, \"#7201a8\"], [0.3333333333333333, \"#9c179e\"], [0.4444444444444444, \"#bd3786\"], [0.5555555555555556, \"#d8576b\"], [0.6666666666666666, \"#ed7953\"], [0.7777777777777778, \"#fb9f3a\"], [0.8888888888888888, \"#fdca26\"], [1.0, \"#f0f921\"]], \"type\": \"heatmapgl\"}], \"histogram\": [{\"marker\": {\"colorbar\": {\"outlinewidth\": 0, \"ticks\": \"\"}}, \"type\": \"histogram\"}], \"histogram2d\": [{\"colorbar\": {\"outlinewidth\": 0, \"ticks\": \"\"}, \"colorscale\": [[0.0, \"#0d0887\"], [0.1111111111111111, \"#46039f\"], [0.2222222222222222, \"#7201a8\"], [0.3333333333333333, \"#9c179e\"], [0.4444444444444444, \"#bd3786\"], [0.5555555555555556, \"#d8576b\"], [0.6666666666666666, \"#ed7953\"], [0.7777777777777778, \"#fb9f3a\"], [0.8888888888888888, \"#fdca26\"], [1.0, \"#f0f921\"]], \"type\": \"histogram2d\"}], \"histogram2dcontour\": [{\"colorbar\": {\"outlinewidth\": 0, \"ticks\": \"\"}, \"colorscale\": [[0.0, \"#0d0887\"], [0.1111111111111111, \"#46039f\"], [0.2222222222222222, \"#7201a8\"], [0.3333333333333333, \"#9c179e\"], [0.4444444444444444, \"#bd3786\"], [0.5555555555555556, \"#d8576b\"], [0.6666666666666666, \"#ed7953\"], [0.7777777777777778, \"#fb9f3a\"], [0.8888888888888888, \"#fdca26\"], [1.0, \"#f0f921\"]], \"type\": \"histogram2dcontour\"}], \"mesh3d\": [{\"colorbar\": {\"outlinewidth\": 0, \"ticks\": \"\"}, \"type\": \"mesh3d\"}], \"parcoords\": [{\"line\": {\"colorbar\": {\"outlinewidth\": 0, \"ticks\": \"\"}}, \"type\": \"parcoords\"}], \"pie\": [{\"automargin\": true, \"type\": \"pie\"}], \"scatter\": [{\"marker\": {\"colorbar\": {\"outlinewidth\": 0, \"ticks\": \"\"}}, \"type\": \"scatter\"}], \"scatter3d\": [{\"line\": {\"colorbar\": {\"outlinewidth\": 0, \"ticks\": \"\"}}, \"marker\": {\"colorbar\": {\"outlinewidth\": 0, \"ticks\": \"\"}}, \"type\": \"scatter3d\"}], \"scattercarpet\": [{\"marker\": {\"colorbar\": {\"outlinewidth\": 0, \"ticks\": \"\"}}, \"type\": \"scattercarpet\"}], \"scattergeo\": [{\"marker\": {\"colorbar\": {\"outlinewidth\": 0, \"ticks\": \"\"}}, \"type\": \"scattergeo\"}], \"scattergl\": [{\"marker\": {\"colorbar\": {\"outlinewidth\": 0, \"ticks\": \"\"}}, \"type\": \"scattergl\"}], \"scattermapbox\": [{\"marker\": {\"colorbar\": {\"outlinewidth\": 0, \"ticks\": \"\"}}, \"type\": \"scattermapbox\"}], \"scatterpolar\": [{\"marker\": {\"colorbar\": {\"outlinewidth\": 0, \"ticks\": \"\"}}, \"type\": \"scatterpolar\"}], \"scatterpolargl\": [{\"marker\": {\"colorbar\": {\"outlinewidth\": 0, \"ticks\": \"\"}}, \"type\": \"scatterpolargl\"}], \"scatterternary\": [{\"marker\": {\"colorbar\": {\"outlinewidth\": 0, \"ticks\": \"\"}}, \"type\": \"scatterternary\"}], \"surface\": [{\"colorbar\": {\"outlinewidth\": 0, \"ticks\": \"\"}, \"colorscale\": [[0.0, \"#0d0887\"], [0.1111111111111111, \"#46039f\"], [0.2222222222222222, \"#7201a8\"], [0.3333333333333333, \"#9c179e\"], [0.4444444444444444, \"#bd3786\"], [0.5555555555555556, \"#d8576b\"], [0.6666666666666666, \"#ed7953\"], [0.7777777777777778, \"#fb9f3a\"], [0.8888888888888888, \"#fdca26\"], [1.0, \"#f0f921\"]], \"type\": \"surface\"}], \"table\": [{\"cells\": {\"fill\": {\"color\": \"#EBF0F8\"}, \"line\": {\"color\": \"white\"}}, \"header\": {\"fill\": {\"color\": \"#C8D4E3\"}, \"line\": {\"color\": \"white\"}}, \"type\": \"table\"}]}, \"layout\": {\"annotationdefaults\": {\"arrowcolor\": \"#2a3f5f\", \"arrowhead\": 0, \"arrowwidth\": 1}, \"coloraxis\": {\"colorbar\": {\"outlinewidth\": 0, \"ticks\": \"\"}}, \"colorscale\": {\"diverging\": [[0, \"#8e0152\"], [0.1, \"#c51b7d\"], [0.2, \"#de77ae\"], [0.3, \"#f1b6da\"], [0.4, \"#fde0ef\"], [0.5, \"#f7f7f7\"], [0.6, \"#e6f5d0\"], [0.7, \"#b8e186\"], [0.8, \"#7fbc41\"], [0.9, \"#4d9221\"], [1, \"#276419\"]], \"sequential\": [[0.0, \"#0d0887\"], [0.1111111111111111, \"#46039f\"], [0.2222222222222222, \"#7201a8\"], [0.3333333333333333, \"#9c179e\"], [0.4444444444444444, \"#bd3786\"], [0.5555555555555556, \"#d8576b\"], [0.6666666666666666, \"#ed7953\"], [0.7777777777777778, \"#fb9f3a\"], [0.8888888888888888, \"#fdca26\"], [1.0, \"#f0f921\"]], \"sequentialminus\": [[0.0, \"#0d0887\"], [0.1111111111111111, \"#46039f\"], [0.2222222222222222, \"#7201a8\"], [0.3333333333333333, \"#9c179e\"], [0.4444444444444444, \"#bd3786\"], [0.5555555555555556, \"#d8576b\"], [0.6666666666666666, \"#ed7953\"], [0.7777777777777778, \"#fb9f3a\"], [0.8888888888888888, \"#fdca26\"], [1.0, \"#f0f921\"]]}, \"colorway\": [\"#636efa\", \"#EF553B\", \"#00cc96\", \"#ab63fa\", \"#FFA15A\", \"#19d3f3\", \"#FF6692\", \"#B6E880\", \"#FF97FF\", \"#FECB52\"], \"font\": {\"color\": \"#2a3f5f\"}, \"geo\": {\"bgcolor\": \"white\", \"lakecolor\": \"white\", \"landcolor\": \"#E5ECF6\", \"showlakes\": true, \"showland\": true, \"subunitcolor\": \"white\"}, \"hoverlabel\": {\"align\": \"left\"}, \"hovermode\": \"closest\", \"mapbox\": {\"style\": \"light\"}, \"paper_bgcolor\": \"white\", \"plot_bgcolor\": \"#E5ECF6\", \"polar\": {\"angularaxis\": {\"gridcolor\": \"white\", \"linecolor\": \"white\", \"ticks\": \"\"}, \"bgcolor\": \"#E5ECF6\", \"radialaxis\": {\"gridcolor\": \"white\", \"linecolor\": \"white\", \"ticks\": \"\"}}, \"scene\": {\"xaxis\": {\"backgroundcolor\": \"#E5ECF6\", \"gridcolor\": \"white\", \"gridwidth\": 2, \"linecolor\": \"white\", \"showbackground\": true, \"ticks\": \"\", \"zerolinecolor\": \"white\"}, \"yaxis\": {\"backgroundcolor\": \"#E5ECF6\", \"gridcolor\": \"white\", \"gridwidth\": 2, \"linecolor\": \"white\", \"showbackground\": true, \"ticks\": \"\", \"zerolinecolor\": \"white\"}, \"zaxis\": {\"backgroundcolor\": \"#E5ECF6\", \"gridcolor\": \"white\", \"gridwidth\": 2, \"linecolor\": \"white\", \"showbackground\": true, \"ticks\": \"\", \"zerolinecolor\": \"white\"}}, \"shapedefaults\": {\"line\": {\"color\": \"#2a3f5f\"}}, \"ternary\": {\"aaxis\": {\"gridcolor\": \"white\", \"linecolor\": \"white\", \"ticks\": \"\"}, \"baxis\": {\"gridcolor\": \"white\", \"linecolor\": \"white\", \"ticks\": \"\"}, \"bgcolor\": \"#E5ECF6\", \"caxis\": {\"gridcolor\": \"white\", \"linecolor\": \"white\", \"ticks\": \"\"}}, \"title\": {\"x\": 0.05}, \"xaxis\": {\"automargin\": true, \"gridcolor\": \"white\", \"linecolor\": \"white\", \"ticks\": \"\", \"title\": {\"standoff\": 15}, \"zerolinecolor\": \"white\", \"zerolinewidth\": 2}, \"yaxis\": {\"automargin\": true, \"gridcolor\": \"white\", \"linecolor\": \"white\", \"ticks\": \"\", \"title\": {\"standoff\": 15}, \"zerolinecolor\": \"white\", \"zerolinewidth\": 2}}}, \"xaxis\": {\"anchor\": \"y\", \"domain\": [0.0, 1.0], \"title\": {\"text\": \"date\"}}, \"yaxis\": {\"anchor\": \"x\", \"domain\": [0.0, 1.0], \"title\": {\"text\": \"eacl_prv_alcrg_at\"}}},                        {\"responsive\": true}                    ).then(function(){\n",
       "                            \n",
       "var gd = document.getElementById('a9d6b4a8-0ed1-44d1-adcd-d3022a72ed53');\n",
       "var x = new MutationObserver(function (mutations, observer) {{\n",
       "        var display = window.getComputedStyle(gd).display;\n",
       "        if (!display || display === 'none') {{\n",
       "            console.log([gd, 'removed!']);\n",
       "            Plotly.purge(gd);\n",
       "            observer.disconnect();\n",
       "        }}\n",
       "}});\n",
       "\n",
       "// Listen for the removal of the full notebook cells\n",
       "var notebookContainer = gd.closest('#notebook-container');\n",
       "if (notebookContainer) {{\n",
       "    x.observe(notebookContainer, {childList: true});\n",
       "}}\n",
       "\n",
       "// Listen for the clearing of the current output cell\n",
       "var outputEl = gd.closest('.output');\n",
       "if (outputEl) {{\n",
       "    x.observe(outputEl, {childList: true});\n",
       "}}\n",
       "\n",
       "                        })                };                });            </script>        </div>"
      ]
     },
     "metadata": {},
     "output_type": "display_data"
    },
    {
     "data": {
      "application/vnd.plotly.v1+json": {
       "config": {
        "plotlyServerURL": "https://plot.ly"
       },
       "data": [
        {
         "customdata": [
          [
           "TMA_Lab_Serum"
          ],
          [
           "TMA_Lab_Serum"
          ],
          [
           "TMA_Lab_Serum"
          ],
          [
           "TMA_Lab_Serum"
          ],
          [
           "TMA_Lab_Serum"
          ],
          [
           "TMA_Lab_Egfr"
          ],
          [
           "TMA_Lab_Serum"
          ],
          [
           "TMA_Lab_Egfr"
          ],
          [
           "TMA_Lab_Serum"
          ],
          [
           "TMA_Lab_Egfr"
          ],
          [
           "TMA_Lab_Serum"
          ],
          [
           "TMA_Lab_Serum"
          ],
          [
           "TMA_Lab_Egfr"
          ],
          [
           "TMA_Lab_Serum"
          ],
          [
           "TMA_Lab_Egfr"
          ],
          [
           "TMA_Lab_Serum"
          ],
          [
           "TMA_Lab_Egfr"
          ],
          [
           "TMA_Lab_Serum"
          ],
          [
           "TMA_Lab_Egfr"
          ],
          [
           "TMA_Lab_Serum"
          ],
          [
           "TMA_Lab_Egfr"
          ],
          [
           "TMA_Lab_Serum"
          ],
          [
           "TMA_Lab_Egfr"
          ],
          [
           "TMA_Lab_Serum"
          ],
          [
           "TMA_Lab_Egfr"
          ],
          [
           "TMA_Lab_Serum"
          ],
          [
           "TMA_Lab_Egfr"
          ],
          [
           "TMA_Lab_Serum"
          ],
          [
           "TMA_Lab_Egfr"
          ],
          [
           "TMA_Lab_Serum"
          ],
          [
           "TMA_Lab_Egfr"
          ],
          [
           "TMA_Lab_Serum"
          ],
          [
           "TMA_Lab_Egfr"
          ],
          [
           "TMA_Lab_Serum"
          ],
          [
           "TMA_Lab_Serum"
          ],
          [
           "TMA_Lab_Egfr"
          ],
          [
           "TMA_Lab_Serum"
          ],
          [
           "TMA_Lab_Egfr"
          ],
          [
           "TMA_Lab_Serum"
          ],
          [
           "TMA_Lab_Egfr"
          ],
          [
           "TMA_Lab_Serum"
          ],
          [
           "TMA_Lab_Serum"
          ],
          [
           "TMA_Lab_Serum"
          ],
          [
           "TMA_Lab_Serum"
          ],
          [
           "TMA_Lab_Serum"
          ],
          [
           "TMA_Lab_Serum"
          ],
          [
           "TMA_Lab_Serum"
          ],
          [
           "TMA_Lab_Serum"
          ],
          [
           "TMA_Lab_Serum"
          ],
          [
           "TMA_Lab_Serum"
          ],
          [
           "TMA_Lab_Serum"
          ],
          [
           "TMA_Lab_Serum"
          ],
          [
           "TMA_Lab_Serum"
          ],
          [
           "TMA_Lab_Serum"
          ],
          [
           "TMA_Lab_Serum"
          ],
          [
           "TMA_Lab_Serum"
          ],
          [
           "TMA_Lab_Serum"
          ],
          [
           "TMA_Lab_Serum"
          ],
          [
           "TMA_Lab_Serum"
          ],
          [
           "TMA_Lab_Serum"
          ],
          [
           "TMA_Lab_Serum"
          ],
          [
           "TMA_Lab_Serum"
          ],
          [
           "TMA_Lab_Serum"
          ],
          [
           "TMA_Lab_Serum"
          ],
          [
           "TMA_Lab_Serum"
          ],
          [
           "TMA_Lab_Serum"
          ],
          [
           "TMA_Lab_Serum"
          ],
          [
           "TMA_Lab_Serum"
          ],
          [
           "TMA_Lab_Serum"
          ],
          [
           "TMA_Lab_Serum"
          ],
          [
           "TMA_Lab_Serum"
          ],
          [
           "TMA_Lab_Serum"
          ],
          [
           "TMA_Lab_Serum"
          ],
          [
           "TMA_Lab_Serum"
          ],
          [
           "TMA_Lab_Serum"
          ],
          [
           "TMA_Lab_Serum"
          ],
          [
           "TMA_Lab_Serum"
          ],
          [
           "TMA_Lab_Serum"
          ],
          [
           "TMA_Lab_Serum"
          ],
          [
           "TMA_Lab_Serum"
          ],
          [
           "TMA_Lab_Serum"
          ],
          [
           "TMA_Lab_Serum"
          ],
          [
           "TMA_Lab_Serum"
          ],
          [
           "TMA_Lab_Serum"
          ],
          [
           "TMA_Lab_Serum"
          ],
          [
           "TMA_Lab_Serum"
          ]
         ],
         "hovertemplate": "date=%{x}<br>egfr=%{y}<br>source=%{customdata[0]}<extra></extra>",
         "legendgroup": "",
         "marker": {
          "color": "#636efa",
          "symbol": "circle"
         },
         "mode": "markers",
         "name": "",
         "orientation": "v",
         "showlegend": false,
         "type": "scatter",
         "x": [
          "2011-01-31",
          "2011-03-25",
          "2015-08-15",
          "2015-08-16",
          "2015-09-08",
          "2015-09-08 00:00:00",
          "2015-09-11",
          "2015-09-11 00:00:00",
          "2015-09-14",
          "2015-09-14 00:00:00",
          "2015-09-21",
          "2015-09-21",
          "2015-09-21 00:00:00",
          "2015-09-28",
          "2015-09-28 00:00:00",
          "2015-09-30",
          "2015-09-30 00:00:00",
          "2015-10-05",
          "2015-10-05 00:00:00",
          "2015-10-12",
          "2015-10-12 00:00:00",
          "2015-10-19",
          "2015-10-19 00:00:00",
          "2015-11-02",
          "2015-11-02 00:00:00",
          "2015-11-16",
          "2015-11-16 00:00:00",
          "2015-12-14",
          "2015-12-14 00:00:00",
          "2015-12-29",
          "2015-12-29 00:00:00",
          "2016-01-06",
          "2016-01-06 00:00:00",
          "2016-01-25",
          "2016-02-01",
          "2016-02-01 00:00:00",
          "2016-02-17",
          "2016-02-17 00:00:00",
          "2016-03-19",
          "2016-03-19 00:00:00",
          "2016-04-20",
          "2016-05-09",
          "2016-06-02",
          "2016-07-02",
          "2016-08-02",
          "2016-08-11",
          "2016-09-02",
          "2016-09-22",
          "2016-09-26",
          "2016-09-29",
          "2016-09-30",
          "2016-10-03",
          "2016-10-10",
          "2016-10-20",
          "2016-10-24",
          "2016-10-27",
          "2016-11-07",
          "2016-11-14",
          "2016-11-25",
          "2016-11-29",
          "2016-12-03",
          "2016-12-10",
          "2016-12-23",
          "2017-01-07",
          "2017-01-07",
          "2017-02-04",
          "2017-02-18",
          "2017-03-04",
          "2017-03-18",
          "2017-04-01",
          "2017-04-15",
          "2017-04-29",
          "2017-05-13",
          "2017-05-27",
          "2017-06-10",
          "2017-09-09",
          "2017-11-04",
          "2017-12-02",
          "2018-01-06",
          "2018-02-03",
          "2018-03-03",
          "2018-05-05",
          "2018-06-02",
          "2018-06-30",
          "2018-07-28",
          "2018-09-01"
         ],
         "xaxis": "x",
         "y": [
          62.45726063662365,
          62.45726063662365,
          14.881736222341594,
          15.667512141107444,
          12.6233832234096,
          15,
          14.165096032646833,
          16,
          13.20154413810671,
          15,
          14.51533948808316,
          13.509093761462273,
          16,
          16.08941779803769,
          19,
          14.881736222341594,
          17,
          19.738579270161235,
          23,
          19.738579270161235,
          23,
          18.551700692197766,
          21,
          19.12833409386689,
          22,
          18.006055135590813,
          21,
          19.12833409386689,
          22,
          16.99851158706788,
          19,
          16.87952200595841,
          19,
          16.238185414122743,
          14.7775640687852,
          17,
          17.88001274964168,
          21,
          15.976791873451425,
          18,
          10.242624669550793,
          15.976791873451425,
          12.81620517087956,
          14.065940360418306,
          10.844810167088477,
          10.055296678391183,
          9.698849748993881,
          65.54728561387368,
          60.30164709239947,
          45.31170490992978,
          45.31170490992978,
          32.51726695560026,
          60.30164709239947,
          55.77536844815285,
          48.37255735692389,
          60.30164709239947,
          55.77536844815285,
          60.30164709239947,
          45.31170490992978,
          65.54728561387368,
          65.54728561387368,
          60.30164709239947,
          65.54728561387368,
          65.08845461457656,
          71.18938522247909,
          71.18938522247909,
          71.18938522247909,
          59.879535562752686,
          65.08845461457656,
          59.879535562752686,
          59.879535562752686,
          71.18938522247909,
          87.12223318280647,
          87.12223318280647,
          65.08845461457656,
          71.18938522247909,
          71.18938522247909,
          78.42285140797787,
          70.69105952592176,
          86.51237755052681,
          77.87389144812204,
          70.69105952592176,
          77.87389144812204,
          64.63283543227453,
          70.69105952592176,
          77.87389144812204
         ],
         "yaxis": "y"
        }
       ],
       "layout": {
        "legend": {
         "tracegroupgap": 0
        },
        "margin": {
         "t": 60
        },
        "template": {
         "data": {
          "bar": [
           {
            "error_x": {
             "color": "#2a3f5f"
            },
            "error_y": {
             "color": "#2a3f5f"
            },
            "marker": {
             "line": {
              "color": "#E5ECF6",
              "width": 0.5
             }
            },
            "type": "bar"
           }
          ],
          "barpolar": [
           {
            "marker": {
             "line": {
              "color": "#E5ECF6",
              "width": 0.5
             }
            },
            "type": "barpolar"
           }
          ],
          "carpet": [
           {
            "aaxis": {
             "endlinecolor": "#2a3f5f",
             "gridcolor": "white",
             "linecolor": "white",
             "minorgridcolor": "white",
             "startlinecolor": "#2a3f5f"
            },
            "baxis": {
             "endlinecolor": "#2a3f5f",
             "gridcolor": "white",
             "linecolor": "white",
             "minorgridcolor": "white",
             "startlinecolor": "#2a3f5f"
            },
            "type": "carpet"
           }
          ],
          "choropleth": [
           {
            "colorbar": {
             "outlinewidth": 0,
             "ticks": ""
            },
            "type": "choropleth"
           }
          ],
          "contour": [
           {
            "colorbar": {
             "outlinewidth": 0,
             "ticks": ""
            },
            "colorscale": [
             [
              0,
              "#0d0887"
             ],
             [
              0.1111111111111111,
              "#46039f"
             ],
             [
              0.2222222222222222,
              "#7201a8"
             ],
             [
              0.3333333333333333,
              "#9c179e"
             ],
             [
              0.4444444444444444,
              "#bd3786"
             ],
             [
              0.5555555555555556,
              "#d8576b"
             ],
             [
              0.6666666666666666,
              "#ed7953"
             ],
             [
              0.7777777777777778,
              "#fb9f3a"
             ],
             [
              0.8888888888888888,
              "#fdca26"
             ],
             [
              1,
              "#f0f921"
             ]
            ],
            "type": "contour"
           }
          ],
          "contourcarpet": [
           {
            "colorbar": {
             "outlinewidth": 0,
             "ticks": ""
            },
            "type": "contourcarpet"
           }
          ],
          "heatmap": [
           {
            "colorbar": {
             "outlinewidth": 0,
             "ticks": ""
            },
            "colorscale": [
             [
              0,
              "#0d0887"
             ],
             [
              0.1111111111111111,
              "#46039f"
             ],
             [
              0.2222222222222222,
              "#7201a8"
             ],
             [
              0.3333333333333333,
              "#9c179e"
             ],
             [
              0.4444444444444444,
              "#bd3786"
             ],
             [
              0.5555555555555556,
              "#d8576b"
             ],
             [
              0.6666666666666666,
              "#ed7953"
             ],
             [
              0.7777777777777778,
              "#fb9f3a"
             ],
             [
              0.8888888888888888,
              "#fdca26"
             ],
             [
              1,
              "#f0f921"
             ]
            ],
            "type": "heatmap"
           }
          ],
          "heatmapgl": [
           {
            "colorbar": {
             "outlinewidth": 0,
             "ticks": ""
            },
            "colorscale": [
             [
              0,
              "#0d0887"
             ],
             [
              0.1111111111111111,
              "#46039f"
             ],
             [
              0.2222222222222222,
              "#7201a8"
             ],
             [
              0.3333333333333333,
              "#9c179e"
             ],
             [
              0.4444444444444444,
              "#bd3786"
             ],
             [
              0.5555555555555556,
              "#d8576b"
             ],
             [
              0.6666666666666666,
              "#ed7953"
             ],
             [
              0.7777777777777778,
              "#fb9f3a"
             ],
             [
              0.8888888888888888,
              "#fdca26"
             ],
             [
              1,
              "#f0f921"
             ]
            ],
            "type": "heatmapgl"
           }
          ],
          "histogram": [
           {
            "marker": {
             "colorbar": {
              "outlinewidth": 0,
              "ticks": ""
             }
            },
            "type": "histogram"
           }
          ],
          "histogram2d": [
           {
            "colorbar": {
             "outlinewidth": 0,
             "ticks": ""
            },
            "colorscale": [
             [
              0,
              "#0d0887"
             ],
             [
              0.1111111111111111,
              "#46039f"
             ],
             [
              0.2222222222222222,
              "#7201a8"
             ],
             [
              0.3333333333333333,
              "#9c179e"
             ],
             [
              0.4444444444444444,
              "#bd3786"
             ],
             [
              0.5555555555555556,
              "#d8576b"
             ],
             [
              0.6666666666666666,
              "#ed7953"
             ],
             [
              0.7777777777777778,
              "#fb9f3a"
             ],
             [
              0.8888888888888888,
              "#fdca26"
             ],
             [
              1,
              "#f0f921"
             ]
            ],
            "type": "histogram2d"
           }
          ],
          "histogram2dcontour": [
           {
            "colorbar": {
             "outlinewidth": 0,
             "ticks": ""
            },
            "colorscale": [
             [
              0,
              "#0d0887"
             ],
             [
              0.1111111111111111,
              "#46039f"
             ],
             [
              0.2222222222222222,
              "#7201a8"
             ],
             [
              0.3333333333333333,
              "#9c179e"
             ],
             [
              0.4444444444444444,
              "#bd3786"
             ],
             [
              0.5555555555555556,
              "#d8576b"
             ],
             [
              0.6666666666666666,
              "#ed7953"
             ],
             [
              0.7777777777777778,
              "#fb9f3a"
             ],
             [
              0.8888888888888888,
              "#fdca26"
             ],
             [
              1,
              "#f0f921"
             ]
            ],
            "type": "histogram2dcontour"
           }
          ],
          "mesh3d": [
           {
            "colorbar": {
             "outlinewidth": 0,
             "ticks": ""
            },
            "type": "mesh3d"
           }
          ],
          "parcoords": [
           {
            "line": {
             "colorbar": {
              "outlinewidth": 0,
              "ticks": ""
             }
            },
            "type": "parcoords"
           }
          ],
          "pie": [
           {
            "automargin": true,
            "type": "pie"
           }
          ],
          "scatter": [
           {
            "marker": {
             "colorbar": {
              "outlinewidth": 0,
              "ticks": ""
             }
            },
            "type": "scatter"
           }
          ],
          "scatter3d": [
           {
            "line": {
             "colorbar": {
              "outlinewidth": 0,
              "ticks": ""
             }
            },
            "marker": {
             "colorbar": {
              "outlinewidth": 0,
              "ticks": ""
             }
            },
            "type": "scatter3d"
           }
          ],
          "scattercarpet": [
           {
            "marker": {
             "colorbar": {
              "outlinewidth": 0,
              "ticks": ""
             }
            },
            "type": "scattercarpet"
           }
          ],
          "scattergeo": [
           {
            "marker": {
             "colorbar": {
              "outlinewidth": 0,
              "ticks": ""
             }
            },
            "type": "scattergeo"
           }
          ],
          "scattergl": [
           {
            "marker": {
             "colorbar": {
              "outlinewidth": 0,
              "ticks": ""
             }
            },
            "type": "scattergl"
           }
          ],
          "scattermapbox": [
           {
            "marker": {
             "colorbar": {
              "outlinewidth": 0,
              "ticks": ""
             }
            },
            "type": "scattermapbox"
           }
          ],
          "scatterpolar": [
           {
            "marker": {
             "colorbar": {
              "outlinewidth": 0,
              "ticks": ""
             }
            },
            "type": "scatterpolar"
           }
          ],
          "scatterpolargl": [
           {
            "marker": {
             "colorbar": {
              "outlinewidth": 0,
              "ticks": ""
             }
            },
            "type": "scatterpolargl"
           }
          ],
          "scatterternary": [
           {
            "marker": {
             "colorbar": {
              "outlinewidth": 0,
              "ticks": ""
             }
            },
            "type": "scatterternary"
           }
          ],
          "surface": [
           {
            "colorbar": {
             "outlinewidth": 0,
             "ticks": ""
            },
            "colorscale": [
             [
              0,
              "#0d0887"
             ],
             [
              0.1111111111111111,
              "#46039f"
             ],
             [
              0.2222222222222222,
              "#7201a8"
             ],
             [
              0.3333333333333333,
              "#9c179e"
             ],
             [
              0.4444444444444444,
              "#bd3786"
             ],
             [
              0.5555555555555556,
              "#d8576b"
             ],
             [
              0.6666666666666666,
              "#ed7953"
             ],
             [
              0.7777777777777778,
              "#fb9f3a"
             ],
             [
              0.8888888888888888,
              "#fdca26"
             ],
             [
              1,
              "#f0f921"
             ]
            ],
            "type": "surface"
           }
          ],
          "table": [
           {
            "cells": {
             "fill": {
              "color": "#EBF0F8"
             },
             "line": {
              "color": "white"
             }
            },
            "header": {
             "fill": {
              "color": "#C8D4E3"
             },
             "line": {
              "color": "white"
             }
            },
            "type": "table"
           }
          ]
         },
         "layout": {
          "annotationdefaults": {
           "arrowcolor": "#2a3f5f",
           "arrowhead": 0,
           "arrowwidth": 1
          },
          "coloraxis": {
           "colorbar": {
            "outlinewidth": 0,
            "ticks": ""
           }
          },
          "colorscale": {
           "diverging": [
            [
             0,
             "#8e0152"
            ],
            [
             0.1,
             "#c51b7d"
            ],
            [
             0.2,
             "#de77ae"
            ],
            [
             0.3,
             "#f1b6da"
            ],
            [
             0.4,
             "#fde0ef"
            ],
            [
             0.5,
             "#f7f7f7"
            ],
            [
             0.6,
             "#e6f5d0"
            ],
            [
             0.7,
             "#b8e186"
            ],
            [
             0.8,
             "#7fbc41"
            ],
            [
             0.9,
             "#4d9221"
            ],
            [
             1,
             "#276419"
            ]
           ],
           "sequential": [
            [
             0,
             "#0d0887"
            ],
            [
             0.1111111111111111,
             "#46039f"
            ],
            [
             0.2222222222222222,
             "#7201a8"
            ],
            [
             0.3333333333333333,
             "#9c179e"
            ],
            [
             0.4444444444444444,
             "#bd3786"
            ],
            [
             0.5555555555555556,
             "#d8576b"
            ],
            [
             0.6666666666666666,
             "#ed7953"
            ],
            [
             0.7777777777777778,
             "#fb9f3a"
            ],
            [
             0.8888888888888888,
             "#fdca26"
            ],
            [
             1,
             "#f0f921"
            ]
           ],
           "sequentialminus": [
            [
             0,
             "#0d0887"
            ],
            [
             0.1111111111111111,
             "#46039f"
            ],
            [
             0.2222222222222222,
             "#7201a8"
            ],
            [
             0.3333333333333333,
             "#9c179e"
            ],
            [
             0.4444444444444444,
             "#bd3786"
            ],
            [
             0.5555555555555556,
             "#d8576b"
            ],
            [
             0.6666666666666666,
             "#ed7953"
            ],
            [
             0.7777777777777778,
             "#fb9f3a"
            ],
            [
             0.8888888888888888,
             "#fdca26"
            ],
            [
             1,
             "#f0f921"
            ]
           ]
          },
          "colorway": [
           "#636efa",
           "#EF553B",
           "#00cc96",
           "#ab63fa",
           "#FFA15A",
           "#19d3f3",
           "#FF6692",
           "#B6E880",
           "#FF97FF",
           "#FECB52"
          ],
          "font": {
           "color": "#2a3f5f"
          },
          "geo": {
           "bgcolor": "white",
           "lakecolor": "white",
           "landcolor": "#E5ECF6",
           "showlakes": true,
           "showland": true,
           "subunitcolor": "white"
          },
          "hoverlabel": {
           "align": "left"
          },
          "hovermode": "closest",
          "mapbox": {
           "style": "light"
          },
          "paper_bgcolor": "white",
          "plot_bgcolor": "#E5ECF6",
          "polar": {
           "angularaxis": {
            "gridcolor": "white",
            "linecolor": "white",
            "ticks": ""
           },
           "bgcolor": "#E5ECF6",
           "radialaxis": {
            "gridcolor": "white",
            "linecolor": "white",
            "ticks": ""
           }
          },
          "scene": {
           "xaxis": {
            "backgroundcolor": "#E5ECF6",
            "gridcolor": "white",
            "gridwidth": 2,
            "linecolor": "white",
            "showbackground": true,
            "ticks": "",
            "zerolinecolor": "white"
           },
           "yaxis": {
            "backgroundcolor": "#E5ECF6",
            "gridcolor": "white",
            "gridwidth": 2,
            "linecolor": "white",
            "showbackground": true,
            "ticks": "",
            "zerolinecolor": "white"
           },
           "zaxis": {
            "backgroundcolor": "#E5ECF6",
            "gridcolor": "white",
            "gridwidth": 2,
            "linecolor": "white",
            "showbackground": true,
            "ticks": "",
            "zerolinecolor": "white"
           }
          },
          "shapedefaults": {
           "line": {
            "color": "#2a3f5f"
           }
          },
          "ternary": {
           "aaxis": {
            "gridcolor": "white",
            "linecolor": "white",
            "ticks": ""
           },
           "baxis": {
            "gridcolor": "white",
            "linecolor": "white",
            "ticks": ""
           },
           "bgcolor": "#E5ECF6",
           "caxis": {
            "gridcolor": "white",
            "linecolor": "white",
            "ticks": ""
           }
          },
          "title": {
           "x": 0.05
          },
          "xaxis": {
           "automargin": true,
           "gridcolor": "white",
           "linecolor": "white",
           "ticks": "",
           "title": {
            "standoff": 15
           },
           "zerolinecolor": "white",
           "zerolinewidth": 2
          },
          "yaxis": {
           "automargin": true,
           "gridcolor": "white",
           "linecolor": "white",
           "ticks": "",
           "title": {
            "standoff": 15
           },
           "zerolinecolor": "white",
           "zerolinewidth": 2
          }
         }
        },
        "xaxis": {
         "anchor": "y",
         "domain": [
          0,
          1
         ],
         "title": {
          "text": "date"
         }
        },
        "yaxis": {
         "anchor": "x",
         "domain": [
          0,
          1
         ],
         "title": {
          "text": "egfr"
         }
        }
       }
      },
      "text/html": [
       "<div>                            <div id=\"2929107f-9f3a-4f78-aeb2-6ba34e9dddb0\" class=\"plotly-graph-div\" style=\"height:525px; width:100%;\"></div>            <script type=\"text/javascript\">                require([\"plotly\"], function(Plotly) {                    window.PLOTLYENV=window.PLOTLYENV || {};                                    if (document.getElementById(\"2929107f-9f3a-4f78-aeb2-6ba34e9dddb0\")) {                    Plotly.newPlot(                        \"2929107f-9f3a-4f78-aeb2-6ba34e9dddb0\",                        [{\"customdata\": [[\"TMA_Lab_Serum\"], [\"TMA_Lab_Serum\"], [\"TMA_Lab_Serum\"], [\"TMA_Lab_Serum\"], [\"TMA_Lab_Serum\"], [\"TMA_Lab_Egfr\"], [\"TMA_Lab_Serum\"], [\"TMA_Lab_Egfr\"], [\"TMA_Lab_Serum\"], [\"TMA_Lab_Egfr\"], [\"TMA_Lab_Serum\"], [\"TMA_Lab_Serum\"], [\"TMA_Lab_Egfr\"], [\"TMA_Lab_Serum\"], [\"TMA_Lab_Egfr\"], [\"TMA_Lab_Serum\"], [\"TMA_Lab_Egfr\"], [\"TMA_Lab_Serum\"], [\"TMA_Lab_Egfr\"], [\"TMA_Lab_Serum\"], [\"TMA_Lab_Egfr\"], [\"TMA_Lab_Serum\"], [\"TMA_Lab_Egfr\"], [\"TMA_Lab_Serum\"], [\"TMA_Lab_Egfr\"], [\"TMA_Lab_Serum\"], [\"TMA_Lab_Egfr\"], [\"TMA_Lab_Serum\"], [\"TMA_Lab_Egfr\"], [\"TMA_Lab_Serum\"], [\"TMA_Lab_Egfr\"], [\"TMA_Lab_Serum\"], [\"TMA_Lab_Egfr\"], [\"TMA_Lab_Serum\"], [\"TMA_Lab_Serum\"], [\"TMA_Lab_Egfr\"], [\"TMA_Lab_Serum\"], [\"TMA_Lab_Egfr\"], [\"TMA_Lab_Serum\"], [\"TMA_Lab_Egfr\"], [\"TMA_Lab_Serum\"], [\"TMA_Lab_Serum\"], [\"TMA_Lab_Serum\"], [\"TMA_Lab_Serum\"], [\"TMA_Lab_Serum\"], [\"TMA_Lab_Serum\"], [\"TMA_Lab_Serum\"], [\"TMA_Lab_Serum\"], [\"TMA_Lab_Serum\"], [\"TMA_Lab_Serum\"], [\"TMA_Lab_Serum\"], [\"TMA_Lab_Serum\"], [\"TMA_Lab_Serum\"], [\"TMA_Lab_Serum\"], [\"TMA_Lab_Serum\"], [\"TMA_Lab_Serum\"], [\"TMA_Lab_Serum\"], [\"TMA_Lab_Serum\"], [\"TMA_Lab_Serum\"], [\"TMA_Lab_Serum\"], [\"TMA_Lab_Serum\"], [\"TMA_Lab_Serum\"], [\"TMA_Lab_Serum\"], [\"TMA_Lab_Serum\"], [\"TMA_Lab_Serum\"], [\"TMA_Lab_Serum\"], [\"TMA_Lab_Serum\"], [\"TMA_Lab_Serum\"], [\"TMA_Lab_Serum\"], [\"TMA_Lab_Serum\"], [\"TMA_Lab_Serum\"], [\"TMA_Lab_Serum\"], [\"TMA_Lab_Serum\"], [\"TMA_Lab_Serum\"], [\"TMA_Lab_Serum\"], [\"TMA_Lab_Serum\"], [\"TMA_Lab_Serum\"], [\"TMA_Lab_Serum\"], [\"TMA_Lab_Serum\"], [\"TMA_Lab_Serum\"], [\"TMA_Lab_Serum\"], [\"TMA_Lab_Serum\"], [\"TMA_Lab_Serum\"], [\"TMA_Lab_Serum\"], [\"TMA_Lab_Serum\"], [\"TMA_Lab_Serum\"]], \"hovertemplate\": \"date=%{x}<br>egfr=%{y}<br>source=%{customdata[0]}<extra></extra>\", \"legendgroup\": \"\", \"marker\": {\"color\": \"#636efa\", \"symbol\": \"circle\"}, \"mode\": \"markers\", \"name\": \"\", \"orientation\": \"v\", \"showlegend\": false, \"type\": \"scatter\", \"x\": [\"2011-01-31\", \"2011-03-25\", \"2015-08-15\", \"2015-08-16\", \"2015-09-08\", \"2015-09-08 00:00:00\", \"2015-09-11\", \"2015-09-11 00:00:00\", \"2015-09-14\", \"2015-09-14 00:00:00\", \"2015-09-21\", \"2015-09-21\", \"2015-09-21 00:00:00\", \"2015-09-28\", \"2015-09-28 00:00:00\", \"2015-09-30\", \"2015-09-30 00:00:00\", \"2015-10-05\", \"2015-10-05 00:00:00\", \"2015-10-12\", \"2015-10-12 00:00:00\", \"2015-10-19\", \"2015-10-19 00:00:00\", \"2015-11-02\", \"2015-11-02 00:00:00\", \"2015-11-16\", \"2015-11-16 00:00:00\", \"2015-12-14\", \"2015-12-14 00:00:00\", \"2015-12-29\", \"2015-12-29 00:00:00\", \"2016-01-06\", \"2016-01-06 00:00:00\", \"2016-01-25\", \"2016-02-01\", \"2016-02-01 00:00:00\", \"2016-02-17\", \"2016-02-17 00:00:00\", \"2016-03-19\", \"2016-03-19 00:00:00\", \"2016-04-20\", \"2016-05-09\", \"2016-06-02\", \"2016-07-02\", \"2016-08-02\", \"2016-08-11\", \"2016-09-02\", \"2016-09-22\", \"2016-09-26\", \"2016-09-29\", \"2016-09-30\", \"2016-10-03\", \"2016-10-10\", \"2016-10-20\", \"2016-10-24\", \"2016-10-27\", \"2016-11-07\", \"2016-11-14\", \"2016-11-25\", \"2016-11-29\", \"2016-12-03\", \"2016-12-10\", \"2016-12-23\", \"2017-01-07\", \"2017-01-07\", \"2017-02-04\", \"2017-02-18\", \"2017-03-04\", \"2017-03-18\", \"2017-04-01\", \"2017-04-15\", \"2017-04-29\", \"2017-05-13\", \"2017-05-27\", \"2017-06-10\", \"2017-09-09\", \"2017-11-04\", \"2017-12-02\", \"2018-01-06\", \"2018-02-03\", \"2018-03-03\", \"2018-05-05\", \"2018-06-02\", \"2018-06-30\", \"2018-07-28\", \"2018-09-01\"], \"xaxis\": \"x\", \"y\": [62.45726063662365, 62.45726063662365, 14.881736222341594, 15.667512141107444, 12.6233832234096, 15.0, 14.165096032646833, 16.0, 13.20154413810671, 15.0, 14.51533948808316, 13.509093761462273, 16.0, 16.08941779803769, 19.0, 14.881736222341594, 17.0, 19.738579270161235, 23.0, 19.738579270161235, 23.0, 18.551700692197766, 21.0, 19.12833409386689, 22.0, 18.006055135590813, 21.0, 19.12833409386689, 22.0, 16.99851158706788, 19.0, 16.87952200595841, 19.0, 16.238185414122743, 14.7775640687852, 17.0, 17.88001274964168, 21.0, 15.976791873451425, 18.0, 10.242624669550793, 15.976791873451425, 12.81620517087956, 14.065940360418306, 10.844810167088477, 10.055296678391183, 9.698849748993881, 65.54728561387368, 60.30164709239947, 45.31170490992978, 45.31170490992978, 32.51726695560026, 60.30164709239947, 55.77536844815285, 48.37255735692389, 60.30164709239947, 55.77536844815285, 60.30164709239947, 45.31170490992978, 65.54728561387368, 65.54728561387368, 60.30164709239947, 65.54728561387368, 65.08845461457656, 71.18938522247909, 71.18938522247909, 71.18938522247909, 59.879535562752686, 65.08845461457656, 59.879535562752686, 59.879535562752686, 71.18938522247909, 87.12223318280647, 87.12223318280647, 65.08845461457656, 71.18938522247909, 71.18938522247909, 78.42285140797787, 70.69105952592176, 86.51237755052681, 77.87389144812204, 70.69105952592176, 77.87389144812204, 64.63283543227453, 70.69105952592176, 77.87389144812204], \"yaxis\": \"y\"}],                        {\"legend\": {\"tracegroupgap\": 0}, \"margin\": {\"t\": 60}, \"template\": {\"data\": {\"bar\": [{\"error_x\": {\"color\": \"#2a3f5f\"}, \"error_y\": {\"color\": \"#2a3f5f\"}, \"marker\": {\"line\": {\"color\": \"#E5ECF6\", \"width\": 0.5}}, \"type\": \"bar\"}], \"barpolar\": [{\"marker\": {\"line\": {\"color\": \"#E5ECF6\", \"width\": 0.5}}, \"type\": \"barpolar\"}], \"carpet\": [{\"aaxis\": {\"endlinecolor\": \"#2a3f5f\", \"gridcolor\": \"white\", \"linecolor\": \"white\", \"minorgridcolor\": \"white\", \"startlinecolor\": \"#2a3f5f\"}, \"baxis\": {\"endlinecolor\": \"#2a3f5f\", \"gridcolor\": \"white\", \"linecolor\": \"white\", \"minorgridcolor\": \"white\", \"startlinecolor\": \"#2a3f5f\"}, \"type\": \"carpet\"}], \"choropleth\": [{\"colorbar\": {\"outlinewidth\": 0, \"ticks\": \"\"}, \"type\": \"choropleth\"}], \"contour\": [{\"colorbar\": {\"outlinewidth\": 0, \"ticks\": \"\"}, \"colorscale\": [[0.0, \"#0d0887\"], [0.1111111111111111, \"#46039f\"], [0.2222222222222222, \"#7201a8\"], [0.3333333333333333, \"#9c179e\"], [0.4444444444444444, \"#bd3786\"], [0.5555555555555556, \"#d8576b\"], [0.6666666666666666, \"#ed7953\"], [0.7777777777777778, \"#fb9f3a\"], [0.8888888888888888, \"#fdca26\"], [1.0, \"#f0f921\"]], \"type\": \"contour\"}], \"contourcarpet\": [{\"colorbar\": {\"outlinewidth\": 0, \"ticks\": \"\"}, \"type\": \"contourcarpet\"}], \"heatmap\": [{\"colorbar\": {\"outlinewidth\": 0, \"ticks\": \"\"}, \"colorscale\": [[0.0, \"#0d0887\"], [0.1111111111111111, \"#46039f\"], [0.2222222222222222, \"#7201a8\"], [0.3333333333333333, \"#9c179e\"], [0.4444444444444444, \"#bd3786\"], [0.5555555555555556, \"#d8576b\"], [0.6666666666666666, \"#ed7953\"], [0.7777777777777778, \"#fb9f3a\"], [0.8888888888888888, \"#fdca26\"], [1.0, \"#f0f921\"]], \"type\": \"heatmap\"}], \"heatmapgl\": [{\"colorbar\": {\"outlinewidth\": 0, \"ticks\": \"\"}, \"colorscale\": [[0.0, \"#0d0887\"], [0.1111111111111111, \"#46039f\"], [0.2222222222222222, \"#7201a8\"], [0.3333333333333333, \"#9c179e\"], [0.4444444444444444, \"#bd3786\"], [0.5555555555555556, \"#d8576b\"], [0.6666666666666666, \"#ed7953\"], [0.7777777777777778, \"#fb9f3a\"], [0.8888888888888888, \"#fdca26\"], [1.0, \"#f0f921\"]], \"type\": \"heatmapgl\"}], \"histogram\": [{\"marker\": {\"colorbar\": {\"outlinewidth\": 0, \"ticks\": \"\"}}, \"type\": \"histogram\"}], \"histogram2d\": [{\"colorbar\": {\"outlinewidth\": 0, \"ticks\": \"\"}, \"colorscale\": [[0.0, \"#0d0887\"], [0.1111111111111111, \"#46039f\"], [0.2222222222222222, \"#7201a8\"], [0.3333333333333333, \"#9c179e\"], [0.4444444444444444, \"#bd3786\"], [0.5555555555555556, \"#d8576b\"], [0.6666666666666666, \"#ed7953\"], [0.7777777777777778, \"#fb9f3a\"], [0.8888888888888888, \"#fdca26\"], [1.0, \"#f0f921\"]], \"type\": \"histogram2d\"}], \"histogram2dcontour\": [{\"colorbar\": {\"outlinewidth\": 0, \"ticks\": \"\"}, \"colorscale\": [[0.0, \"#0d0887\"], [0.1111111111111111, \"#46039f\"], [0.2222222222222222, \"#7201a8\"], [0.3333333333333333, \"#9c179e\"], [0.4444444444444444, \"#bd3786\"], [0.5555555555555556, \"#d8576b\"], [0.6666666666666666, \"#ed7953\"], [0.7777777777777778, \"#fb9f3a\"], [0.8888888888888888, \"#fdca26\"], [1.0, \"#f0f921\"]], \"type\": \"histogram2dcontour\"}], \"mesh3d\": [{\"colorbar\": {\"outlinewidth\": 0, \"ticks\": \"\"}, \"type\": \"mesh3d\"}], \"parcoords\": [{\"line\": {\"colorbar\": {\"outlinewidth\": 0, \"ticks\": \"\"}}, \"type\": \"parcoords\"}], \"pie\": [{\"automargin\": true, \"type\": \"pie\"}], \"scatter\": [{\"marker\": {\"colorbar\": {\"outlinewidth\": 0, \"ticks\": \"\"}}, \"type\": \"scatter\"}], \"scatter3d\": [{\"line\": {\"colorbar\": {\"outlinewidth\": 0, \"ticks\": \"\"}}, \"marker\": {\"colorbar\": {\"outlinewidth\": 0, \"ticks\": \"\"}}, \"type\": \"scatter3d\"}], \"scattercarpet\": [{\"marker\": {\"colorbar\": {\"outlinewidth\": 0, \"ticks\": \"\"}}, \"type\": \"scattercarpet\"}], \"scattergeo\": [{\"marker\": {\"colorbar\": {\"outlinewidth\": 0, \"ticks\": \"\"}}, \"type\": \"scattergeo\"}], \"scattergl\": [{\"marker\": {\"colorbar\": {\"outlinewidth\": 0, \"ticks\": \"\"}}, \"type\": \"scattergl\"}], \"scattermapbox\": [{\"marker\": {\"colorbar\": {\"outlinewidth\": 0, \"ticks\": \"\"}}, \"type\": \"scattermapbox\"}], \"scatterpolar\": [{\"marker\": {\"colorbar\": {\"outlinewidth\": 0, \"ticks\": \"\"}}, \"type\": \"scatterpolar\"}], \"scatterpolargl\": [{\"marker\": {\"colorbar\": {\"outlinewidth\": 0, \"ticks\": \"\"}}, \"type\": \"scatterpolargl\"}], \"scatterternary\": [{\"marker\": {\"colorbar\": {\"outlinewidth\": 0, \"ticks\": \"\"}}, \"type\": \"scatterternary\"}], \"surface\": [{\"colorbar\": {\"outlinewidth\": 0, \"ticks\": \"\"}, \"colorscale\": [[0.0, \"#0d0887\"], [0.1111111111111111, \"#46039f\"], [0.2222222222222222, \"#7201a8\"], [0.3333333333333333, \"#9c179e\"], [0.4444444444444444, \"#bd3786\"], [0.5555555555555556, \"#d8576b\"], [0.6666666666666666, \"#ed7953\"], [0.7777777777777778, \"#fb9f3a\"], [0.8888888888888888, \"#fdca26\"], [1.0, \"#f0f921\"]], \"type\": \"surface\"}], \"table\": [{\"cells\": {\"fill\": {\"color\": \"#EBF0F8\"}, \"line\": {\"color\": \"white\"}}, \"header\": {\"fill\": {\"color\": \"#C8D4E3\"}, \"line\": {\"color\": \"white\"}}, \"type\": \"table\"}]}, \"layout\": {\"annotationdefaults\": {\"arrowcolor\": \"#2a3f5f\", \"arrowhead\": 0, \"arrowwidth\": 1}, \"coloraxis\": {\"colorbar\": {\"outlinewidth\": 0, \"ticks\": \"\"}}, \"colorscale\": {\"diverging\": [[0, \"#8e0152\"], [0.1, \"#c51b7d\"], [0.2, \"#de77ae\"], [0.3, \"#f1b6da\"], [0.4, \"#fde0ef\"], [0.5, \"#f7f7f7\"], [0.6, \"#e6f5d0\"], [0.7, \"#b8e186\"], [0.8, \"#7fbc41\"], [0.9, \"#4d9221\"], [1, \"#276419\"]], \"sequential\": [[0.0, \"#0d0887\"], [0.1111111111111111, \"#46039f\"], [0.2222222222222222, \"#7201a8\"], [0.3333333333333333, \"#9c179e\"], [0.4444444444444444, \"#bd3786\"], [0.5555555555555556, \"#d8576b\"], [0.6666666666666666, \"#ed7953\"], [0.7777777777777778, \"#fb9f3a\"], [0.8888888888888888, \"#fdca26\"], [1.0, \"#f0f921\"]], \"sequentialminus\": [[0.0, \"#0d0887\"], [0.1111111111111111, \"#46039f\"], [0.2222222222222222, \"#7201a8\"], [0.3333333333333333, \"#9c179e\"], [0.4444444444444444, \"#bd3786\"], [0.5555555555555556, \"#d8576b\"], [0.6666666666666666, \"#ed7953\"], [0.7777777777777778, \"#fb9f3a\"], [0.8888888888888888, \"#fdca26\"], [1.0, \"#f0f921\"]]}, \"colorway\": [\"#636efa\", \"#EF553B\", \"#00cc96\", \"#ab63fa\", \"#FFA15A\", \"#19d3f3\", \"#FF6692\", \"#B6E880\", \"#FF97FF\", \"#FECB52\"], \"font\": {\"color\": \"#2a3f5f\"}, \"geo\": {\"bgcolor\": \"white\", \"lakecolor\": \"white\", \"landcolor\": \"#E5ECF6\", \"showlakes\": true, \"showland\": true, \"subunitcolor\": \"white\"}, \"hoverlabel\": {\"align\": \"left\"}, \"hovermode\": \"closest\", \"mapbox\": {\"style\": \"light\"}, \"paper_bgcolor\": \"white\", \"plot_bgcolor\": \"#E5ECF6\", \"polar\": {\"angularaxis\": {\"gridcolor\": \"white\", \"linecolor\": \"white\", \"ticks\": \"\"}, \"bgcolor\": \"#E5ECF6\", \"radialaxis\": {\"gridcolor\": \"white\", \"linecolor\": \"white\", \"ticks\": \"\"}}, \"scene\": {\"xaxis\": {\"backgroundcolor\": \"#E5ECF6\", \"gridcolor\": \"white\", \"gridwidth\": 2, \"linecolor\": \"white\", \"showbackground\": true, \"ticks\": \"\", \"zerolinecolor\": \"white\"}, \"yaxis\": {\"backgroundcolor\": \"#E5ECF6\", \"gridcolor\": \"white\", \"gridwidth\": 2, \"linecolor\": \"white\", \"showbackground\": true, \"ticks\": \"\", \"zerolinecolor\": \"white\"}, \"zaxis\": {\"backgroundcolor\": \"#E5ECF6\", \"gridcolor\": \"white\", \"gridwidth\": 2, \"linecolor\": \"white\", \"showbackground\": true, \"ticks\": \"\", \"zerolinecolor\": \"white\"}}, \"shapedefaults\": {\"line\": {\"color\": \"#2a3f5f\"}}, \"ternary\": {\"aaxis\": {\"gridcolor\": \"white\", \"linecolor\": \"white\", \"ticks\": \"\"}, \"baxis\": {\"gridcolor\": \"white\", \"linecolor\": \"white\", \"ticks\": \"\"}, \"bgcolor\": \"#E5ECF6\", \"caxis\": {\"gridcolor\": \"white\", \"linecolor\": \"white\", \"ticks\": \"\"}}, \"title\": {\"x\": 0.05}, \"xaxis\": {\"automargin\": true, \"gridcolor\": \"white\", \"linecolor\": \"white\", \"ticks\": \"\", \"title\": {\"standoff\": 15}, \"zerolinecolor\": \"white\", \"zerolinewidth\": 2}, \"yaxis\": {\"automargin\": true, \"gridcolor\": \"white\", \"linecolor\": \"white\", \"ticks\": \"\", \"title\": {\"standoff\": 15}, \"zerolinecolor\": \"white\", \"zerolinewidth\": 2}}}, \"xaxis\": {\"anchor\": \"y\", \"domain\": [0.0, 1.0], \"title\": {\"text\": \"date\"}}, \"yaxis\": {\"anchor\": \"x\", \"domain\": [0.0, 1.0], \"title\": {\"text\": \"egfr\"}}},                        {\"responsive\": true}                    ).then(function(){\n",
       "                            \n",
       "var gd = document.getElementById('2929107f-9f3a-4f78-aeb2-6ba34e9dddb0');\n",
       "var x = new MutationObserver(function (mutations, observer) {{\n",
       "        var display = window.getComputedStyle(gd).display;\n",
       "        if (!display || display === 'none') {{\n",
       "            console.log([gd, 'removed!']);\n",
       "            Plotly.purge(gd);\n",
       "            observer.disconnect();\n",
       "        }}\n",
       "}});\n",
       "\n",
       "// Listen for the removal of the full notebook cells\n",
       "var notebookContainer = gd.closest('#notebook-container');\n",
       "if (notebookContainer) {{\n",
       "    x.observe(notebookContainer, {childList: true});\n",
       "}}\n",
       "\n",
       "// Listen for the clearing of the current output cell\n",
       "var outputEl = gd.closest('.output');\n",
       "if (outputEl) {{\n",
       "    x.observe(outputEl, {childList: true});\n",
       "}}\n",
       "\n",
       "                        })                };                });            </script>        </div>"
      ]
     },
     "metadata": {},
     "output_type": "display_data"
    },
    {
     "name": "stderr",
     "output_type": "stream",
     "text": [
      "C:\\Users\\Joyqiao\\anaconda3\\lib\\site-packages\\IPython\\core\\interactiveshell.py:3254: DtypeWarning:\n",
      "\n",
      "Columns (10,12,13,14,15,16,17,18,19,20,21,23,25,36,37,38,39,40,41,42,43,44,45,46,47,48,49,52,53) have mixed types.Specify dtype option on import or set low_memory=False.\n",
      "\n"
     ]
    },
    {
     "data": {
      "application/vnd.plotly.v1+json": {
       "config": {
        "plotlyServerURL": "https://plot.ly"
       },
       "data": [
        {
         "customdata": [
          [
           "I"
          ],
          [
           "I"
          ],
          [
           "I"
          ],
          [
           "I"
          ],
          [
           "I"
          ],
          [
           "I"
          ],
          [
           "I"
          ],
          [
           "I"
          ],
          [
           "I"
          ],
          [
           "I"
          ],
          [
           "I"
          ],
          [
           "I"
          ],
          [
           "I"
          ],
          [
           "I"
          ],
          [
           "I"
          ]
         ],
         "hovertemplate": "date=%{x}<br>eacl_prv_alcrg_at=%{y}<br>claim_type=%{customdata[0]}<extra></extra>",
         "legendgroup": "",
         "marker": {
          "color": "#636efa",
          "symbol": "circle"
         },
         "mode": "markers",
         "name": "",
         "orientation": "v",
         "showlegend": false,
         "type": "scatter",
         "x": [
          "2015-08-14T00:00:00",
          "2015-08-14T00:00:00",
          "2015-08-14T00:00:00",
          "2015-08-14T00:00:00",
          "2015-08-14T00:00:00",
          "2015-08-14T00:00:00",
          "2015-08-14T00:00:00",
          "2015-08-14T00:00:00",
          "2015-08-14T00:00:00",
          "2015-08-14T00:00:00",
          "2015-08-14T00:00:00",
          "2015-08-14T00:00:00",
          "2015-08-14T00:00:00",
          "2015-08-14T00:00:00",
          "2015-08-14T00:00:00"
         ],
         "xaxis": "x",
         "y": [
          894.61,
          317.04,
          295.01,
          139.84,
          105.36,
          463.58,
          297.88,
          370.67,
          827.56,
          4325.55,
          42.14,
          1408,
          1067.02,
          377.45,
          406.11
         ],
         "yaxis": "y"
        }
       ],
       "layout": {
        "legend": {
         "tracegroupgap": 0
        },
        "margin": {
         "t": 60
        },
        "template": {
         "data": {
          "bar": [
           {
            "error_x": {
             "color": "#2a3f5f"
            },
            "error_y": {
             "color": "#2a3f5f"
            },
            "marker": {
             "line": {
              "color": "#E5ECF6",
              "width": 0.5
             }
            },
            "type": "bar"
           }
          ],
          "barpolar": [
           {
            "marker": {
             "line": {
              "color": "#E5ECF6",
              "width": 0.5
             }
            },
            "type": "barpolar"
           }
          ],
          "carpet": [
           {
            "aaxis": {
             "endlinecolor": "#2a3f5f",
             "gridcolor": "white",
             "linecolor": "white",
             "minorgridcolor": "white",
             "startlinecolor": "#2a3f5f"
            },
            "baxis": {
             "endlinecolor": "#2a3f5f",
             "gridcolor": "white",
             "linecolor": "white",
             "minorgridcolor": "white",
             "startlinecolor": "#2a3f5f"
            },
            "type": "carpet"
           }
          ],
          "choropleth": [
           {
            "colorbar": {
             "outlinewidth": 0,
             "ticks": ""
            },
            "type": "choropleth"
           }
          ],
          "contour": [
           {
            "colorbar": {
             "outlinewidth": 0,
             "ticks": ""
            },
            "colorscale": [
             [
              0,
              "#0d0887"
             ],
             [
              0.1111111111111111,
              "#46039f"
             ],
             [
              0.2222222222222222,
              "#7201a8"
             ],
             [
              0.3333333333333333,
              "#9c179e"
             ],
             [
              0.4444444444444444,
              "#bd3786"
             ],
             [
              0.5555555555555556,
              "#d8576b"
             ],
             [
              0.6666666666666666,
              "#ed7953"
             ],
             [
              0.7777777777777778,
              "#fb9f3a"
             ],
             [
              0.8888888888888888,
              "#fdca26"
             ],
             [
              1,
              "#f0f921"
             ]
            ],
            "type": "contour"
           }
          ],
          "contourcarpet": [
           {
            "colorbar": {
             "outlinewidth": 0,
             "ticks": ""
            },
            "type": "contourcarpet"
           }
          ],
          "heatmap": [
           {
            "colorbar": {
             "outlinewidth": 0,
             "ticks": ""
            },
            "colorscale": [
             [
              0,
              "#0d0887"
             ],
             [
              0.1111111111111111,
              "#46039f"
             ],
             [
              0.2222222222222222,
              "#7201a8"
             ],
             [
              0.3333333333333333,
              "#9c179e"
             ],
             [
              0.4444444444444444,
              "#bd3786"
             ],
             [
              0.5555555555555556,
              "#d8576b"
             ],
             [
              0.6666666666666666,
              "#ed7953"
             ],
             [
              0.7777777777777778,
              "#fb9f3a"
             ],
             [
              0.8888888888888888,
              "#fdca26"
             ],
             [
              1,
              "#f0f921"
             ]
            ],
            "type": "heatmap"
           }
          ],
          "heatmapgl": [
           {
            "colorbar": {
             "outlinewidth": 0,
             "ticks": ""
            },
            "colorscale": [
             [
              0,
              "#0d0887"
             ],
             [
              0.1111111111111111,
              "#46039f"
             ],
             [
              0.2222222222222222,
              "#7201a8"
             ],
             [
              0.3333333333333333,
              "#9c179e"
             ],
             [
              0.4444444444444444,
              "#bd3786"
             ],
             [
              0.5555555555555556,
              "#d8576b"
             ],
             [
              0.6666666666666666,
              "#ed7953"
             ],
             [
              0.7777777777777778,
              "#fb9f3a"
             ],
             [
              0.8888888888888888,
              "#fdca26"
             ],
             [
              1,
              "#f0f921"
             ]
            ],
            "type": "heatmapgl"
           }
          ],
          "histogram": [
           {
            "marker": {
             "colorbar": {
              "outlinewidth": 0,
              "ticks": ""
             }
            },
            "type": "histogram"
           }
          ],
          "histogram2d": [
           {
            "colorbar": {
             "outlinewidth": 0,
             "ticks": ""
            },
            "colorscale": [
             [
              0,
              "#0d0887"
             ],
             [
              0.1111111111111111,
              "#46039f"
             ],
             [
              0.2222222222222222,
              "#7201a8"
             ],
             [
              0.3333333333333333,
              "#9c179e"
             ],
             [
              0.4444444444444444,
              "#bd3786"
             ],
             [
              0.5555555555555556,
              "#d8576b"
             ],
             [
              0.6666666666666666,
              "#ed7953"
             ],
             [
              0.7777777777777778,
              "#fb9f3a"
             ],
             [
              0.8888888888888888,
              "#fdca26"
             ],
             [
              1,
              "#f0f921"
             ]
            ],
            "type": "histogram2d"
           }
          ],
          "histogram2dcontour": [
           {
            "colorbar": {
             "outlinewidth": 0,
             "ticks": ""
            },
            "colorscale": [
             [
              0,
              "#0d0887"
             ],
             [
              0.1111111111111111,
              "#46039f"
             ],
             [
              0.2222222222222222,
              "#7201a8"
             ],
             [
              0.3333333333333333,
              "#9c179e"
             ],
             [
              0.4444444444444444,
              "#bd3786"
             ],
             [
              0.5555555555555556,
              "#d8576b"
             ],
             [
              0.6666666666666666,
              "#ed7953"
             ],
             [
              0.7777777777777778,
              "#fb9f3a"
             ],
             [
              0.8888888888888888,
              "#fdca26"
             ],
             [
              1,
              "#f0f921"
             ]
            ],
            "type": "histogram2dcontour"
           }
          ],
          "mesh3d": [
           {
            "colorbar": {
             "outlinewidth": 0,
             "ticks": ""
            },
            "type": "mesh3d"
           }
          ],
          "parcoords": [
           {
            "line": {
             "colorbar": {
              "outlinewidth": 0,
              "ticks": ""
             }
            },
            "type": "parcoords"
           }
          ],
          "pie": [
           {
            "automargin": true,
            "type": "pie"
           }
          ],
          "scatter": [
           {
            "marker": {
             "colorbar": {
              "outlinewidth": 0,
              "ticks": ""
             }
            },
            "type": "scatter"
           }
          ],
          "scatter3d": [
           {
            "line": {
             "colorbar": {
              "outlinewidth": 0,
              "ticks": ""
             }
            },
            "marker": {
             "colorbar": {
              "outlinewidth": 0,
              "ticks": ""
             }
            },
            "type": "scatter3d"
           }
          ],
          "scattercarpet": [
           {
            "marker": {
             "colorbar": {
              "outlinewidth": 0,
              "ticks": ""
             }
            },
            "type": "scattercarpet"
           }
          ],
          "scattergeo": [
           {
            "marker": {
             "colorbar": {
              "outlinewidth": 0,
              "ticks": ""
             }
            },
            "type": "scattergeo"
           }
          ],
          "scattergl": [
           {
            "marker": {
             "colorbar": {
              "outlinewidth": 0,
              "ticks": ""
             }
            },
            "type": "scattergl"
           }
          ],
          "scattermapbox": [
           {
            "marker": {
             "colorbar": {
              "outlinewidth": 0,
              "ticks": ""
             }
            },
            "type": "scattermapbox"
           }
          ],
          "scatterpolar": [
           {
            "marker": {
             "colorbar": {
              "outlinewidth": 0,
              "ticks": ""
             }
            },
            "type": "scatterpolar"
           }
          ],
          "scatterpolargl": [
           {
            "marker": {
             "colorbar": {
              "outlinewidth": 0,
              "ticks": ""
             }
            },
            "type": "scatterpolargl"
           }
          ],
          "scatterternary": [
           {
            "marker": {
             "colorbar": {
              "outlinewidth": 0,
              "ticks": ""
             }
            },
            "type": "scatterternary"
           }
          ],
          "surface": [
           {
            "colorbar": {
             "outlinewidth": 0,
             "ticks": ""
            },
            "colorscale": [
             [
              0,
              "#0d0887"
             ],
             [
              0.1111111111111111,
              "#46039f"
             ],
             [
              0.2222222222222222,
              "#7201a8"
             ],
             [
              0.3333333333333333,
              "#9c179e"
             ],
             [
              0.4444444444444444,
              "#bd3786"
             ],
             [
              0.5555555555555556,
              "#d8576b"
             ],
             [
              0.6666666666666666,
              "#ed7953"
             ],
             [
              0.7777777777777778,
              "#fb9f3a"
             ],
             [
              0.8888888888888888,
              "#fdca26"
             ],
             [
              1,
              "#f0f921"
             ]
            ],
            "type": "surface"
           }
          ],
          "table": [
           {
            "cells": {
             "fill": {
              "color": "#EBF0F8"
             },
             "line": {
              "color": "white"
             }
            },
            "header": {
             "fill": {
              "color": "#C8D4E3"
             },
             "line": {
              "color": "white"
             }
            },
            "type": "table"
           }
          ]
         },
         "layout": {
          "annotationdefaults": {
           "arrowcolor": "#2a3f5f",
           "arrowhead": 0,
           "arrowwidth": 1
          },
          "coloraxis": {
           "colorbar": {
            "outlinewidth": 0,
            "ticks": ""
           }
          },
          "colorscale": {
           "diverging": [
            [
             0,
             "#8e0152"
            ],
            [
             0.1,
             "#c51b7d"
            ],
            [
             0.2,
             "#de77ae"
            ],
            [
             0.3,
             "#f1b6da"
            ],
            [
             0.4,
             "#fde0ef"
            ],
            [
             0.5,
             "#f7f7f7"
            ],
            [
             0.6,
             "#e6f5d0"
            ],
            [
             0.7,
             "#b8e186"
            ],
            [
             0.8,
             "#7fbc41"
            ],
            [
             0.9,
             "#4d9221"
            ],
            [
             1,
             "#276419"
            ]
           ],
           "sequential": [
            [
             0,
             "#0d0887"
            ],
            [
             0.1111111111111111,
             "#46039f"
            ],
            [
             0.2222222222222222,
             "#7201a8"
            ],
            [
             0.3333333333333333,
             "#9c179e"
            ],
            [
             0.4444444444444444,
             "#bd3786"
            ],
            [
             0.5555555555555556,
             "#d8576b"
            ],
            [
             0.6666666666666666,
             "#ed7953"
            ],
            [
             0.7777777777777778,
             "#fb9f3a"
            ],
            [
             0.8888888888888888,
             "#fdca26"
            ],
            [
             1,
             "#f0f921"
            ]
           ],
           "sequentialminus": [
            [
             0,
             "#0d0887"
            ],
            [
             0.1111111111111111,
             "#46039f"
            ],
            [
             0.2222222222222222,
             "#7201a8"
            ],
            [
             0.3333333333333333,
             "#9c179e"
            ],
            [
             0.4444444444444444,
             "#bd3786"
            ],
            [
             0.5555555555555556,
             "#d8576b"
            ],
            [
             0.6666666666666666,
             "#ed7953"
            ],
            [
             0.7777777777777778,
             "#fb9f3a"
            ],
            [
             0.8888888888888888,
             "#fdca26"
            ],
            [
             1,
             "#f0f921"
            ]
           ]
          },
          "colorway": [
           "#636efa",
           "#EF553B",
           "#00cc96",
           "#ab63fa",
           "#FFA15A",
           "#19d3f3",
           "#FF6692",
           "#B6E880",
           "#FF97FF",
           "#FECB52"
          ],
          "font": {
           "color": "#2a3f5f"
          },
          "geo": {
           "bgcolor": "white",
           "lakecolor": "white",
           "landcolor": "#E5ECF6",
           "showlakes": true,
           "showland": true,
           "subunitcolor": "white"
          },
          "hoverlabel": {
           "align": "left"
          },
          "hovermode": "closest",
          "mapbox": {
           "style": "light"
          },
          "paper_bgcolor": "white",
          "plot_bgcolor": "#E5ECF6",
          "polar": {
           "angularaxis": {
            "gridcolor": "white",
            "linecolor": "white",
            "ticks": ""
           },
           "bgcolor": "#E5ECF6",
           "radialaxis": {
            "gridcolor": "white",
            "linecolor": "white",
            "ticks": ""
           }
          },
          "scene": {
           "xaxis": {
            "backgroundcolor": "#E5ECF6",
            "gridcolor": "white",
            "gridwidth": 2,
            "linecolor": "white",
            "showbackground": true,
            "ticks": "",
            "zerolinecolor": "white"
           },
           "yaxis": {
            "backgroundcolor": "#E5ECF6",
            "gridcolor": "white",
            "gridwidth": 2,
            "linecolor": "white",
            "showbackground": true,
            "ticks": "",
            "zerolinecolor": "white"
           },
           "zaxis": {
            "backgroundcolor": "#E5ECF6",
            "gridcolor": "white",
            "gridwidth": 2,
            "linecolor": "white",
            "showbackground": true,
            "ticks": "",
            "zerolinecolor": "white"
           }
          },
          "shapedefaults": {
           "line": {
            "color": "#2a3f5f"
           }
          },
          "ternary": {
           "aaxis": {
            "gridcolor": "white",
            "linecolor": "white",
            "ticks": ""
           },
           "baxis": {
            "gridcolor": "white",
            "linecolor": "white",
            "ticks": ""
           },
           "bgcolor": "#E5ECF6",
           "caxis": {
            "gridcolor": "white",
            "linecolor": "white",
            "ticks": ""
           }
          },
          "title": {
           "x": 0.05
          },
          "xaxis": {
           "automargin": true,
           "gridcolor": "white",
           "linecolor": "white",
           "ticks": "",
           "title": {
            "standoff": 15
           },
           "zerolinecolor": "white",
           "zerolinewidth": 2
          },
          "yaxis": {
           "automargin": true,
           "gridcolor": "white",
           "linecolor": "white",
           "ticks": "",
           "title": {
            "standoff": 15
           },
           "zerolinecolor": "white",
           "zerolinewidth": 2
          }
         }
        },
        "xaxis": {
         "anchor": "y",
         "domain": [
          0,
          1
         ],
         "title": {
          "text": "date"
         }
        },
        "yaxis": {
         "anchor": "x",
         "domain": [
          0,
          1
         ],
         "title": {
          "text": "eacl_prv_alcrg_at"
         }
        }
       }
      },
      "text/html": [
       "<div>                            <div id=\"f5b73dc4-9eea-457c-bbbb-4b3914c3fff9\" class=\"plotly-graph-div\" style=\"height:525px; width:100%;\"></div>            <script type=\"text/javascript\">                require([\"plotly\"], function(Plotly) {                    window.PLOTLYENV=window.PLOTLYENV || {};                                    if (document.getElementById(\"f5b73dc4-9eea-457c-bbbb-4b3914c3fff9\")) {                    Plotly.newPlot(                        \"f5b73dc4-9eea-457c-bbbb-4b3914c3fff9\",                        [{\"customdata\": [[\"I\"], [\"I\"], [\"I\"], [\"I\"], [\"I\"], [\"I\"], [\"I\"], [\"I\"], [\"I\"], [\"I\"], [\"I\"], [\"I\"], [\"I\"], [\"I\"], [\"I\"]], \"hovertemplate\": \"date=%{x}<br>eacl_prv_alcrg_at=%{y}<br>claim_type=%{customdata[0]}<extra></extra>\", \"legendgroup\": \"\", \"marker\": {\"color\": \"#636efa\", \"symbol\": \"circle\"}, \"mode\": \"markers\", \"name\": \"\", \"orientation\": \"v\", \"showlegend\": false, \"type\": \"scatter\", \"x\": [\"2015-08-14T00:00:00\", \"2015-08-14T00:00:00\", \"2015-08-14T00:00:00\", \"2015-08-14T00:00:00\", \"2015-08-14T00:00:00\", \"2015-08-14T00:00:00\", \"2015-08-14T00:00:00\", \"2015-08-14T00:00:00\", \"2015-08-14T00:00:00\", \"2015-08-14T00:00:00\", \"2015-08-14T00:00:00\", \"2015-08-14T00:00:00\", \"2015-08-14T00:00:00\", \"2015-08-14T00:00:00\", \"2015-08-14T00:00:00\"], \"xaxis\": \"x\", \"y\": [894.61, 317.04, 295.01, 139.84, 105.36, 463.58, 297.88, 370.67, 827.56, 4325.55, 42.14, 1408.0, 1067.02, 377.45, 406.11], \"yaxis\": \"y\"}],                        {\"legend\": {\"tracegroupgap\": 0}, \"margin\": {\"t\": 60}, \"template\": {\"data\": {\"bar\": [{\"error_x\": {\"color\": \"#2a3f5f\"}, \"error_y\": {\"color\": \"#2a3f5f\"}, \"marker\": {\"line\": {\"color\": \"#E5ECF6\", \"width\": 0.5}}, \"type\": \"bar\"}], \"barpolar\": [{\"marker\": {\"line\": {\"color\": \"#E5ECF6\", \"width\": 0.5}}, \"type\": \"barpolar\"}], \"carpet\": [{\"aaxis\": {\"endlinecolor\": \"#2a3f5f\", \"gridcolor\": \"white\", \"linecolor\": \"white\", \"minorgridcolor\": \"white\", \"startlinecolor\": \"#2a3f5f\"}, \"baxis\": {\"endlinecolor\": \"#2a3f5f\", \"gridcolor\": \"white\", \"linecolor\": \"white\", \"minorgridcolor\": \"white\", \"startlinecolor\": \"#2a3f5f\"}, \"type\": \"carpet\"}], \"choropleth\": [{\"colorbar\": {\"outlinewidth\": 0, \"ticks\": \"\"}, \"type\": \"choropleth\"}], \"contour\": [{\"colorbar\": {\"outlinewidth\": 0, \"ticks\": \"\"}, \"colorscale\": [[0.0, \"#0d0887\"], [0.1111111111111111, \"#46039f\"], [0.2222222222222222, \"#7201a8\"], [0.3333333333333333, \"#9c179e\"], [0.4444444444444444, \"#bd3786\"], [0.5555555555555556, \"#d8576b\"], [0.6666666666666666, \"#ed7953\"], [0.7777777777777778, \"#fb9f3a\"], [0.8888888888888888, \"#fdca26\"], [1.0, \"#f0f921\"]], \"type\": \"contour\"}], \"contourcarpet\": [{\"colorbar\": {\"outlinewidth\": 0, \"ticks\": \"\"}, \"type\": \"contourcarpet\"}], \"heatmap\": [{\"colorbar\": {\"outlinewidth\": 0, \"ticks\": \"\"}, \"colorscale\": [[0.0, \"#0d0887\"], [0.1111111111111111, \"#46039f\"], [0.2222222222222222, \"#7201a8\"], [0.3333333333333333, \"#9c179e\"], [0.4444444444444444, \"#bd3786\"], [0.5555555555555556, \"#d8576b\"], [0.6666666666666666, \"#ed7953\"], [0.7777777777777778, \"#fb9f3a\"], [0.8888888888888888, \"#fdca26\"], [1.0, \"#f0f921\"]], \"type\": \"heatmap\"}], \"heatmapgl\": [{\"colorbar\": {\"outlinewidth\": 0, \"ticks\": \"\"}, \"colorscale\": [[0.0, \"#0d0887\"], [0.1111111111111111, \"#46039f\"], [0.2222222222222222, \"#7201a8\"], [0.3333333333333333, \"#9c179e\"], [0.4444444444444444, \"#bd3786\"], [0.5555555555555556, \"#d8576b\"], [0.6666666666666666, \"#ed7953\"], [0.7777777777777778, \"#fb9f3a\"], [0.8888888888888888, \"#fdca26\"], [1.0, \"#f0f921\"]], \"type\": \"heatmapgl\"}], \"histogram\": [{\"marker\": {\"colorbar\": {\"outlinewidth\": 0, \"ticks\": \"\"}}, \"type\": \"histogram\"}], \"histogram2d\": [{\"colorbar\": {\"outlinewidth\": 0, \"ticks\": \"\"}, \"colorscale\": [[0.0, \"#0d0887\"], [0.1111111111111111, \"#46039f\"], [0.2222222222222222, \"#7201a8\"], [0.3333333333333333, \"#9c179e\"], [0.4444444444444444, \"#bd3786\"], [0.5555555555555556, \"#d8576b\"], [0.6666666666666666, \"#ed7953\"], [0.7777777777777778, \"#fb9f3a\"], [0.8888888888888888, \"#fdca26\"], [1.0, \"#f0f921\"]], \"type\": \"histogram2d\"}], \"histogram2dcontour\": [{\"colorbar\": {\"outlinewidth\": 0, \"ticks\": \"\"}, \"colorscale\": [[0.0, \"#0d0887\"], [0.1111111111111111, \"#46039f\"], [0.2222222222222222, \"#7201a8\"], [0.3333333333333333, \"#9c179e\"], [0.4444444444444444, \"#bd3786\"], [0.5555555555555556, \"#d8576b\"], [0.6666666666666666, \"#ed7953\"], [0.7777777777777778, \"#fb9f3a\"], [0.8888888888888888, \"#fdca26\"], [1.0, \"#f0f921\"]], \"type\": \"histogram2dcontour\"}], \"mesh3d\": [{\"colorbar\": {\"outlinewidth\": 0, \"ticks\": \"\"}, \"type\": \"mesh3d\"}], \"parcoords\": [{\"line\": {\"colorbar\": {\"outlinewidth\": 0, \"ticks\": \"\"}}, \"type\": \"parcoords\"}], \"pie\": [{\"automargin\": true, \"type\": \"pie\"}], \"scatter\": [{\"marker\": {\"colorbar\": {\"outlinewidth\": 0, \"ticks\": \"\"}}, \"type\": \"scatter\"}], \"scatter3d\": [{\"line\": {\"colorbar\": {\"outlinewidth\": 0, \"ticks\": \"\"}}, \"marker\": {\"colorbar\": {\"outlinewidth\": 0, \"ticks\": \"\"}}, \"type\": \"scatter3d\"}], \"scattercarpet\": [{\"marker\": {\"colorbar\": {\"outlinewidth\": 0, \"ticks\": \"\"}}, \"type\": \"scattercarpet\"}], \"scattergeo\": [{\"marker\": {\"colorbar\": {\"outlinewidth\": 0, \"ticks\": \"\"}}, \"type\": \"scattergeo\"}], \"scattergl\": [{\"marker\": {\"colorbar\": {\"outlinewidth\": 0, \"ticks\": \"\"}}, \"type\": \"scattergl\"}], \"scattermapbox\": [{\"marker\": {\"colorbar\": {\"outlinewidth\": 0, \"ticks\": \"\"}}, \"type\": \"scattermapbox\"}], \"scatterpolar\": [{\"marker\": {\"colorbar\": {\"outlinewidth\": 0, \"ticks\": \"\"}}, \"type\": \"scatterpolar\"}], \"scatterpolargl\": [{\"marker\": {\"colorbar\": {\"outlinewidth\": 0, \"ticks\": \"\"}}, \"type\": \"scatterpolargl\"}], \"scatterternary\": [{\"marker\": {\"colorbar\": {\"outlinewidth\": 0, \"ticks\": \"\"}}, \"type\": \"scatterternary\"}], \"surface\": [{\"colorbar\": {\"outlinewidth\": 0, \"ticks\": \"\"}, \"colorscale\": [[0.0, \"#0d0887\"], [0.1111111111111111, \"#46039f\"], [0.2222222222222222, \"#7201a8\"], [0.3333333333333333, \"#9c179e\"], [0.4444444444444444, \"#bd3786\"], [0.5555555555555556, \"#d8576b\"], [0.6666666666666666, \"#ed7953\"], [0.7777777777777778, \"#fb9f3a\"], [0.8888888888888888, \"#fdca26\"], [1.0, \"#f0f921\"]], \"type\": \"surface\"}], \"table\": [{\"cells\": {\"fill\": {\"color\": \"#EBF0F8\"}, \"line\": {\"color\": \"white\"}}, \"header\": {\"fill\": {\"color\": \"#C8D4E3\"}, \"line\": {\"color\": \"white\"}}, \"type\": \"table\"}]}, \"layout\": {\"annotationdefaults\": {\"arrowcolor\": \"#2a3f5f\", \"arrowhead\": 0, \"arrowwidth\": 1}, \"coloraxis\": {\"colorbar\": {\"outlinewidth\": 0, \"ticks\": \"\"}}, \"colorscale\": {\"diverging\": [[0, \"#8e0152\"], [0.1, \"#c51b7d\"], [0.2, \"#de77ae\"], [0.3, \"#f1b6da\"], [0.4, \"#fde0ef\"], [0.5, \"#f7f7f7\"], [0.6, \"#e6f5d0\"], [0.7, \"#b8e186\"], [0.8, \"#7fbc41\"], [0.9, \"#4d9221\"], [1, \"#276419\"]], \"sequential\": [[0.0, \"#0d0887\"], [0.1111111111111111, \"#46039f\"], [0.2222222222222222, \"#7201a8\"], [0.3333333333333333, \"#9c179e\"], [0.4444444444444444, \"#bd3786\"], [0.5555555555555556, \"#d8576b\"], [0.6666666666666666, \"#ed7953\"], [0.7777777777777778, \"#fb9f3a\"], [0.8888888888888888, \"#fdca26\"], [1.0, \"#f0f921\"]], \"sequentialminus\": [[0.0, \"#0d0887\"], [0.1111111111111111, \"#46039f\"], [0.2222222222222222, \"#7201a8\"], [0.3333333333333333, \"#9c179e\"], [0.4444444444444444, \"#bd3786\"], [0.5555555555555556, \"#d8576b\"], [0.6666666666666666, \"#ed7953\"], [0.7777777777777778, \"#fb9f3a\"], [0.8888888888888888, \"#fdca26\"], [1.0, \"#f0f921\"]]}, \"colorway\": [\"#636efa\", \"#EF553B\", \"#00cc96\", \"#ab63fa\", \"#FFA15A\", \"#19d3f3\", \"#FF6692\", \"#B6E880\", \"#FF97FF\", \"#FECB52\"], \"font\": {\"color\": \"#2a3f5f\"}, \"geo\": {\"bgcolor\": \"white\", \"lakecolor\": \"white\", \"landcolor\": \"#E5ECF6\", \"showlakes\": true, \"showland\": true, \"subunitcolor\": \"white\"}, \"hoverlabel\": {\"align\": \"left\"}, \"hovermode\": \"closest\", \"mapbox\": {\"style\": \"light\"}, \"paper_bgcolor\": \"white\", \"plot_bgcolor\": \"#E5ECF6\", \"polar\": {\"angularaxis\": {\"gridcolor\": \"white\", \"linecolor\": \"white\", \"ticks\": \"\"}, \"bgcolor\": \"#E5ECF6\", \"radialaxis\": {\"gridcolor\": \"white\", \"linecolor\": \"white\", \"ticks\": \"\"}}, \"scene\": {\"xaxis\": {\"backgroundcolor\": \"#E5ECF6\", \"gridcolor\": \"white\", \"gridwidth\": 2, \"linecolor\": \"white\", \"showbackground\": true, \"ticks\": \"\", \"zerolinecolor\": \"white\"}, \"yaxis\": {\"backgroundcolor\": \"#E5ECF6\", \"gridcolor\": \"white\", \"gridwidth\": 2, \"linecolor\": \"white\", \"showbackground\": true, \"ticks\": \"\", \"zerolinecolor\": \"white\"}, \"zaxis\": {\"backgroundcolor\": \"#E5ECF6\", \"gridcolor\": \"white\", \"gridwidth\": 2, \"linecolor\": \"white\", \"showbackground\": true, \"ticks\": \"\", \"zerolinecolor\": \"white\"}}, \"shapedefaults\": {\"line\": {\"color\": \"#2a3f5f\"}}, \"ternary\": {\"aaxis\": {\"gridcolor\": \"white\", \"linecolor\": \"white\", \"ticks\": \"\"}, \"baxis\": {\"gridcolor\": \"white\", \"linecolor\": \"white\", \"ticks\": \"\"}, \"bgcolor\": \"#E5ECF6\", \"caxis\": {\"gridcolor\": \"white\", \"linecolor\": \"white\", \"ticks\": \"\"}}, \"title\": {\"x\": 0.05}, \"xaxis\": {\"automargin\": true, \"gridcolor\": \"white\", \"linecolor\": \"white\", \"ticks\": \"\", \"title\": {\"standoff\": 15}, \"zerolinecolor\": \"white\", \"zerolinewidth\": 2}, \"yaxis\": {\"automargin\": true, \"gridcolor\": \"white\", \"linecolor\": \"white\", \"ticks\": \"\", \"title\": {\"standoff\": 15}, \"zerolinecolor\": \"white\", \"zerolinewidth\": 2}}}, \"xaxis\": {\"anchor\": \"y\", \"domain\": [0.0, 1.0], \"title\": {\"text\": \"date\"}}, \"yaxis\": {\"anchor\": \"x\", \"domain\": [0.0, 1.0], \"title\": {\"text\": \"eacl_prv_alcrg_at\"}}},                        {\"responsive\": true}                    ).then(function(){\n",
       "                            \n",
       "var gd = document.getElementById('f5b73dc4-9eea-457c-bbbb-4b3914c3fff9');\n",
       "var x = new MutationObserver(function (mutations, observer) {{\n",
       "        var display = window.getComputedStyle(gd).display;\n",
       "        if (!display || display === 'none') {{\n",
       "            console.log([gd, 'removed!']);\n",
       "            Plotly.purge(gd);\n",
       "            observer.disconnect();\n",
       "        }}\n",
       "}});\n",
       "\n",
       "// Listen for the removal of the full notebook cells\n",
       "var notebookContainer = gd.closest('#notebook-container');\n",
       "if (notebookContainer) {{\n",
       "    x.observe(notebookContainer, {childList: true});\n",
       "}}\n",
       "\n",
       "// Listen for the clearing of the current output cell\n",
       "var outputEl = gd.closest('.output');\n",
       "if (outputEl) {{\n",
       "    x.observe(outputEl, {childList: true});\n",
       "}}\n",
       "\n",
       "                        })                };                });            </script>        </div>"
      ]
     },
     "metadata": {},
     "output_type": "display_data"
    },
    {
     "data": {
      "application/vnd.plotly.v1+json": {
       "config": {
        "plotlyServerURL": "https://plot.ly"
       },
       "data": [
        {
         "customdata": [
          [
           "Highmark_Lab_Egfr"
          ],
          [
           "Highmark_Lab_Egfr"
          ],
          [
           "Highmark_Lab_Egfr"
          ],
          [
           "Highmark_Lab_Egfr"
          ],
          [
           "Highmark_Lab_Egfr"
          ],
          [
           "Highmark_Lab_Egfr"
          ],
          [
           "Highmark_Lab_Egfr"
          ],
          [
           "Highmark_Lab_Egfr"
          ],
          [
           "Highmark_Lab_Egfr"
          ],
          [
           "Highmark_Lab_Egfr"
          ],
          [
           "Highmark_Lab_Egfr"
          ],
          [
           "Highmark_Lab_Egfr"
          ],
          [
           "Highmark_Lab_Egfr"
          ],
          [
           "Highmark_Lab_Egfr"
          ],
          [
           "Highmark_Lab_Egfr"
          ]
         ],
         "hovertemplate": "date=%{x}<br>egfr=%{y}<br>source=%{customdata[0]}<extra></extra>",
         "legendgroup": "",
         "marker": {
          "color": "#636efa",
          "symbol": "circle"
         },
         "mode": "markers",
         "name": "",
         "orientation": "v",
         "showlegend": false,
         "type": "scatter",
         "x": [
          "2013-06-25",
          "2013-07-03",
          "2013-09-17",
          "2013-10-05",
          "2014-02-04",
          "2014-03-01",
          "2014-03-12",
          "2015-02-13",
          "2015-02-27",
          "2015-03-21",
          "2016-01-26",
          "2016-02-09",
          "2016-02-23",
          "2016-03-12",
          "2016-03-22"
         ],
         "xaxis": "x",
         "y": [
          69,
          70,
          61,
          58,
          52,
          47,
          53,
          20,
          16,
          9,
          13,
          12,
          12,
          12,
          12
         ],
         "yaxis": "y"
        }
       ],
       "layout": {
        "legend": {
         "tracegroupgap": 0
        },
        "margin": {
         "t": 60
        },
        "template": {
         "data": {
          "bar": [
           {
            "error_x": {
             "color": "#2a3f5f"
            },
            "error_y": {
             "color": "#2a3f5f"
            },
            "marker": {
             "line": {
              "color": "#E5ECF6",
              "width": 0.5
             }
            },
            "type": "bar"
           }
          ],
          "barpolar": [
           {
            "marker": {
             "line": {
              "color": "#E5ECF6",
              "width": 0.5
             }
            },
            "type": "barpolar"
           }
          ],
          "carpet": [
           {
            "aaxis": {
             "endlinecolor": "#2a3f5f",
             "gridcolor": "white",
             "linecolor": "white",
             "minorgridcolor": "white",
             "startlinecolor": "#2a3f5f"
            },
            "baxis": {
             "endlinecolor": "#2a3f5f",
             "gridcolor": "white",
             "linecolor": "white",
             "minorgridcolor": "white",
             "startlinecolor": "#2a3f5f"
            },
            "type": "carpet"
           }
          ],
          "choropleth": [
           {
            "colorbar": {
             "outlinewidth": 0,
             "ticks": ""
            },
            "type": "choropleth"
           }
          ],
          "contour": [
           {
            "colorbar": {
             "outlinewidth": 0,
             "ticks": ""
            },
            "colorscale": [
             [
              0,
              "#0d0887"
             ],
             [
              0.1111111111111111,
              "#46039f"
             ],
             [
              0.2222222222222222,
              "#7201a8"
             ],
             [
              0.3333333333333333,
              "#9c179e"
             ],
             [
              0.4444444444444444,
              "#bd3786"
             ],
             [
              0.5555555555555556,
              "#d8576b"
             ],
             [
              0.6666666666666666,
              "#ed7953"
             ],
             [
              0.7777777777777778,
              "#fb9f3a"
             ],
             [
              0.8888888888888888,
              "#fdca26"
             ],
             [
              1,
              "#f0f921"
             ]
            ],
            "type": "contour"
           }
          ],
          "contourcarpet": [
           {
            "colorbar": {
             "outlinewidth": 0,
             "ticks": ""
            },
            "type": "contourcarpet"
           }
          ],
          "heatmap": [
           {
            "colorbar": {
             "outlinewidth": 0,
             "ticks": ""
            },
            "colorscale": [
             [
              0,
              "#0d0887"
             ],
             [
              0.1111111111111111,
              "#46039f"
             ],
             [
              0.2222222222222222,
              "#7201a8"
             ],
             [
              0.3333333333333333,
              "#9c179e"
             ],
             [
              0.4444444444444444,
              "#bd3786"
             ],
             [
              0.5555555555555556,
              "#d8576b"
             ],
             [
              0.6666666666666666,
              "#ed7953"
             ],
             [
              0.7777777777777778,
              "#fb9f3a"
             ],
             [
              0.8888888888888888,
              "#fdca26"
             ],
             [
              1,
              "#f0f921"
             ]
            ],
            "type": "heatmap"
           }
          ],
          "heatmapgl": [
           {
            "colorbar": {
             "outlinewidth": 0,
             "ticks": ""
            },
            "colorscale": [
             [
              0,
              "#0d0887"
             ],
             [
              0.1111111111111111,
              "#46039f"
             ],
             [
              0.2222222222222222,
              "#7201a8"
             ],
             [
              0.3333333333333333,
              "#9c179e"
             ],
             [
              0.4444444444444444,
              "#bd3786"
             ],
             [
              0.5555555555555556,
              "#d8576b"
             ],
             [
              0.6666666666666666,
              "#ed7953"
             ],
             [
              0.7777777777777778,
              "#fb9f3a"
             ],
             [
              0.8888888888888888,
              "#fdca26"
             ],
             [
              1,
              "#f0f921"
             ]
            ],
            "type": "heatmapgl"
           }
          ],
          "histogram": [
           {
            "marker": {
             "colorbar": {
              "outlinewidth": 0,
              "ticks": ""
             }
            },
            "type": "histogram"
           }
          ],
          "histogram2d": [
           {
            "colorbar": {
             "outlinewidth": 0,
             "ticks": ""
            },
            "colorscale": [
             [
              0,
              "#0d0887"
             ],
             [
              0.1111111111111111,
              "#46039f"
             ],
             [
              0.2222222222222222,
              "#7201a8"
             ],
             [
              0.3333333333333333,
              "#9c179e"
             ],
             [
              0.4444444444444444,
              "#bd3786"
             ],
             [
              0.5555555555555556,
              "#d8576b"
             ],
             [
              0.6666666666666666,
              "#ed7953"
             ],
             [
              0.7777777777777778,
              "#fb9f3a"
             ],
             [
              0.8888888888888888,
              "#fdca26"
             ],
             [
              1,
              "#f0f921"
             ]
            ],
            "type": "histogram2d"
           }
          ],
          "histogram2dcontour": [
           {
            "colorbar": {
             "outlinewidth": 0,
             "ticks": ""
            },
            "colorscale": [
             [
              0,
              "#0d0887"
             ],
             [
              0.1111111111111111,
              "#46039f"
             ],
             [
              0.2222222222222222,
              "#7201a8"
             ],
             [
              0.3333333333333333,
              "#9c179e"
             ],
             [
              0.4444444444444444,
              "#bd3786"
             ],
             [
              0.5555555555555556,
              "#d8576b"
             ],
             [
              0.6666666666666666,
              "#ed7953"
             ],
             [
              0.7777777777777778,
              "#fb9f3a"
             ],
             [
              0.8888888888888888,
              "#fdca26"
             ],
             [
              1,
              "#f0f921"
             ]
            ],
            "type": "histogram2dcontour"
           }
          ],
          "mesh3d": [
           {
            "colorbar": {
             "outlinewidth": 0,
             "ticks": ""
            },
            "type": "mesh3d"
           }
          ],
          "parcoords": [
           {
            "line": {
             "colorbar": {
              "outlinewidth": 0,
              "ticks": ""
             }
            },
            "type": "parcoords"
           }
          ],
          "pie": [
           {
            "automargin": true,
            "type": "pie"
           }
          ],
          "scatter": [
           {
            "marker": {
             "colorbar": {
              "outlinewidth": 0,
              "ticks": ""
             }
            },
            "type": "scatter"
           }
          ],
          "scatter3d": [
           {
            "line": {
             "colorbar": {
              "outlinewidth": 0,
              "ticks": ""
             }
            },
            "marker": {
             "colorbar": {
              "outlinewidth": 0,
              "ticks": ""
             }
            },
            "type": "scatter3d"
           }
          ],
          "scattercarpet": [
           {
            "marker": {
             "colorbar": {
              "outlinewidth": 0,
              "ticks": ""
             }
            },
            "type": "scattercarpet"
           }
          ],
          "scattergeo": [
           {
            "marker": {
             "colorbar": {
              "outlinewidth": 0,
              "ticks": ""
             }
            },
            "type": "scattergeo"
           }
          ],
          "scattergl": [
           {
            "marker": {
             "colorbar": {
              "outlinewidth": 0,
              "ticks": ""
             }
            },
            "type": "scattergl"
           }
          ],
          "scattermapbox": [
           {
            "marker": {
             "colorbar": {
              "outlinewidth": 0,
              "ticks": ""
             }
            },
            "type": "scattermapbox"
           }
          ],
          "scatterpolar": [
           {
            "marker": {
             "colorbar": {
              "outlinewidth": 0,
              "ticks": ""
             }
            },
            "type": "scatterpolar"
           }
          ],
          "scatterpolargl": [
           {
            "marker": {
             "colorbar": {
              "outlinewidth": 0,
              "ticks": ""
             }
            },
            "type": "scatterpolargl"
           }
          ],
          "scatterternary": [
           {
            "marker": {
             "colorbar": {
              "outlinewidth": 0,
              "ticks": ""
             }
            },
            "type": "scatterternary"
           }
          ],
          "surface": [
           {
            "colorbar": {
             "outlinewidth": 0,
             "ticks": ""
            },
            "colorscale": [
             [
              0,
              "#0d0887"
             ],
             [
              0.1111111111111111,
              "#46039f"
             ],
             [
              0.2222222222222222,
              "#7201a8"
             ],
             [
              0.3333333333333333,
              "#9c179e"
             ],
             [
              0.4444444444444444,
              "#bd3786"
             ],
             [
              0.5555555555555556,
              "#d8576b"
             ],
             [
              0.6666666666666666,
              "#ed7953"
             ],
             [
              0.7777777777777778,
              "#fb9f3a"
             ],
             [
              0.8888888888888888,
              "#fdca26"
             ],
             [
              1,
              "#f0f921"
             ]
            ],
            "type": "surface"
           }
          ],
          "table": [
           {
            "cells": {
             "fill": {
              "color": "#EBF0F8"
             },
             "line": {
              "color": "white"
             }
            },
            "header": {
             "fill": {
              "color": "#C8D4E3"
             },
             "line": {
              "color": "white"
             }
            },
            "type": "table"
           }
          ]
         },
         "layout": {
          "annotationdefaults": {
           "arrowcolor": "#2a3f5f",
           "arrowhead": 0,
           "arrowwidth": 1
          },
          "coloraxis": {
           "colorbar": {
            "outlinewidth": 0,
            "ticks": ""
           }
          },
          "colorscale": {
           "diverging": [
            [
             0,
             "#8e0152"
            ],
            [
             0.1,
             "#c51b7d"
            ],
            [
             0.2,
             "#de77ae"
            ],
            [
             0.3,
             "#f1b6da"
            ],
            [
             0.4,
             "#fde0ef"
            ],
            [
             0.5,
             "#f7f7f7"
            ],
            [
             0.6,
             "#e6f5d0"
            ],
            [
             0.7,
             "#b8e186"
            ],
            [
             0.8,
             "#7fbc41"
            ],
            [
             0.9,
             "#4d9221"
            ],
            [
             1,
             "#276419"
            ]
           ],
           "sequential": [
            [
             0,
             "#0d0887"
            ],
            [
             0.1111111111111111,
             "#46039f"
            ],
            [
             0.2222222222222222,
             "#7201a8"
            ],
            [
             0.3333333333333333,
             "#9c179e"
            ],
            [
             0.4444444444444444,
             "#bd3786"
            ],
            [
             0.5555555555555556,
             "#d8576b"
            ],
            [
             0.6666666666666666,
             "#ed7953"
            ],
            [
             0.7777777777777778,
             "#fb9f3a"
            ],
            [
             0.8888888888888888,
             "#fdca26"
            ],
            [
             1,
             "#f0f921"
            ]
           ],
           "sequentialminus": [
            [
             0,
             "#0d0887"
            ],
            [
             0.1111111111111111,
             "#46039f"
            ],
            [
             0.2222222222222222,
             "#7201a8"
            ],
            [
             0.3333333333333333,
             "#9c179e"
            ],
            [
             0.4444444444444444,
             "#bd3786"
            ],
            [
             0.5555555555555556,
             "#d8576b"
            ],
            [
             0.6666666666666666,
             "#ed7953"
            ],
            [
             0.7777777777777778,
             "#fb9f3a"
            ],
            [
             0.8888888888888888,
             "#fdca26"
            ],
            [
             1,
             "#f0f921"
            ]
           ]
          },
          "colorway": [
           "#636efa",
           "#EF553B",
           "#00cc96",
           "#ab63fa",
           "#FFA15A",
           "#19d3f3",
           "#FF6692",
           "#B6E880",
           "#FF97FF",
           "#FECB52"
          ],
          "font": {
           "color": "#2a3f5f"
          },
          "geo": {
           "bgcolor": "white",
           "lakecolor": "white",
           "landcolor": "#E5ECF6",
           "showlakes": true,
           "showland": true,
           "subunitcolor": "white"
          },
          "hoverlabel": {
           "align": "left"
          },
          "hovermode": "closest",
          "mapbox": {
           "style": "light"
          },
          "paper_bgcolor": "white",
          "plot_bgcolor": "#E5ECF6",
          "polar": {
           "angularaxis": {
            "gridcolor": "white",
            "linecolor": "white",
            "ticks": ""
           },
           "bgcolor": "#E5ECF6",
           "radialaxis": {
            "gridcolor": "white",
            "linecolor": "white",
            "ticks": ""
           }
          },
          "scene": {
           "xaxis": {
            "backgroundcolor": "#E5ECF6",
            "gridcolor": "white",
            "gridwidth": 2,
            "linecolor": "white",
            "showbackground": true,
            "ticks": "",
            "zerolinecolor": "white"
           },
           "yaxis": {
            "backgroundcolor": "#E5ECF6",
            "gridcolor": "white",
            "gridwidth": 2,
            "linecolor": "white",
            "showbackground": true,
            "ticks": "",
            "zerolinecolor": "white"
           },
           "zaxis": {
            "backgroundcolor": "#E5ECF6",
            "gridcolor": "white",
            "gridwidth": 2,
            "linecolor": "white",
            "showbackground": true,
            "ticks": "",
            "zerolinecolor": "white"
           }
          },
          "shapedefaults": {
           "line": {
            "color": "#2a3f5f"
           }
          },
          "ternary": {
           "aaxis": {
            "gridcolor": "white",
            "linecolor": "white",
            "ticks": ""
           },
           "baxis": {
            "gridcolor": "white",
            "linecolor": "white",
            "ticks": ""
           },
           "bgcolor": "#E5ECF6",
           "caxis": {
            "gridcolor": "white",
            "linecolor": "white",
            "ticks": ""
           }
          },
          "title": {
           "x": 0.05
          },
          "xaxis": {
           "automargin": true,
           "gridcolor": "white",
           "linecolor": "white",
           "ticks": "",
           "title": {
            "standoff": 15
           },
           "zerolinecolor": "white",
           "zerolinewidth": 2
          },
          "yaxis": {
           "automargin": true,
           "gridcolor": "white",
           "linecolor": "white",
           "ticks": "",
           "title": {
            "standoff": 15
           },
           "zerolinecolor": "white",
           "zerolinewidth": 2
          }
         }
        },
        "xaxis": {
         "anchor": "y",
         "domain": [
          0,
          1
         ],
         "title": {
          "text": "date"
         }
        },
        "yaxis": {
         "anchor": "x",
         "domain": [
          0,
          1
         ],
         "title": {
          "text": "egfr"
         }
        }
       }
      },
      "text/html": [
       "<div>                            <div id=\"9eba24c1-6fe8-40dc-a30c-20deb3ff51ab\" class=\"plotly-graph-div\" style=\"height:525px; width:100%;\"></div>            <script type=\"text/javascript\">                require([\"plotly\"], function(Plotly) {                    window.PLOTLYENV=window.PLOTLYENV || {};                                    if (document.getElementById(\"9eba24c1-6fe8-40dc-a30c-20deb3ff51ab\")) {                    Plotly.newPlot(                        \"9eba24c1-6fe8-40dc-a30c-20deb3ff51ab\",                        [{\"customdata\": [[\"Highmark_Lab_Egfr\"], [\"Highmark_Lab_Egfr\"], [\"Highmark_Lab_Egfr\"], [\"Highmark_Lab_Egfr\"], [\"Highmark_Lab_Egfr\"], [\"Highmark_Lab_Egfr\"], [\"Highmark_Lab_Egfr\"], [\"Highmark_Lab_Egfr\"], [\"Highmark_Lab_Egfr\"], [\"Highmark_Lab_Egfr\"], [\"Highmark_Lab_Egfr\"], [\"Highmark_Lab_Egfr\"], [\"Highmark_Lab_Egfr\"], [\"Highmark_Lab_Egfr\"], [\"Highmark_Lab_Egfr\"]], \"hovertemplate\": \"date=%{x}<br>egfr=%{y}<br>source=%{customdata[0]}<extra></extra>\", \"legendgroup\": \"\", \"marker\": {\"color\": \"#636efa\", \"symbol\": \"circle\"}, \"mode\": \"markers\", \"name\": \"\", \"orientation\": \"v\", \"showlegend\": false, \"type\": \"scatter\", \"x\": [\"2013-06-25\", \"2013-07-03\", \"2013-09-17\", \"2013-10-05\", \"2014-02-04\", \"2014-03-01\", \"2014-03-12\", \"2015-02-13\", \"2015-02-27\", \"2015-03-21\", \"2016-01-26\", \"2016-02-09\", \"2016-02-23\", \"2016-03-12\", \"2016-03-22\"], \"xaxis\": \"x\", \"y\": [69.0, 70.0, 61.0, 58.0, 52.0, 47.0, 53.0, 20.0, 16.0, 9.0, 13.0, 12.0, 12.0, 12.0, 12.0], \"yaxis\": \"y\"}],                        {\"legend\": {\"tracegroupgap\": 0}, \"margin\": {\"t\": 60}, \"template\": {\"data\": {\"bar\": [{\"error_x\": {\"color\": \"#2a3f5f\"}, \"error_y\": {\"color\": \"#2a3f5f\"}, \"marker\": {\"line\": {\"color\": \"#E5ECF6\", \"width\": 0.5}}, \"type\": \"bar\"}], \"barpolar\": [{\"marker\": {\"line\": {\"color\": \"#E5ECF6\", \"width\": 0.5}}, \"type\": \"barpolar\"}], \"carpet\": [{\"aaxis\": {\"endlinecolor\": \"#2a3f5f\", \"gridcolor\": \"white\", \"linecolor\": \"white\", \"minorgridcolor\": \"white\", \"startlinecolor\": \"#2a3f5f\"}, \"baxis\": {\"endlinecolor\": \"#2a3f5f\", \"gridcolor\": \"white\", \"linecolor\": \"white\", \"minorgridcolor\": \"white\", \"startlinecolor\": \"#2a3f5f\"}, \"type\": \"carpet\"}], \"choropleth\": [{\"colorbar\": {\"outlinewidth\": 0, \"ticks\": \"\"}, \"type\": \"choropleth\"}], \"contour\": [{\"colorbar\": {\"outlinewidth\": 0, \"ticks\": \"\"}, \"colorscale\": [[0.0, \"#0d0887\"], [0.1111111111111111, \"#46039f\"], [0.2222222222222222, \"#7201a8\"], [0.3333333333333333, \"#9c179e\"], [0.4444444444444444, \"#bd3786\"], [0.5555555555555556, \"#d8576b\"], [0.6666666666666666, \"#ed7953\"], [0.7777777777777778, \"#fb9f3a\"], [0.8888888888888888, \"#fdca26\"], [1.0, \"#f0f921\"]], \"type\": \"contour\"}], \"contourcarpet\": [{\"colorbar\": {\"outlinewidth\": 0, \"ticks\": \"\"}, \"type\": \"contourcarpet\"}], \"heatmap\": [{\"colorbar\": {\"outlinewidth\": 0, \"ticks\": \"\"}, \"colorscale\": [[0.0, \"#0d0887\"], [0.1111111111111111, \"#46039f\"], [0.2222222222222222, \"#7201a8\"], [0.3333333333333333, \"#9c179e\"], [0.4444444444444444, \"#bd3786\"], [0.5555555555555556, \"#d8576b\"], [0.6666666666666666, \"#ed7953\"], [0.7777777777777778, \"#fb9f3a\"], [0.8888888888888888, \"#fdca26\"], [1.0, \"#f0f921\"]], \"type\": \"heatmap\"}], \"heatmapgl\": [{\"colorbar\": {\"outlinewidth\": 0, \"ticks\": \"\"}, \"colorscale\": [[0.0, \"#0d0887\"], [0.1111111111111111, \"#46039f\"], [0.2222222222222222, \"#7201a8\"], [0.3333333333333333, \"#9c179e\"], [0.4444444444444444, \"#bd3786\"], [0.5555555555555556, \"#d8576b\"], [0.6666666666666666, \"#ed7953\"], [0.7777777777777778, \"#fb9f3a\"], [0.8888888888888888, \"#fdca26\"], [1.0, \"#f0f921\"]], \"type\": \"heatmapgl\"}], \"histogram\": [{\"marker\": {\"colorbar\": {\"outlinewidth\": 0, \"ticks\": \"\"}}, \"type\": \"histogram\"}], \"histogram2d\": [{\"colorbar\": {\"outlinewidth\": 0, \"ticks\": \"\"}, \"colorscale\": [[0.0, \"#0d0887\"], [0.1111111111111111, \"#46039f\"], [0.2222222222222222, \"#7201a8\"], [0.3333333333333333, \"#9c179e\"], [0.4444444444444444, \"#bd3786\"], [0.5555555555555556, \"#d8576b\"], [0.6666666666666666, \"#ed7953\"], [0.7777777777777778, \"#fb9f3a\"], [0.8888888888888888, \"#fdca26\"], [1.0, \"#f0f921\"]], \"type\": \"histogram2d\"}], \"histogram2dcontour\": [{\"colorbar\": {\"outlinewidth\": 0, \"ticks\": \"\"}, \"colorscale\": [[0.0, \"#0d0887\"], [0.1111111111111111, \"#46039f\"], [0.2222222222222222, \"#7201a8\"], [0.3333333333333333, \"#9c179e\"], [0.4444444444444444, \"#bd3786\"], [0.5555555555555556, \"#d8576b\"], [0.6666666666666666, \"#ed7953\"], [0.7777777777777778, \"#fb9f3a\"], [0.8888888888888888, \"#fdca26\"], [1.0, \"#f0f921\"]], \"type\": \"histogram2dcontour\"}], \"mesh3d\": [{\"colorbar\": {\"outlinewidth\": 0, \"ticks\": \"\"}, \"type\": \"mesh3d\"}], \"parcoords\": [{\"line\": {\"colorbar\": {\"outlinewidth\": 0, \"ticks\": \"\"}}, \"type\": \"parcoords\"}], \"pie\": [{\"automargin\": true, \"type\": \"pie\"}], \"scatter\": [{\"marker\": {\"colorbar\": {\"outlinewidth\": 0, \"ticks\": \"\"}}, \"type\": \"scatter\"}], \"scatter3d\": [{\"line\": {\"colorbar\": {\"outlinewidth\": 0, \"ticks\": \"\"}}, \"marker\": {\"colorbar\": {\"outlinewidth\": 0, \"ticks\": \"\"}}, \"type\": \"scatter3d\"}], \"scattercarpet\": [{\"marker\": {\"colorbar\": {\"outlinewidth\": 0, \"ticks\": \"\"}}, \"type\": \"scattercarpet\"}], \"scattergeo\": [{\"marker\": {\"colorbar\": {\"outlinewidth\": 0, \"ticks\": \"\"}}, \"type\": \"scattergeo\"}], \"scattergl\": [{\"marker\": {\"colorbar\": {\"outlinewidth\": 0, \"ticks\": \"\"}}, \"type\": \"scattergl\"}], \"scattermapbox\": [{\"marker\": {\"colorbar\": {\"outlinewidth\": 0, \"ticks\": \"\"}}, \"type\": \"scattermapbox\"}], \"scatterpolar\": [{\"marker\": {\"colorbar\": {\"outlinewidth\": 0, \"ticks\": \"\"}}, \"type\": \"scatterpolar\"}], \"scatterpolargl\": [{\"marker\": {\"colorbar\": {\"outlinewidth\": 0, \"ticks\": \"\"}}, \"type\": \"scatterpolargl\"}], \"scatterternary\": [{\"marker\": {\"colorbar\": {\"outlinewidth\": 0, \"ticks\": \"\"}}, \"type\": \"scatterternary\"}], \"surface\": [{\"colorbar\": {\"outlinewidth\": 0, \"ticks\": \"\"}, \"colorscale\": [[0.0, \"#0d0887\"], [0.1111111111111111, \"#46039f\"], [0.2222222222222222, \"#7201a8\"], [0.3333333333333333, \"#9c179e\"], [0.4444444444444444, \"#bd3786\"], [0.5555555555555556, \"#d8576b\"], [0.6666666666666666, \"#ed7953\"], [0.7777777777777778, \"#fb9f3a\"], [0.8888888888888888, \"#fdca26\"], [1.0, \"#f0f921\"]], \"type\": \"surface\"}], \"table\": [{\"cells\": {\"fill\": {\"color\": \"#EBF0F8\"}, \"line\": {\"color\": \"white\"}}, \"header\": {\"fill\": {\"color\": \"#C8D4E3\"}, \"line\": {\"color\": \"white\"}}, \"type\": \"table\"}]}, \"layout\": {\"annotationdefaults\": {\"arrowcolor\": \"#2a3f5f\", \"arrowhead\": 0, \"arrowwidth\": 1}, \"coloraxis\": {\"colorbar\": {\"outlinewidth\": 0, \"ticks\": \"\"}}, \"colorscale\": {\"diverging\": [[0, \"#8e0152\"], [0.1, \"#c51b7d\"], [0.2, \"#de77ae\"], [0.3, \"#f1b6da\"], [0.4, \"#fde0ef\"], [0.5, \"#f7f7f7\"], [0.6, \"#e6f5d0\"], [0.7, \"#b8e186\"], [0.8, \"#7fbc41\"], [0.9, \"#4d9221\"], [1, \"#276419\"]], \"sequential\": [[0.0, \"#0d0887\"], [0.1111111111111111, \"#46039f\"], [0.2222222222222222, \"#7201a8\"], [0.3333333333333333, \"#9c179e\"], [0.4444444444444444, \"#bd3786\"], [0.5555555555555556, \"#d8576b\"], [0.6666666666666666, \"#ed7953\"], [0.7777777777777778, \"#fb9f3a\"], [0.8888888888888888, \"#fdca26\"], [1.0, \"#f0f921\"]], \"sequentialminus\": [[0.0, \"#0d0887\"], [0.1111111111111111, \"#46039f\"], [0.2222222222222222, \"#7201a8\"], [0.3333333333333333, \"#9c179e\"], [0.4444444444444444, \"#bd3786\"], [0.5555555555555556, \"#d8576b\"], [0.6666666666666666, \"#ed7953\"], [0.7777777777777778, \"#fb9f3a\"], [0.8888888888888888, \"#fdca26\"], [1.0, \"#f0f921\"]]}, \"colorway\": [\"#636efa\", \"#EF553B\", \"#00cc96\", \"#ab63fa\", \"#FFA15A\", \"#19d3f3\", \"#FF6692\", \"#B6E880\", \"#FF97FF\", \"#FECB52\"], \"font\": {\"color\": \"#2a3f5f\"}, \"geo\": {\"bgcolor\": \"white\", \"lakecolor\": \"white\", \"landcolor\": \"#E5ECF6\", \"showlakes\": true, \"showland\": true, \"subunitcolor\": \"white\"}, \"hoverlabel\": {\"align\": \"left\"}, \"hovermode\": \"closest\", \"mapbox\": {\"style\": \"light\"}, \"paper_bgcolor\": \"white\", \"plot_bgcolor\": \"#E5ECF6\", \"polar\": {\"angularaxis\": {\"gridcolor\": \"white\", \"linecolor\": \"white\", \"ticks\": \"\"}, \"bgcolor\": \"#E5ECF6\", \"radialaxis\": {\"gridcolor\": \"white\", \"linecolor\": \"white\", \"ticks\": \"\"}}, \"scene\": {\"xaxis\": {\"backgroundcolor\": \"#E5ECF6\", \"gridcolor\": \"white\", \"gridwidth\": 2, \"linecolor\": \"white\", \"showbackground\": true, \"ticks\": \"\", \"zerolinecolor\": \"white\"}, \"yaxis\": {\"backgroundcolor\": \"#E5ECF6\", \"gridcolor\": \"white\", \"gridwidth\": 2, \"linecolor\": \"white\", \"showbackground\": true, \"ticks\": \"\", \"zerolinecolor\": \"white\"}, \"zaxis\": {\"backgroundcolor\": \"#E5ECF6\", \"gridcolor\": \"white\", \"gridwidth\": 2, \"linecolor\": \"white\", \"showbackground\": true, \"ticks\": \"\", \"zerolinecolor\": \"white\"}}, \"shapedefaults\": {\"line\": {\"color\": \"#2a3f5f\"}}, \"ternary\": {\"aaxis\": {\"gridcolor\": \"white\", \"linecolor\": \"white\", \"ticks\": \"\"}, \"baxis\": {\"gridcolor\": \"white\", \"linecolor\": \"white\", \"ticks\": \"\"}, \"bgcolor\": \"#E5ECF6\", \"caxis\": {\"gridcolor\": \"white\", \"linecolor\": \"white\", \"ticks\": \"\"}}, \"title\": {\"x\": 0.05}, \"xaxis\": {\"automargin\": true, \"gridcolor\": \"white\", \"linecolor\": \"white\", \"ticks\": \"\", \"title\": {\"standoff\": 15}, \"zerolinecolor\": \"white\", \"zerolinewidth\": 2}, \"yaxis\": {\"automargin\": true, \"gridcolor\": \"white\", \"linecolor\": \"white\", \"ticks\": \"\", \"title\": {\"standoff\": 15}, \"zerolinecolor\": \"white\", \"zerolinewidth\": 2}}}, \"xaxis\": {\"anchor\": \"y\", \"domain\": [0.0, 1.0], \"title\": {\"text\": \"date\"}}, \"yaxis\": {\"anchor\": \"x\", \"domain\": [0.0, 1.0], \"title\": {\"text\": \"egfr\"}}},                        {\"responsive\": true}                    ).then(function(){\n",
       "                            \n",
       "var gd = document.getElementById('9eba24c1-6fe8-40dc-a30c-20deb3ff51ab');\n",
       "var x = new MutationObserver(function (mutations, observer) {{\n",
       "        var display = window.getComputedStyle(gd).display;\n",
       "        if (!display || display === 'none') {{\n",
       "            console.log([gd, 'removed!']);\n",
       "            Plotly.purge(gd);\n",
       "            observer.disconnect();\n",
       "        }}\n",
       "}});\n",
       "\n",
       "// Listen for the removal of the full notebook cells\n",
       "var notebookContainer = gd.closest('#notebook-container');\n",
       "if (notebookContainer) {{\n",
       "    x.observe(notebookContainer, {childList: true});\n",
       "}}\n",
       "\n",
       "// Listen for the clearing of the current output cell\n",
       "var outputEl = gd.closest('.output');\n",
       "if (outputEl) {{\n",
       "    x.observe(outputEl, {childList: true});\n",
       "}}\n",
       "\n",
       "                        })                };                });            </script>        </div>"
      ]
     },
     "metadata": {},
     "output_type": "display_data"
    },
    {
     "name": "stderr",
     "output_type": "stream",
     "text": [
      "C:\\Users\\Joyqiao\\anaconda3\\lib\\site-packages\\IPython\\core\\interactiveshell.py:3254: DtypeWarning:\n",
      "\n",
      "Columns (10,12,13,14,15,16,17,18,19,20,21,23,25,40,41,42,43,44,45,46,47,48,49,52,53) have mixed types.Specify dtype option on import or set low_memory=False.\n",
      "\n"
     ]
    },
    {
     "data": {
      "application/vnd.plotly.v1+json": {
       "config": {
        "plotlyServerURL": "https://plot.ly"
       },
       "data": [
        {
         "customdata": [
          [
           "I"
          ],
          [
           "I"
          ],
          [
           "I"
          ],
          [
           "I"
          ],
          [
           "I"
          ],
          [
           "I"
          ],
          [
           "I"
          ],
          [
           "I"
          ],
          [
           "I"
          ],
          [
           "I"
          ],
          [
           "I"
          ],
          [
           "I"
          ],
          [
           "I"
          ],
          [
           "I"
          ],
          [
           "I"
          ],
          [
           "I"
          ],
          [
           "I"
          ],
          [
           "I"
          ],
          [
           "I"
          ],
          [
           "I"
          ],
          [
           "I"
          ],
          [
           "I"
          ],
          [
           "I"
          ],
          [
           "I"
          ],
          [
           "I"
          ],
          [
           "I"
          ],
          [
           "I"
          ],
          [
           "I"
          ],
          [
           "I"
          ],
          [
           "I"
          ],
          [
           "I"
          ],
          [
           "I"
          ],
          [
           "I"
          ],
          [
           "I"
          ],
          [
           "I"
          ],
          [
           "I"
          ],
          [
           "I"
          ],
          [
           "I"
          ],
          [
           "I"
          ],
          [
           "I"
          ],
          [
           "I"
          ],
          [
           "I"
          ],
          [
           "I"
          ],
          [
           "I"
          ],
          [
           "I"
          ],
          [
           "I"
          ],
          [
           "I"
          ],
          [
           "I"
          ],
          [
           "I"
          ],
          [
           "I"
          ],
          [
           "I"
          ],
          [
           "I"
          ],
          [
           "I"
          ],
          [
           "I"
          ],
          [
           "I"
          ],
          [
           "I"
          ],
          [
           "I"
          ],
          [
           "I"
          ],
          [
           "I"
          ],
          [
           "I"
          ],
          [
           "I"
          ],
          [
           "I"
          ],
          [
           "I"
          ],
          [
           "I"
          ],
          [
           "I"
          ],
          [
           "I"
          ],
          [
           "I"
          ],
          [
           "I"
          ],
          [
           "I"
          ],
          [
           "I"
          ],
          [
           "I"
          ],
          [
           "I"
          ],
          [
           "I"
          ],
          [
           "I"
          ],
          [
           "I"
          ],
          [
           "I"
          ],
          [
           "I"
          ],
          [
           "I"
          ],
          [
           "I"
          ],
          [
           "I"
          ],
          [
           "I"
          ],
          [
           "I"
          ],
          [
           "I"
          ],
          [
           "I"
          ],
          [
           "I"
          ],
          [
           "I"
          ],
          [
           "I"
          ],
          [
           "I"
          ],
          [
           "I"
          ],
          [
           "I"
          ],
          [
           "I"
          ],
          [
           "I"
          ],
          [
           "I"
          ],
          [
           "I"
          ],
          [
           "I"
          ],
          [
           "I"
          ],
          [
           "I"
          ],
          [
           "I"
          ],
          [
           "I"
          ],
          [
           "I"
          ],
          [
           "I"
          ],
          [
           "I"
          ],
          [
           "I"
          ],
          [
           "I"
          ],
          [
           "I"
          ],
          [
           "I"
          ],
          [
           "I"
          ],
          [
           "I"
          ],
          [
           "I"
          ],
          [
           "I"
          ],
          [
           "I"
          ],
          [
           "I"
          ],
          [
           "I"
          ],
          [
           "I"
          ],
          [
           "I"
          ],
          [
           "I"
          ],
          [
           "I"
          ],
          [
           "I"
          ],
          [
           "I"
          ],
          [
           "I"
          ],
          [
           "I"
          ],
          [
           "I"
          ],
          [
           "I"
          ],
          [
           "I"
          ],
          [
           "I"
          ],
          [
           "I"
          ],
          [
           "I"
          ],
          [
           "I"
          ],
          [
           "I"
          ],
          [
           "I"
          ],
          [
           "I"
          ],
          [
           "I"
          ],
          [
           "I"
          ],
          [
           "I"
          ],
          [
           "I"
          ],
          [
           "I"
          ],
          [
           "I"
          ],
          [
           "I"
          ],
          [
           "I"
          ],
          [
           "I"
          ],
          [
           "I"
          ],
          [
           "I"
          ],
          [
           "I"
          ],
          [
           "I"
          ],
          [
           "I"
          ],
          [
           "I"
          ],
          [
           "I"
          ],
          [
           "I"
          ],
          [
           "I"
          ],
          [
           "I"
          ],
          [
           "I"
          ],
          [
           "I"
          ],
          [
           "I"
          ],
          [
           "I"
          ],
          [
           "I"
          ],
          [
           "I"
          ],
          [
           "I"
          ],
          [
           "I"
          ],
          [
           "I"
          ],
          [
           "I"
          ],
          [
           "I"
          ],
          [
           "I"
          ],
          [
           "I"
          ],
          [
           "I"
          ],
          [
           "I"
          ],
          [
           "I"
          ],
          [
           "I"
          ],
          [
           "I"
          ],
          [
           "I"
          ],
          [
           "I"
          ],
          [
           "I"
          ],
          [
           "I"
          ],
          [
           "I"
          ],
          [
           "I"
          ],
          [
           "I"
          ],
          [
           "I"
          ],
          [
           "I"
          ],
          [
           "I"
          ],
          [
           "I"
          ],
          [
           "I"
          ],
          [
           "I"
          ],
          [
           "I"
          ],
          [
           "I"
          ],
          [
           "I"
          ],
          [
           "I"
          ],
          [
           "I"
          ],
          [
           "I"
          ],
          [
           "I"
          ],
          [
           "I"
          ],
          [
           "I"
          ],
          [
           "I"
          ],
          [
           "I"
          ],
          [
           "I"
          ],
          [
           "I"
          ],
          [
           "I"
          ],
          [
           "I"
          ],
          [
           "I"
          ],
          [
           "I"
          ],
          [
           "I"
          ],
          [
           "I"
          ],
          [
           "I"
          ],
          [
           "I"
          ],
          [
           "I"
          ],
          [
           "I"
          ],
          [
           "I"
          ],
          [
           "I"
          ],
          [
           "I"
          ],
          [
           "I"
          ],
          [
           "I"
          ],
          [
           "I"
          ],
          [
           "I"
          ],
          [
           "I"
          ],
          [
           "I"
          ],
          [
           "I"
          ],
          [
           "I"
          ],
          [
           "I"
          ],
          [
           "I"
          ],
          [
           "I"
          ],
          [
           "I"
          ],
          [
           "I"
          ],
          [
           "I"
          ],
          [
           "I"
          ],
          [
           "I"
          ],
          [
           "I"
          ],
          [
           "I"
          ],
          [
           "I"
          ],
          [
           "I"
          ],
          [
           "I"
          ],
          [
           "I"
          ]
         ],
         "hovertemplate": "date=%{x}<br>eacl_prv_alcrg_at=%{y}<br>claim_type=%{customdata[0]}<extra></extra>",
         "legendgroup": "",
         "marker": {
          "color": "#636efa",
          "symbol": "circle"
         },
         "mode": "markers",
         "name": "",
         "orientation": "v",
         "showlegend": false,
         "type": "scatter",
         "x": [
          "2012-06-26T00:00:00",
          "2012-06-26T00:00:00",
          "2012-06-26T00:00:00",
          "2012-06-26T00:00:00",
          "2012-06-26T00:00:00",
          "2012-06-26T00:00:00",
          "2012-06-26T00:00:00",
          "2012-06-26T00:00:00",
          "2012-06-26T00:00:00",
          "2012-06-26T00:00:00",
          "2012-06-26T00:00:00",
          "2012-06-26T00:00:00",
          "2012-06-26T00:00:00",
          "2012-06-26T00:00:00",
          "2012-06-26T00:00:00",
          "2012-06-26T00:00:00",
          "2012-06-26T00:00:00",
          "2012-06-26T00:00:00",
          "2012-06-26T00:00:00",
          "2013-10-31T00:00:00",
          "2013-09-07T00:00:00",
          "2013-06-28T00:00:00",
          "2013-10-31T00:00:00",
          "2013-09-07T00:00:00",
          "2013-06-28T00:00:00",
          "2013-10-31T00:00:00",
          "2013-09-07T00:00:00",
          "2013-06-28T00:00:00",
          "2013-10-31T00:00:00",
          "2013-06-28T00:00:00",
          "2013-06-28T00:00:00",
          "2013-10-31T00:00:00",
          "2013-09-07T00:00:00",
          "2013-06-28T00:00:00",
          "2013-10-31T00:00:00",
          "2013-09-07T00:00:00",
          "2013-06-28T00:00:00",
          "2013-10-31T00:00:00",
          "2013-09-07T00:00:00",
          "2013-09-07T00:00:00",
          "2013-06-28T00:00:00",
          "2013-09-07T00:00:00",
          "2013-10-31T00:00:00",
          "2013-11-17T00:00:00",
          "2013-11-17T00:00:00",
          "2013-11-17T00:00:00",
          "2013-11-17T00:00:00",
          "2013-11-17T00:00:00",
          "2013-11-17T00:00:00",
          "2013-11-17T00:00:00",
          "2013-11-17T00:00:00",
          "2013-11-17T00:00:00",
          "2013-11-17T00:00:00",
          "2013-09-07T00:00:00",
          "2013-09-07T00:00:00",
          "2013-09-07T00:00:00",
          "2013-09-07T00:00:00",
          "2013-09-07T00:00:00",
          "2013-09-07T00:00:00",
          "2013-11-17T00:00:00",
          "2013-11-17T00:00:00",
          "2013-11-17T00:00:00",
          "2013-06-28T00:00:00",
          "2013-10-31T00:00:00",
          "2013-09-07T00:00:00",
          "2013-06-28T00:00:00",
          "2013-10-31T00:00:00",
          "2013-06-28T00:00:00",
          "2013-10-31T00:00:00",
          "2013-09-07T00:00:00",
          "2013-06-28T00:00:00",
          "2013-09-07T00:00:00",
          "2013-06-28T00:00:00",
          "2013-10-31T00:00:00",
          "2013-09-07T00:00:00",
          "2013-06-28T00:00:00",
          "2013-09-07T00:00:00",
          "2013-06-28T00:00:00",
          "2013-09-07T00:00:00",
          "2013-09-07T00:00:00",
          "2013-09-07T00:00:00",
          "2013-06-28T00:00:00",
          "2013-06-28T00:00:00",
          "2014-07-10T00:00:00",
          "2014-07-23T00:00:00",
          "2014-08-28T00:00:00",
          "2014-03-06T00:00:00",
          "2014-04-02T00:00:00",
          "2014-05-29T00:00:00",
          "2014-06-10T00:00:00",
          "2014-06-15T00:00:00",
          "2014-07-10T00:00:00",
          "2014-07-23T00:00:00",
          "2014-08-28T00:00:00",
          "2014-03-06T00:00:00",
          "2014-04-02T00:00:00",
          "2014-05-29T00:00:00",
          "2014-06-10T00:00:00",
          "2014-06-15T00:00:00",
          "2014-07-02T00:00:00",
          "2014-07-10T00:00:00",
          "2014-07-23T00:00:00",
          "2014-07-10T00:00:00",
          "2014-06-10T00:00:00",
          "2014-06-15T00:00:00",
          "2014-07-10T00:00:00",
          "2014-07-23T00:00:00",
          "2014-08-09T00:00:00",
          "2014-08-28T00:00:00",
          "2014-05-29T00:00:00",
          "2014-03-06T00:00:00",
          "2014-04-02T00:00:00",
          "2014-05-29T00:00:00",
          "2014-06-10T00:00:00",
          "2014-06-15T00:00:00",
          "2014-04-02T00:00:00",
          "2014-03-06T00:00:00",
          "2014-07-23T00:00:00",
          "2014-08-09T00:00:00",
          "2014-08-28T00:00:00",
          "2014-03-06T00:00:00",
          "2014-04-02T00:00:00",
          "2014-05-29T00:00:00",
          "2014-06-10T00:00:00",
          "2014-06-15T00:00:00",
          "2014-07-10T00:00:00",
          "2014-07-23T00:00:00",
          "2014-08-09T00:00:00",
          "2014-08-28T00:00:00",
          "2014-07-10T00:00:00",
          "2014-07-23T00:00:00",
          "2014-08-28T00:00:00",
          "2014-03-06T00:00:00",
          "2014-04-02T00:00:00",
          "2014-05-29T00:00:00",
          "2014-06-10T00:00:00",
          "2014-06-15T00:00:00",
          "2014-08-09T00:00:00",
          "2014-06-15T00:00:00",
          "2014-06-15T00:00:00",
          "2014-06-15T00:00:00",
          "2014-07-23T00:00:00",
          "2014-06-15T00:00:00",
          "2014-06-15T00:00:00",
          "2014-06-15T00:00:00",
          "2014-06-15T00:00:00",
          "2014-06-15T00:00:00",
          "2014-06-15T00:00:00",
          "2014-06-15T00:00:00",
          "2014-06-15T00:00:00",
          "2014-06-10T00:00:00",
          "2014-05-29T00:00:00",
          "2014-04-02T00:00:00",
          "2014-03-06T00:00:00",
          "2014-07-02T00:00:00",
          "2014-07-10T00:00:00",
          "2014-07-23T00:00:00",
          "2014-07-23T00:00:00",
          "2014-06-15T00:00:00",
          "2014-07-23T00:00:00",
          "2014-07-02T00:00:00",
          "2014-06-15T00:00:00",
          "2014-07-23T00:00:00",
          "2014-07-02T00:00:00",
          "2014-06-15T00:00:00",
          "2014-05-29T00:00:00",
          "2014-04-02T00:00:00",
          "2014-03-06T00:00:00",
          "2014-07-02T00:00:00",
          "2014-07-10T00:00:00",
          "2014-07-23T00:00:00",
          "2014-08-28T00:00:00",
          "2014-03-06T00:00:00",
          "2014-06-15T00:00:00",
          "2014-04-02T00:00:00",
          "2014-06-10T00:00:00",
          "2014-06-15T00:00:00",
          "2014-07-02T00:00:00",
          "2014-07-10T00:00:00",
          "2014-07-23T00:00:00",
          "2014-08-28T00:00:00",
          "2014-05-29T00:00:00",
          "2014-06-10T00:00:00",
          "2014-05-29T00:00:00",
          "2014-04-02T00:00:00",
          "2014-08-28T00:00:00",
          "2014-03-06T00:00:00",
          "2014-03-06T00:00:00",
          "2014-05-29T00:00:00",
          "2014-06-10T00:00:00",
          "2014-06-15T00:00:00",
          "2014-07-02T00:00:00",
          "2014-07-10T00:00:00",
          "2014-07-23T00:00:00",
          "2014-04-02T00:00:00",
          "2014-06-10T00:00:00",
          "2014-06-15T00:00:00",
          "2014-07-10T00:00:00",
          "2014-07-23T00:00:00",
          "2014-08-09T00:00:00",
          "2014-08-28T00:00:00",
          "2014-03-06T00:00:00",
          "2014-04-02T00:00:00",
          "2014-05-29T00:00:00",
          "2014-06-10T00:00:00",
          "2014-06-15T00:00:00",
          "2014-05-29T00:00:00",
          "2014-04-02T00:00:00",
          "2014-03-06T00:00:00",
          "2013-11-17T00:00:00",
          "2013-11-17T00:00:00",
          "2013-11-17T00:00:00",
          "2013-11-17T00:00:00",
          "2013-11-17T00:00:00",
          "2013-11-17T00:00:00",
          "2013-11-17T00:00:00",
          "2013-11-17T00:00:00",
          "2013-11-17T00:00:00",
          "2013-11-17T00:00:00",
          "2013-11-17T00:00:00",
          "2013-11-17T00:00:00",
          "2013-11-17T00:00:00",
          "2014-07-02T00:00:00",
          "2014-07-02T00:00:00",
          "2014-07-02T00:00:00",
          "2014-07-02T00:00:00",
          "2014-07-02T00:00:00",
          "2014-07-02T00:00:00",
          "2014-07-02T00:00:00"
         ],
         "xaxis": "x",
         "y": [
          56.95,
          188.48,
          4551.6,
          1450.17,
          2998.52,
          169.37,
          118.22,
          927.95,
          365.35,
          139.15,
          1047.34,
          325.63,
          1544.22,
          1048.19,
          7730.51,
          2135.91,
          814.03,
          34.84,
          99.39,
          948.95,
          11.41,
          9.9,
          159.31,
          1220.23,
          80.21,
          1549.78,
          596.65,
          285.7,
          892.86,
          615.06,
          9.96,
          33.82,
          265.14,
          13.95,
          103.22,
          10.85,
          86.44,
          5.78,
          30.39,
          1017.17,
          593.39,
          45.27,
          17.92,
          2019.81,
          84.8,
          40.84,
          843.99,
          30.86,
          1262.1,
          241.94,
          127.83,
          374.14,
          1553.61,
          473.67,
          161.25,
          273.83,
          788.3,
          2279.33,
          64.81,
          68.28,
          968.71,
          1925.57,
          36.43,
          57.24,
          289.33,
          297.69,
          877.82,
          550.79,
          1634.5,
          1004.14,
          35.62,
          273.21,
          156.44,
          515.31,
          44.65,
          710.97,
          36.9,
          356.48,
          86.52,
          14.26,
          7.13,
          176.12,
          389.86,
          893.72,
          62.73,
          530.58,
          868.14,
          1076.98,
          243.56,
          34.01,
          786.37,
          347.95,
          452.1,
          1103.7,
          214.48,
          62.75,
          191.68,
          18.02,
          113.8,
          3257.67,
          233.58,
          1105.52,
          804.09,
          5.81,
          1.59,
          73.29,
          2088.06,
          163.33,
          1352.36,
          525.86,
          41.83,
          202.93,
          3466.5,
          103.79,
          61.57,
          2494.42,
          76.37,
          5239.68,
          726.54,
          2215.04,
          0.13,
          584.81,
          3009.57,
          1201.89,
          1316.67,
          1428.46,
          91.76,
          805.39,
          49.89,
          181.04,
          60.39,
          440.6,
          312.97,
          182.59,
          1220.55,
          95.36,
          62.42,
          765.98,
          388.88,
          17.83,
          214.87,
          132.89,
          83.65,
          10.08,
          29.04,
          203.73,
          25.26,
          28.98,
          307.56,
          6.58,
          180.03,
          2393.09,
          1821.36,
          811.97,
          5262.2,
          11.11,
          37.14,
          42.44,
          206.7,
          556.19,
          514.83,
          298.75,
          299.47,
          1024.36,
          18.04,
          281.63,
          2073.9,
          40.62,
          391.28,
          306,
          491.89,
          228.75,
          698.16,
          141.41,
          1401.26,
          588.44,
          34.82,
          2727.29,
          847.36,
          193.35,
          74.23,
          50.72,
          1643.52,
          400.78,
          48.96,
          644.55,
          32.34,
          311.27,
          690.04,
          229.09,
          12.42,
          87.09,
          120.1,
          339.89,
          111.35,
          1795.57,
          327.84,
          1363.55,
          3373.37,
          4347.98,
          1683.91,
          18.77,
          794.94,
          760.13,
          2829.14,
          4025.81,
          3587.32,
          1635,
          713.72,
          99.67,
          1414.17,
          2811.04,
          546.18,
          353.2,
          186.61,
          2268.04,
          1842.47,
          45.06,
          1232.1,
          59.62,
          2948.6,
          123.8,
          560.71,
          1115.7,
          94.86,
          5731.42,
          2970.48,
          426.17,
          3548.15
         ],
         "yaxis": "y"
        }
       ],
       "layout": {
        "legend": {
         "tracegroupgap": 0
        },
        "margin": {
         "t": 60
        },
        "template": {
         "data": {
          "bar": [
           {
            "error_x": {
             "color": "#2a3f5f"
            },
            "error_y": {
             "color": "#2a3f5f"
            },
            "marker": {
             "line": {
              "color": "#E5ECF6",
              "width": 0.5
             }
            },
            "type": "bar"
           }
          ],
          "barpolar": [
           {
            "marker": {
             "line": {
              "color": "#E5ECF6",
              "width": 0.5
             }
            },
            "type": "barpolar"
           }
          ],
          "carpet": [
           {
            "aaxis": {
             "endlinecolor": "#2a3f5f",
             "gridcolor": "white",
             "linecolor": "white",
             "minorgridcolor": "white",
             "startlinecolor": "#2a3f5f"
            },
            "baxis": {
             "endlinecolor": "#2a3f5f",
             "gridcolor": "white",
             "linecolor": "white",
             "minorgridcolor": "white",
             "startlinecolor": "#2a3f5f"
            },
            "type": "carpet"
           }
          ],
          "choropleth": [
           {
            "colorbar": {
             "outlinewidth": 0,
             "ticks": ""
            },
            "type": "choropleth"
           }
          ],
          "contour": [
           {
            "colorbar": {
             "outlinewidth": 0,
             "ticks": ""
            },
            "colorscale": [
             [
              0,
              "#0d0887"
             ],
             [
              0.1111111111111111,
              "#46039f"
             ],
             [
              0.2222222222222222,
              "#7201a8"
             ],
             [
              0.3333333333333333,
              "#9c179e"
             ],
             [
              0.4444444444444444,
              "#bd3786"
             ],
             [
              0.5555555555555556,
              "#d8576b"
             ],
             [
              0.6666666666666666,
              "#ed7953"
             ],
             [
              0.7777777777777778,
              "#fb9f3a"
             ],
             [
              0.8888888888888888,
              "#fdca26"
             ],
             [
              1,
              "#f0f921"
             ]
            ],
            "type": "contour"
           }
          ],
          "contourcarpet": [
           {
            "colorbar": {
             "outlinewidth": 0,
             "ticks": ""
            },
            "type": "contourcarpet"
           }
          ],
          "heatmap": [
           {
            "colorbar": {
             "outlinewidth": 0,
             "ticks": ""
            },
            "colorscale": [
             [
              0,
              "#0d0887"
             ],
             [
              0.1111111111111111,
              "#46039f"
             ],
             [
              0.2222222222222222,
              "#7201a8"
             ],
             [
              0.3333333333333333,
              "#9c179e"
             ],
             [
              0.4444444444444444,
              "#bd3786"
             ],
             [
              0.5555555555555556,
              "#d8576b"
             ],
             [
              0.6666666666666666,
              "#ed7953"
             ],
             [
              0.7777777777777778,
              "#fb9f3a"
             ],
             [
              0.8888888888888888,
              "#fdca26"
             ],
             [
              1,
              "#f0f921"
             ]
            ],
            "type": "heatmap"
           }
          ],
          "heatmapgl": [
           {
            "colorbar": {
             "outlinewidth": 0,
             "ticks": ""
            },
            "colorscale": [
             [
              0,
              "#0d0887"
             ],
             [
              0.1111111111111111,
              "#46039f"
             ],
             [
              0.2222222222222222,
              "#7201a8"
             ],
             [
              0.3333333333333333,
              "#9c179e"
             ],
             [
              0.4444444444444444,
              "#bd3786"
             ],
             [
              0.5555555555555556,
              "#d8576b"
             ],
             [
              0.6666666666666666,
              "#ed7953"
             ],
             [
              0.7777777777777778,
              "#fb9f3a"
             ],
             [
              0.8888888888888888,
              "#fdca26"
             ],
             [
              1,
              "#f0f921"
             ]
            ],
            "type": "heatmapgl"
           }
          ],
          "histogram": [
           {
            "marker": {
             "colorbar": {
              "outlinewidth": 0,
              "ticks": ""
             }
            },
            "type": "histogram"
           }
          ],
          "histogram2d": [
           {
            "colorbar": {
             "outlinewidth": 0,
             "ticks": ""
            },
            "colorscale": [
             [
              0,
              "#0d0887"
             ],
             [
              0.1111111111111111,
              "#46039f"
             ],
             [
              0.2222222222222222,
              "#7201a8"
             ],
             [
              0.3333333333333333,
              "#9c179e"
             ],
             [
              0.4444444444444444,
              "#bd3786"
             ],
             [
              0.5555555555555556,
              "#d8576b"
             ],
             [
              0.6666666666666666,
              "#ed7953"
             ],
             [
              0.7777777777777778,
              "#fb9f3a"
             ],
             [
              0.8888888888888888,
              "#fdca26"
             ],
             [
              1,
              "#f0f921"
             ]
            ],
            "type": "histogram2d"
           }
          ],
          "histogram2dcontour": [
           {
            "colorbar": {
             "outlinewidth": 0,
             "ticks": ""
            },
            "colorscale": [
             [
              0,
              "#0d0887"
             ],
             [
              0.1111111111111111,
              "#46039f"
             ],
             [
              0.2222222222222222,
              "#7201a8"
             ],
             [
              0.3333333333333333,
              "#9c179e"
             ],
             [
              0.4444444444444444,
              "#bd3786"
             ],
             [
              0.5555555555555556,
              "#d8576b"
             ],
             [
              0.6666666666666666,
              "#ed7953"
             ],
             [
              0.7777777777777778,
              "#fb9f3a"
             ],
             [
              0.8888888888888888,
              "#fdca26"
             ],
             [
              1,
              "#f0f921"
             ]
            ],
            "type": "histogram2dcontour"
           }
          ],
          "mesh3d": [
           {
            "colorbar": {
             "outlinewidth": 0,
             "ticks": ""
            },
            "type": "mesh3d"
           }
          ],
          "parcoords": [
           {
            "line": {
             "colorbar": {
              "outlinewidth": 0,
              "ticks": ""
             }
            },
            "type": "parcoords"
           }
          ],
          "pie": [
           {
            "automargin": true,
            "type": "pie"
           }
          ],
          "scatter": [
           {
            "marker": {
             "colorbar": {
              "outlinewidth": 0,
              "ticks": ""
             }
            },
            "type": "scatter"
           }
          ],
          "scatter3d": [
           {
            "line": {
             "colorbar": {
              "outlinewidth": 0,
              "ticks": ""
             }
            },
            "marker": {
             "colorbar": {
              "outlinewidth": 0,
              "ticks": ""
             }
            },
            "type": "scatter3d"
           }
          ],
          "scattercarpet": [
           {
            "marker": {
             "colorbar": {
              "outlinewidth": 0,
              "ticks": ""
             }
            },
            "type": "scattercarpet"
           }
          ],
          "scattergeo": [
           {
            "marker": {
             "colorbar": {
              "outlinewidth": 0,
              "ticks": ""
             }
            },
            "type": "scattergeo"
           }
          ],
          "scattergl": [
           {
            "marker": {
             "colorbar": {
              "outlinewidth": 0,
              "ticks": ""
             }
            },
            "type": "scattergl"
           }
          ],
          "scattermapbox": [
           {
            "marker": {
             "colorbar": {
              "outlinewidth": 0,
              "ticks": ""
             }
            },
            "type": "scattermapbox"
           }
          ],
          "scatterpolar": [
           {
            "marker": {
             "colorbar": {
              "outlinewidth": 0,
              "ticks": ""
             }
            },
            "type": "scatterpolar"
           }
          ],
          "scatterpolargl": [
           {
            "marker": {
             "colorbar": {
              "outlinewidth": 0,
              "ticks": ""
             }
            },
            "type": "scatterpolargl"
           }
          ],
          "scatterternary": [
           {
            "marker": {
             "colorbar": {
              "outlinewidth": 0,
              "ticks": ""
             }
            },
            "type": "scatterternary"
           }
          ],
          "surface": [
           {
            "colorbar": {
             "outlinewidth": 0,
             "ticks": ""
            },
            "colorscale": [
             [
              0,
              "#0d0887"
             ],
             [
              0.1111111111111111,
              "#46039f"
             ],
             [
              0.2222222222222222,
              "#7201a8"
             ],
             [
              0.3333333333333333,
              "#9c179e"
             ],
             [
              0.4444444444444444,
              "#bd3786"
             ],
             [
              0.5555555555555556,
              "#d8576b"
             ],
             [
              0.6666666666666666,
              "#ed7953"
             ],
             [
              0.7777777777777778,
              "#fb9f3a"
             ],
             [
              0.8888888888888888,
              "#fdca26"
             ],
             [
              1,
              "#f0f921"
             ]
            ],
            "type": "surface"
           }
          ],
          "table": [
           {
            "cells": {
             "fill": {
              "color": "#EBF0F8"
             },
             "line": {
              "color": "white"
             }
            },
            "header": {
             "fill": {
              "color": "#C8D4E3"
             },
             "line": {
              "color": "white"
             }
            },
            "type": "table"
           }
          ]
         },
         "layout": {
          "annotationdefaults": {
           "arrowcolor": "#2a3f5f",
           "arrowhead": 0,
           "arrowwidth": 1
          },
          "coloraxis": {
           "colorbar": {
            "outlinewidth": 0,
            "ticks": ""
           }
          },
          "colorscale": {
           "diverging": [
            [
             0,
             "#8e0152"
            ],
            [
             0.1,
             "#c51b7d"
            ],
            [
             0.2,
             "#de77ae"
            ],
            [
             0.3,
             "#f1b6da"
            ],
            [
             0.4,
             "#fde0ef"
            ],
            [
             0.5,
             "#f7f7f7"
            ],
            [
             0.6,
             "#e6f5d0"
            ],
            [
             0.7,
             "#b8e186"
            ],
            [
             0.8,
             "#7fbc41"
            ],
            [
             0.9,
             "#4d9221"
            ],
            [
             1,
             "#276419"
            ]
           ],
           "sequential": [
            [
             0,
             "#0d0887"
            ],
            [
             0.1111111111111111,
             "#46039f"
            ],
            [
             0.2222222222222222,
             "#7201a8"
            ],
            [
             0.3333333333333333,
             "#9c179e"
            ],
            [
             0.4444444444444444,
             "#bd3786"
            ],
            [
             0.5555555555555556,
             "#d8576b"
            ],
            [
             0.6666666666666666,
             "#ed7953"
            ],
            [
             0.7777777777777778,
             "#fb9f3a"
            ],
            [
             0.8888888888888888,
             "#fdca26"
            ],
            [
             1,
             "#f0f921"
            ]
           ],
           "sequentialminus": [
            [
             0,
             "#0d0887"
            ],
            [
             0.1111111111111111,
             "#46039f"
            ],
            [
             0.2222222222222222,
             "#7201a8"
            ],
            [
             0.3333333333333333,
             "#9c179e"
            ],
            [
             0.4444444444444444,
             "#bd3786"
            ],
            [
             0.5555555555555556,
             "#d8576b"
            ],
            [
             0.6666666666666666,
             "#ed7953"
            ],
            [
             0.7777777777777778,
             "#fb9f3a"
            ],
            [
             0.8888888888888888,
             "#fdca26"
            ],
            [
             1,
             "#f0f921"
            ]
           ]
          },
          "colorway": [
           "#636efa",
           "#EF553B",
           "#00cc96",
           "#ab63fa",
           "#FFA15A",
           "#19d3f3",
           "#FF6692",
           "#B6E880",
           "#FF97FF",
           "#FECB52"
          ],
          "font": {
           "color": "#2a3f5f"
          },
          "geo": {
           "bgcolor": "white",
           "lakecolor": "white",
           "landcolor": "#E5ECF6",
           "showlakes": true,
           "showland": true,
           "subunitcolor": "white"
          },
          "hoverlabel": {
           "align": "left"
          },
          "hovermode": "closest",
          "mapbox": {
           "style": "light"
          },
          "paper_bgcolor": "white",
          "plot_bgcolor": "#E5ECF6",
          "polar": {
           "angularaxis": {
            "gridcolor": "white",
            "linecolor": "white",
            "ticks": ""
           },
           "bgcolor": "#E5ECF6",
           "radialaxis": {
            "gridcolor": "white",
            "linecolor": "white",
            "ticks": ""
           }
          },
          "scene": {
           "xaxis": {
            "backgroundcolor": "#E5ECF6",
            "gridcolor": "white",
            "gridwidth": 2,
            "linecolor": "white",
            "showbackground": true,
            "ticks": "",
            "zerolinecolor": "white"
           },
           "yaxis": {
            "backgroundcolor": "#E5ECF6",
            "gridcolor": "white",
            "gridwidth": 2,
            "linecolor": "white",
            "showbackground": true,
            "ticks": "",
            "zerolinecolor": "white"
           },
           "zaxis": {
            "backgroundcolor": "#E5ECF6",
            "gridcolor": "white",
            "gridwidth": 2,
            "linecolor": "white",
            "showbackground": true,
            "ticks": "",
            "zerolinecolor": "white"
           }
          },
          "shapedefaults": {
           "line": {
            "color": "#2a3f5f"
           }
          },
          "ternary": {
           "aaxis": {
            "gridcolor": "white",
            "linecolor": "white",
            "ticks": ""
           },
           "baxis": {
            "gridcolor": "white",
            "linecolor": "white",
            "ticks": ""
           },
           "bgcolor": "#E5ECF6",
           "caxis": {
            "gridcolor": "white",
            "linecolor": "white",
            "ticks": ""
           }
          },
          "title": {
           "x": 0.05
          },
          "xaxis": {
           "automargin": true,
           "gridcolor": "white",
           "linecolor": "white",
           "ticks": "",
           "title": {
            "standoff": 15
           },
           "zerolinecolor": "white",
           "zerolinewidth": 2
          },
          "yaxis": {
           "automargin": true,
           "gridcolor": "white",
           "linecolor": "white",
           "ticks": "",
           "title": {
            "standoff": 15
           },
           "zerolinecolor": "white",
           "zerolinewidth": 2
          }
         }
        },
        "xaxis": {
         "anchor": "y",
         "domain": [
          0,
          1
         ],
         "title": {
          "text": "date"
         }
        },
        "yaxis": {
         "anchor": "x",
         "domain": [
          0,
          1
         ],
         "title": {
          "text": "eacl_prv_alcrg_at"
         }
        }
       }
      },
      "text/html": [
       "<div>                            <div id=\"9aa49a2c-403a-41c2-8469-1e5c55148250\" class=\"plotly-graph-div\" style=\"height:525px; width:100%;\"></div>            <script type=\"text/javascript\">                require([\"plotly\"], function(Plotly) {                    window.PLOTLYENV=window.PLOTLYENV || {};                                    if (document.getElementById(\"9aa49a2c-403a-41c2-8469-1e5c55148250\")) {                    Plotly.newPlot(                        \"9aa49a2c-403a-41c2-8469-1e5c55148250\",                        [{\"customdata\": [[\"I\"], [\"I\"], [\"I\"], [\"I\"], [\"I\"], [\"I\"], [\"I\"], [\"I\"], [\"I\"], [\"I\"], [\"I\"], [\"I\"], [\"I\"], [\"I\"], [\"I\"], [\"I\"], [\"I\"], [\"I\"], [\"I\"], [\"I\"], [\"I\"], [\"I\"], [\"I\"], [\"I\"], [\"I\"], [\"I\"], [\"I\"], [\"I\"], [\"I\"], [\"I\"], [\"I\"], [\"I\"], [\"I\"], [\"I\"], [\"I\"], [\"I\"], [\"I\"], [\"I\"], [\"I\"], [\"I\"], [\"I\"], [\"I\"], [\"I\"], [\"I\"], [\"I\"], [\"I\"], [\"I\"], [\"I\"], [\"I\"], [\"I\"], [\"I\"], [\"I\"], [\"I\"], [\"I\"], [\"I\"], [\"I\"], [\"I\"], [\"I\"], [\"I\"], [\"I\"], [\"I\"], [\"I\"], [\"I\"], [\"I\"], [\"I\"], [\"I\"], [\"I\"], [\"I\"], [\"I\"], [\"I\"], [\"I\"], [\"I\"], [\"I\"], [\"I\"], [\"I\"], [\"I\"], [\"I\"], [\"I\"], [\"I\"], [\"I\"], [\"I\"], [\"I\"], [\"I\"], [\"I\"], [\"I\"], [\"I\"], [\"I\"], [\"I\"], [\"I\"], [\"I\"], [\"I\"], [\"I\"], [\"I\"], [\"I\"], [\"I\"], [\"I\"], [\"I\"], [\"I\"], [\"I\"], [\"I\"], [\"I\"], [\"I\"], [\"I\"], [\"I\"], [\"I\"], [\"I\"], [\"I\"], [\"I\"], [\"I\"], [\"I\"], [\"I\"], [\"I\"], [\"I\"], [\"I\"], [\"I\"], [\"I\"], [\"I\"], [\"I\"], [\"I\"], [\"I\"], [\"I\"], [\"I\"], [\"I\"], [\"I\"], [\"I\"], [\"I\"], [\"I\"], [\"I\"], [\"I\"], [\"I\"], [\"I\"], [\"I\"], [\"I\"], [\"I\"], [\"I\"], [\"I\"], [\"I\"], [\"I\"], [\"I\"], [\"I\"], [\"I\"], [\"I\"], [\"I\"], [\"I\"], [\"I\"], [\"I\"], [\"I\"], [\"I\"], [\"I\"], [\"I\"], [\"I\"], [\"I\"], [\"I\"], [\"I\"], [\"I\"], [\"I\"], [\"I\"], [\"I\"], [\"I\"], [\"I\"], [\"I\"], [\"I\"], [\"I\"], [\"I\"], [\"I\"], [\"I\"], [\"I\"], [\"I\"], [\"I\"], [\"I\"], [\"I\"], [\"I\"], [\"I\"], [\"I\"], [\"I\"], [\"I\"], [\"I\"], [\"I\"], [\"I\"], [\"I\"], [\"I\"], [\"I\"], [\"I\"], [\"I\"], [\"I\"], [\"I\"], [\"I\"], [\"I\"], [\"I\"], [\"I\"], [\"I\"], [\"I\"], [\"I\"], [\"I\"], [\"I\"], [\"I\"], [\"I\"], [\"I\"], [\"I\"], [\"I\"], [\"I\"], [\"I\"], [\"I\"], [\"I\"], [\"I\"], [\"I\"], [\"I\"], [\"I\"], [\"I\"], [\"I\"], [\"I\"], [\"I\"], [\"I\"], [\"I\"], [\"I\"], [\"I\"], [\"I\"], [\"I\"], [\"I\"], [\"I\"], [\"I\"], [\"I\"], [\"I\"], [\"I\"], [\"I\"], [\"I\"], [\"I\"], [\"I\"], [\"I\"]], \"hovertemplate\": \"date=%{x}<br>eacl_prv_alcrg_at=%{y}<br>claim_type=%{customdata[0]}<extra></extra>\", \"legendgroup\": \"\", \"marker\": {\"color\": \"#636efa\", \"symbol\": \"circle\"}, \"mode\": \"markers\", \"name\": \"\", \"orientation\": \"v\", \"showlegend\": false, \"type\": \"scatter\", \"x\": [\"2012-06-26T00:00:00\", \"2012-06-26T00:00:00\", \"2012-06-26T00:00:00\", \"2012-06-26T00:00:00\", \"2012-06-26T00:00:00\", \"2012-06-26T00:00:00\", \"2012-06-26T00:00:00\", \"2012-06-26T00:00:00\", \"2012-06-26T00:00:00\", \"2012-06-26T00:00:00\", \"2012-06-26T00:00:00\", \"2012-06-26T00:00:00\", \"2012-06-26T00:00:00\", \"2012-06-26T00:00:00\", \"2012-06-26T00:00:00\", \"2012-06-26T00:00:00\", \"2012-06-26T00:00:00\", \"2012-06-26T00:00:00\", \"2012-06-26T00:00:00\", \"2013-10-31T00:00:00\", \"2013-09-07T00:00:00\", \"2013-06-28T00:00:00\", \"2013-10-31T00:00:00\", \"2013-09-07T00:00:00\", \"2013-06-28T00:00:00\", \"2013-10-31T00:00:00\", \"2013-09-07T00:00:00\", \"2013-06-28T00:00:00\", \"2013-10-31T00:00:00\", \"2013-06-28T00:00:00\", \"2013-06-28T00:00:00\", \"2013-10-31T00:00:00\", \"2013-09-07T00:00:00\", \"2013-06-28T00:00:00\", \"2013-10-31T00:00:00\", \"2013-09-07T00:00:00\", \"2013-06-28T00:00:00\", \"2013-10-31T00:00:00\", \"2013-09-07T00:00:00\", \"2013-09-07T00:00:00\", \"2013-06-28T00:00:00\", \"2013-09-07T00:00:00\", \"2013-10-31T00:00:00\", \"2013-11-17T00:00:00\", \"2013-11-17T00:00:00\", \"2013-11-17T00:00:00\", \"2013-11-17T00:00:00\", \"2013-11-17T00:00:00\", \"2013-11-17T00:00:00\", \"2013-11-17T00:00:00\", \"2013-11-17T00:00:00\", \"2013-11-17T00:00:00\", \"2013-11-17T00:00:00\", \"2013-09-07T00:00:00\", \"2013-09-07T00:00:00\", \"2013-09-07T00:00:00\", \"2013-09-07T00:00:00\", \"2013-09-07T00:00:00\", \"2013-09-07T00:00:00\", \"2013-11-17T00:00:00\", \"2013-11-17T00:00:00\", \"2013-11-17T00:00:00\", \"2013-06-28T00:00:00\", \"2013-10-31T00:00:00\", \"2013-09-07T00:00:00\", \"2013-06-28T00:00:00\", \"2013-10-31T00:00:00\", \"2013-06-28T00:00:00\", \"2013-10-31T00:00:00\", \"2013-09-07T00:00:00\", \"2013-06-28T00:00:00\", \"2013-09-07T00:00:00\", \"2013-06-28T00:00:00\", \"2013-10-31T00:00:00\", \"2013-09-07T00:00:00\", \"2013-06-28T00:00:00\", \"2013-09-07T00:00:00\", \"2013-06-28T00:00:00\", \"2013-09-07T00:00:00\", \"2013-09-07T00:00:00\", \"2013-09-07T00:00:00\", \"2013-06-28T00:00:00\", \"2013-06-28T00:00:00\", \"2014-07-10T00:00:00\", \"2014-07-23T00:00:00\", \"2014-08-28T00:00:00\", \"2014-03-06T00:00:00\", \"2014-04-02T00:00:00\", \"2014-05-29T00:00:00\", \"2014-06-10T00:00:00\", \"2014-06-15T00:00:00\", \"2014-07-10T00:00:00\", \"2014-07-23T00:00:00\", \"2014-08-28T00:00:00\", \"2014-03-06T00:00:00\", \"2014-04-02T00:00:00\", \"2014-05-29T00:00:00\", \"2014-06-10T00:00:00\", \"2014-06-15T00:00:00\", \"2014-07-02T00:00:00\", \"2014-07-10T00:00:00\", \"2014-07-23T00:00:00\", \"2014-07-10T00:00:00\", \"2014-06-10T00:00:00\", \"2014-06-15T00:00:00\", \"2014-07-10T00:00:00\", \"2014-07-23T00:00:00\", \"2014-08-09T00:00:00\", \"2014-08-28T00:00:00\", \"2014-05-29T00:00:00\", \"2014-03-06T00:00:00\", \"2014-04-02T00:00:00\", \"2014-05-29T00:00:00\", \"2014-06-10T00:00:00\", \"2014-06-15T00:00:00\", \"2014-04-02T00:00:00\", \"2014-03-06T00:00:00\", \"2014-07-23T00:00:00\", \"2014-08-09T00:00:00\", \"2014-08-28T00:00:00\", \"2014-03-06T00:00:00\", \"2014-04-02T00:00:00\", \"2014-05-29T00:00:00\", \"2014-06-10T00:00:00\", \"2014-06-15T00:00:00\", \"2014-07-10T00:00:00\", \"2014-07-23T00:00:00\", \"2014-08-09T00:00:00\", \"2014-08-28T00:00:00\", \"2014-07-10T00:00:00\", \"2014-07-23T00:00:00\", \"2014-08-28T00:00:00\", \"2014-03-06T00:00:00\", \"2014-04-02T00:00:00\", \"2014-05-29T00:00:00\", \"2014-06-10T00:00:00\", \"2014-06-15T00:00:00\", \"2014-08-09T00:00:00\", \"2014-06-15T00:00:00\", \"2014-06-15T00:00:00\", \"2014-06-15T00:00:00\", \"2014-07-23T00:00:00\", \"2014-06-15T00:00:00\", \"2014-06-15T00:00:00\", \"2014-06-15T00:00:00\", \"2014-06-15T00:00:00\", \"2014-06-15T00:00:00\", \"2014-06-15T00:00:00\", \"2014-06-15T00:00:00\", \"2014-06-15T00:00:00\", \"2014-06-10T00:00:00\", \"2014-05-29T00:00:00\", \"2014-04-02T00:00:00\", \"2014-03-06T00:00:00\", \"2014-07-02T00:00:00\", \"2014-07-10T00:00:00\", \"2014-07-23T00:00:00\", \"2014-07-23T00:00:00\", \"2014-06-15T00:00:00\", \"2014-07-23T00:00:00\", \"2014-07-02T00:00:00\", \"2014-06-15T00:00:00\", \"2014-07-23T00:00:00\", \"2014-07-02T00:00:00\", \"2014-06-15T00:00:00\", \"2014-05-29T00:00:00\", \"2014-04-02T00:00:00\", \"2014-03-06T00:00:00\", \"2014-07-02T00:00:00\", \"2014-07-10T00:00:00\", \"2014-07-23T00:00:00\", \"2014-08-28T00:00:00\", \"2014-03-06T00:00:00\", \"2014-06-15T00:00:00\", \"2014-04-02T00:00:00\", \"2014-06-10T00:00:00\", \"2014-06-15T00:00:00\", \"2014-07-02T00:00:00\", \"2014-07-10T00:00:00\", \"2014-07-23T00:00:00\", \"2014-08-28T00:00:00\", \"2014-05-29T00:00:00\", \"2014-06-10T00:00:00\", \"2014-05-29T00:00:00\", \"2014-04-02T00:00:00\", \"2014-08-28T00:00:00\", \"2014-03-06T00:00:00\", \"2014-03-06T00:00:00\", \"2014-05-29T00:00:00\", \"2014-06-10T00:00:00\", \"2014-06-15T00:00:00\", \"2014-07-02T00:00:00\", \"2014-07-10T00:00:00\", \"2014-07-23T00:00:00\", \"2014-04-02T00:00:00\", \"2014-06-10T00:00:00\", \"2014-06-15T00:00:00\", \"2014-07-10T00:00:00\", \"2014-07-23T00:00:00\", \"2014-08-09T00:00:00\", \"2014-08-28T00:00:00\", \"2014-03-06T00:00:00\", \"2014-04-02T00:00:00\", \"2014-05-29T00:00:00\", \"2014-06-10T00:00:00\", \"2014-06-15T00:00:00\", \"2014-05-29T00:00:00\", \"2014-04-02T00:00:00\", \"2014-03-06T00:00:00\", \"2013-11-17T00:00:00\", \"2013-11-17T00:00:00\", \"2013-11-17T00:00:00\", \"2013-11-17T00:00:00\", \"2013-11-17T00:00:00\", \"2013-11-17T00:00:00\", \"2013-11-17T00:00:00\", \"2013-11-17T00:00:00\", \"2013-11-17T00:00:00\", \"2013-11-17T00:00:00\", \"2013-11-17T00:00:00\", \"2013-11-17T00:00:00\", \"2013-11-17T00:00:00\", \"2014-07-02T00:00:00\", \"2014-07-02T00:00:00\", \"2014-07-02T00:00:00\", \"2014-07-02T00:00:00\", \"2014-07-02T00:00:00\", \"2014-07-02T00:00:00\", \"2014-07-02T00:00:00\"], \"xaxis\": \"x\", \"y\": [56.95, 188.48, 4551.6, 1450.17, 2998.52, 169.37, 118.22, 927.95, 365.35, 139.15, 1047.34, 325.63, 1544.22, 1048.19, 7730.51, 2135.91, 814.03, 34.84, 99.39, 948.95, 11.41, 9.9, 159.31, 1220.23, 80.21, 1549.78, 596.65, 285.7, 892.86, 615.06, 9.96, 33.82, 265.14, 13.95, 103.22, 10.85, 86.44, 5.78, 30.39, 1017.17, 593.39, 45.27, 17.92, 2019.81, 84.8, 40.84, 843.99, 30.86, 1262.1, 241.94, 127.83, 374.14, 1553.61, 473.67, 161.25, 273.83, 788.3, 2279.33, 64.81, 68.28, 968.71, 1925.57, 36.43, 57.24, 289.33, 297.69, 877.82, 550.79, 1634.5, 1004.14, 35.62, 273.21, 156.44, 515.31, 44.65, 710.97, 36.9, 356.48, 86.52, 14.26, 7.13, 176.12, 389.86, 893.72, 62.73, 530.58, 868.14, 1076.98, 243.56, 34.01, 786.37, 347.95, 452.1, 1103.7, 214.48, 62.75, 191.68, 18.02, 113.8, 3257.67, 233.58, 1105.52, 804.09, 5.81, 1.59, 73.29, 2088.06, 163.33, 1352.36, 525.86, 41.83, 202.93, 3466.5, 103.79, 61.57, 2494.42, 76.37, 5239.68, 726.54, 2215.04, 0.13, 584.81, 3009.57, 1201.89, 1316.67, 1428.46, 91.76, 805.39, 49.89, 181.04, 60.39, 440.6, 312.97, 182.59, 1220.55, 95.36, 62.42, 765.98, 388.88, 17.83, 214.87, 132.89, 83.65, 10.08, 29.04, 203.73, 25.26, 28.98, 307.56, 6.58, 180.03, 2393.09, 1821.36, 811.97, 5262.2, 11.11, 37.14, 42.44, 206.7, 556.19, 514.83, 298.75, 299.47, 1024.36, 18.04, 281.63, 2073.9, 40.62, 391.28, 306.0, 491.89, 228.75, 698.16, 141.41, 1401.26, 588.44, 34.82, 2727.29, 847.36, 193.35, 74.23, 50.72, 1643.52, 400.78, 48.96, 644.55, 32.34, 311.27, 690.04, 229.09, 12.42, 87.09, 120.1, 339.89, 111.35, 1795.57, 327.84, 1363.55, 3373.37, 4347.98, 1683.91, 18.77, 794.94, 760.13, 2829.14, 4025.81, 3587.32, 1635.0, 713.72, 99.67, 1414.17, 2811.04, 546.18, 353.2, 186.61, 2268.04, 1842.47, 45.06, 1232.1, 59.62, 2948.6, 123.8, 560.71, 1115.7, 94.86, 5731.42, 2970.48, 426.17, 3548.15], \"yaxis\": \"y\"}],                        {\"legend\": {\"tracegroupgap\": 0}, \"margin\": {\"t\": 60}, \"template\": {\"data\": {\"bar\": [{\"error_x\": {\"color\": \"#2a3f5f\"}, \"error_y\": {\"color\": \"#2a3f5f\"}, \"marker\": {\"line\": {\"color\": \"#E5ECF6\", \"width\": 0.5}}, \"type\": \"bar\"}], \"barpolar\": [{\"marker\": {\"line\": {\"color\": \"#E5ECF6\", \"width\": 0.5}}, \"type\": \"barpolar\"}], \"carpet\": [{\"aaxis\": {\"endlinecolor\": \"#2a3f5f\", \"gridcolor\": \"white\", \"linecolor\": \"white\", \"minorgridcolor\": \"white\", \"startlinecolor\": \"#2a3f5f\"}, \"baxis\": {\"endlinecolor\": \"#2a3f5f\", \"gridcolor\": \"white\", \"linecolor\": \"white\", \"minorgridcolor\": \"white\", \"startlinecolor\": \"#2a3f5f\"}, \"type\": \"carpet\"}], \"choropleth\": [{\"colorbar\": {\"outlinewidth\": 0, \"ticks\": \"\"}, \"type\": \"choropleth\"}], \"contour\": [{\"colorbar\": {\"outlinewidth\": 0, \"ticks\": \"\"}, \"colorscale\": [[0.0, \"#0d0887\"], [0.1111111111111111, \"#46039f\"], [0.2222222222222222, \"#7201a8\"], [0.3333333333333333, \"#9c179e\"], [0.4444444444444444, \"#bd3786\"], [0.5555555555555556, \"#d8576b\"], [0.6666666666666666, \"#ed7953\"], [0.7777777777777778, \"#fb9f3a\"], [0.8888888888888888, \"#fdca26\"], [1.0, \"#f0f921\"]], \"type\": \"contour\"}], \"contourcarpet\": [{\"colorbar\": {\"outlinewidth\": 0, \"ticks\": \"\"}, \"type\": \"contourcarpet\"}], \"heatmap\": [{\"colorbar\": {\"outlinewidth\": 0, \"ticks\": \"\"}, \"colorscale\": [[0.0, \"#0d0887\"], [0.1111111111111111, \"#46039f\"], [0.2222222222222222, \"#7201a8\"], [0.3333333333333333, \"#9c179e\"], [0.4444444444444444, \"#bd3786\"], [0.5555555555555556, \"#d8576b\"], [0.6666666666666666, \"#ed7953\"], [0.7777777777777778, \"#fb9f3a\"], [0.8888888888888888, \"#fdca26\"], [1.0, \"#f0f921\"]], \"type\": \"heatmap\"}], \"heatmapgl\": [{\"colorbar\": {\"outlinewidth\": 0, \"ticks\": \"\"}, \"colorscale\": [[0.0, \"#0d0887\"], [0.1111111111111111, \"#46039f\"], [0.2222222222222222, \"#7201a8\"], [0.3333333333333333, \"#9c179e\"], [0.4444444444444444, \"#bd3786\"], [0.5555555555555556, \"#d8576b\"], [0.6666666666666666, \"#ed7953\"], [0.7777777777777778, \"#fb9f3a\"], [0.8888888888888888, \"#fdca26\"], [1.0, \"#f0f921\"]], \"type\": \"heatmapgl\"}], \"histogram\": [{\"marker\": {\"colorbar\": {\"outlinewidth\": 0, \"ticks\": \"\"}}, \"type\": \"histogram\"}], \"histogram2d\": [{\"colorbar\": {\"outlinewidth\": 0, \"ticks\": \"\"}, \"colorscale\": [[0.0, \"#0d0887\"], [0.1111111111111111, \"#46039f\"], [0.2222222222222222, \"#7201a8\"], [0.3333333333333333, \"#9c179e\"], [0.4444444444444444, \"#bd3786\"], [0.5555555555555556, \"#d8576b\"], [0.6666666666666666, \"#ed7953\"], [0.7777777777777778, \"#fb9f3a\"], [0.8888888888888888, \"#fdca26\"], [1.0, \"#f0f921\"]], \"type\": \"histogram2d\"}], \"histogram2dcontour\": [{\"colorbar\": {\"outlinewidth\": 0, \"ticks\": \"\"}, \"colorscale\": [[0.0, \"#0d0887\"], [0.1111111111111111, \"#46039f\"], [0.2222222222222222, \"#7201a8\"], [0.3333333333333333, \"#9c179e\"], [0.4444444444444444, \"#bd3786\"], [0.5555555555555556, \"#d8576b\"], [0.6666666666666666, \"#ed7953\"], [0.7777777777777778, \"#fb9f3a\"], [0.8888888888888888, \"#fdca26\"], [1.0, \"#f0f921\"]], \"type\": \"histogram2dcontour\"}], \"mesh3d\": [{\"colorbar\": {\"outlinewidth\": 0, \"ticks\": \"\"}, \"type\": \"mesh3d\"}], \"parcoords\": [{\"line\": {\"colorbar\": {\"outlinewidth\": 0, \"ticks\": \"\"}}, \"type\": \"parcoords\"}], \"pie\": [{\"automargin\": true, \"type\": \"pie\"}], \"scatter\": [{\"marker\": {\"colorbar\": {\"outlinewidth\": 0, \"ticks\": \"\"}}, \"type\": \"scatter\"}], \"scatter3d\": [{\"line\": {\"colorbar\": {\"outlinewidth\": 0, \"ticks\": \"\"}}, \"marker\": {\"colorbar\": {\"outlinewidth\": 0, \"ticks\": \"\"}}, \"type\": \"scatter3d\"}], \"scattercarpet\": [{\"marker\": {\"colorbar\": {\"outlinewidth\": 0, \"ticks\": \"\"}}, \"type\": \"scattercarpet\"}], \"scattergeo\": [{\"marker\": {\"colorbar\": {\"outlinewidth\": 0, \"ticks\": \"\"}}, \"type\": \"scattergeo\"}], \"scattergl\": [{\"marker\": {\"colorbar\": {\"outlinewidth\": 0, \"ticks\": \"\"}}, \"type\": \"scattergl\"}], \"scattermapbox\": [{\"marker\": {\"colorbar\": {\"outlinewidth\": 0, \"ticks\": \"\"}}, \"type\": \"scattermapbox\"}], \"scatterpolar\": [{\"marker\": {\"colorbar\": {\"outlinewidth\": 0, \"ticks\": \"\"}}, \"type\": \"scatterpolar\"}], \"scatterpolargl\": [{\"marker\": {\"colorbar\": {\"outlinewidth\": 0, \"ticks\": \"\"}}, \"type\": \"scatterpolargl\"}], \"scatterternary\": [{\"marker\": {\"colorbar\": {\"outlinewidth\": 0, \"ticks\": \"\"}}, \"type\": \"scatterternary\"}], \"surface\": [{\"colorbar\": {\"outlinewidth\": 0, \"ticks\": \"\"}, \"colorscale\": [[0.0, \"#0d0887\"], [0.1111111111111111, \"#46039f\"], [0.2222222222222222, \"#7201a8\"], [0.3333333333333333, \"#9c179e\"], [0.4444444444444444, \"#bd3786\"], [0.5555555555555556, \"#d8576b\"], [0.6666666666666666, \"#ed7953\"], [0.7777777777777778, \"#fb9f3a\"], [0.8888888888888888, \"#fdca26\"], [1.0, \"#f0f921\"]], \"type\": \"surface\"}], \"table\": [{\"cells\": {\"fill\": {\"color\": \"#EBF0F8\"}, \"line\": {\"color\": \"white\"}}, \"header\": {\"fill\": {\"color\": \"#C8D4E3\"}, \"line\": {\"color\": \"white\"}}, \"type\": \"table\"}]}, \"layout\": {\"annotationdefaults\": {\"arrowcolor\": \"#2a3f5f\", \"arrowhead\": 0, \"arrowwidth\": 1}, \"coloraxis\": {\"colorbar\": {\"outlinewidth\": 0, \"ticks\": \"\"}}, \"colorscale\": {\"diverging\": [[0, \"#8e0152\"], [0.1, \"#c51b7d\"], [0.2, \"#de77ae\"], [0.3, \"#f1b6da\"], [0.4, \"#fde0ef\"], [0.5, \"#f7f7f7\"], [0.6, \"#e6f5d0\"], [0.7, \"#b8e186\"], [0.8, \"#7fbc41\"], [0.9, \"#4d9221\"], [1, \"#276419\"]], \"sequential\": [[0.0, \"#0d0887\"], [0.1111111111111111, \"#46039f\"], [0.2222222222222222, \"#7201a8\"], [0.3333333333333333, \"#9c179e\"], [0.4444444444444444, \"#bd3786\"], [0.5555555555555556, \"#d8576b\"], [0.6666666666666666, \"#ed7953\"], [0.7777777777777778, \"#fb9f3a\"], [0.8888888888888888, \"#fdca26\"], [1.0, \"#f0f921\"]], \"sequentialminus\": [[0.0, \"#0d0887\"], [0.1111111111111111, \"#46039f\"], [0.2222222222222222, \"#7201a8\"], [0.3333333333333333, \"#9c179e\"], [0.4444444444444444, \"#bd3786\"], [0.5555555555555556, \"#d8576b\"], [0.6666666666666666, \"#ed7953\"], [0.7777777777777778, \"#fb9f3a\"], [0.8888888888888888, \"#fdca26\"], [1.0, \"#f0f921\"]]}, \"colorway\": [\"#636efa\", \"#EF553B\", \"#00cc96\", \"#ab63fa\", \"#FFA15A\", \"#19d3f3\", \"#FF6692\", \"#B6E880\", \"#FF97FF\", \"#FECB52\"], \"font\": {\"color\": \"#2a3f5f\"}, \"geo\": {\"bgcolor\": \"white\", \"lakecolor\": \"white\", \"landcolor\": \"#E5ECF6\", \"showlakes\": true, \"showland\": true, \"subunitcolor\": \"white\"}, \"hoverlabel\": {\"align\": \"left\"}, \"hovermode\": \"closest\", \"mapbox\": {\"style\": \"light\"}, \"paper_bgcolor\": \"white\", \"plot_bgcolor\": \"#E5ECF6\", \"polar\": {\"angularaxis\": {\"gridcolor\": \"white\", \"linecolor\": \"white\", \"ticks\": \"\"}, \"bgcolor\": \"#E5ECF6\", \"radialaxis\": {\"gridcolor\": \"white\", \"linecolor\": \"white\", \"ticks\": \"\"}}, \"scene\": {\"xaxis\": {\"backgroundcolor\": \"#E5ECF6\", \"gridcolor\": \"white\", \"gridwidth\": 2, \"linecolor\": \"white\", \"showbackground\": true, \"ticks\": \"\", \"zerolinecolor\": \"white\"}, \"yaxis\": {\"backgroundcolor\": \"#E5ECF6\", \"gridcolor\": \"white\", \"gridwidth\": 2, \"linecolor\": \"white\", \"showbackground\": true, \"ticks\": \"\", \"zerolinecolor\": \"white\"}, \"zaxis\": {\"backgroundcolor\": \"#E5ECF6\", \"gridcolor\": \"white\", \"gridwidth\": 2, \"linecolor\": \"white\", \"showbackground\": true, \"ticks\": \"\", \"zerolinecolor\": \"white\"}}, \"shapedefaults\": {\"line\": {\"color\": \"#2a3f5f\"}}, \"ternary\": {\"aaxis\": {\"gridcolor\": \"white\", \"linecolor\": \"white\", \"ticks\": \"\"}, \"baxis\": {\"gridcolor\": \"white\", \"linecolor\": \"white\", \"ticks\": \"\"}, \"bgcolor\": \"#E5ECF6\", \"caxis\": {\"gridcolor\": \"white\", \"linecolor\": \"white\", \"ticks\": \"\"}}, \"title\": {\"x\": 0.05}, \"xaxis\": {\"automargin\": true, \"gridcolor\": \"white\", \"linecolor\": \"white\", \"ticks\": \"\", \"title\": {\"standoff\": 15}, \"zerolinecolor\": \"white\", \"zerolinewidth\": 2}, \"yaxis\": {\"automargin\": true, \"gridcolor\": \"white\", \"linecolor\": \"white\", \"ticks\": \"\", \"title\": {\"standoff\": 15}, \"zerolinecolor\": \"white\", \"zerolinewidth\": 2}}}, \"xaxis\": {\"anchor\": \"y\", \"domain\": [0.0, 1.0], \"title\": {\"text\": \"date\"}}, \"yaxis\": {\"anchor\": \"x\", \"domain\": [0.0, 1.0], \"title\": {\"text\": \"eacl_prv_alcrg_at\"}}},                        {\"responsive\": true}                    ).then(function(){\n",
       "                            \n",
       "var gd = document.getElementById('9aa49a2c-403a-41c2-8469-1e5c55148250');\n",
       "var x = new MutationObserver(function (mutations, observer) {{\n",
       "        var display = window.getComputedStyle(gd).display;\n",
       "        if (!display || display === 'none') {{\n",
       "            console.log([gd, 'removed!']);\n",
       "            Plotly.purge(gd);\n",
       "            observer.disconnect();\n",
       "        }}\n",
       "}});\n",
       "\n",
       "// Listen for the removal of the full notebook cells\n",
       "var notebookContainer = gd.closest('#notebook-container');\n",
       "if (notebookContainer) {{\n",
       "    x.observe(notebookContainer, {childList: true});\n",
       "}}\n",
       "\n",
       "// Listen for the clearing of the current output cell\n",
       "var outputEl = gd.closest('.output');\n",
       "if (outputEl) {{\n",
       "    x.observe(outputEl, {childList: true});\n",
       "}}\n",
       "\n",
       "                        })                };                });            </script>        </div>"
      ]
     },
     "metadata": {},
     "output_type": "display_data"
    },
    {
     "data": {
      "application/vnd.plotly.v1+json": {
       "config": {
        "plotlyServerURL": "https://plot.ly"
       },
       "data": [
        {
         "customdata": [
          [
           "TMA_Lab_Serum"
          ],
          [
           "TMA_Lab_Serum"
          ],
          [
           "TMA_Lab_Serum"
          ],
          [
           "TMA_Lab_Serum"
          ],
          [
           "TMA_Lab_Serum"
          ]
         ],
         "hovertemplate": "date=%{x}<br>egfr=%{y}<br>source=%{customdata[0]}<extra></extra>",
         "legendgroup": "",
         "marker": {
          "color": "#636efa",
          "symbol": "circle"
         },
         "mode": "markers",
         "name": "",
         "orientation": "v",
         "showlegend": false,
         "type": "scatter",
         "x": [
          "2013-12-21",
          "2013-12-23",
          "2013-12-26",
          "2015-05-11",
          "2015-09-16"
         ],
         "xaxis": "x",
         "y": [
          78.18726004559231,
          89.70449105322815,
          78.18726004559231,
          49.35020977055056,
          44.396901657091455
         ],
         "yaxis": "y"
        }
       ],
       "layout": {
        "legend": {
         "tracegroupgap": 0
        },
        "margin": {
         "t": 60
        },
        "template": {
         "data": {
          "bar": [
           {
            "error_x": {
             "color": "#2a3f5f"
            },
            "error_y": {
             "color": "#2a3f5f"
            },
            "marker": {
             "line": {
              "color": "#E5ECF6",
              "width": 0.5
             }
            },
            "type": "bar"
           }
          ],
          "barpolar": [
           {
            "marker": {
             "line": {
              "color": "#E5ECF6",
              "width": 0.5
             }
            },
            "type": "barpolar"
           }
          ],
          "carpet": [
           {
            "aaxis": {
             "endlinecolor": "#2a3f5f",
             "gridcolor": "white",
             "linecolor": "white",
             "minorgridcolor": "white",
             "startlinecolor": "#2a3f5f"
            },
            "baxis": {
             "endlinecolor": "#2a3f5f",
             "gridcolor": "white",
             "linecolor": "white",
             "minorgridcolor": "white",
             "startlinecolor": "#2a3f5f"
            },
            "type": "carpet"
           }
          ],
          "choropleth": [
           {
            "colorbar": {
             "outlinewidth": 0,
             "ticks": ""
            },
            "type": "choropleth"
           }
          ],
          "contour": [
           {
            "colorbar": {
             "outlinewidth": 0,
             "ticks": ""
            },
            "colorscale": [
             [
              0,
              "#0d0887"
             ],
             [
              0.1111111111111111,
              "#46039f"
             ],
             [
              0.2222222222222222,
              "#7201a8"
             ],
             [
              0.3333333333333333,
              "#9c179e"
             ],
             [
              0.4444444444444444,
              "#bd3786"
             ],
             [
              0.5555555555555556,
              "#d8576b"
             ],
             [
              0.6666666666666666,
              "#ed7953"
             ],
             [
              0.7777777777777778,
              "#fb9f3a"
             ],
             [
              0.8888888888888888,
              "#fdca26"
             ],
             [
              1,
              "#f0f921"
             ]
            ],
            "type": "contour"
           }
          ],
          "contourcarpet": [
           {
            "colorbar": {
             "outlinewidth": 0,
             "ticks": ""
            },
            "type": "contourcarpet"
           }
          ],
          "heatmap": [
           {
            "colorbar": {
             "outlinewidth": 0,
             "ticks": ""
            },
            "colorscale": [
             [
              0,
              "#0d0887"
             ],
             [
              0.1111111111111111,
              "#46039f"
             ],
             [
              0.2222222222222222,
              "#7201a8"
             ],
             [
              0.3333333333333333,
              "#9c179e"
             ],
             [
              0.4444444444444444,
              "#bd3786"
             ],
             [
              0.5555555555555556,
              "#d8576b"
             ],
             [
              0.6666666666666666,
              "#ed7953"
             ],
             [
              0.7777777777777778,
              "#fb9f3a"
             ],
             [
              0.8888888888888888,
              "#fdca26"
             ],
             [
              1,
              "#f0f921"
             ]
            ],
            "type": "heatmap"
           }
          ],
          "heatmapgl": [
           {
            "colorbar": {
             "outlinewidth": 0,
             "ticks": ""
            },
            "colorscale": [
             [
              0,
              "#0d0887"
             ],
             [
              0.1111111111111111,
              "#46039f"
             ],
             [
              0.2222222222222222,
              "#7201a8"
             ],
             [
              0.3333333333333333,
              "#9c179e"
             ],
             [
              0.4444444444444444,
              "#bd3786"
             ],
             [
              0.5555555555555556,
              "#d8576b"
             ],
             [
              0.6666666666666666,
              "#ed7953"
             ],
             [
              0.7777777777777778,
              "#fb9f3a"
             ],
             [
              0.8888888888888888,
              "#fdca26"
             ],
             [
              1,
              "#f0f921"
             ]
            ],
            "type": "heatmapgl"
           }
          ],
          "histogram": [
           {
            "marker": {
             "colorbar": {
              "outlinewidth": 0,
              "ticks": ""
             }
            },
            "type": "histogram"
           }
          ],
          "histogram2d": [
           {
            "colorbar": {
             "outlinewidth": 0,
             "ticks": ""
            },
            "colorscale": [
             [
              0,
              "#0d0887"
             ],
             [
              0.1111111111111111,
              "#46039f"
             ],
             [
              0.2222222222222222,
              "#7201a8"
             ],
             [
              0.3333333333333333,
              "#9c179e"
             ],
             [
              0.4444444444444444,
              "#bd3786"
             ],
             [
              0.5555555555555556,
              "#d8576b"
             ],
             [
              0.6666666666666666,
              "#ed7953"
             ],
             [
              0.7777777777777778,
              "#fb9f3a"
             ],
             [
              0.8888888888888888,
              "#fdca26"
             ],
             [
              1,
              "#f0f921"
             ]
            ],
            "type": "histogram2d"
           }
          ],
          "histogram2dcontour": [
           {
            "colorbar": {
             "outlinewidth": 0,
             "ticks": ""
            },
            "colorscale": [
             [
              0,
              "#0d0887"
             ],
             [
              0.1111111111111111,
              "#46039f"
             ],
             [
              0.2222222222222222,
              "#7201a8"
             ],
             [
              0.3333333333333333,
              "#9c179e"
             ],
             [
              0.4444444444444444,
              "#bd3786"
             ],
             [
              0.5555555555555556,
              "#d8576b"
             ],
             [
              0.6666666666666666,
              "#ed7953"
             ],
             [
              0.7777777777777778,
              "#fb9f3a"
             ],
             [
              0.8888888888888888,
              "#fdca26"
             ],
             [
              1,
              "#f0f921"
             ]
            ],
            "type": "histogram2dcontour"
           }
          ],
          "mesh3d": [
           {
            "colorbar": {
             "outlinewidth": 0,
             "ticks": ""
            },
            "type": "mesh3d"
           }
          ],
          "parcoords": [
           {
            "line": {
             "colorbar": {
              "outlinewidth": 0,
              "ticks": ""
             }
            },
            "type": "parcoords"
           }
          ],
          "pie": [
           {
            "automargin": true,
            "type": "pie"
           }
          ],
          "scatter": [
           {
            "marker": {
             "colorbar": {
              "outlinewidth": 0,
              "ticks": ""
             }
            },
            "type": "scatter"
           }
          ],
          "scatter3d": [
           {
            "line": {
             "colorbar": {
              "outlinewidth": 0,
              "ticks": ""
             }
            },
            "marker": {
             "colorbar": {
              "outlinewidth": 0,
              "ticks": ""
             }
            },
            "type": "scatter3d"
           }
          ],
          "scattercarpet": [
           {
            "marker": {
             "colorbar": {
              "outlinewidth": 0,
              "ticks": ""
             }
            },
            "type": "scattercarpet"
           }
          ],
          "scattergeo": [
           {
            "marker": {
             "colorbar": {
              "outlinewidth": 0,
              "ticks": ""
             }
            },
            "type": "scattergeo"
           }
          ],
          "scattergl": [
           {
            "marker": {
             "colorbar": {
              "outlinewidth": 0,
              "ticks": ""
             }
            },
            "type": "scattergl"
           }
          ],
          "scattermapbox": [
           {
            "marker": {
             "colorbar": {
              "outlinewidth": 0,
              "ticks": ""
             }
            },
            "type": "scattermapbox"
           }
          ],
          "scatterpolar": [
           {
            "marker": {
             "colorbar": {
              "outlinewidth": 0,
              "ticks": ""
             }
            },
            "type": "scatterpolar"
           }
          ],
          "scatterpolargl": [
           {
            "marker": {
             "colorbar": {
              "outlinewidth": 0,
              "ticks": ""
             }
            },
            "type": "scatterpolargl"
           }
          ],
          "scatterternary": [
           {
            "marker": {
             "colorbar": {
              "outlinewidth": 0,
              "ticks": ""
             }
            },
            "type": "scatterternary"
           }
          ],
          "surface": [
           {
            "colorbar": {
             "outlinewidth": 0,
             "ticks": ""
            },
            "colorscale": [
             [
              0,
              "#0d0887"
             ],
             [
              0.1111111111111111,
              "#46039f"
             ],
             [
              0.2222222222222222,
              "#7201a8"
             ],
             [
              0.3333333333333333,
              "#9c179e"
             ],
             [
              0.4444444444444444,
              "#bd3786"
             ],
             [
              0.5555555555555556,
              "#d8576b"
             ],
             [
              0.6666666666666666,
              "#ed7953"
             ],
             [
              0.7777777777777778,
              "#fb9f3a"
             ],
             [
              0.8888888888888888,
              "#fdca26"
             ],
             [
              1,
              "#f0f921"
             ]
            ],
            "type": "surface"
           }
          ],
          "table": [
           {
            "cells": {
             "fill": {
              "color": "#EBF0F8"
             },
             "line": {
              "color": "white"
             }
            },
            "header": {
             "fill": {
              "color": "#C8D4E3"
             },
             "line": {
              "color": "white"
             }
            },
            "type": "table"
           }
          ]
         },
         "layout": {
          "annotationdefaults": {
           "arrowcolor": "#2a3f5f",
           "arrowhead": 0,
           "arrowwidth": 1
          },
          "coloraxis": {
           "colorbar": {
            "outlinewidth": 0,
            "ticks": ""
           }
          },
          "colorscale": {
           "diverging": [
            [
             0,
             "#8e0152"
            ],
            [
             0.1,
             "#c51b7d"
            ],
            [
             0.2,
             "#de77ae"
            ],
            [
             0.3,
             "#f1b6da"
            ],
            [
             0.4,
             "#fde0ef"
            ],
            [
             0.5,
             "#f7f7f7"
            ],
            [
             0.6,
             "#e6f5d0"
            ],
            [
             0.7,
             "#b8e186"
            ],
            [
             0.8,
             "#7fbc41"
            ],
            [
             0.9,
             "#4d9221"
            ],
            [
             1,
             "#276419"
            ]
           ],
           "sequential": [
            [
             0,
             "#0d0887"
            ],
            [
             0.1111111111111111,
             "#46039f"
            ],
            [
             0.2222222222222222,
             "#7201a8"
            ],
            [
             0.3333333333333333,
             "#9c179e"
            ],
            [
             0.4444444444444444,
             "#bd3786"
            ],
            [
             0.5555555555555556,
             "#d8576b"
            ],
            [
             0.6666666666666666,
             "#ed7953"
            ],
            [
             0.7777777777777778,
             "#fb9f3a"
            ],
            [
             0.8888888888888888,
             "#fdca26"
            ],
            [
             1,
             "#f0f921"
            ]
           ],
           "sequentialminus": [
            [
             0,
             "#0d0887"
            ],
            [
             0.1111111111111111,
             "#46039f"
            ],
            [
             0.2222222222222222,
             "#7201a8"
            ],
            [
             0.3333333333333333,
             "#9c179e"
            ],
            [
             0.4444444444444444,
             "#bd3786"
            ],
            [
             0.5555555555555556,
             "#d8576b"
            ],
            [
             0.6666666666666666,
             "#ed7953"
            ],
            [
             0.7777777777777778,
             "#fb9f3a"
            ],
            [
             0.8888888888888888,
             "#fdca26"
            ],
            [
             1,
             "#f0f921"
            ]
           ]
          },
          "colorway": [
           "#636efa",
           "#EF553B",
           "#00cc96",
           "#ab63fa",
           "#FFA15A",
           "#19d3f3",
           "#FF6692",
           "#B6E880",
           "#FF97FF",
           "#FECB52"
          ],
          "font": {
           "color": "#2a3f5f"
          },
          "geo": {
           "bgcolor": "white",
           "lakecolor": "white",
           "landcolor": "#E5ECF6",
           "showlakes": true,
           "showland": true,
           "subunitcolor": "white"
          },
          "hoverlabel": {
           "align": "left"
          },
          "hovermode": "closest",
          "mapbox": {
           "style": "light"
          },
          "paper_bgcolor": "white",
          "plot_bgcolor": "#E5ECF6",
          "polar": {
           "angularaxis": {
            "gridcolor": "white",
            "linecolor": "white",
            "ticks": ""
           },
           "bgcolor": "#E5ECF6",
           "radialaxis": {
            "gridcolor": "white",
            "linecolor": "white",
            "ticks": ""
           }
          },
          "scene": {
           "xaxis": {
            "backgroundcolor": "#E5ECF6",
            "gridcolor": "white",
            "gridwidth": 2,
            "linecolor": "white",
            "showbackground": true,
            "ticks": "",
            "zerolinecolor": "white"
           },
           "yaxis": {
            "backgroundcolor": "#E5ECF6",
            "gridcolor": "white",
            "gridwidth": 2,
            "linecolor": "white",
            "showbackground": true,
            "ticks": "",
            "zerolinecolor": "white"
           },
           "zaxis": {
            "backgroundcolor": "#E5ECF6",
            "gridcolor": "white",
            "gridwidth": 2,
            "linecolor": "white",
            "showbackground": true,
            "ticks": "",
            "zerolinecolor": "white"
           }
          },
          "shapedefaults": {
           "line": {
            "color": "#2a3f5f"
           }
          },
          "ternary": {
           "aaxis": {
            "gridcolor": "white",
            "linecolor": "white",
            "ticks": ""
           },
           "baxis": {
            "gridcolor": "white",
            "linecolor": "white",
            "ticks": ""
           },
           "bgcolor": "#E5ECF6",
           "caxis": {
            "gridcolor": "white",
            "linecolor": "white",
            "ticks": ""
           }
          },
          "title": {
           "x": 0.05
          },
          "xaxis": {
           "automargin": true,
           "gridcolor": "white",
           "linecolor": "white",
           "ticks": "",
           "title": {
            "standoff": 15
           },
           "zerolinecolor": "white",
           "zerolinewidth": 2
          },
          "yaxis": {
           "automargin": true,
           "gridcolor": "white",
           "linecolor": "white",
           "ticks": "",
           "title": {
            "standoff": 15
           },
           "zerolinecolor": "white",
           "zerolinewidth": 2
          }
         }
        },
        "xaxis": {
         "anchor": "y",
         "domain": [
          0,
          1
         ],
         "title": {
          "text": "date"
         }
        },
        "yaxis": {
         "anchor": "x",
         "domain": [
          0,
          1
         ],
         "title": {
          "text": "egfr"
         }
        }
       }
      },
      "text/html": [
       "<div>                            <div id=\"8256c6a6-c4ff-47dc-abdb-392efc838281\" class=\"plotly-graph-div\" style=\"height:525px; width:100%;\"></div>            <script type=\"text/javascript\">                require([\"plotly\"], function(Plotly) {                    window.PLOTLYENV=window.PLOTLYENV || {};                                    if (document.getElementById(\"8256c6a6-c4ff-47dc-abdb-392efc838281\")) {                    Plotly.newPlot(                        \"8256c6a6-c4ff-47dc-abdb-392efc838281\",                        [{\"customdata\": [[\"TMA_Lab_Serum\"], [\"TMA_Lab_Serum\"], [\"TMA_Lab_Serum\"], [\"TMA_Lab_Serum\"], [\"TMA_Lab_Serum\"]], \"hovertemplate\": \"date=%{x}<br>egfr=%{y}<br>source=%{customdata[0]}<extra></extra>\", \"legendgroup\": \"\", \"marker\": {\"color\": \"#636efa\", \"symbol\": \"circle\"}, \"mode\": \"markers\", \"name\": \"\", \"orientation\": \"v\", \"showlegend\": false, \"type\": \"scatter\", \"x\": [\"2013-12-21\", \"2013-12-23\", \"2013-12-26\", \"2015-05-11\", \"2015-09-16\"], \"xaxis\": \"x\", \"y\": [78.18726004559231, 89.70449105322815, 78.18726004559231, 49.35020977055056, 44.396901657091455], \"yaxis\": \"y\"}],                        {\"legend\": {\"tracegroupgap\": 0}, \"margin\": {\"t\": 60}, \"template\": {\"data\": {\"bar\": [{\"error_x\": {\"color\": \"#2a3f5f\"}, \"error_y\": {\"color\": \"#2a3f5f\"}, \"marker\": {\"line\": {\"color\": \"#E5ECF6\", \"width\": 0.5}}, \"type\": \"bar\"}], \"barpolar\": [{\"marker\": {\"line\": {\"color\": \"#E5ECF6\", \"width\": 0.5}}, \"type\": \"barpolar\"}], \"carpet\": [{\"aaxis\": {\"endlinecolor\": \"#2a3f5f\", \"gridcolor\": \"white\", \"linecolor\": \"white\", \"minorgridcolor\": \"white\", \"startlinecolor\": \"#2a3f5f\"}, \"baxis\": {\"endlinecolor\": \"#2a3f5f\", \"gridcolor\": \"white\", \"linecolor\": \"white\", \"minorgridcolor\": \"white\", \"startlinecolor\": \"#2a3f5f\"}, \"type\": \"carpet\"}], \"choropleth\": [{\"colorbar\": {\"outlinewidth\": 0, \"ticks\": \"\"}, \"type\": \"choropleth\"}], \"contour\": [{\"colorbar\": {\"outlinewidth\": 0, \"ticks\": \"\"}, \"colorscale\": [[0.0, \"#0d0887\"], [0.1111111111111111, \"#46039f\"], [0.2222222222222222, \"#7201a8\"], [0.3333333333333333, \"#9c179e\"], [0.4444444444444444, \"#bd3786\"], [0.5555555555555556, \"#d8576b\"], [0.6666666666666666, \"#ed7953\"], [0.7777777777777778, \"#fb9f3a\"], [0.8888888888888888, \"#fdca26\"], [1.0, \"#f0f921\"]], \"type\": \"contour\"}], \"contourcarpet\": [{\"colorbar\": {\"outlinewidth\": 0, \"ticks\": \"\"}, \"type\": \"contourcarpet\"}], \"heatmap\": [{\"colorbar\": {\"outlinewidth\": 0, \"ticks\": \"\"}, \"colorscale\": [[0.0, \"#0d0887\"], [0.1111111111111111, \"#46039f\"], [0.2222222222222222, \"#7201a8\"], [0.3333333333333333, \"#9c179e\"], [0.4444444444444444, \"#bd3786\"], [0.5555555555555556, \"#d8576b\"], [0.6666666666666666, \"#ed7953\"], [0.7777777777777778, \"#fb9f3a\"], [0.8888888888888888, \"#fdca26\"], [1.0, \"#f0f921\"]], \"type\": \"heatmap\"}], \"heatmapgl\": [{\"colorbar\": {\"outlinewidth\": 0, \"ticks\": \"\"}, \"colorscale\": [[0.0, \"#0d0887\"], [0.1111111111111111, \"#46039f\"], [0.2222222222222222, \"#7201a8\"], [0.3333333333333333, \"#9c179e\"], [0.4444444444444444, \"#bd3786\"], [0.5555555555555556, \"#d8576b\"], [0.6666666666666666, \"#ed7953\"], [0.7777777777777778, \"#fb9f3a\"], [0.8888888888888888, \"#fdca26\"], [1.0, \"#f0f921\"]], \"type\": \"heatmapgl\"}], \"histogram\": [{\"marker\": {\"colorbar\": {\"outlinewidth\": 0, \"ticks\": \"\"}}, \"type\": \"histogram\"}], \"histogram2d\": [{\"colorbar\": {\"outlinewidth\": 0, \"ticks\": \"\"}, \"colorscale\": [[0.0, \"#0d0887\"], [0.1111111111111111, \"#46039f\"], [0.2222222222222222, \"#7201a8\"], [0.3333333333333333, \"#9c179e\"], [0.4444444444444444, \"#bd3786\"], [0.5555555555555556, \"#d8576b\"], [0.6666666666666666, \"#ed7953\"], [0.7777777777777778, \"#fb9f3a\"], [0.8888888888888888, \"#fdca26\"], [1.0, \"#f0f921\"]], \"type\": \"histogram2d\"}], \"histogram2dcontour\": [{\"colorbar\": {\"outlinewidth\": 0, \"ticks\": \"\"}, \"colorscale\": [[0.0, \"#0d0887\"], [0.1111111111111111, \"#46039f\"], [0.2222222222222222, \"#7201a8\"], [0.3333333333333333, \"#9c179e\"], [0.4444444444444444, \"#bd3786\"], [0.5555555555555556, \"#d8576b\"], [0.6666666666666666, \"#ed7953\"], [0.7777777777777778, \"#fb9f3a\"], [0.8888888888888888, \"#fdca26\"], [1.0, \"#f0f921\"]], \"type\": \"histogram2dcontour\"}], \"mesh3d\": [{\"colorbar\": {\"outlinewidth\": 0, \"ticks\": \"\"}, \"type\": \"mesh3d\"}], \"parcoords\": [{\"line\": {\"colorbar\": {\"outlinewidth\": 0, \"ticks\": \"\"}}, \"type\": \"parcoords\"}], \"pie\": [{\"automargin\": true, \"type\": \"pie\"}], \"scatter\": [{\"marker\": {\"colorbar\": {\"outlinewidth\": 0, \"ticks\": \"\"}}, \"type\": \"scatter\"}], \"scatter3d\": [{\"line\": {\"colorbar\": {\"outlinewidth\": 0, \"ticks\": \"\"}}, \"marker\": {\"colorbar\": {\"outlinewidth\": 0, \"ticks\": \"\"}}, \"type\": \"scatter3d\"}], \"scattercarpet\": [{\"marker\": {\"colorbar\": {\"outlinewidth\": 0, \"ticks\": \"\"}}, \"type\": \"scattercarpet\"}], \"scattergeo\": [{\"marker\": {\"colorbar\": {\"outlinewidth\": 0, \"ticks\": \"\"}}, \"type\": \"scattergeo\"}], \"scattergl\": [{\"marker\": {\"colorbar\": {\"outlinewidth\": 0, \"ticks\": \"\"}}, \"type\": \"scattergl\"}], \"scattermapbox\": [{\"marker\": {\"colorbar\": {\"outlinewidth\": 0, \"ticks\": \"\"}}, \"type\": \"scattermapbox\"}], \"scatterpolar\": [{\"marker\": {\"colorbar\": {\"outlinewidth\": 0, \"ticks\": \"\"}}, \"type\": \"scatterpolar\"}], \"scatterpolargl\": [{\"marker\": {\"colorbar\": {\"outlinewidth\": 0, \"ticks\": \"\"}}, \"type\": \"scatterpolargl\"}], \"scatterternary\": [{\"marker\": {\"colorbar\": {\"outlinewidth\": 0, \"ticks\": \"\"}}, \"type\": \"scatterternary\"}], \"surface\": [{\"colorbar\": {\"outlinewidth\": 0, \"ticks\": \"\"}, \"colorscale\": [[0.0, \"#0d0887\"], [0.1111111111111111, \"#46039f\"], [0.2222222222222222, \"#7201a8\"], [0.3333333333333333, \"#9c179e\"], [0.4444444444444444, \"#bd3786\"], [0.5555555555555556, \"#d8576b\"], [0.6666666666666666, \"#ed7953\"], [0.7777777777777778, \"#fb9f3a\"], [0.8888888888888888, \"#fdca26\"], [1.0, \"#f0f921\"]], \"type\": \"surface\"}], \"table\": [{\"cells\": {\"fill\": {\"color\": \"#EBF0F8\"}, \"line\": {\"color\": \"white\"}}, \"header\": {\"fill\": {\"color\": \"#C8D4E3\"}, \"line\": {\"color\": \"white\"}}, \"type\": \"table\"}]}, \"layout\": {\"annotationdefaults\": {\"arrowcolor\": \"#2a3f5f\", \"arrowhead\": 0, \"arrowwidth\": 1}, \"coloraxis\": {\"colorbar\": {\"outlinewidth\": 0, \"ticks\": \"\"}}, \"colorscale\": {\"diverging\": [[0, \"#8e0152\"], [0.1, \"#c51b7d\"], [0.2, \"#de77ae\"], [0.3, \"#f1b6da\"], [0.4, \"#fde0ef\"], [0.5, \"#f7f7f7\"], [0.6, \"#e6f5d0\"], [0.7, \"#b8e186\"], [0.8, \"#7fbc41\"], [0.9, \"#4d9221\"], [1, \"#276419\"]], \"sequential\": [[0.0, \"#0d0887\"], [0.1111111111111111, \"#46039f\"], [0.2222222222222222, \"#7201a8\"], [0.3333333333333333, \"#9c179e\"], [0.4444444444444444, \"#bd3786\"], [0.5555555555555556, \"#d8576b\"], [0.6666666666666666, \"#ed7953\"], [0.7777777777777778, \"#fb9f3a\"], [0.8888888888888888, \"#fdca26\"], [1.0, \"#f0f921\"]], \"sequentialminus\": [[0.0, \"#0d0887\"], [0.1111111111111111, \"#46039f\"], [0.2222222222222222, \"#7201a8\"], [0.3333333333333333, \"#9c179e\"], [0.4444444444444444, \"#bd3786\"], [0.5555555555555556, \"#d8576b\"], [0.6666666666666666, \"#ed7953\"], [0.7777777777777778, \"#fb9f3a\"], [0.8888888888888888, \"#fdca26\"], [1.0, \"#f0f921\"]]}, \"colorway\": [\"#636efa\", \"#EF553B\", \"#00cc96\", \"#ab63fa\", \"#FFA15A\", \"#19d3f3\", \"#FF6692\", \"#B6E880\", \"#FF97FF\", \"#FECB52\"], \"font\": {\"color\": \"#2a3f5f\"}, \"geo\": {\"bgcolor\": \"white\", \"lakecolor\": \"white\", \"landcolor\": \"#E5ECF6\", \"showlakes\": true, \"showland\": true, \"subunitcolor\": \"white\"}, \"hoverlabel\": {\"align\": \"left\"}, \"hovermode\": \"closest\", \"mapbox\": {\"style\": \"light\"}, \"paper_bgcolor\": \"white\", \"plot_bgcolor\": \"#E5ECF6\", \"polar\": {\"angularaxis\": {\"gridcolor\": \"white\", \"linecolor\": \"white\", \"ticks\": \"\"}, \"bgcolor\": \"#E5ECF6\", \"radialaxis\": {\"gridcolor\": \"white\", \"linecolor\": \"white\", \"ticks\": \"\"}}, \"scene\": {\"xaxis\": {\"backgroundcolor\": \"#E5ECF6\", \"gridcolor\": \"white\", \"gridwidth\": 2, \"linecolor\": \"white\", \"showbackground\": true, \"ticks\": \"\", \"zerolinecolor\": \"white\"}, \"yaxis\": {\"backgroundcolor\": \"#E5ECF6\", \"gridcolor\": \"white\", \"gridwidth\": 2, \"linecolor\": \"white\", \"showbackground\": true, \"ticks\": \"\", \"zerolinecolor\": \"white\"}, \"zaxis\": {\"backgroundcolor\": \"#E5ECF6\", \"gridcolor\": \"white\", \"gridwidth\": 2, \"linecolor\": \"white\", \"showbackground\": true, \"ticks\": \"\", \"zerolinecolor\": \"white\"}}, \"shapedefaults\": {\"line\": {\"color\": \"#2a3f5f\"}}, \"ternary\": {\"aaxis\": {\"gridcolor\": \"white\", \"linecolor\": \"white\", \"ticks\": \"\"}, \"baxis\": {\"gridcolor\": \"white\", \"linecolor\": \"white\", \"ticks\": \"\"}, \"bgcolor\": \"#E5ECF6\", \"caxis\": {\"gridcolor\": \"white\", \"linecolor\": \"white\", \"ticks\": \"\"}}, \"title\": {\"x\": 0.05}, \"xaxis\": {\"automargin\": true, \"gridcolor\": \"white\", \"linecolor\": \"white\", \"ticks\": \"\", \"title\": {\"standoff\": 15}, \"zerolinecolor\": \"white\", \"zerolinewidth\": 2}, \"yaxis\": {\"automargin\": true, \"gridcolor\": \"white\", \"linecolor\": \"white\", \"ticks\": \"\", \"title\": {\"standoff\": 15}, \"zerolinecolor\": \"white\", \"zerolinewidth\": 2}}}, \"xaxis\": {\"anchor\": \"y\", \"domain\": [0.0, 1.0], \"title\": {\"text\": \"date\"}}, \"yaxis\": {\"anchor\": \"x\", \"domain\": [0.0, 1.0], \"title\": {\"text\": \"egfr\"}}},                        {\"responsive\": true}                    ).then(function(){\n",
       "                            \n",
       "var gd = document.getElementById('8256c6a6-c4ff-47dc-abdb-392efc838281');\n",
       "var x = new MutationObserver(function (mutations, observer) {{\n",
       "        var display = window.getComputedStyle(gd).display;\n",
       "        if (!display || display === 'none') {{\n",
       "            console.log([gd, 'removed!']);\n",
       "            Plotly.purge(gd);\n",
       "            observer.disconnect();\n",
       "        }}\n",
       "}});\n",
       "\n",
       "// Listen for the removal of the full notebook cells\n",
       "var notebookContainer = gd.closest('#notebook-container');\n",
       "if (notebookContainer) {{\n",
       "    x.observe(notebookContainer, {childList: true});\n",
       "}}\n",
       "\n",
       "// Listen for the clearing of the current output cell\n",
       "var outputEl = gd.closest('.output');\n",
       "if (outputEl) {{\n",
       "    x.observe(outputEl, {childList: true});\n",
       "}}\n",
       "\n",
       "                        })                };                });            </script>        </div>"
      ]
     },
     "metadata": {},
     "output_type": "display_data"
    },
    {
     "name": "stderr",
     "output_type": "stream",
     "text": [
      "C:\\Users\\Joyqiao\\anaconda3\\lib\\site-packages\\IPython\\core\\interactiveshell.py:3254: DtypeWarning:\n",
      "\n",
      "Columns (10,12,13,14,15,16,17,18,19,20,21,23,25,39,40,41,42,43,44,45,46,47,48,49,52,53) have mixed types.Specify dtype option on import or set low_memory=False.\n",
      "\n"
     ]
    },
    {
     "data": {
      "application/vnd.plotly.v1+json": {
       "config": {
        "plotlyServerURL": "https://plot.ly"
       },
       "data": [],
       "layout": {
        "legend": {
         "tracegroupgap": 0
        },
        "margin": {
         "t": 60
        },
        "template": {
         "data": {
          "bar": [
           {
            "error_x": {
             "color": "#2a3f5f"
            },
            "error_y": {
             "color": "#2a3f5f"
            },
            "marker": {
             "line": {
              "color": "#E5ECF6",
              "width": 0.5
             }
            },
            "type": "bar"
           }
          ],
          "barpolar": [
           {
            "marker": {
             "line": {
              "color": "#E5ECF6",
              "width": 0.5
             }
            },
            "type": "barpolar"
           }
          ],
          "carpet": [
           {
            "aaxis": {
             "endlinecolor": "#2a3f5f",
             "gridcolor": "white",
             "linecolor": "white",
             "minorgridcolor": "white",
             "startlinecolor": "#2a3f5f"
            },
            "baxis": {
             "endlinecolor": "#2a3f5f",
             "gridcolor": "white",
             "linecolor": "white",
             "minorgridcolor": "white",
             "startlinecolor": "#2a3f5f"
            },
            "type": "carpet"
           }
          ],
          "choropleth": [
           {
            "colorbar": {
             "outlinewidth": 0,
             "ticks": ""
            },
            "type": "choropleth"
           }
          ],
          "contour": [
           {
            "colorbar": {
             "outlinewidth": 0,
             "ticks": ""
            },
            "colorscale": [
             [
              0,
              "#0d0887"
             ],
             [
              0.1111111111111111,
              "#46039f"
             ],
             [
              0.2222222222222222,
              "#7201a8"
             ],
             [
              0.3333333333333333,
              "#9c179e"
             ],
             [
              0.4444444444444444,
              "#bd3786"
             ],
             [
              0.5555555555555556,
              "#d8576b"
             ],
             [
              0.6666666666666666,
              "#ed7953"
             ],
             [
              0.7777777777777778,
              "#fb9f3a"
             ],
             [
              0.8888888888888888,
              "#fdca26"
             ],
             [
              1,
              "#f0f921"
             ]
            ],
            "type": "contour"
           }
          ],
          "contourcarpet": [
           {
            "colorbar": {
             "outlinewidth": 0,
             "ticks": ""
            },
            "type": "contourcarpet"
           }
          ],
          "heatmap": [
           {
            "colorbar": {
             "outlinewidth": 0,
             "ticks": ""
            },
            "colorscale": [
             [
              0,
              "#0d0887"
             ],
             [
              0.1111111111111111,
              "#46039f"
             ],
             [
              0.2222222222222222,
              "#7201a8"
             ],
             [
              0.3333333333333333,
              "#9c179e"
             ],
             [
              0.4444444444444444,
              "#bd3786"
             ],
             [
              0.5555555555555556,
              "#d8576b"
             ],
             [
              0.6666666666666666,
              "#ed7953"
             ],
             [
              0.7777777777777778,
              "#fb9f3a"
             ],
             [
              0.8888888888888888,
              "#fdca26"
             ],
             [
              1,
              "#f0f921"
             ]
            ],
            "type": "heatmap"
           }
          ],
          "heatmapgl": [
           {
            "colorbar": {
             "outlinewidth": 0,
             "ticks": ""
            },
            "colorscale": [
             [
              0,
              "#0d0887"
             ],
             [
              0.1111111111111111,
              "#46039f"
             ],
             [
              0.2222222222222222,
              "#7201a8"
             ],
             [
              0.3333333333333333,
              "#9c179e"
             ],
             [
              0.4444444444444444,
              "#bd3786"
             ],
             [
              0.5555555555555556,
              "#d8576b"
             ],
             [
              0.6666666666666666,
              "#ed7953"
             ],
             [
              0.7777777777777778,
              "#fb9f3a"
             ],
             [
              0.8888888888888888,
              "#fdca26"
             ],
             [
              1,
              "#f0f921"
             ]
            ],
            "type": "heatmapgl"
           }
          ],
          "histogram": [
           {
            "marker": {
             "colorbar": {
              "outlinewidth": 0,
              "ticks": ""
             }
            },
            "type": "histogram"
           }
          ],
          "histogram2d": [
           {
            "colorbar": {
             "outlinewidth": 0,
             "ticks": ""
            },
            "colorscale": [
             [
              0,
              "#0d0887"
             ],
             [
              0.1111111111111111,
              "#46039f"
             ],
             [
              0.2222222222222222,
              "#7201a8"
             ],
             [
              0.3333333333333333,
              "#9c179e"
             ],
             [
              0.4444444444444444,
              "#bd3786"
             ],
             [
              0.5555555555555556,
              "#d8576b"
             ],
             [
              0.6666666666666666,
              "#ed7953"
             ],
             [
              0.7777777777777778,
              "#fb9f3a"
             ],
             [
              0.8888888888888888,
              "#fdca26"
             ],
             [
              1,
              "#f0f921"
             ]
            ],
            "type": "histogram2d"
           }
          ],
          "histogram2dcontour": [
           {
            "colorbar": {
             "outlinewidth": 0,
             "ticks": ""
            },
            "colorscale": [
             [
              0,
              "#0d0887"
             ],
             [
              0.1111111111111111,
              "#46039f"
             ],
             [
              0.2222222222222222,
              "#7201a8"
             ],
             [
              0.3333333333333333,
              "#9c179e"
             ],
             [
              0.4444444444444444,
              "#bd3786"
             ],
             [
              0.5555555555555556,
              "#d8576b"
             ],
             [
              0.6666666666666666,
              "#ed7953"
             ],
             [
              0.7777777777777778,
              "#fb9f3a"
             ],
             [
              0.8888888888888888,
              "#fdca26"
             ],
             [
              1,
              "#f0f921"
             ]
            ],
            "type": "histogram2dcontour"
           }
          ],
          "mesh3d": [
           {
            "colorbar": {
             "outlinewidth": 0,
             "ticks": ""
            },
            "type": "mesh3d"
           }
          ],
          "parcoords": [
           {
            "line": {
             "colorbar": {
              "outlinewidth": 0,
              "ticks": ""
             }
            },
            "type": "parcoords"
           }
          ],
          "pie": [
           {
            "automargin": true,
            "type": "pie"
           }
          ],
          "scatter": [
           {
            "marker": {
             "colorbar": {
              "outlinewidth": 0,
              "ticks": ""
             }
            },
            "type": "scatter"
           }
          ],
          "scatter3d": [
           {
            "line": {
             "colorbar": {
              "outlinewidth": 0,
              "ticks": ""
             }
            },
            "marker": {
             "colorbar": {
              "outlinewidth": 0,
              "ticks": ""
             }
            },
            "type": "scatter3d"
           }
          ],
          "scattercarpet": [
           {
            "marker": {
             "colorbar": {
              "outlinewidth": 0,
              "ticks": ""
             }
            },
            "type": "scattercarpet"
           }
          ],
          "scattergeo": [
           {
            "marker": {
             "colorbar": {
              "outlinewidth": 0,
              "ticks": ""
             }
            },
            "type": "scattergeo"
           }
          ],
          "scattergl": [
           {
            "marker": {
             "colorbar": {
              "outlinewidth": 0,
              "ticks": ""
             }
            },
            "type": "scattergl"
           }
          ],
          "scattermapbox": [
           {
            "marker": {
             "colorbar": {
              "outlinewidth": 0,
              "ticks": ""
             }
            },
            "type": "scattermapbox"
           }
          ],
          "scatterpolar": [
           {
            "marker": {
             "colorbar": {
              "outlinewidth": 0,
              "ticks": ""
             }
            },
            "type": "scatterpolar"
           }
          ],
          "scatterpolargl": [
           {
            "marker": {
             "colorbar": {
              "outlinewidth": 0,
              "ticks": ""
             }
            },
            "type": "scatterpolargl"
           }
          ],
          "scatterternary": [
           {
            "marker": {
             "colorbar": {
              "outlinewidth": 0,
              "ticks": ""
             }
            },
            "type": "scatterternary"
           }
          ],
          "surface": [
           {
            "colorbar": {
             "outlinewidth": 0,
             "ticks": ""
            },
            "colorscale": [
             [
              0,
              "#0d0887"
             ],
             [
              0.1111111111111111,
              "#46039f"
             ],
             [
              0.2222222222222222,
              "#7201a8"
             ],
             [
              0.3333333333333333,
              "#9c179e"
             ],
             [
              0.4444444444444444,
              "#bd3786"
             ],
             [
              0.5555555555555556,
              "#d8576b"
             ],
             [
              0.6666666666666666,
              "#ed7953"
             ],
             [
              0.7777777777777778,
              "#fb9f3a"
             ],
             [
              0.8888888888888888,
              "#fdca26"
             ],
             [
              1,
              "#f0f921"
             ]
            ],
            "type": "surface"
           }
          ],
          "table": [
           {
            "cells": {
             "fill": {
              "color": "#EBF0F8"
             },
             "line": {
              "color": "white"
             }
            },
            "header": {
             "fill": {
              "color": "#C8D4E3"
             },
             "line": {
              "color": "white"
             }
            },
            "type": "table"
           }
          ]
         },
         "layout": {
          "annotationdefaults": {
           "arrowcolor": "#2a3f5f",
           "arrowhead": 0,
           "arrowwidth": 1
          },
          "coloraxis": {
           "colorbar": {
            "outlinewidth": 0,
            "ticks": ""
           }
          },
          "colorscale": {
           "diverging": [
            [
             0,
             "#8e0152"
            ],
            [
             0.1,
             "#c51b7d"
            ],
            [
             0.2,
             "#de77ae"
            ],
            [
             0.3,
             "#f1b6da"
            ],
            [
             0.4,
             "#fde0ef"
            ],
            [
             0.5,
             "#f7f7f7"
            ],
            [
             0.6,
             "#e6f5d0"
            ],
            [
             0.7,
             "#b8e186"
            ],
            [
             0.8,
             "#7fbc41"
            ],
            [
             0.9,
             "#4d9221"
            ],
            [
             1,
             "#276419"
            ]
           ],
           "sequential": [
            [
             0,
             "#0d0887"
            ],
            [
             0.1111111111111111,
             "#46039f"
            ],
            [
             0.2222222222222222,
             "#7201a8"
            ],
            [
             0.3333333333333333,
             "#9c179e"
            ],
            [
             0.4444444444444444,
             "#bd3786"
            ],
            [
             0.5555555555555556,
             "#d8576b"
            ],
            [
             0.6666666666666666,
             "#ed7953"
            ],
            [
             0.7777777777777778,
             "#fb9f3a"
            ],
            [
             0.8888888888888888,
             "#fdca26"
            ],
            [
             1,
             "#f0f921"
            ]
           ],
           "sequentialminus": [
            [
             0,
             "#0d0887"
            ],
            [
             0.1111111111111111,
             "#46039f"
            ],
            [
             0.2222222222222222,
             "#7201a8"
            ],
            [
             0.3333333333333333,
             "#9c179e"
            ],
            [
             0.4444444444444444,
             "#bd3786"
            ],
            [
             0.5555555555555556,
             "#d8576b"
            ],
            [
             0.6666666666666666,
             "#ed7953"
            ],
            [
             0.7777777777777778,
             "#fb9f3a"
            ],
            [
             0.8888888888888888,
             "#fdca26"
            ],
            [
             1,
             "#f0f921"
            ]
           ]
          },
          "colorway": [
           "#636efa",
           "#EF553B",
           "#00cc96",
           "#ab63fa",
           "#FFA15A",
           "#19d3f3",
           "#FF6692",
           "#B6E880",
           "#FF97FF",
           "#FECB52"
          ],
          "font": {
           "color": "#2a3f5f"
          },
          "geo": {
           "bgcolor": "white",
           "lakecolor": "white",
           "landcolor": "#E5ECF6",
           "showlakes": true,
           "showland": true,
           "subunitcolor": "white"
          },
          "hoverlabel": {
           "align": "left"
          },
          "hovermode": "closest",
          "mapbox": {
           "style": "light"
          },
          "paper_bgcolor": "white",
          "plot_bgcolor": "#E5ECF6",
          "polar": {
           "angularaxis": {
            "gridcolor": "white",
            "linecolor": "white",
            "ticks": ""
           },
           "bgcolor": "#E5ECF6",
           "radialaxis": {
            "gridcolor": "white",
            "linecolor": "white",
            "ticks": ""
           }
          },
          "scene": {
           "xaxis": {
            "backgroundcolor": "#E5ECF6",
            "gridcolor": "white",
            "gridwidth": 2,
            "linecolor": "white",
            "showbackground": true,
            "ticks": "",
            "zerolinecolor": "white"
           },
           "yaxis": {
            "backgroundcolor": "#E5ECF6",
            "gridcolor": "white",
            "gridwidth": 2,
            "linecolor": "white",
            "showbackground": true,
            "ticks": "",
            "zerolinecolor": "white"
           },
           "zaxis": {
            "backgroundcolor": "#E5ECF6",
            "gridcolor": "white",
            "gridwidth": 2,
            "linecolor": "white",
            "showbackground": true,
            "ticks": "",
            "zerolinecolor": "white"
           }
          },
          "shapedefaults": {
           "line": {
            "color": "#2a3f5f"
           }
          },
          "ternary": {
           "aaxis": {
            "gridcolor": "white",
            "linecolor": "white",
            "ticks": ""
           },
           "baxis": {
            "gridcolor": "white",
            "linecolor": "white",
            "ticks": ""
           },
           "bgcolor": "#E5ECF6",
           "caxis": {
            "gridcolor": "white",
            "linecolor": "white",
            "ticks": ""
           }
          },
          "title": {
           "x": 0.05
          },
          "xaxis": {
           "automargin": true,
           "gridcolor": "white",
           "linecolor": "white",
           "ticks": "",
           "title": {
            "standoff": 15
           },
           "zerolinecolor": "white",
           "zerolinewidth": 2
          },
          "yaxis": {
           "automargin": true,
           "gridcolor": "white",
           "linecolor": "white",
           "ticks": "",
           "title": {
            "standoff": 15
           },
           "zerolinecolor": "white",
           "zerolinewidth": 2
          }
         }
        },
        "xaxis": {
         "anchor": "y",
         "domain": [
          0,
          1
         ],
         "title": {
          "text": "date"
         }
        },
        "yaxis": {
         "anchor": "x",
         "domain": [
          0,
          1
         ],
         "title": {
          "text": "eacl_prv_alcrg_at"
         }
        }
       }
      },
      "text/html": [
       "<div>                            <div id=\"8c05e3d9-3e66-49b0-9e0e-3e33204dcc9b\" class=\"plotly-graph-div\" style=\"height:525px; width:100%;\"></div>            <script type=\"text/javascript\">                require([\"plotly\"], function(Plotly) {                    window.PLOTLYENV=window.PLOTLYENV || {};                                    if (document.getElementById(\"8c05e3d9-3e66-49b0-9e0e-3e33204dcc9b\")) {                    Plotly.newPlot(                        \"8c05e3d9-3e66-49b0-9e0e-3e33204dcc9b\",                        [],                        {\"legend\": {\"tracegroupgap\": 0}, \"margin\": {\"t\": 60}, \"template\": {\"data\": {\"bar\": [{\"error_x\": {\"color\": \"#2a3f5f\"}, \"error_y\": {\"color\": \"#2a3f5f\"}, \"marker\": {\"line\": {\"color\": \"#E5ECF6\", \"width\": 0.5}}, \"type\": \"bar\"}], \"barpolar\": [{\"marker\": {\"line\": {\"color\": \"#E5ECF6\", \"width\": 0.5}}, \"type\": \"barpolar\"}], \"carpet\": [{\"aaxis\": {\"endlinecolor\": \"#2a3f5f\", \"gridcolor\": \"white\", \"linecolor\": \"white\", \"minorgridcolor\": \"white\", \"startlinecolor\": \"#2a3f5f\"}, \"baxis\": {\"endlinecolor\": \"#2a3f5f\", \"gridcolor\": \"white\", \"linecolor\": \"white\", \"minorgridcolor\": \"white\", \"startlinecolor\": \"#2a3f5f\"}, \"type\": \"carpet\"}], \"choropleth\": [{\"colorbar\": {\"outlinewidth\": 0, \"ticks\": \"\"}, \"type\": \"choropleth\"}], \"contour\": [{\"colorbar\": {\"outlinewidth\": 0, \"ticks\": \"\"}, \"colorscale\": [[0.0, \"#0d0887\"], [0.1111111111111111, \"#46039f\"], [0.2222222222222222, \"#7201a8\"], [0.3333333333333333, \"#9c179e\"], [0.4444444444444444, \"#bd3786\"], [0.5555555555555556, \"#d8576b\"], [0.6666666666666666, \"#ed7953\"], [0.7777777777777778, \"#fb9f3a\"], [0.8888888888888888, \"#fdca26\"], [1.0, \"#f0f921\"]], \"type\": \"contour\"}], \"contourcarpet\": [{\"colorbar\": {\"outlinewidth\": 0, \"ticks\": \"\"}, \"type\": \"contourcarpet\"}], \"heatmap\": [{\"colorbar\": {\"outlinewidth\": 0, \"ticks\": \"\"}, \"colorscale\": [[0.0, \"#0d0887\"], [0.1111111111111111, \"#46039f\"], [0.2222222222222222, \"#7201a8\"], [0.3333333333333333, \"#9c179e\"], [0.4444444444444444, \"#bd3786\"], [0.5555555555555556, \"#d8576b\"], [0.6666666666666666, \"#ed7953\"], [0.7777777777777778, \"#fb9f3a\"], [0.8888888888888888, \"#fdca26\"], [1.0, \"#f0f921\"]], \"type\": \"heatmap\"}], \"heatmapgl\": [{\"colorbar\": {\"outlinewidth\": 0, \"ticks\": \"\"}, \"colorscale\": [[0.0, \"#0d0887\"], [0.1111111111111111, \"#46039f\"], [0.2222222222222222, \"#7201a8\"], [0.3333333333333333, \"#9c179e\"], [0.4444444444444444, \"#bd3786\"], [0.5555555555555556, \"#d8576b\"], [0.6666666666666666, \"#ed7953\"], [0.7777777777777778, \"#fb9f3a\"], [0.8888888888888888, \"#fdca26\"], [1.0, \"#f0f921\"]], \"type\": \"heatmapgl\"}], \"histogram\": [{\"marker\": {\"colorbar\": {\"outlinewidth\": 0, \"ticks\": \"\"}}, \"type\": \"histogram\"}], \"histogram2d\": [{\"colorbar\": {\"outlinewidth\": 0, \"ticks\": \"\"}, \"colorscale\": [[0.0, \"#0d0887\"], [0.1111111111111111, \"#46039f\"], [0.2222222222222222, \"#7201a8\"], [0.3333333333333333, \"#9c179e\"], [0.4444444444444444, \"#bd3786\"], [0.5555555555555556, \"#d8576b\"], [0.6666666666666666, \"#ed7953\"], [0.7777777777777778, \"#fb9f3a\"], [0.8888888888888888, \"#fdca26\"], [1.0, \"#f0f921\"]], \"type\": \"histogram2d\"}], \"histogram2dcontour\": [{\"colorbar\": {\"outlinewidth\": 0, \"ticks\": \"\"}, \"colorscale\": [[0.0, \"#0d0887\"], [0.1111111111111111, \"#46039f\"], [0.2222222222222222, \"#7201a8\"], [0.3333333333333333, \"#9c179e\"], [0.4444444444444444, \"#bd3786\"], [0.5555555555555556, \"#d8576b\"], [0.6666666666666666, \"#ed7953\"], [0.7777777777777778, \"#fb9f3a\"], [0.8888888888888888, \"#fdca26\"], [1.0, \"#f0f921\"]], \"type\": \"histogram2dcontour\"}], \"mesh3d\": [{\"colorbar\": {\"outlinewidth\": 0, \"ticks\": \"\"}, \"type\": \"mesh3d\"}], \"parcoords\": [{\"line\": {\"colorbar\": {\"outlinewidth\": 0, \"ticks\": \"\"}}, \"type\": \"parcoords\"}], \"pie\": [{\"automargin\": true, \"type\": \"pie\"}], \"scatter\": [{\"marker\": {\"colorbar\": {\"outlinewidth\": 0, \"ticks\": \"\"}}, \"type\": \"scatter\"}], \"scatter3d\": [{\"line\": {\"colorbar\": {\"outlinewidth\": 0, \"ticks\": \"\"}}, \"marker\": {\"colorbar\": {\"outlinewidth\": 0, \"ticks\": \"\"}}, \"type\": \"scatter3d\"}], \"scattercarpet\": [{\"marker\": {\"colorbar\": {\"outlinewidth\": 0, \"ticks\": \"\"}}, \"type\": \"scattercarpet\"}], \"scattergeo\": [{\"marker\": {\"colorbar\": {\"outlinewidth\": 0, \"ticks\": \"\"}}, \"type\": \"scattergeo\"}], \"scattergl\": [{\"marker\": {\"colorbar\": {\"outlinewidth\": 0, \"ticks\": \"\"}}, \"type\": \"scattergl\"}], \"scattermapbox\": [{\"marker\": {\"colorbar\": {\"outlinewidth\": 0, \"ticks\": \"\"}}, \"type\": \"scattermapbox\"}], \"scatterpolar\": [{\"marker\": {\"colorbar\": {\"outlinewidth\": 0, \"ticks\": \"\"}}, \"type\": \"scatterpolar\"}], \"scatterpolargl\": [{\"marker\": {\"colorbar\": {\"outlinewidth\": 0, \"ticks\": \"\"}}, \"type\": \"scatterpolargl\"}], \"scatterternary\": [{\"marker\": {\"colorbar\": {\"outlinewidth\": 0, \"ticks\": \"\"}}, \"type\": \"scatterternary\"}], \"surface\": [{\"colorbar\": {\"outlinewidth\": 0, \"ticks\": \"\"}, \"colorscale\": [[0.0, \"#0d0887\"], [0.1111111111111111, \"#46039f\"], [0.2222222222222222, \"#7201a8\"], [0.3333333333333333, \"#9c179e\"], [0.4444444444444444, \"#bd3786\"], [0.5555555555555556, \"#d8576b\"], [0.6666666666666666, \"#ed7953\"], [0.7777777777777778, \"#fb9f3a\"], [0.8888888888888888, \"#fdca26\"], [1.0, \"#f0f921\"]], \"type\": \"surface\"}], \"table\": [{\"cells\": {\"fill\": {\"color\": \"#EBF0F8\"}, \"line\": {\"color\": \"white\"}}, \"header\": {\"fill\": {\"color\": \"#C8D4E3\"}, \"line\": {\"color\": \"white\"}}, \"type\": \"table\"}]}, \"layout\": {\"annotationdefaults\": {\"arrowcolor\": \"#2a3f5f\", \"arrowhead\": 0, \"arrowwidth\": 1}, \"coloraxis\": {\"colorbar\": {\"outlinewidth\": 0, \"ticks\": \"\"}}, \"colorscale\": {\"diverging\": [[0, \"#8e0152\"], [0.1, \"#c51b7d\"], [0.2, \"#de77ae\"], [0.3, \"#f1b6da\"], [0.4, \"#fde0ef\"], [0.5, \"#f7f7f7\"], [0.6, \"#e6f5d0\"], [0.7, \"#b8e186\"], [0.8, \"#7fbc41\"], [0.9, \"#4d9221\"], [1, \"#276419\"]], \"sequential\": [[0.0, \"#0d0887\"], [0.1111111111111111, \"#46039f\"], [0.2222222222222222, \"#7201a8\"], [0.3333333333333333, \"#9c179e\"], [0.4444444444444444, \"#bd3786\"], [0.5555555555555556, \"#d8576b\"], [0.6666666666666666, \"#ed7953\"], [0.7777777777777778, \"#fb9f3a\"], [0.8888888888888888, \"#fdca26\"], [1.0, \"#f0f921\"]], \"sequentialminus\": [[0.0, \"#0d0887\"], [0.1111111111111111, \"#46039f\"], [0.2222222222222222, \"#7201a8\"], [0.3333333333333333, \"#9c179e\"], [0.4444444444444444, \"#bd3786\"], [0.5555555555555556, \"#d8576b\"], [0.6666666666666666, \"#ed7953\"], [0.7777777777777778, \"#fb9f3a\"], [0.8888888888888888, \"#fdca26\"], [1.0, \"#f0f921\"]]}, \"colorway\": [\"#636efa\", \"#EF553B\", \"#00cc96\", \"#ab63fa\", \"#FFA15A\", \"#19d3f3\", \"#FF6692\", \"#B6E880\", \"#FF97FF\", \"#FECB52\"], \"font\": {\"color\": \"#2a3f5f\"}, \"geo\": {\"bgcolor\": \"white\", \"lakecolor\": \"white\", \"landcolor\": \"#E5ECF6\", \"showlakes\": true, \"showland\": true, \"subunitcolor\": \"white\"}, \"hoverlabel\": {\"align\": \"left\"}, \"hovermode\": \"closest\", \"mapbox\": {\"style\": \"light\"}, \"paper_bgcolor\": \"white\", \"plot_bgcolor\": \"#E5ECF6\", \"polar\": {\"angularaxis\": {\"gridcolor\": \"white\", \"linecolor\": \"white\", \"ticks\": \"\"}, \"bgcolor\": \"#E5ECF6\", \"radialaxis\": {\"gridcolor\": \"white\", \"linecolor\": \"white\", \"ticks\": \"\"}}, \"scene\": {\"xaxis\": {\"backgroundcolor\": \"#E5ECF6\", \"gridcolor\": \"white\", \"gridwidth\": 2, \"linecolor\": \"white\", \"showbackground\": true, \"ticks\": \"\", \"zerolinecolor\": \"white\"}, \"yaxis\": {\"backgroundcolor\": \"#E5ECF6\", \"gridcolor\": \"white\", \"gridwidth\": 2, \"linecolor\": \"white\", \"showbackground\": true, \"ticks\": \"\", \"zerolinecolor\": \"white\"}, \"zaxis\": {\"backgroundcolor\": \"#E5ECF6\", \"gridcolor\": \"white\", \"gridwidth\": 2, \"linecolor\": \"white\", \"showbackground\": true, \"ticks\": \"\", \"zerolinecolor\": \"white\"}}, \"shapedefaults\": {\"line\": {\"color\": \"#2a3f5f\"}}, \"ternary\": {\"aaxis\": {\"gridcolor\": \"white\", \"linecolor\": \"white\", \"ticks\": \"\"}, \"baxis\": {\"gridcolor\": \"white\", \"linecolor\": \"white\", \"ticks\": \"\"}, \"bgcolor\": \"#E5ECF6\", \"caxis\": {\"gridcolor\": \"white\", \"linecolor\": \"white\", \"ticks\": \"\"}}, \"title\": {\"x\": 0.05}, \"xaxis\": {\"automargin\": true, \"gridcolor\": \"white\", \"linecolor\": \"white\", \"ticks\": \"\", \"title\": {\"standoff\": 15}, \"zerolinecolor\": \"white\", \"zerolinewidth\": 2}, \"yaxis\": {\"automargin\": true, \"gridcolor\": \"white\", \"linecolor\": \"white\", \"ticks\": \"\", \"title\": {\"standoff\": 15}, \"zerolinecolor\": \"white\", \"zerolinewidth\": 2}}}, \"xaxis\": {\"anchor\": \"y\", \"domain\": [0.0, 1.0], \"title\": {\"text\": \"date\"}}, \"yaxis\": {\"anchor\": \"x\", \"domain\": [0.0, 1.0], \"title\": {\"text\": \"eacl_prv_alcrg_at\"}}},                        {\"responsive\": true}                    ).then(function(){\n",
       "                            \n",
       "var gd = document.getElementById('8c05e3d9-3e66-49b0-9e0e-3e33204dcc9b');\n",
       "var x = new MutationObserver(function (mutations, observer) {{\n",
       "        var display = window.getComputedStyle(gd).display;\n",
       "        if (!display || display === 'none') {{\n",
       "            console.log([gd, 'removed!']);\n",
       "            Plotly.purge(gd);\n",
       "            observer.disconnect();\n",
       "        }}\n",
       "}});\n",
       "\n",
       "// Listen for the removal of the full notebook cells\n",
       "var notebookContainer = gd.closest('#notebook-container');\n",
       "if (notebookContainer) {{\n",
       "    x.observe(notebookContainer, {childList: true});\n",
       "}}\n",
       "\n",
       "// Listen for the clearing of the current output cell\n",
       "var outputEl = gd.closest('.output');\n",
       "if (outputEl) {{\n",
       "    x.observe(outputEl, {childList: true});\n",
       "}}\n",
       "\n",
       "                        })                };                });            </script>        </div>"
      ]
     },
     "metadata": {},
     "output_type": "display_data"
    },
    {
     "data": {
      "application/vnd.plotly.v1+json": {
       "config": {
        "plotlyServerURL": "https://plot.ly"
       },
       "data": [
        {
         "customdata": [
          [
           "Highmark_Lab_Egfr"
          ],
          [
           "Highmark_Lab_Egfr"
          ],
          [
           "Highmark_Lab_Egfr"
          ],
          [
           "Highmark_Lab_Egfr"
          ],
          [
           "Highmark_Lab_Egfr"
          ],
          [
           "Highmark_Lab_Egfr"
          ],
          [
           "Highmark_Lab_Egfr"
          ],
          [
           "Highmark_Lab_Egfr"
          ],
          [
           "Highmark_Lab_Egfr"
          ],
          [
           "Highmark_Lab_Egfr"
          ],
          [
           "Highmark_Lab_Egfr"
          ],
          [
           "Highmark_Lab_Egfr"
          ],
          [
           "Highmark_Lab_Egfr"
          ],
          [
           "Highmark_Lab_Egfr"
          ],
          [
           "Highmark_Lab_Egfr"
          ],
          [
           "Highmark_Lab_Egfr"
          ],
          [
           "Highmark_Lab_Egfr"
          ],
          [
           "Highmark_Lab_Egfr"
          ],
          [
           "Highmark_Lab_Egfr"
          ],
          [
           "Highmark_Lab_Egfr"
          ],
          [
           "Highmark_Lab_Egfr"
          ],
          [
           "Highmark_Lab_Egfr"
          ],
          [
           "Highmark_Lab_Egfr"
          ],
          [
           "Highmark_Lab_Egfr"
          ],
          [
           "Highmark_Lab_Egfr"
          ],
          [
           "Highmark_Lab_Egfr"
          ],
          [
           "Highmark_Lab_Egfr"
          ],
          [
           "Highmark_Lab_Egfr"
          ],
          [
           "Highmark_Lab_Egfr"
          ],
          [
           "Highmark_Lab_Egfr"
          ],
          [
           "Highmark_Lab_Egfr"
          ]
         ],
         "hovertemplate": "date=%{x}<br>egfr=%{y}<br>source=%{customdata[0]}<extra></extra>",
         "legendgroup": "",
         "marker": {
          "color": "#636efa",
          "symbol": "circle"
         },
         "mode": "markers",
         "name": "",
         "orientation": "v",
         "showlegend": false,
         "type": "scatter",
         "x": [
          "2010-02-02",
          "2010-08-05",
          "2011-02-19",
          "2011-09-13",
          "2012-04-04",
          "2012-04-10",
          "2012-05-30",
          "2012-08-14",
          "2013-01-01",
          "2013-03-13",
          "2013-04-26",
          "2013-05-14",
          "2013-08-13",
          "2013-08-28",
          "2013-09-04",
          "2013-09-20",
          "2014-01-14",
          "2014-01-14",
          "2014-06-17",
          "2014-06-24",
          "2014-06-27",
          "2014-07-11",
          "2014-08-27",
          "2014-09-09",
          "2014-09-16",
          "2014-10-10",
          "2015-10-30",
          "2016-03-04",
          "2017-08-02",
          "2017-10-27",
          "2018-04-21"
         ],
         "xaxis": "x",
         "y": [
          60,
          0,
          67,
          64,
          42,
          36,
          29,
          43,
          40,
          27,
          31,
          30,
          26,
          28,
          27,
          32,
          23,
          24,
          14,
          13,
          14,
          15,
          10,
          9,
          9,
          8,
          12,
          12,
          8,
          8,
          56
         ],
         "yaxis": "y"
        }
       ],
       "layout": {
        "legend": {
         "tracegroupgap": 0
        },
        "margin": {
         "t": 60
        },
        "template": {
         "data": {
          "bar": [
           {
            "error_x": {
             "color": "#2a3f5f"
            },
            "error_y": {
             "color": "#2a3f5f"
            },
            "marker": {
             "line": {
              "color": "#E5ECF6",
              "width": 0.5
             }
            },
            "type": "bar"
           }
          ],
          "barpolar": [
           {
            "marker": {
             "line": {
              "color": "#E5ECF6",
              "width": 0.5
             }
            },
            "type": "barpolar"
           }
          ],
          "carpet": [
           {
            "aaxis": {
             "endlinecolor": "#2a3f5f",
             "gridcolor": "white",
             "linecolor": "white",
             "minorgridcolor": "white",
             "startlinecolor": "#2a3f5f"
            },
            "baxis": {
             "endlinecolor": "#2a3f5f",
             "gridcolor": "white",
             "linecolor": "white",
             "minorgridcolor": "white",
             "startlinecolor": "#2a3f5f"
            },
            "type": "carpet"
           }
          ],
          "choropleth": [
           {
            "colorbar": {
             "outlinewidth": 0,
             "ticks": ""
            },
            "type": "choropleth"
           }
          ],
          "contour": [
           {
            "colorbar": {
             "outlinewidth": 0,
             "ticks": ""
            },
            "colorscale": [
             [
              0,
              "#0d0887"
             ],
             [
              0.1111111111111111,
              "#46039f"
             ],
             [
              0.2222222222222222,
              "#7201a8"
             ],
             [
              0.3333333333333333,
              "#9c179e"
             ],
             [
              0.4444444444444444,
              "#bd3786"
             ],
             [
              0.5555555555555556,
              "#d8576b"
             ],
             [
              0.6666666666666666,
              "#ed7953"
             ],
             [
              0.7777777777777778,
              "#fb9f3a"
             ],
             [
              0.8888888888888888,
              "#fdca26"
             ],
             [
              1,
              "#f0f921"
             ]
            ],
            "type": "contour"
           }
          ],
          "contourcarpet": [
           {
            "colorbar": {
             "outlinewidth": 0,
             "ticks": ""
            },
            "type": "contourcarpet"
           }
          ],
          "heatmap": [
           {
            "colorbar": {
             "outlinewidth": 0,
             "ticks": ""
            },
            "colorscale": [
             [
              0,
              "#0d0887"
             ],
             [
              0.1111111111111111,
              "#46039f"
             ],
             [
              0.2222222222222222,
              "#7201a8"
             ],
             [
              0.3333333333333333,
              "#9c179e"
             ],
             [
              0.4444444444444444,
              "#bd3786"
             ],
             [
              0.5555555555555556,
              "#d8576b"
             ],
             [
              0.6666666666666666,
              "#ed7953"
             ],
             [
              0.7777777777777778,
              "#fb9f3a"
             ],
             [
              0.8888888888888888,
              "#fdca26"
             ],
             [
              1,
              "#f0f921"
             ]
            ],
            "type": "heatmap"
           }
          ],
          "heatmapgl": [
           {
            "colorbar": {
             "outlinewidth": 0,
             "ticks": ""
            },
            "colorscale": [
             [
              0,
              "#0d0887"
             ],
             [
              0.1111111111111111,
              "#46039f"
             ],
             [
              0.2222222222222222,
              "#7201a8"
             ],
             [
              0.3333333333333333,
              "#9c179e"
             ],
             [
              0.4444444444444444,
              "#bd3786"
             ],
             [
              0.5555555555555556,
              "#d8576b"
             ],
             [
              0.6666666666666666,
              "#ed7953"
             ],
             [
              0.7777777777777778,
              "#fb9f3a"
             ],
             [
              0.8888888888888888,
              "#fdca26"
             ],
             [
              1,
              "#f0f921"
             ]
            ],
            "type": "heatmapgl"
           }
          ],
          "histogram": [
           {
            "marker": {
             "colorbar": {
              "outlinewidth": 0,
              "ticks": ""
             }
            },
            "type": "histogram"
           }
          ],
          "histogram2d": [
           {
            "colorbar": {
             "outlinewidth": 0,
             "ticks": ""
            },
            "colorscale": [
             [
              0,
              "#0d0887"
             ],
             [
              0.1111111111111111,
              "#46039f"
             ],
             [
              0.2222222222222222,
              "#7201a8"
             ],
             [
              0.3333333333333333,
              "#9c179e"
             ],
             [
              0.4444444444444444,
              "#bd3786"
             ],
             [
              0.5555555555555556,
              "#d8576b"
             ],
             [
              0.6666666666666666,
              "#ed7953"
             ],
             [
              0.7777777777777778,
              "#fb9f3a"
             ],
             [
              0.8888888888888888,
              "#fdca26"
             ],
             [
              1,
              "#f0f921"
             ]
            ],
            "type": "histogram2d"
           }
          ],
          "histogram2dcontour": [
           {
            "colorbar": {
             "outlinewidth": 0,
             "ticks": ""
            },
            "colorscale": [
             [
              0,
              "#0d0887"
             ],
             [
              0.1111111111111111,
              "#46039f"
             ],
             [
              0.2222222222222222,
              "#7201a8"
             ],
             [
              0.3333333333333333,
              "#9c179e"
             ],
             [
              0.4444444444444444,
              "#bd3786"
             ],
             [
              0.5555555555555556,
              "#d8576b"
             ],
             [
              0.6666666666666666,
              "#ed7953"
             ],
             [
              0.7777777777777778,
              "#fb9f3a"
             ],
             [
              0.8888888888888888,
              "#fdca26"
             ],
             [
              1,
              "#f0f921"
             ]
            ],
            "type": "histogram2dcontour"
           }
          ],
          "mesh3d": [
           {
            "colorbar": {
             "outlinewidth": 0,
             "ticks": ""
            },
            "type": "mesh3d"
           }
          ],
          "parcoords": [
           {
            "line": {
             "colorbar": {
              "outlinewidth": 0,
              "ticks": ""
             }
            },
            "type": "parcoords"
           }
          ],
          "pie": [
           {
            "automargin": true,
            "type": "pie"
           }
          ],
          "scatter": [
           {
            "marker": {
             "colorbar": {
              "outlinewidth": 0,
              "ticks": ""
             }
            },
            "type": "scatter"
           }
          ],
          "scatter3d": [
           {
            "line": {
             "colorbar": {
              "outlinewidth": 0,
              "ticks": ""
             }
            },
            "marker": {
             "colorbar": {
              "outlinewidth": 0,
              "ticks": ""
             }
            },
            "type": "scatter3d"
           }
          ],
          "scattercarpet": [
           {
            "marker": {
             "colorbar": {
              "outlinewidth": 0,
              "ticks": ""
             }
            },
            "type": "scattercarpet"
           }
          ],
          "scattergeo": [
           {
            "marker": {
             "colorbar": {
              "outlinewidth": 0,
              "ticks": ""
             }
            },
            "type": "scattergeo"
           }
          ],
          "scattergl": [
           {
            "marker": {
             "colorbar": {
              "outlinewidth": 0,
              "ticks": ""
             }
            },
            "type": "scattergl"
           }
          ],
          "scattermapbox": [
           {
            "marker": {
             "colorbar": {
              "outlinewidth": 0,
              "ticks": ""
             }
            },
            "type": "scattermapbox"
           }
          ],
          "scatterpolar": [
           {
            "marker": {
             "colorbar": {
              "outlinewidth": 0,
              "ticks": ""
             }
            },
            "type": "scatterpolar"
           }
          ],
          "scatterpolargl": [
           {
            "marker": {
             "colorbar": {
              "outlinewidth": 0,
              "ticks": ""
             }
            },
            "type": "scatterpolargl"
           }
          ],
          "scatterternary": [
           {
            "marker": {
             "colorbar": {
              "outlinewidth": 0,
              "ticks": ""
             }
            },
            "type": "scatterternary"
           }
          ],
          "surface": [
           {
            "colorbar": {
             "outlinewidth": 0,
             "ticks": ""
            },
            "colorscale": [
             [
              0,
              "#0d0887"
             ],
             [
              0.1111111111111111,
              "#46039f"
             ],
             [
              0.2222222222222222,
              "#7201a8"
             ],
             [
              0.3333333333333333,
              "#9c179e"
             ],
             [
              0.4444444444444444,
              "#bd3786"
             ],
             [
              0.5555555555555556,
              "#d8576b"
             ],
             [
              0.6666666666666666,
              "#ed7953"
             ],
             [
              0.7777777777777778,
              "#fb9f3a"
             ],
             [
              0.8888888888888888,
              "#fdca26"
             ],
             [
              1,
              "#f0f921"
             ]
            ],
            "type": "surface"
           }
          ],
          "table": [
           {
            "cells": {
             "fill": {
              "color": "#EBF0F8"
             },
             "line": {
              "color": "white"
             }
            },
            "header": {
             "fill": {
              "color": "#C8D4E3"
             },
             "line": {
              "color": "white"
             }
            },
            "type": "table"
           }
          ]
         },
         "layout": {
          "annotationdefaults": {
           "arrowcolor": "#2a3f5f",
           "arrowhead": 0,
           "arrowwidth": 1
          },
          "coloraxis": {
           "colorbar": {
            "outlinewidth": 0,
            "ticks": ""
           }
          },
          "colorscale": {
           "diverging": [
            [
             0,
             "#8e0152"
            ],
            [
             0.1,
             "#c51b7d"
            ],
            [
             0.2,
             "#de77ae"
            ],
            [
             0.3,
             "#f1b6da"
            ],
            [
             0.4,
             "#fde0ef"
            ],
            [
             0.5,
             "#f7f7f7"
            ],
            [
             0.6,
             "#e6f5d0"
            ],
            [
             0.7,
             "#b8e186"
            ],
            [
             0.8,
             "#7fbc41"
            ],
            [
             0.9,
             "#4d9221"
            ],
            [
             1,
             "#276419"
            ]
           ],
           "sequential": [
            [
             0,
             "#0d0887"
            ],
            [
             0.1111111111111111,
             "#46039f"
            ],
            [
             0.2222222222222222,
             "#7201a8"
            ],
            [
             0.3333333333333333,
             "#9c179e"
            ],
            [
             0.4444444444444444,
             "#bd3786"
            ],
            [
             0.5555555555555556,
             "#d8576b"
            ],
            [
             0.6666666666666666,
             "#ed7953"
            ],
            [
             0.7777777777777778,
             "#fb9f3a"
            ],
            [
             0.8888888888888888,
             "#fdca26"
            ],
            [
             1,
             "#f0f921"
            ]
           ],
           "sequentialminus": [
            [
             0,
             "#0d0887"
            ],
            [
             0.1111111111111111,
             "#46039f"
            ],
            [
             0.2222222222222222,
             "#7201a8"
            ],
            [
             0.3333333333333333,
             "#9c179e"
            ],
            [
             0.4444444444444444,
             "#bd3786"
            ],
            [
             0.5555555555555556,
             "#d8576b"
            ],
            [
             0.6666666666666666,
             "#ed7953"
            ],
            [
             0.7777777777777778,
             "#fb9f3a"
            ],
            [
             0.8888888888888888,
             "#fdca26"
            ],
            [
             1,
             "#f0f921"
            ]
           ]
          },
          "colorway": [
           "#636efa",
           "#EF553B",
           "#00cc96",
           "#ab63fa",
           "#FFA15A",
           "#19d3f3",
           "#FF6692",
           "#B6E880",
           "#FF97FF",
           "#FECB52"
          ],
          "font": {
           "color": "#2a3f5f"
          },
          "geo": {
           "bgcolor": "white",
           "lakecolor": "white",
           "landcolor": "#E5ECF6",
           "showlakes": true,
           "showland": true,
           "subunitcolor": "white"
          },
          "hoverlabel": {
           "align": "left"
          },
          "hovermode": "closest",
          "mapbox": {
           "style": "light"
          },
          "paper_bgcolor": "white",
          "plot_bgcolor": "#E5ECF6",
          "polar": {
           "angularaxis": {
            "gridcolor": "white",
            "linecolor": "white",
            "ticks": ""
           },
           "bgcolor": "#E5ECF6",
           "radialaxis": {
            "gridcolor": "white",
            "linecolor": "white",
            "ticks": ""
           }
          },
          "scene": {
           "xaxis": {
            "backgroundcolor": "#E5ECF6",
            "gridcolor": "white",
            "gridwidth": 2,
            "linecolor": "white",
            "showbackground": true,
            "ticks": "",
            "zerolinecolor": "white"
           },
           "yaxis": {
            "backgroundcolor": "#E5ECF6",
            "gridcolor": "white",
            "gridwidth": 2,
            "linecolor": "white",
            "showbackground": true,
            "ticks": "",
            "zerolinecolor": "white"
           },
           "zaxis": {
            "backgroundcolor": "#E5ECF6",
            "gridcolor": "white",
            "gridwidth": 2,
            "linecolor": "white",
            "showbackground": true,
            "ticks": "",
            "zerolinecolor": "white"
           }
          },
          "shapedefaults": {
           "line": {
            "color": "#2a3f5f"
           }
          },
          "ternary": {
           "aaxis": {
            "gridcolor": "white",
            "linecolor": "white",
            "ticks": ""
           },
           "baxis": {
            "gridcolor": "white",
            "linecolor": "white",
            "ticks": ""
           },
           "bgcolor": "#E5ECF6",
           "caxis": {
            "gridcolor": "white",
            "linecolor": "white",
            "ticks": ""
           }
          },
          "title": {
           "x": 0.05
          },
          "xaxis": {
           "automargin": true,
           "gridcolor": "white",
           "linecolor": "white",
           "ticks": "",
           "title": {
            "standoff": 15
           },
           "zerolinecolor": "white",
           "zerolinewidth": 2
          },
          "yaxis": {
           "automargin": true,
           "gridcolor": "white",
           "linecolor": "white",
           "ticks": "",
           "title": {
            "standoff": 15
           },
           "zerolinecolor": "white",
           "zerolinewidth": 2
          }
         }
        },
        "xaxis": {
         "anchor": "y",
         "domain": [
          0,
          1
         ],
         "title": {
          "text": "date"
         }
        },
        "yaxis": {
         "anchor": "x",
         "domain": [
          0,
          1
         ],
         "title": {
          "text": "egfr"
         }
        }
       }
      },
      "text/html": [
       "<div>                            <div id=\"64dcd63b-b61c-42d3-b1a7-b3a755e2f108\" class=\"plotly-graph-div\" style=\"height:525px; width:100%;\"></div>            <script type=\"text/javascript\">                require([\"plotly\"], function(Plotly) {                    window.PLOTLYENV=window.PLOTLYENV || {};                                    if (document.getElementById(\"64dcd63b-b61c-42d3-b1a7-b3a755e2f108\")) {                    Plotly.newPlot(                        \"64dcd63b-b61c-42d3-b1a7-b3a755e2f108\",                        [{\"customdata\": [[\"Highmark_Lab_Egfr\"], [\"Highmark_Lab_Egfr\"], [\"Highmark_Lab_Egfr\"], [\"Highmark_Lab_Egfr\"], [\"Highmark_Lab_Egfr\"], [\"Highmark_Lab_Egfr\"], [\"Highmark_Lab_Egfr\"], [\"Highmark_Lab_Egfr\"], [\"Highmark_Lab_Egfr\"], [\"Highmark_Lab_Egfr\"], [\"Highmark_Lab_Egfr\"], [\"Highmark_Lab_Egfr\"], [\"Highmark_Lab_Egfr\"], [\"Highmark_Lab_Egfr\"], [\"Highmark_Lab_Egfr\"], [\"Highmark_Lab_Egfr\"], [\"Highmark_Lab_Egfr\"], [\"Highmark_Lab_Egfr\"], [\"Highmark_Lab_Egfr\"], [\"Highmark_Lab_Egfr\"], [\"Highmark_Lab_Egfr\"], [\"Highmark_Lab_Egfr\"], [\"Highmark_Lab_Egfr\"], [\"Highmark_Lab_Egfr\"], [\"Highmark_Lab_Egfr\"], [\"Highmark_Lab_Egfr\"], [\"Highmark_Lab_Egfr\"], [\"Highmark_Lab_Egfr\"], [\"Highmark_Lab_Egfr\"], [\"Highmark_Lab_Egfr\"], [\"Highmark_Lab_Egfr\"]], \"hovertemplate\": \"date=%{x}<br>egfr=%{y}<br>source=%{customdata[0]}<extra></extra>\", \"legendgroup\": \"\", \"marker\": {\"color\": \"#636efa\", \"symbol\": \"circle\"}, \"mode\": \"markers\", \"name\": \"\", \"orientation\": \"v\", \"showlegend\": false, \"type\": \"scatter\", \"x\": [\"2010-02-02\", \"2010-08-05\", \"2011-02-19\", \"2011-09-13\", \"2012-04-04\", \"2012-04-10\", \"2012-05-30\", \"2012-08-14\", \"2013-01-01\", \"2013-03-13\", \"2013-04-26\", \"2013-05-14\", \"2013-08-13\", \"2013-08-28\", \"2013-09-04\", \"2013-09-20\", \"2014-01-14\", \"2014-01-14\", \"2014-06-17\", \"2014-06-24\", \"2014-06-27\", \"2014-07-11\", \"2014-08-27\", \"2014-09-09\", \"2014-09-16\", \"2014-10-10\", \"2015-10-30\", \"2016-03-04\", \"2017-08-02\", \"2017-10-27\", \"2018-04-21\"], \"xaxis\": \"x\", \"y\": [60.0, 0.0, 67.0, 64.0, 42.0, 36.0, 29.0, 43.0, 40.0, 27.0, 31.0, 30.0, 26.0, 28.0, 27.0, 32.0, 23.0, 24.0, 14.0, 13.0, 14.0, 15.0, 10.0, 9.0, 9.0, 8.0, 12.0, 12.0, 8.0, 8.0, 56.0], \"yaxis\": \"y\"}],                        {\"legend\": {\"tracegroupgap\": 0}, \"margin\": {\"t\": 60}, \"template\": {\"data\": {\"bar\": [{\"error_x\": {\"color\": \"#2a3f5f\"}, \"error_y\": {\"color\": \"#2a3f5f\"}, \"marker\": {\"line\": {\"color\": \"#E5ECF6\", \"width\": 0.5}}, \"type\": \"bar\"}], \"barpolar\": [{\"marker\": {\"line\": {\"color\": \"#E5ECF6\", \"width\": 0.5}}, \"type\": \"barpolar\"}], \"carpet\": [{\"aaxis\": {\"endlinecolor\": \"#2a3f5f\", \"gridcolor\": \"white\", \"linecolor\": \"white\", \"minorgridcolor\": \"white\", \"startlinecolor\": \"#2a3f5f\"}, \"baxis\": {\"endlinecolor\": \"#2a3f5f\", \"gridcolor\": \"white\", \"linecolor\": \"white\", \"minorgridcolor\": \"white\", \"startlinecolor\": \"#2a3f5f\"}, \"type\": \"carpet\"}], \"choropleth\": [{\"colorbar\": {\"outlinewidth\": 0, \"ticks\": \"\"}, \"type\": \"choropleth\"}], \"contour\": [{\"colorbar\": {\"outlinewidth\": 0, \"ticks\": \"\"}, \"colorscale\": [[0.0, \"#0d0887\"], [0.1111111111111111, \"#46039f\"], [0.2222222222222222, \"#7201a8\"], [0.3333333333333333, \"#9c179e\"], [0.4444444444444444, \"#bd3786\"], [0.5555555555555556, \"#d8576b\"], [0.6666666666666666, \"#ed7953\"], [0.7777777777777778, \"#fb9f3a\"], [0.8888888888888888, \"#fdca26\"], [1.0, \"#f0f921\"]], \"type\": \"contour\"}], \"contourcarpet\": [{\"colorbar\": {\"outlinewidth\": 0, \"ticks\": \"\"}, \"type\": \"contourcarpet\"}], \"heatmap\": [{\"colorbar\": {\"outlinewidth\": 0, \"ticks\": \"\"}, \"colorscale\": [[0.0, \"#0d0887\"], [0.1111111111111111, \"#46039f\"], [0.2222222222222222, \"#7201a8\"], [0.3333333333333333, \"#9c179e\"], [0.4444444444444444, \"#bd3786\"], [0.5555555555555556, \"#d8576b\"], [0.6666666666666666, \"#ed7953\"], [0.7777777777777778, \"#fb9f3a\"], [0.8888888888888888, \"#fdca26\"], [1.0, \"#f0f921\"]], \"type\": \"heatmap\"}], \"heatmapgl\": [{\"colorbar\": {\"outlinewidth\": 0, \"ticks\": \"\"}, \"colorscale\": [[0.0, \"#0d0887\"], [0.1111111111111111, \"#46039f\"], [0.2222222222222222, \"#7201a8\"], [0.3333333333333333, \"#9c179e\"], [0.4444444444444444, \"#bd3786\"], [0.5555555555555556, \"#d8576b\"], [0.6666666666666666, \"#ed7953\"], [0.7777777777777778, \"#fb9f3a\"], [0.8888888888888888, \"#fdca26\"], [1.0, \"#f0f921\"]], \"type\": \"heatmapgl\"}], \"histogram\": [{\"marker\": {\"colorbar\": {\"outlinewidth\": 0, \"ticks\": \"\"}}, \"type\": \"histogram\"}], \"histogram2d\": [{\"colorbar\": {\"outlinewidth\": 0, \"ticks\": \"\"}, \"colorscale\": [[0.0, \"#0d0887\"], [0.1111111111111111, \"#46039f\"], [0.2222222222222222, \"#7201a8\"], [0.3333333333333333, \"#9c179e\"], [0.4444444444444444, \"#bd3786\"], [0.5555555555555556, \"#d8576b\"], [0.6666666666666666, \"#ed7953\"], [0.7777777777777778, \"#fb9f3a\"], [0.8888888888888888, \"#fdca26\"], [1.0, \"#f0f921\"]], \"type\": \"histogram2d\"}], \"histogram2dcontour\": [{\"colorbar\": {\"outlinewidth\": 0, \"ticks\": \"\"}, \"colorscale\": [[0.0, \"#0d0887\"], [0.1111111111111111, \"#46039f\"], [0.2222222222222222, \"#7201a8\"], [0.3333333333333333, \"#9c179e\"], [0.4444444444444444, \"#bd3786\"], [0.5555555555555556, \"#d8576b\"], [0.6666666666666666, \"#ed7953\"], [0.7777777777777778, \"#fb9f3a\"], [0.8888888888888888, \"#fdca26\"], [1.0, \"#f0f921\"]], \"type\": \"histogram2dcontour\"}], \"mesh3d\": [{\"colorbar\": {\"outlinewidth\": 0, \"ticks\": \"\"}, \"type\": \"mesh3d\"}], \"parcoords\": [{\"line\": {\"colorbar\": {\"outlinewidth\": 0, \"ticks\": \"\"}}, \"type\": \"parcoords\"}], \"pie\": [{\"automargin\": true, \"type\": \"pie\"}], \"scatter\": [{\"marker\": {\"colorbar\": {\"outlinewidth\": 0, \"ticks\": \"\"}}, \"type\": \"scatter\"}], \"scatter3d\": [{\"line\": {\"colorbar\": {\"outlinewidth\": 0, \"ticks\": \"\"}}, \"marker\": {\"colorbar\": {\"outlinewidth\": 0, \"ticks\": \"\"}}, \"type\": \"scatter3d\"}], \"scattercarpet\": [{\"marker\": {\"colorbar\": {\"outlinewidth\": 0, \"ticks\": \"\"}}, \"type\": \"scattercarpet\"}], \"scattergeo\": [{\"marker\": {\"colorbar\": {\"outlinewidth\": 0, \"ticks\": \"\"}}, \"type\": \"scattergeo\"}], \"scattergl\": [{\"marker\": {\"colorbar\": {\"outlinewidth\": 0, \"ticks\": \"\"}}, \"type\": \"scattergl\"}], \"scattermapbox\": [{\"marker\": {\"colorbar\": {\"outlinewidth\": 0, \"ticks\": \"\"}}, \"type\": \"scattermapbox\"}], \"scatterpolar\": [{\"marker\": {\"colorbar\": {\"outlinewidth\": 0, \"ticks\": \"\"}}, \"type\": \"scatterpolar\"}], \"scatterpolargl\": [{\"marker\": {\"colorbar\": {\"outlinewidth\": 0, \"ticks\": \"\"}}, \"type\": \"scatterpolargl\"}], \"scatterternary\": [{\"marker\": {\"colorbar\": {\"outlinewidth\": 0, \"ticks\": \"\"}}, \"type\": \"scatterternary\"}], \"surface\": [{\"colorbar\": {\"outlinewidth\": 0, \"ticks\": \"\"}, \"colorscale\": [[0.0, \"#0d0887\"], [0.1111111111111111, \"#46039f\"], [0.2222222222222222, \"#7201a8\"], [0.3333333333333333, \"#9c179e\"], [0.4444444444444444, \"#bd3786\"], [0.5555555555555556, \"#d8576b\"], [0.6666666666666666, \"#ed7953\"], [0.7777777777777778, \"#fb9f3a\"], [0.8888888888888888, \"#fdca26\"], [1.0, \"#f0f921\"]], \"type\": \"surface\"}], \"table\": [{\"cells\": {\"fill\": {\"color\": \"#EBF0F8\"}, \"line\": {\"color\": \"white\"}}, \"header\": {\"fill\": {\"color\": \"#C8D4E3\"}, \"line\": {\"color\": \"white\"}}, \"type\": \"table\"}]}, \"layout\": {\"annotationdefaults\": {\"arrowcolor\": \"#2a3f5f\", \"arrowhead\": 0, \"arrowwidth\": 1}, \"coloraxis\": {\"colorbar\": {\"outlinewidth\": 0, \"ticks\": \"\"}}, \"colorscale\": {\"diverging\": [[0, \"#8e0152\"], [0.1, \"#c51b7d\"], [0.2, \"#de77ae\"], [0.3, \"#f1b6da\"], [0.4, \"#fde0ef\"], [0.5, \"#f7f7f7\"], [0.6, \"#e6f5d0\"], [0.7, \"#b8e186\"], [0.8, \"#7fbc41\"], [0.9, \"#4d9221\"], [1, \"#276419\"]], \"sequential\": [[0.0, \"#0d0887\"], [0.1111111111111111, \"#46039f\"], [0.2222222222222222, \"#7201a8\"], [0.3333333333333333, \"#9c179e\"], [0.4444444444444444, \"#bd3786\"], [0.5555555555555556, \"#d8576b\"], [0.6666666666666666, \"#ed7953\"], [0.7777777777777778, \"#fb9f3a\"], [0.8888888888888888, \"#fdca26\"], [1.0, \"#f0f921\"]], \"sequentialminus\": [[0.0, \"#0d0887\"], [0.1111111111111111, \"#46039f\"], [0.2222222222222222, \"#7201a8\"], [0.3333333333333333, \"#9c179e\"], [0.4444444444444444, \"#bd3786\"], [0.5555555555555556, \"#d8576b\"], [0.6666666666666666, \"#ed7953\"], [0.7777777777777778, \"#fb9f3a\"], [0.8888888888888888, \"#fdca26\"], [1.0, \"#f0f921\"]]}, \"colorway\": [\"#636efa\", \"#EF553B\", \"#00cc96\", \"#ab63fa\", \"#FFA15A\", \"#19d3f3\", \"#FF6692\", \"#B6E880\", \"#FF97FF\", \"#FECB52\"], \"font\": {\"color\": \"#2a3f5f\"}, \"geo\": {\"bgcolor\": \"white\", \"lakecolor\": \"white\", \"landcolor\": \"#E5ECF6\", \"showlakes\": true, \"showland\": true, \"subunitcolor\": \"white\"}, \"hoverlabel\": {\"align\": \"left\"}, \"hovermode\": \"closest\", \"mapbox\": {\"style\": \"light\"}, \"paper_bgcolor\": \"white\", \"plot_bgcolor\": \"#E5ECF6\", \"polar\": {\"angularaxis\": {\"gridcolor\": \"white\", \"linecolor\": \"white\", \"ticks\": \"\"}, \"bgcolor\": \"#E5ECF6\", \"radialaxis\": {\"gridcolor\": \"white\", \"linecolor\": \"white\", \"ticks\": \"\"}}, \"scene\": {\"xaxis\": {\"backgroundcolor\": \"#E5ECF6\", \"gridcolor\": \"white\", \"gridwidth\": 2, \"linecolor\": \"white\", \"showbackground\": true, \"ticks\": \"\", \"zerolinecolor\": \"white\"}, \"yaxis\": {\"backgroundcolor\": \"#E5ECF6\", \"gridcolor\": \"white\", \"gridwidth\": 2, \"linecolor\": \"white\", \"showbackground\": true, \"ticks\": \"\", \"zerolinecolor\": \"white\"}, \"zaxis\": {\"backgroundcolor\": \"#E5ECF6\", \"gridcolor\": \"white\", \"gridwidth\": 2, \"linecolor\": \"white\", \"showbackground\": true, \"ticks\": \"\", \"zerolinecolor\": \"white\"}}, \"shapedefaults\": {\"line\": {\"color\": \"#2a3f5f\"}}, \"ternary\": {\"aaxis\": {\"gridcolor\": \"white\", \"linecolor\": \"white\", \"ticks\": \"\"}, \"baxis\": {\"gridcolor\": \"white\", \"linecolor\": \"white\", \"ticks\": \"\"}, \"bgcolor\": \"#E5ECF6\", \"caxis\": {\"gridcolor\": \"white\", \"linecolor\": \"white\", \"ticks\": \"\"}}, \"title\": {\"x\": 0.05}, \"xaxis\": {\"automargin\": true, \"gridcolor\": \"white\", \"linecolor\": \"white\", \"ticks\": \"\", \"title\": {\"standoff\": 15}, \"zerolinecolor\": \"white\", \"zerolinewidth\": 2}, \"yaxis\": {\"automargin\": true, \"gridcolor\": \"white\", \"linecolor\": \"white\", \"ticks\": \"\", \"title\": {\"standoff\": 15}, \"zerolinecolor\": \"white\", \"zerolinewidth\": 2}}}, \"xaxis\": {\"anchor\": \"y\", \"domain\": [0.0, 1.0], \"title\": {\"text\": \"date\"}}, \"yaxis\": {\"anchor\": \"x\", \"domain\": [0.0, 1.0], \"title\": {\"text\": \"egfr\"}}},                        {\"responsive\": true}                    ).then(function(){\n",
       "                            \n",
       "var gd = document.getElementById('64dcd63b-b61c-42d3-b1a7-b3a755e2f108');\n",
       "var x = new MutationObserver(function (mutations, observer) {{\n",
       "        var display = window.getComputedStyle(gd).display;\n",
       "        if (!display || display === 'none') {{\n",
       "            console.log([gd, 'removed!']);\n",
       "            Plotly.purge(gd);\n",
       "            observer.disconnect();\n",
       "        }}\n",
       "}});\n",
       "\n",
       "// Listen for the removal of the full notebook cells\n",
       "var notebookContainer = gd.closest('#notebook-container');\n",
       "if (notebookContainer) {{\n",
       "    x.observe(notebookContainer, {childList: true});\n",
       "}}\n",
       "\n",
       "// Listen for the clearing of the current output cell\n",
       "var outputEl = gd.closest('.output');\n",
       "if (outputEl) {{\n",
       "    x.observe(outputEl, {childList: true});\n",
       "}}\n",
       "\n",
       "                        })                };                });            </script>        </div>"
      ]
     },
     "metadata": {},
     "output_type": "display_data"
    },
    {
     "name": "stderr",
     "output_type": "stream",
     "text": [
      "C:\\Users\\Joyqiao\\anaconda3\\lib\\site-packages\\IPython\\core\\interactiveshell.py:3254: DtypeWarning:\n",
      "\n",
      "Columns (11,13,14,15,16,17,18,19,20,21,23,25,40,41,42,43,44,45,46,47,48,49,52,53) have mixed types.Specify dtype option on import or set low_memory=False.\n",
      "\n"
     ]
    },
    {
     "data": {
      "application/vnd.plotly.v1+json": {
       "config": {
        "plotlyServerURL": "https://plot.ly"
       },
       "data": [
        {
         "customdata": [
          [
           "I"
          ],
          [
           "I"
          ],
          [
           "I"
          ],
          [
           "I"
          ],
          [
           "I"
          ],
          [
           "I"
          ],
          [
           "I"
          ],
          [
           "I"
          ],
          [
           "I"
          ],
          [
           "I"
          ],
          [
           "I"
          ],
          [
           "I"
          ],
          [
           "I"
          ],
          [
           "I"
          ],
          [
           "I"
          ],
          [
           "I"
          ],
          [
           "I"
          ],
          [
           "I"
          ],
          [
           "I"
          ],
          [
           "I"
          ],
          [
           "I"
          ],
          [
           "I"
          ],
          [
           "I"
          ],
          [
           "I"
          ],
          [
           "I"
          ],
          [
           "I"
          ],
          [
           "I"
          ],
          [
           "I"
          ],
          [
           "I"
          ],
          [
           "I"
          ],
          [
           "I"
          ],
          [
           "I"
          ],
          [
           "I"
          ],
          [
           "I"
          ],
          [
           "I"
          ],
          [
           "I"
          ],
          [
           "I"
          ],
          [
           "I"
          ],
          [
           "I"
          ],
          [
           "I"
          ],
          [
           "I"
          ],
          [
           "I"
          ],
          [
           "I"
          ],
          [
           "I"
          ],
          [
           "I"
          ],
          [
           "I"
          ],
          [
           "I"
          ],
          [
           "I"
          ],
          [
           "I"
          ],
          [
           "I"
          ],
          [
           "I"
          ],
          [
           "I"
          ],
          [
           "I"
          ],
          [
           "I"
          ],
          [
           "I"
          ],
          [
           "I"
          ]
         ],
         "hovertemplate": "date=%{x}<br>eacl_prv_alcrg_at=%{y}<br>claim_type=%{customdata[0]}<extra></extra>",
         "legendgroup": "",
         "marker": {
          "color": "#636efa",
          "symbol": "circle"
         },
         "mode": "markers",
         "name": "",
         "orientation": "v",
         "showlegend": false,
         "type": "scatter",
         "x": [
          "2014-11-05T00:00:00",
          "2014-08-22T00:00:00",
          "2014-11-05T00:00:00",
          "2013-08-06T00:00:00",
          "2013-08-06T00:00:00",
          "2013-08-06T00:00:00",
          "2013-08-06T00:00:00",
          "2013-08-06T00:00:00",
          "2013-08-06T00:00:00",
          "2013-08-06T00:00:00",
          "2013-08-06T00:00:00",
          "2013-08-06T00:00:00",
          "2013-08-06T00:00:00",
          "2013-08-06T00:00:00",
          "2013-08-06T00:00:00",
          "2013-08-06T00:00:00",
          "2013-08-06T00:00:00",
          "2013-08-06T00:00:00",
          "2013-08-06T00:00:00",
          "2013-08-06T00:00:00",
          "2013-08-06T00:00:00",
          "2013-08-06T00:00:00",
          "2013-08-06T00:00:00",
          "2013-08-06T00:00:00",
          "2013-08-06T00:00:00",
          "2014-08-22T00:00:00",
          "2014-11-05T00:00:00",
          "2014-08-22T00:00:00",
          "2014-11-05T00:00:00",
          "2014-08-22T00:00:00",
          "2014-11-05T00:00:00",
          "2014-11-05T00:00:00",
          "2014-11-05T00:00:00",
          "2014-08-22T00:00:00",
          "2014-11-05T00:00:00",
          "2014-08-22T00:00:00",
          "2014-11-05T00:00:00",
          "2014-08-22T00:00:00",
          "2014-11-05T00:00:00",
          "2014-11-05T00:00:00",
          "2014-08-22T00:00:00",
          "2014-11-05T00:00:00",
          "2014-08-22T00:00:00",
          "2014-08-22T00:00:00",
          "2014-08-22T00:00:00",
          "2014-08-22T00:00:00",
          "2014-11-05T00:00:00",
          "2014-08-22T00:00:00",
          "2014-08-22T00:00:00",
          "2014-11-05T00:00:00",
          "2014-08-22T00:00:00",
          "2014-11-05T00:00:00",
          "2014-08-22T00:00:00",
          "2014-11-05T00:00:00",
          "2014-08-22T00:00:00",
          "2014-11-05T00:00:00"
         ],
         "xaxis": "x",
         "y": [
          138.71,
          114.91,
          175.01,
          1200.43,
          355.68,
          664.81,
          114.7,
          30.23,
          38.91,
          306.99,
          1203.09,
          145.83,
          50.68,
          278.76,
          146.71,
          184.51,
          100.25,
          298.55,
          19.56,
          111.37,
          160.72,
          10.5,
          18.22,
          93.91,
          15.11,
          2134.85,
          4510.14,
          159.65,
          138.31,
          55.16,
          18.27,
          738.78,
          199.4,
          140.48,
          572.28,
          300.85,
          186.63,
          120.59,
          448.38,
          278.32,
          1145.04,
          391.21,
          35.79,
          823.02,
          153.95,
          205.27,
          34.07,
          15.39,
          10.84,
          562.21,
          438.77,
          242.38,
          80.82,
          65.82,
          234.78,
          176.17
         ],
         "yaxis": "y"
        }
       ],
       "layout": {
        "legend": {
         "tracegroupgap": 0
        },
        "margin": {
         "t": 60
        },
        "template": {
         "data": {
          "bar": [
           {
            "error_x": {
             "color": "#2a3f5f"
            },
            "error_y": {
             "color": "#2a3f5f"
            },
            "marker": {
             "line": {
              "color": "#E5ECF6",
              "width": 0.5
             }
            },
            "type": "bar"
           }
          ],
          "barpolar": [
           {
            "marker": {
             "line": {
              "color": "#E5ECF6",
              "width": 0.5
             }
            },
            "type": "barpolar"
           }
          ],
          "carpet": [
           {
            "aaxis": {
             "endlinecolor": "#2a3f5f",
             "gridcolor": "white",
             "linecolor": "white",
             "minorgridcolor": "white",
             "startlinecolor": "#2a3f5f"
            },
            "baxis": {
             "endlinecolor": "#2a3f5f",
             "gridcolor": "white",
             "linecolor": "white",
             "minorgridcolor": "white",
             "startlinecolor": "#2a3f5f"
            },
            "type": "carpet"
           }
          ],
          "choropleth": [
           {
            "colorbar": {
             "outlinewidth": 0,
             "ticks": ""
            },
            "type": "choropleth"
           }
          ],
          "contour": [
           {
            "colorbar": {
             "outlinewidth": 0,
             "ticks": ""
            },
            "colorscale": [
             [
              0,
              "#0d0887"
             ],
             [
              0.1111111111111111,
              "#46039f"
             ],
             [
              0.2222222222222222,
              "#7201a8"
             ],
             [
              0.3333333333333333,
              "#9c179e"
             ],
             [
              0.4444444444444444,
              "#bd3786"
             ],
             [
              0.5555555555555556,
              "#d8576b"
             ],
             [
              0.6666666666666666,
              "#ed7953"
             ],
             [
              0.7777777777777778,
              "#fb9f3a"
             ],
             [
              0.8888888888888888,
              "#fdca26"
             ],
             [
              1,
              "#f0f921"
             ]
            ],
            "type": "contour"
           }
          ],
          "contourcarpet": [
           {
            "colorbar": {
             "outlinewidth": 0,
             "ticks": ""
            },
            "type": "contourcarpet"
           }
          ],
          "heatmap": [
           {
            "colorbar": {
             "outlinewidth": 0,
             "ticks": ""
            },
            "colorscale": [
             [
              0,
              "#0d0887"
             ],
             [
              0.1111111111111111,
              "#46039f"
             ],
             [
              0.2222222222222222,
              "#7201a8"
             ],
             [
              0.3333333333333333,
              "#9c179e"
             ],
             [
              0.4444444444444444,
              "#bd3786"
             ],
             [
              0.5555555555555556,
              "#d8576b"
             ],
             [
              0.6666666666666666,
              "#ed7953"
             ],
             [
              0.7777777777777778,
              "#fb9f3a"
             ],
             [
              0.8888888888888888,
              "#fdca26"
             ],
             [
              1,
              "#f0f921"
             ]
            ],
            "type": "heatmap"
           }
          ],
          "heatmapgl": [
           {
            "colorbar": {
             "outlinewidth": 0,
             "ticks": ""
            },
            "colorscale": [
             [
              0,
              "#0d0887"
             ],
             [
              0.1111111111111111,
              "#46039f"
             ],
             [
              0.2222222222222222,
              "#7201a8"
             ],
             [
              0.3333333333333333,
              "#9c179e"
             ],
             [
              0.4444444444444444,
              "#bd3786"
             ],
             [
              0.5555555555555556,
              "#d8576b"
             ],
             [
              0.6666666666666666,
              "#ed7953"
             ],
             [
              0.7777777777777778,
              "#fb9f3a"
             ],
             [
              0.8888888888888888,
              "#fdca26"
             ],
             [
              1,
              "#f0f921"
             ]
            ],
            "type": "heatmapgl"
           }
          ],
          "histogram": [
           {
            "marker": {
             "colorbar": {
              "outlinewidth": 0,
              "ticks": ""
             }
            },
            "type": "histogram"
           }
          ],
          "histogram2d": [
           {
            "colorbar": {
             "outlinewidth": 0,
             "ticks": ""
            },
            "colorscale": [
             [
              0,
              "#0d0887"
             ],
             [
              0.1111111111111111,
              "#46039f"
             ],
             [
              0.2222222222222222,
              "#7201a8"
             ],
             [
              0.3333333333333333,
              "#9c179e"
             ],
             [
              0.4444444444444444,
              "#bd3786"
             ],
             [
              0.5555555555555556,
              "#d8576b"
             ],
             [
              0.6666666666666666,
              "#ed7953"
             ],
             [
              0.7777777777777778,
              "#fb9f3a"
             ],
             [
              0.8888888888888888,
              "#fdca26"
             ],
             [
              1,
              "#f0f921"
             ]
            ],
            "type": "histogram2d"
           }
          ],
          "histogram2dcontour": [
           {
            "colorbar": {
             "outlinewidth": 0,
             "ticks": ""
            },
            "colorscale": [
             [
              0,
              "#0d0887"
             ],
             [
              0.1111111111111111,
              "#46039f"
             ],
             [
              0.2222222222222222,
              "#7201a8"
             ],
             [
              0.3333333333333333,
              "#9c179e"
             ],
             [
              0.4444444444444444,
              "#bd3786"
             ],
             [
              0.5555555555555556,
              "#d8576b"
             ],
             [
              0.6666666666666666,
              "#ed7953"
             ],
             [
              0.7777777777777778,
              "#fb9f3a"
             ],
             [
              0.8888888888888888,
              "#fdca26"
             ],
             [
              1,
              "#f0f921"
             ]
            ],
            "type": "histogram2dcontour"
           }
          ],
          "mesh3d": [
           {
            "colorbar": {
             "outlinewidth": 0,
             "ticks": ""
            },
            "type": "mesh3d"
           }
          ],
          "parcoords": [
           {
            "line": {
             "colorbar": {
              "outlinewidth": 0,
              "ticks": ""
             }
            },
            "type": "parcoords"
           }
          ],
          "pie": [
           {
            "automargin": true,
            "type": "pie"
           }
          ],
          "scatter": [
           {
            "marker": {
             "colorbar": {
              "outlinewidth": 0,
              "ticks": ""
             }
            },
            "type": "scatter"
           }
          ],
          "scatter3d": [
           {
            "line": {
             "colorbar": {
              "outlinewidth": 0,
              "ticks": ""
             }
            },
            "marker": {
             "colorbar": {
              "outlinewidth": 0,
              "ticks": ""
             }
            },
            "type": "scatter3d"
           }
          ],
          "scattercarpet": [
           {
            "marker": {
             "colorbar": {
              "outlinewidth": 0,
              "ticks": ""
             }
            },
            "type": "scattercarpet"
           }
          ],
          "scattergeo": [
           {
            "marker": {
             "colorbar": {
              "outlinewidth": 0,
              "ticks": ""
             }
            },
            "type": "scattergeo"
           }
          ],
          "scattergl": [
           {
            "marker": {
             "colorbar": {
              "outlinewidth": 0,
              "ticks": ""
             }
            },
            "type": "scattergl"
           }
          ],
          "scattermapbox": [
           {
            "marker": {
             "colorbar": {
              "outlinewidth": 0,
              "ticks": ""
             }
            },
            "type": "scattermapbox"
           }
          ],
          "scatterpolar": [
           {
            "marker": {
             "colorbar": {
              "outlinewidth": 0,
              "ticks": ""
             }
            },
            "type": "scatterpolar"
           }
          ],
          "scatterpolargl": [
           {
            "marker": {
             "colorbar": {
              "outlinewidth": 0,
              "ticks": ""
             }
            },
            "type": "scatterpolargl"
           }
          ],
          "scatterternary": [
           {
            "marker": {
             "colorbar": {
              "outlinewidth": 0,
              "ticks": ""
             }
            },
            "type": "scatterternary"
           }
          ],
          "surface": [
           {
            "colorbar": {
             "outlinewidth": 0,
             "ticks": ""
            },
            "colorscale": [
             [
              0,
              "#0d0887"
             ],
             [
              0.1111111111111111,
              "#46039f"
             ],
             [
              0.2222222222222222,
              "#7201a8"
             ],
             [
              0.3333333333333333,
              "#9c179e"
             ],
             [
              0.4444444444444444,
              "#bd3786"
             ],
             [
              0.5555555555555556,
              "#d8576b"
             ],
             [
              0.6666666666666666,
              "#ed7953"
             ],
             [
              0.7777777777777778,
              "#fb9f3a"
             ],
             [
              0.8888888888888888,
              "#fdca26"
             ],
             [
              1,
              "#f0f921"
             ]
            ],
            "type": "surface"
           }
          ],
          "table": [
           {
            "cells": {
             "fill": {
              "color": "#EBF0F8"
             },
             "line": {
              "color": "white"
             }
            },
            "header": {
             "fill": {
              "color": "#C8D4E3"
             },
             "line": {
              "color": "white"
             }
            },
            "type": "table"
           }
          ]
         },
         "layout": {
          "annotationdefaults": {
           "arrowcolor": "#2a3f5f",
           "arrowhead": 0,
           "arrowwidth": 1
          },
          "coloraxis": {
           "colorbar": {
            "outlinewidth": 0,
            "ticks": ""
           }
          },
          "colorscale": {
           "diverging": [
            [
             0,
             "#8e0152"
            ],
            [
             0.1,
             "#c51b7d"
            ],
            [
             0.2,
             "#de77ae"
            ],
            [
             0.3,
             "#f1b6da"
            ],
            [
             0.4,
             "#fde0ef"
            ],
            [
             0.5,
             "#f7f7f7"
            ],
            [
             0.6,
             "#e6f5d0"
            ],
            [
             0.7,
             "#b8e186"
            ],
            [
             0.8,
             "#7fbc41"
            ],
            [
             0.9,
             "#4d9221"
            ],
            [
             1,
             "#276419"
            ]
           ],
           "sequential": [
            [
             0,
             "#0d0887"
            ],
            [
             0.1111111111111111,
             "#46039f"
            ],
            [
             0.2222222222222222,
             "#7201a8"
            ],
            [
             0.3333333333333333,
             "#9c179e"
            ],
            [
             0.4444444444444444,
             "#bd3786"
            ],
            [
             0.5555555555555556,
             "#d8576b"
            ],
            [
             0.6666666666666666,
             "#ed7953"
            ],
            [
             0.7777777777777778,
             "#fb9f3a"
            ],
            [
             0.8888888888888888,
             "#fdca26"
            ],
            [
             1,
             "#f0f921"
            ]
           ],
           "sequentialminus": [
            [
             0,
             "#0d0887"
            ],
            [
             0.1111111111111111,
             "#46039f"
            ],
            [
             0.2222222222222222,
             "#7201a8"
            ],
            [
             0.3333333333333333,
             "#9c179e"
            ],
            [
             0.4444444444444444,
             "#bd3786"
            ],
            [
             0.5555555555555556,
             "#d8576b"
            ],
            [
             0.6666666666666666,
             "#ed7953"
            ],
            [
             0.7777777777777778,
             "#fb9f3a"
            ],
            [
             0.8888888888888888,
             "#fdca26"
            ],
            [
             1,
             "#f0f921"
            ]
           ]
          },
          "colorway": [
           "#636efa",
           "#EF553B",
           "#00cc96",
           "#ab63fa",
           "#FFA15A",
           "#19d3f3",
           "#FF6692",
           "#B6E880",
           "#FF97FF",
           "#FECB52"
          ],
          "font": {
           "color": "#2a3f5f"
          },
          "geo": {
           "bgcolor": "white",
           "lakecolor": "white",
           "landcolor": "#E5ECF6",
           "showlakes": true,
           "showland": true,
           "subunitcolor": "white"
          },
          "hoverlabel": {
           "align": "left"
          },
          "hovermode": "closest",
          "mapbox": {
           "style": "light"
          },
          "paper_bgcolor": "white",
          "plot_bgcolor": "#E5ECF6",
          "polar": {
           "angularaxis": {
            "gridcolor": "white",
            "linecolor": "white",
            "ticks": ""
           },
           "bgcolor": "#E5ECF6",
           "radialaxis": {
            "gridcolor": "white",
            "linecolor": "white",
            "ticks": ""
           }
          },
          "scene": {
           "xaxis": {
            "backgroundcolor": "#E5ECF6",
            "gridcolor": "white",
            "gridwidth": 2,
            "linecolor": "white",
            "showbackground": true,
            "ticks": "",
            "zerolinecolor": "white"
           },
           "yaxis": {
            "backgroundcolor": "#E5ECF6",
            "gridcolor": "white",
            "gridwidth": 2,
            "linecolor": "white",
            "showbackground": true,
            "ticks": "",
            "zerolinecolor": "white"
           },
           "zaxis": {
            "backgroundcolor": "#E5ECF6",
            "gridcolor": "white",
            "gridwidth": 2,
            "linecolor": "white",
            "showbackground": true,
            "ticks": "",
            "zerolinecolor": "white"
           }
          },
          "shapedefaults": {
           "line": {
            "color": "#2a3f5f"
           }
          },
          "ternary": {
           "aaxis": {
            "gridcolor": "white",
            "linecolor": "white",
            "ticks": ""
           },
           "baxis": {
            "gridcolor": "white",
            "linecolor": "white",
            "ticks": ""
           },
           "bgcolor": "#E5ECF6",
           "caxis": {
            "gridcolor": "white",
            "linecolor": "white",
            "ticks": ""
           }
          },
          "title": {
           "x": 0.05
          },
          "xaxis": {
           "automargin": true,
           "gridcolor": "white",
           "linecolor": "white",
           "ticks": "",
           "title": {
            "standoff": 15
           },
           "zerolinecolor": "white",
           "zerolinewidth": 2
          },
          "yaxis": {
           "automargin": true,
           "gridcolor": "white",
           "linecolor": "white",
           "ticks": "",
           "title": {
            "standoff": 15
           },
           "zerolinecolor": "white",
           "zerolinewidth": 2
          }
         }
        },
        "xaxis": {
         "anchor": "y",
         "domain": [
          0,
          1
         ],
         "title": {
          "text": "date"
         }
        },
        "yaxis": {
         "anchor": "x",
         "domain": [
          0,
          1
         ],
         "title": {
          "text": "eacl_prv_alcrg_at"
         }
        }
       }
      },
      "text/html": [
       "<div>                            <div id=\"f2ea4348-3bbe-4809-a2d4-78c210c10164\" class=\"plotly-graph-div\" style=\"height:525px; width:100%;\"></div>            <script type=\"text/javascript\">                require([\"plotly\"], function(Plotly) {                    window.PLOTLYENV=window.PLOTLYENV || {};                                    if (document.getElementById(\"f2ea4348-3bbe-4809-a2d4-78c210c10164\")) {                    Plotly.newPlot(                        \"f2ea4348-3bbe-4809-a2d4-78c210c10164\",                        [{\"customdata\": [[\"I\"], [\"I\"], [\"I\"], [\"I\"], [\"I\"], [\"I\"], [\"I\"], [\"I\"], [\"I\"], [\"I\"], [\"I\"], [\"I\"], [\"I\"], [\"I\"], [\"I\"], [\"I\"], [\"I\"], [\"I\"], [\"I\"], [\"I\"], [\"I\"], [\"I\"], [\"I\"], [\"I\"], [\"I\"], [\"I\"], [\"I\"], [\"I\"], [\"I\"], [\"I\"], [\"I\"], [\"I\"], [\"I\"], [\"I\"], [\"I\"], [\"I\"], [\"I\"], [\"I\"], [\"I\"], [\"I\"], [\"I\"], [\"I\"], [\"I\"], [\"I\"], [\"I\"], [\"I\"], [\"I\"], [\"I\"], [\"I\"], [\"I\"], [\"I\"], [\"I\"], [\"I\"], [\"I\"], [\"I\"], [\"I\"]], \"hovertemplate\": \"date=%{x}<br>eacl_prv_alcrg_at=%{y}<br>claim_type=%{customdata[0]}<extra></extra>\", \"legendgroup\": \"\", \"marker\": {\"color\": \"#636efa\", \"symbol\": \"circle\"}, \"mode\": \"markers\", \"name\": \"\", \"orientation\": \"v\", \"showlegend\": false, \"type\": \"scatter\", \"x\": [\"2014-11-05T00:00:00\", \"2014-08-22T00:00:00\", \"2014-11-05T00:00:00\", \"2013-08-06T00:00:00\", \"2013-08-06T00:00:00\", \"2013-08-06T00:00:00\", \"2013-08-06T00:00:00\", \"2013-08-06T00:00:00\", \"2013-08-06T00:00:00\", \"2013-08-06T00:00:00\", \"2013-08-06T00:00:00\", \"2013-08-06T00:00:00\", \"2013-08-06T00:00:00\", \"2013-08-06T00:00:00\", \"2013-08-06T00:00:00\", \"2013-08-06T00:00:00\", \"2013-08-06T00:00:00\", \"2013-08-06T00:00:00\", \"2013-08-06T00:00:00\", \"2013-08-06T00:00:00\", \"2013-08-06T00:00:00\", \"2013-08-06T00:00:00\", \"2013-08-06T00:00:00\", \"2013-08-06T00:00:00\", \"2013-08-06T00:00:00\", \"2014-08-22T00:00:00\", \"2014-11-05T00:00:00\", \"2014-08-22T00:00:00\", \"2014-11-05T00:00:00\", \"2014-08-22T00:00:00\", \"2014-11-05T00:00:00\", \"2014-11-05T00:00:00\", \"2014-11-05T00:00:00\", \"2014-08-22T00:00:00\", \"2014-11-05T00:00:00\", \"2014-08-22T00:00:00\", \"2014-11-05T00:00:00\", \"2014-08-22T00:00:00\", \"2014-11-05T00:00:00\", \"2014-11-05T00:00:00\", \"2014-08-22T00:00:00\", \"2014-11-05T00:00:00\", \"2014-08-22T00:00:00\", \"2014-08-22T00:00:00\", \"2014-08-22T00:00:00\", \"2014-08-22T00:00:00\", \"2014-11-05T00:00:00\", \"2014-08-22T00:00:00\", \"2014-08-22T00:00:00\", \"2014-11-05T00:00:00\", \"2014-08-22T00:00:00\", \"2014-11-05T00:00:00\", \"2014-08-22T00:00:00\", \"2014-11-05T00:00:00\", \"2014-08-22T00:00:00\", \"2014-11-05T00:00:00\"], \"xaxis\": \"x\", \"y\": [138.71, 114.91, 175.01, 1200.43, 355.68, 664.81, 114.7, 30.23, 38.91, 306.99, 1203.09, 145.83, 50.68, 278.76, 146.71, 184.51, 100.25, 298.55, 19.56, 111.37, 160.72, 10.5, 18.22, 93.91, 15.11, 2134.85, 4510.14, 159.65, 138.31, 55.16, 18.27, 738.78, 199.4, 140.48, 572.28, 300.85, 186.63, 120.59, 448.38, 278.32, 1145.04, 391.21, 35.79, 823.02, 153.95, 205.27, 34.07, 15.39, 10.84, 562.21, 438.77, 242.38, 80.82, 65.82, 234.78, 176.17], \"yaxis\": \"y\"}],                        {\"legend\": {\"tracegroupgap\": 0}, \"margin\": {\"t\": 60}, \"template\": {\"data\": {\"bar\": [{\"error_x\": {\"color\": \"#2a3f5f\"}, \"error_y\": {\"color\": \"#2a3f5f\"}, \"marker\": {\"line\": {\"color\": \"#E5ECF6\", \"width\": 0.5}}, \"type\": \"bar\"}], \"barpolar\": [{\"marker\": {\"line\": {\"color\": \"#E5ECF6\", \"width\": 0.5}}, \"type\": \"barpolar\"}], \"carpet\": [{\"aaxis\": {\"endlinecolor\": \"#2a3f5f\", \"gridcolor\": \"white\", \"linecolor\": \"white\", \"minorgridcolor\": \"white\", \"startlinecolor\": \"#2a3f5f\"}, \"baxis\": {\"endlinecolor\": \"#2a3f5f\", \"gridcolor\": \"white\", \"linecolor\": \"white\", \"minorgridcolor\": \"white\", \"startlinecolor\": \"#2a3f5f\"}, \"type\": \"carpet\"}], \"choropleth\": [{\"colorbar\": {\"outlinewidth\": 0, \"ticks\": \"\"}, \"type\": \"choropleth\"}], \"contour\": [{\"colorbar\": {\"outlinewidth\": 0, \"ticks\": \"\"}, \"colorscale\": [[0.0, \"#0d0887\"], [0.1111111111111111, \"#46039f\"], [0.2222222222222222, \"#7201a8\"], [0.3333333333333333, \"#9c179e\"], [0.4444444444444444, \"#bd3786\"], [0.5555555555555556, \"#d8576b\"], [0.6666666666666666, \"#ed7953\"], [0.7777777777777778, \"#fb9f3a\"], [0.8888888888888888, \"#fdca26\"], [1.0, \"#f0f921\"]], \"type\": \"contour\"}], \"contourcarpet\": [{\"colorbar\": {\"outlinewidth\": 0, \"ticks\": \"\"}, \"type\": \"contourcarpet\"}], \"heatmap\": [{\"colorbar\": {\"outlinewidth\": 0, \"ticks\": \"\"}, \"colorscale\": [[0.0, \"#0d0887\"], [0.1111111111111111, \"#46039f\"], [0.2222222222222222, \"#7201a8\"], [0.3333333333333333, \"#9c179e\"], [0.4444444444444444, \"#bd3786\"], [0.5555555555555556, \"#d8576b\"], [0.6666666666666666, \"#ed7953\"], [0.7777777777777778, \"#fb9f3a\"], [0.8888888888888888, \"#fdca26\"], [1.0, \"#f0f921\"]], \"type\": \"heatmap\"}], \"heatmapgl\": [{\"colorbar\": {\"outlinewidth\": 0, \"ticks\": \"\"}, \"colorscale\": [[0.0, \"#0d0887\"], [0.1111111111111111, \"#46039f\"], [0.2222222222222222, \"#7201a8\"], [0.3333333333333333, \"#9c179e\"], [0.4444444444444444, \"#bd3786\"], [0.5555555555555556, \"#d8576b\"], [0.6666666666666666, \"#ed7953\"], [0.7777777777777778, \"#fb9f3a\"], [0.8888888888888888, \"#fdca26\"], [1.0, \"#f0f921\"]], \"type\": \"heatmapgl\"}], \"histogram\": [{\"marker\": {\"colorbar\": {\"outlinewidth\": 0, \"ticks\": \"\"}}, \"type\": \"histogram\"}], \"histogram2d\": [{\"colorbar\": {\"outlinewidth\": 0, \"ticks\": \"\"}, \"colorscale\": [[0.0, \"#0d0887\"], [0.1111111111111111, \"#46039f\"], [0.2222222222222222, \"#7201a8\"], [0.3333333333333333, \"#9c179e\"], [0.4444444444444444, \"#bd3786\"], [0.5555555555555556, \"#d8576b\"], [0.6666666666666666, \"#ed7953\"], [0.7777777777777778, \"#fb9f3a\"], [0.8888888888888888, \"#fdca26\"], [1.0, \"#f0f921\"]], \"type\": \"histogram2d\"}], \"histogram2dcontour\": [{\"colorbar\": {\"outlinewidth\": 0, \"ticks\": \"\"}, \"colorscale\": [[0.0, \"#0d0887\"], [0.1111111111111111, \"#46039f\"], [0.2222222222222222, \"#7201a8\"], [0.3333333333333333, \"#9c179e\"], [0.4444444444444444, \"#bd3786\"], [0.5555555555555556, \"#d8576b\"], [0.6666666666666666, \"#ed7953\"], [0.7777777777777778, \"#fb9f3a\"], [0.8888888888888888, \"#fdca26\"], [1.0, \"#f0f921\"]], \"type\": \"histogram2dcontour\"}], \"mesh3d\": [{\"colorbar\": {\"outlinewidth\": 0, \"ticks\": \"\"}, \"type\": \"mesh3d\"}], \"parcoords\": [{\"line\": {\"colorbar\": {\"outlinewidth\": 0, \"ticks\": \"\"}}, \"type\": \"parcoords\"}], \"pie\": [{\"automargin\": true, \"type\": \"pie\"}], \"scatter\": [{\"marker\": {\"colorbar\": {\"outlinewidth\": 0, \"ticks\": \"\"}}, \"type\": \"scatter\"}], \"scatter3d\": [{\"line\": {\"colorbar\": {\"outlinewidth\": 0, \"ticks\": \"\"}}, \"marker\": {\"colorbar\": {\"outlinewidth\": 0, \"ticks\": \"\"}}, \"type\": \"scatter3d\"}], \"scattercarpet\": [{\"marker\": {\"colorbar\": {\"outlinewidth\": 0, \"ticks\": \"\"}}, \"type\": \"scattercarpet\"}], \"scattergeo\": [{\"marker\": {\"colorbar\": {\"outlinewidth\": 0, \"ticks\": \"\"}}, \"type\": \"scattergeo\"}], \"scattergl\": [{\"marker\": {\"colorbar\": {\"outlinewidth\": 0, \"ticks\": \"\"}}, \"type\": \"scattergl\"}], \"scattermapbox\": [{\"marker\": {\"colorbar\": {\"outlinewidth\": 0, \"ticks\": \"\"}}, \"type\": \"scattermapbox\"}], \"scatterpolar\": [{\"marker\": {\"colorbar\": {\"outlinewidth\": 0, \"ticks\": \"\"}}, \"type\": \"scatterpolar\"}], \"scatterpolargl\": [{\"marker\": {\"colorbar\": {\"outlinewidth\": 0, \"ticks\": \"\"}}, \"type\": \"scatterpolargl\"}], \"scatterternary\": [{\"marker\": {\"colorbar\": {\"outlinewidth\": 0, \"ticks\": \"\"}}, \"type\": \"scatterternary\"}], \"surface\": [{\"colorbar\": {\"outlinewidth\": 0, \"ticks\": \"\"}, \"colorscale\": [[0.0, \"#0d0887\"], [0.1111111111111111, \"#46039f\"], [0.2222222222222222, \"#7201a8\"], [0.3333333333333333, \"#9c179e\"], [0.4444444444444444, \"#bd3786\"], [0.5555555555555556, \"#d8576b\"], [0.6666666666666666, \"#ed7953\"], [0.7777777777777778, \"#fb9f3a\"], [0.8888888888888888, \"#fdca26\"], [1.0, \"#f0f921\"]], \"type\": \"surface\"}], \"table\": [{\"cells\": {\"fill\": {\"color\": \"#EBF0F8\"}, \"line\": {\"color\": \"white\"}}, \"header\": {\"fill\": {\"color\": \"#C8D4E3\"}, \"line\": {\"color\": \"white\"}}, \"type\": \"table\"}]}, \"layout\": {\"annotationdefaults\": {\"arrowcolor\": \"#2a3f5f\", \"arrowhead\": 0, \"arrowwidth\": 1}, \"coloraxis\": {\"colorbar\": {\"outlinewidth\": 0, \"ticks\": \"\"}}, \"colorscale\": {\"diverging\": [[0, \"#8e0152\"], [0.1, \"#c51b7d\"], [0.2, \"#de77ae\"], [0.3, \"#f1b6da\"], [0.4, \"#fde0ef\"], [0.5, \"#f7f7f7\"], [0.6, \"#e6f5d0\"], [0.7, \"#b8e186\"], [0.8, \"#7fbc41\"], [0.9, \"#4d9221\"], [1, \"#276419\"]], \"sequential\": [[0.0, \"#0d0887\"], [0.1111111111111111, \"#46039f\"], [0.2222222222222222, \"#7201a8\"], [0.3333333333333333, \"#9c179e\"], [0.4444444444444444, \"#bd3786\"], [0.5555555555555556, \"#d8576b\"], [0.6666666666666666, \"#ed7953\"], [0.7777777777777778, \"#fb9f3a\"], [0.8888888888888888, \"#fdca26\"], [1.0, \"#f0f921\"]], \"sequentialminus\": [[0.0, \"#0d0887\"], [0.1111111111111111, \"#46039f\"], [0.2222222222222222, \"#7201a8\"], [0.3333333333333333, \"#9c179e\"], [0.4444444444444444, \"#bd3786\"], [0.5555555555555556, \"#d8576b\"], [0.6666666666666666, \"#ed7953\"], [0.7777777777777778, \"#fb9f3a\"], [0.8888888888888888, \"#fdca26\"], [1.0, \"#f0f921\"]]}, \"colorway\": [\"#636efa\", \"#EF553B\", \"#00cc96\", \"#ab63fa\", \"#FFA15A\", \"#19d3f3\", \"#FF6692\", \"#B6E880\", \"#FF97FF\", \"#FECB52\"], \"font\": {\"color\": \"#2a3f5f\"}, \"geo\": {\"bgcolor\": \"white\", \"lakecolor\": \"white\", \"landcolor\": \"#E5ECF6\", \"showlakes\": true, \"showland\": true, \"subunitcolor\": \"white\"}, \"hoverlabel\": {\"align\": \"left\"}, \"hovermode\": \"closest\", \"mapbox\": {\"style\": \"light\"}, \"paper_bgcolor\": \"white\", \"plot_bgcolor\": \"#E5ECF6\", \"polar\": {\"angularaxis\": {\"gridcolor\": \"white\", \"linecolor\": \"white\", \"ticks\": \"\"}, \"bgcolor\": \"#E5ECF6\", \"radialaxis\": {\"gridcolor\": \"white\", \"linecolor\": \"white\", \"ticks\": \"\"}}, \"scene\": {\"xaxis\": {\"backgroundcolor\": \"#E5ECF6\", \"gridcolor\": \"white\", \"gridwidth\": 2, \"linecolor\": \"white\", \"showbackground\": true, \"ticks\": \"\", \"zerolinecolor\": \"white\"}, \"yaxis\": {\"backgroundcolor\": \"#E5ECF6\", \"gridcolor\": \"white\", \"gridwidth\": 2, \"linecolor\": \"white\", \"showbackground\": true, \"ticks\": \"\", \"zerolinecolor\": \"white\"}, \"zaxis\": {\"backgroundcolor\": \"#E5ECF6\", \"gridcolor\": \"white\", \"gridwidth\": 2, \"linecolor\": \"white\", \"showbackground\": true, \"ticks\": \"\", \"zerolinecolor\": \"white\"}}, \"shapedefaults\": {\"line\": {\"color\": \"#2a3f5f\"}}, \"ternary\": {\"aaxis\": {\"gridcolor\": \"white\", \"linecolor\": \"white\", \"ticks\": \"\"}, \"baxis\": {\"gridcolor\": \"white\", \"linecolor\": \"white\", \"ticks\": \"\"}, \"bgcolor\": \"#E5ECF6\", \"caxis\": {\"gridcolor\": \"white\", \"linecolor\": \"white\", \"ticks\": \"\"}}, \"title\": {\"x\": 0.05}, \"xaxis\": {\"automargin\": true, \"gridcolor\": \"white\", \"linecolor\": \"white\", \"ticks\": \"\", \"title\": {\"standoff\": 15}, \"zerolinecolor\": \"white\", \"zerolinewidth\": 2}, \"yaxis\": {\"automargin\": true, \"gridcolor\": \"white\", \"linecolor\": \"white\", \"ticks\": \"\", \"title\": {\"standoff\": 15}, \"zerolinecolor\": \"white\", \"zerolinewidth\": 2}}}, \"xaxis\": {\"anchor\": \"y\", \"domain\": [0.0, 1.0], \"title\": {\"text\": \"date\"}}, \"yaxis\": {\"anchor\": \"x\", \"domain\": [0.0, 1.0], \"title\": {\"text\": \"eacl_prv_alcrg_at\"}}},                        {\"responsive\": true}                    ).then(function(){\n",
       "                            \n",
       "var gd = document.getElementById('f2ea4348-3bbe-4809-a2d4-78c210c10164');\n",
       "var x = new MutationObserver(function (mutations, observer) {{\n",
       "        var display = window.getComputedStyle(gd).display;\n",
       "        if (!display || display === 'none') {{\n",
       "            console.log([gd, 'removed!']);\n",
       "            Plotly.purge(gd);\n",
       "            observer.disconnect();\n",
       "        }}\n",
       "}});\n",
       "\n",
       "// Listen for the removal of the full notebook cells\n",
       "var notebookContainer = gd.closest('#notebook-container');\n",
       "if (notebookContainer) {{\n",
       "    x.observe(notebookContainer, {childList: true});\n",
       "}}\n",
       "\n",
       "// Listen for the clearing of the current output cell\n",
       "var outputEl = gd.closest('.output');\n",
       "if (outputEl) {{\n",
       "    x.observe(outputEl, {childList: true});\n",
       "}}\n",
       "\n",
       "                        })                };                });            </script>        </div>"
      ]
     },
     "metadata": {},
     "output_type": "display_data"
    }
   ],
   "source": [
    "for i in merged_data_t[merged_data_t['stage'] =='2']['TMA_Acct']:\n",
    "    egfr_target = egfr[egfr['TMA_Acct'] == i]\n",
    "    fig = px.scatter(egfr_target,x = 'date',y = 'egfr',hover_data = ['source'])\n",
    "    fig.show()\n",
    "    target = find_tma(i)\n",
    "    target['date'] = pd.to_datetime('2010-01-01') + target['icrd_dt_deidentified'].apply(lambda i:pd.Timedelta(days = i))   \n",
    "    fig = px.scatter(target[target['claim_type'] == 'I'],x = 'date',y = 'eacl_prv_alcrg_at',hover_data = ['claim_type'])\n",
    "    fig.show()\n",
    "    "
   ]
  },
  {
   "cell_type": "code",
   "execution_count": null,
   "metadata": {},
   "outputs": [],
   "source": [
    "WHERE IS ALL THE TRANSPLANT AND DIALYSIS PAITEINT FALL INTO CLUSTERS"
   ]
  },
  {
   "cell_type": "code",
   "execution_count": 57,
   "metadata": {},
   "outputs": [
    {
     "name": "stdout",
     "output_type": "stream",
     "text": [
      "Help on function scatter in module plotly.express._chart_types:\n",
      "\n",
      "scatter(data_frame=None, x=None, y=None, color=None, symbol=None, size=None, hover_name=None, hover_data=None, custom_data=None, text=None, facet_row=None, facet_col=None, facet_col_wrap=0, facet_row_spacing=None, facet_col_spacing=None, error_x=None, error_x_minus=None, error_y=None, error_y_minus=None, animation_frame=None, animation_group=None, category_orders={}, labels={}, orientation=None, color_discrete_sequence=None, color_discrete_map={}, color_continuous_scale=None, range_color=None, color_continuous_midpoint=None, symbol_sequence=None, symbol_map={}, opacity=None, size_max=None, marginal_x=None, marginal_y=None, trendline=None, trendline_color_override=None, log_x=False, log_y=False, range_x=None, range_y=None, render_mode='auto', title=None, template=None, width=None, height=None)\n",
      "        In a scatter plot, each row of `data_frame` is represented by a symbol\n",
      "        mark in 2D space.\n",
      "        \n",
      "    Parameters\n",
      "    ----------\n",
      "    data_frame: DataFrame or array-like or dict\n",
      "        This argument needs to be passed for column names (and not keyword\n",
      "        names) to be used. Array-like and dict are tranformed internally to a\n",
      "        pandas DataFrame. Optional: if missing, a DataFrame gets constructed\n",
      "        under the hood using the other arguments.\n",
      "    x: str or int or Series or array-like\n",
      "        Either a name of a column in `data_frame`, or a pandas Series or\n",
      "        array_like object. Values from this column or array_like are used to\n",
      "        position marks along the x axis in cartesian coordinates. Either `x` or\n",
      "        `y` can optionally be a list of column references or array_likes,  in\n",
      "        which case the data will be treated as if it were 'wide' rather than\n",
      "        'long'.\n",
      "    y: str or int or Series or array-like\n",
      "        Either a name of a column in `data_frame`, or a pandas Series or\n",
      "        array_like object. Values from this column or array_like are used to\n",
      "        position marks along the y axis in cartesian coordinates. Either `x` or\n",
      "        `y` can optionally be a list of column references or array_likes,  in\n",
      "        which case the data will be treated as if it were 'wide' rather than\n",
      "        'long'.\n",
      "    color: str or int or Series or array-like\n",
      "        Either a name of a column in `data_frame`, or a pandas Series or\n",
      "        array_like object. Values from this column or array_like are used to\n",
      "        assign color to marks.\n",
      "    symbol: str or int or Series or array-like\n",
      "        Either a name of a column in `data_frame`, or a pandas Series or\n",
      "        array_like object. Values from this column or array_like are used to\n",
      "        assign symbols to marks.\n",
      "    size: str or int or Series or array-like\n",
      "        Either a name of a column in `data_frame`, or a pandas Series or\n",
      "        array_like object. Values from this column or array_like are used to\n",
      "        assign mark sizes.\n",
      "    hover_name: str or int or Series or array-like\n",
      "        Either a name of a column in `data_frame`, or a pandas Series or\n",
      "        array_like object. Values from this column or array_like appear in bold\n",
      "        in the hover tooltip.\n",
      "    hover_data: list of str or int, or Series or array-like, or dict\n",
      "        Either a list of names of columns in `data_frame`, or pandas Series, or\n",
      "        array_like objects or a dict with column names as keys, with values\n",
      "        True (for default formatting) False (in order to remove this column\n",
      "        from hover information), or a formatting string, for example ':.3f' or\n",
      "        '|%a' or list-like data to appear in the hover tooltip or tuples with a\n",
      "        bool or formatting string as first element, and list-like data to\n",
      "        appear in hover as second element Values from these columns appear as\n",
      "        extra data in the hover tooltip.\n",
      "    custom_data: list of str or int, or Series or array-like\n",
      "        Either names of columns in `data_frame`, or pandas Series, or\n",
      "        array_like objects Values from these columns are extra data, to be used\n",
      "        in widgets or Dash callbacks for example. This data is not user-visible\n",
      "        but is included in events emitted by the figure (lasso selection etc.)\n",
      "    text: str or int or Series or array-like\n",
      "        Either a name of a column in `data_frame`, or a pandas Series or\n",
      "        array_like object. Values from this column or array_like appear in the\n",
      "        figure as text labels.\n",
      "    facet_row: str or int or Series or array-like\n",
      "        Either a name of a column in `data_frame`, or a pandas Series or\n",
      "        array_like object. Values from this column or array_like are used to\n",
      "        assign marks to facetted subplots in the vertical direction.\n",
      "    facet_col: str or int or Series or array-like\n",
      "        Either a name of a column in `data_frame`, or a pandas Series or\n",
      "        array_like object. Values from this column or array_like are used to\n",
      "        assign marks to facetted subplots in the horizontal direction.\n",
      "    facet_col_wrap: int\n",
      "        Maximum number of facet columns. Wraps the column variable at this\n",
      "        width, so that the column facets span multiple rows. Ignored if 0, and\n",
      "        forced to 0 if `facet_row` or a `marginal` is set.\n",
      "    facet_row_spacing: float between 0 and 1\n",
      "        Spacing between facet rows, in paper units. Default is 0.03 or 0.0.7\n",
      "        when facet_col_wrap is used.\n",
      "    facet_col_spacing: float between 0 and 1\n",
      "        Spacing between facet columns, in paper units Default is 0.02.\n",
      "    error_x: str or int or Series or array-like\n",
      "        Either a name of a column in `data_frame`, or a pandas Series or\n",
      "        array_like object. Values from this column or array_like are used to\n",
      "        size x-axis error bars. If `error_x_minus` is `None`, error bars will\n",
      "        be symmetrical, otherwise `error_x` is used for the positive direction\n",
      "        only.\n",
      "    error_x_minus: str or int or Series or array-like\n",
      "        Either a name of a column in `data_frame`, or a pandas Series or\n",
      "        array_like object. Values from this column or array_like are used to\n",
      "        size x-axis error bars in the negative direction. Ignored if `error_x`\n",
      "        is `None`.\n",
      "    error_y: str or int or Series or array-like\n",
      "        Either a name of a column in `data_frame`, or a pandas Series or\n",
      "        array_like object. Values from this column or array_like are used to\n",
      "        size y-axis error bars. If `error_y_minus` is `None`, error bars will\n",
      "        be symmetrical, otherwise `error_y` is used for the positive direction\n",
      "        only.\n",
      "    error_y_minus: str or int or Series or array-like\n",
      "        Either a name of a column in `data_frame`, or a pandas Series or\n",
      "        array_like object. Values from this column or array_like are used to\n",
      "        size y-axis error bars in the negative direction. Ignored if `error_y`\n",
      "        is `None`.\n",
      "    animation_frame: str or int or Series or array-like\n",
      "        Either a name of a column in `data_frame`, or a pandas Series or\n",
      "        array_like object. Values from this column or array_like are used to\n",
      "        assign marks to animation frames.\n",
      "    animation_group: str or int or Series or array-like\n",
      "        Either a name of a column in `data_frame`, or a pandas Series or\n",
      "        array_like object. Values from this column or array_like are used to\n",
      "        provide object-constancy across animation frames: rows with matching\n",
      "        `animation_group`s will be treated as if they describe the same object\n",
      "        in each frame.\n",
      "    category_orders: dict with str keys and list of str values (default `{}`)\n",
      "        By default, in Python 3.6+, the order of categorical values in axes,\n",
      "        legends and facets depends on the order in which these values are first\n",
      "        encountered in `data_frame` (and no order is guaranteed by default in\n",
      "        Python below 3.6). This parameter is used to force a specific ordering\n",
      "        of values per column. The keys of this dict should correspond to column\n",
      "        names, and the values should be lists of strings corresponding to the\n",
      "        specific display order desired.\n",
      "    labels: dict with str keys and str values (default `{}`)\n",
      "        By default, column names are used in the figure for axis titles, legend\n",
      "        entries and hovers. This parameter allows this to be overridden. The\n",
      "        keys of this dict should correspond to column names, and the values\n",
      "        should correspond to the desired label to be displayed.\n",
      "    orientation: str, one of `'h'` for horizontal or `'v'` for vertical. \n",
      "        (default `'v'` if `x` and `y` are provided and both continous or both\n",
      "        categorical,  otherwise `'v'`(`'h'`) if `x`(`y`) is categorical and\n",
      "        `y`(`x`) is continuous,  otherwise `'v'`(`'h'`) if only `x`(`y`) is\n",
      "        provided)\n",
      "    color_discrete_sequence: list of str\n",
      "        Strings should define valid CSS-colors. When `color` is set and the\n",
      "        values in the corresponding column are not numeric, values in that\n",
      "        column are assigned colors by cycling through `color_discrete_sequence`\n",
      "        in the order described in `category_orders`, unless the value of\n",
      "        `color` is a key in `color_discrete_map`. Various useful color\n",
      "        sequences are available in the `plotly.express.colors` submodules,\n",
      "        specifically `plotly.express.colors.qualitative`.\n",
      "    color_discrete_map: dict with str keys and str values (default `{}`)\n",
      "        String values should define valid CSS-colors Used to override\n",
      "        `color_discrete_sequence` to assign a specific colors to marks\n",
      "        corresponding with specific values. Keys in `color_discrete_map` should\n",
      "        be values in the column denoted by `color`. Alternatively, if the\n",
      "        values of `color` are valid colors, the string `'identity'` may be\n",
      "        passed to cause them to be used directly.\n",
      "    color_continuous_scale: list of str\n",
      "        Strings should define valid CSS-colors This list is used to build a\n",
      "        continuous color scale when the column denoted by `color` contains\n",
      "        numeric data. Various useful color scales are available in the\n",
      "        `plotly.express.colors` submodules, specifically\n",
      "        `plotly.express.colors.sequential`, `plotly.express.colors.diverging`\n",
      "        and `plotly.express.colors.cyclical`.\n",
      "    range_color: list of two numbers\n",
      "        If provided, overrides auto-scaling on the continuous color scale.\n",
      "    color_continuous_midpoint: number (default `None`)\n",
      "        If set, computes the bounds of the continuous color scale to have the\n",
      "        desired midpoint. Setting this value is recommended when using\n",
      "        `plotly.express.colors.diverging` color scales as the inputs to\n",
      "        `color_continuous_scale`.\n",
      "    symbol_sequence: list of str\n",
      "        Strings should define valid plotly.js symbols. When `symbol` is set,\n",
      "        values in that column are assigned symbols by cycling through\n",
      "        `symbol_sequence` in the order described in `category_orders`, unless\n",
      "        the value of `symbol` is a key in `symbol_map`.\n",
      "    symbol_map: dict with str keys and str values (default `{}`)\n",
      "        String values should define plotly.js symbols Used to override\n",
      "        `symbol_sequence` to assign a specific symbols to marks corresponding\n",
      "        with specific values. Keys in `symbol_map` should be values in the\n",
      "        column denoted by `symbol`. Alternatively, if the values of `symbol`\n",
      "        are valid symbol names, the string `'identity'` may be passed to cause\n",
      "        them to be used directly.\n",
      "    opacity: float\n",
      "        Value between 0 and 1. Sets the opacity for markers.\n",
      "    size_max: int (default `20`)\n",
      "        Set the maximum mark size when using `size`.\n",
      "    marginal_x: str\n",
      "        One of `'rug'`, `'box'`, `'violin'`, or `'histogram'`. If set, a\n",
      "        horizontal subplot is drawn above the main plot, visualizing the\n",
      "        x-distribution.\n",
      "    marginal_y: str\n",
      "        One of `'rug'`, `'box'`, `'violin'`, or `'histogram'`. If set, a\n",
      "        vertical subplot is drawn to the right of the main plot, visualizing\n",
      "        the y-distribution.\n",
      "    trendline: str\n",
      "        One of `'ols'` or `'lowess'`. If `'ols'`, an Ordinary Least Squares\n",
      "        regression line will be drawn for each discrete-color/symbol group. If\n",
      "        `'lowess`', a Locally Weighted Scatterplot Smoothing line will be drawn\n",
      "        for each discrete-color/symbol group.\n",
      "    trendline_color_override: str\n",
      "        Valid CSS color. If provided, and if `trendline` is set, all trendlines\n",
      "        will be drawn in this color.\n",
      "    log_x: boolean (default `False`)\n",
      "        If `True`, the x-axis is log-scaled in cartesian coordinates.\n",
      "    log_y: boolean (default `False`)\n",
      "        If `True`, the y-axis is log-scaled in cartesian coordinates.\n",
      "    range_x: list of two numbers\n",
      "        If provided, overrides auto-scaling on the x-axis in cartesian\n",
      "        coordinates.\n",
      "    range_y: list of two numbers\n",
      "        If provided, overrides auto-scaling on the y-axis in cartesian\n",
      "        coordinates.\n",
      "    render_mode: str\n",
      "        One of `'auto'`, `'svg'` or `'webgl'`, default `'auto'` Controls the\n",
      "        browser API used to draw marks. `'svg`' is appropriate for figures of\n",
      "        less than 1000 data points, and will allow for fully-vectorized output.\n",
      "        `'webgl'` is likely necessary for acceptable performance above 1000\n",
      "        points but rasterizes part of the output.  `'auto'` uses heuristics to\n",
      "        choose the mode.\n",
      "    title: str\n",
      "        The figure title.\n",
      "    template: str or dict or plotly.graph_objects.layout.Template instance\n",
      "        The figure template name (must be a key in plotly.io.templates) or\n",
      "        definition.\n",
      "    width: int (default `None`)\n",
      "        The figure width in pixels.\n",
      "    height: int (default `None`)\n",
      "        The figure height in pixels.\n",
      "    \n",
      "    Returns\n",
      "    -------\n",
      "        plotly.graph_objects.Figure\n",
      "\n"
     ]
    }
   ],
   "source": [
    "help(px.scatter)"
   ]
  },
  {
   "cell_type": "code",
   "execution_count": 58,
   "metadata": {},
   "outputs": [
    {
     "name": "stdout",
     "output_type": "stream",
     "text": [
      " Volume in drive C is Windows\n",
      " Volume Serial Number is BA8F-7F5E\n",
      "\n",
      " Directory of C:\\Users\\Joyqiao\\Documents\\CMU\\RA\\HIGHMARK Trajectory claim\\HIghmark Project\\data\\cleaned_data\n",
      "\n",
      "11/15/2020  09:51 PM    <DIR>          .\n",
      "11/15/2020  09:51 PM    <DIR>          ..\n",
      "11/15/2020  02:34 PM        69,888,389 cleaned_0.csv\n",
      "11/15/2020  02:37 PM        66,417,182 cleaned_1.csv\n",
      "11/15/2020  03:16 PM        82,197,627 cleaned_10.csv\n",
      "11/15/2020  03:22 PM        79,762,181 cleaned_11.csv\n",
      "11/15/2020  03:27 PM        85,288,939 cleaned_12.csv\n",
      "11/15/2020  03:32 PM        86,903,824 cleaned_13.csv\n",
      "11/15/2020  03:37 PM        82,574,530 cleaned_14.csv\n",
      "11/15/2020  03:41 PM        82,458,208 cleaned_15.csv\n",
      "11/15/2020  03:44 PM        82,458,208 cleaned_16.csv\n",
      "11/15/2020  02:41 PM        72,044,443 cleaned_2.csv\n",
      "11/15/2020  02:45 PM        66,387,522 cleaned_3.csv\n",
      "11/15/2020  02:48 PM        57,601,269 cleaned_4.csv\n",
      "11/15/2020  02:53 PM        75,899,289 cleaned_5.csv\n",
      "11/15/2020  02:56 PM        76,540,969 cleaned_6.csv\n",
      "11/15/2020  03:01 PM        90,020,833 cleaned_7.csv\n",
      "11/15/2020  03:06 PM        83,777,867 cleaned_8.csv\n",
      "11/15/2020  03:11 PM        87,007,506 cleaned_9.csv\n",
      "10/17/2020  06:35 PM               312 max_min_patient.csv\n",
      "11/15/2020  10:03 PM            66,210 mindate.csv\n",
      "10/12/2020  12:56 PM             1,686 transplant_patient.csv\n",
      "09/13/2020  09:10 PM         3,144,344 wideforamt_sum_total.csv\n",
      "              21 File(s)  1,330,441,338 bytes\n",
      "               2 Dir(s)  210,411,483,136 bytes free\n"
     ]
    }
   ],
   "source": [
    "ls"
   ]
  },
  {
   "cell_type": "code",
   "execution_count": 59,
   "metadata": {},
   "outputs": [
    {
     "data": {
      "application/vnd.plotly.v1+json": {
       "config": {
        "plotlyServerURL": "https://plot.ly"
       },
       "data": [
        {
         "alignmentgroup": "True",
         "bingroup": "x",
         "hovertemplate": "stage=Unknown<br>duration=%{x}<br>count=%{y}<extra></extra>",
         "legendgroup": "Unknown",
         "marker": {
          "color": "#636efa"
         },
         "name": "Unknown",
         "offsetgroup": "Unknown",
         "orientation": "v",
         "showlegend": true,
         "type": "histogram",
         "x": [
          null,
          null,
          null,
          null,
          null,
          null,
          null,
          null,
          null,
          null,
          null,
          null,
          null,
          null,
          null,
          null,
          null,
          null,
          null,
          null,
          null,
          null,
          null,
          null,
          null,
          null,
          null,
          null,
          null,
          null,
          null,
          null,
          null,
          null,
          null,
          null,
          null,
          null,
          null,
          null,
          null,
          null,
          null,
          null,
          null,
          null,
          null,
          null,
          null,
          null,
          null,
          null,
          null,
          null,
          null,
          null,
          null,
          null,
          null,
          null,
          null,
          null,
          null,
          null,
          null,
          null,
          null,
          null,
          null,
          null,
          null,
          null,
          null,
          null,
          null,
          null,
          null,
          null,
          null,
          null,
          null,
          null,
          null,
          null,
          null,
          null,
          null,
          null,
          null,
          null,
          null,
          null,
          null,
          null,
          null,
          null,
          null,
          null,
          null,
          null,
          null,
          null,
          null,
          null,
          null,
          null,
          null,
          null,
          null,
          null,
          null,
          null,
          null,
          null,
          null,
          null,
          null,
          null,
          null,
          null,
          null,
          null,
          null,
          null,
          null,
          null,
          null,
          null,
          null,
          null,
          null,
          null,
          null,
          null,
          null,
          null,
          null,
          null,
          null,
          null,
          null,
          null,
          null,
          null,
          null,
          null,
          null,
          null,
          null,
          null,
          null,
          null,
          null,
          null,
          null,
          null,
          null,
          null,
          null,
          null,
          null,
          null,
          null,
          null,
          null,
          null,
          null,
          null,
          null,
          null,
          null,
          null,
          null,
          null,
          null,
          null,
          null,
          null,
          null,
          null,
          null,
          null,
          null,
          null,
          null,
          null,
          null,
          null,
          null,
          null,
          null,
          null,
          null,
          null,
          null,
          null,
          null,
          null,
          null,
          null,
          null,
          null,
          null,
          null,
          null,
          null,
          null,
          null,
          null,
          null,
          null,
          null,
          null,
          null,
          null,
          null,
          null,
          null,
          null,
          null,
          null,
          null,
          null,
          null,
          null,
          null,
          null,
          null,
          null,
          null,
          null,
          null,
          null,
          null,
          null,
          null,
          null,
          null,
          null,
          null,
          null,
          null,
          null,
          null,
          null,
          null,
          null,
          null,
          null,
          null,
          null,
          null,
          null,
          null,
          null,
          null,
          null,
          null,
          null,
          null,
          null,
          null,
          null,
          null,
          null,
          null,
          null,
          null,
          null,
          null,
          null,
          null,
          null,
          null,
          null,
          null,
          null,
          null,
          null,
          null,
          null,
          null,
          null,
          null,
          null,
          null,
          null,
          null,
          null,
          null,
          null
         ],
         "xaxis": "x",
         "yaxis": "y"
        },
        {
         "alignmentgroup": "True",
         "bingroup": "x",
         "hovertemplate": "stage=1<br>duration=%{x}<br>count=%{y}<extra></extra>",
         "legendgroup": "1",
         "marker": {
          "color": "#EF553B"
         },
         "name": "1",
         "offsetgroup": "1",
         "orientation": "v",
         "showlegend": true,
         "type": "histogram",
         "x": [
          2607,
          2312,
          2743,
          1914,
          273,
          278,
          956,
          1184,
          -235,
          -415,
          952,
          333,
          1741,
          1331,
          510,
          2039,
          1551,
          466,
          1885,
          2200,
          -184,
          -9,
          -738
         ],
         "xaxis": "x2",
         "yaxis": "y2"
        },
        {
         "alignmentgroup": "True",
         "bingroup": "x",
         "hovertemplate": "stage=2<br>duration=%{x}<br>count=%{y}<extra></extra>",
         "legendgroup": "2",
         "marker": {
          "color": "#00cc96"
         },
         "name": "2",
         "offsetgroup": "2",
         "orientation": "v",
         "showlegend": true,
         "type": "histogram",
         "x": [
          -23,
          2784,
          3433,
          204,
          2472,
          3227,
          1337,
          2358,
          1456,
          2029,
          96,
          139,
          488,
          2015,
          2140,
          3042,
          3021,
          2323,
          3087,
          55,
          65,
          1706,
          1257,
          2217,
          3033,
          1723,
          2257,
          3304,
          1309,
          1521,
          1413,
          965,
          1137,
          1788,
          763,
          1879,
          2769,
          3080,
          1445,
          1856,
          1324,
          1563,
          -3,
          1423,
          301,
          251,
          -472,
          1770,
          716,
          -102,
          2089,
          424,
          432,
          208,
          -422,
          1442,
          1231,
          1357,
          2606,
          2287,
          -566,
          182
         ],
         "xaxis": "x3",
         "yaxis": "y3"
        },
        {
         "alignmentgroup": "True",
         "bingroup": "x",
         "hovertemplate": "stage=3a<br>duration=%{x}<br>count=%{y}<extra></extra>",
         "legendgroup": "3a",
         "marker": {
          "color": "#ab63fa"
         },
         "name": "3a",
         "offsetgroup": "3a",
         "orientation": "v",
         "showlegend": true,
         "type": "histogram",
         "x": [
          1913,
          3379,
          1977,
          2162,
          2497,
          1987,
          2221,
          2342,
          2555,
          2180,
          3140,
          2470,
          2413,
          2715,
          3068,
          1452,
          1779,
          1591,
          2902,
          2565,
          3572,
          2117,
          1148,
          -881,
          199,
          1572,
          2178,
          2542,
          659,
          1925,
          2371,
          3234,
          273,
          775,
          2461,
          1113,
          1085,
          1674,
          3161,
          1603,
          1777,
          820,
          2922,
          2643,
          2159,
          1907,
          1285,
          1140,
          2081,
          2070,
          1504,
          1640,
          621,
          1058,
          2585,
          2120,
          737,
          1494,
          466,
          1507,
          219,
          56,
          186,
          1256,
          176,
          1692,
          21,
          228,
          2434,
          2053,
          1554,
          2268,
          2744,
          308,
          394,
          2242,
          -33,
          2038,
          683,
          1476,
          2253,
          1462,
          1388,
          1591,
          2615
         ],
         "xaxis": "x4",
         "yaxis": "y4"
        },
        {
         "alignmentgroup": "True",
         "bingroup": "x",
         "hovertemplate": "stage=3b<br>duration=%{x}<br>count=%{y}<extra></extra>",
         "legendgroup": "3b",
         "marker": {
          "color": "#FFA15A"
         },
         "name": "3b",
         "offsetgroup": "3b",
         "orientation": "v",
         "showlegend": true,
         "type": "histogram",
         "x": [
          1080,
          349,
          2589,
          1045,
          2656,
          2014,
          1632,
          2639,
          392,
          2017,
          1128,
          860,
          1362,
          2234,
          2161,
          1534,
          2215,
          1839,
          1810,
          -641,
          1350,
          1807,
          1857,
          1913,
          2030,
          2202,
          2559,
          2493,
          2539,
          2552,
          1353,
          1568,
          2682,
          2359,
          1936,
          2359,
          2504,
          2281,
          2607,
          1336,
          179,
          -924,
          1245,
          2194,
          2704,
          1254,
          431,
          1398,
          2147,
          3148,
          1970,
          1484,
          2985,
          2658,
          394,
          730,
          1332,
          1916,
          910,
          2280,
          2227,
          2244,
          938,
          507,
          4,
          626,
          -38,
          205,
          1440,
          1942,
          1800,
          2413,
          2576,
          2460,
          -29,
          462,
          327,
          405,
          1764,
          2596,
          2184,
          2431,
          3697,
          36,
          685,
          1853,
          1778,
          759,
          3084,
          1057,
          1100,
          1378,
          1174,
          2295,
          1206,
          1116,
          740,
          1382,
          1494,
          866,
          809,
          285,
          1611,
          2894,
          1854,
          1983,
          2108,
          1593,
          1073,
          525,
          101,
          117,
          711,
          1433,
          1645,
          2706,
          97,
          1194,
          182,
          806,
          1505,
          -988,
          2169,
          621,
          1091,
          -228,
          839,
          -99,
          345,
          -278,
          527,
          -350,
          -185,
          2498,
          278,
          151,
          -60,
          122,
          463
         ],
         "xaxis": "x5",
         "yaxis": "y5"
        },
        {
         "alignmentgroup": "True",
         "bingroup": "x",
         "hovertemplate": "stage=4<br>duration=%{x}<br>count=%{y}<extra></extra>",
         "legendgroup": "4",
         "marker": {
          "color": "#19d3f3"
         },
         "name": "4",
         "offsetgroup": "4",
         "orientation": "v",
         "showlegend": true,
         "type": "histogram",
         "x": [
          1718,
          1009,
          1324,
          1050,
          432,
          266,
          1224,
          136,
          1822,
          1613,
          1946,
          596,
          828,
          378,
          533,
          2300,
          1533,
          2115,
          3029,
          2016,
          2073,
          411,
          1673,
          463,
          1533,
          289,
          1022,
          1259,
          1555,
          1494,
          1503,
          8,
          256,
          332,
          1560,
          2643,
          3200,
          2866,
          2196,
          490,
          437,
          511,
          205,
          1122,
          1182,
          715,
          179,
          -838,
          143,
          1224,
          843,
          -18,
          2505,
          2090,
          1283,
          2941,
          2034,
          582,
          503,
          92,
          455,
          604,
          69,
          -45,
          1859,
          13,
          2433,
          2909,
          348,
          2174,
          3136,
          3380,
          2597,
          2333,
          63,
          476,
          738,
          857,
          474,
          1178,
          2501,
          2444,
          2093,
          1102,
          64,
          50,
          361,
          661,
          1967,
          1115,
          1596,
          895,
          992,
          2011,
          2639,
          354,
          696,
          1162,
          1051,
          330,
          343,
          9,
          392,
          2091,
          1863,
          633,
          -68,
          736,
          469,
          229,
          1163,
          234,
          665,
          107,
          1209,
          643,
          1857,
          2055,
          2924,
          266,
          153,
          359,
          170,
          931,
          -38,
          25,
          389,
          2540,
          119,
          -42,
          1239,
          85,
          1080,
          112,
          1444,
          293,
          177,
          130,
          -136,
          304,
          1370,
          1031,
          1762,
          106,
          2212,
          1133,
          1674,
          826,
          2090,
          315,
          524,
          604,
          427,
          26,
          1283,
          605,
          483,
          938,
          555,
          1334,
          164,
          863,
          415,
          838,
          485,
          1173,
          1041,
          271,
          260,
          13,
          115,
          131,
          1107,
          12,
          61,
          1690,
          -24,
          991,
          223,
          -537,
          1754,
          695,
          1959,
          86,
          100,
          -121,
          739,
          763,
          289,
          1030,
          18,
          231,
          651,
          2755,
          3575
         ],
         "xaxis": "x6",
         "yaxis": "y6"
        },
        {
         "alignmentgroup": "True",
         "bingroup": "x",
         "hovertemplate": "stage=5<br>duration=%{x}<br>count=%{y}<extra></extra>",
         "legendgroup": "5",
         "marker": {
          "color": "#FF6692"
         },
         "name": "5",
         "offsetgroup": "5",
         "orientation": "v",
         "showlegend": true,
         "type": "histogram",
         "x": [
          673,
          -540,
          -1979,
          1484,
          72,
          359,
          1275,
          853,
          719,
          215,
          -664,
          787,
          1893,
          -2333,
          410,
          271,
          -427,
          147,
          -667,
          101,
          -551,
          1788,
          -15,
          -658,
          -4,
          -200,
          -447,
          -655,
          373,
          1668,
          2188,
          840,
          2053,
          -147,
          231,
          -134,
          703,
          -62,
          -701,
          -169,
          -42,
          1857,
          -68,
          928,
          -414,
          -902,
          99,
          155,
          -506,
          -649,
          -442,
          1044,
          1807,
          93,
          -27,
          -267,
          3,
          1845,
          65,
          124,
          1213,
          -1951,
          1031,
          25,
          85,
          -1,
          606,
          1163,
          -465,
          -157,
          -644,
          148,
          -241,
          -80,
          -7,
          266,
          17,
          0,
          -260,
          1690,
          1842,
          2299,
          25,
          -417,
          308,
          483,
          -185,
          -344,
          142,
          1542,
          2,
          682,
          27,
          5,
          1169,
          -957,
          -422,
          51,
          1508,
          1666,
          1436,
          -1345,
          58,
          -884,
          -20,
          1779,
          -163,
          -1173,
          27,
          -305,
          2628,
          439,
          391,
          -1043,
          29,
          -1235,
          2341,
          461,
          187,
          -462,
          847,
          2294,
          2151,
          849,
          -385,
          -2052,
          -1738,
          7,
          17,
          35,
          2318,
          223,
          2234,
          2718,
          -144,
          -98,
          56,
          -30,
          -639,
          41,
          102,
          16,
          2189
         ],
         "xaxis": "x7",
         "yaxis": "y7"
        }
       ],
       "layout": {
        "annotations": [
         {
          "font": {},
          "showarrow": false,
          "text": "stage=Unknown",
          "x": 0.06285714285714285,
          "xanchor": "center",
          "xref": "paper",
          "y": 1,
          "yanchor": "bottom",
          "yref": "paper"
         },
         {
          "font": {},
          "showarrow": false,
          "text": "stage=1",
          "x": 0.20857142857142852,
          "xanchor": "center",
          "xref": "paper",
          "y": 1,
          "yanchor": "bottom",
          "yref": "paper"
         },
         {
          "font": {},
          "showarrow": false,
          "text": "stage=2",
          "x": 0.3542857142857142,
          "xanchor": "center",
          "xref": "paper",
          "y": 1,
          "yanchor": "bottom",
          "yref": "paper"
         },
         {
          "font": {},
          "showarrow": false,
          "text": "stage=3a",
          "x": 0.5,
          "xanchor": "center",
          "xref": "paper",
          "y": 1,
          "yanchor": "bottom",
          "yref": "paper"
         },
         {
          "font": {},
          "showarrow": false,
          "text": "stage=3b",
          "x": 0.6457142857142856,
          "xanchor": "center",
          "xref": "paper",
          "y": 1,
          "yanchor": "bottom",
          "yref": "paper"
         },
         {
          "font": {},
          "showarrow": false,
          "text": "stage=4",
          "x": 0.7914285714285713,
          "xanchor": "center",
          "xref": "paper",
          "y": 1,
          "yanchor": "bottom",
          "yref": "paper"
         },
         {
          "font": {},
          "showarrow": false,
          "text": "stage=5",
          "x": 0.9371428571428569,
          "xanchor": "center",
          "xref": "paper",
          "y": 1,
          "yanchor": "bottom",
          "yref": "paper"
         }
        ],
        "barmode": "relative",
        "legend": {
         "title": {
          "text": "stage"
         },
         "tracegroupgap": 0
        },
        "margin": {
         "t": 60
        },
        "template": {
         "data": {
          "bar": [
           {
            "error_x": {
             "color": "#2a3f5f"
            },
            "error_y": {
             "color": "#2a3f5f"
            },
            "marker": {
             "line": {
              "color": "#E5ECF6",
              "width": 0.5
             }
            },
            "type": "bar"
           }
          ],
          "barpolar": [
           {
            "marker": {
             "line": {
              "color": "#E5ECF6",
              "width": 0.5
             }
            },
            "type": "barpolar"
           }
          ],
          "carpet": [
           {
            "aaxis": {
             "endlinecolor": "#2a3f5f",
             "gridcolor": "white",
             "linecolor": "white",
             "minorgridcolor": "white",
             "startlinecolor": "#2a3f5f"
            },
            "baxis": {
             "endlinecolor": "#2a3f5f",
             "gridcolor": "white",
             "linecolor": "white",
             "minorgridcolor": "white",
             "startlinecolor": "#2a3f5f"
            },
            "type": "carpet"
           }
          ],
          "choropleth": [
           {
            "colorbar": {
             "outlinewidth": 0,
             "ticks": ""
            },
            "type": "choropleth"
           }
          ],
          "contour": [
           {
            "colorbar": {
             "outlinewidth": 0,
             "ticks": ""
            },
            "colorscale": [
             [
              0,
              "#0d0887"
             ],
             [
              0.1111111111111111,
              "#46039f"
             ],
             [
              0.2222222222222222,
              "#7201a8"
             ],
             [
              0.3333333333333333,
              "#9c179e"
             ],
             [
              0.4444444444444444,
              "#bd3786"
             ],
             [
              0.5555555555555556,
              "#d8576b"
             ],
             [
              0.6666666666666666,
              "#ed7953"
             ],
             [
              0.7777777777777778,
              "#fb9f3a"
             ],
             [
              0.8888888888888888,
              "#fdca26"
             ],
             [
              1,
              "#f0f921"
             ]
            ],
            "type": "contour"
           }
          ],
          "contourcarpet": [
           {
            "colorbar": {
             "outlinewidth": 0,
             "ticks": ""
            },
            "type": "contourcarpet"
           }
          ],
          "heatmap": [
           {
            "colorbar": {
             "outlinewidth": 0,
             "ticks": ""
            },
            "colorscale": [
             [
              0,
              "#0d0887"
             ],
             [
              0.1111111111111111,
              "#46039f"
             ],
             [
              0.2222222222222222,
              "#7201a8"
             ],
             [
              0.3333333333333333,
              "#9c179e"
             ],
             [
              0.4444444444444444,
              "#bd3786"
             ],
             [
              0.5555555555555556,
              "#d8576b"
             ],
             [
              0.6666666666666666,
              "#ed7953"
             ],
             [
              0.7777777777777778,
              "#fb9f3a"
             ],
             [
              0.8888888888888888,
              "#fdca26"
             ],
             [
              1,
              "#f0f921"
             ]
            ],
            "type": "heatmap"
           }
          ],
          "heatmapgl": [
           {
            "colorbar": {
             "outlinewidth": 0,
             "ticks": ""
            },
            "colorscale": [
             [
              0,
              "#0d0887"
             ],
             [
              0.1111111111111111,
              "#46039f"
             ],
             [
              0.2222222222222222,
              "#7201a8"
             ],
             [
              0.3333333333333333,
              "#9c179e"
             ],
             [
              0.4444444444444444,
              "#bd3786"
             ],
             [
              0.5555555555555556,
              "#d8576b"
             ],
             [
              0.6666666666666666,
              "#ed7953"
             ],
             [
              0.7777777777777778,
              "#fb9f3a"
             ],
             [
              0.8888888888888888,
              "#fdca26"
             ],
             [
              1,
              "#f0f921"
             ]
            ],
            "type": "heatmapgl"
           }
          ],
          "histogram": [
           {
            "marker": {
             "colorbar": {
              "outlinewidth": 0,
              "ticks": ""
             }
            },
            "type": "histogram"
           }
          ],
          "histogram2d": [
           {
            "colorbar": {
             "outlinewidth": 0,
             "ticks": ""
            },
            "colorscale": [
             [
              0,
              "#0d0887"
             ],
             [
              0.1111111111111111,
              "#46039f"
             ],
             [
              0.2222222222222222,
              "#7201a8"
             ],
             [
              0.3333333333333333,
              "#9c179e"
             ],
             [
              0.4444444444444444,
              "#bd3786"
             ],
             [
              0.5555555555555556,
              "#d8576b"
             ],
             [
              0.6666666666666666,
              "#ed7953"
             ],
             [
              0.7777777777777778,
              "#fb9f3a"
             ],
             [
              0.8888888888888888,
              "#fdca26"
             ],
             [
              1,
              "#f0f921"
             ]
            ],
            "type": "histogram2d"
           }
          ],
          "histogram2dcontour": [
           {
            "colorbar": {
             "outlinewidth": 0,
             "ticks": ""
            },
            "colorscale": [
             [
              0,
              "#0d0887"
             ],
             [
              0.1111111111111111,
              "#46039f"
             ],
             [
              0.2222222222222222,
              "#7201a8"
             ],
             [
              0.3333333333333333,
              "#9c179e"
             ],
             [
              0.4444444444444444,
              "#bd3786"
             ],
             [
              0.5555555555555556,
              "#d8576b"
             ],
             [
              0.6666666666666666,
              "#ed7953"
             ],
             [
              0.7777777777777778,
              "#fb9f3a"
             ],
             [
              0.8888888888888888,
              "#fdca26"
             ],
             [
              1,
              "#f0f921"
             ]
            ],
            "type": "histogram2dcontour"
           }
          ],
          "mesh3d": [
           {
            "colorbar": {
             "outlinewidth": 0,
             "ticks": ""
            },
            "type": "mesh3d"
           }
          ],
          "parcoords": [
           {
            "line": {
             "colorbar": {
              "outlinewidth": 0,
              "ticks": ""
             }
            },
            "type": "parcoords"
           }
          ],
          "pie": [
           {
            "automargin": true,
            "type": "pie"
           }
          ],
          "scatter": [
           {
            "marker": {
             "colorbar": {
              "outlinewidth": 0,
              "ticks": ""
             }
            },
            "type": "scatter"
           }
          ],
          "scatter3d": [
           {
            "line": {
             "colorbar": {
              "outlinewidth": 0,
              "ticks": ""
             }
            },
            "marker": {
             "colorbar": {
              "outlinewidth": 0,
              "ticks": ""
             }
            },
            "type": "scatter3d"
           }
          ],
          "scattercarpet": [
           {
            "marker": {
             "colorbar": {
              "outlinewidth": 0,
              "ticks": ""
             }
            },
            "type": "scattercarpet"
           }
          ],
          "scattergeo": [
           {
            "marker": {
             "colorbar": {
              "outlinewidth": 0,
              "ticks": ""
             }
            },
            "type": "scattergeo"
           }
          ],
          "scattergl": [
           {
            "marker": {
             "colorbar": {
              "outlinewidth": 0,
              "ticks": ""
             }
            },
            "type": "scattergl"
           }
          ],
          "scattermapbox": [
           {
            "marker": {
             "colorbar": {
              "outlinewidth": 0,
              "ticks": ""
             }
            },
            "type": "scattermapbox"
           }
          ],
          "scatterpolar": [
           {
            "marker": {
             "colorbar": {
              "outlinewidth": 0,
              "ticks": ""
             }
            },
            "type": "scatterpolar"
           }
          ],
          "scatterpolargl": [
           {
            "marker": {
             "colorbar": {
              "outlinewidth": 0,
              "ticks": ""
             }
            },
            "type": "scatterpolargl"
           }
          ],
          "scatterternary": [
           {
            "marker": {
             "colorbar": {
              "outlinewidth": 0,
              "ticks": ""
             }
            },
            "type": "scatterternary"
           }
          ],
          "surface": [
           {
            "colorbar": {
             "outlinewidth": 0,
             "ticks": ""
            },
            "colorscale": [
             [
              0,
              "#0d0887"
             ],
             [
              0.1111111111111111,
              "#46039f"
             ],
             [
              0.2222222222222222,
              "#7201a8"
             ],
             [
              0.3333333333333333,
              "#9c179e"
             ],
             [
              0.4444444444444444,
              "#bd3786"
             ],
             [
              0.5555555555555556,
              "#d8576b"
             ],
             [
              0.6666666666666666,
              "#ed7953"
             ],
             [
              0.7777777777777778,
              "#fb9f3a"
             ],
             [
              0.8888888888888888,
              "#fdca26"
             ],
             [
              1,
              "#f0f921"
             ]
            ],
            "type": "surface"
           }
          ],
          "table": [
           {
            "cells": {
             "fill": {
              "color": "#EBF0F8"
             },
             "line": {
              "color": "white"
             }
            },
            "header": {
             "fill": {
              "color": "#C8D4E3"
             },
             "line": {
              "color": "white"
             }
            },
            "type": "table"
           }
          ]
         },
         "layout": {
          "annotationdefaults": {
           "arrowcolor": "#2a3f5f",
           "arrowhead": 0,
           "arrowwidth": 1
          },
          "coloraxis": {
           "colorbar": {
            "outlinewidth": 0,
            "ticks": ""
           }
          },
          "colorscale": {
           "diverging": [
            [
             0,
             "#8e0152"
            ],
            [
             0.1,
             "#c51b7d"
            ],
            [
             0.2,
             "#de77ae"
            ],
            [
             0.3,
             "#f1b6da"
            ],
            [
             0.4,
             "#fde0ef"
            ],
            [
             0.5,
             "#f7f7f7"
            ],
            [
             0.6,
             "#e6f5d0"
            ],
            [
             0.7,
             "#b8e186"
            ],
            [
             0.8,
             "#7fbc41"
            ],
            [
             0.9,
             "#4d9221"
            ],
            [
             1,
             "#276419"
            ]
           ],
           "sequential": [
            [
             0,
             "#0d0887"
            ],
            [
             0.1111111111111111,
             "#46039f"
            ],
            [
             0.2222222222222222,
             "#7201a8"
            ],
            [
             0.3333333333333333,
             "#9c179e"
            ],
            [
             0.4444444444444444,
             "#bd3786"
            ],
            [
             0.5555555555555556,
             "#d8576b"
            ],
            [
             0.6666666666666666,
             "#ed7953"
            ],
            [
             0.7777777777777778,
             "#fb9f3a"
            ],
            [
             0.8888888888888888,
             "#fdca26"
            ],
            [
             1,
             "#f0f921"
            ]
           ],
           "sequentialminus": [
            [
             0,
             "#0d0887"
            ],
            [
             0.1111111111111111,
             "#46039f"
            ],
            [
             0.2222222222222222,
             "#7201a8"
            ],
            [
             0.3333333333333333,
             "#9c179e"
            ],
            [
             0.4444444444444444,
             "#bd3786"
            ],
            [
             0.5555555555555556,
             "#d8576b"
            ],
            [
             0.6666666666666666,
             "#ed7953"
            ],
            [
             0.7777777777777778,
             "#fb9f3a"
            ],
            [
             0.8888888888888888,
             "#fdca26"
            ],
            [
             1,
             "#f0f921"
            ]
           ]
          },
          "colorway": [
           "#636efa",
           "#EF553B",
           "#00cc96",
           "#ab63fa",
           "#FFA15A",
           "#19d3f3",
           "#FF6692",
           "#B6E880",
           "#FF97FF",
           "#FECB52"
          ],
          "font": {
           "color": "#2a3f5f"
          },
          "geo": {
           "bgcolor": "white",
           "lakecolor": "white",
           "landcolor": "#E5ECF6",
           "showlakes": true,
           "showland": true,
           "subunitcolor": "white"
          },
          "hoverlabel": {
           "align": "left"
          },
          "hovermode": "closest",
          "mapbox": {
           "style": "light"
          },
          "paper_bgcolor": "white",
          "plot_bgcolor": "#E5ECF6",
          "polar": {
           "angularaxis": {
            "gridcolor": "white",
            "linecolor": "white",
            "ticks": ""
           },
           "bgcolor": "#E5ECF6",
           "radialaxis": {
            "gridcolor": "white",
            "linecolor": "white",
            "ticks": ""
           }
          },
          "scene": {
           "xaxis": {
            "backgroundcolor": "#E5ECF6",
            "gridcolor": "white",
            "gridwidth": 2,
            "linecolor": "white",
            "showbackground": true,
            "ticks": "",
            "zerolinecolor": "white"
           },
           "yaxis": {
            "backgroundcolor": "#E5ECF6",
            "gridcolor": "white",
            "gridwidth": 2,
            "linecolor": "white",
            "showbackground": true,
            "ticks": "",
            "zerolinecolor": "white"
           },
           "zaxis": {
            "backgroundcolor": "#E5ECF6",
            "gridcolor": "white",
            "gridwidth": 2,
            "linecolor": "white",
            "showbackground": true,
            "ticks": "",
            "zerolinecolor": "white"
           }
          },
          "shapedefaults": {
           "line": {
            "color": "#2a3f5f"
           }
          },
          "ternary": {
           "aaxis": {
            "gridcolor": "white",
            "linecolor": "white",
            "ticks": ""
           },
           "baxis": {
            "gridcolor": "white",
            "linecolor": "white",
            "ticks": ""
           },
           "bgcolor": "#E5ECF6",
           "caxis": {
            "gridcolor": "white",
            "linecolor": "white",
            "ticks": ""
           }
          },
          "title": {
           "x": 0.05
          },
          "xaxis": {
           "automargin": true,
           "gridcolor": "white",
           "linecolor": "white",
           "ticks": "",
           "title": {
            "standoff": 15
           },
           "zerolinecolor": "white",
           "zerolinewidth": 2
          },
          "yaxis": {
           "automargin": true,
           "gridcolor": "white",
           "linecolor": "white",
           "ticks": "",
           "title": {
            "standoff": 15
           },
           "zerolinecolor": "white",
           "zerolinewidth": 2
          }
         }
        },
        "xaxis": {
         "anchor": "y",
         "domain": [
          0,
          0.1257142857142857
         ],
         "title": {
          "text": "duration"
         }
        },
        "xaxis2": {
         "anchor": "y2",
         "domain": [
          0.14571428571428569,
          0.27142857142857135
         ],
         "matches": "x",
         "title": {
          "text": "duration"
         }
        },
        "xaxis3": {
         "anchor": "y3",
         "domain": [
          0.29142857142857137,
          0.41714285714285704
         ],
         "matches": "x",
         "title": {
          "text": "duration"
         }
        },
        "xaxis4": {
         "anchor": "y4",
         "domain": [
          0.4371428571428571,
          0.5628571428571428
         ],
         "matches": "x",
         "title": {
          "text": "duration"
         }
        },
        "xaxis5": {
         "anchor": "y5",
         "domain": [
          0.5828571428571427,
          0.7085714285714284
         ],
         "matches": "x",
         "title": {
          "text": "duration"
         }
        },
        "xaxis6": {
         "anchor": "y6",
         "domain": [
          0.7285714285714284,
          0.8542857142857141
         ],
         "matches": "x",
         "title": {
          "text": "duration"
         }
        },
        "xaxis7": {
         "anchor": "y7",
         "domain": [
          0.8742857142857141,
          0.9999999999999998
         ],
         "matches": "x",
         "title": {
          "text": "duration"
         }
        },
        "yaxis": {
         "anchor": "x",
         "domain": [
          0,
          1
         ],
         "title": {
          "text": "count"
         }
        },
        "yaxis2": {
         "anchor": "x2",
         "domain": [
          0,
          1
         ],
         "matches": "y",
         "showticklabels": false
        },
        "yaxis3": {
         "anchor": "x3",
         "domain": [
          0,
          1
         ],
         "matches": "y",
         "showticklabels": false
        },
        "yaxis4": {
         "anchor": "x4",
         "domain": [
          0,
          1
         ],
         "matches": "y",
         "showticklabels": false
        },
        "yaxis5": {
         "anchor": "x5",
         "domain": [
          0,
          1
         ],
         "matches": "y",
         "showticklabels": false
        },
        "yaxis6": {
         "anchor": "x6",
         "domain": [
          0,
          1
         ],
         "matches": "y",
         "showticklabels": false
        },
        "yaxis7": {
         "anchor": "x7",
         "domain": [
          0,
          1
         ],
         "matches": "y",
         "showticklabels": false
        }
       }
      },
      "text/html": [
       "<div>                            <div id=\"8632f33f-578c-4f6c-bc13-88dd43d7f1ae\" class=\"plotly-graph-div\" style=\"height:525px; width:100%;\"></div>            <script type=\"text/javascript\">                require([\"plotly\"], function(Plotly) {                    window.PLOTLYENV=window.PLOTLYENV || {};                                    if (document.getElementById(\"8632f33f-578c-4f6c-bc13-88dd43d7f1ae\")) {                    Plotly.newPlot(                        \"8632f33f-578c-4f6c-bc13-88dd43d7f1ae\",                        [{\"alignmentgroup\": \"True\", \"bingroup\": \"x\", \"hovertemplate\": \"stage=Unknown<br>duration=%{x}<br>count=%{y}<extra></extra>\", \"legendgroup\": \"Unknown\", \"marker\": {\"color\": \"#636efa\"}, \"name\": \"Unknown\", \"offsetgroup\": \"Unknown\", \"orientation\": \"v\", \"showlegend\": true, \"type\": \"histogram\", \"x\": [null, null, null, null, null, null, null, null, null, null, null, null, null, null, null, null, null, null, null, null, null, null, null, null, null, null, null, null, null, null, null, null, null, null, null, null, null, null, null, null, null, null, null, null, null, null, null, null, null, null, null, null, null, null, null, null, null, null, null, null, null, null, null, null, null, null, null, null, null, null, null, null, null, null, null, null, null, null, null, null, null, null, null, null, null, null, null, null, null, null, null, null, null, null, null, null, null, null, null, null, null, null, null, null, null, null, null, null, null, null, null, null, null, null, null, null, null, null, null, null, null, null, null, null, null, null, null, null, null, null, null, null, null, null, null, null, null, null, null, null, null, null, null, null, null, null, null, null, null, null, null, null, null, null, null, null, null, null, null, null, null, null, null, null, null, null, null, null, null, null, null, null, null, null, null, null, null, null, null, null, null, null, null, null, null, null, null, null, null, null, null, null, null, null, null, null, null, null, null, null, null, null, null, null, null, null, null, null, null, null, null, null, null, null, null, null, null, null, null, null, null, null, null, null, null, null, null, null, null, null, null, null, null, null, null, null, null, null, null, null, null, null, null, null, null, null, null, null, null, null, null, null, null, null, null, null, null, null, null, null, null, null, null, null, null, null, null, null, null, null, null, null, null, null, null, null, null, null, null, null, null, null, null, null, null, null, null, null, null, null, null], \"xaxis\": \"x\", \"yaxis\": \"y\"}, {\"alignmentgroup\": \"True\", \"bingroup\": \"x\", \"hovertemplate\": \"stage=1<br>duration=%{x}<br>count=%{y}<extra></extra>\", \"legendgroup\": \"1\", \"marker\": {\"color\": \"#EF553B\"}, \"name\": \"1\", \"offsetgroup\": \"1\", \"orientation\": \"v\", \"showlegend\": true, \"type\": \"histogram\", \"x\": [2607.0, 2312.0, 2743.0, 1914.0, 273.0, 278.0, 956.0, 1184.0, -235.0, -415.0, 952.0, 333.0, 1741.0, 1331.0, 510.0, 2039.0, 1551.0, 466.0, 1885.0, 2200.0, -184.0, -9.0, -738.0], \"xaxis\": \"x2\", \"yaxis\": \"y2\"}, {\"alignmentgroup\": \"True\", \"bingroup\": \"x\", \"hovertemplate\": \"stage=2<br>duration=%{x}<br>count=%{y}<extra></extra>\", \"legendgroup\": \"2\", \"marker\": {\"color\": \"#00cc96\"}, \"name\": \"2\", \"offsetgroup\": \"2\", \"orientation\": \"v\", \"showlegend\": true, \"type\": \"histogram\", \"x\": [-23.0, 2784.0, 3433.0, 204.0, 2472.0, 3227.0, 1337.0, 2358.0, 1456.0, 2029.0, 96.0, 139.0, 488.0, 2015.0, 2140.0, 3042.0, 3021.0, 2323.0, 3087.0, 55.0, 65.0, 1706.0, 1257.0, 2217.0, 3033.0, 1723.0, 2257.0, 3304.0, 1309.0, 1521.0, 1413.0, 965.0, 1137.0, 1788.0, 763.0, 1879.0, 2769.0, 3080.0, 1445.0, 1856.0, 1324.0, 1563.0, -3.0, 1423.0, 301.0, 251.0, -472.0, 1770.0, 716.0, -102.0, 2089.0, 424.0, 432.0, 208.0, -422.0, 1442.0, 1231.0, 1357.0, 2606.0, 2287.0, -566.0, 182.0], \"xaxis\": \"x3\", \"yaxis\": \"y3\"}, {\"alignmentgroup\": \"True\", \"bingroup\": \"x\", \"hovertemplate\": \"stage=3a<br>duration=%{x}<br>count=%{y}<extra></extra>\", \"legendgroup\": \"3a\", \"marker\": {\"color\": \"#ab63fa\"}, \"name\": \"3a\", \"offsetgroup\": \"3a\", \"orientation\": \"v\", \"showlegend\": true, \"type\": \"histogram\", \"x\": [1913.0, 3379.0, 1977.0, 2162.0, 2497.0, 1987.0, 2221.0, 2342.0, 2555.0, 2180.0, 3140.0, 2470.0, 2413.0, 2715.0, 3068.0, 1452.0, 1779.0, 1591.0, 2902.0, 2565.0, 3572.0, 2117.0, 1148.0, -881.0, 199.0, 1572.0, 2178.0, 2542.0, 659.0, 1925.0, 2371.0, 3234.0, 273.0, 775.0, 2461.0, 1113.0, 1085.0, 1674.0, 3161.0, 1603.0, 1777.0, 820.0, 2922.0, 2643.0, 2159.0, 1907.0, 1285.0, 1140.0, 2081.0, 2070.0, 1504.0, 1640.0, 621.0, 1058.0, 2585.0, 2120.0, 737.0, 1494.0, 466.0, 1507.0, 219.0, 56.0, 186.0, 1256.0, 176.0, 1692.0, 21.0, 228.0, 2434.0, 2053.0, 1554.0, 2268.0, 2744.0, 308.0, 394.0, 2242.0, -33.0, 2038.0, 683.0, 1476.0, 2253.0, 1462.0, 1388.0, 1591.0, 2615.0], \"xaxis\": \"x4\", \"yaxis\": \"y4\"}, {\"alignmentgroup\": \"True\", \"bingroup\": \"x\", \"hovertemplate\": \"stage=3b<br>duration=%{x}<br>count=%{y}<extra></extra>\", \"legendgroup\": \"3b\", \"marker\": {\"color\": \"#FFA15A\"}, \"name\": \"3b\", \"offsetgroup\": \"3b\", \"orientation\": \"v\", \"showlegend\": true, \"type\": \"histogram\", \"x\": [1080.0, 349.0, 2589.0, 1045.0, 2656.0, 2014.0, 1632.0, 2639.0, 392.0, 2017.0, 1128.0, 860.0, 1362.0, 2234.0, 2161.0, 1534.0, 2215.0, 1839.0, 1810.0, -641.0, 1350.0, 1807.0, 1857.0, 1913.0, 2030.0, 2202.0, 2559.0, 2493.0, 2539.0, 2552.0, 1353.0, 1568.0, 2682.0, 2359.0, 1936.0, 2359.0, 2504.0, 2281.0, 2607.0, 1336.0, 179.0, -924.0, 1245.0, 2194.0, 2704.0, 1254.0, 431.0, 1398.0, 2147.0, 3148.0, 1970.0, 1484.0, 2985.0, 2658.0, 394.0, 730.0, 1332.0, 1916.0, 910.0, 2280.0, 2227.0, 2244.0, 938.0, 507.0, 4.0, 626.0, -38.0, 205.0, 1440.0, 1942.0, 1800.0, 2413.0, 2576.0, 2460.0, -29.0, 462.0, 327.0, 405.0, 1764.0, 2596.0, 2184.0, 2431.0, 3697.0, 36.0, 685.0, 1853.0, 1778.0, 759.0, 3084.0, 1057.0, 1100.0, 1378.0, 1174.0, 2295.0, 1206.0, 1116.0, 740.0, 1382.0, 1494.0, 866.0, 809.0, 285.0, 1611.0, 2894.0, 1854.0, 1983.0, 2108.0, 1593.0, 1073.0, 525.0, 101.0, 117.0, 711.0, 1433.0, 1645.0, 2706.0, 97.0, 1194.0, 182.0, 806.0, 1505.0, -988.0, 2169.0, 621.0, 1091.0, -228.0, 839.0, -99.0, 345.0, -278.0, 527.0, -350.0, -185.0, 2498.0, 278.0, 151.0, -60.0, 122.0, 463.0], \"xaxis\": \"x5\", \"yaxis\": \"y5\"}, {\"alignmentgroup\": \"True\", \"bingroup\": \"x\", \"hovertemplate\": \"stage=4<br>duration=%{x}<br>count=%{y}<extra></extra>\", \"legendgroup\": \"4\", \"marker\": {\"color\": \"#19d3f3\"}, \"name\": \"4\", \"offsetgroup\": \"4\", \"orientation\": \"v\", \"showlegend\": true, \"type\": \"histogram\", \"x\": [1718.0, 1009.0, 1324.0, 1050.0, 432.0, 266.0, 1224.0, 136.0, 1822.0, 1613.0, 1946.0, 596.0, 828.0, 378.0, 533.0, 2300.0, 1533.0, 2115.0, 3029.0, 2016.0, 2073.0, 411.0, 1673.0, 463.0, 1533.0, 289.0, 1022.0, 1259.0, 1555.0, 1494.0, 1503.0, 8.0, 256.0, 332.0, 1560.0, 2643.0, 3200.0, 2866.0, 2196.0, 490.0, 437.0, 511.0, 205.0, 1122.0, 1182.0, 715.0, 179.0, -838.0, 143.0, 1224.0, 843.0, -18.0, 2505.0, 2090.0, 1283.0, 2941.0, 2034.0, 582.0, 503.0, 92.0, 455.0, 604.0, 69.0, -45.0, 1859.0, 13.0, 2433.0, 2909.0, 348.0, 2174.0, 3136.0, 3380.0, 2597.0, 2333.0, 63.0, 476.0, 738.0, 857.0, 474.0, 1178.0, 2501.0, 2444.0, 2093.0, 1102.0, 64.0, 50.0, 361.0, 661.0, 1967.0, 1115.0, 1596.0, 895.0, 992.0, 2011.0, 2639.0, 354.0, 696.0, 1162.0, 1051.0, 330.0, 343.0, 9.0, 392.0, 2091.0, 1863.0, 633.0, -68.0, 736.0, 469.0, 229.0, 1163.0, 234.0, 665.0, 107.0, 1209.0, 643.0, 1857.0, 2055.0, 2924.0, 266.0, 153.0, 359.0, 170.0, 931.0, -38.0, 25.0, 389.0, 2540.0, 119.0, -42.0, 1239.0, 85.0, 1080.0, 112.0, 1444.0, 293.0, 177.0, 130.0, -136.0, 304.0, 1370.0, 1031.0, 1762.0, 106.0, 2212.0, 1133.0, 1674.0, 826.0, 2090.0, 315.0, 524.0, 604.0, 427.0, 26.0, 1283.0, 605.0, 483.0, 938.0, 555.0, 1334.0, 164.0, 863.0, 415.0, 838.0, 485.0, 1173.0, 1041.0, 271.0, 260.0, 13.0, 115.0, 131.0, 1107.0, 12.0, 61.0, 1690.0, -24.0, 991.0, 223.0, -537.0, 1754.0, 695.0, 1959.0, 86.0, 100.0, -121.0, 739.0, 763.0, 289.0, 1030.0, 18.0, 231.0, 651.0, 2755.0, 3575.0], \"xaxis\": \"x6\", \"yaxis\": \"y6\"}, {\"alignmentgroup\": \"True\", \"bingroup\": \"x\", \"hovertemplate\": \"stage=5<br>duration=%{x}<br>count=%{y}<extra></extra>\", \"legendgroup\": \"5\", \"marker\": {\"color\": \"#FF6692\"}, \"name\": \"5\", \"offsetgroup\": \"5\", \"orientation\": \"v\", \"showlegend\": true, \"type\": \"histogram\", \"x\": [673.0, -540.0, -1979.0, 1484.0, 72.0, 359.0, 1275.0, 853.0, 719.0, 215.0, -664.0, 787.0, 1893.0, -2333.0, 410.0, 271.0, -427.0, 147.0, -667.0, 101.0, -551.0, 1788.0, -15.0, -658.0, -4.0, -200.0, -447.0, -655.0, 373.0, 1668.0, 2188.0, 840.0, 2053.0, -147.0, 231.0, -134.0, 703.0, -62.0, -701.0, -169.0, -42.0, 1857.0, -68.0, 928.0, -414.0, -902.0, 99.0, 155.0, -506.0, -649.0, -442.0, 1044.0, 1807.0, 93.0, -27.0, -267.0, 3.0, 1845.0, 65.0, 124.0, 1213.0, -1951.0, 1031.0, 25.0, 85.0, -1.0, 606.0, 1163.0, -465.0, -157.0, -644.0, 148.0, -241.0, -80.0, -7.0, 266.0, 17.0, 0.0, -260.0, 1690.0, 1842.0, 2299.0, 25.0, -417.0, 308.0, 483.0, -185.0, -344.0, 142.0, 1542.0, 2.0, 682.0, 27.0, 5.0, 1169.0, -957.0, -422.0, 51.0, 1508.0, 1666.0, 1436.0, -1345.0, 58.0, -884.0, -20.0, 1779.0, -163.0, -1173.0, 27.0, -305.0, 2628.0, 439.0, 391.0, -1043.0, 29.0, -1235.0, 2341.0, 461.0, 187.0, -462.0, 847.0, 2294.0, 2151.0, 849.0, -385.0, -2052.0, -1738.0, 7.0, 17.0, 35.0, 2318.0, 223.0, 2234.0, 2718.0, -144.0, -98.0, 56.0, -30.0, -639.0, 41.0, 102.0, 16.0, 2189.0], \"xaxis\": \"x7\", \"yaxis\": \"y7\"}],                        {\"annotations\": [{\"font\": {}, \"showarrow\": false, \"text\": \"stage=Unknown\", \"x\": 0.06285714285714285, \"xanchor\": \"center\", \"xref\": \"paper\", \"y\": 1.0, \"yanchor\": \"bottom\", \"yref\": \"paper\"}, {\"font\": {}, \"showarrow\": false, \"text\": \"stage=1\", \"x\": 0.20857142857142852, \"xanchor\": \"center\", \"xref\": \"paper\", \"y\": 1.0, \"yanchor\": \"bottom\", \"yref\": \"paper\"}, {\"font\": {}, \"showarrow\": false, \"text\": \"stage=2\", \"x\": 0.3542857142857142, \"xanchor\": \"center\", \"xref\": \"paper\", \"y\": 1.0, \"yanchor\": \"bottom\", \"yref\": \"paper\"}, {\"font\": {}, \"showarrow\": false, \"text\": \"stage=3a\", \"x\": 0.5, \"xanchor\": \"center\", \"xref\": \"paper\", \"y\": 1.0, \"yanchor\": \"bottom\", \"yref\": \"paper\"}, {\"font\": {}, \"showarrow\": false, \"text\": \"stage=3b\", \"x\": 0.6457142857142856, \"xanchor\": \"center\", \"xref\": \"paper\", \"y\": 1.0, \"yanchor\": \"bottom\", \"yref\": \"paper\"}, {\"font\": {}, \"showarrow\": false, \"text\": \"stage=4\", \"x\": 0.7914285714285713, \"xanchor\": \"center\", \"xref\": \"paper\", \"y\": 1.0, \"yanchor\": \"bottom\", \"yref\": \"paper\"}, {\"font\": {}, \"showarrow\": false, \"text\": \"stage=5\", \"x\": 0.9371428571428569, \"xanchor\": \"center\", \"xref\": \"paper\", \"y\": 1.0, \"yanchor\": \"bottom\", \"yref\": \"paper\"}], \"barmode\": \"relative\", \"legend\": {\"title\": {\"text\": \"stage\"}, \"tracegroupgap\": 0}, \"margin\": {\"t\": 60}, \"template\": {\"data\": {\"bar\": [{\"error_x\": {\"color\": \"#2a3f5f\"}, \"error_y\": {\"color\": \"#2a3f5f\"}, \"marker\": {\"line\": {\"color\": \"#E5ECF6\", \"width\": 0.5}}, \"type\": \"bar\"}], \"barpolar\": [{\"marker\": {\"line\": {\"color\": \"#E5ECF6\", \"width\": 0.5}}, \"type\": \"barpolar\"}], \"carpet\": [{\"aaxis\": {\"endlinecolor\": \"#2a3f5f\", \"gridcolor\": \"white\", \"linecolor\": \"white\", \"minorgridcolor\": \"white\", \"startlinecolor\": \"#2a3f5f\"}, \"baxis\": {\"endlinecolor\": \"#2a3f5f\", \"gridcolor\": \"white\", \"linecolor\": \"white\", \"minorgridcolor\": \"white\", \"startlinecolor\": \"#2a3f5f\"}, \"type\": \"carpet\"}], \"choropleth\": [{\"colorbar\": {\"outlinewidth\": 0, \"ticks\": \"\"}, \"type\": \"choropleth\"}], \"contour\": [{\"colorbar\": {\"outlinewidth\": 0, \"ticks\": \"\"}, \"colorscale\": [[0.0, \"#0d0887\"], [0.1111111111111111, \"#46039f\"], [0.2222222222222222, \"#7201a8\"], [0.3333333333333333, \"#9c179e\"], [0.4444444444444444, \"#bd3786\"], [0.5555555555555556, \"#d8576b\"], [0.6666666666666666, \"#ed7953\"], [0.7777777777777778, \"#fb9f3a\"], [0.8888888888888888, \"#fdca26\"], [1.0, \"#f0f921\"]], \"type\": \"contour\"}], \"contourcarpet\": [{\"colorbar\": {\"outlinewidth\": 0, \"ticks\": \"\"}, \"type\": \"contourcarpet\"}], \"heatmap\": [{\"colorbar\": {\"outlinewidth\": 0, \"ticks\": \"\"}, \"colorscale\": [[0.0, \"#0d0887\"], [0.1111111111111111, \"#46039f\"], [0.2222222222222222, \"#7201a8\"], [0.3333333333333333, \"#9c179e\"], [0.4444444444444444, \"#bd3786\"], [0.5555555555555556, \"#d8576b\"], [0.6666666666666666, \"#ed7953\"], [0.7777777777777778, \"#fb9f3a\"], [0.8888888888888888, \"#fdca26\"], [1.0, \"#f0f921\"]], \"type\": \"heatmap\"}], \"heatmapgl\": [{\"colorbar\": {\"outlinewidth\": 0, \"ticks\": \"\"}, \"colorscale\": [[0.0, \"#0d0887\"], [0.1111111111111111, \"#46039f\"], [0.2222222222222222, \"#7201a8\"], [0.3333333333333333, \"#9c179e\"], [0.4444444444444444, \"#bd3786\"], [0.5555555555555556, \"#d8576b\"], [0.6666666666666666, \"#ed7953\"], [0.7777777777777778, \"#fb9f3a\"], [0.8888888888888888, \"#fdca26\"], [1.0, \"#f0f921\"]], \"type\": \"heatmapgl\"}], \"histogram\": [{\"marker\": {\"colorbar\": {\"outlinewidth\": 0, \"ticks\": \"\"}}, \"type\": \"histogram\"}], \"histogram2d\": [{\"colorbar\": {\"outlinewidth\": 0, \"ticks\": \"\"}, \"colorscale\": [[0.0, \"#0d0887\"], [0.1111111111111111, \"#46039f\"], [0.2222222222222222, \"#7201a8\"], [0.3333333333333333, \"#9c179e\"], [0.4444444444444444, \"#bd3786\"], [0.5555555555555556, \"#d8576b\"], [0.6666666666666666, \"#ed7953\"], [0.7777777777777778, \"#fb9f3a\"], [0.8888888888888888, \"#fdca26\"], [1.0, \"#f0f921\"]], \"type\": \"histogram2d\"}], \"histogram2dcontour\": [{\"colorbar\": {\"outlinewidth\": 0, \"ticks\": \"\"}, \"colorscale\": [[0.0, \"#0d0887\"], [0.1111111111111111, \"#46039f\"], [0.2222222222222222, \"#7201a8\"], [0.3333333333333333, \"#9c179e\"], [0.4444444444444444, \"#bd3786\"], [0.5555555555555556, \"#d8576b\"], [0.6666666666666666, \"#ed7953\"], [0.7777777777777778, \"#fb9f3a\"], [0.8888888888888888, \"#fdca26\"], [1.0, \"#f0f921\"]], \"type\": \"histogram2dcontour\"}], \"mesh3d\": [{\"colorbar\": {\"outlinewidth\": 0, \"ticks\": \"\"}, \"type\": \"mesh3d\"}], \"parcoords\": [{\"line\": {\"colorbar\": {\"outlinewidth\": 0, \"ticks\": \"\"}}, \"type\": \"parcoords\"}], \"pie\": [{\"automargin\": true, \"type\": \"pie\"}], \"scatter\": [{\"marker\": {\"colorbar\": {\"outlinewidth\": 0, \"ticks\": \"\"}}, \"type\": \"scatter\"}], \"scatter3d\": [{\"line\": {\"colorbar\": {\"outlinewidth\": 0, \"ticks\": \"\"}}, \"marker\": {\"colorbar\": {\"outlinewidth\": 0, \"ticks\": \"\"}}, \"type\": \"scatter3d\"}], \"scattercarpet\": [{\"marker\": {\"colorbar\": {\"outlinewidth\": 0, \"ticks\": \"\"}}, \"type\": \"scattercarpet\"}], \"scattergeo\": [{\"marker\": {\"colorbar\": {\"outlinewidth\": 0, \"ticks\": \"\"}}, \"type\": \"scattergeo\"}], \"scattergl\": [{\"marker\": {\"colorbar\": {\"outlinewidth\": 0, \"ticks\": \"\"}}, \"type\": \"scattergl\"}], \"scattermapbox\": [{\"marker\": {\"colorbar\": {\"outlinewidth\": 0, \"ticks\": \"\"}}, \"type\": \"scattermapbox\"}], \"scatterpolar\": [{\"marker\": {\"colorbar\": {\"outlinewidth\": 0, \"ticks\": \"\"}}, \"type\": \"scatterpolar\"}], \"scatterpolargl\": [{\"marker\": {\"colorbar\": {\"outlinewidth\": 0, \"ticks\": \"\"}}, \"type\": \"scatterpolargl\"}], \"scatterternary\": [{\"marker\": {\"colorbar\": {\"outlinewidth\": 0, \"ticks\": \"\"}}, \"type\": \"scatterternary\"}], \"surface\": [{\"colorbar\": {\"outlinewidth\": 0, \"ticks\": \"\"}, \"colorscale\": [[0.0, \"#0d0887\"], [0.1111111111111111, \"#46039f\"], [0.2222222222222222, \"#7201a8\"], [0.3333333333333333, \"#9c179e\"], [0.4444444444444444, \"#bd3786\"], [0.5555555555555556, \"#d8576b\"], [0.6666666666666666, \"#ed7953\"], [0.7777777777777778, \"#fb9f3a\"], [0.8888888888888888, \"#fdca26\"], [1.0, \"#f0f921\"]], \"type\": \"surface\"}], \"table\": [{\"cells\": {\"fill\": {\"color\": \"#EBF0F8\"}, \"line\": {\"color\": \"white\"}}, \"header\": {\"fill\": {\"color\": \"#C8D4E3\"}, \"line\": {\"color\": \"white\"}}, \"type\": \"table\"}]}, \"layout\": {\"annotationdefaults\": {\"arrowcolor\": \"#2a3f5f\", \"arrowhead\": 0, \"arrowwidth\": 1}, \"coloraxis\": {\"colorbar\": {\"outlinewidth\": 0, \"ticks\": \"\"}}, \"colorscale\": {\"diverging\": [[0, \"#8e0152\"], [0.1, \"#c51b7d\"], [0.2, \"#de77ae\"], [0.3, \"#f1b6da\"], [0.4, \"#fde0ef\"], [0.5, \"#f7f7f7\"], [0.6, \"#e6f5d0\"], [0.7, \"#b8e186\"], [0.8, \"#7fbc41\"], [0.9, \"#4d9221\"], [1, \"#276419\"]], \"sequential\": [[0.0, \"#0d0887\"], [0.1111111111111111, \"#46039f\"], [0.2222222222222222, \"#7201a8\"], [0.3333333333333333, \"#9c179e\"], [0.4444444444444444, \"#bd3786\"], [0.5555555555555556, \"#d8576b\"], [0.6666666666666666, \"#ed7953\"], [0.7777777777777778, \"#fb9f3a\"], [0.8888888888888888, \"#fdca26\"], [1.0, \"#f0f921\"]], \"sequentialminus\": [[0.0, \"#0d0887\"], [0.1111111111111111, \"#46039f\"], [0.2222222222222222, \"#7201a8\"], [0.3333333333333333, \"#9c179e\"], [0.4444444444444444, \"#bd3786\"], [0.5555555555555556, \"#d8576b\"], [0.6666666666666666, \"#ed7953\"], [0.7777777777777778, \"#fb9f3a\"], [0.8888888888888888, \"#fdca26\"], [1.0, \"#f0f921\"]]}, \"colorway\": [\"#636efa\", \"#EF553B\", \"#00cc96\", \"#ab63fa\", \"#FFA15A\", \"#19d3f3\", \"#FF6692\", \"#B6E880\", \"#FF97FF\", \"#FECB52\"], \"font\": {\"color\": \"#2a3f5f\"}, \"geo\": {\"bgcolor\": \"white\", \"lakecolor\": \"white\", \"landcolor\": \"#E5ECF6\", \"showlakes\": true, \"showland\": true, \"subunitcolor\": \"white\"}, \"hoverlabel\": {\"align\": \"left\"}, \"hovermode\": \"closest\", \"mapbox\": {\"style\": \"light\"}, \"paper_bgcolor\": \"white\", \"plot_bgcolor\": \"#E5ECF6\", \"polar\": {\"angularaxis\": {\"gridcolor\": \"white\", \"linecolor\": \"white\", \"ticks\": \"\"}, \"bgcolor\": \"#E5ECF6\", \"radialaxis\": {\"gridcolor\": \"white\", \"linecolor\": \"white\", \"ticks\": \"\"}}, \"scene\": {\"xaxis\": {\"backgroundcolor\": \"#E5ECF6\", \"gridcolor\": \"white\", \"gridwidth\": 2, \"linecolor\": \"white\", \"showbackground\": true, \"ticks\": \"\", \"zerolinecolor\": \"white\"}, \"yaxis\": {\"backgroundcolor\": \"#E5ECF6\", \"gridcolor\": \"white\", \"gridwidth\": 2, \"linecolor\": \"white\", \"showbackground\": true, \"ticks\": \"\", \"zerolinecolor\": \"white\"}, \"zaxis\": {\"backgroundcolor\": \"#E5ECF6\", \"gridcolor\": \"white\", \"gridwidth\": 2, \"linecolor\": \"white\", \"showbackground\": true, \"ticks\": \"\", \"zerolinecolor\": \"white\"}}, \"shapedefaults\": {\"line\": {\"color\": \"#2a3f5f\"}}, \"ternary\": {\"aaxis\": {\"gridcolor\": \"white\", \"linecolor\": \"white\", \"ticks\": \"\"}, \"baxis\": {\"gridcolor\": \"white\", \"linecolor\": \"white\", \"ticks\": \"\"}, \"bgcolor\": \"#E5ECF6\", \"caxis\": {\"gridcolor\": \"white\", \"linecolor\": \"white\", \"ticks\": \"\"}}, \"title\": {\"x\": 0.05}, \"xaxis\": {\"automargin\": true, \"gridcolor\": \"white\", \"linecolor\": \"white\", \"ticks\": \"\", \"title\": {\"standoff\": 15}, \"zerolinecolor\": \"white\", \"zerolinewidth\": 2}, \"yaxis\": {\"automargin\": true, \"gridcolor\": \"white\", \"linecolor\": \"white\", \"ticks\": \"\", \"title\": {\"standoff\": 15}, \"zerolinecolor\": \"white\", \"zerolinewidth\": 2}}}, \"xaxis\": {\"anchor\": \"y\", \"domain\": [0.0, 0.1257142857142857], \"title\": {\"text\": \"duration\"}}, \"xaxis2\": {\"anchor\": \"y2\", \"domain\": [0.14571428571428569, 0.27142857142857135], \"matches\": \"x\", \"title\": {\"text\": \"duration\"}}, \"xaxis3\": {\"anchor\": \"y3\", \"domain\": [0.29142857142857137, 0.41714285714285704], \"matches\": \"x\", \"title\": {\"text\": \"duration\"}}, \"xaxis4\": {\"anchor\": \"y4\", \"domain\": [0.4371428571428571, 0.5628571428571428], \"matches\": \"x\", \"title\": {\"text\": \"duration\"}}, \"xaxis5\": {\"anchor\": \"y5\", \"domain\": [0.5828571428571427, 0.7085714285714284], \"matches\": \"x\", \"title\": {\"text\": \"duration\"}}, \"xaxis6\": {\"anchor\": \"y6\", \"domain\": [0.7285714285714284, 0.8542857142857141], \"matches\": \"x\", \"title\": {\"text\": \"duration\"}}, \"xaxis7\": {\"anchor\": \"y7\", \"domain\": [0.8742857142857141, 0.9999999999999998], \"matches\": \"x\", \"title\": {\"text\": \"duration\"}}, \"yaxis\": {\"anchor\": \"x\", \"domain\": [0.0, 1.0], \"title\": {\"text\": \"count\"}}, \"yaxis2\": {\"anchor\": \"x2\", \"domain\": [0.0, 1.0], \"matches\": \"y\", \"showticklabels\": false}, \"yaxis3\": {\"anchor\": \"x3\", \"domain\": [0.0, 1.0], \"matches\": \"y\", \"showticklabels\": false}, \"yaxis4\": {\"anchor\": \"x4\", \"domain\": [0.0, 1.0], \"matches\": \"y\", \"showticklabels\": false}, \"yaxis5\": {\"anchor\": \"x5\", \"domain\": [0.0, 1.0], \"matches\": \"y\", \"showticklabels\": false}, \"yaxis6\": {\"anchor\": \"x6\", \"domain\": [0.0, 1.0], \"matches\": \"y\", \"showticklabels\": false}, \"yaxis7\": {\"anchor\": \"x7\", \"domain\": [0.0, 1.0], \"matches\": \"y\", \"showticklabels\": false}},                        {\"responsive\": true}                    ).then(function(){\n",
       "                            \n",
       "var gd = document.getElementById('8632f33f-578c-4f6c-bc13-88dd43d7f1ae');\n",
       "var x = new MutationObserver(function (mutations, observer) {{\n",
       "        var display = window.getComputedStyle(gd).display;\n",
       "        if (!display || display === 'none') {{\n",
       "            console.log([gd, 'removed!']);\n",
       "            Plotly.purge(gd);\n",
       "            observer.disconnect();\n",
       "        }}\n",
       "}});\n",
       "\n",
       "// Listen for the removal of the full notebook cells\n",
       "var notebookContainer = gd.closest('#notebook-container');\n",
       "if (notebookContainer) {{\n",
       "    x.observe(notebookContainer, {childList: true});\n",
       "}}\n",
       "\n",
       "// Listen for the clearing of the current output cell\n",
       "var outputEl = gd.closest('.output');\n",
       "if (outputEl) {{\n",
       "    x.observe(outputEl, {childList: true});\n",
       "}}\n",
       "\n",
       "                        })                };                });            </script>        </div>"
      ]
     },
     "metadata": {},
     "output_type": "display_data"
    },
    {
     "data": {
      "application/vnd.plotly.v1+json": {
       "config": {
        "plotlyServerURL": "https://plot.ly"
       },
       "data": [
        {
         "alignmentgroup": "True",
         "hovertemplate": "stage=%{x}<br>duration=%{y}<extra></extra>",
         "legendgroup": "Unknown",
         "marker": {
          "color": "#636efa"
         },
         "name": "Unknown",
         "notched": false,
         "offsetgroup": "Unknown",
         "orientation": "v",
         "showlegend": true,
         "type": "box",
         "x": [
          "Unknown",
          "Unknown",
          "Unknown",
          "Unknown",
          "Unknown",
          "Unknown",
          "Unknown",
          "Unknown",
          "Unknown",
          "Unknown",
          "Unknown",
          "Unknown",
          "Unknown",
          "Unknown",
          "Unknown",
          "Unknown",
          "Unknown",
          "Unknown",
          "Unknown",
          "Unknown",
          "Unknown",
          "Unknown",
          "Unknown",
          "Unknown",
          "Unknown",
          "Unknown",
          "Unknown",
          "Unknown",
          "Unknown",
          "Unknown",
          "Unknown",
          "Unknown",
          "Unknown",
          "Unknown",
          "Unknown",
          "Unknown",
          "Unknown",
          "Unknown",
          "Unknown",
          "Unknown",
          "Unknown",
          "Unknown",
          "Unknown",
          "Unknown",
          "Unknown",
          "Unknown",
          "Unknown",
          "Unknown",
          "Unknown",
          "Unknown",
          "Unknown",
          "Unknown",
          "Unknown",
          "Unknown",
          "Unknown",
          "Unknown",
          "Unknown",
          "Unknown",
          "Unknown",
          "Unknown",
          "Unknown",
          "Unknown",
          "Unknown",
          "Unknown",
          "Unknown",
          "Unknown",
          "Unknown",
          "Unknown",
          "Unknown",
          "Unknown",
          "Unknown",
          "Unknown",
          "Unknown",
          "Unknown",
          "Unknown",
          "Unknown",
          "Unknown",
          "Unknown",
          "Unknown",
          "Unknown",
          "Unknown",
          "Unknown",
          "Unknown",
          "Unknown",
          "Unknown",
          "Unknown",
          "Unknown",
          "Unknown",
          "Unknown",
          "Unknown",
          "Unknown",
          "Unknown",
          "Unknown",
          "Unknown",
          "Unknown",
          "Unknown",
          "Unknown",
          "Unknown",
          "Unknown",
          "Unknown",
          "Unknown",
          "Unknown",
          "Unknown",
          "Unknown",
          "Unknown",
          "Unknown",
          "Unknown",
          "Unknown",
          "Unknown",
          "Unknown",
          "Unknown",
          "Unknown",
          "Unknown",
          "Unknown",
          "Unknown",
          "Unknown",
          "Unknown",
          "Unknown",
          "Unknown",
          "Unknown",
          "Unknown",
          "Unknown",
          "Unknown",
          "Unknown",
          "Unknown",
          "Unknown",
          "Unknown",
          "Unknown",
          "Unknown",
          "Unknown",
          "Unknown",
          "Unknown",
          "Unknown",
          "Unknown",
          "Unknown",
          "Unknown",
          "Unknown",
          "Unknown",
          "Unknown",
          "Unknown",
          "Unknown",
          "Unknown",
          "Unknown",
          "Unknown",
          "Unknown",
          "Unknown",
          "Unknown",
          "Unknown",
          "Unknown",
          "Unknown",
          "Unknown",
          "Unknown",
          "Unknown",
          "Unknown",
          "Unknown",
          "Unknown",
          "Unknown",
          "Unknown",
          "Unknown",
          "Unknown",
          "Unknown",
          "Unknown",
          "Unknown",
          "Unknown",
          "Unknown",
          "Unknown",
          "Unknown",
          "Unknown",
          "Unknown",
          "Unknown",
          "Unknown",
          "Unknown",
          "Unknown",
          "Unknown",
          "Unknown",
          "Unknown",
          "Unknown",
          "Unknown",
          "Unknown",
          "Unknown",
          "Unknown",
          "Unknown",
          "Unknown",
          "Unknown",
          "Unknown",
          "Unknown",
          "Unknown",
          "Unknown",
          "Unknown",
          "Unknown",
          "Unknown",
          "Unknown",
          "Unknown",
          "Unknown",
          "Unknown",
          "Unknown",
          "Unknown",
          "Unknown",
          "Unknown",
          "Unknown",
          "Unknown",
          "Unknown",
          "Unknown",
          "Unknown",
          "Unknown",
          "Unknown",
          "Unknown",
          "Unknown",
          "Unknown",
          "Unknown",
          "Unknown",
          "Unknown",
          "Unknown",
          "Unknown",
          "Unknown",
          "Unknown",
          "Unknown",
          "Unknown",
          "Unknown",
          "Unknown",
          "Unknown",
          "Unknown",
          "Unknown",
          "Unknown",
          "Unknown",
          "Unknown",
          "Unknown",
          "Unknown",
          "Unknown",
          "Unknown",
          "Unknown",
          "Unknown",
          "Unknown",
          "Unknown",
          "Unknown",
          "Unknown",
          "Unknown",
          "Unknown",
          "Unknown",
          "Unknown",
          "Unknown",
          "Unknown",
          "Unknown",
          "Unknown",
          "Unknown",
          "Unknown",
          "Unknown",
          "Unknown",
          "Unknown",
          "Unknown",
          "Unknown",
          "Unknown",
          "Unknown",
          "Unknown",
          "Unknown",
          "Unknown",
          "Unknown",
          "Unknown",
          "Unknown",
          "Unknown",
          "Unknown",
          "Unknown",
          "Unknown",
          "Unknown",
          "Unknown",
          "Unknown",
          "Unknown",
          "Unknown",
          "Unknown",
          "Unknown",
          "Unknown",
          "Unknown",
          "Unknown",
          "Unknown",
          "Unknown",
          "Unknown",
          "Unknown",
          "Unknown",
          "Unknown",
          "Unknown",
          "Unknown",
          "Unknown",
          "Unknown",
          "Unknown",
          "Unknown",
          "Unknown",
          "Unknown",
          "Unknown",
          "Unknown",
          "Unknown",
          "Unknown"
         ],
         "x0": " ",
         "xaxis": "x",
         "y": [
          null,
          null,
          null,
          null,
          null,
          null,
          null,
          null,
          null,
          null,
          null,
          null,
          null,
          null,
          null,
          null,
          null,
          null,
          null,
          null,
          null,
          null,
          null,
          null,
          null,
          null,
          null,
          null,
          null,
          null,
          null,
          null,
          null,
          null,
          null,
          null,
          null,
          null,
          null,
          null,
          null,
          null,
          null,
          null,
          null,
          null,
          null,
          null,
          null,
          null,
          null,
          null,
          null,
          null,
          null,
          null,
          null,
          null,
          null,
          null,
          null,
          null,
          null,
          null,
          null,
          null,
          null,
          null,
          null,
          null,
          null,
          null,
          null,
          null,
          null,
          null,
          null,
          null,
          null,
          null,
          null,
          null,
          null,
          null,
          null,
          null,
          null,
          null,
          null,
          null,
          null,
          null,
          null,
          null,
          null,
          null,
          null,
          null,
          null,
          null,
          null,
          null,
          null,
          null,
          null,
          null,
          null,
          null,
          null,
          null,
          null,
          null,
          null,
          null,
          null,
          null,
          null,
          null,
          null,
          null,
          null,
          null,
          null,
          null,
          null,
          null,
          null,
          null,
          null,
          null,
          null,
          null,
          null,
          null,
          null,
          null,
          null,
          null,
          null,
          null,
          null,
          null,
          null,
          null,
          null,
          null,
          null,
          null,
          null,
          null,
          null,
          null,
          null,
          null,
          null,
          null,
          null,
          null,
          null,
          null,
          null,
          null,
          null,
          null,
          null,
          null,
          null,
          null,
          null,
          null,
          null,
          null,
          null,
          null,
          null,
          null,
          null,
          null,
          null,
          null,
          null,
          null,
          null,
          null,
          null,
          null,
          null,
          null,
          null,
          null,
          null,
          null,
          null,
          null,
          null,
          null,
          null,
          null,
          null,
          null,
          null,
          null,
          null,
          null,
          null,
          null,
          null,
          null,
          null,
          null,
          null,
          null,
          null,
          null,
          null,
          null,
          null,
          null,
          null,
          null,
          null,
          null,
          null,
          null,
          null,
          null,
          null,
          null,
          null,
          null,
          null,
          null,
          null,
          null,
          null,
          null,
          null,
          null,
          null,
          null,
          null,
          null,
          null,
          null,
          null,
          null,
          null,
          null,
          null,
          null,
          null,
          null,
          null,
          null,
          null,
          null,
          null,
          null,
          null,
          null,
          null,
          null,
          null,
          null,
          null,
          null,
          null,
          null,
          null,
          null,
          null,
          null,
          null,
          null,
          null,
          null,
          null,
          null,
          null,
          null,
          null,
          null,
          null,
          null,
          null,
          null,
          null,
          null,
          null,
          null,
          null
         ],
         "y0": " ",
         "yaxis": "y"
        },
        {
         "alignmentgroup": "True",
         "hovertemplate": "stage=%{x}<br>duration=%{y}<extra></extra>",
         "legendgroup": "1",
         "marker": {
          "color": "#EF553B"
         },
         "name": "1",
         "notched": false,
         "offsetgroup": "1",
         "orientation": "v",
         "showlegend": true,
         "type": "box",
         "x": [
          "1",
          "1",
          "1",
          "1",
          "1",
          "1",
          "1",
          "1",
          "1",
          "1",
          "1",
          "1",
          "1",
          "1",
          "1",
          "1",
          "1",
          "1",
          "1",
          "1",
          "1",
          "1",
          "1"
         ],
         "x0": " ",
         "xaxis": "x",
         "y": [
          2607,
          2312,
          2743,
          1914,
          273,
          278,
          956,
          1184,
          -235,
          -415,
          952,
          333,
          1741,
          1331,
          510,
          2039,
          1551,
          466,
          1885,
          2200,
          -184,
          -9,
          -738
         ],
         "y0": " ",
         "yaxis": "y"
        },
        {
         "alignmentgroup": "True",
         "hovertemplate": "stage=%{x}<br>duration=%{y}<extra></extra>",
         "legendgroup": "2",
         "marker": {
          "color": "#00cc96"
         },
         "name": "2",
         "notched": false,
         "offsetgroup": "2",
         "orientation": "v",
         "showlegend": true,
         "type": "box",
         "x": [
          "2",
          "2",
          "2",
          "2",
          "2",
          "2",
          "2",
          "2",
          "2",
          "2",
          "2",
          "2",
          "2",
          "2",
          "2",
          "2",
          "2",
          "2",
          "2",
          "2",
          "2",
          "2",
          "2",
          "2",
          "2",
          "2",
          "2",
          "2",
          "2",
          "2",
          "2",
          "2",
          "2",
          "2",
          "2",
          "2",
          "2",
          "2",
          "2",
          "2",
          "2",
          "2",
          "2",
          "2",
          "2",
          "2",
          "2",
          "2",
          "2",
          "2",
          "2",
          "2",
          "2",
          "2",
          "2",
          "2",
          "2",
          "2",
          "2",
          "2",
          "2",
          "2"
         ],
         "x0": " ",
         "xaxis": "x",
         "y": [
          -23,
          2784,
          3433,
          204,
          2472,
          3227,
          1337,
          2358,
          1456,
          2029,
          96,
          139,
          488,
          2015,
          2140,
          3042,
          3021,
          2323,
          3087,
          55,
          65,
          1706,
          1257,
          2217,
          3033,
          1723,
          2257,
          3304,
          1309,
          1521,
          1413,
          965,
          1137,
          1788,
          763,
          1879,
          2769,
          3080,
          1445,
          1856,
          1324,
          1563,
          -3,
          1423,
          301,
          251,
          -472,
          1770,
          716,
          -102,
          2089,
          424,
          432,
          208,
          -422,
          1442,
          1231,
          1357,
          2606,
          2287,
          -566,
          182
         ],
         "y0": " ",
         "yaxis": "y"
        },
        {
         "alignmentgroup": "True",
         "hovertemplate": "stage=%{x}<br>duration=%{y}<extra></extra>",
         "legendgroup": "3a",
         "marker": {
          "color": "#ab63fa"
         },
         "name": "3a",
         "notched": false,
         "offsetgroup": "3a",
         "orientation": "v",
         "showlegend": true,
         "type": "box",
         "x": [
          "3a",
          "3a",
          "3a",
          "3a",
          "3a",
          "3a",
          "3a",
          "3a",
          "3a",
          "3a",
          "3a",
          "3a",
          "3a",
          "3a",
          "3a",
          "3a",
          "3a",
          "3a",
          "3a",
          "3a",
          "3a",
          "3a",
          "3a",
          "3a",
          "3a",
          "3a",
          "3a",
          "3a",
          "3a",
          "3a",
          "3a",
          "3a",
          "3a",
          "3a",
          "3a",
          "3a",
          "3a",
          "3a",
          "3a",
          "3a",
          "3a",
          "3a",
          "3a",
          "3a",
          "3a",
          "3a",
          "3a",
          "3a",
          "3a",
          "3a",
          "3a",
          "3a",
          "3a",
          "3a",
          "3a",
          "3a",
          "3a",
          "3a",
          "3a",
          "3a",
          "3a",
          "3a",
          "3a",
          "3a",
          "3a",
          "3a",
          "3a",
          "3a",
          "3a",
          "3a",
          "3a",
          "3a",
          "3a",
          "3a",
          "3a",
          "3a",
          "3a",
          "3a",
          "3a",
          "3a",
          "3a",
          "3a",
          "3a",
          "3a",
          "3a"
         ],
         "x0": " ",
         "xaxis": "x",
         "y": [
          1913,
          3379,
          1977,
          2162,
          2497,
          1987,
          2221,
          2342,
          2555,
          2180,
          3140,
          2470,
          2413,
          2715,
          3068,
          1452,
          1779,
          1591,
          2902,
          2565,
          3572,
          2117,
          1148,
          -881,
          199,
          1572,
          2178,
          2542,
          659,
          1925,
          2371,
          3234,
          273,
          775,
          2461,
          1113,
          1085,
          1674,
          3161,
          1603,
          1777,
          820,
          2922,
          2643,
          2159,
          1907,
          1285,
          1140,
          2081,
          2070,
          1504,
          1640,
          621,
          1058,
          2585,
          2120,
          737,
          1494,
          466,
          1507,
          219,
          56,
          186,
          1256,
          176,
          1692,
          21,
          228,
          2434,
          2053,
          1554,
          2268,
          2744,
          308,
          394,
          2242,
          -33,
          2038,
          683,
          1476,
          2253,
          1462,
          1388,
          1591,
          2615
         ],
         "y0": " ",
         "yaxis": "y"
        },
        {
         "alignmentgroup": "True",
         "hovertemplate": "stage=%{x}<br>duration=%{y}<extra></extra>",
         "legendgroup": "3b",
         "marker": {
          "color": "#FFA15A"
         },
         "name": "3b",
         "notched": false,
         "offsetgroup": "3b",
         "orientation": "v",
         "showlegend": true,
         "type": "box",
         "x": [
          "3b",
          "3b",
          "3b",
          "3b",
          "3b",
          "3b",
          "3b",
          "3b",
          "3b",
          "3b",
          "3b",
          "3b",
          "3b",
          "3b",
          "3b",
          "3b",
          "3b",
          "3b",
          "3b",
          "3b",
          "3b",
          "3b",
          "3b",
          "3b",
          "3b",
          "3b",
          "3b",
          "3b",
          "3b",
          "3b",
          "3b",
          "3b",
          "3b",
          "3b",
          "3b",
          "3b",
          "3b",
          "3b",
          "3b",
          "3b",
          "3b",
          "3b",
          "3b",
          "3b",
          "3b",
          "3b",
          "3b",
          "3b",
          "3b",
          "3b",
          "3b",
          "3b",
          "3b",
          "3b",
          "3b",
          "3b",
          "3b",
          "3b",
          "3b",
          "3b",
          "3b",
          "3b",
          "3b",
          "3b",
          "3b",
          "3b",
          "3b",
          "3b",
          "3b",
          "3b",
          "3b",
          "3b",
          "3b",
          "3b",
          "3b",
          "3b",
          "3b",
          "3b",
          "3b",
          "3b",
          "3b",
          "3b",
          "3b",
          "3b",
          "3b",
          "3b",
          "3b",
          "3b",
          "3b",
          "3b",
          "3b",
          "3b",
          "3b",
          "3b",
          "3b",
          "3b",
          "3b",
          "3b",
          "3b",
          "3b",
          "3b",
          "3b",
          "3b",
          "3b",
          "3b",
          "3b",
          "3b",
          "3b",
          "3b",
          "3b",
          "3b",
          "3b",
          "3b",
          "3b",
          "3b",
          "3b",
          "3b",
          "3b",
          "3b",
          "3b",
          "3b",
          "3b",
          "3b",
          "3b",
          "3b",
          "3b",
          "3b",
          "3b",
          "3b",
          "3b",
          "3b",
          "3b",
          "3b",
          "3b",
          "3b",
          "3b",
          "3b",
          "3b",
          "3b"
         ],
         "x0": " ",
         "xaxis": "x",
         "y": [
          1080,
          349,
          2589,
          1045,
          2656,
          2014,
          1632,
          2639,
          392,
          2017,
          1128,
          860,
          1362,
          2234,
          2161,
          1534,
          2215,
          1839,
          1810,
          -641,
          1350,
          1807,
          1857,
          1913,
          2030,
          2202,
          2559,
          2493,
          2539,
          2552,
          1353,
          1568,
          2682,
          2359,
          1936,
          2359,
          2504,
          2281,
          2607,
          1336,
          179,
          -924,
          1245,
          2194,
          2704,
          1254,
          431,
          1398,
          2147,
          3148,
          1970,
          1484,
          2985,
          2658,
          394,
          730,
          1332,
          1916,
          910,
          2280,
          2227,
          2244,
          938,
          507,
          4,
          626,
          -38,
          205,
          1440,
          1942,
          1800,
          2413,
          2576,
          2460,
          -29,
          462,
          327,
          405,
          1764,
          2596,
          2184,
          2431,
          3697,
          36,
          685,
          1853,
          1778,
          759,
          3084,
          1057,
          1100,
          1378,
          1174,
          2295,
          1206,
          1116,
          740,
          1382,
          1494,
          866,
          809,
          285,
          1611,
          2894,
          1854,
          1983,
          2108,
          1593,
          1073,
          525,
          101,
          117,
          711,
          1433,
          1645,
          2706,
          97,
          1194,
          182,
          806,
          1505,
          -988,
          2169,
          621,
          1091,
          -228,
          839,
          -99,
          345,
          -278,
          527,
          -350,
          -185,
          2498,
          278,
          151,
          -60,
          122,
          463
         ],
         "y0": " ",
         "yaxis": "y"
        },
        {
         "alignmentgroup": "True",
         "hovertemplate": "stage=%{x}<br>duration=%{y}<extra></extra>",
         "legendgroup": "4",
         "marker": {
          "color": "#19d3f3"
         },
         "name": "4",
         "notched": false,
         "offsetgroup": "4",
         "orientation": "v",
         "showlegend": true,
         "type": "box",
         "x": [
          "4",
          "4",
          "4",
          "4",
          "4",
          "4",
          "4",
          "4",
          "4",
          "4",
          "4",
          "4",
          "4",
          "4",
          "4",
          "4",
          "4",
          "4",
          "4",
          "4",
          "4",
          "4",
          "4",
          "4",
          "4",
          "4",
          "4",
          "4",
          "4",
          "4",
          "4",
          "4",
          "4",
          "4",
          "4",
          "4",
          "4",
          "4",
          "4",
          "4",
          "4",
          "4",
          "4",
          "4",
          "4",
          "4",
          "4",
          "4",
          "4",
          "4",
          "4",
          "4",
          "4",
          "4",
          "4",
          "4",
          "4",
          "4",
          "4",
          "4",
          "4",
          "4",
          "4",
          "4",
          "4",
          "4",
          "4",
          "4",
          "4",
          "4",
          "4",
          "4",
          "4",
          "4",
          "4",
          "4",
          "4",
          "4",
          "4",
          "4",
          "4",
          "4",
          "4",
          "4",
          "4",
          "4",
          "4",
          "4",
          "4",
          "4",
          "4",
          "4",
          "4",
          "4",
          "4",
          "4",
          "4",
          "4",
          "4",
          "4",
          "4",
          "4",
          "4",
          "4",
          "4",
          "4",
          "4",
          "4",
          "4",
          "4",
          "4",
          "4",
          "4",
          "4",
          "4",
          "4",
          "4",
          "4",
          "4",
          "4",
          "4",
          "4",
          "4",
          "4",
          "4",
          "4",
          "4",
          "4",
          "4",
          "4",
          "4",
          "4",
          "4",
          "4",
          "4",
          "4",
          "4",
          "4",
          "4",
          "4",
          "4",
          "4",
          "4",
          "4",
          "4",
          "4",
          "4",
          "4",
          "4",
          "4",
          "4",
          "4",
          "4",
          "4",
          "4",
          "4",
          "4",
          "4",
          "4",
          "4",
          "4",
          "4",
          "4",
          "4",
          "4",
          "4",
          "4",
          "4",
          "4",
          "4",
          "4",
          "4",
          "4",
          "4",
          "4",
          "4",
          "4",
          "4",
          "4",
          "4",
          "4",
          "4",
          "4",
          "4",
          "4",
          "4",
          "4",
          "4",
          "4",
          "4",
          "4",
          "4",
          "4",
          "4",
          "4"
         ],
         "x0": " ",
         "xaxis": "x",
         "y": [
          1718,
          1009,
          1324,
          1050,
          432,
          266,
          1224,
          136,
          1822,
          1613,
          1946,
          596,
          828,
          378,
          533,
          2300,
          1533,
          2115,
          3029,
          2016,
          2073,
          411,
          1673,
          463,
          1533,
          289,
          1022,
          1259,
          1555,
          1494,
          1503,
          8,
          256,
          332,
          1560,
          2643,
          3200,
          2866,
          2196,
          490,
          437,
          511,
          205,
          1122,
          1182,
          715,
          179,
          -838,
          143,
          1224,
          843,
          -18,
          2505,
          2090,
          1283,
          2941,
          2034,
          582,
          503,
          92,
          455,
          604,
          69,
          -45,
          1859,
          13,
          2433,
          2909,
          348,
          2174,
          3136,
          3380,
          2597,
          2333,
          63,
          476,
          738,
          857,
          474,
          1178,
          2501,
          2444,
          2093,
          1102,
          64,
          50,
          361,
          661,
          1967,
          1115,
          1596,
          895,
          992,
          2011,
          2639,
          354,
          696,
          1162,
          1051,
          330,
          343,
          9,
          392,
          2091,
          1863,
          633,
          -68,
          736,
          469,
          229,
          1163,
          234,
          665,
          107,
          1209,
          643,
          1857,
          2055,
          2924,
          266,
          153,
          359,
          170,
          931,
          -38,
          25,
          389,
          2540,
          119,
          -42,
          1239,
          85,
          1080,
          112,
          1444,
          293,
          177,
          130,
          -136,
          304,
          1370,
          1031,
          1762,
          106,
          2212,
          1133,
          1674,
          826,
          2090,
          315,
          524,
          604,
          427,
          26,
          1283,
          605,
          483,
          938,
          555,
          1334,
          164,
          863,
          415,
          838,
          485,
          1173,
          1041,
          271,
          260,
          13,
          115,
          131,
          1107,
          12,
          61,
          1690,
          -24,
          991,
          223,
          -537,
          1754,
          695,
          1959,
          86,
          100,
          -121,
          739,
          763,
          289,
          1030,
          18,
          231,
          651,
          2755,
          3575
         ],
         "y0": " ",
         "yaxis": "y"
        },
        {
         "alignmentgroup": "True",
         "hovertemplate": "stage=%{x}<br>duration=%{y}<extra></extra>",
         "legendgroup": "5",
         "marker": {
          "color": "#FF6692"
         },
         "name": "5",
         "notched": false,
         "offsetgroup": "5",
         "orientation": "v",
         "showlegend": true,
         "type": "box",
         "x": [
          "5",
          "5",
          "5",
          "5",
          "5",
          "5",
          "5",
          "5",
          "5",
          "5",
          "5",
          "5",
          "5",
          "5",
          "5",
          "5",
          "5",
          "5",
          "5",
          "5",
          "5",
          "5",
          "5",
          "5",
          "5",
          "5",
          "5",
          "5",
          "5",
          "5",
          "5",
          "5",
          "5",
          "5",
          "5",
          "5",
          "5",
          "5",
          "5",
          "5",
          "5",
          "5",
          "5",
          "5",
          "5",
          "5",
          "5",
          "5",
          "5",
          "5",
          "5",
          "5",
          "5",
          "5",
          "5",
          "5",
          "5",
          "5",
          "5",
          "5",
          "5",
          "5",
          "5",
          "5",
          "5",
          "5",
          "5",
          "5",
          "5",
          "5",
          "5",
          "5",
          "5",
          "5",
          "5",
          "5",
          "5",
          "5",
          "5",
          "5",
          "5",
          "5",
          "5",
          "5",
          "5",
          "5",
          "5",
          "5",
          "5",
          "5",
          "5",
          "5",
          "5",
          "5",
          "5",
          "5",
          "5",
          "5",
          "5",
          "5",
          "5",
          "5",
          "5",
          "5",
          "5",
          "5",
          "5",
          "5",
          "5",
          "5",
          "5",
          "5",
          "5",
          "5",
          "5",
          "5",
          "5",
          "5",
          "5",
          "5",
          "5",
          "5",
          "5",
          "5",
          "5",
          "5",
          "5",
          "5",
          "5",
          "5",
          "5",
          "5",
          "5",
          "5",
          "5",
          "5",
          "5",
          "5",
          "5",
          "5",
          "5",
          "5",
          "5"
         ],
         "x0": " ",
         "xaxis": "x",
         "y": [
          673,
          -540,
          -1979,
          1484,
          72,
          359,
          1275,
          853,
          719,
          215,
          -664,
          787,
          1893,
          -2333,
          410,
          271,
          -427,
          147,
          -667,
          101,
          -551,
          1788,
          -15,
          -658,
          -4,
          -200,
          -447,
          -655,
          373,
          1668,
          2188,
          840,
          2053,
          -147,
          231,
          -134,
          703,
          -62,
          -701,
          -169,
          -42,
          1857,
          -68,
          928,
          -414,
          -902,
          99,
          155,
          -506,
          -649,
          -442,
          1044,
          1807,
          93,
          -27,
          -267,
          3,
          1845,
          65,
          124,
          1213,
          -1951,
          1031,
          25,
          85,
          -1,
          606,
          1163,
          -465,
          -157,
          -644,
          148,
          -241,
          -80,
          -7,
          266,
          17,
          0,
          -260,
          1690,
          1842,
          2299,
          25,
          -417,
          308,
          483,
          -185,
          -344,
          142,
          1542,
          2,
          682,
          27,
          5,
          1169,
          -957,
          -422,
          51,
          1508,
          1666,
          1436,
          -1345,
          58,
          -884,
          -20,
          1779,
          -163,
          -1173,
          27,
          -305,
          2628,
          439,
          391,
          -1043,
          29,
          -1235,
          2341,
          461,
          187,
          -462,
          847,
          2294,
          2151,
          849,
          -385,
          -2052,
          -1738,
          7,
          17,
          35,
          2318,
          223,
          2234,
          2718,
          -144,
          -98,
          56,
          -30,
          -639,
          41,
          102,
          16,
          2189
         ],
         "y0": " ",
         "yaxis": "y"
        }
       ],
       "layout": {
        "boxmode": "overlay",
        "legend": {
         "title": {
          "text": "stage"
         },
         "tracegroupgap": 0
        },
        "margin": {
         "t": 60
        },
        "template": {
         "data": {
          "bar": [
           {
            "error_x": {
             "color": "#2a3f5f"
            },
            "error_y": {
             "color": "#2a3f5f"
            },
            "marker": {
             "line": {
              "color": "#E5ECF6",
              "width": 0.5
             }
            },
            "type": "bar"
           }
          ],
          "barpolar": [
           {
            "marker": {
             "line": {
              "color": "#E5ECF6",
              "width": 0.5
             }
            },
            "type": "barpolar"
           }
          ],
          "carpet": [
           {
            "aaxis": {
             "endlinecolor": "#2a3f5f",
             "gridcolor": "white",
             "linecolor": "white",
             "minorgridcolor": "white",
             "startlinecolor": "#2a3f5f"
            },
            "baxis": {
             "endlinecolor": "#2a3f5f",
             "gridcolor": "white",
             "linecolor": "white",
             "minorgridcolor": "white",
             "startlinecolor": "#2a3f5f"
            },
            "type": "carpet"
           }
          ],
          "choropleth": [
           {
            "colorbar": {
             "outlinewidth": 0,
             "ticks": ""
            },
            "type": "choropleth"
           }
          ],
          "contour": [
           {
            "colorbar": {
             "outlinewidth": 0,
             "ticks": ""
            },
            "colorscale": [
             [
              0,
              "#0d0887"
             ],
             [
              0.1111111111111111,
              "#46039f"
             ],
             [
              0.2222222222222222,
              "#7201a8"
             ],
             [
              0.3333333333333333,
              "#9c179e"
             ],
             [
              0.4444444444444444,
              "#bd3786"
             ],
             [
              0.5555555555555556,
              "#d8576b"
             ],
             [
              0.6666666666666666,
              "#ed7953"
             ],
             [
              0.7777777777777778,
              "#fb9f3a"
             ],
             [
              0.8888888888888888,
              "#fdca26"
             ],
             [
              1,
              "#f0f921"
             ]
            ],
            "type": "contour"
           }
          ],
          "contourcarpet": [
           {
            "colorbar": {
             "outlinewidth": 0,
             "ticks": ""
            },
            "type": "contourcarpet"
           }
          ],
          "heatmap": [
           {
            "colorbar": {
             "outlinewidth": 0,
             "ticks": ""
            },
            "colorscale": [
             [
              0,
              "#0d0887"
             ],
             [
              0.1111111111111111,
              "#46039f"
             ],
             [
              0.2222222222222222,
              "#7201a8"
             ],
             [
              0.3333333333333333,
              "#9c179e"
             ],
             [
              0.4444444444444444,
              "#bd3786"
             ],
             [
              0.5555555555555556,
              "#d8576b"
             ],
             [
              0.6666666666666666,
              "#ed7953"
             ],
             [
              0.7777777777777778,
              "#fb9f3a"
             ],
             [
              0.8888888888888888,
              "#fdca26"
             ],
             [
              1,
              "#f0f921"
             ]
            ],
            "type": "heatmap"
           }
          ],
          "heatmapgl": [
           {
            "colorbar": {
             "outlinewidth": 0,
             "ticks": ""
            },
            "colorscale": [
             [
              0,
              "#0d0887"
             ],
             [
              0.1111111111111111,
              "#46039f"
             ],
             [
              0.2222222222222222,
              "#7201a8"
             ],
             [
              0.3333333333333333,
              "#9c179e"
             ],
             [
              0.4444444444444444,
              "#bd3786"
             ],
             [
              0.5555555555555556,
              "#d8576b"
             ],
             [
              0.6666666666666666,
              "#ed7953"
             ],
             [
              0.7777777777777778,
              "#fb9f3a"
             ],
             [
              0.8888888888888888,
              "#fdca26"
             ],
             [
              1,
              "#f0f921"
             ]
            ],
            "type": "heatmapgl"
           }
          ],
          "histogram": [
           {
            "marker": {
             "colorbar": {
              "outlinewidth": 0,
              "ticks": ""
             }
            },
            "type": "histogram"
           }
          ],
          "histogram2d": [
           {
            "colorbar": {
             "outlinewidth": 0,
             "ticks": ""
            },
            "colorscale": [
             [
              0,
              "#0d0887"
             ],
             [
              0.1111111111111111,
              "#46039f"
             ],
             [
              0.2222222222222222,
              "#7201a8"
             ],
             [
              0.3333333333333333,
              "#9c179e"
             ],
             [
              0.4444444444444444,
              "#bd3786"
             ],
             [
              0.5555555555555556,
              "#d8576b"
             ],
             [
              0.6666666666666666,
              "#ed7953"
             ],
             [
              0.7777777777777778,
              "#fb9f3a"
             ],
             [
              0.8888888888888888,
              "#fdca26"
             ],
             [
              1,
              "#f0f921"
             ]
            ],
            "type": "histogram2d"
           }
          ],
          "histogram2dcontour": [
           {
            "colorbar": {
             "outlinewidth": 0,
             "ticks": ""
            },
            "colorscale": [
             [
              0,
              "#0d0887"
             ],
             [
              0.1111111111111111,
              "#46039f"
             ],
             [
              0.2222222222222222,
              "#7201a8"
             ],
             [
              0.3333333333333333,
              "#9c179e"
             ],
             [
              0.4444444444444444,
              "#bd3786"
             ],
             [
              0.5555555555555556,
              "#d8576b"
             ],
             [
              0.6666666666666666,
              "#ed7953"
             ],
             [
              0.7777777777777778,
              "#fb9f3a"
             ],
             [
              0.8888888888888888,
              "#fdca26"
             ],
             [
              1,
              "#f0f921"
             ]
            ],
            "type": "histogram2dcontour"
           }
          ],
          "mesh3d": [
           {
            "colorbar": {
             "outlinewidth": 0,
             "ticks": ""
            },
            "type": "mesh3d"
           }
          ],
          "parcoords": [
           {
            "line": {
             "colorbar": {
              "outlinewidth": 0,
              "ticks": ""
             }
            },
            "type": "parcoords"
           }
          ],
          "pie": [
           {
            "automargin": true,
            "type": "pie"
           }
          ],
          "scatter": [
           {
            "marker": {
             "colorbar": {
              "outlinewidth": 0,
              "ticks": ""
             }
            },
            "type": "scatter"
           }
          ],
          "scatter3d": [
           {
            "line": {
             "colorbar": {
              "outlinewidth": 0,
              "ticks": ""
             }
            },
            "marker": {
             "colorbar": {
              "outlinewidth": 0,
              "ticks": ""
             }
            },
            "type": "scatter3d"
           }
          ],
          "scattercarpet": [
           {
            "marker": {
             "colorbar": {
              "outlinewidth": 0,
              "ticks": ""
             }
            },
            "type": "scattercarpet"
           }
          ],
          "scattergeo": [
           {
            "marker": {
             "colorbar": {
              "outlinewidth": 0,
              "ticks": ""
             }
            },
            "type": "scattergeo"
           }
          ],
          "scattergl": [
           {
            "marker": {
             "colorbar": {
              "outlinewidth": 0,
              "ticks": ""
             }
            },
            "type": "scattergl"
           }
          ],
          "scattermapbox": [
           {
            "marker": {
             "colorbar": {
              "outlinewidth": 0,
              "ticks": ""
             }
            },
            "type": "scattermapbox"
           }
          ],
          "scatterpolar": [
           {
            "marker": {
             "colorbar": {
              "outlinewidth": 0,
              "ticks": ""
             }
            },
            "type": "scatterpolar"
           }
          ],
          "scatterpolargl": [
           {
            "marker": {
             "colorbar": {
              "outlinewidth": 0,
              "ticks": ""
             }
            },
            "type": "scatterpolargl"
           }
          ],
          "scatterternary": [
           {
            "marker": {
             "colorbar": {
              "outlinewidth": 0,
              "ticks": ""
             }
            },
            "type": "scatterternary"
           }
          ],
          "surface": [
           {
            "colorbar": {
             "outlinewidth": 0,
             "ticks": ""
            },
            "colorscale": [
             [
              0,
              "#0d0887"
             ],
             [
              0.1111111111111111,
              "#46039f"
             ],
             [
              0.2222222222222222,
              "#7201a8"
             ],
             [
              0.3333333333333333,
              "#9c179e"
             ],
             [
              0.4444444444444444,
              "#bd3786"
             ],
             [
              0.5555555555555556,
              "#d8576b"
             ],
             [
              0.6666666666666666,
              "#ed7953"
             ],
             [
              0.7777777777777778,
              "#fb9f3a"
             ],
             [
              0.8888888888888888,
              "#fdca26"
             ],
             [
              1,
              "#f0f921"
             ]
            ],
            "type": "surface"
           }
          ],
          "table": [
           {
            "cells": {
             "fill": {
              "color": "#EBF0F8"
             },
             "line": {
              "color": "white"
             }
            },
            "header": {
             "fill": {
              "color": "#C8D4E3"
             },
             "line": {
              "color": "white"
             }
            },
            "type": "table"
           }
          ]
         },
         "layout": {
          "annotationdefaults": {
           "arrowcolor": "#2a3f5f",
           "arrowhead": 0,
           "arrowwidth": 1
          },
          "coloraxis": {
           "colorbar": {
            "outlinewidth": 0,
            "ticks": ""
           }
          },
          "colorscale": {
           "diverging": [
            [
             0,
             "#8e0152"
            ],
            [
             0.1,
             "#c51b7d"
            ],
            [
             0.2,
             "#de77ae"
            ],
            [
             0.3,
             "#f1b6da"
            ],
            [
             0.4,
             "#fde0ef"
            ],
            [
             0.5,
             "#f7f7f7"
            ],
            [
             0.6,
             "#e6f5d0"
            ],
            [
             0.7,
             "#b8e186"
            ],
            [
             0.8,
             "#7fbc41"
            ],
            [
             0.9,
             "#4d9221"
            ],
            [
             1,
             "#276419"
            ]
           ],
           "sequential": [
            [
             0,
             "#0d0887"
            ],
            [
             0.1111111111111111,
             "#46039f"
            ],
            [
             0.2222222222222222,
             "#7201a8"
            ],
            [
             0.3333333333333333,
             "#9c179e"
            ],
            [
             0.4444444444444444,
             "#bd3786"
            ],
            [
             0.5555555555555556,
             "#d8576b"
            ],
            [
             0.6666666666666666,
             "#ed7953"
            ],
            [
             0.7777777777777778,
             "#fb9f3a"
            ],
            [
             0.8888888888888888,
             "#fdca26"
            ],
            [
             1,
             "#f0f921"
            ]
           ],
           "sequentialminus": [
            [
             0,
             "#0d0887"
            ],
            [
             0.1111111111111111,
             "#46039f"
            ],
            [
             0.2222222222222222,
             "#7201a8"
            ],
            [
             0.3333333333333333,
             "#9c179e"
            ],
            [
             0.4444444444444444,
             "#bd3786"
            ],
            [
             0.5555555555555556,
             "#d8576b"
            ],
            [
             0.6666666666666666,
             "#ed7953"
            ],
            [
             0.7777777777777778,
             "#fb9f3a"
            ],
            [
             0.8888888888888888,
             "#fdca26"
            ],
            [
             1,
             "#f0f921"
            ]
           ]
          },
          "colorway": [
           "#636efa",
           "#EF553B",
           "#00cc96",
           "#ab63fa",
           "#FFA15A",
           "#19d3f3",
           "#FF6692",
           "#B6E880",
           "#FF97FF",
           "#FECB52"
          ],
          "font": {
           "color": "#2a3f5f"
          },
          "geo": {
           "bgcolor": "white",
           "lakecolor": "white",
           "landcolor": "#E5ECF6",
           "showlakes": true,
           "showland": true,
           "subunitcolor": "white"
          },
          "hoverlabel": {
           "align": "left"
          },
          "hovermode": "closest",
          "mapbox": {
           "style": "light"
          },
          "paper_bgcolor": "white",
          "plot_bgcolor": "#E5ECF6",
          "polar": {
           "angularaxis": {
            "gridcolor": "white",
            "linecolor": "white",
            "ticks": ""
           },
           "bgcolor": "#E5ECF6",
           "radialaxis": {
            "gridcolor": "white",
            "linecolor": "white",
            "ticks": ""
           }
          },
          "scene": {
           "xaxis": {
            "backgroundcolor": "#E5ECF6",
            "gridcolor": "white",
            "gridwidth": 2,
            "linecolor": "white",
            "showbackground": true,
            "ticks": "",
            "zerolinecolor": "white"
           },
           "yaxis": {
            "backgroundcolor": "#E5ECF6",
            "gridcolor": "white",
            "gridwidth": 2,
            "linecolor": "white",
            "showbackground": true,
            "ticks": "",
            "zerolinecolor": "white"
           },
           "zaxis": {
            "backgroundcolor": "#E5ECF6",
            "gridcolor": "white",
            "gridwidth": 2,
            "linecolor": "white",
            "showbackground": true,
            "ticks": "",
            "zerolinecolor": "white"
           }
          },
          "shapedefaults": {
           "line": {
            "color": "#2a3f5f"
           }
          },
          "ternary": {
           "aaxis": {
            "gridcolor": "white",
            "linecolor": "white",
            "ticks": ""
           },
           "baxis": {
            "gridcolor": "white",
            "linecolor": "white",
            "ticks": ""
           },
           "bgcolor": "#E5ECF6",
           "caxis": {
            "gridcolor": "white",
            "linecolor": "white",
            "ticks": ""
           }
          },
          "title": {
           "x": 0.05
          },
          "xaxis": {
           "automargin": true,
           "gridcolor": "white",
           "linecolor": "white",
           "ticks": "",
           "title": {
            "standoff": 15
           },
           "zerolinecolor": "white",
           "zerolinewidth": 2
          },
          "yaxis": {
           "automargin": true,
           "gridcolor": "white",
           "linecolor": "white",
           "ticks": "",
           "title": {
            "standoff": 15
           },
           "zerolinecolor": "white",
           "zerolinewidth": 2
          }
         }
        },
        "xaxis": {
         "anchor": "y",
         "categoryarray": [
          "Unknown",
          "1",
          "2",
          "3a",
          "3b",
          "4",
          "5"
         ],
         "categoryorder": "array",
         "domain": [
          0,
          1
         ],
         "title": {
          "text": "stage"
         }
        },
        "yaxis": {
         "anchor": "x",
         "domain": [
          0,
          1
         ],
         "title": {
          "text": "duration"
         }
        }
       }
      },
      "text/html": [
       "<div>                            <div id=\"e8e1a675-9592-48e0-b687-35297e624c1e\" class=\"plotly-graph-div\" style=\"height:525px; width:100%;\"></div>            <script type=\"text/javascript\">                require([\"plotly\"], function(Plotly) {                    window.PLOTLYENV=window.PLOTLYENV || {};                                    if (document.getElementById(\"e8e1a675-9592-48e0-b687-35297e624c1e\")) {                    Plotly.newPlot(                        \"e8e1a675-9592-48e0-b687-35297e624c1e\",                        [{\"alignmentgroup\": \"True\", \"hovertemplate\": \"stage=%{x}<br>duration=%{y}<extra></extra>\", \"legendgroup\": \"Unknown\", \"marker\": {\"color\": \"#636efa\"}, \"name\": \"Unknown\", \"notched\": false, \"offsetgroup\": \"Unknown\", \"orientation\": \"v\", \"showlegend\": true, \"type\": \"box\", \"x\": [\"Unknown\", \"Unknown\", \"Unknown\", \"Unknown\", \"Unknown\", \"Unknown\", \"Unknown\", \"Unknown\", \"Unknown\", \"Unknown\", \"Unknown\", \"Unknown\", \"Unknown\", \"Unknown\", \"Unknown\", \"Unknown\", \"Unknown\", \"Unknown\", \"Unknown\", \"Unknown\", \"Unknown\", \"Unknown\", \"Unknown\", \"Unknown\", \"Unknown\", \"Unknown\", \"Unknown\", \"Unknown\", \"Unknown\", \"Unknown\", \"Unknown\", \"Unknown\", \"Unknown\", \"Unknown\", \"Unknown\", \"Unknown\", \"Unknown\", \"Unknown\", \"Unknown\", \"Unknown\", \"Unknown\", \"Unknown\", \"Unknown\", \"Unknown\", \"Unknown\", \"Unknown\", \"Unknown\", \"Unknown\", \"Unknown\", \"Unknown\", \"Unknown\", \"Unknown\", \"Unknown\", \"Unknown\", \"Unknown\", \"Unknown\", \"Unknown\", \"Unknown\", \"Unknown\", \"Unknown\", \"Unknown\", \"Unknown\", \"Unknown\", \"Unknown\", \"Unknown\", \"Unknown\", \"Unknown\", \"Unknown\", \"Unknown\", \"Unknown\", \"Unknown\", \"Unknown\", \"Unknown\", \"Unknown\", \"Unknown\", \"Unknown\", \"Unknown\", \"Unknown\", \"Unknown\", \"Unknown\", \"Unknown\", \"Unknown\", \"Unknown\", \"Unknown\", \"Unknown\", \"Unknown\", \"Unknown\", \"Unknown\", \"Unknown\", \"Unknown\", \"Unknown\", \"Unknown\", \"Unknown\", \"Unknown\", \"Unknown\", \"Unknown\", \"Unknown\", \"Unknown\", \"Unknown\", \"Unknown\", \"Unknown\", \"Unknown\", \"Unknown\", \"Unknown\", \"Unknown\", \"Unknown\", \"Unknown\", \"Unknown\", \"Unknown\", \"Unknown\", \"Unknown\", \"Unknown\", \"Unknown\", \"Unknown\", \"Unknown\", \"Unknown\", \"Unknown\", \"Unknown\", \"Unknown\", \"Unknown\", \"Unknown\", \"Unknown\", \"Unknown\", \"Unknown\", \"Unknown\", \"Unknown\", \"Unknown\", \"Unknown\", \"Unknown\", \"Unknown\", \"Unknown\", \"Unknown\", \"Unknown\", \"Unknown\", \"Unknown\", \"Unknown\", \"Unknown\", \"Unknown\", \"Unknown\", \"Unknown\", \"Unknown\", \"Unknown\", \"Unknown\", \"Unknown\", \"Unknown\", \"Unknown\", \"Unknown\", \"Unknown\", \"Unknown\", \"Unknown\", \"Unknown\", \"Unknown\", \"Unknown\", \"Unknown\", \"Unknown\", \"Unknown\", \"Unknown\", \"Unknown\", \"Unknown\", \"Unknown\", \"Unknown\", \"Unknown\", \"Unknown\", \"Unknown\", \"Unknown\", \"Unknown\", \"Unknown\", \"Unknown\", \"Unknown\", \"Unknown\", \"Unknown\", \"Unknown\", \"Unknown\", \"Unknown\", \"Unknown\", \"Unknown\", \"Unknown\", \"Unknown\", \"Unknown\", \"Unknown\", \"Unknown\", \"Unknown\", \"Unknown\", \"Unknown\", \"Unknown\", \"Unknown\", \"Unknown\", \"Unknown\", \"Unknown\", \"Unknown\", \"Unknown\", \"Unknown\", \"Unknown\", \"Unknown\", \"Unknown\", \"Unknown\", \"Unknown\", \"Unknown\", \"Unknown\", \"Unknown\", \"Unknown\", \"Unknown\", \"Unknown\", \"Unknown\", \"Unknown\", \"Unknown\", \"Unknown\", \"Unknown\", \"Unknown\", \"Unknown\", \"Unknown\", \"Unknown\", \"Unknown\", \"Unknown\", \"Unknown\", \"Unknown\", \"Unknown\", \"Unknown\", \"Unknown\", \"Unknown\", \"Unknown\", \"Unknown\", \"Unknown\", \"Unknown\", \"Unknown\", \"Unknown\", \"Unknown\", \"Unknown\", \"Unknown\", \"Unknown\", \"Unknown\", \"Unknown\", \"Unknown\", \"Unknown\", \"Unknown\", \"Unknown\", \"Unknown\", \"Unknown\", \"Unknown\", \"Unknown\", \"Unknown\", \"Unknown\", \"Unknown\", \"Unknown\", \"Unknown\", \"Unknown\", \"Unknown\", \"Unknown\", \"Unknown\", \"Unknown\", \"Unknown\", \"Unknown\", \"Unknown\", \"Unknown\", \"Unknown\", \"Unknown\", \"Unknown\", \"Unknown\", \"Unknown\", \"Unknown\", \"Unknown\", \"Unknown\", \"Unknown\", \"Unknown\", \"Unknown\", \"Unknown\", \"Unknown\", \"Unknown\", \"Unknown\", \"Unknown\", \"Unknown\", \"Unknown\", \"Unknown\", \"Unknown\", \"Unknown\", \"Unknown\", \"Unknown\", \"Unknown\", \"Unknown\", \"Unknown\", \"Unknown\", \"Unknown\", \"Unknown\", \"Unknown\", \"Unknown\", \"Unknown\", \"Unknown\", \"Unknown\", \"Unknown\", \"Unknown\", \"Unknown\"], \"x0\": \" \", \"xaxis\": \"x\", \"y\": [null, null, null, null, null, null, null, null, null, null, null, null, null, null, null, null, null, null, null, null, null, null, null, null, null, null, null, null, null, null, null, null, null, null, null, null, null, null, null, null, null, null, null, null, null, null, null, null, null, null, null, null, null, null, null, null, null, null, null, null, null, null, null, null, null, null, null, null, null, null, null, null, null, null, null, null, null, null, null, null, null, null, null, null, null, null, null, null, null, null, null, null, null, null, null, null, null, null, null, null, null, null, null, null, null, null, null, null, null, null, null, null, null, null, null, null, null, null, null, null, null, null, null, null, null, null, null, null, null, null, null, null, null, null, null, null, null, null, null, null, null, null, null, null, null, null, null, null, null, null, null, null, null, null, null, null, null, null, null, null, null, null, null, null, null, null, null, null, null, null, null, null, null, null, null, null, null, null, null, null, null, null, null, null, null, null, null, null, null, null, null, null, null, null, null, null, null, null, null, null, null, null, null, null, null, null, null, null, null, null, null, null, null, null, null, null, null, null, null, null, null, null, null, null, null, null, null, null, null, null, null, null, null, null, null, null, null, null, null, null, null, null, null, null, null, null, null, null, null, null, null, null, null, null, null, null, null, null, null, null, null, null, null, null, null, null, null, null, null, null, null, null, null, null, null, null, null, null, null, null, null, null, null, null, null, null, null, null, null, null, null], \"y0\": \" \", \"yaxis\": \"y\"}, {\"alignmentgroup\": \"True\", \"hovertemplate\": \"stage=%{x}<br>duration=%{y}<extra></extra>\", \"legendgroup\": \"1\", \"marker\": {\"color\": \"#EF553B\"}, \"name\": \"1\", \"notched\": false, \"offsetgroup\": \"1\", \"orientation\": \"v\", \"showlegend\": true, \"type\": \"box\", \"x\": [\"1\", \"1\", \"1\", \"1\", \"1\", \"1\", \"1\", \"1\", \"1\", \"1\", \"1\", \"1\", \"1\", \"1\", \"1\", \"1\", \"1\", \"1\", \"1\", \"1\", \"1\", \"1\", \"1\"], \"x0\": \" \", \"xaxis\": \"x\", \"y\": [2607.0, 2312.0, 2743.0, 1914.0, 273.0, 278.0, 956.0, 1184.0, -235.0, -415.0, 952.0, 333.0, 1741.0, 1331.0, 510.0, 2039.0, 1551.0, 466.0, 1885.0, 2200.0, -184.0, -9.0, -738.0], \"y0\": \" \", \"yaxis\": \"y\"}, {\"alignmentgroup\": \"True\", \"hovertemplate\": \"stage=%{x}<br>duration=%{y}<extra></extra>\", \"legendgroup\": \"2\", \"marker\": {\"color\": \"#00cc96\"}, \"name\": \"2\", \"notched\": false, \"offsetgroup\": \"2\", \"orientation\": \"v\", \"showlegend\": true, \"type\": \"box\", \"x\": [\"2\", \"2\", \"2\", \"2\", \"2\", \"2\", \"2\", \"2\", \"2\", \"2\", \"2\", \"2\", \"2\", \"2\", \"2\", \"2\", \"2\", \"2\", \"2\", \"2\", \"2\", \"2\", \"2\", \"2\", \"2\", \"2\", \"2\", \"2\", \"2\", \"2\", \"2\", \"2\", \"2\", \"2\", \"2\", \"2\", \"2\", \"2\", \"2\", \"2\", \"2\", \"2\", \"2\", \"2\", \"2\", \"2\", \"2\", \"2\", \"2\", \"2\", \"2\", \"2\", \"2\", \"2\", \"2\", \"2\", \"2\", \"2\", \"2\", \"2\", \"2\", \"2\"], \"x0\": \" \", \"xaxis\": \"x\", \"y\": [-23.0, 2784.0, 3433.0, 204.0, 2472.0, 3227.0, 1337.0, 2358.0, 1456.0, 2029.0, 96.0, 139.0, 488.0, 2015.0, 2140.0, 3042.0, 3021.0, 2323.0, 3087.0, 55.0, 65.0, 1706.0, 1257.0, 2217.0, 3033.0, 1723.0, 2257.0, 3304.0, 1309.0, 1521.0, 1413.0, 965.0, 1137.0, 1788.0, 763.0, 1879.0, 2769.0, 3080.0, 1445.0, 1856.0, 1324.0, 1563.0, -3.0, 1423.0, 301.0, 251.0, -472.0, 1770.0, 716.0, -102.0, 2089.0, 424.0, 432.0, 208.0, -422.0, 1442.0, 1231.0, 1357.0, 2606.0, 2287.0, -566.0, 182.0], \"y0\": \" \", \"yaxis\": \"y\"}, {\"alignmentgroup\": \"True\", \"hovertemplate\": \"stage=%{x}<br>duration=%{y}<extra></extra>\", \"legendgroup\": \"3a\", \"marker\": {\"color\": \"#ab63fa\"}, \"name\": \"3a\", \"notched\": false, \"offsetgroup\": \"3a\", \"orientation\": \"v\", \"showlegend\": true, \"type\": \"box\", \"x\": [\"3a\", \"3a\", \"3a\", \"3a\", \"3a\", \"3a\", \"3a\", \"3a\", \"3a\", \"3a\", \"3a\", \"3a\", \"3a\", \"3a\", \"3a\", \"3a\", \"3a\", \"3a\", \"3a\", \"3a\", \"3a\", \"3a\", \"3a\", \"3a\", \"3a\", \"3a\", \"3a\", \"3a\", \"3a\", \"3a\", \"3a\", \"3a\", \"3a\", \"3a\", \"3a\", \"3a\", \"3a\", \"3a\", \"3a\", \"3a\", \"3a\", \"3a\", \"3a\", \"3a\", \"3a\", \"3a\", \"3a\", \"3a\", \"3a\", \"3a\", \"3a\", \"3a\", \"3a\", \"3a\", \"3a\", \"3a\", \"3a\", \"3a\", \"3a\", \"3a\", \"3a\", \"3a\", \"3a\", \"3a\", \"3a\", \"3a\", \"3a\", \"3a\", \"3a\", \"3a\", \"3a\", \"3a\", \"3a\", \"3a\", \"3a\", \"3a\", \"3a\", \"3a\", \"3a\", \"3a\", \"3a\", \"3a\", \"3a\", \"3a\", \"3a\"], \"x0\": \" \", \"xaxis\": \"x\", \"y\": [1913.0, 3379.0, 1977.0, 2162.0, 2497.0, 1987.0, 2221.0, 2342.0, 2555.0, 2180.0, 3140.0, 2470.0, 2413.0, 2715.0, 3068.0, 1452.0, 1779.0, 1591.0, 2902.0, 2565.0, 3572.0, 2117.0, 1148.0, -881.0, 199.0, 1572.0, 2178.0, 2542.0, 659.0, 1925.0, 2371.0, 3234.0, 273.0, 775.0, 2461.0, 1113.0, 1085.0, 1674.0, 3161.0, 1603.0, 1777.0, 820.0, 2922.0, 2643.0, 2159.0, 1907.0, 1285.0, 1140.0, 2081.0, 2070.0, 1504.0, 1640.0, 621.0, 1058.0, 2585.0, 2120.0, 737.0, 1494.0, 466.0, 1507.0, 219.0, 56.0, 186.0, 1256.0, 176.0, 1692.0, 21.0, 228.0, 2434.0, 2053.0, 1554.0, 2268.0, 2744.0, 308.0, 394.0, 2242.0, -33.0, 2038.0, 683.0, 1476.0, 2253.0, 1462.0, 1388.0, 1591.0, 2615.0], \"y0\": \" \", \"yaxis\": \"y\"}, {\"alignmentgroup\": \"True\", \"hovertemplate\": \"stage=%{x}<br>duration=%{y}<extra></extra>\", \"legendgroup\": \"3b\", \"marker\": {\"color\": \"#FFA15A\"}, \"name\": \"3b\", \"notched\": false, \"offsetgroup\": \"3b\", \"orientation\": \"v\", \"showlegend\": true, \"type\": \"box\", \"x\": [\"3b\", \"3b\", \"3b\", \"3b\", \"3b\", \"3b\", \"3b\", \"3b\", \"3b\", \"3b\", \"3b\", \"3b\", \"3b\", \"3b\", \"3b\", \"3b\", \"3b\", \"3b\", \"3b\", \"3b\", \"3b\", \"3b\", \"3b\", \"3b\", \"3b\", \"3b\", \"3b\", \"3b\", \"3b\", \"3b\", \"3b\", \"3b\", \"3b\", \"3b\", \"3b\", \"3b\", \"3b\", \"3b\", \"3b\", \"3b\", \"3b\", \"3b\", \"3b\", \"3b\", \"3b\", \"3b\", \"3b\", \"3b\", \"3b\", \"3b\", \"3b\", \"3b\", \"3b\", \"3b\", \"3b\", \"3b\", \"3b\", \"3b\", \"3b\", \"3b\", \"3b\", \"3b\", \"3b\", \"3b\", \"3b\", \"3b\", \"3b\", \"3b\", \"3b\", \"3b\", \"3b\", \"3b\", \"3b\", \"3b\", \"3b\", \"3b\", \"3b\", \"3b\", \"3b\", \"3b\", \"3b\", \"3b\", \"3b\", \"3b\", \"3b\", \"3b\", \"3b\", \"3b\", \"3b\", \"3b\", \"3b\", \"3b\", \"3b\", \"3b\", \"3b\", \"3b\", \"3b\", \"3b\", \"3b\", \"3b\", \"3b\", \"3b\", \"3b\", \"3b\", \"3b\", \"3b\", \"3b\", \"3b\", \"3b\", \"3b\", \"3b\", \"3b\", \"3b\", \"3b\", \"3b\", \"3b\", \"3b\", \"3b\", \"3b\", \"3b\", \"3b\", \"3b\", \"3b\", \"3b\", \"3b\", \"3b\", \"3b\", \"3b\", \"3b\", \"3b\", \"3b\", \"3b\", \"3b\", \"3b\", \"3b\", \"3b\", \"3b\", \"3b\", \"3b\"], \"x0\": \" \", \"xaxis\": \"x\", \"y\": [1080.0, 349.0, 2589.0, 1045.0, 2656.0, 2014.0, 1632.0, 2639.0, 392.0, 2017.0, 1128.0, 860.0, 1362.0, 2234.0, 2161.0, 1534.0, 2215.0, 1839.0, 1810.0, -641.0, 1350.0, 1807.0, 1857.0, 1913.0, 2030.0, 2202.0, 2559.0, 2493.0, 2539.0, 2552.0, 1353.0, 1568.0, 2682.0, 2359.0, 1936.0, 2359.0, 2504.0, 2281.0, 2607.0, 1336.0, 179.0, -924.0, 1245.0, 2194.0, 2704.0, 1254.0, 431.0, 1398.0, 2147.0, 3148.0, 1970.0, 1484.0, 2985.0, 2658.0, 394.0, 730.0, 1332.0, 1916.0, 910.0, 2280.0, 2227.0, 2244.0, 938.0, 507.0, 4.0, 626.0, -38.0, 205.0, 1440.0, 1942.0, 1800.0, 2413.0, 2576.0, 2460.0, -29.0, 462.0, 327.0, 405.0, 1764.0, 2596.0, 2184.0, 2431.0, 3697.0, 36.0, 685.0, 1853.0, 1778.0, 759.0, 3084.0, 1057.0, 1100.0, 1378.0, 1174.0, 2295.0, 1206.0, 1116.0, 740.0, 1382.0, 1494.0, 866.0, 809.0, 285.0, 1611.0, 2894.0, 1854.0, 1983.0, 2108.0, 1593.0, 1073.0, 525.0, 101.0, 117.0, 711.0, 1433.0, 1645.0, 2706.0, 97.0, 1194.0, 182.0, 806.0, 1505.0, -988.0, 2169.0, 621.0, 1091.0, -228.0, 839.0, -99.0, 345.0, -278.0, 527.0, -350.0, -185.0, 2498.0, 278.0, 151.0, -60.0, 122.0, 463.0], \"y0\": \" \", \"yaxis\": \"y\"}, {\"alignmentgroup\": \"True\", \"hovertemplate\": \"stage=%{x}<br>duration=%{y}<extra></extra>\", \"legendgroup\": \"4\", \"marker\": {\"color\": \"#19d3f3\"}, \"name\": \"4\", \"notched\": false, \"offsetgroup\": \"4\", \"orientation\": \"v\", \"showlegend\": true, \"type\": \"box\", \"x\": [\"4\", \"4\", \"4\", \"4\", \"4\", \"4\", \"4\", \"4\", \"4\", \"4\", \"4\", \"4\", \"4\", \"4\", \"4\", \"4\", \"4\", \"4\", \"4\", \"4\", \"4\", \"4\", \"4\", \"4\", \"4\", \"4\", \"4\", \"4\", \"4\", \"4\", \"4\", \"4\", \"4\", \"4\", \"4\", \"4\", \"4\", \"4\", \"4\", \"4\", \"4\", \"4\", \"4\", \"4\", \"4\", \"4\", \"4\", \"4\", \"4\", \"4\", \"4\", \"4\", \"4\", \"4\", \"4\", \"4\", \"4\", \"4\", \"4\", \"4\", \"4\", \"4\", \"4\", \"4\", \"4\", \"4\", \"4\", \"4\", \"4\", \"4\", \"4\", \"4\", \"4\", \"4\", \"4\", \"4\", \"4\", \"4\", \"4\", \"4\", \"4\", \"4\", \"4\", \"4\", \"4\", \"4\", \"4\", \"4\", \"4\", \"4\", \"4\", \"4\", \"4\", \"4\", \"4\", \"4\", \"4\", \"4\", \"4\", \"4\", \"4\", \"4\", \"4\", \"4\", \"4\", \"4\", \"4\", \"4\", \"4\", \"4\", \"4\", \"4\", \"4\", \"4\", \"4\", \"4\", \"4\", \"4\", \"4\", \"4\", \"4\", \"4\", \"4\", \"4\", \"4\", \"4\", \"4\", \"4\", \"4\", \"4\", \"4\", \"4\", \"4\", \"4\", \"4\", \"4\", \"4\", \"4\", \"4\", \"4\", \"4\", \"4\", \"4\", \"4\", \"4\", \"4\", \"4\", \"4\", \"4\", \"4\", \"4\", \"4\", \"4\", \"4\", \"4\", \"4\", \"4\", \"4\", \"4\", \"4\", \"4\", \"4\", \"4\", \"4\", \"4\", \"4\", \"4\", \"4\", \"4\", \"4\", \"4\", \"4\", \"4\", \"4\", \"4\", \"4\", \"4\", \"4\", \"4\", \"4\", \"4\", \"4\", \"4\", \"4\", \"4\", \"4\", \"4\", \"4\", \"4\", \"4\", \"4\", \"4\", \"4\", \"4\", \"4\"], \"x0\": \" \", \"xaxis\": \"x\", \"y\": [1718.0, 1009.0, 1324.0, 1050.0, 432.0, 266.0, 1224.0, 136.0, 1822.0, 1613.0, 1946.0, 596.0, 828.0, 378.0, 533.0, 2300.0, 1533.0, 2115.0, 3029.0, 2016.0, 2073.0, 411.0, 1673.0, 463.0, 1533.0, 289.0, 1022.0, 1259.0, 1555.0, 1494.0, 1503.0, 8.0, 256.0, 332.0, 1560.0, 2643.0, 3200.0, 2866.0, 2196.0, 490.0, 437.0, 511.0, 205.0, 1122.0, 1182.0, 715.0, 179.0, -838.0, 143.0, 1224.0, 843.0, -18.0, 2505.0, 2090.0, 1283.0, 2941.0, 2034.0, 582.0, 503.0, 92.0, 455.0, 604.0, 69.0, -45.0, 1859.0, 13.0, 2433.0, 2909.0, 348.0, 2174.0, 3136.0, 3380.0, 2597.0, 2333.0, 63.0, 476.0, 738.0, 857.0, 474.0, 1178.0, 2501.0, 2444.0, 2093.0, 1102.0, 64.0, 50.0, 361.0, 661.0, 1967.0, 1115.0, 1596.0, 895.0, 992.0, 2011.0, 2639.0, 354.0, 696.0, 1162.0, 1051.0, 330.0, 343.0, 9.0, 392.0, 2091.0, 1863.0, 633.0, -68.0, 736.0, 469.0, 229.0, 1163.0, 234.0, 665.0, 107.0, 1209.0, 643.0, 1857.0, 2055.0, 2924.0, 266.0, 153.0, 359.0, 170.0, 931.0, -38.0, 25.0, 389.0, 2540.0, 119.0, -42.0, 1239.0, 85.0, 1080.0, 112.0, 1444.0, 293.0, 177.0, 130.0, -136.0, 304.0, 1370.0, 1031.0, 1762.0, 106.0, 2212.0, 1133.0, 1674.0, 826.0, 2090.0, 315.0, 524.0, 604.0, 427.0, 26.0, 1283.0, 605.0, 483.0, 938.0, 555.0, 1334.0, 164.0, 863.0, 415.0, 838.0, 485.0, 1173.0, 1041.0, 271.0, 260.0, 13.0, 115.0, 131.0, 1107.0, 12.0, 61.0, 1690.0, -24.0, 991.0, 223.0, -537.0, 1754.0, 695.0, 1959.0, 86.0, 100.0, -121.0, 739.0, 763.0, 289.0, 1030.0, 18.0, 231.0, 651.0, 2755.0, 3575.0], \"y0\": \" \", \"yaxis\": \"y\"}, {\"alignmentgroup\": \"True\", \"hovertemplate\": \"stage=%{x}<br>duration=%{y}<extra></extra>\", \"legendgroup\": \"5\", \"marker\": {\"color\": \"#FF6692\"}, \"name\": \"5\", \"notched\": false, \"offsetgroup\": \"5\", \"orientation\": \"v\", \"showlegend\": true, \"type\": \"box\", \"x\": [\"5\", \"5\", \"5\", \"5\", \"5\", \"5\", \"5\", \"5\", \"5\", \"5\", \"5\", \"5\", \"5\", \"5\", \"5\", \"5\", \"5\", \"5\", \"5\", \"5\", \"5\", \"5\", \"5\", \"5\", \"5\", \"5\", \"5\", \"5\", \"5\", \"5\", \"5\", \"5\", \"5\", \"5\", \"5\", \"5\", \"5\", \"5\", \"5\", \"5\", \"5\", \"5\", \"5\", \"5\", \"5\", \"5\", \"5\", \"5\", \"5\", \"5\", \"5\", \"5\", \"5\", \"5\", \"5\", \"5\", \"5\", \"5\", \"5\", \"5\", \"5\", \"5\", \"5\", \"5\", \"5\", \"5\", \"5\", \"5\", \"5\", \"5\", \"5\", \"5\", \"5\", \"5\", \"5\", \"5\", \"5\", \"5\", \"5\", \"5\", \"5\", \"5\", \"5\", \"5\", \"5\", \"5\", \"5\", \"5\", \"5\", \"5\", \"5\", \"5\", \"5\", \"5\", \"5\", \"5\", \"5\", \"5\", \"5\", \"5\", \"5\", \"5\", \"5\", \"5\", \"5\", \"5\", \"5\", \"5\", \"5\", \"5\", \"5\", \"5\", \"5\", \"5\", \"5\", \"5\", \"5\", \"5\", \"5\", \"5\", \"5\", \"5\", \"5\", \"5\", \"5\", \"5\", \"5\", \"5\", \"5\", \"5\", \"5\", \"5\", \"5\", \"5\", \"5\", \"5\", \"5\", \"5\", \"5\", \"5\", \"5\", \"5\", \"5\"], \"x0\": \" \", \"xaxis\": \"x\", \"y\": [673.0, -540.0, -1979.0, 1484.0, 72.0, 359.0, 1275.0, 853.0, 719.0, 215.0, -664.0, 787.0, 1893.0, -2333.0, 410.0, 271.0, -427.0, 147.0, -667.0, 101.0, -551.0, 1788.0, -15.0, -658.0, -4.0, -200.0, -447.0, -655.0, 373.0, 1668.0, 2188.0, 840.0, 2053.0, -147.0, 231.0, -134.0, 703.0, -62.0, -701.0, -169.0, -42.0, 1857.0, -68.0, 928.0, -414.0, -902.0, 99.0, 155.0, -506.0, -649.0, -442.0, 1044.0, 1807.0, 93.0, -27.0, -267.0, 3.0, 1845.0, 65.0, 124.0, 1213.0, -1951.0, 1031.0, 25.0, 85.0, -1.0, 606.0, 1163.0, -465.0, -157.0, -644.0, 148.0, -241.0, -80.0, -7.0, 266.0, 17.0, 0.0, -260.0, 1690.0, 1842.0, 2299.0, 25.0, -417.0, 308.0, 483.0, -185.0, -344.0, 142.0, 1542.0, 2.0, 682.0, 27.0, 5.0, 1169.0, -957.0, -422.0, 51.0, 1508.0, 1666.0, 1436.0, -1345.0, 58.0, -884.0, -20.0, 1779.0, -163.0, -1173.0, 27.0, -305.0, 2628.0, 439.0, 391.0, -1043.0, 29.0, -1235.0, 2341.0, 461.0, 187.0, -462.0, 847.0, 2294.0, 2151.0, 849.0, -385.0, -2052.0, -1738.0, 7.0, 17.0, 35.0, 2318.0, 223.0, 2234.0, 2718.0, -144.0, -98.0, 56.0, -30.0, -639.0, 41.0, 102.0, 16.0, 2189.0], \"y0\": \" \", \"yaxis\": \"y\"}],                        {\"boxmode\": \"overlay\", \"legend\": {\"title\": {\"text\": \"stage\"}, \"tracegroupgap\": 0}, \"margin\": {\"t\": 60}, \"template\": {\"data\": {\"bar\": [{\"error_x\": {\"color\": \"#2a3f5f\"}, \"error_y\": {\"color\": \"#2a3f5f\"}, \"marker\": {\"line\": {\"color\": \"#E5ECF6\", \"width\": 0.5}}, \"type\": \"bar\"}], \"barpolar\": [{\"marker\": {\"line\": {\"color\": \"#E5ECF6\", \"width\": 0.5}}, \"type\": \"barpolar\"}], \"carpet\": [{\"aaxis\": {\"endlinecolor\": \"#2a3f5f\", \"gridcolor\": \"white\", \"linecolor\": \"white\", \"minorgridcolor\": \"white\", \"startlinecolor\": \"#2a3f5f\"}, \"baxis\": {\"endlinecolor\": \"#2a3f5f\", \"gridcolor\": \"white\", \"linecolor\": \"white\", \"minorgridcolor\": \"white\", \"startlinecolor\": \"#2a3f5f\"}, \"type\": \"carpet\"}], \"choropleth\": [{\"colorbar\": {\"outlinewidth\": 0, \"ticks\": \"\"}, \"type\": \"choropleth\"}], \"contour\": [{\"colorbar\": {\"outlinewidth\": 0, \"ticks\": \"\"}, \"colorscale\": [[0.0, \"#0d0887\"], [0.1111111111111111, \"#46039f\"], [0.2222222222222222, \"#7201a8\"], [0.3333333333333333, \"#9c179e\"], [0.4444444444444444, \"#bd3786\"], [0.5555555555555556, \"#d8576b\"], [0.6666666666666666, \"#ed7953\"], [0.7777777777777778, \"#fb9f3a\"], [0.8888888888888888, \"#fdca26\"], [1.0, \"#f0f921\"]], \"type\": \"contour\"}], \"contourcarpet\": [{\"colorbar\": {\"outlinewidth\": 0, \"ticks\": \"\"}, \"type\": \"contourcarpet\"}], \"heatmap\": [{\"colorbar\": {\"outlinewidth\": 0, \"ticks\": \"\"}, \"colorscale\": [[0.0, \"#0d0887\"], [0.1111111111111111, \"#46039f\"], [0.2222222222222222, \"#7201a8\"], [0.3333333333333333, \"#9c179e\"], [0.4444444444444444, \"#bd3786\"], [0.5555555555555556, \"#d8576b\"], [0.6666666666666666, \"#ed7953\"], [0.7777777777777778, \"#fb9f3a\"], [0.8888888888888888, \"#fdca26\"], [1.0, \"#f0f921\"]], \"type\": \"heatmap\"}], \"heatmapgl\": [{\"colorbar\": {\"outlinewidth\": 0, \"ticks\": \"\"}, \"colorscale\": [[0.0, \"#0d0887\"], [0.1111111111111111, \"#46039f\"], [0.2222222222222222, \"#7201a8\"], [0.3333333333333333, \"#9c179e\"], [0.4444444444444444, \"#bd3786\"], [0.5555555555555556, \"#d8576b\"], [0.6666666666666666, \"#ed7953\"], [0.7777777777777778, \"#fb9f3a\"], [0.8888888888888888, \"#fdca26\"], [1.0, \"#f0f921\"]], \"type\": \"heatmapgl\"}], \"histogram\": [{\"marker\": {\"colorbar\": {\"outlinewidth\": 0, \"ticks\": \"\"}}, \"type\": \"histogram\"}], \"histogram2d\": [{\"colorbar\": {\"outlinewidth\": 0, \"ticks\": \"\"}, \"colorscale\": [[0.0, \"#0d0887\"], [0.1111111111111111, \"#46039f\"], [0.2222222222222222, \"#7201a8\"], [0.3333333333333333, \"#9c179e\"], [0.4444444444444444, \"#bd3786\"], [0.5555555555555556, \"#d8576b\"], [0.6666666666666666, \"#ed7953\"], [0.7777777777777778, \"#fb9f3a\"], [0.8888888888888888, \"#fdca26\"], [1.0, \"#f0f921\"]], \"type\": \"histogram2d\"}], \"histogram2dcontour\": [{\"colorbar\": {\"outlinewidth\": 0, \"ticks\": \"\"}, \"colorscale\": [[0.0, \"#0d0887\"], [0.1111111111111111, \"#46039f\"], [0.2222222222222222, \"#7201a8\"], [0.3333333333333333, \"#9c179e\"], [0.4444444444444444, \"#bd3786\"], [0.5555555555555556, \"#d8576b\"], [0.6666666666666666, \"#ed7953\"], [0.7777777777777778, \"#fb9f3a\"], [0.8888888888888888, \"#fdca26\"], [1.0, \"#f0f921\"]], \"type\": \"histogram2dcontour\"}], \"mesh3d\": [{\"colorbar\": {\"outlinewidth\": 0, \"ticks\": \"\"}, \"type\": \"mesh3d\"}], \"parcoords\": [{\"line\": {\"colorbar\": {\"outlinewidth\": 0, \"ticks\": \"\"}}, \"type\": \"parcoords\"}], \"pie\": [{\"automargin\": true, \"type\": \"pie\"}], \"scatter\": [{\"marker\": {\"colorbar\": {\"outlinewidth\": 0, \"ticks\": \"\"}}, \"type\": \"scatter\"}], \"scatter3d\": [{\"line\": {\"colorbar\": {\"outlinewidth\": 0, \"ticks\": \"\"}}, \"marker\": {\"colorbar\": {\"outlinewidth\": 0, \"ticks\": \"\"}}, \"type\": \"scatter3d\"}], \"scattercarpet\": [{\"marker\": {\"colorbar\": {\"outlinewidth\": 0, \"ticks\": \"\"}}, \"type\": \"scattercarpet\"}], \"scattergeo\": [{\"marker\": {\"colorbar\": {\"outlinewidth\": 0, \"ticks\": \"\"}}, \"type\": \"scattergeo\"}], \"scattergl\": [{\"marker\": {\"colorbar\": {\"outlinewidth\": 0, \"ticks\": \"\"}}, \"type\": \"scattergl\"}], \"scattermapbox\": [{\"marker\": {\"colorbar\": {\"outlinewidth\": 0, \"ticks\": \"\"}}, \"type\": \"scattermapbox\"}], \"scatterpolar\": [{\"marker\": {\"colorbar\": {\"outlinewidth\": 0, \"ticks\": \"\"}}, \"type\": \"scatterpolar\"}], \"scatterpolargl\": [{\"marker\": {\"colorbar\": {\"outlinewidth\": 0, \"ticks\": \"\"}}, \"type\": \"scatterpolargl\"}], \"scatterternary\": [{\"marker\": {\"colorbar\": {\"outlinewidth\": 0, \"ticks\": \"\"}}, \"type\": \"scatterternary\"}], \"surface\": [{\"colorbar\": {\"outlinewidth\": 0, \"ticks\": \"\"}, \"colorscale\": [[0.0, \"#0d0887\"], [0.1111111111111111, \"#46039f\"], [0.2222222222222222, \"#7201a8\"], [0.3333333333333333, \"#9c179e\"], [0.4444444444444444, \"#bd3786\"], [0.5555555555555556, \"#d8576b\"], [0.6666666666666666, \"#ed7953\"], [0.7777777777777778, \"#fb9f3a\"], [0.8888888888888888, \"#fdca26\"], [1.0, \"#f0f921\"]], \"type\": \"surface\"}], \"table\": [{\"cells\": {\"fill\": {\"color\": \"#EBF0F8\"}, \"line\": {\"color\": \"white\"}}, \"header\": {\"fill\": {\"color\": \"#C8D4E3\"}, \"line\": {\"color\": \"white\"}}, \"type\": \"table\"}]}, \"layout\": {\"annotationdefaults\": {\"arrowcolor\": \"#2a3f5f\", \"arrowhead\": 0, \"arrowwidth\": 1}, \"coloraxis\": {\"colorbar\": {\"outlinewidth\": 0, \"ticks\": \"\"}}, \"colorscale\": {\"diverging\": [[0, \"#8e0152\"], [0.1, \"#c51b7d\"], [0.2, \"#de77ae\"], [0.3, \"#f1b6da\"], [0.4, \"#fde0ef\"], [0.5, \"#f7f7f7\"], [0.6, \"#e6f5d0\"], [0.7, \"#b8e186\"], [0.8, \"#7fbc41\"], [0.9, \"#4d9221\"], [1, \"#276419\"]], \"sequential\": [[0.0, \"#0d0887\"], [0.1111111111111111, \"#46039f\"], [0.2222222222222222, \"#7201a8\"], [0.3333333333333333, \"#9c179e\"], [0.4444444444444444, \"#bd3786\"], [0.5555555555555556, \"#d8576b\"], [0.6666666666666666, \"#ed7953\"], [0.7777777777777778, \"#fb9f3a\"], [0.8888888888888888, \"#fdca26\"], [1.0, \"#f0f921\"]], \"sequentialminus\": [[0.0, \"#0d0887\"], [0.1111111111111111, \"#46039f\"], [0.2222222222222222, \"#7201a8\"], [0.3333333333333333, \"#9c179e\"], [0.4444444444444444, \"#bd3786\"], [0.5555555555555556, \"#d8576b\"], [0.6666666666666666, \"#ed7953\"], [0.7777777777777778, \"#fb9f3a\"], [0.8888888888888888, \"#fdca26\"], [1.0, \"#f0f921\"]]}, \"colorway\": [\"#636efa\", \"#EF553B\", \"#00cc96\", \"#ab63fa\", \"#FFA15A\", \"#19d3f3\", \"#FF6692\", \"#B6E880\", \"#FF97FF\", \"#FECB52\"], \"font\": {\"color\": \"#2a3f5f\"}, \"geo\": {\"bgcolor\": \"white\", \"lakecolor\": \"white\", \"landcolor\": \"#E5ECF6\", \"showlakes\": true, \"showland\": true, \"subunitcolor\": \"white\"}, \"hoverlabel\": {\"align\": \"left\"}, \"hovermode\": \"closest\", \"mapbox\": {\"style\": \"light\"}, \"paper_bgcolor\": \"white\", \"plot_bgcolor\": \"#E5ECF6\", \"polar\": {\"angularaxis\": {\"gridcolor\": \"white\", \"linecolor\": \"white\", \"ticks\": \"\"}, \"bgcolor\": \"#E5ECF6\", \"radialaxis\": {\"gridcolor\": \"white\", \"linecolor\": \"white\", \"ticks\": \"\"}}, \"scene\": {\"xaxis\": {\"backgroundcolor\": \"#E5ECF6\", \"gridcolor\": \"white\", \"gridwidth\": 2, \"linecolor\": \"white\", \"showbackground\": true, \"ticks\": \"\", \"zerolinecolor\": \"white\"}, \"yaxis\": {\"backgroundcolor\": \"#E5ECF6\", \"gridcolor\": \"white\", \"gridwidth\": 2, \"linecolor\": \"white\", \"showbackground\": true, \"ticks\": \"\", \"zerolinecolor\": \"white\"}, \"zaxis\": {\"backgroundcolor\": \"#E5ECF6\", \"gridcolor\": \"white\", \"gridwidth\": 2, \"linecolor\": \"white\", \"showbackground\": true, \"ticks\": \"\", \"zerolinecolor\": \"white\"}}, \"shapedefaults\": {\"line\": {\"color\": \"#2a3f5f\"}}, \"ternary\": {\"aaxis\": {\"gridcolor\": \"white\", \"linecolor\": \"white\", \"ticks\": \"\"}, \"baxis\": {\"gridcolor\": \"white\", \"linecolor\": \"white\", \"ticks\": \"\"}, \"bgcolor\": \"#E5ECF6\", \"caxis\": {\"gridcolor\": \"white\", \"linecolor\": \"white\", \"ticks\": \"\"}}, \"title\": {\"x\": 0.05}, \"xaxis\": {\"automargin\": true, \"gridcolor\": \"white\", \"linecolor\": \"white\", \"ticks\": \"\", \"title\": {\"standoff\": 15}, \"zerolinecolor\": \"white\", \"zerolinewidth\": 2}, \"yaxis\": {\"automargin\": true, \"gridcolor\": \"white\", \"linecolor\": \"white\", \"ticks\": \"\", \"title\": {\"standoff\": 15}, \"zerolinecolor\": \"white\", \"zerolinewidth\": 2}}}, \"xaxis\": {\"anchor\": \"y\", \"categoryarray\": [\"Unknown\", \"1\", \"2\", \"3a\", \"3b\", \"4\", \"5\"], \"categoryorder\": \"array\", \"domain\": [0.0, 1.0], \"title\": {\"text\": \"stage\"}}, \"yaxis\": {\"anchor\": \"x\", \"domain\": [0.0, 1.0], \"title\": {\"text\": \"duration\"}}},                        {\"responsive\": true}                    ).then(function(){\n",
       "                            \n",
       "var gd = document.getElementById('e8e1a675-9592-48e0-b687-35297e624c1e');\n",
       "var x = new MutationObserver(function (mutations, observer) {{\n",
       "        var display = window.getComputedStyle(gd).display;\n",
       "        if (!display || display === 'none') {{\n",
       "            console.log([gd, 'removed!']);\n",
       "            Plotly.purge(gd);\n",
       "            observer.disconnect();\n",
       "        }}\n",
       "}});\n",
       "\n",
       "// Listen for the removal of the full notebook cells\n",
       "var notebookContainer = gd.closest('#notebook-container');\n",
       "if (notebookContainer) {{\n",
       "    x.observe(notebookContainer, {childList: true});\n",
       "}}\n",
       "\n",
       "// Listen for the clearing of the current output cell\n",
       "var outputEl = gd.closest('.output');\n",
       "if (outputEl) {{\n",
       "    x.observe(outputEl, {childList: true});\n",
       "}}\n",
       "\n",
       "                        })                };                });            </script>        </div>"
      ]
     },
     "metadata": {},
     "output_type": "display_data"
    }
   ],
   "source": [
    "\n",
    "merged_data = see_duration(dialysis)\n"
   ]
  },
  {
   "cell_type": "code",
   "execution_count": 60,
   "metadata": {},
   "outputs": [
    {
     "data": {
      "text/plain": [
       "68    -2333.0\n",
       "818   -2052.0\n",
       "24    -1979.0\n",
       "339   -1951.0\n",
       "819   -1738.0\n",
       "        ...  \n",
       "922       NaN\n",
       "928       NaN\n",
       "935       NaN\n",
       "936       NaN\n",
       "937       NaN\n",
       "Name: duration, Length: 938, dtype: float64"
      ]
     },
     "execution_count": 60,
     "metadata": {},
     "output_type": "execute_result"
    }
   ],
   "source": [
    "merged_data['duration'].sort_values()"
   ]
  }
 ],
 "metadata": {
  "kernelspec": {
   "display_name": "Python 3",
   "language": "python",
   "name": "python3"
  },
  "language_info": {
   "codemirror_mode": {
    "name": "ipython",
    "version": 3
   },
   "file_extension": ".py",
   "mimetype": "text/x-python",
   "name": "python",
   "nbconvert_exporter": "python",
   "pygments_lexer": "ipython3",
   "version": "3.7.6"
  }
 },
 "nbformat": 4,
 "nbformat_minor": 4
}
