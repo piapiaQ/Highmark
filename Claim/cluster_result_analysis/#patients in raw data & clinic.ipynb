{
 "cells": [
  {
   "cell_type": "code",
   "execution_count": 4,
   "metadata": {},
   "outputs": [],
   "source": [
    "import pandas as pd\n",
    "import numpy as np\n",
    "\n",
    "basepath = r'C:\\Users\\Joyqiao\\Documents\\CMU\\RA\\HIGHMARK Trajectory claim\\HIghmark Project'\n"
   ]
  },
  {
   "cell_type": "code",
   "execution_count": 49,
   "metadata": {},
   "outputs": [
    {
     "data": {
      "text/plain": [
       "'nt'"
      ]
     },
     "execution_count": 49,
     "metadata": {},
     "output_type": "execute_result"
    }
   ],
   "source": [
    "import os\n",
    "os.name"
   ]
  },
  {
   "cell_type": "code",
   "execution_count": 64,
   "metadata": {},
   "outputs": [],
   "source": [
    "os.chdir(basepath)"
   ]
  },
  {
   "cell_type": "code",
   "execution_count": 65,
   "metadata": {},
   "outputs": [
    {
     "name": "stdout",
     "output_type": "stream",
     "text": [
      "C:\\Users\\Joyqiao\\Documents\\CMU\\RA\\HIGHMARK Trajectory claim\\HIghmark Project\\data\\raw_claim_data\n"
     ]
    }
   ],
   "source": [
    "cd data//raw_claim_data"
   ]
  },
  {
   "cell_type": "code",
   "execution_count": 66,
   "metadata": {},
   "outputs": [
    {
     "name": "stdout",
     "output_type": "stream",
     "text": [
      " Volume in drive C is Windows\n",
      " Volume Serial Number is BA8F-7F5E\n",
      "\n",
      " Directory of C:\\Users\\Joyqiao\\Documents\\CMU\\RA\\HIGHMARK Trajectory claim\\HIghmark Project\\data\\raw_claim_data\n",
      "\n",
      "09/24/2020  04:16 PM    <DIR>          .\n",
      "09/24/2020  04:16 PM    <DIR>          ..\n",
      "09/13/2020  04:55 PM       386,808,755 df_claims_for_CMU_deident_part1.csv\n",
      "09/13/2020  04:55 PM       394,765,384 df_claims_for_CMU_deident_part10.csv\n",
      "09/13/2020  04:55 PM       397,580,917 df_claims_for_CMU_deident_part11.csv\n",
      "09/13/2020  04:55 PM       400,869,262 df_claims_for_CMU_deident_part12.csv\n",
      "09/13/2020  04:55 PM       400,784,190 df_claims_for_CMU_deident_part13.csv\n",
      "09/13/2020  04:55 PM       400,730,189 df_claims_for_CMU_deident_part14.csv\n",
      "09/13/2020  04:55 PM       400,356,004 df_claims_for_CMU_deident_part15.csv\n",
      "09/13/2020  04:55 PM       197,696,666 df_claims_for_CMU_deident_part16.csv\n",
      "09/13/2020  04:55 PM       386,479,613 df_claims_for_CMU_deident_part2.csv\n",
      "09/13/2020  04:55 PM       392,514,900 df_claims_for_CMU_deident_part3.csv\n",
      "09/13/2020  04:55 PM       391,825,410 df_claims_for_CMU_deident_part4.csv\n",
      "09/13/2020  04:55 PM       392,546,973 df_claims_for_CMU_deident_part5.csv\n",
      "09/13/2020  04:55 PM       392,066,511 df_claims_for_CMU_deident_part6.csv\n",
      "09/13/2020  04:55 PM       393,784,086 df_claims_for_CMU_deident_part7.csv\n",
      "09/13/2020  04:55 PM       393,200,214 df_claims_for_CMU_deident_part8.csv\n",
      "09/13/2020  04:55 PM       393,453,349 df_claims_for_CMU_deident_part9.csv\n",
      "              16 File(s)  6,115,462,423 bytes\n",
      "               2 Dir(s)  174,191,513,600 bytes free\n"
     ]
    }
   ],
   "source": [
    "ls"
   ]
  },
  {
   "cell_type": "code",
   "execution_count": 47,
   "metadata": {},
   "outputs": [],
   "source": [
    "raw_tma = np.array([])\n",
    "for i in range(1,17):\n",
    "    raw_ = pd.read_csv('df_claims_for_CMU_deident_part{}.csv'.format(i))\n",
    "    raw_tma = np.append(raw_tma,raw_['TMA Acct#'].values)\n",
    "    "
   ]
  },
  {
   "cell_type": "code",
   "execution_count": 100,
   "metadata": {},
   "outputs": [],
   "source": [
    "#delete duplicate tma\n",
    "\n",
    "unique_raw_tma = set(raw_tma)"
   ]
  },
  {
   "cell_type": "markdown",
   "metadata": {},
   "source": [
    "Check the number of patients existing in raw data of each clinical initial stage file "
   ]
  },
  {
   "cell_type": "code",
   "execution_count": 94,
   "metadata": {},
   "outputs": [],
   "source": [
    "os.chdir(basepath)"
   ]
  },
  {
   "cell_type": "code",
   "execution_count": 95,
   "metadata": {},
   "outputs": [
    {
     "name": "stdout",
     "output_type": "stream",
     "text": [
      "C:\\Users\\Joyqiao\\Documents\\CMU\\RA\\HIGHMARK Trajectory claim\\HIghmark Project\\Clinical Data\\Clinical Data\\by_stage_tma_lists\n"
     ]
    }
   ],
   "source": [
    "cd Clinical Data\\\\Clinical Data\\\\by_stage_tma_lists"
   ]
  },
  {
   "cell_type": "code",
   "execution_count": 96,
   "metadata": {},
   "outputs": [
    {
     "name": "stdout",
     "output_type": "stream",
     "text": [
      " Volume in drive C is Windows\n",
      " Volume Serial Number is BA8F-7F5E\n",
      "\n",
      " Directory of C:\\Users\\Joyqiao\\Documents\\CMU\\RA\\HIGHMARK Trajectory claim\\HIghmark Project\\Clinical Data\\Clinical Data\\by_stage_tma_lists\n",
      "\n",
      "01/11/2021  02:01 PM    <DIR>          .\n",
      "01/11/2021  02:01 PM    <DIR>          ..\n",
      "01/11/2021  02:01 PM           272,768 egfr_3a_group.csv\n",
      "01/11/2021  02:01 PM           309,170 egfr_3b_group.csv\n",
      "01/11/2021  02:01 PM           177,359 egfr_4_group.csv\n",
      "01/11/2021  01:50 PM           270,149 final_base_3a.csv\n",
      "01/11/2021  01:50 PM           309,105 final_base_3b.csv\n",
      "01/11/2021  01:50 PM           173,627 final_base_4.csv\n",
      "               6 File(s)      1,512,178 bytes\n",
      "               2 Dir(s)  174,178,979,840 bytes free\n"
     ]
    }
   ],
   "source": [
    "ls\n"
   ]
  },
  {
   "cell_type": "code",
   "execution_count": null,
   "metadata": {},
   "outputs": [],
   "source": [
    "final_base_3a"
   ]
  },
  {
   "cell_type": "code",
   "execution_count": 110,
   "metadata": {},
   "outputs": [],
   "source": [
    "def check_shared_number_patient(clinic_filename):\n",
    "    clinic_ = pd.read_csv(clinic_filename)\n",
    "    clinic_tma = set(clinic_['tma_acct'])\n",
    "    shared_patients = len(clinic_tma.intersection(unique_raw_tma))\n",
    "\n",
    "    return shared_patients                   "
   ]
  },
  {
   "cell_type": "code",
   "execution_count": 111,
   "metadata": {},
   "outputs": [
    {
     "data": {
      "text/plain": [
       "884"
      ]
     },
     "execution_count": 111,
     "metadata": {},
     "output_type": "execute_result"
    }
   ],
   "source": [
    "check_shared_number_patient('final_base_3a.csv')"
   ]
  },
  {
   "cell_type": "code",
   "execution_count": 112,
   "metadata": {},
   "outputs": [
    {
     "data": {
      "text/plain": [
       "993"
      ]
     },
     "execution_count": 112,
     "metadata": {},
     "output_type": "execute_result"
    }
   ],
   "source": [
    "check_shared_number_patient('final_base_3b.csv')"
   ]
  },
  {
   "cell_type": "code",
   "execution_count": 113,
   "metadata": {},
   "outputs": [
    {
     "data": {
      "text/plain": [
       "547"
      ]
     },
     "execution_count": 113,
     "metadata": {},
     "output_type": "execute_result"
    }
   ],
   "source": [
    "check_shared_number_patient('final_base_4.csv')"
   ]
  }
 ],
 "metadata": {
  "kernelspec": {
   "display_name": "Python 3",
   "language": "python",
   "name": "python3"
  },
  "language_info": {
   "codemirror_mode": {
    "name": "ipython",
    "version": 3
   },
   "file_extension": ".py",
   "mimetype": "text/x-python",
   "name": "python",
   "nbconvert_exporter": "python",
   "pygments_lexer": "ipython3",
   "version": "3.7.6"
  }
 },
 "nbformat": 4,
 "nbformat_minor": 4
}
