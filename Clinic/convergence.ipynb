{
 "cells": [
  {
   "cell_type": "code",
   "execution_count": 1,
   "metadata": {},
   "outputs": [],
   "source": [
    "import pandas as pd\n",
    "import numpy as np\n",
    "import matplotlib.pyplot as plt"
   ]
  },
  {
   "cell_type": "code",
   "execution_count": 2,
   "metadata": {},
   "outputs": [],
   "source": [
    "data = pd.read_csv(\"final_3a_prob.csv\")\n",
    "col = []\n",
    "for i in range(1, 37):\n",
    "    j = \"_traj_Group_T\" + str(i)\n",
    "    col.append(j)\n",
    "data = data[col]"
   ]
  },
  {
   "cell_type": "code",
   "execution_count": 3,
   "metadata": {},
   "outputs": [
    {
     "data": {
      "text/html": [
       "<div>\n",
       "<style scoped>\n",
       "    .dataframe tbody tr th:only-of-type {\n",
       "        vertical-align: middle;\n",
       "    }\n",
       "\n",
       "    .dataframe tbody tr th {\n",
       "        vertical-align: top;\n",
       "    }\n",
       "\n",
       "    .dataframe thead th {\n",
       "        text-align: right;\n",
       "    }\n",
       "</style>\n",
       "<table border=\"1\" class=\"dataframe\">\n",
       "  <thead>\n",
       "    <tr style=\"text-align: right;\">\n",
       "      <th></th>\n",
       "      <th>_traj_Group_T1</th>\n",
       "      <th>_traj_Group_T2</th>\n",
       "      <th>_traj_Group_T3</th>\n",
       "      <th>_traj_Group_T4</th>\n",
       "      <th>_traj_Group_T5</th>\n",
       "      <th>_traj_Group_T6</th>\n",
       "      <th>_traj_Group_T7</th>\n",
       "      <th>_traj_Group_T8</th>\n",
       "      <th>_traj_Group_T9</th>\n",
       "      <th>_traj_Group_T10</th>\n",
       "      <th>...</th>\n",
       "      <th>_traj_Group_T27</th>\n",
       "      <th>_traj_Group_T28</th>\n",
       "      <th>_traj_Group_T29</th>\n",
       "      <th>_traj_Group_T30</th>\n",
       "      <th>_traj_Group_T31</th>\n",
       "      <th>_traj_Group_T32</th>\n",
       "      <th>_traj_Group_T33</th>\n",
       "      <th>_traj_Group_T34</th>\n",
       "      <th>_traj_Group_T35</th>\n",
       "      <th>_traj_Group_T36</th>\n",
       "    </tr>\n",
       "  </thead>\n",
       "  <tbody>\n",
       "    <tr>\n",
       "      <th>0</th>\n",
       "      <td>2</td>\n",
       "      <td>2</td>\n",
       "      <td>2</td>\n",
       "      <td>2</td>\n",
       "      <td>2</td>\n",
       "      <td>1</td>\n",
       "      <td>1</td>\n",
       "      <td>1</td>\n",
       "      <td>1</td>\n",
       "      <td>1</td>\n",
       "      <td>...</td>\n",
       "      <td>1</td>\n",
       "      <td>2</td>\n",
       "      <td>2</td>\n",
       "      <td>2</td>\n",
       "      <td>2</td>\n",
       "      <td>2</td>\n",
       "      <td>2</td>\n",
       "      <td>2</td>\n",
       "      <td>2</td>\n",
       "      <td>2</td>\n",
       "    </tr>\n",
       "    <tr>\n",
       "      <th>1</th>\n",
       "      <td>2</td>\n",
       "      <td>2</td>\n",
       "      <td>2</td>\n",
       "      <td>2</td>\n",
       "      <td>2</td>\n",
       "      <td>2</td>\n",
       "      <td>2</td>\n",
       "      <td>2</td>\n",
       "      <td>2</td>\n",
       "      <td>2</td>\n",
       "      <td>...</td>\n",
       "      <td>2</td>\n",
       "      <td>2</td>\n",
       "      <td>2</td>\n",
       "      <td>2</td>\n",
       "      <td>2</td>\n",
       "      <td>2</td>\n",
       "      <td>2</td>\n",
       "      <td>2</td>\n",
       "      <td>2</td>\n",
       "      <td>2</td>\n",
       "    </tr>\n",
       "  </tbody>\n",
       "</table>\n",
       "<p>2 rows × 36 columns</p>\n",
       "</div>"
      ],
      "text/plain": [
       "   _traj_Group_T1  _traj_Group_T2  _traj_Group_T3  _traj_Group_T4  \\\n",
       "0               2               2               2               2   \n",
       "1               2               2               2               2   \n",
       "\n",
       "   _traj_Group_T5  _traj_Group_T6  _traj_Group_T7  _traj_Group_T8  \\\n",
       "0               2               1               1               1   \n",
       "1               2               2               2               2   \n",
       "\n",
       "   _traj_Group_T9  _traj_Group_T10  ...  _traj_Group_T27  _traj_Group_T28  \\\n",
       "0               1                1  ...                1                2   \n",
       "1               2                2  ...                2                2   \n",
       "\n",
       "   _traj_Group_T29  _traj_Group_T30  _traj_Group_T31  _traj_Group_T32  \\\n",
       "0                2                2                2                2   \n",
       "1                2                2                2                2   \n",
       "\n",
       "   _traj_Group_T33  _traj_Group_T34  _traj_Group_T35  _traj_Group_T36  \n",
       "0                2                2                2                2  \n",
       "1                2                2                2                2  \n",
       "\n",
       "[2 rows x 36 columns]"
      ]
     },
     "execution_count": 3,
     "metadata": {},
     "output_type": "execute_result"
    }
   ],
   "source": [
    "data.head(2)"
   ]
  },
  {
   "cell_type": "code",
   "execution_count": 4,
   "metadata": {},
   "outputs": [],
   "source": [
    "group1 = []\n",
    "group2 = []\n",
    "group3 = []\n",
    "group4 = []\n",
    "for i in col:\n",
    "    t = list(data[i])\n",
    "    group1.append(t.count(1))\n",
    "    group2.append(t.count(2))\n",
    "    group3.append(t.count(3))\n",
    "    group4.append(t.count(4))\n",
    "# combine = [group1, group2, group3, group4]\n",
    "# combine = pd.DataFrame(combine)"
   ]
  },
  {
   "cell_type": "code",
   "execution_count": 10,
   "metadata": {},
   "outputs": [
    {
     "data": {
      "text/plain": [
       "[23, 96, 130, 156, 174]"
      ]
     },
     "execution_count": 10,
     "metadata": {},
     "output_type": "execute_result"
    }
   ],
   "source": [
    "group1[:5]"
   ]
  },
  {
   "cell_type": "code",
   "execution_count": 11,
   "metadata": {},
   "outputs": [
    {
     "data": {
      "text/plain": [
       "[977, 834, 723, 653, 586]"
      ]
     },
     "execution_count": 11,
     "metadata": {},
     "output_type": "execute_result"
    }
   ],
   "source": [
    "group2[:5]"
   ]
  },
  {
   "cell_type": "code",
   "execution_count": 12,
   "metadata": {},
   "outputs": [
    {
     "data": {
      "text/plain": [
       "[34, 94, 158, 197, 243]"
      ]
     },
     "execution_count": 12,
     "metadata": {},
     "output_type": "execute_result"
    }
   ],
   "source": [
    "group3[:5]"
   ]
  },
  {
   "cell_type": "code",
   "execution_count": 13,
   "metadata": {},
   "outputs": [
    {
     "data": {
      "text/plain": [
       "[1, 11, 24, 29, 32]"
      ]
     },
     "execution_count": 13,
     "metadata": {},
     "output_type": "execute_result"
    }
   ],
   "source": [
    "group4[:5]"
   ]
  },
  {
   "cell_type": "code",
   "execution_count": 5,
   "metadata": {},
   "outputs": [],
   "source": [
    "x = []\n",
    "for i in range(36):\n",
    "    x.append(i)"
   ]
  },
  {
   "cell_type": "code",
   "execution_count": 1,
   "metadata": {},
   "outputs": [
    {
     "ename": "NameError",
     "evalue": "name 'plt' is not defined",
     "output_type": "error",
     "traceback": [
      "\u001b[1;31m---------------------------------------------------------------------------\u001b[0m",
      "\u001b[1;31mNameError\u001b[0m                                 Traceback (most recent call last)",
      "\u001b[1;32m<ipython-input-1-454548c8cdca>\u001b[0m in \u001b[0;36m<module>\u001b[1;34m\u001b[0m\n\u001b[1;32m----> 1\u001b[1;33m \u001b[0mfig\u001b[0m \u001b[1;33m=\u001b[0m \u001b[0mplt\u001b[0m\u001b[1;33m.\u001b[0m\u001b[0mfigure\u001b[0m\u001b[1;33m(\u001b[0m\u001b[0mfigsize\u001b[0m\u001b[1;33m=\u001b[0m\u001b[1;33m(\u001b[0m\u001b[1;36m8\u001b[0m\u001b[1;33m,\u001b[0m\u001b[1;36m5\u001b[0m\u001b[1;33m)\u001b[0m\u001b[1;33m)\u001b[0m\u001b[1;33m\u001b[0m\u001b[1;33m\u001b[0m\u001b[0m\n\u001b[0m\u001b[0;32m      2\u001b[0m \u001b[0mplt\u001b[0m\u001b[1;33m.\u001b[0m\u001b[0mplot\u001b[0m\u001b[1;33m(\u001b[0m\u001b[0mx\u001b[0m\u001b[1;33m,\u001b[0m\u001b[0mgroup1\u001b[0m\u001b[1;33m)\u001b[0m\u001b[1;33m\u001b[0m\u001b[1;33m\u001b[0m\u001b[0m\n\u001b[0;32m      3\u001b[0m \u001b[0mplt\u001b[0m\u001b[1;33m.\u001b[0m\u001b[0mplot\u001b[0m\u001b[1;33m(\u001b[0m\u001b[0mx\u001b[0m\u001b[1;33m,\u001b[0m\u001b[0mgroup2\u001b[0m\u001b[1;33m)\u001b[0m\u001b[1;33m\u001b[0m\u001b[1;33m\u001b[0m\u001b[0m\n\u001b[0;32m      4\u001b[0m \u001b[0mplt\u001b[0m\u001b[1;33m.\u001b[0m\u001b[0mplot\u001b[0m\u001b[1;33m(\u001b[0m\u001b[0mx\u001b[0m\u001b[1;33m,\u001b[0m\u001b[0mgroup3\u001b[0m\u001b[1;33m)\u001b[0m\u001b[1;33m\u001b[0m\u001b[1;33m\u001b[0m\u001b[0m\n\u001b[0;32m      5\u001b[0m \u001b[0mplt\u001b[0m\u001b[1;33m.\u001b[0m\u001b[0mplot\u001b[0m\u001b[1;33m(\u001b[0m\u001b[0mx\u001b[0m\u001b[1;33m,\u001b[0m\u001b[0mgroup4\u001b[0m\u001b[1;33m)\u001b[0m\u001b[1;33m\u001b[0m\u001b[1;33m\u001b[0m\u001b[0m\n",
      "\u001b[1;31mNameError\u001b[0m: name 'plt' is not defined"
     ]
    }
   ],
   "source": [
    "fig = plt.figure(figsize=(8,5))\n",
    "plt.plot(x,group1)\n",
    "plt.plot(x,group2)\n",
    "plt.plot(x,group3)\n",
    "plt.plot(x,group4)\n",
    "plt.legend(loc='upper center', labels=['group1', 'group2', 'group3', 'group4'])\n",
    "plt.xlabel('Time')\n",
    "plt.ylabel('Percentage of Correct Patients')\n",
    "plt.title('Patients Converge Time')\n",
    "plt.show()"
   ]
  },
  {
   "cell_type": "code",
   "execution_count": 2,
   "metadata": {},
   "outputs": [
    {
     "data": {
      "image/png": "[encoded data removed]",
      "text/plain": [
       "<Figure size 576x360 with 1 Axes>"
      ]
     },
     "metadata": {
      "needs_background": "light"
     },
     "output_type": "display_data"
    }
   ],
   "source": [
    "import pandas as pd\n",
    "import numpy as np\n",
    "import matplotlib.pyplot as plt\n",
    "data = pd.read_csv(\"final_3b_prob.csv\")\n",
    "col = []\n",
    "for i in range(1, 37):\n",
    "    j = \"_traj_Group_T\" + str(i)\n",
    "    col.append(j)\n",
    "data = data[col]\n",
    "group1 = []\n",
    "group2 = []\n",
    "group3 = []\n",
    "group4 = []\n",
    "for i in col:\n",
    "    t = list(data[i])\n",
    "    group1.append(t.count(1))\n",
    "    group2.append(t.count(2))\n",
    "    group3.append(t.count(3))\n",
    "    group4.append(t.count(4))\n",
    "x = []\n",
    "for i in range(36):\n",
    "    x.append(i)\n",
    "fig = plt.figure(figsize=(8,5))\n",
    "plt.plot(x,group1)\n",
    "plt.plot(x,group2)\n",
    "plt.plot(x,group3)\n",
    "plt.plot(x,group4)\n",
    "plt.legend(loc='upper center', labels=['group1', 'group2', 'group3', 'group4'])\n",
    "plt.xlabel('Time')\n",
    "plt.ylabel('Number of Patients')\n",
    "plt.title('Patients Converge Time')\n",
    "plt.show()"
   ]
  },
  {
   "cell_type": "code",
   "execution_count": 1,
   "metadata": {},
   "outputs": [
    {
     "data": {
      "image/png": "[encoded data removed]",
      "text/plain": [
       "<Figure size 576x360 with 1 Axes>"
      ]
     },
     "metadata": {
      "needs_background": "light"
     },
     "output_type": "display_data"
    }
   ],
   "source": [
    "import pandas as pd\n",
    "import numpy as np\n",
    "import matplotlib.pyplot as plt\n",
    "data = pd.read_csv(\"final_4_prob.csv\")\n",
    "col = []\n",
    "for i in range(1, 37):\n",
    "    j = \"_traj_Group_T\" + str(i)\n",
    "    col.append(j)\n",
    "data = data[col]\n",
    "group1 = []\n",
    "group2 = []\n",
    "group3 = []\n",
    "group4 = []\n",
    "for i in col:\n",
    "    t = list(data[i])\n",
    "    group1.append(t.count(1))\n",
    "    group2.append(t.count(2))\n",
    "    group3.append(t.count(3))\n",
    "    group4.append(t.count(4))\n",
    "x = []\n",
    "for i in range(36):\n",
    "    x.append(i)\n",
    "fig = plt.figure(figsize=(8,5))\n",
    "plt.plot(x,group1)\n",
    "plt.plot(x,group2)\n",
    "plt.plot(x,group3)\n",
    "plt.plot(x,group4)\n",
    "plt.legend(loc='upper center', labels=['group1', 'group2', 'group3', 'group4'])\n",
    "plt.xlabel('Time')\n",
    "plt.ylabel('Number of Patients')\n",
    "plt.title('Patients Converge Time')\n",
    "plt.show()"
   ]
  },
  {
   "cell_type": "code",
   "execution_count": null,
   "metadata": {},
   "outputs": [],
   "source": []
  }
 ],
 "metadata": {
  "kernelspec": {
   "display_name": "Python 3",
   "language": "python",
   "name": "python3"
  },
  "language_info": {
   "codemirror_mode": {
    "name": "ipython",
    "version": 3
   },
   "file_extension": ".py",
   "mimetype": "text/x-python",
   "name": "python",
   "nbconvert_exporter": "python",
   "pygments_lexer": "ipython3",
   "version": "3.7.6"
  }
 },
 "nbformat": 4,
 "nbformat_minor": 4
}
