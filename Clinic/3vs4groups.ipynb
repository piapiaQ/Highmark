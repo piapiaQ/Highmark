{
 "cells": [
  {
   "cell_type": "code",
   "execution_count": 1,
   "metadata": {},
   "outputs": [],
   "source": [
    "import pandas as pd"
   ]
  },
  {
   "cell_type": "code",
   "execution_count": 3,
   "metadata": {},
   "outputs": [],
   "source": [
    "data = pd.read_csv(\"egfr_3a_4group.csv\")"
   ]
  },
  {
   "cell_type": "code",
   "execution_count": 14,
   "metadata": {},
   "outputs": [],
   "source": [
    "def egfr_group(data, group):\n",
    "    for i in range(1, group + 1):\n",
    "        cur = data[data['_traj_Group'] == i]\n",
    "        s = '_traj_ProbG' + str(i)\n",
    "        print(\"Group \" + str(i) + \" avg probability \")\n",
    "        print(cur[s].mean())\n",
    "        print(\"Group \" + str(i) + \" count \")\n",
    "        print(len(cur))\n",
    "        print(\"Group \" + str(i) + \" true percentage \")\n",
    "        print(len(cur)/len(data))"
   ]
  },
  {
   "cell_type": "code",
   "execution_count": 16,
   "metadata": {},
   "outputs": [
    {
     "data": {
      "text/plain": [
       "Index(['v1', 'tma_acct', 'v0', 'v4', 'v2', 'v3', 'v7', 'v5', 'v6', 'v10', 'v8',\n",
       "       'v9', 'v13', 'v11', 'v12', 'v16', 'v14', 'v15', 'v19', 'v17', 'v18',\n",
       "       'v22', 'v20', 'v21', 'v25', 'v23', 'v24', 'v28', 'v26', 'v27', 'v31',\n",
       "       'v29', 'v30', 'v34', 'v32', 'v33', 'v37', 'v35', 'v36', 't0', 't1',\n",
       "       't2', 't3', 't4', 't5', 't6', 't7', 't8', 't9', 't10', 't11', 't12',\n",
       "       't13', 't14', 't15', 't16', 't17', 't18', 't19', 't20', 't21', 't22',\n",
       "       't23', 't24', 't25', 't26', 't27', 't28', 't29', 't30', 't31', 't32',\n",
       "       't33', 't34', 't35', 't36', 'sex', 'race', 'hyper_date', 'diabe_date',\n",
       "       'age_in_2010', 'sex_v', 'race_v', 'hyper_v', 'diabe_v', '_traj_Group',\n",
       "       '_traj_ProbG1', '_traj_ProbG2', '_traj_ProbG3', '_traj_ProbG4'],\n",
       "      dtype='object')"
      ]
     },
     "execution_count": 16,
     "metadata": {},
     "output_type": "execute_result"
    }
   ],
   "source": [
    "data.columns"
   ]
  },
  {
   "cell_type": "code",
   "execution_count": 15,
   "metadata": {},
   "outputs": [
    {
     "name": "stdout",
     "output_type": "stream",
     "text": [
      "Group 1 avg probability \n",
      "0.9056199616666663\n",
      "Group 1 count \n",
      "156\n",
      "Group 1 true percentage \n",
      "0.16774193548387098\n",
      "Group 2 avg probability \n",
      "0.8173916486857142\n",
      "Group 2 count \n",
      "350\n",
      "Group 2 true percentage \n",
      "0.3763440860215054\n",
      "Group 3 avg probability \n",
      "0.8359869200602408\n",
      "Group 3 count \n",
      "332\n",
      "Group 3 true percentage \n",
      "0.35698924731182796\n",
      "Group 4 avg probability \n",
      "0.878389838478261\n",
      "Group 4 count \n",
      "92\n",
      "Group 4 true percentage \n",
      "0.0989247311827957\n"
     ]
    }
   ],
   "source": [
    "egfr_group(data, 4)"
   ]
  },
  {
   "cell_type": "code",
   "execution_count": 17,
   "metadata": {},
   "outputs": [
    {
     "name": "stdout",
     "output_type": "stream",
     "text": [
      "Group 1 avg probability \n",
      "0.9000662228947374\n",
      "Group 1 count \n",
      "228\n",
      "Group 1 true percentage \n",
      "0.24516129032258063\n",
      "Group 2 avg probability \n",
      "0.8755292263146998\n",
      "Group 2 count \n",
      "483\n",
      "Group 2 true percentage \n",
      "0.5193548387096775\n",
      "Group 3 avg probability \n",
      "0.9042251662100459\n",
      "Group 3 count \n",
      "219\n",
      "Group 3 true percentage \n",
      "0.23548387096774193\n"
     ]
    }
   ],
   "source": [
    "data = pd.read_csv(\"egfr_3a_3group.csv\")\n",
    "egfr_group(data, 3)"
   ]
  },
  {
   "cell_type": "code",
   "execution_count": null,
   "metadata": {},
   "outputs": [],
   "source": []
  }
 ],
 "metadata": {
  "kernelspec": {
   "display_name": "Python 3",
   "language": "python",
   "name": "python3"
  },
  "language_info": {
   "codemirror_mode": {
    "name": "ipython",
    "version": 3
   },
   "file_extension": ".py",
   "mimetype": "text/x-python",
   "name": "python",
   "nbconvert_exporter": "python",
   "pygments_lexer": "ipython3",
   "version": "3.7.6"
  }
 },
 "nbformat": 4,
 "nbformat_minor": 4
}
