{
 "cells": [
  {
   "cell_type": "code",
   "execution_count": 1,
   "metadata": {},
   "outputs": [],
   "source": [
    "import pandas as pd\n",
    "import numpy as np\n",
    "new_lab = pd.read_csv(\"df_labdata.csv\")\n",
    "new_lab.rename(columns={\"test_result\": \"result\", \"test_unit\": 'Units'}, inplace = 'True')\n",
    "old_lab = pd.read_csv('TMA_lab.csv')\n",
    "old_lab['Lab_Date'] = pd.to_datetime(old_lab.Lab_Date)\n",
    "old_lab.rename(columns={\"Lab_Date\": \"date\", \"Results\": \"result\", \"Code\": \"test_name\"}, inplace = 'True')"
   ]
  },
  {
   "cell_type": "code",
   "execution_count": 3,
   "metadata": {},
   "outputs": [],
   "source": [
    "master = pd.read_csv(\"master.csv\")"
   ]
  },
  {
   "cell_type": "code",
   "execution_count": 4,
   "metadata": {},
   "outputs": [
    {
     "data": {
      "text/html": [
       "<div>\n",
       "<style scoped>\n",
       "    .dataframe tbody tr th:only-of-type {\n",
       "        vertical-align: middle;\n",
       "    }\n",
       "\n",
       "    .dataframe tbody tr th {\n",
       "        vertical-align: top;\n",
       "    }\n",
       "\n",
       "    .dataframe thead th {\n",
       "        text-align: right;\n",
       "    }\n",
       "</style>\n",
       "<table border=\"1\" class=\"dataframe\">\n",
       "  <thead>\n",
       "    <tr style=\"text-align: right;\">\n",
       "      <th></th>\n",
       "      <th>Unnamed: 0</th>\n",
       "      <th>TMA_Acct</th>\n",
       "      <th>Account_Date</th>\n",
       "      <th>Sex</th>\n",
       "      <th>DOB</th>\n",
       "      <th>Marital_Status</th>\n",
       "      <th>Race</th>\n",
       "      <th>Location</th>\n",
       "      <th>Zip_Code</th>\n",
       "      <th>Patient_Status_Date</th>\n",
       "      <th>Patient_Status</th>\n",
       "      <th>Ethnicity</th>\n",
       "      <th>Language</th>\n",
       "    </tr>\n",
       "  </thead>\n",
       "  <tbody>\n",
       "    <tr>\n",
       "      <th>0</th>\n",
       "      <td>0</td>\n",
       "      <td>9</td>\n",
       "      <td>06-01-2009</td>\n",
       "      <td>Male</td>\n",
       "      <td>20-04-1921</td>\n",
       "      <td>NaN</td>\n",
       "      <td>White</td>\n",
       "      <td>Hopewell Office</td>\n",
       "      <td>15001</td>\n",
       "      <td>6-30-2010</td>\n",
       "      <td>Deceased</td>\n",
       "      <td>NaN</td>\n",
       "      <td>NaN</td>\n",
       "    </tr>\n",
       "    <tr>\n",
       "      <th>1</th>\n",
       "      <td>1</td>\n",
       "      <td>10</td>\n",
       "      <td>06-01-2009</td>\n",
       "      <td>Female</td>\n",
       "      <td>18-05-1926</td>\n",
       "      <td>NaN</td>\n",
       "      <td>NaN</td>\n",
       "      <td>Tma</td>\n",
       "      <td>15360</td>\n",
       "      <td>NaN</td>\n",
       "      <td>Active</td>\n",
       "      <td>NaN</td>\n",
       "      <td>NaN</td>\n",
       "    </tr>\n",
       "  </tbody>\n",
       "</table>\n",
       "</div>"
      ],
      "text/plain": [
       "   Unnamed: 0  TMA_Acct Account_Date     Sex         DOB Marital_Status  \\\n",
       "0           0         9   06-01-2009    Male  20-04-1921            NaN   \n",
       "1           1        10   06-01-2009  Female  18-05-1926            NaN   \n",
       "\n",
       "    Race         Location Zip_Code Patient_Status_Date Patient_Status  \\\n",
       "0  White  Hopewell Office    15001           6-30-2010       Deceased   \n",
       "1    NaN              Tma    15360                 NaN         Active   \n",
       "\n",
       "  Ethnicity Language  \n",
       "0       NaN      NaN  \n",
       "1       NaN      NaN  "
      ]
     },
     "execution_count": 4,
     "metadata": {},
     "output_type": "execute_result"
    }
   ],
   "source": [
    "master.head(2)"
   ]
  },
  {
   "cell_type": "code",
   "execution_count": null,
   "metadata": {},
   "outputs": [],
   "source": [
    "master[master['Account_Date'] < '']"
   ]
  },
  {
   "cell_type": "code",
   "execution_count": 8,
   "metadata": {},
   "outputs": [
    {
     "data": {
      "text/html": [
       "<div>\n",
       "<style scoped>\n",
       "    .dataframe tbody tr th:only-of-type {\n",
       "        vertical-align: middle;\n",
       "    }\n",
       "\n",
       "    .dataframe tbody tr th {\n",
       "        vertical-align: top;\n",
       "    }\n",
       "\n",
       "    .dataframe thead th {\n",
       "        text-align: right;\n",
       "    }\n",
       "</style>\n",
       "<table border=\"1\" class=\"dataframe\">\n",
       "  <thead>\n",
       "    <tr style=\"text-align: right;\">\n",
       "      <th></th>\n",
       "      <th>Unnamed: 0</th>\n",
       "      <th>TMA_Acct</th>\n",
       "      <th>dos_deidentified</th>\n",
       "      <th>clinic_name_deidentified</th>\n",
       "      <th>test_name</th>\n",
       "      <th>result</th>\n",
       "      <th>Units</th>\n",
       "      <th>abnormal_flag</th>\n",
       "      <th>range_low_value</th>\n",
       "      <th>range_high_value</th>\n",
       "      <th>loinc_code</th>\n",
       "      <th>date</th>\n",
       "    </tr>\n",
       "  </thead>\n",
       "  <tbody>\n",
       "    <tr>\n",
       "      <th>0</th>\n",
       "      <td>0</td>\n",
       "      <td>1483</td>\n",
       "      <td>15</td>\n",
       "      <td>1.0</td>\n",
       "      <td>rbc/hpf cells</td>\n",
       "      <td>0.0</td>\n",
       "      <td>NaN</td>\n",
       "      <td></td>\n",
       "      <td>0.0</td>\n",
       "      <td>3.0</td>\n",
       "      <td>58081</td>\n",
       "      <td>2010-01-16</td>\n",
       "    </tr>\n",
       "    <tr>\n",
       "      <th>1</th>\n",
       "      <td>1</td>\n",
       "      <td>49053</td>\n",
       "      <td>2759</td>\n",
       "      <td>2.0</td>\n",
       "      <td>ld</td>\n",
       "      <td>237.0</td>\n",
       "      <td>UNITS</td>\n",
       "      <td></td>\n",
       "      <td>120.0</td>\n",
       "      <td>250.0</td>\n",
       "      <td>25320</td>\n",
       "      <td>2017-07-22</td>\n",
       "    </tr>\n",
       "  </tbody>\n",
       "</table>\n",
       "</div>"
      ],
      "text/plain": [
       "   Unnamed: 0  TMA_Acct  dos_deidentified  clinic_name_deidentified  \\\n",
       "0           0      1483                15                       1.0   \n",
       "1           1     49053              2759                       2.0   \n",
       "\n",
       "       test_name  result  Units abnormal_flag  range_low_value  \\\n",
       "0  rbc/hpf cells     0.0    NaN                            0.0   \n",
       "1             ld   237.0  UNITS                          120.0   \n",
       "\n",
       "   range_high_value loinc_code        date  \n",
       "0               3.0      58081  2010-01-16  \n",
       "1             250.0      25320  2017-07-22  "
      ]
     },
     "execution_count": 8,
     "metadata": {},
     "output_type": "execute_result"
    }
   ],
   "source": [
    "new_lab.head(2)"
   ]
  },
  {
   "cell_type": "code",
   "execution_count": 3,
   "metadata": {},
   "outputs": [],
   "source": [
    "def get_unit(new_lab, old_lab, name):\n",
    "    for i in name:\n",
    "        result = []\n",
    "        unit1 = list(old_lab[old_lab['test_name'] == i]['Units'])\n",
    "        unit2 = list(new_lab[new_lab['test_name'] == i]['Units'])\n",
    "        result.extend(unit1)\n",
    "        result.extend(unit2)\n",
    "        result = list(set(list(result)))\n",
    "        result = list(filter(None, result))\n",
    "        print(i + \": \", end =\"\")\n",
    "        print(result)"
   ]
  },
  {
   "cell_type": "code",
   "execution_count": 28,
   "metadata": {},
   "outputs": [
    {
     "name": "stdout",
     "output_type": "stream",
     "text": [
      "24 hr urine creatin: [nan]\n",
      "24 hr urine creatinine: ['g/24hrs']\n",
      "albumin/creatinine ratio, rand: ['mcg/mg creat']\n",
      "bun creatinine ratio: [nan]\n",
      "bun/creatinine ratio: [nan, '(calc)', 'Ratio']\n",
      "calcium creatinine ratio: [nan]\n",
      "calcium/creatinine ratio: ['mg/g creat']\n",
      "chloride/creatinine ratio: [nan, 'mmol/g creat', 'MMOL/G CREAT']\n",
      "creatin: [nan]\n",
      "creatine: [nan]\n",
      "creatine kinase, total: ['U/L']\n",
      "creatine kinase,total: ['U/L', 'UNITS']\n",
      "creatine, serum: ['mg/dL']\n",
      "creatine, urine (24 hr.): ['mg/d']\n",
      "creatine, urine -per volume: ['mg/dL']\n",
      "creatine,24 hour urine: ['mg/24 h']\n",
      "creatine,serum: ['mg/dL']\n",
      "creatininb: [nan, 'MG/DL']\n",
      "creatinine: [nan, 'MG/DL', 'ClosedMG/DL', 'mg/dl', 'mg/dL']\n",
      "creatinine [mass/volume] in serum or plasma: ['mg/dL']\n",
      "creatinine [mass/volume] in urine: [nan]\n",
      "creatinine clearance: [nan, 'mL/min', 'ML/MIN']\n",
      "creatinine total: ['MG/24 HR']\n",
      "creatinine urine: ['mg/day', 'MG/DAY']\n",
      "creatinine with gfr: [nan]\n",
      "creatinine, 24 hour urine: ['g/24 h']\n",
      "creatinine, 24 hr urine: ['MG/24 HRS']\n",
      "creatinine, random ur: ['MG/DL']\n",
      "creatinine, random urine: ['mg/dL']\n",
      "creatinine, random, urine: ['mg/dL']\n",
      "creatinine, u: ['mg/spec']\n",
      "creatinine, urine: [nan, 'g/24 h']\n",
      "creatinine, urine (24 hr.): ['L', 'mg/d']\n",
      "creatinine, urine -per volume: ['mg/dL']\n",
      "creatinine, urine 12hr: ['mg/12 hr']\n",
      "creatinine, urine random: ['MG/DL']\n",
      "creatinine, urine, random: [nan, 'mg/dL']\n",
      "creatinine,24 hour urine: [nan, 'G/24HR', 'g/24 h', 'g/24hr', 'G/24 HOURS', 'G/24 H']\n",
      "creatinine,peritoneal fluid: ['mg/dL']\n",
      "creatinine,random urine: ['mg/dL', 'MG/DL']\n",
      "creatinine,serum: ['MG/DL']\n",
      "creatinine,urine: ['MG/DL']\n",
      "lab report: microalbumin/creatinine ratio, urinaly: [nan]\n",
      "micro albumin/creatinine ratio: ['mg/g_cre']\n",
      "microalbumin creatinine ratio: ['MG/G CREAT', 'MCG/MG CREAT']\n",
      "microalbumin creatinine ratio/random ur: [nan]\n",
      "microalbumin/ creatinine ratio, urine: ['mg/L', 'mcg/mg Creat']\n",
      "microalbumin/creatinine [ratio] in urine: [nan]\n",
      "microalbumin/creatinine ratio: ['mcg/mg Creatin', 'mcg/mg Creat']\n",
      "microalbumin/creatinine ratio,: ['mcg/mg creat']\n",
      "microalbumin/gm creatinine: ['MG/GM CREAT']\n",
      "microalbumin/mg creatinine: ['MCG/MG CREAT.']\n",
      "phosphate/creatinine ratio: [nan, 'mg/g creat']\n",
      "potassium/creatinine ratio: ['mmol/g creat', 'MMOL/G CREAT']\n",
      "protein creatinine ratio: [nan, 'MG/G CREATININE']\n",
      "protein/creatinine ratio: [nan, 'MG/G CREATININE', 'mg/g creat', 'MG/MG CREATININE', 'mg/mg creat', 'g/dL', 'Ratio']\n",
      "random urine creatinine: ['mg/dL']\n",
      "sodium/creatinine ratio: [nan, 'mmol/g creat', 'MMOL/G CREAT']\n",
      "uric acid/creatinine ratio: ['mg/g creat', 'MG/G CREAT']\n",
      "urine creatinine test strip: [nan, '1']\n"
     ]
    }
   ],
   "source": [
    "ur = ['24 hr urine creatin',\n",
    " '24 hr urine creatinine'\n",
    " 'albumin/creatinine ratio, rand',\n",
    " 'bun creatinine ratio',\n",
    " 'bun/creatinine ratio',\n",
    " 'calcium creatinine ratio',\n",
    " 'calcium/creatinine ratio',\n",
    " 'chloride/creatinine ratio',\n",
    " 'creatin',\n",
    " 'creatine',\n",
    " 'creatine kinase, total',\n",
    " 'creatine kinase,total',\n",
    " 'creatine, serum',\n",
    " 'creatine, urine (24 hr.)',\n",
    " 'creatine, urine -per volume',\n",
    " 'creatine,24 hour urine',\n",
    " 'creatine,serum',\n",
    " 'creatininb',\n",
    " 'creatinine',\n",
    " 'creatinine [mass/volume] in serum or plasma',\n",
    " 'creatinine [mass/volume] in urine',\n",
    " 'creatinine clearance',\n",
    " 'creatinine total',\n",
    " 'creatinine urine',\n",
    " 'creatinine with gfr',\n",
    " 'creatinine, 24 hour urine',\n",
    " 'creatinine, 24 hr urine',\n",
    " 'creatinine, random ur',\n",
    " 'creatinine, random urine',\n",
    " 'creatinine, random, urine',\n",
    " 'creatinine, u',\n",
    " 'creatinine, urine',\n",
    " 'creatinine, urine (24 hr.)',\n",
    " 'creatinine, urine -per volume',\n",
    " 'creatinine, urine 12hr',\n",
    " 'creatinine, urine random',\n",
    " 'creatinine, urine, random',\n",
    " 'creatinine,24 hour urine',\n",
    " 'creatinine,peritoneal fluid',\n",
    " 'creatinine,random urine',\n",
    " 'creatinine,serum',\n",
    " 'creatinine,urine',\n",
    " 'lab report: microalbumin/creatinine ratio, urinaly',\n",
    " 'micro albumin/creatinine ratio',\n",
    " 'microalbumin creatinine ratio',\n",
    " 'microalbumin creatinine ratio/random ur',\n",
    " 'microalbumin/ creatinine ratio, urine',\n",
    " 'microalbumin/creatinine [ratio] in urine',\n",
    " 'microalbumin/creatinine ratio',\n",
    " 'microalbumin/creatinine ratio,',\n",
    " 'microalbumin/gm creatinine',\n",
    " 'microalbumin/mg creatinine',\n",
    " 'phosphate/creatinine ratio',\n",
    " 'potassium/creatinine ratio',\n",
    " 'protein creatinine ratio',\n",
    " 'protein/creatinine ratio',\n",
    " 'random urine creatinine',\n",
    " 'sodium/creatinine ratio',\n",
    " 'uric acid/creatinine ratio',\n",
    " 'urine creatinine test strip'\n",
    "]\n",
    "get_unit(new_lab, old_lab, ur)"
   ]
  },
  {
   "cell_type": "code",
   "execution_count": 4,
   "metadata": {},
   "outputs": [
    {
     "name": "stdout",
     "output_type": "stream",
     "text": [
      "carbon dioxide (co2): ['mmol/L']\n",
      "co2: ['mEq/L', 'mmol/L']\n",
      "pco2: ['mm[Hg]', 'mmHg', 'mm Hg']\n",
      "pco2(t): ['mmHg']\n",
      "pco2(t)-v: ['mmHg']\n",
      "pco2-v: ['mmHg']\n",
      "pco2-ve: ['mmHg']\n",
      "total co2: ['mmol/L']\n"
     ]
    }
   ],
   "source": [
    "co2 = ['carbon dioxide (co2)',\n",
    " 'co2',\n",
    " 'pco2',\n",
    " 'pco2(t)',\n",
    " 'pco2(t)-v',\n",
    " 'pco2-v',\n",
    " 'pco2-ve',\n",
    " 'total co2'\n",
    "]\n",
    "get_unit(new_lab, old_lab, co2)"
   ]
  },
  {
   "cell_type": "code",
   "execution_count": 20,
   "metadata": {},
   "outputs": [
    {
     "data": {
      "text/html": [
       "<div>\n",
       "<style scoped>\n",
       "    .dataframe tbody tr th:only-of-type {\n",
       "        vertical-align: middle;\n",
       "    }\n",
       "\n",
       "    .dataframe tbody tr th {\n",
       "        vertical-align: top;\n",
       "    }\n",
       "\n",
       "    .dataframe thead th {\n",
       "        text-align: right;\n",
       "    }\n",
       "</style>\n",
       "<table border=\"1\" class=\"dataframe\">\n",
       "  <thead>\n",
       "    <tr style=\"text-align: right;\">\n",
       "      <th></th>\n",
       "      <th>Unnamed: 0</th>\n",
       "      <th>TMA_Acct</th>\n",
       "      <th>dos_deidentified</th>\n",
       "      <th>clinic_name_deidentified</th>\n",
       "      <th>test_name</th>\n",
       "      <th>result</th>\n",
       "      <th>Units</th>\n",
       "      <th>abnormal_flag</th>\n",
       "      <th>range_low_value</th>\n",
       "      <th>range_high_value</th>\n",
       "      <th>loinc_code</th>\n",
       "      <th>date</th>\n",
       "    </tr>\n",
       "  </thead>\n",
       "  <tbody>\n",
       "  </tbody>\n",
       "</table>\n",
       "</div>"
      ],
      "text/plain": [
       "Empty DataFrame\n",
       "Columns: [Unnamed: 0, TMA_Acct, dos_deidentified, clinic_name_deidentified, test_name, result, Units, abnormal_flag, range_low_value, range_high_value, loinc_code, date]\n",
       "Index: []"
      ]
     },
     "execution_count": 20,
     "metadata": {},
     "output_type": "execute_result"
    }
   ],
   "source": [
    "new_lab[new_lab['test_name'] == 'total co2']"
   ]
  },
  {
   "cell_type": "code",
   "execution_count": 19,
   "metadata": {},
   "outputs": [
    {
     "data": {
      "text/html": [
       "<div>\n",
       "<style scoped>\n",
       "    .dataframe tbody tr th:only-of-type {\n",
       "        vertical-align: middle;\n",
       "    }\n",
       "\n",
       "    .dataframe tbody tr th {\n",
       "        vertical-align: top;\n",
       "    }\n",
       "\n",
       "    .dataframe thead th {\n",
       "        text-align: right;\n",
       "    }\n",
       "</style>\n",
       "<table border=\"1\" class=\"dataframe\">\n",
       "  <thead>\n",
       "    <tr style=\"text-align: right;\">\n",
       "      <th></th>\n",
       "      <th>Unnamed: 0</th>\n",
       "      <th>TMA_Acct</th>\n",
       "      <th>date</th>\n",
       "      <th>test_name</th>\n",
       "      <th>result</th>\n",
       "      <th>Lab_Company</th>\n",
       "      <th>Status</th>\n",
       "      <th>Units</th>\n",
       "      <th>Order_Doctor</th>\n",
       "    </tr>\n",
       "  </thead>\n",
       "  <tbody>\n",
       "    <tr>\n",
       "      <th>650610</th>\n",
       "      <td>650610</td>\n",
       "      <td>14827</td>\n",
       "      <td>2011-09-12</td>\n",
       "      <td>total co2</td>\n",
       "      <td>33.8</td>\n",
       "      <td>Heritage Valley Health System</td>\n",
       "      <td>Closed</td>\n",
       "      <td>mmol/L</td>\n",
       "      <td>Joshua C. Sysak DO</td>\n",
       "    </tr>\n",
       "    <tr>\n",
       "      <th>669955</th>\n",
       "      <td>669955</td>\n",
       "      <td>15215</td>\n",
       "      <td>2011-10-30</td>\n",
       "      <td>total co2</td>\n",
       "      <td>23.2</td>\n",
       "      <td>Heritage Valley Health System</td>\n",
       "      <td>Closed</td>\n",
       "      <td>mmol/L</td>\n",
       "      <td>Allen I. Wolfert MD</td>\n",
       "    </tr>\n",
       "    <tr>\n",
       "      <th>1292172</th>\n",
       "      <td>1292172</td>\n",
       "      <td>32511</td>\n",
       "      <td>2011-08-17</td>\n",
       "      <td>total co2</td>\n",
       "      <td>39.3</td>\n",
       "      <td>Heritage Valley Health System</td>\n",
       "      <td>Closed</td>\n",
       "      <td>mmol/L</td>\n",
       "      <td>Allen I. Wolfert MD</td>\n",
       "    </tr>\n",
       "    <tr>\n",
       "      <th>1294960</th>\n",
       "      <td>1294960</td>\n",
       "      <td>32585</td>\n",
       "      <td>2011-09-03</td>\n",
       "      <td>total co2</td>\n",
       "      <td>29</td>\n",
       "      <td>Heritage Valley Health System</td>\n",
       "      <td>Closed</td>\n",
       "      <td>mmol/L</td>\n",
       "      <td>Matthew Pesacreta, MD</td>\n",
       "    </tr>\n",
       "    <tr>\n",
       "      <th>1295018</th>\n",
       "      <td>1295018</td>\n",
       "      <td>32585</td>\n",
       "      <td>2011-09-20</td>\n",
       "      <td>total co2</td>\n",
       "      <td>29.7</td>\n",
       "      <td>Heritage Valley Health System</td>\n",
       "      <td>Closed</td>\n",
       "      <td>mmol/L</td>\n",
       "      <td>Matthew Pesacreta, MD</td>\n",
       "    </tr>\n",
       "    <tr>\n",
       "      <th>1299036</th>\n",
       "      <td>1299036</td>\n",
       "      <td>32692</td>\n",
       "      <td>2011-09-07</td>\n",
       "      <td>total co2</td>\n",
       "      <td>27.1</td>\n",
       "      <td>Heritage Valley Health System</td>\n",
       "      <td>Closed</td>\n",
       "      <td>mmol/L</td>\n",
       "      <td>Joshua C. Sysak DO</td>\n",
       "    </tr>\n",
       "    <tr>\n",
       "      <th>1317511</th>\n",
       "      <td>1317511</td>\n",
       "      <td>33116</td>\n",
       "      <td>2011-11-17</td>\n",
       "      <td>total co2</td>\n",
       "      <td>29.7</td>\n",
       "      <td>Heritage Valley Health System</td>\n",
       "      <td>Closed</td>\n",
       "      <td>mmol/L</td>\n",
       "      <td>Matthew Pesacreta, MD</td>\n",
       "    </tr>\n",
       "    <tr>\n",
       "      <th>1341096</th>\n",
       "      <td>1341096</td>\n",
       "      <td>33707</td>\n",
       "      <td>2012-02-05</td>\n",
       "      <td>total co2</td>\n",
       "      <td>24.8</td>\n",
       "      <td>Heritage Valley Health System</td>\n",
       "      <td>Closed</td>\n",
       "      <td>mmol/L</td>\n",
       "      <td>Allen I. Wolfert MD</td>\n",
       "    </tr>\n",
       "    <tr>\n",
       "      <th>1677360</th>\n",
       "      <td>1677360</td>\n",
       "      <td>43398</td>\n",
       "      <td>2015-10-25</td>\n",
       "      <td>total co2</td>\n",
       "      <td>32.9</td>\n",
       "      <td>Heritage Valley Health System</td>\n",
       "      <td>Closed</td>\n",
       "      <td>mmol/L</td>\n",
       "      <td>Nirav D. Patel, M.D.</td>\n",
       "    </tr>\n",
       "    <tr>\n",
       "      <th>1978518</th>\n",
       "      <td>1978518</td>\n",
       "      <td>3053</td>\n",
       "      <td>2017-07-27</td>\n",
       "      <td>total co2</td>\n",
       "      <td>39.8</td>\n",
       "      <td>Heritage Valley Health System</td>\n",
       "      <td>Closed</td>\n",
       "      <td>mmol/L</td>\n",
       "      <td>Matthew Pesacreta, MD</td>\n",
       "    </tr>\n",
       "    <tr>\n",
       "      <th>2209466</th>\n",
       "      <td>2209466</td>\n",
       "      <td>28640</td>\n",
       "      <td>2017-11-21</td>\n",
       "      <td>total co2</td>\n",
       "      <td>29.9</td>\n",
       "      <td>Heritage Valley Health System</td>\n",
       "      <td>Closed</td>\n",
       "      <td>mmol/L</td>\n",
       "      <td>Tsegaw E Egziti, MD</td>\n",
       "    </tr>\n",
       "    <tr>\n",
       "      <th>2235899</th>\n",
       "      <td>2235899</td>\n",
       "      <td>39961</td>\n",
       "      <td>2017-10-26</td>\n",
       "      <td>total co2</td>\n",
       "      <td>25.4</td>\n",
       "      <td>Heritage Valley Health System</td>\n",
       "      <td>Closed</td>\n",
       "      <td>mmol/L</td>\n",
       "      <td>Tsegaw E Egziti, MD</td>\n",
       "    </tr>\n",
       "  </tbody>\n",
       "</table>\n",
       "</div>"
      ],
      "text/plain": [
       "         Unnamed: 0  TMA_Acct       date  test_name result  \\\n",
       "650610       650610     14827 2011-09-12  total co2   33.8   \n",
       "669955       669955     15215 2011-10-30  total co2   23.2   \n",
       "1292172     1292172     32511 2011-08-17  total co2   39.3   \n",
       "1294960     1294960     32585 2011-09-03  total co2     29   \n",
       "1295018     1295018     32585 2011-09-20  total co2   29.7   \n",
       "1299036     1299036     32692 2011-09-07  total co2   27.1   \n",
       "1317511     1317511     33116 2011-11-17  total co2   29.7   \n",
       "1341096     1341096     33707 2012-02-05  total co2   24.8   \n",
       "1677360     1677360     43398 2015-10-25  total co2   32.9   \n",
       "1978518     1978518      3053 2017-07-27  total co2   39.8   \n",
       "2209466     2209466     28640 2017-11-21  total co2   29.9   \n",
       "2235899     2235899     39961 2017-10-26  total co2   25.4   \n",
       "\n",
       "                           Lab_Company  Status   Units           Order_Doctor  \n",
       "650610   Heritage Valley Health System  Closed  mmol/L     Joshua C. Sysak DO  \n",
       "669955   Heritage Valley Health System  Closed  mmol/L    Allen I. Wolfert MD  \n",
       "1292172  Heritage Valley Health System  Closed  mmol/L    Allen I. Wolfert MD  \n",
       "1294960  Heritage Valley Health System  Closed  mmol/L  Matthew Pesacreta, MD  \n",
       "1295018  Heritage Valley Health System  Closed  mmol/L  Matthew Pesacreta, MD  \n",
       "1299036  Heritage Valley Health System  Closed  mmol/L     Joshua C. Sysak DO  \n",
       "1317511  Heritage Valley Health System  Closed  mmol/L  Matthew Pesacreta, MD  \n",
       "1341096  Heritage Valley Health System  Closed  mmol/L    Allen I. Wolfert MD  \n",
       "1677360  Heritage Valley Health System  Closed  mmol/L   Nirav D. Patel, M.D.  \n",
       "1978518  Heritage Valley Health System  Closed  mmol/L  Matthew Pesacreta, MD  \n",
       "2209466  Heritage Valley Health System  Closed  mmol/L    Tsegaw E Egziti, MD  \n",
       "2235899  Heritage Valley Health System  Closed  mmol/L    Tsegaw E Egziti, MD  "
      ]
     },
     "execution_count": 19,
     "metadata": {},
     "output_type": "execute_result"
    }
   ],
   "source": [
    "old_lab[old_lab['test_name'] == 'total co2']"
   ]
  },
  {
   "cell_type": "code",
   "execution_count": 26,
   "metadata": {},
   "outputs": [
    {
     "name": "stdout",
     "output_type": "stream",
     "text": [
      "carboxy hemoglobin: ['%']\n",
      "erythrocyte mean corpuscular hemoglobin [entitic m: ['pg']\n",
      "hemobl c: [nan]\n",
      "hemoblob f: [nan]\n",
      "hemodilution: [nan]\n",
      "hemogl a: [nan]\n",
      "hemogl a1c: [nan, '%', '1']\n",
      "hemogl a2: [nan, '%']\n",
      "hemogl ele: [nan]\n",
      "hemogl s: [nan]\n",
      "hemoglob: [nan]\n",
      "hemoglobin: [nan, 'g/dL', 'g/dl', 'GM/DL', 'ClosedGM/DL', 'gm/dL', 'G/DL']\n",
      "hemoglobin [mass/volume] in blood: ['g/dL']\n",
      "hemoglobin a: ['PERCENT']\n",
      "hemoglobin a1: ['%']\n",
      "hemoglobin a1c: ['% of total HgB', '% OF TOTAL HGB', 'PERCENT', '% of total Hgb']\n",
      "hemoglobin a2: ['PERCENT']\n",
      "hemoglobin and hematocrit: [nan]\n",
      "hemoglobin casts: [nan, 'LPF']\n",
      "hemoglobin f: ['PERCENT']\n",
      "hemoglobin glyclated (hgb a1c) (83036): [nan]\n",
      "hemoglobin s: ['PERCENT']\n",
      "hemoglobin,free,plasma: ['mg/dL']\n",
      "hemoglobin,plasma: ['MG/DL']\n",
      "hemoglobin,qual: [nan, 'G/DL']\n",
      "hemogram: [nan]\n",
      "hemogram w/ platelet ct.: [nan]\n",
      "hemogrm: [nan]\n",
      "hereditary hemochrom dna: [nan]\n",
      "lab report: hemoglobin a1c: [nan]\n",
      "mean corpuscular hemoglobin: ['pg']\n",
      "mean corpuscular hemoglobin conc: ['g/dL']\n",
      "methemoglo: [nan, '%']\n",
      "total hemoglobin: ['g/dL']\n"
     ]
    }
   ],
   "source": [
    "hemo = ['carboxy hemoglobin',\n",
    " 'erythrocyte mean corpuscular hemoglobin [entitic m',\n",
    " 'hemobl c',\n",
    " 'hemoblob f',\n",
    " 'hemodilution',\n",
    " 'hemogl a',\n",
    " 'hemogl a1c',\n",
    " 'hemogl a2',\n",
    " 'hemogl ele',\n",
    " 'hemogl s',\n",
    " 'hemoglob',\n",
    " 'hemoglobin',\n",
    " 'hemoglobin [mass/volume] in blood',\n",
    " 'hemoglobin a',\n",
    " 'hemoglobin a1',\n",
    " 'hemoglobin a1c',\n",
    " 'hemoglobin a2',\n",
    " 'hemoglobin and hematocrit',\n",
    " 'hemoglobin casts',\n",
    " 'hemoglobin f',\n",
    " 'hemoglobin glyclated (hgb a1c) (83036)',\n",
    " 'hemoglobin s',\n",
    " 'hemoglobin,free,plasma',\n",
    " 'hemoglobin,plasma',\n",
    " 'hemoglobin,qual',\n",
    " 'hemogram',\n",
    " 'hemogram w/ platelet ct.',\n",
    " 'hemogrm',\n",
    " 'hereditary hemochrom dna',\n",
    " 'lab report: hemoglobin a1c',\n",
    " 'mean corpuscular hemoglobin',\n",
    " 'mean corpuscular hemoglobin conc',\n",
    " 'methemoglo',\n",
    " 'total hemoglobin'\n",
    "]\n",
    "get_unit(new_lab, old_lab, hemo)"
   ]
  },
  {
   "cell_type": "code",
   "execution_count": 25,
   "metadata": {},
   "outputs": [
    {
     "name": "stdout",
     "output_type": "stream",
     "text": [
      "alk phosphatase: [nan, 'U/L']\n",
      "alk phosphatase,bone: ['mcg/L']\n",
      "alkaline phosphatase: ['U/L', 'IU/L', 'UNITS']\n",
      "alkaline phosphatase (alp): ['U/L']\n",
      "alkaline phosphatase [enzymatic activity/volume] i: ['U/L']\n",
      "calcium phosphate crystal: ['L']\n",
      "calcium phosphate crystals: [nan]\n",
      "phosphate: ['MG/DL']\n",
      "phosphate (as phosphorus): ['mg/dL']\n",
      "phosphate,24 hour urine: ['MG/24 H']\n",
      "phosphate,random urine: ['mg/dL']\n",
      "phosphate/creatinine ratio: [nan, 'mg/g creat']\n",
      "phosphatidylserine ab (iga): ['U/mL']\n",
      "phosphatidylserine ab (igg): ['U/mL']\n",
      "phosphatidylserine ab (igm): ['U/mL']\n",
      "prostatic acid phosphatase: ['ng/mL']\n",
      "triple phosphate: [nan, '/HPF', 'L']\n",
      "triple phosphate crystals: [nan, '/HPF']\n"
     ]
    }
   ],
   "source": [
    "po4 = ['alk phosphatase',\n",
    " 'alk phosphatase,bone',\n",
    " 'alkaline phosphatase',\n",
    " 'alkaline phosphatase (alp)',\n",
    " 'alkaline phosphatase [enzymatic activity/volume] i',\n",
    " 'calcium phosphate crystal',\n",
    " 'calcium phosphate crystals',\n",
    " 'phosphate',\n",
    " 'phosphate (as phosphorus)',\n",
    " 'phosphate,24 hour urine',\n",
    " 'phosphate,random urine',\n",
    " 'phosphate/creatinine ratio',\n",
    " 'phosphatidylserine ab (iga)',\n",
    " 'phosphatidylserine ab (igg)',\n",
    " 'phosphatidylserine ab (igm)',\n",
    " 'prostatic acid phosphatase',\n",
    " 'triple phosphate',\n",
    " 'triple phosphate crystals'\n",
    "]\n",
    "get_unit(new_lab, old_lab, po4)"
   ]
  },
  {
   "cell_type": "code",
   "execution_count": 22,
   "metadata": {},
   "outputs": [
    {
     "name": "stdout",
     "output_type": "stream",
     "text": [
      "intact pth: ['pg/mL']\n",
      "ipth: ['pg/mL']\n",
      "calc (pth): [nan]\n",
      "parathyrin.intact: ['pg/mL']\n",
      "parathyroid hormone, intact: ['pg/mL']\n",
      "pth: [nan, 'pg/mL']\n",
      "pth ab: [nan]\n",
      "pth calcium: ['mg/dL']\n",
      "pth in: [nan, 'PG/ML']\n",
      "pth intact: [nan, 'LPF', 'pg/mL', 'HPF', 'ClosedPG/ML', 'PG/ML', 'pg/ml']\n",
      "pth n term: [nan, 'pg/mL']\n",
      "pth, intact: ['pg/mL']\n",
      "pth,int: [nan]\n",
      "pth,intact: ['PG/ML']\n",
      "pth,related protein: [nan, 'PG/ML', 'pg/mL']\n",
      "pth-rp: [nan, 'pmol/L', 'pg/mL']\n",
      "pthi w/oca: [nan, 'PG/ML']\n",
      "pthintact: [nan, 'PG/ML']\n"
     ]
    }
   ],
   "source": [
    "pth = ['intact pth',\n",
    " 'ipth',\n",
    "'calc (pth)',\n",
    "'parathyrin.intact',\n",
    " 'parathyroid hormone, intact',\n",
    " 'pth',\n",
    " 'pth ab',\n",
    " 'pth calcium',\n",
    " 'pth in',\n",
    " 'pth intact',\n",
    " 'pth n term',\n",
    " 'pth, intact',\n",
    " 'pth,int',\n",
    " 'pth,intact',\n",
    " 'pth,related protein',\n",
    " 'pth-rp',\n",
    " 'pthi w/oca',\n",
    " 'pthintact'\n",
    "]\n",
    "get_unit(new_lab, old_lab, pth)"
   ]
  },
  {
   "cell_type": "code",
   "execution_count": 23,
   "metadata": {},
   "outputs": [
    {
     "name": "stdout",
     "output_type": "stream",
     "text": [
      "14-3-3 eta protein: ['ng/mL']\n",
      "14.3.3 eta protein: ['ng/mL']\n",
      "abnormal protein band 1: ['mg/dL', 'g/dL', 'GM/DL']\n",
      "abnormal protein band 2: ['GM/DL']\n",
      "abnormal protein band 3: ['GM/DL']\n",
      "alpha fetoprotein, tumor marke: ['ng/mL']\n",
      "antiproteinase 3 (pr-3) abs: ['U/mL']\n",
      "apolipoprotein a1: ['mg/dL']\n",
      "apolipoprotein b: ['mg/dL', 'MG/DL']\n",
      "b2 glycoprotein i (igg)ab: ['SGU']\n",
      "b2 glycoprotein i (igm)ab: ['SMU']\n",
      "b2 glycoprotein i ab (iga): ['SAU', 'U/mL']\n",
      "b2 glycoprotein i ab (igg): ['SGU', 'U/mL']\n",
      "b2 glycoprotein i ab (igm): ['SMU', 'U/mL']\n",
      "b2glycoprotein1, iga antibody: ['U/mL']\n",
      "b2glycoprotein1, igg antibody: ['U/mL']\n",
      "b2glycoprotein1, igm antibody: ['U/mL']\n",
      "c-reactive protein: [nan, 'mg/L', 'MG/DL', 'mg/dL', 'MG/L']\n",
      "free protein s ag.: ['%']\n",
      "igf binding protein 1 (igfbp 1: ['ng/mL']\n",
      "igf binding protein-1: ['NG/ML']\n",
      "lab report: protein electro, 24-hour urine: [nan]\n",
      "lipoprotein (a): ['nmol/L']\n",
      "lp-pla2 lipoprotein: ['NG/ML']\n",
      "monoclonal protein 1: ['G/DL', 'GM/DL']\n",
      "monoclonal protein 2: ['GM/DL']\n",
      "mouse urine proteins (e72) ige: ['kU/L']\n",
      "protein: [nan]\n",
      "protein 24 hour urine: ['mg/24hr']\n",
      "protein 24 hour volume: ['mL']\n",
      "protein [mass/volume] in serum or plasma: ['g/dL']\n",
      "protein c: [nan]\n",
      "protein c activity: ['%']\n",
      "protein c,activity: [nan, 'PERCENT']\n",
      "protein c,antigen: [nan, 'PERCENT']\n",
      "protein creatinine ratio: [nan, 'MG/G CREATININE']\n",
      "protein s: [nan]\n",
      "protein s,activity: [nan, 'PERCENT']\n",
      "protein s,antigen: [nan, 'PERCENT', '% normal']\n",
      "protein urine random: ['mg/dL']\n",
      "protein urine-qual: ['mg/dL']\n",
      "protein, poc urine: [nan]\n",
      "protein, random, urine: ['mg/dL']\n",
      "protein, total: ['g/dL', 'G/DL']\n",
      "protein, total serum: ['g/dL']\n",
      "protein, total, 24 hr ur: ['mg/24 h']\n",
      "protein, total, pleural: ['g/dL']\n",
      "protein, total, random ur: ['mg/dL']\n",
      "protein, total-quest: ['gm/dL']\n",
      "protein, ua: [nan]\n",
      "protein, urine qualitative: ['mg/dL']\n",
      "protein, urine, normalized: ['mg/g creat']\n",
      "protein, urine, random: [nan, 'mg/dL']\n",
      "protein,total: [nan, 'G/DL', 'GM/DL']\n",
      "protein,total w/creat,random urine: ['MG/DL']\n",
      "protein,total, peritoneal: ['g/dL']\n",
      "protein,total,24 hour ur: ['mg/24 h']\n",
      "protein,total,24 hour urine: [nan, 'MG/G CREATININ', 'MG/24 HRS', 'MG/24HRS.', 'MG/G CREATININE']\n",
      "protein,total,24hr urine: ['MG/24 HRS']\n",
      "protein,total,peritoneal fld: ['g/dL']\n",
      "protein,total,plasma: ['GM/DL']\n",
      "protein,total,pleural fluid: ['g/dL']\n",
      "protein,total,qual: [nan]\n",
      "protein,total,random urine: ['MG/DL', 'MG/G CREATININE']\n",
      "protein/creat ratio: [nan, 'mg/g creat']\n",
      "protein/creatinine ratio: [nan, 'MG/G CREATININE', 'mg/g creat', 'MG/MG CREATININE', 'mg/mg creat', 'g/dL', 'Ratio']\n",
      "proteinase 3 ab: ['U']\n",
      "proteinase 3 ab (pr3): ['U']\n",
      "proteinase-3 ab: ['U/mL', 'UNITS/ML', 'AI']\n",
      "proteinase-3 ab-quest: [nan]\n",
      "proteinase-3 antibody: ['AI']\n",
      "pth,related protein: [nan, 'PG/ML', 'pg/mL']\n",
      "rat urine proteins (e74) ige: ['KU/L']\n",
      "retinol binding protein: ['MG/DL']\n",
      "ribonucleic protein (u1) (ena) antibody, igg: ['AU/mL']\n",
      "total protein: ['mg/dL', 'g/dL', 'mg/d']\n",
      "total protein mg/dl: ['MG/DL']\n",
      "ua protein: [nan, '1', 'mg/dL', '/HPF', 'mg/24h', 'L']\n"
     ]
    }
   ],
   "source": [
    "protein = ['14-3-3 eta protein',\n",
    " '14.3.3 eta protein',\n",
    " 'abnormal protein band 1',\n",
    " 'abnormal protein band 2',\n",
    " 'abnormal protein band 3',\n",
    " 'alpha fetoprotein, tumor marke',\n",
    " 'antiproteinase 3 (pr-3) abs',\n",
    " 'apolipoprotein a1',\n",
    " 'apolipoprotein b',\n",
    " 'b2 glycoprotein i (igg)ab',\n",
    " 'b2 glycoprotein i (igm)ab',\n",
    " 'b2 glycoprotein i ab (iga)',\n",
    " 'b2 glycoprotein i ab (igg)',\n",
    " 'b2 glycoprotein i ab (igm)',\n",
    " 'b2glycoprotein1, iga antibody',\n",
    " 'b2glycoprotein1, igg antibody',\n",
    " 'b2glycoprotein1, igm antibody',\n",
    " 'c-reactive protein',\n",
    " 'free protein s ag.',\n",
    " 'igf binding protein 1 (igfbp 1',\n",
    " 'igf binding protein-1',\n",
    " 'lab report: protein electro, 24-hour urine',\n",
    " 'lipoprotein (a)',\n",
    " 'lp-pla2 lipoprotein',\n",
    " 'monoclonal protein 1',\n",
    " 'monoclonal protein 2',\n",
    " 'mouse urine proteins (e72) ige',\n",
    " 'protein',\n",
    " 'protein 24 hour urine',\n",
    " 'protein 24 hour volume',\n",
    " 'protein [mass/volume] in serum or plasma',\n",
    " 'protein c',\n",
    " 'protein c activity',\n",
    " 'protein c,activity',\n",
    " 'protein c,antigen',\n",
    " 'protein creatinine ratio',\n",
    " 'protein s',\n",
    " 'protein s,activity',\n",
    " 'protein s,antigen',\n",
    " 'protein urine random',\n",
    " 'protein urine-qual',\n",
    " 'protein, poc urine',\n",
    " 'protein, random, urine',\n",
    " 'protein, total',\n",
    " 'protein, total serum',\n",
    " 'protein, total, 24 hr ur',\n",
    " 'protein, total, pleural',\n",
    " 'protein, total, random ur',\n",
    " 'protein, total-quest',\n",
    " 'protein, ua',\n",
    " 'protein, urine qualitative',\n",
    " 'protein, urine, normalized',\n",
    " 'protein, urine, random',\n",
    " 'protein,total',\n",
    " 'protein,total w/creat,random urine',\n",
    " 'protein,total, peritoneal',\n",
    " 'protein,total,24 hour ur',\n",
    " 'protein,total,24 hour urine',\n",
    " 'protein,total,24hr urine',\n",
    " 'protein,total,peritoneal fld',\n",
    " 'protein,total,plasma',\n",
    " 'protein,total,pleural fluid',\n",
    " 'protein,total,qual',\n",
    " 'protein,total,random urine',\n",
    " 'protein/creat ratio',\n",
    " 'protein/creatinine ratio',\n",
    " 'proteinase 3 ab',\n",
    " 'proteinase 3 ab (pr3)',\n",
    " 'proteinase-3 ab',\n",
    " 'proteinase-3 ab-quest',\n",
    " 'proteinase-3 antibody',\n",
    " 'pth,related protein',\n",
    " 'rat urine proteins (e74) ige',\n",
    " 'retinol binding protein',\n",
    " 'ribonucleic protein (u1) (ena) antibody, igg',\n",
    " 'total protein',\n",
    " 'total protein mg/dl',\n",
    " 'ua protein'\n",
    "]\n",
    "get_unit(new_lab, old_lab, protein)"
   ]
  },
  {
   "cell_type": "code",
   "execution_count": 4,
   "metadata": {},
   "outputs": [],
   "source": [
    "#tma_in_tma_lab_without_dob_in_master = pd.read_txt('tma_in_tma_lab_without_dob_in_master.txt')\n",
    "read_file = pd.read_csv (r'tma_in_tma_lab_without_dob_in_master.txt')\n",
    "read_file.to_csv (r'tma_in_tma_lab_without_dob_in_master.csv', index=None)"
   ]
  },
  {
   "cell_type": "code",
   "execution_count": 5,
   "metadata": {},
   "outputs": [
    {
     "data": {
      "text/html": [
       "<div>\n",
       "<style scoped>\n",
       "    .dataframe tbody tr th:only-of-type {\n",
       "        vertical-align: middle;\n",
       "    }\n",
       "\n",
       "    .dataframe tbody tr th {\n",
       "        vertical-align: top;\n",
       "    }\n",
       "\n",
       "    .dataframe thead th {\n",
       "        text-align: right;\n",
       "    }\n",
       "</style>\n",
       "<table border=\"1\" class=\"dataframe\">\n",
       "  <thead>\n",
       "    <tr style=\"text-align: right;\">\n",
       "      <th></th>\n",
       "      <th>[6</th>\n",
       "      <th>32780</th>\n",
       "      <th>32803</th>\n",
       "      <th>32809</th>\n",
       "      <th>32812</th>\n",
       "      <th>32816</th>\n",
       "      <th>32828</th>\n",
       "      <th>64</th>\n",
       "      <th>32833</th>\n",
       "      <th>32836</th>\n",
       "      <th>...</th>\n",
       "      <th>32652</th>\n",
       "      <th>32654</th>\n",
       "      <th>32663</th>\n",
       "      <th>32714</th>\n",
       "      <th>32728</th>\n",
       "      <th>32731</th>\n",
       "      <th>32738</th>\n",
       "      <th>32740</th>\n",
       "      <th>32751</th>\n",
       "      <th>32754]</th>\n",
       "    </tr>\n",
       "  </thead>\n",
       "  <tbody>\n",
       "  </tbody>\n",
       "</table>\n",
       "<p>0 rows × 5416 columns</p>\n",
       "</div>"
      ],
      "text/plain": [
       "Empty DataFrame\n",
       "Columns: [[6,  32780,  32803,  32809,  32812,  32816,  32828,  64,  32833,  32836,  32841,  32865,  32866,  32887,  32890,  32897,  32916,  153,  154,  32948,  32956,  32972,  32995,  32999,  33021,  33024,  33025,  33029,  33039,  33042,  33050,  33051,  287,  33078,  311,  33093,  33094,  33099,  33100,  33108,  343,  33113,  33114,  33115,  349,  356,  33127,  33144,  33147,  385,  387,  33158,  33191,  434,  33210,  445,  450,  454,  33227,  461,  466,  33236,  33237,  33240,  33248,  33253,  33261,  33274,  33277,  33294,  33302,  33309,  590,  33364,  33366,  33383,  33395,  647,  33425,  33448,  697,  33467,  708,  716,  33495,  33496,  33514,  33528,  766,  33542,  779,  33550,  33551,  33568,  33571,  33584,  33591,  33594,  851,  857, ...]\n",
       "Index: []\n",
       "\n",
       "[0 rows x 5416 columns]"
      ]
     },
     "execution_count": 5,
     "metadata": {},
     "output_type": "execute_result"
    }
   ],
   "source": [
    "read_file"
   ]
  },
  {
   "cell_type": "code",
   "execution_count": 13,
   "metadata": {},
   "outputs": [],
   "source": [
    "res = pd.DataFrame(columns=('TMA_Acct', 'age'))\n",
    "for i in read_file:\n",
    "    if '[' in i:\n",
    "        i = 6\n",
    "    elif ']' in i:\n",
    "        i = 32754\n",
    "    res = res.append([{'TMA_Acct':i}], ignore_index=True)"
   ]
  },
  {
   "cell_type": "code",
   "execution_count": 20,
   "metadata": {},
   "outputs": [],
   "source": [
    "res.to_csv('tma_in_tma_lab_without_dob_in_master.csv')"
   ]
  },
  {
   "cell_type": "code",
   "execution_count": null,
   "metadata": {},
   "outputs": [],
   "source": []
  },
  {
   "cell_type": "code",
   "execution_count": 18,
   "metadata": {},
   "outputs": [],
   "source": [
    "res['TMA_Acct'] = res['TMA_Acct'].astype(int)"
   ]
  },
  {
   "cell_type": "code",
   "execution_count": 19,
   "metadata": {},
   "outputs": [
    {
     "data": {
      "text/html": [
       "<div>\n",
       "<style scoped>\n",
       "    .dataframe tbody tr th:only-of-type {\n",
       "        vertical-align: middle;\n",
       "    }\n",
       "\n",
       "    .dataframe tbody tr th {\n",
       "        vertical-align: top;\n",
       "    }\n",
       "\n",
       "    .dataframe thead th {\n",
       "        text-align: right;\n",
       "    }\n",
       "</style>\n",
       "<table border=\"1\" class=\"dataframe\">\n",
       "  <thead>\n",
       "    <tr style=\"text-align: right;\">\n",
       "      <th></th>\n",
       "      <th>TMA_Acct</th>\n",
       "      <th>age</th>\n",
       "    </tr>\n",
       "  </thead>\n",
       "  <tbody>\n",
       "    <tr>\n",
       "      <th>0</th>\n",
       "      <td>6</td>\n",
       "      <td>NaN</td>\n",
       "    </tr>\n",
       "    <tr>\n",
       "      <th>7</th>\n",
       "      <td>64</td>\n",
       "      <td>NaN</td>\n",
       "    </tr>\n",
       "    <tr>\n",
       "      <th>17</th>\n",
       "      <td>153</td>\n",
       "      <td>NaN</td>\n",
       "    </tr>\n",
       "    <tr>\n",
       "      <th>18</th>\n",
       "      <td>154</td>\n",
       "      <td>NaN</td>\n",
       "    </tr>\n",
       "    <tr>\n",
       "      <th>32</th>\n",
       "      <td>287</td>\n",
       "      <td>NaN</td>\n",
       "    </tr>\n",
       "    <tr>\n",
       "      <th>...</th>\n",
       "      <td>...</td>\n",
       "      <td>...</td>\n",
       "    </tr>\n",
       "    <tr>\n",
       "      <th>4844</th>\n",
       "      <td>53432</td>\n",
       "      <td>NaN</td>\n",
       "    </tr>\n",
       "    <tr>\n",
       "      <th>4847</th>\n",
       "      <td>53441</td>\n",
       "      <td>NaN</td>\n",
       "    </tr>\n",
       "    <tr>\n",
       "      <th>4848</th>\n",
       "      <td>53459</td>\n",
       "      <td>NaN</td>\n",
       "    </tr>\n",
       "    <tr>\n",
       "      <th>4850</th>\n",
       "      <td>53506</td>\n",
       "      <td>NaN</td>\n",
       "    </tr>\n",
       "    <tr>\n",
       "      <th>4855</th>\n",
       "      <td>53573</td>\n",
       "      <td>NaN</td>\n",
       "    </tr>\n",
       "  </tbody>\n",
       "</table>\n",
       "<p>5416 rows × 2 columns</p>\n",
       "</div>"
      ],
      "text/plain": [
       "      TMA_Acct  age\n",
       "0            6  NaN\n",
       "7           64  NaN\n",
       "17         153  NaN\n",
       "18         154  NaN\n",
       "32         287  NaN\n",
       "...        ...  ...\n",
       "4844     53432  NaN\n",
       "4847     53441  NaN\n",
       "4848     53459  NaN\n",
       "4850     53506  NaN\n",
       "4855     53573  NaN\n",
       "\n",
       "[5416 rows x 2 columns]"
      ]
     },
     "execution_count": 19,
     "metadata": {},
     "output_type": "execute_result"
    }
   ],
   "source": [
    "res.sort_values('TMA_Acct')"
   ]
  },
  {
   "cell_type": "code",
   "execution_count": 3,
   "metadata": {},
   "outputs": [
    {
     "data": {
      "text/html": [
       "<div>\n",
       "<style scoped>\n",
       "    .dataframe tbody tr th:only-of-type {\n",
       "        vertical-align: middle;\n",
       "    }\n",
       "\n",
       "    .dataframe tbody tr th {\n",
       "        vertical-align: top;\n",
       "    }\n",
       "\n",
       "    .dataframe thead th {\n",
       "        text-align: right;\n",
       "    }\n",
       "</style>\n",
       "<table border=\"1\" class=\"dataframe\">\n",
       "  <thead>\n",
       "    <tr style=\"text-align: right;\">\n",
       "      <th></th>\n",
       "      <th>Unnamed: 0</th>\n",
       "      <th>TMA_Acct</th>\n",
       "      <th>Account_Date</th>\n",
       "      <th>Sex</th>\n",
       "      <th>DOB</th>\n",
       "      <th>Marital_Status</th>\n",
       "      <th>Race</th>\n",
       "      <th>Location</th>\n",
       "      <th>Zip_Code</th>\n",
       "      <th>Patient_Status_Date</th>\n",
       "      <th>Patient_Status</th>\n",
       "      <th>Ethnicity</th>\n",
       "      <th>Language</th>\n",
       "    </tr>\n",
       "  </thead>\n",
       "  <tbody>\n",
       "    <tr>\n",
       "      <th>99</th>\n",
       "      <td>99</td>\n",
       "      <td>268</td>\n",
       "      <td>06-01-2009</td>\n",
       "      <td>Female</td>\n",
       "      <td>24-08-1926</td>\n",
       "      <td>NaN</td>\n",
       "      <td>White</td>\n",
       "      <td>Tma</td>\n",
       "      <td>15317-3172</td>\n",
       "      <td>4-18-2012</td>\n",
       "      <td>Deceased</td>\n",
       "      <td>NaN</td>\n",
       "      <td>NaN</td>\n",
       "    </tr>\n",
       "  </tbody>\n",
       "</table>\n",
       "</div>"
      ],
      "text/plain": [
       "    Unnamed: 0  TMA_Acct Account_Date     Sex         DOB Marital_Status  \\\n",
       "99          99       268   06-01-2009  Female  24-08-1926            NaN   \n",
       "\n",
       "     Race Location    Zip_Code Patient_Status_Date Patient_Status Ethnicity  \\\n",
       "99  White      Tma  15317-3172           4-18-2012       Deceased       NaN   \n",
       "\n",
       "   Language  \n",
       "99      NaN  "
      ]
     },
     "execution_count": 3,
     "metadata": {},
     "output_type": "execute_result"
    }
   ],
   "source": [
    "master[master['TMA_Acct'] == 268]"
   ]
  },
  {
   "cell_type": "code",
   "execution_count": 4,
   "metadata": {},
   "outputs": [],
   "source": [
    "tma = pd.read_csv('TMA.csv')"
   ]
  },
  {
   "cell_type": "code",
   "execution_count": null,
   "metadata": {},
   "outputs": [],
   "source": [
    "check = pd.DataFrame(base.groupby('TMA_Acct').size() > 1).reset_index()\n",
    "check = list(set(check[check[0] == True]['TMA_Acct']))\n",
    "len(check)"
   ]
  },
  {
   "cell_type": "code",
   "execution_count": 4,
   "metadata": {},
   "outputs": [
    {
     "data": {
      "text/plain": [
       "3926459"
      ]
     },
     "execution_count": 4,
     "metadata": {},
     "output_type": "execute_result"
    }
   ],
   "source": [
    "len(old_lab) + len(new_lab) + len(master)"
   ]
  },
  {
   "cell_type": "code",
   "execution_count": 134,
   "metadata": {},
   "outputs": [
    {
     "name": "stdout",
     "output_type": "stream",
     "text": [
      "11361                            Asian\n",
      "14431    Declined to Specify / Unknown\n",
      "Name: Race, dtype: object\n"
     ]
    }
   ],
   "source": [
    "print(master[master['TMA_Acct'] == 36531]['Race']"
   ]
  },
  {
   "cell_type": "code",
   "execution_count": 4,
   "metadata": {},
   "outputs": [
    {
     "data": {
      "text/html": [
       "<div>\n",
       "<style scoped>\n",
       "    .dataframe tbody tr th:only-of-type {\n",
       "        vertical-align: middle;\n",
       "    }\n",
       "\n",
       "    .dataframe tbody tr th {\n",
       "        vertical-align: top;\n",
       "    }\n",
       "\n",
       "    .dataframe thead th {\n",
       "        text-align: right;\n",
       "    }\n",
       "</style>\n",
       "<table border=\"1\" class=\"dataframe\">\n",
       "  <thead>\n",
       "    <tr style=\"text-align: right;\">\n",
       "      <th></th>\n",
       "      <th>Unnamed: 0</th>\n",
       "      <th>TMA_Acct</th>\n",
       "      <th>Account_Date</th>\n",
       "      <th>Sex</th>\n",
       "      <th>DOB</th>\n",
       "      <th>Marital_Status</th>\n",
       "      <th>Race</th>\n",
       "      <th>Location</th>\n",
       "      <th>Zip_Code</th>\n",
       "      <th>Patient_Status_Date</th>\n",
       "      <th>Patient_Status</th>\n",
       "      <th>Ethnicity</th>\n",
       "      <th>Language</th>\n",
       "    </tr>\n",
       "  </thead>\n",
       "  <tbody>\n",
       "    <tr>\n",
       "      <th>0</th>\n",
       "      <td>0</td>\n",
       "      <td>9</td>\n",
       "      <td>06-01-2009</td>\n",
       "      <td>Male</td>\n",
       "      <td>20-04-1921</td>\n",
       "      <td>NaN</td>\n",
       "      <td>White</td>\n",
       "      <td>Hopewell Office</td>\n",
       "      <td>15001</td>\n",
       "      <td>6-30-2010</td>\n",
       "      <td>Deceased</td>\n",
       "      <td>NaN</td>\n",
       "      <td>NaN</td>\n",
       "    </tr>\n",
       "    <tr>\n",
       "      <th>1</th>\n",
       "      <td>1</td>\n",
       "      <td>10</td>\n",
       "      <td>06-01-2009</td>\n",
       "      <td>Female</td>\n",
       "      <td>18-05-1926</td>\n",
       "      <td>NaN</td>\n",
       "      <td>NaN</td>\n",
       "      <td>Tma</td>\n",
       "      <td>15360</td>\n",
       "      <td>NaN</td>\n",
       "      <td>Active</td>\n",
       "      <td>NaN</td>\n",
       "      <td>NaN</td>\n",
       "    </tr>\n",
       "  </tbody>\n",
       "</table>\n",
       "</div>"
      ],
      "text/plain": [
       "   Unnamed: 0  TMA_Acct Account_Date     Sex         DOB Marital_Status  \\\n",
       "0           0         9   06-01-2009    Male  20-04-1921            NaN   \n",
       "1           1        10   06-01-2009  Female  18-05-1926            NaN   \n",
       "\n",
       "    Race         Location Zip_Code Patient_Status_Date Patient_Status  \\\n",
       "0  White  Hopewell Office    15001           6-30-2010       Deceased   \n",
       "1    NaN              Tma    15360                 NaN         Active   \n",
       "\n",
       "  Ethnicity Language  \n",
       "0       NaN      NaN  \n",
       "1       NaN      NaN  "
      ]
     },
     "execution_count": 4,
     "metadata": {},
     "output_type": "execute_result"
    }
   ],
   "source": [
    "master.head(2)"
   ]
  },
  {
   "cell_type": "code",
   "execution_count": 15,
   "metadata": {},
   "outputs": [
    {
     "data": {
      "text/html": [
       "<div>\n",
       "<style scoped>\n",
       "    .dataframe tbody tr th:only-of-type {\n",
       "        vertical-align: middle;\n",
       "    }\n",
       "\n",
       "    .dataframe tbody tr th {\n",
       "        vertical-align: top;\n",
       "    }\n",
       "\n",
       "    .dataframe thead th {\n",
       "        text-align: right;\n",
       "    }\n",
       "</style>\n",
       "<table border=\"1\" class=\"dataframe\">\n",
       "  <thead>\n",
       "    <tr style=\"text-align: right;\">\n",
       "      <th></th>\n",
       "      <th>Unnamed: 0</th>\n",
       "      <th>TMA_Acct</th>\n",
       "      <th>Lab_Date</th>\n",
       "      <th>Code</th>\n",
       "      <th>Results</th>\n",
       "      <th>Lab_Company</th>\n",
       "      <th>Status</th>\n",
       "      <th>Units</th>\n",
       "      <th>Order_Doctor</th>\n",
       "    </tr>\n",
       "  </thead>\n",
       "  <tbody>\n",
       "    <tr>\n",
       "      <th>0</th>\n",
       "      <td>0</td>\n",
       "      <td>9</td>\n",
       "      <td>2008-08-29</td>\n",
       "      <td>iron tibc</td>\n",
       "      <td>305.6</td>\n",
       "      <td>ALIQHOSP</td>\n",
       "      <td>NaN</td>\n",
       "      <td>NaN</td>\n",
       "      <td>NaN</td>\n",
       "    </tr>\n",
       "    <tr>\n",
       "      <th>1</th>\n",
       "      <td>1</td>\n",
       "      <td>9</td>\n",
       "      <td>2005-01-03</td>\n",
       "      <td>hemoglobin</td>\n",
       "      <td>13.4</td>\n",
       "      <td>ALIQHOSP</td>\n",
       "      <td>NaN</td>\n",
       "      <td>NaN</td>\n",
       "      <td>NaN</td>\n",
       "    </tr>\n",
       "  </tbody>\n",
       "</table>\n",
       "</div>"
      ],
      "text/plain": [
       "   Unnamed: 0  TMA_Acct   Lab_Date        Code Results Lab_Company Status  \\\n",
       "0           0         9 2008-08-29   iron tibc   305.6    ALIQHOSP    NaN   \n",
       "1           1         9 2005-01-03  hemoglobin    13.4    ALIQHOSP    NaN   \n",
       "\n",
       "  Units Order_Doctor  \n",
       "0   NaN          NaN  \n",
       "1   NaN          NaN  "
      ]
     },
     "execution_count": 15,
     "metadata": {},
     "output_type": "execute_result"
    }
   ],
   "source": [
    "old_lab.head(2)"
   ]
  },
  {
   "cell_type": "code",
   "execution_count": 13,
   "metadata": {},
   "outputs": [],
   "source": [
    "new = new_lab[['TMA_Acct', 'date']]\n",
    "new = new.groupby(['TMA_Acct']).min()"
   ]
  },
  {
   "cell_type": "code",
   "execution_count": 16,
   "metadata": {},
   "outputs": [],
   "source": [
    "old = old_lab[['TMA_Acct', 'Lab_Date']]\n",
    "old = old.groupby(['TMA_Acct']).min()"
   ]
  },
  {
   "cell_type": "code",
   "execution_count": 20,
   "metadata": {},
   "outputs": [
    {
     "data": {
      "text/plain": [
       "831"
      ]
     },
     "execution_count": 20,
     "metadata": {},
     "output_type": "execute_result"
    }
   ],
   "source": [
    "new_2016 = new[new['date'] > '2016-12-31'].reset_index()\n",
    "len(new_2016[\"TMA_Acct\"].unique())"
   ]
  },
  {
   "cell_type": "code",
   "execution_count": 21,
   "metadata": {},
   "outputs": [
    {
     "data": {
      "text/plain": [
       "6312"
      ]
     },
     "execution_count": 21,
     "metadata": {},
     "output_type": "execute_result"
    }
   ],
   "source": [
    "old_2016 = old[old['Lab_Date'] > '2016-12-31'].reset_index()\n",
    "len(old_2016[\"TMA_Acct\"].unique())"
   ]
  },
  {
   "cell_type": "code",
   "execution_count": 22,
   "metadata": {},
   "outputs": [
    {
     "data": {
      "text/plain": [
       "6"
      ]
     },
     "execution_count": 22,
     "metadata": {},
     "output_type": "execute_result"
    }
   ],
   "source": [
    "old_2016[\"TMA_Acct\"].unique()[0]"
   ]
  },
  {
   "cell_type": "code",
   "execution_count": 23,
   "metadata": {},
   "outputs": [
    {
     "data": {
      "text/html": [
       "<div>\n",
       "<style scoped>\n",
       "    .dataframe tbody tr th:only-of-type {\n",
       "        vertical-align: middle;\n",
       "    }\n",
       "\n",
       "    .dataframe tbody tr th {\n",
       "        vertical-align: top;\n",
       "    }\n",
       "\n",
       "    .dataframe thead th {\n",
       "        text-align: right;\n",
       "    }\n",
       "</style>\n",
       "<table border=\"1\" class=\"dataframe\">\n",
       "  <thead>\n",
       "    <tr style=\"text-align: right;\">\n",
       "      <th></th>\n",
       "      <th>Unnamed: 0</th>\n",
       "      <th>TMA_Acct</th>\n",
       "      <th>Lab_Date</th>\n",
       "      <th>Code</th>\n",
       "      <th>Results</th>\n",
       "      <th>Lab_Company</th>\n",
       "      <th>Status</th>\n",
       "      <th>Units</th>\n",
       "      <th>Order_Doctor</th>\n",
       "    </tr>\n",
       "  </thead>\n",
       "  <tbody>\n",
       "    <tr>\n",
       "      <th>1856091</th>\n",
       "      <td>1856091</td>\n",
       "      <td>6</td>\n",
       "      <td>2017-02-20</td>\n",
       "      <td>wbc</td>\n",
       "      <td>9.6</td>\n",
       "      <td>Default Lab</td>\n",
       "      <td>Closed</td>\n",
       "      <td>NaN</td>\n",
       "      <td>Tma Doctor</td>\n",
       "    </tr>\n",
       "    <tr>\n",
       "      <th>1856092</th>\n",
       "      <td>1856092</td>\n",
       "      <td>6</td>\n",
       "      <td>2017-02-20</td>\n",
       "      <td>vitamin d</td>\n",
       "      <td>39.6</td>\n",
       "      <td>Default Lab</td>\n",
       "      <td>Closed</td>\n",
       "      <td>NaN</td>\n",
       "      <td>Tma Doctor</td>\n",
       "    </tr>\n",
       "    <tr>\n",
       "      <th>1856093</th>\n",
       "      <td>1856093</td>\n",
       "      <td>6</td>\n",
       "      <td>2017-02-20</td>\n",
       "      <td>urine cr/r</td>\n",
       "      <td>264 MG/DL</td>\n",
       "      <td>Default Lab</td>\n",
       "      <td>Closed</td>\n",
       "      <td>NaN</td>\n",
       "      <td>Tma Doctor</td>\n",
       "    </tr>\n",
       "    <tr>\n",
       "      <th>1856094</th>\n",
       "      <td>1856094</td>\n",
       "      <td>6</td>\n",
       "      <td>2017-02-20</td>\n",
       "      <td>uric acid</td>\n",
       "      <td>7.9</td>\n",
       "      <td>Default Lab</td>\n",
       "      <td>Closed</td>\n",
       "      <td>NaN</td>\n",
       "      <td>Tma Doctor</td>\n",
       "    </tr>\n",
       "    <tr>\n",
       "      <th>1856095</th>\n",
       "      <td>1856095</td>\n",
       "      <td>6</td>\n",
       "      <td>2017-02-20</td>\n",
       "      <td>urea nitro</td>\n",
       "      <td>32</td>\n",
       "      <td>Default Lab</td>\n",
       "      <td>Closed</td>\n",
       "      <td>NaN</td>\n",
       "      <td>Tma Doctor</td>\n",
       "    </tr>\n",
       "    <tr>\n",
       "      <th>...</th>\n",
       "      <td>...</td>\n",
       "      <td>...</td>\n",
       "      <td>...</td>\n",
       "      <td>...</td>\n",
       "      <td>...</td>\n",
       "      <td>...</td>\n",
       "      <td>...</td>\n",
       "      <td>...</td>\n",
       "      <td>...</td>\n",
       "    </tr>\n",
       "    <tr>\n",
       "      <th>1856164</th>\n",
       "      <td>1856164</td>\n",
       "      <td>6</td>\n",
       "      <td>2017-02-20</td>\n",
       "      <td>abs mono</td>\n",
       "      <td>1</td>\n",
       "      <td>Default Lab</td>\n",
       "      <td>Closed</td>\n",
       "      <td>NaN</td>\n",
       "      <td>Tma Doctor</td>\n",
       "    </tr>\n",
       "    <tr>\n",
       "      <th>1856165</th>\n",
       "      <td>1856165</td>\n",
       "      <td>6</td>\n",
       "      <td>2017-02-20</td>\n",
       "      <td>abs lymph</td>\n",
       "      <td>2.1</td>\n",
       "      <td>Default Lab</td>\n",
       "      <td>Closed</td>\n",
       "      <td>NaN</td>\n",
       "      <td>Tma Doctor</td>\n",
       "    </tr>\n",
       "    <tr>\n",
       "      <th>1856166</th>\n",
       "      <td>1856166</td>\n",
       "      <td>6</td>\n",
       "      <td>2017-02-20</td>\n",
       "      <td>abs eosin</td>\n",
       "      <td>0.2</td>\n",
       "      <td>Default Lab</td>\n",
       "      <td>Closed</td>\n",
       "      <td>NaN</td>\n",
       "      <td>Tma Doctor</td>\n",
       "    </tr>\n",
       "    <tr>\n",
       "      <th>1856167</th>\n",
       "      <td>1856167</td>\n",
       "      <td>6</td>\n",
       "      <td>2017-02-20</td>\n",
       "      <td>abs baso</td>\n",
       "      <td>0</td>\n",
       "      <td>Default Lab</td>\n",
       "      <td>Closed</td>\n",
       "      <td>NaN</td>\n",
       "      <td>Tma Doctor</td>\n",
       "    </tr>\n",
       "    <tr>\n",
       "      <th>1856168</th>\n",
       "      <td>1856168</td>\n",
       "      <td>6</td>\n",
       "      <td>2017-02-20</td>\n",
       "      <td>a/g ratio</td>\n",
       "      <td>NaN</td>\n",
       "      <td>Default Lab</td>\n",
       "      <td>Closed</td>\n",
       "      <td>NaN</td>\n",
       "      <td>Tma Doctor</td>\n",
       "    </tr>\n",
       "  </tbody>\n",
       "</table>\n",
       "<p>78 rows × 9 columns</p>\n",
       "</div>"
      ],
      "text/plain": [
       "         Unnamed: 0  TMA_Acct   Lab_Date        Code    Results  Lab_Company  \\\n",
       "1856091     1856091         6 2017-02-20         wbc        9.6  Default Lab   \n",
       "1856092     1856092         6 2017-02-20   vitamin d       39.6  Default Lab   \n",
       "1856093     1856093         6 2017-02-20  urine cr/r  264 MG/DL  Default Lab   \n",
       "1856094     1856094         6 2017-02-20   uric acid        7.9  Default Lab   \n",
       "1856095     1856095         6 2017-02-20  urea nitro         32  Default Lab   \n",
       "...             ...       ...        ...         ...        ...          ...   \n",
       "1856164     1856164         6 2017-02-20    abs mono          1  Default Lab   \n",
       "1856165     1856165         6 2017-02-20   abs lymph        2.1  Default Lab   \n",
       "1856166     1856166         6 2017-02-20   abs eosin        0.2  Default Lab   \n",
       "1856167     1856167         6 2017-02-20    abs baso          0  Default Lab   \n",
       "1856168     1856168         6 2017-02-20   a/g ratio        NaN  Default Lab   \n",
       "\n",
       "         Status Units Order_Doctor  \n",
       "1856091  Closed   NaN   Tma Doctor  \n",
       "1856092  Closed   NaN   Tma Doctor  \n",
       "1856093  Closed   NaN   Tma Doctor  \n",
       "1856094  Closed   NaN   Tma Doctor  \n",
       "1856095  Closed   NaN   Tma Doctor  \n",
       "...         ...   ...          ...  \n",
       "1856164  Closed   NaN   Tma Doctor  \n",
       "1856165  Closed   NaN   Tma Doctor  \n",
       "1856166  Closed   NaN   Tma Doctor  \n",
       "1856167  Closed   NaN   Tma Doctor  \n",
       "1856168  Closed   NaN   Tma Doctor  \n",
       "\n",
       "[78 rows x 9 columns]"
      ]
     },
     "execution_count": 23,
     "metadata": {},
     "output_type": "execute_result"
    }
   ],
   "source": [
    "old_lab[old_lab['TMA_Acct'] == 6]"
   ]
  },
  {
   "cell_type": "code",
   "execution_count": 57,
   "metadata": {},
   "outputs": [
    {
     "data": {
      "text/html": [
       "<div>\n",
       "<style scoped>\n",
       "    .dataframe tbody tr th:only-of-type {\n",
       "        vertical-align: middle;\n",
       "    }\n",
       "\n",
       "    .dataframe tbody tr th {\n",
       "        vertical-align: top;\n",
       "    }\n",
       "\n",
       "    .dataframe thead th {\n",
       "        text-align: right;\n",
       "    }\n",
       "</style>\n",
       "<table border=\"1\" class=\"dataframe\">\n",
       "  <thead>\n",
       "    <tr style=\"text-align: right;\">\n",
       "      <th></th>\n",
       "      <th>Unnamed: 0</th>\n",
       "      <th>Acct_No</th>\n",
       "      <th>Date</th>\n",
       "      <th>Code</th>\n",
       "      <th>Description</th>\n",
       "      <th>Unnamed: 4</th>\n",
       "    </tr>\n",
       "  </thead>\n",
       "  <tbody>\n",
       "    <tr>\n",
       "      <th>0</th>\n",
       "      <td>0</td>\n",
       "      <td>86</td>\n",
       "      <td>2017-08-11</td>\n",
       "      <td>T82.898A</td>\n",
       "      <td>Other specified complication of vascular prost...</td>\n",
       "      <td>NaN</td>\n",
       "    </tr>\n",
       "    <tr>\n",
       "      <th>1</th>\n",
       "      <td>1</td>\n",
       "      <td>86</td>\n",
       "      <td>2017-08-11</td>\n",
       "      <td>T82.858A</td>\n",
       "      <td>Stenosis of other vascular prosthetic devices,...</td>\n",
       "      <td>NaN</td>\n",
       "    </tr>\n",
       "  </tbody>\n",
       "</table>\n",
       "</div>"
      ],
      "text/plain": [
       "   Unnamed: 0  Acct_No        Date      Code  \\\n",
       "0           0       86  2017-08-11  T82.898A   \n",
       "1           1       86  2017-08-11  T82.858A   \n",
       "\n",
       "                                         Description  Unnamed: 4  \n",
       "0  Other specified complication of vascular prost...         NaN  \n",
       "1  Stenosis of other vascular prosthetic devices,...         NaN  "
      ]
     },
     "execution_count": 57,
     "metadata": {},
     "output_type": "execute_result"
    }
   ],
   "source": [
    "Diagnosis.head(2)"
   ]
  },
  {
   "cell_type": "code",
   "execution_count": 37,
   "metadata": {},
   "outputs": [
    {
     "data": {
      "text/plain": [
       "3037147"
      ]
     },
     "execution_count": 37,
     "metadata": {},
     "output_type": "execute_result"
    }
   ],
   "source": [
    "#len(pd.read_csv(\"lab_2017.csv\")) + len(pd.read_csv(\"lab_2018.csv\")) + len(pd.read_csv(\"lab_till_2017.csv\"))\n",
    "570649 + 622573 + 1730136"
   ]
  },
  {
   "cell_type": "code",
   "execution_count": 4,
   "metadata": {},
   "outputs": [],
   "source": [
    "# different names for the test\n",
    "new = new_lab[\"test_name\"].unique()\n",
    "old = old_lab[\"Code\"].unique()\n",
    "hemo = []\n",
    "for i in old:\n",
    "    i = str(i)\n",
    "    i = i.lower()\n",
    "    if \"hemo\" in i:\n",
    "        hemo.append(i)\n",
    "cre = []\n",
    "for i in old:\n",
    "    i = str(i)\n",
    "    i = i.lower()\n",
    "    if \"creatin\" in i:\n",
    "        #print(i)\n",
    "        cre.append(i)\n",
    "egfr = []\n",
    "for i in old:\n",
    "    i = str(i)\n",
    "    i = i.lower()\n",
    "    if \"egfr\" in i:\n",
    "        #print(i)\n",
    "        egfr.append(i)\n",
    "co2 = []\n",
    "for i in old:\n",
    "    i = str(i)\n",
    "    i = i.lower()\n",
    "    if \"co2\" in i:\n",
    "        #print(i)\n",
    "        co2.append(i)\n",
    "po4 = []\n",
    "for i in old:\n",
    "    i = str(i)\n",
    "    i = i.lower()\n",
    "    if \"phospha\" in i:\n",
    "        #print(i)\n",
    "        po4.append(i)\n",
    "pth = []\n",
    "for i in old:\n",
    "    i = str(i)\n",
    "    i = i.lower()\n",
    "    if \"parath\" in i:\n",
    "        #print(i)\n",
    "        pth.append(i)\n",
    "    if \"pth\" in i:\n",
    "        #print(i)\n",
    "        pth.append(i)\n",
    "protein = []\n",
    "for i in old:\n",
    "    i = str(i)\n",
    "    i = i.lower()\n",
    "    if \"protein\" in i:\n",
    "        #print(i)\n",
    "        protein.append(i)\n",
    "    if \"uacr\" in i:\n",
    "        print(i)\n",
    "        protein.append(i)\n",
    "co3 = []\n",
    "for i in old:\n",
    "    i = str(i)\n",
    "    i = i.lower()\n",
    "    if \"protein\" in i:\n",
    "        #print(i)\n",
    "        protein.append(i)\n",
    "    if \"uacr\" in i:\n",
    "        print(i)\n",
    "        protein.append(i)"
   ]
  },
  {
   "cell_type": "code",
   "execution_count": 23,
   "metadata": {},
   "outputs": [],
   "source": [
    "new = new_lab[\"test_name\"].unique()\n",
    "old = old_lab[\"test_name\"].unique()\n",
    "co3_old = []\n",
    "co3_new = []\n",
    "for i in old:\n",
    "    i = str(i)\n",
    "    i = i.lower()\n",
    "    if \"co3\" in i:\n",
    "        #print(i)\n",
    "        co3_old.append(i)\n",
    "for i in new:\n",
    "    i = str(i)\n",
    "    i = i.lower()\n",
    "    if \"co3\" in i:\n",
    "        #print(i)\n",
    "        co3_new.append(i)"
   ]
  },
  {
   "cell_type": "code",
   "execution_count": 8,
   "metadata": {},
   "outputs": [
    {
     "data": {
      "text/plain": [
       "['hco3', 'hco3-']"
      ]
     },
     "execution_count": 8,
     "metadata": {},
     "output_type": "execute_result"
    }
   ],
   "source": [
    "co3_old"
   ]
  },
  {
   "cell_type": "code",
   "execution_count": 24,
   "metadata": {},
   "outputs": [
    {
     "data": {
      "text/plain": [
       "[]"
      ]
     },
     "execution_count": 24,
     "metadata": {},
     "output_type": "execute_result"
    }
   ],
   "source": [
    "co3_new"
   ]
  },
  {
   "cell_type": "code",
   "execution_count": 25,
   "metadata": {},
   "outputs": [
    {
     "data": {
      "text/html": [
       "<div>\n",
       "<style scoped>\n",
       "    .dataframe tbody tr th:only-of-type {\n",
       "        vertical-align: middle;\n",
       "    }\n",
       "\n",
       "    .dataframe tbody tr th {\n",
       "        vertical-align: top;\n",
       "    }\n",
       "\n",
       "    .dataframe thead th {\n",
       "        text-align: right;\n",
       "    }\n",
       "</style>\n",
       "<table border=\"1\" class=\"dataframe\">\n",
       "  <thead>\n",
       "    <tr style=\"text-align: right;\">\n",
       "      <th></th>\n",
       "      <th>Unnamed: 0</th>\n",
       "      <th>TMA_Acct</th>\n",
       "      <th>date</th>\n",
       "      <th>test_name</th>\n",
       "      <th>result</th>\n",
       "      <th>Lab_Company</th>\n",
       "      <th>Status</th>\n",
       "      <th>Units</th>\n",
       "      <th>Order_Doctor</th>\n",
       "    </tr>\n",
       "  </thead>\n",
       "  <tbody>\n",
       "    <tr>\n",
       "      <th>2524046</th>\n",
       "      <td>2524046</td>\n",
       "      <td>8073</td>\n",
       "      <td>2018-07-01</td>\n",
       "      <td>hco3-</td>\n",
       "      <td>15.9</td>\n",
       "      <td>Washington Hospital</td>\n",
       "      <td>Closed</td>\n",
       "      <td>mmol/L</td>\n",
       "      <td>Nirav D. Patel, M.D.</td>\n",
       "    </tr>\n",
       "    <tr>\n",
       "      <th>2678630</th>\n",
       "      <td>2678630</td>\n",
       "      <td>50519</td>\n",
       "      <td>2018-05-07</td>\n",
       "      <td>hco3-</td>\n",
       "      <td>27.4</td>\n",
       "      <td>N2N/CCD Import</td>\n",
       "      <td>Closed</td>\n",
       "      <td>mmol/L</td>\n",
       "      <td>NaN</td>\n",
       "    </tr>\n",
       "    <tr>\n",
       "      <th>2678778</th>\n",
       "      <td>2678778</td>\n",
       "      <td>50519</td>\n",
       "      <td>2018-05-05</td>\n",
       "      <td>hco3-</td>\n",
       "      <td>23.1</td>\n",
       "      <td>N2N/CCD Import</td>\n",
       "      <td>Closed</td>\n",
       "      <td>mmol/L</td>\n",
       "      <td>NaN</td>\n",
       "    </tr>\n",
       "    <tr>\n",
       "      <th>2678898</th>\n",
       "      <td>2678898</td>\n",
       "      <td>50519</td>\n",
       "      <td>2018-05-04</td>\n",
       "      <td>hco3-</td>\n",
       "      <td>23.2</td>\n",
       "      <td>N2N/CCD Import</td>\n",
       "      <td>Closed</td>\n",
       "      <td>mmol/L</td>\n",
       "      <td>NaN</td>\n",
       "    </tr>\n",
       "    <tr>\n",
       "      <th>2678899</th>\n",
       "      <td>2678899</td>\n",
       "      <td>50519</td>\n",
       "      <td>2018-05-04</td>\n",
       "      <td>hco3-</td>\n",
       "      <td>22.1</td>\n",
       "      <td>N2N/CCD Import</td>\n",
       "      <td>Closed</td>\n",
       "      <td>mmol/L</td>\n",
       "      <td>NaN</td>\n",
       "    </tr>\n",
       "    <tr>\n",
       "      <th>2704936</th>\n",
       "      <td>2704936</td>\n",
       "      <td>42145</td>\n",
       "      <td>2018-05-25</td>\n",
       "      <td>hco3-</td>\n",
       "      <td>31.3</td>\n",
       "      <td>Washington Hospital</td>\n",
       "      <td>Closed</td>\n",
       "      <td>mmol/L</td>\n",
       "      <td>Joshua C. Sysak, DO</td>\n",
       "    </tr>\n",
       "  </tbody>\n",
       "</table>\n",
       "</div>"
      ],
      "text/plain": [
       "         Unnamed: 0  TMA_Acct       date test_name result  \\\n",
       "2524046     2524046      8073 2018-07-01     hco3-   15.9   \n",
       "2678630     2678630     50519 2018-05-07     hco3-   27.4   \n",
       "2678778     2678778     50519 2018-05-05     hco3-   23.1   \n",
       "2678898     2678898     50519 2018-05-04     hco3-   23.2   \n",
       "2678899     2678899     50519 2018-05-04     hco3-   22.1   \n",
       "2704936     2704936     42145 2018-05-25     hco3-   31.3   \n",
       "\n",
       "                 Lab_Company  Status   Units          Order_Doctor  \n",
       "2524046  Washington Hospital  Closed  mmol/L  Nirav D. Patel, M.D.  \n",
       "2678630       N2N/CCD Import  Closed  mmol/L                   NaN  \n",
       "2678778       N2N/CCD Import  Closed  mmol/L                   NaN  \n",
       "2678898       N2N/CCD Import  Closed  mmol/L                   NaN  \n",
       "2678899       N2N/CCD Import  Closed  mmol/L                   NaN  \n",
       "2704936  Washington Hospital  Closed  mmol/L   Joshua C. Sysak, DO  "
      ]
     },
     "execution_count": 25,
     "metadata": {},
     "output_type": "execute_result"
    }
   ],
   "source": [
    "old_lab[old_lab['test_name'] == 'hco3-']"
   ]
  },
  {
   "cell_type": "code",
   "execution_count": 10,
   "metadata": {},
   "outputs": [
    {
     "name": "stdout",
     "output_type": "stream",
     "text": [
      "hco3: [nan]\n",
      "hco3-: ['mmol/L']\n"
     ]
    }
   ],
   "source": [
    "co3 = ['hco3', 'hco3-']\n",
    "get_unit(new_lab, old_lab, co3)"
   ]
  },
  {
   "cell_type": "code",
   "execution_count": 22,
   "metadata": {},
   "outputs": [
    {
     "data": {
      "text/html": [
       "<div>\n",
       "<style scoped>\n",
       "    .dataframe tbody tr th:only-of-type {\n",
       "        vertical-align: middle;\n",
       "    }\n",
       "\n",
       "    .dataframe tbody tr th {\n",
       "        vertical-align: top;\n",
       "    }\n",
       "\n",
       "    .dataframe thead th {\n",
       "        text-align: right;\n",
       "    }\n",
       "</style>\n",
       "<table border=\"1\" class=\"dataframe\">\n",
       "  <thead>\n",
       "    <tr style=\"text-align: right;\">\n",
       "      <th></th>\n",
       "      <th>Unnamed: 0</th>\n",
       "      <th>TMA_Acct</th>\n",
       "      <th>dos_deidentified</th>\n",
       "      <th>clinic_name_deidentified</th>\n",
       "      <th>test_name</th>\n",
       "      <th>result</th>\n",
       "      <th>Units</th>\n",
       "      <th>abnormal_flag</th>\n",
       "      <th>range_low_value</th>\n",
       "      <th>range_high_value</th>\n",
       "      <th>loinc_code</th>\n",
       "      <th>date</th>\n",
       "    </tr>\n",
       "  </thead>\n",
       "  <tbody>\n",
       "  </tbody>\n",
       "</table>\n",
       "</div>"
      ],
      "text/plain": [
       "Empty DataFrame\n",
       "Columns: [Unnamed: 0, TMA_Acct, dos_deidentified, clinic_name_deidentified, test_name, result, Units, abnormal_flag, range_low_value, range_high_value, loinc_code, date]\n",
       "Index: []"
      ]
     },
     "execution_count": 22,
     "metadata": {},
     "output_type": "execute_result"
    }
   ],
   "source": [
    "new_lab[new_lab['test_name'] == 'hco3']"
   ]
  },
  {
   "cell_type": "code",
   "execution_count": 31,
   "metadata": {},
   "outputs": [
    {
     "data": {
      "text/html": [
       "<div>\n",
       "<style scoped>\n",
       "    .dataframe tbody tr th:only-of-type {\n",
       "        vertical-align: middle;\n",
       "    }\n",
       "\n",
       "    .dataframe tbody tr th {\n",
       "        vertical-align: top;\n",
       "    }\n",
       "\n",
       "    .dataframe thead th {\n",
       "        text-align: right;\n",
       "    }\n",
       "</style>\n",
       "<table border=\"1\" class=\"dataframe\">\n",
       "  <thead>\n",
       "    <tr style=\"text-align: right;\">\n",
       "      <th></th>\n",
       "      <th>TMA_Acct</th>\n",
       "      <th>Race</th>\n",
       "      <th>Ethnicity</th>\n",
       "    </tr>\n",
       "  </thead>\n",
       "  <tbody>\n",
       "    <tr>\n",
       "      <th>0</th>\n",
       "      <td>9</td>\n",
       "      <td>White</td>\n",
       "      <td>None</td>\n",
       "    </tr>\n",
       "    <tr>\n",
       "      <th>1</th>\n",
       "      <td>12</td>\n",
       "      <td>White</td>\n",
       "      <td>None</td>\n",
       "    </tr>\n",
       "    <tr>\n",
       "      <th>2</th>\n",
       "      <td>37</td>\n",
       "      <td>White</td>\n",
       "      <td>Not of Spanish/Hispanic Origin</td>\n",
       "    </tr>\n",
       "    <tr>\n",
       "      <th>3</th>\n",
       "      <td>55</td>\n",
       "      <td>White</td>\n",
       "      <td>None</td>\n",
       "    </tr>\n",
       "    <tr>\n",
       "      <th>4</th>\n",
       "      <td>63</td>\n",
       "      <td>White</td>\n",
       "      <td>None</td>\n",
       "    </tr>\n",
       "    <tr>\n",
       "      <th>...</th>\n",
       "      <td>...</td>\n",
       "      <td>...</td>\n",
       "      <td>...</td>\n",
       "    </tr>\n",
       "    <tr>\n",
       "      <th>9669</th>\n",
       "      <td>9737</td>\n",
       "      <td>White</td>\n",
       "      <td>Declined to Specify / Unknown</td>\n",
       "    </tr>\n",
       "    <tr>\n",
       "      <th>9670</th>\n",
       "      <td>9791</td>\n",
       "      <td>White</td>\n",
       "      <td>Not Hispanic / Latino</td>\n",
       "    </tr>\n",
       "    <tr>\n",
       "      <th>9671</th>\n",
       "      <td>9801</td>\n",
       "      <td>White</td>\n",
       "      <td>Declined to Specify / Unknown</td>\n",
       "    </tr>\n",
       "    <tr>\n",
       "      <th>9672</th>\n",
       "      <td>9869</td>\n",
       "      <td>White</td>\n",
       "      <td>Declined to Specify / Unknown</td>\n",
       "    </tr>\n",
       "    <tr>\n",
       "      <th>9673</th>\n",
       "      <td>9933</td>\n",
       "      <td>Black / African American</td>\n",
       "      <td>Not Hispanic / Latino</td>\n",
       "    </tr>\n",
       "  </tbody>\n",
       "</table>\n",
       "<p>9674 rows × 3 columns</p>\n",
       "</div>"
      ],
      "text/plain": [
       "      TMA_Acct                      Race                       Ethnicity\n",
       "0            9                     White                            None\n",
       "1           12                     White                            None\n",
       "2           37                     White  Not of Spanish/Hispanic Origin\n",
       "3           55                     White                            None\n",
       "4           63                     White                            None\n",
       "...        ...                       ...                             ...\n",
       "9669      9737                     White   Declined to Specify / Unknown\n",
       "9670      9791                     White           Not Hispanic / Latino\n",
       "9671      9801                     White   Declined to Specify / Unknown\n",
       "9672      9869                     White   Declined to Specify / Unknown\n",
       "9673      9933  Black / African American           Not Hispanic / Latino\n",
       "\n",
       "[9674 rows x 3 columns]"
      ]
     },
     "execution_count": 31,
     "metadata": {},
     "output_type": "execute_result"
    }
   ],
   "source": [
    "import sqlite3\n",
    "conn = sqlite3.connect(':memory:')\n",
    "race.to_sql('race', conn, index=False)\n",
    "qry1 = '''\n",
    "    select *\n",
    "    from race\n",
    "    where Ethnicity is not NULL or Race is not null\n",
    "    '''\n",
    "race_keep = pd.read_sql_query(qry1, conn)\n",
    "race_keep"
   ]
  },
  {
   "cell_type": "code",
   "execution_count": 50,
   "metadata": {},
   "outputs": [
    {
     "data": {
      "text/html": [
       "<div>\n",
       "<style scoped>\n",
       "    .dataframe tbody tr th:only-of-type {\n",
       "        vertical-align: middle;\n",
       "    }\n",
       "\n",
       "    .dataframe tbody tr th {\n",
       "        vertical-align: top;\n",
       "    }\n",
       "\n",
       "    .dataframe thead th {\n",
       "        text-align: right;\n",
       "    }\n",
       "</style>\n",
       "<table border=\"1\" class=\"dataframe\">\n",
       "  <thead>\n",
       "    <tr style=\"text-align: right;\">\n",
       "      <th></th>\n",
       "      <th>TMA_Acct</th>\n",
       "      <th>Race</th>\n",
       "      <th>Ethnicity</th>\n",
       "    </tr>\n",
       "  </thead>\n",
       "  <tbody>\n",
       "    <tr>\n",
       "      <th>0</th>\n",
       "      <td>86</td>\n",
       "      <td>White</td>\n",
       "      <td>Unknown</td>\n",
       "    </tr>\n",
       "    <tr>\n",
       "      <th>1</th>\n",
       "      <td>97</td>\n",
       "      <td>White</td>\n",
       "      <td>Not of Spanish/Hispanic Origin</td>\n",
       "    </tr>\n",
       "    <tr>\n",
       "      <th>2</th>\n",
       "      <td>125</td>\n",
       "      <td>White</td>\n",
       "      <td>Not of Spanish/Hispanic Origin</td>\n",
       "    </tr>\n",
       "    <tr>\n",
       "      <th>3</th>\n",
       "      <td>214</td>\n",
       "      <td>White</td>\n",
       "      <td>Not of Spanish/Hispanic Origin</td>\n",
       "    </tr>\n",
       "    <tr>\n",
       "      <th>4</th>\n",
       "      <td>215</td>\n",
       "      <td>White</td>\n",
       "      <td>None</td>\n",
       "    </tr>\n",
       "    <tr>\n",
       "      <th>...</th>\n",
       "      <td>...</td>\n",
       "      <td>...</td>\n",
       "      <td>...</td>\n",
       "    </tr>\n",
       "    <tr>\n",
       "      <th>1589</th>\n",
       "      <td>46892</td>\n",
       "      <td>White</td>\n",
       "      <td>None</td>\n",
       "    </tr>\n",
       "    <tr>\n",
       "      <th>1590</th>\n",
       "      <td>46896</td>\n",
       "      <td>White</td>\n",
       "      <td>None</td>\n",
       "    </tr>\n",
       "    <tr>\n",
       "      <th>1591</th>\n",
       "      <td>46927</td>\n",
       "      <td>White</td>\n",
       "      <td>None</td>\n",
       "    </tr>\n",
       "    <tr>\n",
       "      <th>1592</th>\n",
       "      <td>46942</td>\n",
       "      <td>Black/African American</td>\n",
       "      <td>None</td>\n",
       "    </tr>\n",
       "    <tr>\n",
       "      <th>1593</th>\n",
       "      <td>46985</td>\n",
       "      <td>White</td>\n",
       "      <td>None</td>\n",
       "    </tr>\n",
       "  </tbody>\n",
       "</table>\n",
       "<p>1594 rows × 3 columns</p>\n",
       "</div>"
      ],
      "text/plain": [
       "      TMA_Acct                    Race                       Ethnicity\n",
       "0           86                   White                         Unknown\n",
       "1           97                   White  Not of Spanish/Hispanic Origin\n",
       "2          125                   White  Not of Spanish/Hispanic Origin\n",
       "3          214                   White  Not of Spanish/Hispanic Origin\n",
       "4          215                   White                            None\n",
       "...        ...                     ...                             ...\n",
       "1589     46892                   White                            None\n",
       "1590     46896                   White                            None\n",
       "1591     46927                   White                            None\n",
       "1592     46942  Black/African American                            None\n",
       "1593     46985                   White                            None\n",
       "\n",
       "[1594 rows x 3 columns]"
      ]
     },
     "execution_count": 50,
     "metadata": {},
     "output_type": "execute_result"
    }
   ],
   "source": [
    "import sqlite3\n",
    "conn = sqlite3.connect(':memory:')\n",
    "race.to_sql('race', conn, index=False)\n",
    "qry1 = '''\n",
    "    select *\n",
    "    from race\n",
    "    group by TMA_Acct\n",
    "    having count(*) > 1\n",
    "    '''\n",
    "pd.read_sql_query(qry1, conn)"
   ]
  },
  {
   "cell_type": "code",
   "execution_count": 13,
   "metadata": {},
   "outputs": [
    {
     "data": {
      "text/plain": [
       "9"
      ]
     },
     "execution_count": 13,
     "metadata": {},
     "output_type": "execute_result"
    }
   ],
   "source": [
    "min(maping['claim_number_deidentified']) # 1 - 6295280\n",
    "min(maping['TMA_Acct']) # 9 - 50970"
   ]
  },
  {
   "cell_type": "code",
   "execution_count": 3,
   "metadata": {},
   "outputs": [
    {
     "data": {
      "text/html": [
       "<div>\n",
       "<style scoped>\n",
       "    .dataframe tbody tr th:only-of-type {\n",
       "        vertical-align: middle;\n",
       "    }\n",
       "\n",
       "    .dataframe tbody tr th {\n",
       "        vertical-align: top;\n",
       "    }\n",
       "\n",
       "    .dataframe thead th {\n",
       "        text-align: right;\n",
       "    }\n",
       "</style>\n",
       "<table border=\"1\" class=\"dataframe\">\n",
       "  <thead>\n",
       "    <tr style=\"text-align: right;\">\n",
       "      <th></th>\n",
       "      <th>Unnamed: 0</th>\n",
       "      <th>TMA_Acct</th>\n",
       "      <th>dos_deidentified</th>\n",
       "      <th>clinic_name_deidentified</th>\n",
       "      <th>test_name</th>\n",
       "      <th>test_result</th>\n",
       "      <th>test_unit</th>\n",
       "      <th>abnormal_flag</th>\n",
       "      <th>range_low_value</th>\n",
       "      <th>range_high_value</th>\n",
       "      <th>loinc_code</th>\n",
       "      <th>date</th>\n",
       "    </tr>\n",
       "  </thead>\n",
       "  <tbody>\n",
       "    <tr>\n",
       "      <th>0</th>\n",
       "      <td>0</td>\n",
       "      <td>1483</td>\n",
       "      <td>15</td>\n",
       "      <td>1.0</td>\n",
       "      <td>rbc/hpf cells</td>\n",
       "      <td>0.0</td>\n",
       "      <td>NaN</td>\n",
       "      <td></td>\n",
       "      <td>0.0</td>\n",
       "      <td>3.0</td>\n",
       "      <td>58081</td>\n",
       "      <td>2010-01-16</td>\n",
       "    </tr>\n",
       "    <tr>\n",
       "      <th>1</th>\n",
       "      <td>1</td>\n",
       "      <td>49053</td>\n",
       "      <td>2759</td>\n",
       "      <td>2.0</td>\n",
       "      <td>ld</td>\n",
       "      <td>237.0</td>\n",
       "      <td>UNITS</td>\n",
       "      <td></td>\n",
       "      <td>120.0</td>\n",
       "      <td>250.0</td>\n",
       "      <td>25320</td>\n",
       "      <td>2017-07-22</td>\n",
       "    </tr>\n",
       "  </tbody>\n",
       "</table>\n",
       "</div>"
      ],
      "text/plain": [
       "   Unnamed: 0  TMA_Acct  dos_deidentified  clinic_name_deidentified  \\\n",
       "0           0      1483                15                       1.0   \n",
       "1           1     49053              2759                       2.0   \n",
       "\n",
       "       test_name  test_result test_unit abnormal_flag  range_low_value  \\\n",
       "0  rbc/hpf cells          0.0       NaN                            0.0   \n",
       "1             ld        237.0     UNITS                          120.0   \n",
       "\n",
       "   range_high_value loinc_code        date  \n",
       "0               3.0      58081  2010-01-16  \n",
       "1             250.0      25320  2017-07-22  "
      ]
     },
     "execution_count": 3,
     "metadata": {},
     "output_type": "execute_result"
    }
   ],
   "source": [
    "new_lab.head(2)"
   ]
  },
  {
   "cell_type": "code",
   "execution_count": 7,
   "metadata": {},
   "outputs": [
    {
     "name": "stdout",
     "output_type": "stream",
     "text": [
      "986691\n",
      "4505\n",
      "2010-01-03\n",
      "2020-04-19\n"
     ]
    }
   ],
   "source": [
    "print(len(new_lab))\n",
    "print(len(new_lab[\"TMA_Acct\"].unique()))\n",
    "print(min(new_lab[\"date\"]))\n",
    "print(max(new_lab[\"date\"]))"
   ]
  },
  {
   "cell_type": "code",
   "execution_count": 14,
   "metadata": {},
   "outputs": [
    {
     "name": "stdout",
     "output_type": "stream",
     "text": [
      "2\n",
      "5\n"
     ]
    }
   ],
   "source": [
    "new_co2_1 = new_lab[new_lab[\"test_name\"] == \"co2\"] #2\n",
    "new_co2_2 = new_lab[new_lab[\"test_name\"] == 'carbon dioxide (co2)'] #5\n",
    "print(len(new_co2_1))\n",
    "print(len(new_co2_2))\n",
    "new_co2 = pd.concat([new_co2_1, new_co2_2], axis = 0)"
   ]
  },
  {
   "cell_type": "code",
   "execution_count": 16,
   "metadata": {},
   "outputs": [],
   "source": [
    "new_co2 = new_co2[1:]"
   ]
  },
  {
   "cell_type": "code",
   "execution_count": 4,
   "metadata": {},
   "outputs": [
    {
     "data": {
      "text/html": [
       "<div>\n",
       "<style scoped>\n",
       "    .dataframe tbody tr th:only-of-type {\n",
       "        vertical-align: middle;\n",
       "    }\n",
       "\n",
       "    .dataframe tbody tr th {\n",
       "        vertical-align: top;\n",
       "    }\n",
       "\n",
       "    .dataframe thead th {\n",
       "        text-align: right;\n",
       "    }\n",
       "</style>\n",
       "<table border=\"1\" class=\"dataframe\">\n",
       "  <thead>\n",
       "    <tr style=\"text-align: right;\">\n",
       "      <th></th>\n",
       "      <th>Unnamed: 0</th>\n",
       "      <th>TMA_Acct</th>\n",
       "      <th>Lab_Date</th>\n",
       "      <th>Code</th>\n",
       "      <th>Results</th>\n",
       "      <th>Lab_Company</th>\n",
       "      <th>Status</th>\n",
       "      <th>Units</th>\n",
       "      <th>Order_Doctor</th>\n",
       "    </tr>\n",
       "  </thead>\n",
       "  <tbody>\n",
       "    <tr>\n",
       "      <th>0</th>\n",
       "      <td>0</td>\n",
       "      <td>9</td>\n",
       "      <td>2008-08-29</td>\n",
       "      <td>iron tibc</td>\n",
       "      <td>305.6</td>\n",
       "      <td>ALIQHOSP</td>\n",
       "      <td>NaN</td>\n",
       "      <td>NaN</td>\n",
       "      <td>NaN</td>\n",
       "    </tr>\n",
       "    <tr>\n",
       "      <th>1</th>\n",
       "      <td>1</td>\n",
       "      <td>9</td>\n",
       "      <td>2005-01-03</td>\n",
       "      <td>hemoglobin</td>\n",
       "      <td>13.4</td>\n",
       "      <td>ALIQHOSP</td>\n",
       "      <td>NaN</td>\n",
       "      <td>NaN</td>\n",
       "      <td>NaN</td>\n",
       "    </tr>\n",
       "  </tbody>\n",
       "</table>\n",
       "</div>"
      ],
      "text/plain": [
       "   Unnamed: 0  TMA_Acct   Lab_Date        Code Results Lab_Company Status  \\\n",
       "0           0         9 2008-08-29   iron tibc   305.6    ALIQHOSP    NaN   \n",
       "1           1         9 2005-01-03  hemoglobin    13.4    ALIQHOSP    NaN   \n",
       "\n",
       "  Units Order_Doctor  \n",
       "0   NaN          NaN  \n",
       "1   NaN          NaN  "
      ]
     },
     "execution_count": 4,
     "metadata": {},
     "output_type": "execute_result"
    }
   ],
   "source": [
    "old_lab.head(2)"
   ]
  },
  {
   "cell_type": "code",
   "execution_count": 8,
   "metadata": {},
   "outputs": [
    {
     "name": "stdout",
     "output_type": "stream",
     "text": [
      "2923358\n",
      "12947\n",
      "1990-08-06 00:00:00\n",
      "2018-12-31 00:00:00\n"
     ]
    }
   ],
   "source": [
    "print(len(old_lab))\n",
    "print(len(old_lab[\"TMA_Acct\"].unique()))\n",
    "print(min(old_lab[\"Lab_Date\"]))\n",
    "print(max(old_lab[\"Lab_Date\"]))"
   ]
  },
  {
   "cell_type": "code",
   "execution_count": 12,
   "metadata": {},
   "outputs": [
    {
     "name": "stdout",
     "output_type": "stream",
     "text": [
      "93\n",
      "0\n",
      "93\n"
     ]
    }
   ],
   "source": [
    "old_co2_1 = old_lab[old_lab[\"Code\"] == \"co2\"] #93\n",
    "old_co2_2 = old_lab[old_lab[\"Code\"] == 'carbon dioxide (co2)'] #0\n",
    "print(len(old_co2_1))\n",
    "print(len(old_co2_2))\n",
    "old_co2 = old_co2_1\n",
    "print(len(old_co2))"
   ]
  },
  {
   "cell_type": "code",
   "execution_count": 5,
   "metadata": {},
   "outputs": [
    {
     "data": {
      "text/plain": [
       "986691"
      ]
     },
     "execution_count": 5,
     "metadata": {},
     "output_type": "execute_result"
    }
   ],
   "source": [
    "len(new_lab)"
   ]
  },
  {
   "cell_type": "markdown",
   "metadata": {},
   "source": [
    "lab_till_2017 = pd.read_csv(\"lab_till_2017.csv\")\n",
    "lab_till_2017 = lab_till_2017[[\"Unnamed: 0\", \"Acct_Nr\", \"Lab_Date\", \"Code\", \"Results\", \"Lab_Company\", \"Status\", \"Units\", \"Order_Doctor\"]]\n",
    "lab_201718 = pd.read_csv(\"lab_201718.csv\")\n",
    "lab_201718 = lab_201718[[\"Unnamed: 0\", \"Acct_no\", \"Date\", \"Code\", \"Results\", \"Lab Company\", \"Status\", \"Units\", \"Order Doctor\"]]\n",
    "lab_201718.rename(columns={\"Acct_no\": \"Acct_Nr\", \"Date\": \"Lab_Date\", \"Lab Company\": \"Lab_Company\", \"Order Doctor\": \"Order_Doctor\"}, inplace = 'True')"
   ]
  },
  {
   "cell_type": "code",
   "execution_count": 17,
   "metadata": {},
   "outputs": [
    {
     "data": {
      "text/html": [
       "<div>\n",
       "<style scoped>\n",
       "    .dataframe tbody tr th:only-of-type {\n",
       "        vertical-align: middle;\n",
       "    }\n",
       "\n",
       "    .dataframe tbody tr th {\n",
       "        vertical-align: top;\n",
       "    }\n",
       "\n",
       "    .dataframe thead th {\n",
       "        text-align: right;\n",
       "    }\n",
       "</style>\n",
       "<table border=\"1\" class=\"dataframe\">\n",
       "  <thead>\n",
       "    <tr style=\"text-align: right;\">\n",
       "      <th></th>\n",
       "      <th>Unnamed: 0</th>\n",
       "      <th>TMA_Acct</th>\n",
       "      <th>Lab_Date</th>\n",
       "      <th>Code</th>\n",
       "      <th>Results</th>\n",
       "      <th>Lab_Company</th>\n",
       "      <th>Status</th>\n",
       "      <th>Units</th>\n",
       "      <th>Order_Doctor</th>\n",
       "    </tr>\n",
       "  </thead>\n",
       "  <tbody>\n",
       "    <tr>\n",
       "      <th>851179</th>\n",
       "      <td>851179</td>\n",
       "      <td>19138</td>\n",
       "      <td>2016-11-18</td>\n",
       "      <td>co2</td>\n",
       "      <td>34</td>\n",
       "      <td>N2N/CCD Import</td>\n",
       "      <td>Closed</td>\n",
       "      <td>mmol/L</td>\n",
       "      <td>NaN</td>\n",
       "    </tr>\n",
       "    <tr>\n",
       "      <th>851413</th>\n",
       "      <td>851413</td>\n",
       "      <td>19138</td>\n",
       "      <td>2016-11-20</td>\n",
       "      <td>co2</td>\n",
       "      <td>31</td>\n",
       "      <td>N2N/CCD Import</td>\n",
       "      <td>Closed</td>\n",
       "      <td>mmol/L</td>\n",
       "      <td>NaN</td>\n",
       "    </tr>\n",
       "  </tbody>\n",
       "</table>\n",
       "</div>"
      ],
      "text/plain": [
       "        Unnamed: 0  TMA_Acct   Lab_Date Code Results     Lab_Company  Status  \\\n",
       "851179      851179     19138 2016-11-18  co2      34  N2N/CCD Import  Closed   \n",
       "851413      851413     19138 2016-11-20  co2      31  N2N/CCD Import  Closed   \n",
       "\n",
       "         Units Order_Doctor  \n",
       "851179  mmol/L          NaN  \n",
       "851413  mmol/L          NaN  "
      ]
     },
     "execution_count": 17,
     "metadata": {},
     "output_type": "execute_result"
    }
   ],
   "source": [
    "old_co2.head(2)"
   ]
  },
  {
   "cell_type": "code",
   "execution_count": 21,
   "metadata": {},
   "outputs": [
    {
     "data": {
      "text/plain": [
       "44"
      ]
     },
     "execution_count": 21,
     "metadata": {},
     "output_type": "execute_result"
    }
   ],
   "source": [
    "len(old_co2[\"TMA_Acct\"].unique())"
   ]
  },
  {
   "cell_type": "code",
   "execution_count": 24,
   "metadata": {},
   "outputs": [
    {
     "data": {
      "text/html": [
       "<div>\n",
       "<style scoped>\n",
       "    .dataframe tbody tr th:only-of-type {\n",
       "        vertical-align: middle;\n",
       "    }\n",
       "\n",
       "    .dataframe tbody tr th {\n",
       "        vertical-align: top;\n",
       "    }\n",
       "\n",
       "    .dataframe thead th {\n",
       "        text-align: right;\n",
       "    }\n",
       "</style>\n",
       "<table border=\"1\" class=\"dataframe\">\n",
       "  <thead>\n",
       "    <tr style=\"text-align: right;\">\n",
       "      <th></th>\n",
       "      <th>TMA_Acct</th>\n",
       "      <th>date</th>\n",
       "      <th>test_result</th>\n",
       "    </tr>\n",
       "  </thead>\n",
       "  <tbody>\n",
       "    <tr>\n",
       "      <th>750263</th>\n",
       "      <td>17425</td>\n",
       "      <td>2013-05-24</td>\n",
       "      <td>26.0</td>\n",
       "    </tr>\n",
       "    <tr>\n",
       "      <th>70074</th>\n",
       "      <td>42485</td>\n",
       "      <td>2017-07-19</td>\n",
       "      <td>22.0</td>\n",
       "    </tr>\n",
       "  </tbody>\n",
       "</table>\n",
       "</div>"
      ],
      "text/plain": [
       "        TMA_Acct        date  test_result\n",
       "750263     17425  2013-05-24         26.0\n",
       "70074      42485  2017-07-19         22.0"
      ]
     },
     "execution_count": 24,
     "metadata": {},
     "output_type": "execute_result"
    }
   ],
   "source": [
    "new_co2.head(2)"
   ]
  },
  {
   "cell_type": "code",
   "execution_count": 22,
   "metadata": {},
   "outputs": [
    {
     "data": {
      "text/plain": [
       "3"
      ]
     },
     "execution_count": 22,
     "metadata": {},
     "output_type": "execute_result"
    }
   ],
   "source": [
    "len(new_co2[\"TMA_Acct\"].unique())"
   ]
  },
  {
   "cell_type": "code",
   "execution_count": 27,
   "metadata": {},
   "outputs": [],
   "source": [
    "old_co2 = old_co2[[\"TMA_Acct\", \"Lab_Date\", \"Results\"]]\n",
    "new_co2 = new_co2[[\"TMA_Acct\", \"date\", \"test_result\"]]\n",
    "new_co2.rename(columns={\"date\": \"Lab_Date\", \"test_result\": \"Results\"}, inplace = 'True')\n",
    "co2 = pd.concat([old_co2, new_co2], axis = 0)"
   ]
  },
  {
   "cell_type": "code",
   "execution_count": 30,
   "metadata": {},
   "outputs": [],
   "source": [
    "co2[\"Lab_Date\"] =  pd.to_datetime(co2.Lab_Date)"
   ]
  },
  {
   "cell_type": "code",
   "execution_count": 33,
   "metadata": {},
   "outputs": [],
   "source": [
    "co2[\"mindate\"] = min(co2[\"Lab_Date\"])\n",
    "co2[\"Time\"] = np.floor(((pd.to_datetime(co2['Lab_Date']) - pd.to_datetime(co2['mindate'])).dt.days) / 180) + 1\n",
    "co2[\"Results\"] = co2[\"Results\"].astype(float)\n",
    "co2_agg = co2.groupby([\"TMA_Acct\", \"Time\"]).agg({\"Results\": np.mean})\n",
    "co2_agg = co2_agg.reset_index()\n",
    "import sqlite3\n",
    "conn = sqlite3.connect(':memory:')\n",
    "co2_agg.to_sql('co2_agg', conn, index=False)\n",
    "qry1 = '''\n",
    "    select *\n",
    "    from co2_agg\n",
    "    where TMA_Acct in (select TMA_Acct from co2_agg group by TMA_Acct having count(*) > 2)\n",
    "    '''\n",
    "co2_keep = pd.read_sql_query(qry1, conn)"
   ]
  },
  {
   "cell_type": "code",
   "execution_count": 3,
   "metadata": {},
   "outputs": [],
   "source": [
    "check = pd.read_csv(\"bothindata_with_nultipletma.csv\")"
   ]
  },
  {
   "cell_type": "code",
   "execution_count": 19,
   "metadata": {},
   "outputs": [],
   "source": [
    "check = pd.read_csv(\"bothindata_with_nultipletma.csv\")\n",
    "acct = []\n",
    "for i in check[\"TMA Acct#\"]:\n",
    "    #print(i)\n",
    "    acct.extend(i[1:len(i)-1].split(' '))\n",
    "acct = [int(i) for i in acct if i != '']\n",
    "len(acct)"
   ]
  },
  {
   "cell_type": "code",
   "execution_count": 35,
   "metadata": {},
   "outputs": [
    {
     "data": {
      "text/plain": [
       "291"
      ]
     },
     "execution_count": 35,
     "metadata": {},
     "output_type": "execute_result"
    }
   ],
   "source": [
    "acct = [int(i) for i in acct if i != '']\n",
    "len(acct)"
   ]
  },
  {
   "cell_type": "code",
   "execution_count": 25,
   "metadata": {},
   "outputs": [],
   "source": [
    "master_acct = master[\"TMA_Acct\"].unique()"
   ]
  },
  {
   "cell_type": "code",
   "execution_count": 33,
   "metadata": {},
   "outputs": [
    {
     "data": {
      "text/plain": [
       "array([    9,    12,    16, ..., 49940, 49501, 37557], dtype=int64)"
      ]
     },
     "execution_count": 33,
     "metadata": {},
     "output_type": "execute_result"
    }
   ],
   "source": [
    "old_lab_acct = old_lab[\"TMA_Acct\"].unique()\n",
    "old_lab_acct"
   ]
  },
  {
   "cell_type": "code",
   "execution_count": 29,
   "metadata": {},
   "outputs": [],
   "source": [
    "new_lab_acct = new_lab[\"TMA_Acct\"].unique()"
   ]
  },
  {
   "cell_type": "code",
   "execution_count": 36,
   "metadata": {},
   "outputs": [],
   "source": [
    "acct_in_old = []\n",
    "acct_not_in_old = []\n",
    "acct_in_new = []\n",
    "acct_not_in_new = []\n",
    "for i in acct:\n",
    "    #print(type(i))\n",
    "    if i in old_lab_acct:\n",
    "        acct_in_old.append(i)\n",
    "    if i not in old_lab_acct:\n",
    "        acct_not_in_old.append(i)\n",
    "    if i in new_lab_acct:\n",
    "        acct_in_new.append(i)\n",
    "    if i not in new_lab_acct:\n",
    "        acct_not_in_new.append(i)"
   ]
  },
  {
   "cell_type": "code",
   "execution_count": 39,
   "metadata": {},
   "outputs": [
    {
     "data": {
      "text/plain": [
       "291"
      ]
     },
     "execution_count": 39,
     "metadata": {},
     "output_type": "execute_result"
    }
   ],
   "source": [
    "len(acct_in_new) + len(acct_not_in_new)"
   ]
  },
  {
   "cell_type": "code",
   "execution_count": 51,
   "metadata": {},
   "outputs": [],
   "source": [
    "filename = 'acct_in_master.txt'\n",
    "with open(filename,'w') as f: # 如果filename不存在会自动创建， 'w'表示写数据，写之前会清空文件中的原有数据！\n",
    "    for i in acct_in_master:\n",
    "        f.write(str(i) + '\\n')"
   ]
  },
  {
   "cell_type": "code",
   "execution_count": 49,
   "metadata": {},
   "outputs": [],
   "source": [
    "acct_in_master = []\n",
    "acct_not_in_master = []\n",
    "for i in acct:\n",
    "    #print(type(i))\n",
    "    if i in master_acct:\n",
    "        acct_in_master.append(i)\n",
    "    if i not in master_acct:\n",
    "        acct_not_in_master.append(i)"
   ]
  },
  {
   "cell_type": "code",
   "execution_count": 2,
   "metadata": {},
   "outputs": [],
   "source": [
    "new_lab = pd.read_csv(\"df_labdata.csv\")\n",
    "new_lab.rename(columns={\"test_result\": \"result\", \"test_unit\": 'Units'}, inplace = 'True')\n",
    "old_lab = pd.read_csv('TMA_lab.csv')\n",
    "old_lab['Lab_Date'] = pd.to_datetime(old_lab.Lab_Date)\n",
    "old_lab.rename(columns={\"Lab_Date\": \"date\", \"Results\": \"result\", \"Code\": \"test_name\"}, inplace = 'True')\n",
    "master = pd.read_csv(\"master.csv\")\n",
    "masnew = pd.read_csv('master_new.csv')\n",
    "masnew.rename(columns={\"ACCT\": \"TMA_Acct\"}, inplace = 'True')"
   ]
  },
  {
   "cell_type": "code",
   "execution_count": 4,
   "metadata": {},
   "outputs": [],
   "source": [
    "def uniq_unit(df):\n",
    "    print(list(set(df['Units'])))\n",
    "def data(df, name):\n",
    "    display(df[df['test_name'] == name])\n",
    "def tl(data1, data2):\n",
    "    print(len(data1) + len(data2))"
   ]
  },
  {
   "cell_type": "code",
   "execution_count": 46,
   "metadata": {},
   "outputs": [
    {
     "name": "stdout",
     "output_type": "stream",
     "text": [
      "83965\n"
     ]
    }
   ],
   "source": [
    "hemo_name = ['hemoglobin', 'hemoglobin and hematocrit', 'hemoglobin,plasma'] \n",
    "new_hemo = new_lab[new_lab['test_name'].isin(hemo_name)][['test_name', 'result', 'Units']]\n",
    "old_hemo = old_lab[old_lab['test_name'].isin(hemo_name)][['test_name', 'result', 'Units']]\n",
    "tl(new_hemo, old_hemo)"
   ]
  },
  {
   "cell_type": "code",
   "execution_count": 47,
   "metadata": {},
   "outputs": [
    {
     "data": {
      "text/html": [
       "<div>\n",
       "<style scoped>\n",
       "    .dataframe tbody tr th:only-of-type {\n",
       "        vertical-align: middle;\n",
       "    }\n",
       "\n",
       "    .dataframe tbody tr th {\n",
       "        vertical-align: top;\n",
       "    }\n",
       "\n",
       "    .dataframe thead th {\n",
       "        text-align: right;\n",
       "    }\n",
       "</style>\n",
       "<table border=\"1\" class=\"dataframe\">\n",
       "  <thead>\n",
       "    <tr style=\"text-align: right;\">\n",
       "      <th></th>\n",
       "      <th>test_name</th>\n",
       "      <th>result</th>\n",
       "      <th>Units</th>\n",
       "    </tr>\n",
       "  </thead>\n",
       "  <tbody>\n",
       "  </tbody>\n",
       "</table>\n",
       "</div>"
      ],
      "text/plain": [
       "Empty DataFrame\n",
       "Columns: [test_name, result, Units]\n",
       "Index: []"
      ]
     },
     "metadata": {},
     "output_type": "display_data"
    }
   ],
   "source": [
    "data(old_hemo, 'hemoglobin,plasma')"
   ]
  },
  {
   "cell_type": "code",
   "execution_count": 7,
   "metadata": {},
   "outputs": [
    {
     "name": "stdout",
     "output_type": "stream",
     "text": [
      "330\n"
     ]
    }
   ],
   "source": [
    "pho_name = ['phosphate', 'phosphate (as phosphorus)'] \n",
    "new_pho = new_lab[new_lab['test_name'].isin(pho_name)][['TMA_Acct','test_name', 'result', 'Units']]\n",
    "old_pho = old_lab[old_lab['test_name'].isin(pho_name)][['TMA_Acct', 'test_name', 'result', 'Units']]\n",
    "# uniq_unit(new_pho)\n",
    "# uniq_unit(old_pho)\n",
    "tl(new_pho, old_pho)"
   ]
  },
  {
   "cell_type": "code",
   "execution_count": 10,
   "metadata": {},
   "outputs": [
    {
     "data": {
      "text/plain": [
       "172"
      ]
     },
     "execution_count": 10,
     "metadata": {},
     "output_type": "execute_result"
    }
   ],
   "source": [
    "len(set(list(new_pho['TMA_Acct']) + list(old_pho['TMA_Acct'])))"
   ]
  },
  {
   "cell_type": "code",
   "execution_count": 24,
   "metadata": {},
   "outputs": [
    {
     "data": {
      "text/html": [
       "<div>\n",
       "<style scoped>\n",
       "    .dataframe tbody tr th:only-of-type {\n",
       "        vertical-align: middle;\n",
       "    }\n",
       "\n",
       "    .dataframe tbody tr th {\n",
       "        vertical-align: top;\n",
       "    }\n",
       "\n",
       "    .dataframe thead th {\n",
       "        text-align: right;\n",
       "    }\n",
       "</style>\n",
       "<table border=\"1\" class=\"dataframe\">\n",
       "  <thead>\n",
       "    <tr style=\"text-align: right;\">\n",
       "      <th></th>\n",
       "      <th>test_name</th>\n",
       "      <th>result</th>\n",
       "      <th>Units</th>\n",
       "    </tr>\n",
       "  </thead>\n",
       "  <tbody>\n",
       "    <tr>\n",
       "      <th>269</th>\n",
       "      <td>phosphate (as phosphorus)</td>\n",
       "      <td>1.4</td>\n",
       "      <td>mg/dL</td>\n",
       "    </tr>\n",
       "    <tr>\n",
       "      <th>2368</th>\n",
       "      <td>phosphate (as phosphorus)</td>\n",
       "      <td>3.7</td>\n",
       "      <td>mg/dL</td>\n",
       "    </tr>\n",
       "    <tr>\n",
       "      <th>5046</th>\n",
       "      <td>phosphate (as phosphorus)</td>\n",
       "      <td>0.0</td>\n",
       "      <td>mg/dL</td>\n",
       "    </tr>\n",
       "    <tr>\n",
       "      <th>7767</th>\n",
       "      <td>phosphate (as phosphorus)</td>\n",
       "      <td>2.9</td>\n",
       "      <td>mg/dL</td>\n",
       "    </tr>\n",
       "    <tr>\n",
       "      <th>8859</th>\n",
       "      <td>phosphate (as phosphorus)</td>\n",
       "      <td>3.7</td>\n",
       "      <td>mg/dL</td>\n",
       "    </tr>\n",
       "    <tr>\n",
       "      <th>...</th>\n",
       "      <td>...</td>\n",
       "      <td>...</td>\n",
       "      <td>...</td>\n",
       "    </tr>\n",
       "    <tr>\n",
       "      <th>971638</th>\n",
       "      <td>phosphate (as phosphorus)</td>\n",
       "      <td>3.7</td>\n",
       "      <td>mg/dL</td>\n",
       "    </tr>\n",
       "    <tr>\n",
       "      <th>972405</th>\n",
       "      <td>phosphate (as phosphorus)</td>\n",
       "      <td>3.2</td>\n",
       "      <td>mg/dL</td>\n",
       "    </tr>\n",
       "    <tr>\n",
       "      <th>973796</th>\n",
       "      <td>phosphate (as phosphorus)</td>\n",
       "      <td>3.1</td>\n",
       "      <td>mg/dL</td>\n",
       "    </tr>\n",
       "    <tr>\n",
       "      <th>974237</th>\n",
       "      <td>phosphate (as phosphorus)</td>\n",
       "      <td>2.9</td>\n",
       "      <td>mg/dL</td>\n",
       "    </tr>\n",
       "    <tr>\n",
       "      <th>980043</th>\n",
       "      <td>phosphate (as phosphorus)</td>\n",
       "      <td>3.5</td>\n",
       "      <td>mg/dL</td>\n",
       "    </tr>\n",
       "  </tbody>\n",
       "</table>\n",
       "<p>328 rows × 3 columns</p>\n",
       "</div>"
      ],
      "text/plain": [
       "                        test_name  result  Units\n",
       "269     phosphate (as phosphorus)     1.4  mg/dL\n",
       "2368    phosphate (as phosphorus)     3.7  mg/dL\n",
       "5046    phosphate (as phosphorus)     0.0  mg/dL\n",
       "7767    phosphate (as phosphorus)     2.9  mg/dL\n",
       "8859    phosphate (as phosphorus)     3.7  mg/dL\n",
       "...                           ...     ...    ...\n",
       "971638  phosphate (as phosphorus)     3.7  mg/dL\n",
       "972405  phosphate (as phosphorus)     3.2  mg/dL\n",
       "973796  phosphate (as phosphorus)     3.1  mg/dL\n",
       "974237  phosphate (as phosphorus)     2.9  mg/dL\n",
       "980043  phosphate (as phosphorus)     3.5  mg/dL\n",
       "\n",
       "[328 rows x 3 columns]"
      ]
     },
     "metadata": {},
     "output_type": "display_data"
    }
   ],
   "source": [
    "data(new_pho, 'phosphate (as phosphorus)')"
   ]
  },
  {
   "cell_type": "code",
   "execution_count": 49,
   "metadata": {},
   "outputs": [
    {
     "name": "stdout",
     "output_type": "stream",
     "text": [
      "[nan, 'PG/ML', 'pg/mL']\n",
      "[nan, 'PG/ML', 'ClosedPG/ML', 'pg/ml', 'HPF', 'pg/mL', 'mg/dL', 'LPF']\n",
      "33333\n"
     ]
    }
   ],
   "source": [
    "pth_name = ['intact pth', 'ipth', 'calc (pth)', 'parathyrin.intact', 'parathyroid hormone, intact', 'pth', 'pth ab', 'pth calcium', 'pth in', 'pth intact', 'pth n term', 'pth, intact', 'pth,int', 'pth,intact'] \n",
    "new_pth = new_lab[new_lab['test_name'].isin(pth_name)][['test_name', 'result', 'Units']]\n",
    "old_pth = old_lab[old_lab['test_name'].isin(pth_name)][['test_name', 'result', 'Units']]\n",
    "uniq_unit(new_pth)\n",
    "uniq_unit(old_pth)\n",
    "tl(new_pth, old_pth)"
   ]
  },
  {
   "cell_type": "code",
   "execution_count": 37,
   "metadata": {},
   "outputs": [
    {
     "data": {
      "text/html": [
       "<div>\n",
       "<style scoped>\n",
       "    .dataframe tbody tr th:only-of-type {\n",
       "        vertical-align: middle;\n",
       "    }\n",
       "\n",
       "    .dataframe tbody tr th {\n",
       "        vertical-align: top;\n",
       "    }\n",
       "\n",
       "    .dataframe thead th {\n",
       "        text-align: right;\n",
       "    }\n",
       "</style>\n",
       "<table border=\"1\" class=\"dataframe\">\n",
       "  <thead>\n",
       "    <tr style=\"text-align: right;\">\n",
       "      <th></th>\n",
       "      <th>test_name</th>\n",
       "      <th>result</th>\n",
       "      <th>Units</th>\n",
       "    </tr>\n",
       "  </thead>\n",
       "  <tbody>\n",
       "  </tbody>\n",
       "</table>\n",
       "</div>"
      ],
      "text/plain": [
       "Empty DataFrame\n",
       "Columns: [test_name, result, Units]\n",
       "Index: []"
      ]
     },
     "metadata": {},
     "output_type": "display_data"
    }
   ],
   "source": [
    "data(new_pth, 'pth, int')"
   ]
  },
  {
   "cell_type": "code",
   "execution_count": 11,
   "metadata": {},
   "outputs": [
    {
     "name": "stdout",
     "output_type": "stream",
     "text": [
      "112\n"
     ]
    }
   ],
   "source": [
    "co_name = ['carbon dioxide (co2)','co2','total co2'] \n",
    "new_co = new_lab[new_lab['test_name'].isin(co_name)][['TMA_Acct','test_name', 'result', 'Units']]\n",
    "old_co = old_lab[old_lab['test_name'].isin(co_name)][['TMA_Acct', 'test_name', 'result', 'Units']]\n",
    "# uniq_unit(new_co)\n",
    "# uniq_unit(old_co)\n",
    "tl(new_co, old_co)"
   ]
  },
  {
   "cell_type": "code",
   "execution_count": 12,
   "metadata": {},
   "outputs": [
    {
     "data": {
      "text/plain": [
       "59"
      ]
     },
     "execution_count": 12,
     "metadata": {},
     "output_type": "execute_result"
    }
   ],
   "source": [
    "len(set(list(new_co['TMA_Acct']) + list(old_co['TMA_Acct'])))"
   ]
  },
  {
   "cell_type": "code",
   "execution_count": 44,
   "metadata": {},
   "outputs": [
    {
     "data": {
      "text/html": [
       "<div>\n",
       "<style scoped>\n",
       "    .dataframe tbody tr th:only-of-type {\n",
       "        vertical-align: middle;\n",
       "    }\n",
       "\n",
       "    .dataframe tbody tr th {\n",
       "        vertical-align: top;\n",
       "    }\n",
       "\n",
       "    .dataframe thead th {\n",
       "        text-align: right;\n",
       "    }\n",
       "</style>\n",
       "<table border=\"1\" class=\"dataframe\">\n",
       "  <thead>\n",
       "    <tr style=\"text-align: right;\">\n",
       "      <th></th>\n",
       "      <th>test_name</th>\n",
       "      <th>result</th>\n",
       "      <th>Units</th>\n",
       "    </tr>\n",
       "  </thead>\n",
       "  <tbody>\n",
       "    <tr>\n",
       "      <th>70074</th>\n",
       "      <td>carbon dioxide (co2)</td>\n",
       "      <td>22.0</td>\n",
       "      <td>mmol/L</td>\n",
       "    </tr>\n",
       "    <tr>\n",
       "      <th>336497</th>\n",
       "      <td>carbon dioxide (co2)</td>\n",
       "      <td>19.0</td>\n",
       "      <td>mmol/L</td>\n",
       "    </tr>\n",
       "    <tr>\n",
       "      <th>515740</th>\n",
       "      <td>carbon dioxide (co2)</td>\n",
       "      <td>21.0</td>\n",
       "      <td>mmol/L</td>\n",
       "    </tr>\n",
       "    <tr>\n",
       "      <th>792918</th>\n",
       "      <td>carbon dioxide (co2)</td>\n",
       "      <td>24.0</td>\n",
       "      <td>mmol/L</td>\n",
       "    </tr>\n",
       "    <tr>\n",
       "      <th>970524</th>\n",
       "      <td>carbon dioxide (co2)</td>\n",
       "      <td>31.0</td>\n",
       "      <td>mmol/L</td>\n",
       "    </tr>\n",
       "  </tbody>\n",
       "</table>\n",
       "</div>"
      ],
      "text/plain": [
       "                   test_name  result   Units\n",
       "70074   carbon dioxide (co2)    22.0  mmol/L\n",
       "336497  carbon dioxide (co2)    19.0  mmol/L\n",
       "515740  carbon dioxide (co2)    21.0  mmol/L\n",
       "792918  carbon dioxide (co2)    24.0  mmol/L\n",
       "970524  carbon dioxide (co2)    31.0  mmol/L"
      ]
     },
     "metadata": {},
     "output_type": "display_data"
    }
   ],
   "source": [
    "data(new_co, 'carbon dioxide (co2)')"
   ]
  },
  {
   "cell_type": "code",
   "execution_count": null,
   "metadata": {},
   "outputs": [],
   "source": []
  }
 ],
 "metadata": {
  "kernelspec": {
   "display_name": "Python 3",
   "language": "python",
   "name": "python3"
  },
  "language_info": {
   "codemirror_mode": {
    "name": "ipython",
    "version": 3
   },
   "file_extension": ".py",
   "mimetype": "text/x-python",
   "name": "python",
   "nbconvert_exporter": "python",
   "pygments_lexer": "ipython3",
   "version": "3.7.6"
  }
 },
 "nbformat": 4,
 "nbformat_minor": 2
}
