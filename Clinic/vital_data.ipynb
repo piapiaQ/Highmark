{
 "cells": [
  {
   "cell_type": "code",
   "execution_count": 1,
   "metadata": {},
   "outputs": [],
   "source": [
    "import pandas as pd\n",
    "import numpy as np\n",
    "import matplotlib.pyplot as plt\n",
    "import numpy as np\n",
    "%matplotlib inline"
   ]
  },
  {
   "cell_type": "code",
   "execution_count": 2,
   "metadata": {},
   "outputs": [
    {
     "data": {
      "text/html": [
       "<div>\n",
       "<style scoped>\n",
       "    .dataframe tbody tr th:only-of-type {\n",
       "        vertical-align: middle;\n",
       "    }\n",
       "\n",
       "    .dataframe tbody tr th {\n",
       "        vertical-align: top;\n",
       "    }\n",
       "\n",
       "    .dataframe thead th {\n",
       "        text-align: right;\n",
       "    }\n",
       "</style>\n",
       "<table border=\"1\" class=\"dataframe\">\n",
       "  <thead>\n",
       "    <tr style=\"text-align: right;\">\n",
       "      <th></th>\n",
       "      <th>Unnamed: 0</th>\n",
       "      <th>Acct#</th>\n",
       "      <th>Date</th>\n",
       "      <th>Weight</th>\n",
       "      <th>Height</th>\n",
       "      <th>BP Systolic</th>\n",
       "      <th>BP Diastolic</th>\n",
       "      <th>Pulse</th>\n",
       "      <th>Resp</th>\n",
       "      <th>Body Frame</th>\n",
       "      <th>BMI</th>\n",
       "    </tr>\n",
       "  </thead>\n",
       "  <tbody>\n",
       "    <tr>\n",
       "      <th>0</th>\n",
       "      <td>0</td>\n",
       "      <td>89</td>\n",
       "      <td>2009-12-29</td>\n",
       "      <td>213.0</td>\n",
       "      <td>NaN</td>\n",
       "      <td>152.0</td>\n",
       "      <td>72</td>\n",
       "      <td>84</td>\n",
       "      <td>16</td>\n",
       "      <td>NaN</td>\n",
       "      <td>NaN</td>\n",
       "    </tr>\n",
       "    <tr>\n",
       "      <th>1</th>\n",
       "      <td>1</td>\n",
       "      <td>89</td>\n",
       "      <td>2009-07-15</td>\n",
       "      <td>208.0</td>\n",
       "      <td>NaN</td>\n",
       "      <td>135.0</td>\n",
       "      <td>60</td>\n",
       "      <td>64</td>\n",
       "      <td>NaN</td>\n",
       "      <td>NaN</td>\n",
       "      <td>NaN</td>\n",
       "    </tr>\n",
       "  </tbody>\n",
       "</table>\n",
       "</div>"
      ],
      "text/plain": [
       "   Unnamed: 0  Acct#       Date  Weight Height  BP Systolic BP Diastolic  \\\n",
       "0           0     89 2009-12-29   213.0    NaN        152.0           72   \n",
       "1           1     89 2009-07-15   208.0    NaN        135.0           60   \n",
       "\n",
       "  Pulse Resp Body Frame  BMI  \n",
       "0    84   16        NaN  NaN  \n",
       "1    64  NaN        NaN  NaN  "
      ]
     },
     "execution_count": 2,
     "metadata": {},
     "output_type": "execute_result"
    }
   ],
   "source": [
    "vital09_13 = pd.read_excel(\"vital_200903_201306.xlsx\")\n",
    "vital09_13.head(2)"
   ]
  },
  {
   "cell_type": "code",
   "execution_count": 50,
   "metadata": {},
   "outputs": [],
   "source": [
    "bmi1 = vital09_13[[\"Acct#\",\"Date\", \"BMI\"]].dropna(axis = 0, subset = [\"BMI\"])\n",
    "weight1 = vital09_13[[\"Acct#\",\"Date\", \"Weight\"]].dropna(axis = 0, subset = [\"Weight\"])\n",
    "height1 = vital09_13[[\"Acct#\",\"Date\", \"Height\"]].dropna(axis = 0, subset = [\"Height\"])\n",
    "sys1 = vital09_13[[\"Acct#\",\"Date\", \"BP Systolic\"]].dropna(axis = 0, subset = [\"BP Systolic\"])\n",
    "dia1 = vital09_13[[\"Acct#\",\"Date\", \"BP Diastolic\"]].dropna(axis = 0, subset = [\"BP Diastolic\"])\n",
    "pulse1 = vital09_13[[\"Acct#\",\"Date\", \"Pulse\"]].dropna(axis = 0, subset = [\"Pulse\"])\n",
    "resp1 = vital09_13[[\"Acct#\",\"Date\", \"Resp\"]].dropna(axis = 0, subset = [\"Resp\"])\n",
    "frame1 = vital09_13[[\"Acct#\",\"Date\", \"Body Frame\"]].dropna(axis = 0, subset = [\"Body Frame\"])"
   ]
  },
  {
   "cell_type": "code",
   "execution_count": 64,
   "metadata": {},
   "outputs": [],
   "source": [
    "#bmi1.to_csv(\"bmi1.csv\")\n",
    "#weight1.to_csv(\"weight1.csv\")\n",
    "#height1.to_csv(\"height1.csv\")\n",
    "#sys1.to_csv(\"sys1.csv\")\n",
    "#dia1.to_csv(\"dia1.csv\")\n",
    "#pulse1.to_csv(\"pulse1.csv\")\n",
    "#resp1.to_csv(\"resp1.csv\")\n",
    "#frame1.to_csv(\"frame1.csv\")"
   ]
  },
  {
   "cell_type": "code",
   "execution_count": 3,
   "metadata": {},
   "outputs": [],
   "source": [
    "bmi2 = pd.read_csv(\"Vitals_BMI.txt\", header=None, delim_whitespace=True, names=[\"Acct#\", \"Date\", \"BMI\"]).dropna(axis = 0, subset = [\"BMI\"])\n",
    "frame2 = pd.read_csv(\"Vitals_Bodyframe.txt\", delim_whitespace=True, names=[\"Acct#\", \"Date\", \"Body Frame\"])[2:].dropna(axis = 0, subset = [\"Body Frame\"])\n",
    "bp_v = pd.read_csv(\"Vitals_BP.txt\", delim_whitespace=True, names=[\"Acct#\", \"Date\", \"BP_value\",\"Systolic\", \"Diastolic\"])[2:]\n",
    "sys2 = bp_v[[\"Acct#\", \"Date\", \"Systolic\"]].dropna(axis = 0, subset = [\"Systolic\"])\n",
    "dia2 = bp_v[[\"Acct#\",\"Date\", \"Diastolic\"]].dropna(axis = 0, subset = [\"Diastolic\"])\n",
    "bp2 = bp_v[[\"Acct#\",\"Date\", \"BP_value\"]].dropna(axis = 0, subset = [\"BP_value\"])\n",
    "height2 = pd.read_csv(\"Vitals_Height.txt\", delim_whitespace=True, names=[\"Acct#\", \"Date\", \"Height_value\"])[2:].dropna(axis = 0, subset = [\"Height_value\"])\n",
    "pulse2 = pd.read_csv(\"Vitals_Pulse.txt\", delim_whitespace=True, names=[\"Acct#\", \"Date\", \"Pulse_value\"])[2:].dropna(axis = 0, subset = [\"Pulse_value\"])\n",
    "resp2 = pd.read_csv(\"Vitals_Resp.txt\", delim_whitespace=True, names=[\"Acct#\", \"Date\", \"Resp_value\"])[2:].dropna(axis = 0, subset = [\"Resp_value\"])\n",
    "wt2 = pd.read_csv(\"Vitals_Wt.txt\", delim_whitespace=True, names=[\"Acct#\", \"Date\", \"Wt_value\"])[2:].dropna(axis = 0, subset = [\"Wt_value\"])"
   ]
  },
  {
   "cell_type": "code",
   "execution_count": 65,
   "metadata": {},
   "outputs": [],
   "source": [
    "#bmi2.to_csv(\"bmi2.csv\")\n",
    "#frame2.to_csv(\"frame2.csv\")\n",
    "#sys2.to_csv(\"sys2.csv\")\n",
    "#dia2.to_csv(\"dia2.csv\")a\n",
    "#bp2.to_csv(\"bp2.csv\")\n",
    "#height2.to_csv(\"height2.csv\")\n",
    "#pulse2.to_csv(\"pulse2.csv\")\n",
    "#resp2.to_csv(\"resp2.csv\")\n",
    "#wt2.to_csv(\"wt2.csv\")"
   ]
  },
  {
   "cell_type": "code",
   "execution_count": 16,
   "metadata": {},
   "outputs": [
    {
     "data": {
      "text/html": [
       "<div>\n",
       "<style scoped>\n",
       "    .dataframe tbody tr th:only-of-type {\n",
       "        vertical-align: middle;\n",
       "    }\n",
       "\n",
       "    .dataframe tbody tr th {\n",
       "        vertical-align: top;\n",
       "    }\n",
       "\n",
       "    .dataframe thead th {\n",
       "        text-align: right;\n",
       "    }\n",
       "</style>\n",
       "<table border=\"1\" class=\"dataframe\">\n",
       "  <thead>\n",
       "    <tr style=\"text-align: right;\">\n",
       "      <th></th>\n",
       "      <th>Unnamed: 0</th>\n",
       "      <th>Unnamed: 0.1</th>\n",
       "      <th>Acct#</th>\n",
       "      <th>weight vitals</th>\n",
       "      <th>weight_value</th>\n",
       "      <th>height vitals</th>\n",
       "      <th>height_value</th>\n",
       "      <th>BP vitals</th>\n",
       "      <th>BP_value</th>\n",
       "      <th>Pulse vitals</th>\n",
       "      <th>Pulse_value</th>\n",
       "      <th>Resp vitals</th>\n",
       "      <th>Resp_value</th>\n",
       "      <th>Body Frame vitals</th>\n",
       "      <th>Body_value</th>\n",
       "      <th>BMI vitals</th>\n",
       "      <th>BMI_value</th>\n",
       "    </tr>\n",
       "  </thead>\n",
       "  <tbody>\n",
       "    <tr>\n",
       "      <th>0</th>\n",
       "      <td>0</td>\n",
       "      <td>1</td>\n",
       "      <td>84</td>\n",
       "      <td>NaN</td>\n",
       "      <td>NaN</td>\n",
       "      <td>NaN</td>\n",
       "      <td>NaN</td>\n",
       "      <td>NaN</td>\n",
       "      <td>NaN</td>\n",
       "      <td>NaN</td>\n",
       "      <td>NaN</td>\n",
       "      <td>NaN</td>\n",
       "      <td>NaN</td>\n",
       "      <td>NaN</td>\n",
       "      <td>NaN</td>\n",
       "      <td>NaN</td>\n",
       "      <td>NaN</td>\n",
       "    </tr>\n",
       "    <tr>\n",
       "      <th>1</th>\n",
       "      <td>1</td>\n",
       "      <td>2</td>\n",
       "      <td>38744</td>\n",
       "      <td>NaN</td>\n",
       "      <td>NaN</td>\n",
       "      <td>NaN</td>\n",
       "      <td>NaN</td>\n",
       "      <td>NaN</td>\n",
       "      <td>NaN</td>\n",
       "      <td>NaN</td>\n",
       "      <td>NaN</td>\n",
       "      <td>NaN</td>\n",
       "      <td>NaN</td>\n",
       "      <td>NaN</td>\n",
       "      <td>NaN</td>\n",
       "      <td>NaN</td>\n",
       "      <td>NaN</td>\n",
       "    </tr>\n",
       "  </tbody>\n",
       "</table>\n",
       "</div>"
      ],
      "text/plain": [
       "   Unnamed: 0  Unnamed: 0.1  Acct# weight vitals  weight_value height vitals  \\\n",
       "0           0             1     84           NaN           NaN           NaN   \n",
       "1           1             2  38744           NaN           NaN           NaN   \n",
       "\n",
       "  height_value BP vitals BP_value Pulse vitals  Pulse_value Resp vitals  \\\n",
       "0          NaN       NaN      NaN          NaN          NaN         NaN   \n",
       "1          NaN       NaN      NaN          NaN          NaN         NaN   \n",
       "\n",
       "   Resp_value Body Frame vitals Body_value BMI vitals  BMI_value  \n",
       "0         NaN               NaN        NaN        NaN        NaN  \n",
       "1         NaN               NaN        NaN        NaN        NaN  "
      ]
     },
     "execution_count": 16,
     "metadata": {},
     "output_type": "execute_result"
    }
   ],
   "source": [
    "vital17_18 = pd.read_csv(\"vital_17_18.csv\", low_memory=False)\n",
    "vital17_18.head(2)"
   ]
  },
  {
   "cell_type": "code",
   "execution_count": 52,
   "metadata": {},
   "outputs": [],
   "source": [
    "bmi3 = vital17_18[[\"Acct#\",\"BMI vitals\", \"BMI_value\"]].dropna(axis = 0, subset = [\"BMI_value\"])\n",
    "weight3 = vital17_18[[\"Acct#\",\"weight vitals\", \"weight_value\"]].dropna(axis = 0, subset = [\"weight_value\"])\n",
    "height3 = vital17_18[[\"Acct#\",\"height vitals\", \"height_value\"]].dropna(axis = 0, subset = [\"height_value\"])\n",
    "bp3 = vital17_18[[\"Acct#\",\"BP vitals\", \"BP_value\"]].dropna(axis = 0, subset = [\"BP_value\"])\n",
    "pulse3 = vital17_18[[\"Acct#\",\"Pulse vitals\", \"Pulse_value\"]].dropna(axis = 0, subset = [\"Pulse_value\"])\n",
    "resp3 = vital17_18[[\"Acct#\",\"Resp vitals\", \"Resp_value\"]].dropna(axis = 0, subset = [\"Resp_value\"])\n",
    "frame3 = vital17_18[[\"Acct#\",\"Body Frame vitals\", \"Body_value\"]].dropna(axis = 0, subset = [\"Body_value\"])"
   ]
  },
  {
   "cell_type": "code",
   "execution_count": 66,
   "metadata": {},
   "outputs": [],
   "source": [
    "#bmi3.to_csv(\"bmi3.csv\")\n",
    "#weight3.to_csv(\"weight3.csv\")\n",
    "#height3.to_csv(\"height3.csv\")\n",
    "#bp3.to_csv(\"bp3.csv\")\n",
    "#pulse3.to_csv(\"pulse3.csv\")\n",
    "#resp3.to_csv(\"resp3.csv\")\n",
    "#frame3.to_csv(\"frame3.csv\")"
   ]
  },
  {
   "cell_type": "code",
   "execution_count": 17,
   "metadata": {},
   "outputs": [],
   "source": [
    "#result[\"weight vitals\"] = pd.to_datetime(result[\"weight vitals\"])"
   ]
  },
  {
   "cell_type": "code",
   "execution_count": 117,
   "metadata": {},
   "outputs": [
    {
     "data": {
      "image/png": "[encoded data removed]",
      "text/plain": [
       "<Figure size 432x288 with 1 Axes>"
      ]
     },
     "metadata": {
      "needs_background": "light"
     },
     "output_type": "display_data"
    }
   ],
   "source": [
    "from collections import Counter\n",
    "x = list(avgbmi)\n",
    "x = sorted(x)\n",
    "\n",
    "labels, values = zip(*Counter(x).items())\n",
    "\n",
    "indexes = np.arange(len(labels))\n",
    "width = 1\n",
    "\n",
    "plt.bar(indexes, values, width)\n",
    "plt.savefig(\"bmi.png\")\n",
    "plt.show()"
   ]
  },
  {
   "cell_type": "code",
   "execution_count": 11,
   "metadata": {},
   "outputs": [],
   "source": [
    "bmi1 = pd.read_csv(\"bmi1.csv\")\n",
    "bmi2 = pd.read_csv(\"bmi2.csv\")[:7126]\n",
    "bmi3 = pd.read_csv(\"bmi3.csv\")\n",
    "bmi3.rename(columns={\"BMI vitals\": \"Date\", \"BMI_value\": \"BMI\"}, inplace = True)\n",
    "bmi = pd.concat([bmi1, bmi2, bmi3], axis = 0)[[\"Acct#\", \"Date\", \"BMI\"]]\n",
    "bmi.sort_values(by=['Acct#','Date'], axis=0, ascending=[True,True], inplace = True)\n",
    "bmi.to_csv(\"BMIIMB.csv\")"
   ]
  },
  {
   "cell_type": "code",
   "execution_count": 42,
   "metadata": {},
   "outputs": [],
   "source": [
    "weight1 = pd.read_csv(\"weight1.csv\")\n",
    "weight3 = pd.read_csv(\"weight3.csv\")\n",
    "weight3.rename(columns={\"weight vitals\": \"Date\", \"weight_value\": \"Weight\"}, inplace = True)\n",
    "weight = pd.concat([weight1, weight3], axis = 0)[[\"Acct#\", \"Date\", \"Weight\"]]\n",
    "weight.sort_values(by=['Acct#','Date'], axis=0, ascending=[True,True], inplace = True)\n",
    "weight.to_csv(\"WeightWeight.csv\")"
   ]
  },
  {
   "cell_type": "code",
   "execution_count": 56,
   "metadata": {},
   "outputs": [],
   "source": [
    "height1 = pd.read_csv(\"height1.csv\")\n",
    "height2 = pd.read_csv(\"height2.csv\")[:25401]\n",
    "height3 = pd.read_csv(\"height3.csv\")\n",
    "height3.rename(columns={'height vitals': \"Date\", 'height_value': \"Height\"}, inplace = True)\n",
    "height = pd.concat([height1, height2, height3], axis = 0)[[\"Acct#\", \"Date\", \"Height\"]]\n",
    "height.sort_values(by=['Acct#','Date'], axis=0, ascending=[True,True], inplace = True)\n",
    "height.to_csv(\"HeightHeight.csv\")"
   ]
  },
  {
   "cell_type": "code",
   "execution_count": 54,
   "metadata": {},
   "outputs": [],
   "source": [
    "bp2 = pd.read_csv(\"bp2.csv\")[:26732]\n",
    "bp3 = pd.read_csv(\"bp3.csv\")\n",
    "bp3.rename(columns={\"BP vitals\": \"Date\"}, inplace = True)\n",
    "bp = pd.concat([bp2, bp3], axis = 0)[[\"Acct#\", \"Date\", \"BP_value\"]]\n",
    "bp.sort_values(by=['Acct#','Date'], axis=0, ascending=[True,True], inplace = True)\n",
    "bp.to_csv(\"BP.csv\")"
   ]
  },
  {
   "cell_type": "code",
   "execution_count": 72,
   "metadata": {},
   "outputs": [],
   "source": [
    "pulse1 = pd.read_csv(\"pulse1.csv\")\n",
    "pulse2 = pd.read_csv(\"pulse2.csv\")[:25066]\n",
    "pulse3 = pd.read_csv(\"pulse3.csv\")\n",
    "pulse3.rename(columns={'Pulse vitals': \"Date\", 'Pulse_value': \"Pulse\"}, inplace = True)\n",
    "pulse = pd.concat([pulse1, pulse2, pulse3], axis = 0)[[\"Acct#\", \"Date\", \"Pulse\"]]\n",
    "pulse.sort_values(by=['Acct#','Date'], axis=0, ascending=[True,True], inplace = True)\n",
    "pulse.to_csv(\"PulsePulse.csv\")"
   ]
  },
  {
   "cell_type": "code",
   "execution_count": 85,
   "metadata": {},
   "outputs": [],
   "source": [
    "resp1 = pd.read_csv(\"resp1.csv\")\n",
    "resp2 = pd.read_csv(\"resp2.csv\")[:5884]\n",
    "resp3.rename(columns={'Resp_value': \"Resp\"}, inplace = True)\n",
    "resp3 = pd.read_csv(\"resp3.csv\")\n",
    "resp3.rename(columns={'Resp vitals': \"Date\", 'Resp_value': \"Resp\"}, inplace = True)\n",
    "resp = pd.concat([resp1, resp2, resp3], axis = 0)[[\"Acct#\", \"Date\", \"Resp\"]]\n",
    "resp.sort_values(by=['Acct#','Date'], axis=0, ascending=[True,True], inplace = True)\n",
    "resp.to_csv(\"RespResp.csv\")"
   ]
  },
  {
   "cell_type": "code",
   "execution_count": 96,
   "metadata": {},
   "outputs": [],
   "source": [
    "frame1 = pd.read_csv(\"frame1.csv\")\n",
    "frame2 = pd.read_csv(\"frame2.csv\")[:1227]\n",
    "#frame3.rename(columns={'Resp_value': \"Resp\"}, inplace = True)\n",
    "frame3 = pd.read_csv(\"frame3.csv\")\n",
    "frame3.rename(columns={\"Body Frame vitals\": \"Date\", \"Body_value\" : \"Body Frame\"}, inplace = True)\n",
    "frame = pd.concat([frame1, frame2, frame3], axis = 0)[[\"Acct#\", \"Date\", \"Body Frame\"]]\n",
    "frame.sort_values(by=['Acct#','Date'], axis=0, ascending=[True,True], inplace = True)\n",
    "frame.to_csv(\"FrameFrame.csv\")"
   ]
  },
  {
   "cell_type": "code",
   "execution_count": 106,
   "metadata": {},
   "outputs": [],
   "source": [
    "sys1 = pd.read_csv(\"sys1.csv\")\n",
    "sys2 = pd.read_csv(\"sys2.csv\")\n",
    "sys2.rename(columns={'Systolic': \"BP Systolic\"}, inplace = True)\n",
    "#frame3.rename(columns={\"Body Frame vitals\": \"Date\", \"Body_value\" : \"Body Frame\"}, inplace = True)\n",
    "sys = pd.concat([sys1, sys2], axis = 0)[[\"Acct#\", \"Date\", \"BP Systolic\"]]\n",
    "sys.sort_values(by=['Acct#','Date'], axis=0, ascending=[True,True], inplace = True)\n",
    "sys.to_csv(\"BP_Systolic.csv\")"
   ]
  },
  {
   "cell_type": "code",
   "execution_count": 115,
   "metadata": {},
   "outputs": [],
   "source": [
    "dia1 = pd.read_csv(\"dia1.csv\")\n",
    "dia2 = pd.read_csv(\"dia2.csv\")\n",
    "dia2.rename(columns={'Diastolic': \"BP Diastolic\"}, inplace = True)\n",
    "dia = pd.concat([dia1, dia2], axis = 0)[[\"Acct#\", \"Date\", \"BP Diastolic\"]]\n",
    "dia.sort_values(by=['Acct#','Date'], axis=0, ascending=[True,True], inplace = True)\n",
    "dia.to_csv(\"BP_Diastolic.csv\")"
   ]
  },
  {
   "cell_type": "code",
   "execution_count": 118,
   "metadata": {},
   "outputs": [],
   "source": [
    "w = pd.read_csv(\"wt2.csv\")[:25627]\n",
    "w.to_csv(\"Wt.csv\")"
   ]
  },
  {
   "cell_type": "code",
   "execution_count": 55,
   "metadata": {},
   "outputs": [],
   "source": [
    "bmi = pd.read_csv(\"BMIIMB.csv\")\n",
    "weight = pd.read_csv(\"WeightWeight.csv\")\n",
    "height = pd.read_csv(\"HeightHeight.csv\")\n",
    "bp = pd.read_csv(\"BP.csv\")\n",
    "pulse = pd.read_csv(\"PulsePulse.csv\")\n",
    "resp = pd.read_csv(\"RespResp.csv\")\n",
    "frame = pd.read_csv(\"FrameFrame.csv\")\n",
    "sys = pd.read_csv(\"BP_Systolic.csv\")\n",
    "dia = pd.read_csv(\"BP_Diastolic.csv\")\n",
    "w = pd.read_csv(\"Wt.csv\")"
   ]
  },
  {
   "cell_type": "code",
   "execution_count": 56,
   "metadata": {},
   "outputs": [],
   "source": [
    "a = list(bmi[\"Acct#\"].unique())\n",
    "b = list(weight[\"Acct#\"].unique())\n",
    "c = list(height[\"Acct#\"].unique())\n",
    "d = list(bp[\"Acct#\"].unique())\n",
    "e = list(pulse[\"Acct#\"].unique())\n",
    "f = list(resp[\"Acct#\"].unique())\n",
    "g = list(frame[\"Acct#\"].unique())\n",
    "h = list(sys[\"Acct#\"].unique())\n",
    "i = list(dia[\"Acct#\"].unique())\n",
    "j = list(w[\"Acct#\"].unique())"
   ]
  },
  {
   "cell_type": "code",
   "execution_count": 57,
   "metadata": {},
   "outputs": [],
   "source": [
    "al = a + b + c + d+e+f+g+h+i+j"
   ]
  },
  {
   "cell_type": "code",
   "execution_count": 59,
   "metadata": {},
   "outputs": [],
   "source": [
    "al = list(set(al))"
   ]
  },
  {
   "cell_type": "code",
   "execution_count": 61,
   "metadata": {},
   "outputs": [
    {
     "data": {
      "text/plain": [
       "291"
      ]
     },
     "execution_count": 61,
     "metadata": {},
     "output_type": "execute_result"
    }
   ],
   "source": [
    "check = pd.read_csv(\"bothindata_with_nultipletma.csv\")\n",
    "acct = []\n",
    "for i in check[\"TMA Acct#\"]:\n",
    "    #print(i)\n",
    "    acct.extend(i[1:len(i)-1].split(' '))\n",
    "acct = [int(i) for i in acct if i != '']\n",
    "len(acct)"
   ]
  },
  {
   "cell_type": "code",
   "execution_count": 62,
   "metadata": {},
   "outputs": [],
   "source": [
    "acct_in_vital = []\n",
    "acct_not_in_vital = []\n",
    "for i in acct:\n",
    "    #print(type(i))\n",
    "    if i in al:\n",
    "        acct_in_vital.append(i)\n",
    "    if i not in al:\n",
    "        acct_not_in_vital.append(i)"
   ]
  },
  {
   "cell_type": "code",
   "execution_count": 64,
   "metadata": {},
   "outputs": [],
   "source": [
    "filename = 'acct_not_in_vital.txt'\n",
    "with open(filename,'w') as f: # 如果filename不存在会自动创建， 'w'表示写数据，写之前会清空文件中的原有数据！\n",
    "    for i in acct_not_in_vital:\n",
    "        f.write(str(i) + '\\n')"
   ]
  },
  {
   "cell_type": "code",
   "execution_count": 7,
   "metadata": {},
   "outputs": [
    {
     "name": "stdout",
     "output_type": "stream",
     "text": [
      "[1, 2, 3, 4, 5, 6]\n"
     ]
    }
   ],
   "source": [
    "import collections\n",
    "d = [[1,2,3],[4,5,6]]\n",
    "\n",
    "print(sum(d,[]))"
   ]
  },
  {
   "cell_type": "code",
   "execution_count": 9,
   "metadata": {},
   "outputs": [
    {
     "name": "stdout",
     "output_type": "stream",
     "text": [
      "{1: [[1, 2], [3, 2]]}\n"
     ]
    }
   ],
   "source": [
    "#d = {}\n",
    "d[1] = d.get(1, []) + [[3,2]]\n",
    "print(d)"
   ]
  },
  {
   "cell_type": "code",
   "execution_count": 10,
   "metadata": {},
   "outputs": [
    {
     "name": "stdout",
     "output_type": "stream",
     "text": [
      "True\n"
     ]
    }
   ],
   "source": [
    "print(0<=0<3)"
   ]
  },
  {
   "cell_type": "code",
   "execution_count": null,
   "metadata": {},
   "outputs": [],
   "source": []
  }
 ],
 "metadata": {
  "kernelspec": {
   "display_name": "Python 3",
   "language": "python",
   "name": "python3"
  },
  "language_info": {
   "codemirror_mode": {
    "name": "ipython",
    "version": 3
   },
   "file_extension": ".py",
   "mimetype": "text/x-python",
   "name": "python",
   "nbconvert_exporter": "python",
   "pygments_lexer": "ipython3",
   "version": "3.7.6"
  }
 },
 "nbformat": 4,
 "nbformat_minor": 4
}
