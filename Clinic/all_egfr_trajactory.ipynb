{
 "cells": [
  {
   "cell_type": "code",
   "execution_count": 1,
   "metadata": {},
   "outputs": [
    {
     "name": "stdout",
     "output_type": "stream",
     "text": [
      "71322\n",
      "7004\n",
      "90812\n",
      "7004\n"
     ]
    }
   ],
   "source": [
    "#step1\n",
    "import pandas as pd\n",
    "import numpy as np\n",
    "egfr = pd.read_csv('All_egfr.csv')\n",
    "egfr = egfr[(egfr['date'] > '2009-12-31') & (egfr['date'] <= '2019-01-01')]\n",
    "egfr_acct = list(set(list(egfr['TMA_Acct'])))\n",
    "all_egfr = pd.read_csv('All_egfr.csv')\n",
    "all_egfr = all_egfr[all_egfr['TMA_Acct'].isin(egfr_acct)]\n",
    "def num(df):\n",
    "    print(len(df))\n",
    "    print(len(df['TMA_Acct'].unique()))\n",
    "def show(df, n):\n",
    "    print(pd.DataFrame(df[df['TMA_Acct'] == n]))\n",
    "def mapping(n):\n",
    "    if n >= 90.0: stage = '1'\n",
    "    elif n >= 60.0: stage = '2'\n",
    "    elif n >= 45.0: stage = '3a'\n",
    "    elif n >= 30.0: stage = '3b'\n",
    "    elif n >= 15.0: stage = '4'\n",
    "    else: stage = '5'\n",
    "    return(stage)\n",
    "num(egfr)\n",
    "num(all_egfr)"
   ]
  },
  {
   "cell_type": "code",
   "execution_count": 2,
   "metadata": {},
   "outputs": [
    {
     "name": "stdout",
     "output_type": "stream",
     "text": [
      "7004\n",
      "7004\n"
     ]
    },
    {
     "data": {
      "text/html": [
       "<div>\n",
       "<style scoped>\n",
       "    .dataframe tbody tr th:only-of-type {\n",
       "        vertical-align: middle;\n",
       "    }\n",
       "\n",
       "    .dataframe tbody tr th {\n",
       "        vertical-align: top;\n",
       "    }\n",
       "\n",
       "    .dataframe thead th {\n",
       "        text-align: right;\n",
       "    }\n",
       "</style>\n",
       "<table border=\"1\" class=\"dataframe\">\n",
       "  <thead>\n",
       "    <tr style=\"text-align: right;\">\n",
       "      <th></th>\n",
       "      <th>TMA_Acct</th>\n",
       "      <th>min</th>\n",
       "    </tr>\n",
       "  </thead>\n",
       "  <tbody>\n",
       "    <tr>\n",
       "      <th>0</th>\n",
       "      <td>37</td>\n",
       "      <td>2009-03-25</td>\n",
       "    </tr>\n",
       "    <tr>\n",
       "      <th>1</th>\n",
       "      <td>64</td>\n",
       "      <td>2018-05-15 00:00:00</td>\n",
       "    </tr>\n",
       "  </tbody>\n",
       "</table>\n",
       "</div>"
      ],
      "text/plain": [
       "   TMA_Acct                  min\n",
       "0        37           2009-03-25\n",
       "1        64  2018-05-15 00:00:00"
      ]
     },
     "execution_count": 2,
     "metadata": {},
     "output_type": "execute_result"
    }
   ],
   "source": [
    "early = pd.DataFrame(all_egfr.groupby(['TMA_Acct']).agg({'date': [np.min]})).reset_index()\n",
    "early.columns=['TMA_Acct', 'min']\n",
    "num(early)\n",
    "early.head(2)"
   ]
  },
  {
   "cell_type": "markdown",
   "metadata": {},
   "source": [
    "### enter after 2010"
   ]
  },
  {
   "cell_type": "code",
   "execution_count": 3,
   "metadata": {},
   "outputs": [
    {
     "name": "stdout",
     "output_type": "stream",
     "text": [
      "4702\n",
      "4702\n"
     ]
    }
   ],
   "source": [
    "enter_after_2010 = early[(early['min'] > '2009-12-31') & (early['min'] <= '2019-01-01')]\n",
    "num(enter_after_2010)"
   ]
  },
  {
   "cell_type": "code",
   "execution_count": 4,
   "metadata": {},
   "outputs": [
    {
     "name": "stdout",
     "output_type": "stream",
     "text": [
      "4856\n",
      "4702\n"
     ]
    }
   ],
   "source": [
    "first_enter_after_2010 = pd.merge(egfr, enter_after_2010, how = 'inner', left_on = ['TMA_Acct', 'date'], right_on = ['TMA_Acct', 'min'])\n",
    "num(first_enter_after_2010)"
   ]
  },
  {
   "cell_type": "code",
   "execution_count": 5,
   "metadata": {},
   "outputs": [],
   "source": [
    "first_enter_after_2010_egfr = pd.DataFrame(first_enter_after_2010[['TMA_Acct', 'egfr']].groupby(['TMA_Acct']).agg({'egfr': np.mean})).reset_index()"
   ]
  },
  {
   "cell_type": "code",
   "execution_count": 6,
   "metadata": {},
   "outputs": [],
   "source": [
    "first_enter_after_2010_egfr['stage'] = first_enter_after_2010_egfr['egfr'].apply(lambda x: mapping(x))"
   ]
  },
  {
   "cell_type": "code",
   "execution_count": 7,
   "metadata": {},
   "outputs": [
    {
     "name": "stdout",
     "output_type": "stream",
     "text": [
      "4702\n",
      "4702\n"
     ]
    }
   ],
   "source": [
    "first_enter_after_2010_date = first_enter_after_2010[['TMA_Acct', 'date']]\n",
    "first_enter_after_2010_date = first_enter_after_2010_date.drop_duplicates()\n",
    "num(first_enter_after_2010_date)"
   ]
  },
  {
   "cell_type": "code",
   "execution_count": 8,
   "metadata": {},
   "outputs": [],
   "source": [
    "first_enter_after_2010_stage = pd.merge(first_enter_after_2010_egfr, first_enter_after_2010_date, how = 'inner', left_on = 'TMA_Acct', right_on = 'TMA_Acct')"
   ]
  },
  {
   "cell_type": "code",
   "execution_count": 9,
   "metadata": {},
   "outputs": [
    {
     "name": "stdout",
     "output_type": "stream",
     "text": [
      "4702\n",
      "4702\n"
     ]
    }
   ],
   "source": [
    "num(first_enter_after_2010_stage)"
   ]
  },
  {
   "cell_type": "code",
   "execution_count": 10,
   "metadata": {},
   "outputs": [
    {
     "data": {
      "text/html": [
       "<div>\n",
       "<style scoped>\n",
       "    .dataframe tbody tr th:only-of-type {\n",
       "        vertical-align: middle;\n",
       "    }\n",
       "\n",
       "    .dataframe tbody tr th {\n",
       "        vertical-align: top;\n",
       "    }\n",
       "\n",
       "    .dataframe thead th {\n",
       "        text-align: right;\n",
       "    }\n",
       "</style>\n",
       "<table border=\"1\" class=\"dataframe\">\n",
       "  <thead>\n",
       "    <tr style=\"text-align: right;\">\n",
       "      <th></th>\n",
       "      <th>TMA_Acct</th>\n",
       "      <th>min</th>\n",
       "      <th>egfr</th>\n",
       "      <th>stage</th>\n",
       "    </tr>\n",
       "  </thead>\n",
       "  <tbody>\n",
       "    <tr>\n",
       "      <th>0</th>\n",
       "      <td>64</td>\n",
       "      <td>2018-05-15 00:00:00</td>\n",
       "      <td>10.000000</td>\n",
       "      <td>5</td>\n",
       "    </tr>\n",
       "    <tr>\n",
       "      <th>1</th>\n",
       "      <td>86</td>\n",
       "      <td>2010-10-09</td>\n",
       "      <td>20.121101</td>\n",
       "      <td>4</td>\n",
       "    </tr>\n",
       "  </tbody>\n",
       "</table>\n",
       "</div>"
      ],
      "text/plain": [
       "   TMA_Acct                  min       egfr stage\n",
       "0        64  2018-05-15 00:00:00  10.000000     5\n",
       "1        86           2010-10-09  20.121101     4"
      ]
     },
     "execution_count": 10,
     "metadata": {},
     "output_type": "execute_result"
    }
   ],
   "source": [
    "first_enter_after_2010_stage.rename(columns={\"date\": \"min\"}, inplace = 'True')\n",
    "first_enter_after_2010_stage = first_enter_after_2010_stage[['TMA_Acct', 'min', 'egfr', 'stage']]\n",
    "first_enter_after_2010_stage.head(2)"
   ]
  },
  {
   "cell_type": "markdown",
   "metadata": {},
   "source": [
    "### enter before 2010"
   ]
  },
  {
   "cell_type": "code",
   "execution_count": 11,
   "metadata": {},
   "outputs": [],
   "source": [
    "acct_enter_after_2010 = list(first_enter_after_2010_stage['TMA_Acct'])\n",
    "acct_enter_before_2010 = list(egfr[~egfr['TMA_Acct'].isin(acct_enter_after_2010)]['TMA_Acct'])"
   ]
  },
  {
   "cell_type": "code",
   "execution_count": 12,
   "metadata": {},
   "outputs": [
    {
     "name": "stdout",
     "output_type": "stream",
     "text": [
      "47661\n",
      "2302\n"
     ]
    }
   ],
   "source": [
    "all_egfr_enter_before_2010 = all_egfr[all_egfr['TMA_Acct'].isin(acct_enter_before_2010)]\n",
    "num(all_egfr_enter_before_2010)"
   ]
  },
  {
   "cell_type": "code",
   "execution_count": 13,
   "metadata": {},
   "outputs": [],
   "source": [
    "def extract_egfr(all_data, time1, time2):\n",
    "    egfr_1 = all_data[(all_data['date'] > time1) & (all_egfr_enter_before_2010['date'] < time2)]\n",
    "    early_1 = pd.DataFrame(egfr_1.groupby(['TMA_Acct']).agg({'date': [np.min]})).reset_index()\n",
    "    early_1.columns=['TMA_Acct', 'min']\n",
    "    early_1_all = pd.merge(all_data, early_1, how = 'inner', left_on = ['TMA_Acct', 'date'], right_on = ['TMA_Acct', 'min'])\n",
    "    early_1_all = pd.DataFrame(early_1_all[['TMA_Acct', 'egfr']].groupby(['TMA_Acct']).agg({'egfr': np.mean})).reset_index()\n",
    "    early_1_all['stage'] = early_1_all['egfr'].apply(lambda x: mapping(x))\n",
    "    part2 = pd.merge(early_1, early_1_all, how = 'inner', left_on = 'TMA_Acct', right_on = 'TMA_Acct')\n",
    "    part2_acct = list(part2['TMA_Acct'])\n",
    "    all_data = all_data[~all_data['TMA_Acct'].isin(part2_acct)]\n",
    "    num(all_data)\n",
    "    num(part2)\n",
    "    return all_data, part2"
   ]
  },
  {
   "cell_type": "code",
   "execution_count": 14,
   "metadata": {},
   "outputs": [
    {
     "name": "stdout",
     "output_type": "stream",
     "text": [
      "24334\n",
      "1554\n",
      "748\n",
      "748\n"
     ]
    }
   ],
   "source": [
    "all_egfr_enter_before_2010, part2 = extract_egfr(all_egfr_enter_before_2010, '2009-12-31', '2010-04-01')"
   ]
  },
  {
   "cell_type": "code",
   "execution_count": 15,
   "metadata": {},
   "outputs": [
    {
     "name": "stdout",
     "output_type": "stream",
     "text": [
      "14923\n",
      "1147\n",
      "407\n",
      "407\n"
     ]
    }
   ],
   "source": [
    "all_egfr_enter_before_2010, part3 = extract_egfr(all_egfr_enter_before_2010, '2009-09-30', '2010-01-01')"
   ]
  },
  {
   "cell_type": "code",
   "execution_count": 16,
   "metadata": {},
   "outputs": [
    {
     "name": "stdout",
     "output_type": "stream",
     "text": [
      "11436\n",
      "970\n",
      "177\n",
      "177\n"
     ]
    }
   ],
   "source": [
    "all_egfr_enter_before_2010, part4 = extract_egfr(all_egfr_enter_before_2010, '2010-03-31', '2010-07-01')"
   ]
  },
  {
   "cell_type": "code",
   "execution_count": 17,
   "metadata": {},
   "outputs": [
    {
     "name": "stdout",
     "output_type": "stream",
     "text": [
      "8844\n",
      "830\n",
      "140\n",
      "140\n"
     ]
    }
   ],
   "source": [
    "all_egfr_enter_before_2010, part5 = extract_egfr(all_egfr_enter_before_2010, '2009-06-30', '2009-10-01')"
   ]
  },
  {
   "cell_type": "code",
   "execution_count": 18,
   "metadata": {},
   "outputs": [
    {
     "name": "stdout",
     "output_type": "stream",
     "text": [
      "7742\n",
      "767\n",
      "63\n",
      "63\n"
     ]
    }
   ],
   "source": [
    "all_egfr_enter_before_2010, part6 = extract_egfr(all_egfr_enter_before_2010, '2010-06-30', '2010-10-01')"
   ]
  },
  {
   "cell_type": "code",
   "execution_count": 19,
   "metadata": {},
   "outputs": [
    {
     "name": "stdout",
     "output_type": "stream",
     "text": [
      "6841\n",
      "721\n",
      "46\n",
      "46\n"
     ]
    }
   ],
   "source": [
    "all_egfr_enter_before_2010, part7 = extract_egfr(all_egfr_enter_before_2010, '2009-03-31', '2009-07-01')"
   ]
  },
  {
   "cell_type": "code",
   "execution_count": 20,
   "metadata": {},
   "outputs": [
    {
     "name": "stdout",
     "output_type": "stream",
     "text": [
      "6343\n",
      "698\n",
      "23\n",
      "23\n"
     ]
    }
   ],
   "source": [
    "all_egfr_enter_before_2010, part8 = extract_egfr(all_egfr_enter_before_2010, '2010-09-30', '2011-01-01')"
   ]
  },
  {
   "cell_type": "code",
   "execution_count": 21,
   "metadata": {},
   "outputs": [
    {
     "name": "stdout",
     "output_type": "stream",
     "text": [
      "6162\n",
      "686\n",
      "12\n",
      "12\n"
     ]
    }
   ],
   "source": [
    "all_egfr_enter_before_2010, part9 = extract_egfr(all_egfr_enter_before_2010, '2008-12-31', '2009-04-01')"
   ]
  },
  {
   "cell_type": "code",
   "execution_count": 22,
   "metadata": {},
   "outputs": [
    {
     "name": "stdout",
     "output_type": "stream",
     "text": [
      "4426\n",
      "686\n"
     ]
    }
   ],
   "source": [
    "part10 = all_egfr_enter_before_2010[all_egfr_enter_before_2010['date'] > '2010-01-01']\n",
    "num(part10)"
   ]
  },
  {
   "cell_type": "code",
   "execution_count": 23,
   "metadata": {},
   "outputs": [
    {
     "name": "stdout",
     "output_type": "stream",
     "text": [
      "686\n",
      "686\n"
     ]
    },
    {
     "data": {
      "text/html": [
       "<div>\n",
       "<style scoped>\n",
       "    .dataframe tbody tr th:only-of-type {\n",
       "        vertical-align: middle;\n",
       "    }\n",
       "\n",
       "    .dataframe tbody tr th {\n",
       "        vertical-align: top;\n",
       "    }\n",
       "\n",
       "    .dataframe thead th {\n",
       "        text-align: right;\n",
       "    }\n",
       "</style>\n",
       "<table border=\"1\" class=\"dataframe\">\n",
       "  <thead>\n",
       "    <tr style=\"text-align: right;\">\n",
       "      <th></th>\n",
       "      <th>TMA_Acct</th>\n",
       "      <th>min</th>\n",
       "    </tr>\n",
       "  </thead>\n",
       "  <tbody>\n",
       "    <tr>\n",
       "      <th>0</th>\n",
       "      <td>116</td>\n",
       "      <td>2011-05-19</td>\n",
       "    </tr>\n",
       "    <tr>\n",
       "      <th>1</th>\n",
       "      <td>403</td>\n",
       "      <td>2015-07-23</td>\n",
       "    </tr>\n",
       "  </tbody>\n",
       "</table>\n",
       "</div>"
      ],
      "text/plain": [
       "   TMA_Acct         min\n",
       "0       116  2011-05-19\n",
       "1       403  2015-07-23"
      ]
     },
     "execution_count": 23,
     "metadata": {},
     "output_type": "execute_result"
    }
   ],
   "source": [
    "early_10 = pd.DataFrame(part10.groupby(['TMA_Acct']).agg({'date': [np.min]})).reset_index()\n",
    "early_10.columns=['TMA_Acct', 'min']\n",
    "num(early_10)\n",
    "early_10.head(2)"
   ]
  },
  {
   "cell_type": "code",
   "execution_count": 24,
   "metadata": {},
   "outputs": [
    {
     "name": "stdout",
     "output_type": "stream",
     "text": [
      "686\n",
      "686\n"
     ]
    }
   ],
   "source": [
    "part10 = pd.merge(part10, early_10, how = 'inner', left_on = ['TMA_Acct', 'date'], right_on = ['TMA_Acct', 'min'])\n",
    "early_10_all = pd.DataFrame(part10[['TMA_Acct', 'egfr']].groupby(['TMA_Acct']).agg({'egfr': np.mean})).reset_index()\n",
    "early_10_all['stage'] = early_10_all['egfr'].apply(lambda x: mapping(x))\n",
    "part10 = pd.merge(early_10, early_10_all, how = 'inner', left_on = 'TMA_Acct', right_on = 'TMA_Acct')\n",
    "num(part10)"
   ]
  },
  {
   "cell_type": "code",
   "execution_count": 25,
   "metadata": {},
   "outputs": [],
   "source": [
    "combine_part = pd.concat([part2, part3, part4, part5, part6, part7, part8, part9, part10], axis = 0)"
   ]
  },
  {
   "cell_type": "code",
   "execution_count": 26,
   "metadata": {},
   "outputs": [],
   "source": [
    "egfr_earliest = pd.concat([first_enter_after_2010_stage, combine_part], axis = 0)"
   ]
  },
  {
   "cell_type": "code",
   "execution_count": 27,
   "metadata": {},
   "outputs": [
    {
     "name": "stdout",
     "output_type": "stream",
     "text": [
      "7004\n",
      "7004\n"
     ]
    }
   ],
   "source": [
    "num(egfr_earliest)"
   ]
  },
  {
   "cell_type": "code",
   "execution_count": 28,
   "metadata": {},
   "outputs": [],
   "source": [
    "egfr_earliest.to_csv('egfr_earliest.csv')"
   ]
  },
  {
   "cell_type": "code",
   "execution_count": 2,
   "metadata": {},
   "outputs": [
    {
     "name": "stdout",
     "output_type": "stream",
     "text": [
      "7004\n",
      "7004\n",
      "1672\n",
      "1790\n",
      "1006\n",
      "555\n"
     ]
    }
   ],
   "source": [
    "#step2\n",
    "egfr_earliest = pd.read_csv('egfr_earliest.csv')\n",
    "num(egfr_earliest)\n",
    "egfr_earliest_3a = egfr_earliest[egfr_earliest['stage'] == '3a']\n",
    "egfr_earliest_3a_acct = list(set(list(egfr_earliest_3a['TMA_Acct'])))\n",
    "print(len(egfr_earliest_3a))\n",
    "egfr_earliest_3b = egfr_earliest[egfr_earliest['stage'] == '3b']\n",
    "egfr_earliest_3b_acct = list(set(list(egfr_earliest_3b['TMA_Acct'])))\n",
    "egfr_earliest_4 = egfr_earliest[egfr_earliest['stage'] == '4']\n",
    "egfr_earliest_4_acct = list(set(list(egfr_earliest_4['TMA_Acct'])))\n",
    "egfr_earliest_5 = egfr_earliest[egfr_earliest['stage'] == '5']\n",
    "egfr_earliest_5_acct = list(set(list(egfr_earliest_5['TMA_Acct'])))\n",
    "print(len(egfr_earliest_3b))\n",
    "print(len(egfr_earliest_4))\n",
    "print(len(egfr_earliest_5))"
   ]
  },
  {
   "cell_type": "code",
   "execution_count": 3,
   "metadata": {},
   "outputs": [],
   "source": [
    "def final_in_stage(All_egfr_10, stage_acct):\n",
    "    All_egfr_3a = All_egfr_10[All_egfr_10['TMA_Acct'].isin(stage_acct)]\n",
    "    All_egfr_3a = All_egfr_3a[['TMA_Acct', 'date', 'stage','egfr']]\n",
    "    All_egfr_3a = All_egfr_3a.drop_duplicates()\n",
    "    first = pd.DataFrame(All_egfr_3a.groupby(['TMA_Acct']).agg({'date': [np.min]})).reset_index()\n",
    "    first.columns=['TMA_Acct', 'min']\n",
    "    All_egfr_3a = pd.merge(All_egfr_3a, first, how = 'left', left_on = ['TMA_Acct'], right_on = ['TMA_Acct'])\n",
    "    All_egfr_3a['date'] = pd.to_datetime(All_egfr_3a['date'])\n",
    "    All_egfr_3a['min'] = pd.to_datetime(All_egfr_3a['min'])\n",
    "    All_egfr_3a['period'] = ((All_egfr_3a['date'] - All_egfr_3a['min']).dt.days / 90).astype('int')\n",
    "    egfr_traj = All_egfr_3a[['TMA_Acct', 'egfr', 'period']]\n",
    "    egfr_traj = pd.DataFrame(egfr_traj.groupby(['TMA_Acct', 'period']).agg({'egfr': np.mean})).reset_index()\n",
    "    egfr_traj = egfr_traj.pivot(index='TMA_Acct', columns='period', values='egfr')\n",
    "    print(len(egfr_traj))\n",
    "    final = egfr_traj.dropna(thresh=3)\n",
    "    print(len(final))\n",
    "    for i in range(37):\n",
    "        final['t' + str(i)] = i\n",
    "        final.rename(columns={i: \"v\" + str(i)}, inplace = 'True')\n",
    "    return final"
   ]
  },
  {
   "cell_type": "code",
   "execution_count": 4,
   "metadata": {},
   "outputs": [
    {
     "name": "stdout",
     "output_type": "stream",
     "text": [
      "1672\n",
      "1035\n"
     ]
    },
    {
     "name": "stderr",
     "output_type": "stream",
     "text": [
      "C:\\Users\\DELL\\anaconda3\\lib\\site-packages\\ipykernel_launcher.py:18: SettingWithCopyWarning: \n",
      "A value is trying to be set on a copy of a slice from a DataFrame.\n",
      "Try using .loc[row_indexer,col_indexer] = value instead\n",
      "\n",
      "See the caveats in the documentation: https://pandas.pydata.org/pandas-docs/stable/user_guide/indexing.html#returning-a-view-versus-a-copy\n",
      "C:\\Users\\DELL\\AppData\\Roaming\\Python\\Python37\\site-packages\\pandas\\core\\frame.py:4133: SettingWithCopyWarning: \n",
      "A value is trying to be set on a copy of a slice from a DataFrame\n",
      "\n",
      "See the caveats in the documentation: https://pandas.pydata.org/pandas-docs/stable/user_guide/indexing.html#returning-a-view-versus-a-copy\n",
      "  errors=errors,\n"
     ]
    },
    {
     "name": "stdout",
     "output_type": "stream",
     "text": [
      "1790\n",
      "1184\n",
      "1006\n",
      "634\n",
      "555\n",
      "317\n"
     ]
    }
   ],
   "source": [
    "final_3a = final_in_stage(egfr, egfr_earliest_3a_acct)\n",
    "final_3b = final_in_stage(egfr, egfr_earliest_3b_acct)\n",
    "final_4 = final_in_stage(egfr, egfr_earliest_4_acct)\n",
    "final_5 = final_in_stage(egfr, egfr_earliest_5_acct)"
   ]
  },
  {
   "cell_type": "code",
   "execution_count": 5,
   "metadata": {},
   "outputs": [],
   "source": [
    "final_3a = final_3a.replace([np.inf, -np.inf], np.nan)\n",
    "final_3b = final_3b.replace([np.inf, -np.inf], np.nan)\n",
    "final_4 = final_4.replace([np.inf, -np.inf], np.nan)\n",
    "final_5 = final_5.replace([np.inf, -np.inf], np.nan)"
   ]
  },
  {
   "cell_type": "code",
   "execution_count": 6,
   "metadata": {},
   "outputs": [],
   "source": [
    "final_3a.to_csv('final_3a_3.csv')\n",
    "final_3b.to_csv('final_3b_3.csv')\n",
    "final_4.to_csv('final_4_3.csv')\n",
    "final_5.to_csv('final_5_3.csv')"
   ]
  },
  {
   "cell_type": "markdown",
   "metadata": {},
   "source": [
    "### Trajactory Analysis"
   ]
  },
  {
   "cell_type": "code",
   "execution_count": 7,
   "metadata": {},
   "outputs": [
    {
     "data": {
      "text/html": [
       "<div>\n",
       "<style scoped>\n",
       "    .dataframe tbody tr th:only-of-type {\n",
       "        vertical-align: middle;\n",
       "    }\n",
       "\n",
       "    .dataframe tbody tr th {\n",
       "        vertical-align: top;\n",
       "    }\n",
       "\n",
       "    .dataframe thead th {\n",
       "        text-align: right;\n",
       "    }\n",
       "</style>\n",
       "<table border=\"1\" class=\"dataframe\">\n",
       "  <thead>\n",
       "    <tr style=\"text-align: right;\">\n",
       "      <th></th>\n",
       "      <th>Unnamed: 0</th>\n",
       "      <th>TMA_Acct</th>\n",
       "      <th>DOB</th>\n",
       "      <th>Sex</th>\n",
       "      <th>Race</th>\n",
       "      <th>hyper_date</th>\n",
       "      <th>diabe_date</th>\n",
       "      <th>earliest_date_in_all_lab</th>\n",
       "      <th>Date_bmi</th>\n",
       "      <th>BMI</th>\n",
       "      <th>Age_in_2010</th>\n",
       "      <th>avg_egfr</th>\n",
       "      <th>earliest_egfr_date</th>\n",
       "      <th>stage</th>\n",
       "      <th>Patient_Status_Date</th>\n",
       "      <th>Patient_Status</th>\n",
       "    </tr>\n",
       "  </thead>\n",
       "  <tbody>\n",
       "    <tr>\n",
       "      <th>0</th>\n",
       "      <td>0</td>\n",
       "      <td>9</td>\n",
       "      <td>1921</td>\n",
       "      <td>Male</td>\n",
       "      <td>White</td>\n",
       "      <td>2001-05-29</td>\n",
       "      <td>NaN</td>\n",
       "      <td>2000-09-22</td>\n",
       "      <td>NaN</td>\n",
       "      <td>NaN</td>\n",
       "      <td>89</td>\n",
       "      <td>NaN</td>\n",
       "      <td>NaN</td>\n",
       "      <td>NaN</td>\n",
       "      <td>6-30-2010</td>\n",
       "      <td>Deceased</td>\n",
       "    </tr>\n",
       "    <tr>\n",
       "      <th>1</th>\n",
       "      <td>1</td>\n",
       "      <td>10</td>\n",
       "      <td>1926</td>\n",
       "      <td>Female</td>\n",
       "      <td>NaN</td>\n",
       "      <td>NaN</td>\n",
       "      <td>NaN</td>\n",
       "      <td>NaN</td>\n",
       "      <td>NaN</td>\n",
       "      <td>NaN</td>\n",
       "      <td>84</td>\n",
       "      <td>NaN</td>\n",
       "      <td>NaN</td>\n",
       "      <td>NaN</td>\n",
       "      <td>NaN</td>\n",
       "      <td>Active</td>\n",
       "    </tr>\n",
       "  </tbody>\n",
       "</table>\n",
       "</div>"
      ],
      "text/plain": [
       "   Unnamed: 0  TMA_Acct   DOB     Sex   Race  hyper_date diabe_date  \\\n",
       "0           0         9  1921    Male  White  2001-05-29        NaN   \n",
       "1           1        10  1926  Female    NaN         NaN        NaN   \n",
       "\n",
       "  earliest_date_in_all_lab Date_bmi  BMI  Age_in_2010  avg_egfr  \\\n",
       "0               2000-09-22      NaN  NaN           89       NaN   \n",
       "1                      NaN      NaN  NaN           84       NaN   \n",
       "\n",
       "  earliest_egfr_date stage Patient_Status_Date Patient_Status  \n",
       "0                NaN   NaN           6-30-2010       Deceased  \n",
       "1                NaN   NaN                 NaN         Active  "
      ]
     },
     "execution_count": 7,
     "metadata": {},
     "output_type": "execute_result"
    }
   ],
   "source": [
    "baseline = pd.read_csv('baseline.csv')\n",
    "baseline.head(2)"
   ]
  },
  {
   "cell_type": "code",
   "execution_count": 10,
   "metadata": {},
   "outputs": [],
   "source": [
    "final3a = pd.read_csv('final_3a_3.csv')\n",
    "final3b = pd.read_csv('final_3b_3.csv')\n",
    "final4 = pd.read_csv('final_4_3.csv')\n",
    "final5 = pd.read_csv('final_5_3.csv')"
   ]
  },
  {
   "cell_type": "code",
   "execution_count": 11,
   "metadata": {},
   "outputs": [
    {
     "data": {
      "text/plain": [
       "1287"
      ]
     },
     "execution_count": 11,
     "metadata": {},
     "output_type": "execute_result"
    }
   ],
   "source": [
    "len(final3a)"
   ]
  },
  {
   "cell_type": "code",
   "execution_count": 12,
   "metadata": {},
   "outputs": [],
   "source": [
    "final3a_1287 = set(list(final3a['TMA_Acct']))"
   ]
  },
  {
   "cell_type": "code",
   "execution_count": 13,
   "metadata": {},
   "outputs": [],
   "source": [
    "final3a_acct = list(final3a['TMA_Acct'])"
   ]
  },
  {
   "cell_type": "code",
   "execution_count": 8,
   "metadata": {},
   "outputs": [],
   "source": [
    "def final_base(final, base):\n",
    "    base = base.fillna('n')\n",
    "    base = base[['TMA_Acct', 'Sex', 'Race', 'hyper_date', 'diabe_date', 'Age_in_2010']]\n",
    "    final_base = pd.merge(final, base, how = 'inner', left_on = 'TMA_Acct', right_on = 'TMA_Acct')\n",
    "    final_base['sex_v'] = final_base['Sex'].apply(lambda x: 1 if x == 'Female' else 0)\n",
    "    final_base['race_v'] = final_base['Race'].apply(lambda x: 1 if x == 'Black / African American, Black' or x == 'Black/African American' or x == 'Black/African American, Other' else 0)\n",
    "    final_base['hyper_v'] = final_base['hyper_date'].apply(lambda x: 0 if x == 'n' else 1)\n",
    "    final_base['diabe_v'] = final_base['diabe_date'].apply(lambda x: 0 if x == 'n' else 1)\n",
    "    return final_base"
   ]
  },
  {
   "cell_type": "code",
   "execution_count": 11,
   "metadata": {},
   "outputs": [],
   "source": [
    "final_3a_base = final_base(final3a, baseline)\n",
    "final_3a_base.to_csv('final_3a_base_3.csv')\n",
    "final_3b_base = final_base(final3b, baseline)\n",
    "final_3b_base.to_csv('final_3b_base_3.csv')\n",
    "final_4_base = final_base(final4, baseline)\n",
    "final_4_base.to_csv('final_4_base_3.csv')\n",
    "final_5_base = final_base(final5, baseline)\n",
    "final_5_base.to_csv('final_5_base_3.csv')"
   ]
  },
  {
   "cell_type": "code",
   "execution_count": 12,
   "metadata": {},
   "outputs": [
    {
     "data": {
      "text/plain": [
       "937"
      ]
     },
     "execution_count": 12,
     "metadata": {},
     "output_type": "execute_result"
    }
   ],
   "source": [
    "len(final_3a_base)"
   ]
  },
  {
   "cell_type": "code",
   "execution_count": 19,
   "metadata": {},
   "outputs": [],
   "source": [
    "final3a_1085 = set(list(final_3a_base['TMA_Acct']))"
   ]
  },
  {
   "cell_type": "code",
   "execution_count": 20,
   "metadata": {},
   "outputs": [],
   "source": [
    "missing = [i for i in final3a_1287 if i not in final3a_1085]"
   ]
  },
  {
   "cell_type": "code",
   "execution_count": 69,
   "metadata": {},
   "outputs": [],
   "source": [
    "master = pd.read_csv(\"master.csv\")"
   ]
  },
  {
   "cell_type": "code",
   "execution_count": 72,
   "metadata": {},
   "outputs": [
    {
     "data": {
      "text/html": [
       "<div>\n",
       "<style scoped>\n",
       "    .dataframe tbody tr th:only-of-type {\n",
       "        vertical-align: middle;\n",
       "    }\n",
       "\n",
       "    .dataframe tbody tr th {\n",
       "        vertical-align: top;\n",
       "    }\n",
       "\n",
       "    .dataframe thead th {\n",
       "        text-align: right;\n",
       "    }\n",
       "</style>\n",
       "<table border=\"1\" class=\"dataframe\">\n",
       "  <thead>\n",
       "    <tr style=\"text-align: right;\">\n",
       "      <th></th>\n",
       "      <th>Unnamed: 0</th>\n",
       "      <th>TMA_Acct</th>\n",
       "      <th>Account_Date</th>\n",
       "      <th>Sex</th>\n",
       "      <th>DOB</th>\n",
       "      <th>Marital_Status</th>\n",
       "      <th>Race</th>\n",
       "      <th>Location</th>\n",
       "      <th>Zip_Code</th>\n",
       "      <th>Patient_Status_Date</th>\n",
       "      <th>Patient_Status</th>\n",
       "      <th>Ethnicity</th>\n",
       "      <th>Language</th>\n",
       "    </tr>\n",
       "  </thead>\n",
       "  <tbody>\n",
       "    <tr>\n",
       "      <th>0</th>\n",
       "      <td>0</td>\n",
       "      <td>9</td>\n",
       "      <td>06-01-2009</td>\n",
       "      <td>Male</td>\n",
       "      <td>20-04-1921</td>\n",
       "      <td>NaN</td>\n",
       "      <td>White</td>\n",
       "      <td>Hopewell Office</td>\n",
       "      <td>15001</td>\n",
       "      <td>6-30-2010</td>\n",
       "      <td>Deceased</td>\n",
       "      <td>NaN</td>\n",
       "      <td>NaN</td>\n",
       "    </tr>\n",
       "    <tr>\n",
       "      <th>1</th>\n",
       "      <td>1</td>\n",
       "      <td>10</td>\n",
       "      <td>06-01-2009</td>\n",
       "      <td>Female</td>\n",
       "      <td>18-05-1926</td>\n",
       "      <td>NaN</td>\n",
       "      <td>NaN</td>\n",
       "      <td>Tma</td>\n",
       "      <td>15360</td>\n",
       "      <td>NaN</td>\n",
       "      <td>Active</td>\n",
       "      <td>NaN</td>\n",
       "      <td>NaN</td>\n",
       "    </tr>\n",
       "  </tbody>\n",
       "</table>\n",
       "</div>"
      ],
      "text/plain": [
       "   Unnamed: 0  TMA_Acct Account_Date     Sex         DOB Marital_Status  \\\n",
       "0           0         9   06-01-2009    Male  20-04-1921            NaN   \n",
       "1           1        10   06-01-2009  Female  18-05-1926            NaN   \n",
       "\n",
       "    Race         Location Zip_Code Patient_Status_Date Patient_Status  \\\n",
       "0  White  Hopewell Office    15001           6-30-2010       Deceased   \n",
       "1    NaN              Tma    15360                 NaN         Active   \n",
       "\n",
       "  Ethnicity Language  \n",
       "0       NaN      NaN  \n",
       "1       NaN      NaN  "
      ]
     },
     "execution_count": 72,
     "metadata": {},
     "output_type": "execute_result"
    }
   ],
   "source": [
    "master.head(2)"
   ]
  },
  {
   "cell_type": "code",
   "execution_count": 74,
   "metadata": {},
   "outputs": [
    {
     "data": {
      "text/plain": [
       "[18477,\n",
       " 32816,\n",
       " 41026,\n",
       " 47175,\n",
       " 47195,\n",
       " 32865,\n",
       " 45152,\n",
       " 47206,\n",
       " 16500,\n",
       " 30941,\n",
       " 45277,\n",
       " 45304,\n",
       " 33039,\n",
       " 10550,\n",
       " 43327,\n",
       " 39249,\n",
       " 16737,\n",
       " 43363,\n",
       " 37255,\n",
       " 450,\n",
       " 45509,\n",
       " 47559,\n",
       " 45528,\n",
       " 18924,\n",
       " 39405,\n",
       " 8696,\n",
       " 10804,\n",
       " 27199,\n",
       " 45634,\n",
       " 35399,\n",
       " 10863,\n",
       " 39536,\n",
       " 41600,\n",
       " 47764,\n",
       " 39617,\n",
       " 39622,\n",
       " 35533,\n",
       " 33514,\n",
       " 43747,\n",
       " 39677,\n",
       " 45863,\n",
       " 47916,\n",
       " 15156,\n",
       " 21316,\n",
       " 33634,\n",
       " 15204,\n",
       " 45924,\n",
       " 45952,\n",
       " 45969,\n",
       " 45970,\n",
       " 35835,\n",
       " 42027,\n",
       " 48240,\n",
       " 46221,\n",
       " 38052,\n",
       " 44204,\n",
       " 36043,\n",
       " 46292,\n",
       " 46300,\n",
       " 40237,\n",
       " 42287,\n",
       " 9580,\n",
       " 36208,\n",
       " 46466,\n",
       " 44419,\n",
       " 15750,\n",
       " 46470,\n",
       " 32151,\n",
       " 28069,\n",
       " 44452,\n",
       " 38326,\n",
       " 46518,\n",
       " 44531,\n",
       " 36353,\n",
       " 40530,\n",
       " 30292,\n",
       " 46696,\n",
       " 48748,\n",
       " 34414,\n",
       " 36493,\n",
       " 44693,\n",
       " 16027,\n",
       " 44795,\n",
       " 34572,\n",
       " 44831,\n",
       " 46885,\n",
       " 40781,\n",
       " 34653,\n",
       " 16227,\n",
       " 44939,\n",
       " 44953,\n",
       " 40870,\n",
       " 44965,\n",
       " 36783,\n",
       " 45000,\n",
       " 16335,\n",
       " 42988,\n",
       " 47084]"
      ]
     },
     "execution_count": 74,
     "metadata": {},
     "output_type": "execute_result"
    }
   ],
   "source": [
    "missing"
   ]
  },
  {
   "cell_type": "code",
   "execution_count": 76,
   "metadata": {},
   "outputs": [
    {
     "data": {
      "text/html": [
       "<div>\n",
       "<style scoped>\n",
       "    .dataframe tbody tr th:only-of-type {\n",
       "        vertical-align: middle;\n",
       "    }\n",
       "\n",
       "    .dataframe tbody tr th {\n",
       "        vertical-align: top;\n",
       "    }\n",
       "\n",
       "    .dataframe thead th {\n",
       "        text-align: right;\n",
       "    }\n",
       "</style>\n",
       "<table border=\"1\" class=\"dataframe\">\n",
       "  <thead>\n",
       "    <tr style=\"text-align: right;\">\n",
       "      <th></th>\n",
       "      <th>Unnamed: 0</th>\n",
       "      <th>TMA_Acct</th>\n",
       "      <th>Account_Date</th>\n",
       "      <th>Sex</th>\n",
       "      <th>DOB</th>\n",
       "      <th>Marital_Status</th>\n",
       "      <th>Race</th>\n",
       "      <th>Location</th>\n",
       "      <th>Zip_Code</th>\n",
       "      <th>Patient_Status_Date</th>\n",
       "      <th>Patient_Status</th>\n",
       "      <th>Ethnicity</th>\n",
       "      <th>Language</th>\n",
       "    </tr>\n",
       "  </thead>\n",
       "  <tbody>\n",
       "  </tbody>\n",
       "</table>\n",
       "</div>"
      ],
      "text/plain": [
       "Empty DataFrame\n",
       "Columns: [Unnamed: 0, TMA_Acct, Account_Date, Sex, DOB, Marital_Status, Race, Location, Zip_Code, Patient_Status_Date, Patient_Status, Ethnicity, Language]\n",
       "Index: []"
      ]
     },
     "execution_count": 76,
     "metadata": {},
     "output_type": "execute_result"
    }
   ],
   "source": [
    "master[master['TMA_Acct'] == 47084]"
   ]
  },
  {
   "cell_type": "code",
   "execution_count": 77,
   "metadata": {},
   "outputs": [
    {
     "data": {
      "text/html": [
       "<div>\n",
       "<style scoped>\n",
       "    .dataframe tbody tr th:only-of-type {\n",
       "        vertical-align: middle;\n",
       "    }\n",
       "\n",
       "    .dataframe tbody tr th {\n",
       "        vertical-align: top;\n",
       "    }\n",
       "\n",
       "    .dataframe thead th {\n",
       "        text-align: right;\n",
       "    }\n",
       "</style>\n",
       "<table border=\"1\" class=\"dataframe\">\n",
       "  <thead>\n",
       "    <tr style=\"text-align: right;\">\n",
       "      <th>period</th>\n",
       "      <th>v0</th>\n",
       "      <th>v1</th>\n",
       "      <th>v2</th>\n",
       "      <th>v3</th>\n",
       "      <th>v4</th>\n",
       "      <th>v5</th>\n",
       "      <th>v6</th>\n",
       "      <th>v7</th>\n",
       "      <th>v8</th>\n",
       "      <th>v9</th>\n",
       "      <th>...</th>\n",
       "      <th>t27</th>\n",
       "      <th>t28</th>\n",
       "      <th>t29</th>\n",
       "      <th>t30</th>\n",
       "      <th>t31</th>\n",
       "      <th>t32</th>\n",
       "      <th>t33</th>\n",
       "      <th>t34</th>\n",
       "      <th>t35</th>\n",
       "      <th>t36</th>\n",
       "    </tr>\n",
       "    <tr>\n",
       "      <th>TMA_Acct</th>\n",
       "      <th></th>\n",
       "      <th></th>\n",
       "      <th></th>\n",
       "      <th></th>\n",
       "      <th></th>\n",
       "      <th></th>\n",
       "      <th></th>\n",
       "      <th></th>\n",
       "      <th></th>\n",
       "      <th></th>\n",
       "      <th></th>\n",
       "      <th></th>\n",
       "      <th></th>\n",
       "      <th></th>\n",
       "      <th></th>\n",
       "      <th></th>\n",
       "      <th></th>\n",
       "      <th></th>\n",
       "      <th></th>\n",
       "      <th></th>\n",
       "      <th></th>\n",
       "    </tr>\n",
       "  </thead>\n",
       "  <tbody>\n",
       "    <tr>\n",
       "      <th>97</th>\n",
       "      <td>54.680604</td>\n",
       "      <td>NaN</td>\n",
       "      <td>NaN</td>\n",
       "      <td>NaN</td>\n",
       "      <td>39.538942</td>\n",
       "      <td>33.257395</td>\n",
       "      <td>NaN</td>\n",
       "      <td>NaN</td>\n",
       "      <td>30.545747</td>\n",
       "      <td>NaN</td>\n",
       "      <td>...</td>\n",
       "      <td>27</td>\n",
       "      <td>28</td>\n",
       "      <td>29</td>\n",
       "      <td>30</td>\n",
       "      <td>31</td>\n",
       "      <td>32</td>\n",
       "      <td>33</td>\n",
       "      <td>34</td>\n",
       "      <td>35</td>\n",
       "      <td>36</td>\n",
       "    </tr>\n",
       "    <tr>\n",
       "      <th>450</th>\n",
       "      <td>49.000000</td>\n",
       "      <td>NaN</td>\n",
       "      <td>53.0</td>\n",
       "      <td>NaN</td>\n",
       "      <td>49.000000</td>\n",
       "      <td>NaN</td>\n",
       "      <td>53.000000</td>\n",
       "      <td>NaN</td>\n",
       "      <td>NaN</td>\n",
       "      <td>NaN</td>\n",
       "      <td>...</td>\n",
       "      <td>27</td>\n",
       "      <td>28</td>\n",
       "      <td>29</td>\n",
       "      <td>30</td>\n",
       "      <td>31</td>\n",
       "      <td>32</td>\n",
       "      <td>33</td>\n",
       "      <td>34</td>\n",
       "      <td>35</td>\n",
       "      <td>36</td>\n",
       "    </tr>\n",
       "    <tr>\n",
       "      <th>499</th>\n",
       "      <td>54.809306</td>\n",
       "      <td>NaN</td>\n",
       "      <td>NaN</td>\n",
       "      <td>NaN</td>\n",
       "      <td>NaN</td>\n",
       "      <td>40.110099</td>\n",
       "      <td>45.415715</td>\n",
       "      <td>40.735367</td>\n",
       "      <td>44.084108</td>\n",
       "      <td>NaN</td>\n",
       "      <td>...</td>\n",
       "      <td>27</td>\n",
       "      <td>28</td>\n",
       "      <td>29</td>\n",
       "      <td>30</td>\n",
       "      <td>31</td>\n",
       "      <td>32</td>\n",
       "      <td>33</td>\n",
       "      <td>34</td>\n",
       "      <td>35</td>\n",
       "      <td>36</td>\n",
       "    </tr>\n",
       "    <tr>\n",
       "      <th>757</th>\n",
       "      <td>55.365724</td>\n",
       "      <td>NaN</td>\n",
       "      <td>NaN</td>\n",
       "      <td>NaN</td>\n",
       "      <td>57.571767</td>\n",
       "      <td>NaN</td>\n",
       "      <td>NaN</td>\n",
       "      <td>NaN</td>\n",
       "      <td>61.755224</td>\n",
       "      <td>NaN</td>\n",
       "      <td>...</td>\n",
       "      <td>27</td>\n",
       "      <td>28</td>\n",
       "      <td>29</td>\n",
       "      <td>30</td>\n",
       "      <td>31</td>\n",
       "      <td>32</td>\n",
       "      <td>33</td>\n",
       "      <td>34</td>\n",
       "      <td>35</td>\n",
       "      <td>36</td>\n",
       "    </tr>\n",
       "    <tr>\n",
       "      <th>1025</th>\n",
       "      <td>54.480110</td>\n",
       "      <td>NaN</td>\n",
       "      <td>NaN</td>\n",
       "      <td>65.181731</td>\n",
       "      <td>52.793390</td>\n",
       "      <td>NaN</td>\n",
       "      <td>NaN</td>\n",
       "      <td>NaN</td>\n",
       "      <td>47.236767</td>\n",
       "      <td>NaN</td>\n",
       "      <td>...</td>\n",
       "      <td>27</td>\n",
       "      <td>28</td>\n",
       "      <td>29</td>\n",
       "      <td>30</td>\n",
       "      <td>31</td>\n",
       "      <td>32</td>\n",
       "      <td>33</td>\n",
       "      <td>34</td>\n",
       "      <td>35</td>\n",
       "      <td>36</td>\n",
       "    </tr>\n",
       "    <tr>\n",
       "      <th>1052</th>\n",
       "      <td>46.323220</td>\n",
       "      <td>NaN</td>\n",
       "      <td>NaN</td>\n",
       "      <td>NaN</td>\n",
       "      <td>58.169045</td>\n",
       "      <td>NaN</td>\n",
       "      <td>NaN</td>\n",
       "      <td>NaN</td>\n",
       "      <td>53.139278</td>\n",
       "      <td>NaN</td>\n",
       "      <td>...</td>\n",
       "      <td>27</td>\n",
       "      <td>28</td>\n",
       "      <td>29</td>\n",
       "      <td>30</td>\n",
       "      <td>31</td>\n",
       "      <td>32</td>\n",
       "      <td>33</td>\n",
       "      <td>34</td>\n",
       "      <td>35</td>\n",
       "      <td>36</td>\n",
       "    </tr>\n",
       "    <tr>\n",
       "      <th>1088</th>\n",
       "      <td>52.793390</td>\n",
       "      <td>NaN</td>\n",
       "      <td>NaN</td>\n",
       "      <td>NaN</td>\n",
       "      <td>59.772795</td>\n",
       "      <td>NaN</td>\n",
       "      <td>NaN</td>\n",
       "      <td>NaN</td>\n",
       "      <td>47.026582</td>\n",
       "      <td>NaN</td>\n",
       "      <td>...</td>\n",
       "      <td>27</td>\n",
       "      <td>28</td>\n",
       "      <td>29</td>\n",
       "      <td>30</td>\n",
       "      <td>31</td>\n",
       "      <td>32</td>\n",
       "      <td>33</td>\n",
       "      <td>34</td>\n",
       "      <td>35</td>\n",
       "      <td>36</td>\n",
       "    </tr>\n",
       "    <tr>\n",
       "      <th>1150</th>\n",
       "      <td>51.000000</td>\n",
       "      <td>28.0</td>\n",
       "      <td>29.5</td>\n",
       "      <td>34.527328</td>\n",
       "      <td>NaN</td>\n",
       "      <td>NaN</td>\n",
       "      <td>NaN</td>\n",
       "      <td>NaN</td>\n",
       "      <td>NaN</td>\n",
       "      <td>NaN</td>\n",
       "      <td>...</td>\n",
       "      <td>27</td>\n",
       "      <td>28</td>\n",
       "      <td>29</td>\n",
       "      <td>30</td>\n",
       "      <td>31</td>\n",
       "      <td>32</td>\n",
       "      <td>33</td>\n",
       "      <td>34</td>\n",
       "      <td>35</td>\n",
       "      <td>36</td>\n",
       "    </tr>\n",
       "    <tr>\n",
       "      <th>1212</th>\n",
       "      <td>51.199423</td>\n",
       "      <td>NaN</td>\n",
       "      <td>NaN</td>\n",
       "      <td>46.392252</td>\n",
       "      <td>49.000000</td>\n",
       "      <td>NaN</td>\n",
       "      <td>NaN</td>\n",
       "      <td>NaN</td>\n",
       "      <td>NaN</td>\n",
       "      <td>66.0</td>\n",
       "      <td>...</td>\n",
       "      <td>27</td>\n",
       "      <td>28</td>\n",
       "      <td>29</td>\n",
       "      <td>30</td>\n",
       "      <td>31</td>\n",
       "      <td>32</td>\n",
       "      <td>33</td>\n",
       "      <td>34</td>\n",
       "      <td>35</td>\n",
       "      <td>36</td>\n",
       "    </tr>\n",
       "    <tr>\n",
       "      <th>1375</th>\n",
       "      <td>56.768584</td>\n",
       "      <td>NaN</td>\n",
       "      <td>NaN</td>\n",
       "      <td>51.171709</td>\n",
       "      <td>56.371204</td>\n",
       "      <td>NaN</td>\n",
       "      <td>NaN</td>\n",
       "      <td>50.992608</td>\n",
       "      <td>NaN</td>\n",
       "      <td>NaN</td>\n",
       "      <td>...</td>\n",
       "      <td>27</td>\n",
       "      <td>28</td>\n",
       "      <td>29</td>\n",
       "      <td>30</td>\n",
       "      <td>31</td>\n",
       "      <td>32</td>\n",
       "      <td>33</td>\n",
       "      <td>34</td>\n",
       "      <td>35</td>\n",
       "      <td>36</td>\n",
       "    </tr>\n",
       "  </tbody>\n",
       "</table>\n",
       "<p>10 rows × 74 columns</p>\n",
       "</div>"
      ],
      "text/plain": [
       "period           v0    v1    v2         v3         v4         v5         v6  \\\n",
       "TMA_Acct                                                                      \n",
       "97        54.680604   NaN   NaN        NaN  39.538942  33.257395        NaN   \n",
       "450       49.000000   NaN  53.0        NaN  49.000000        NaN  53.000000   \n",
       "499       54.809306   NaN   NaN        NaN        NaN  40.110099  45.415715   \n",
       "757       55.365724   NaN   NaN        NaN  57.571767        NaN        NaN   \n",
       "1025      54.480110   NaN   NaN  65.181731  52.793390        NaN        NaN   \n",
       "1052      46.323220   NaN   NaN        NaN  58.169045        NaN        NaN   \n",
       "1088      52.793390   NaN   NaN        NaN  59.772795        NaN        NaN   \n",
       "1150      51.000000  28.0  29.5  34.527328        NaN        NaN        NaN   \n",
       "1212      51.199423   NaN   NaN  46.392252  49.000000        NaN        NaN   \n",
       "1375      56.768584   NaN   NaN  51.171709  56.371204        NaN        NaN   \n",
       "\n",
       "period           v7         v8    v9  ...  t27  t28  t29  t30  t31  t32  t33  \\\n",
       "TMA_Acct                              ...                                      \n",
       "97              NaN  30.545747   NaN  ...   27   28   29   30   31   32   33   \n",
       "450             NaN        NaN   NaN  ...   27   28   29   30   31   32   33   \n",
       "499       40.735367  44.084108   NaN  ...   27   28   29   30   31   32   33   \n",
       "757             NaN  61.755224   NaN  ...   27   28   29   30   31   32   33   \n",
       "1025            NaN  47.236767   NaN  ...   27   28   29   30   31   32   33   \n",
       "1052            NaN  53.139278   NaN  ...   27   28   29   30   31   32   33   \n",
       "1088            NaN  47.026582   NaN  ...   27   28   29   30   31   32   33   \n",
       "1150            NaN        NaN   NaN  ...   27   28   29   30   31   32   33   \n",
       "1212            NaN        NaN  66.0  ...   27   28   29   30   31   32   33   \n",
       "1375      50.992608        NaN   NaN  ...   27   28   29   30   31   32   33   \n",
       "\n",
       "period    t34  t35  t36  \n",
       "TMA_Acct                 \n",
       "97         34   35   36  \n",
       "450        34   35   36  \n",
       "499        34   35   36  \n",
       "757        34   35   36  \n",
       "1025       34   35   36  \n",
       "1052       34   35   36  \n",
       "1088       34   35   36  \n",
       "1150       34   35   36  \n",
       "1212       34   35   36  \n",
       "1375       34   35   36  \n",
       "\n",
       "[10 rows x 74 columns]"
      ]
     },
     "execution_count": 77,
     "metadata": {},
     "output_type": "execute_result"
    }
   ],
   "source": [
    "final_3a.head(10)"
   ]
  },
  {
   "cell_type": "code",
   "execution_count": 81,
   "metadata": {},
   "outputs": [
    {
     "data": {
      "text/plain": [
       "period\n",
       "v0    float64\n",
       "v6    float64\n",
       "dtype: object"
      ]
     },
     "execution_count": 81,
     "metadata": {},
     "output_type": "execute_result"
    }
   ],
   "source": [
    "final3b_v6 = final_3b[['v0', 'v6']]\n",
    "final3b_v6.dtypes"
   ]
  },
  {
   "cell_type": "code",
   "execution_count": null,
   "metadata": {},
   "outputs": [],
   "source": []
  }
 ],
 "metadata": {
  "kernelspec": {
   "display_name": "Python 3",
   "language": "python",
   "name": "python3"
  },
  "language_info": {
   "codemirror_mode": {
    "name": "ipython",
    "version": 3
   },
   "file_extension": ".py",
   "mimetype": "text/x-python",
   "name": "python",
   "nbconvert_exporter": "python",
   "pygments_lexer": "ipython3",
   "version": "3.7.6"
  }
 },
 "nbformat": 4,
 "nbformat_minor": 4
}
