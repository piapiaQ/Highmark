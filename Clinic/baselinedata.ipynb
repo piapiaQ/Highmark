{
 "cells": [
  {
   "cell_type": "code",
   "execution_count": 4,
   "metadata": {},
   "outputs": [
    {
     "name": "stdout",
     "output_type": "stream",
     "text": [
      "348790\n",
      "9829\n"
     ]
    }
   ],
   "source": [
    "import pandas as pd\n",
    "import numpy as np\n",
    "tma = pd.read_csv('TMA.csv')\n",
    "tma = list(tma['TMA Acct#'])\n",
    "diag = pd.read_csv(\"Diagnosis_till_2018.csv\")\n",
    "diag.Description = diag.Description.str.lower()\n",
    "diag.head(2)\n",
    "def num(df):\n",
    "    if 'Acct_No' in df.columns:\n",
    "        name = 'Acct_No'\n",
    "    else:\n",
    "        name = 'TMA_Acct'\n",
    "    print(len(df))\n",
    "    print(len(df[name].unique()))\n",
    "def show(df, n):\n",
    "    if 'Acct_No' in df.columns:\n",
    "        name = 'Acct_No'\n",
    "    else:\n",
    "        name = 'TMA_Acct'\n",
    "    return df[df[name] == n]\n",
    "num(diag)"
   ]
  },
  {
   "cell_type": "code",
   "execution_count": 5,
   "metadata": {},
   "outputs": [],
   "source": [
    "new_lab = pd.read_csv(\"df_labdata.csv\")\n",
    "new_lab.rename(columns={\"test_result\": \"result\", \"test_unit\": 'Units'}, inplace = 'True')\n",
    "new_lab['date'] = pd.to_datetime(new_lab.date)\n",
    "old_lab = pd.read_csv('TMA_lab.csv')\n",
    "old_lab['Lab_Date'] = pd.to_datetime(old_lab.Lab_Date)\n",
    "old_lab.rename(columns={\"Lab_Date\": \"date\", \"Results\": \"result\", \"Code\": \"test_name\"}, inplace = 'True')"
   ]
  },
  {
   "cell_type": "markdown",
   "metadata": {},
   "source": [
    "### Diabe"
   ]
  },
  {
   "cell_type": "code",
   "execution_count": 14,
   "metadata": {},
   "outputs": [
    {
     "name": "stdout",
     "output_type": "stream",
     "text": [
      "2233\n",
      "2233\n"
     ]
    }
   ],
   "source": [
    "early_diabe = pd.read_csv('early_diabe.csv')\n",
    "early_diabe = early_diabe[['TMA_Acct', 'Early_Diabete']]\n",
    "num(early_diabe)"
   ]
  },
  {
   "cell_type": "code",
   "execution_count": 6,
   "metadata": {},
   "outputs": [
    {
     "name": "stdout",
     "output_type": "stream",
     "text": [
      "11670\n",
      "2233\n"
     ]
    },
    {
     "data": {
      "text/html": [
       "<div>\n",
       "<style scoped>\n",
       "    .dataframe tbody tr th:only-of-type {\n",
       "        vertical-align: middle;\n",
       "    }\n",
       "\n",
       "    .dataframe tbody tr th {\n",
       "        vertical-align: top;\n",
       "    }\n",
       "\n",
       "    .dataframe thead th {\n",
       "        text-align: right;\n",
       "    }\n",
       "</style>\n",
       "<table border=\"1\" class=\"dataframe\">\n",
       "  <thead>\n",
       "    <tr style=\"text-align: right;\">\n",
       "      <th></th>\n",
       "      <th>Unnamed: 0</th>\n",
       "      <th>Acct_No</th>\n",
       "      <th>Date</th>\n",
       "      <th>Code</th>\n",
       "      <th>Description</th>\n",
       "      <th>Unnamed: 4</th>\n",
       "    </tr>\n",
       "  </thead>\n",
       "  <tbody>\n",
       "    <tr>\n",
       "      <th>33206</th>\n",
       "      <td>33206</td>\n",
       "      <td>16</td>\n",
       "      <td>2001-02-21</td>\n",
       "      <td>250.4</td>\n",
       "      <td>diabetes with renal manifestations</td>\n",
       "      <td>NaN</td>\n",
       "    </tr>\n",
       "    <tr>\n",
       "      <th>33214</th>\n",
       "      <td>33214</td>\n",
       "      <td>16</td>\n",
       "      <td>2000-12-26</td>\n",
       "      <td>250.4</td>\n",
       "      <td>diabetes with renal manifestations</td>\n",
       "      <td>NaN</td>\n",
       "    </tr>\n",
       "  </tbody>\n",
       "</table>\n",
       "</div>"
      ],
      "text/plain": [
       "       Unnamed: 0  Acct_No        Date   Code  \\\n",
       "33206       33206       16  2001-02-21  250.4   \n",
       "33214       33214       16  2000-12-26  250.4   \n",
       "\n",
       "                              Description  Unnamed: 4  \n",
       "33206  diabetes with renal manifestations         NaN  \n",
       "33214  diabetes with renal manifestations         NaN  "
      ]
     },
     "execution_count": 6,
     "metadata": {},
     "output_type": "execute_result"
    }
   ],
   "source": [
    "d1 = diag[diag.Code.str.match('^250')]\n",
    "d2 = diag[diag.Code.str.match('^E08')]\n",
    "d3 = diag[diag.Code.str.match('^E09')]\n",
    "d4 = diag[diag.Code.str.match('^E10')]\n",
    "d5 = diag[diag.Code.str.match('^E11')]\n",
    "d6 = diag[diag.Code.str.match('^E13')]\n",
    "diabe = pd.concat([d1, d2, d3, d4, d5, d6], axis = 0)\n",
    "num(diabe)\n",
    "diabe.head(2)"
   ]
  },
  {
   "cell_type": "code",
   "execution_count": 12,
   "metadata": {},
   "outputs": [
    {
     "name": "stdout",
     "output_type": "stream",
     "text": [
      "2233\n",
      "2233\n"
     ]
    },
    {
     "data": {
      "text/html": [
       "<div>\n",
       "<style scoped>\n",
       "    .dataframe tbody tr th:only-of-type {\n",
       "        vertical-align: middle;\n",
       "    }\n",
       "\n",
       "    .dataframe tbody tr th {\n",
       "        vertical-align: top;\n",
       "    }\n",
       "\n",
       "    .dataframe thead th {\n",
       "        text-align: right;\n",
       "    }\n",
       "</style>\n",
       "<table border=\"1\" class=\"dataframe\">\n",
       "  <thead>\n",
       "    <tr style=\"text-align: right;\">\n",
       "      <th></th>\n",
       "      <th>TMA_Acct</th>\n",
       "      <th>Early_Diabete</th>\n",
       "    </tr>\n",
       "  </thead>\n",
       "  <tbody>\n",
       "    <tr>\n",
       "      <th>0</th>\n",
       "      <td>16</td>\n",
       "      <td>2000-12-26</td>\n",
       "    </tr>\n",
       "    <tr>\n",
       "      <th>1</th>\n",
       "      <td>68</td>\n",
       "      <td>1998-04-27</td>\n",
       "    </tr>\n",
       "    <tr>\n",
       "      <th>2</th>\n",
       "      <td>81</td>\n",
       "      <td>2000-04-26</td>\n",
       "    </tr>\n",
       "    <tr>\n",
       "      <th>3</th>\n",
       "      <td>86</td>\n",
       "      <td>2010-10-22</td>\n",
       "    </tr>\n",
       "    <tr>\n",
       "      <th>4</th>\n",
       "      <td>97</td>\n",
       "      <td>2006-03-15</td>\n",
       "    </tr>\n",
       "  </tbody>\n",
       "</table>\n",
       "</div>"
      ],
      "text/plain": [
       "   TMA_Acct Early_Diabete\n",
       "0        16    2000-12-26\n",
       "1        68    1998-04-27\n",
       "2        81    2000-04-26\n",
       "3        86    2010-10-22\n",
       "4        97    2006-03-15"
      ]
     },
     "execution_count": 12,
     "metadata": {},
     "output_type": "execute_result"
    }
   ],
   "source": [
    "early_diabe = diabe.groupby('Acct_No').agg({'Date': [np.min]}).reset_index()\n",
    "early_diabe.columns=['Acct_No', 'min']\n",
    "num(early_diabe)\n",
    "early_diabe.rename(columns={\"Acct_No\": \"TMA_Acct\"}, inplace = 'True')\n",
    "early_diabe.rename(columns={\"min\": \"Early_Diabete\"}, inplace = 'True')\n",
    "early_diabe.to_csv('early_diabe.csv')\n",
    "early_diabe.head()"
   ]
  },
  {
   "cell_type": "markdown",
   "metadata": {},
   "source": [
    "### Hypertension"
   ]
  },
  {
   "cell_type": "code",
   "execution_count": 18,
   "metadata": {},
   "outputs": [
    {
     "name": "stdout",
     "output_type": "stream",
     "text": [
      "6502\n",
      "6502\n"
     ]
    }
   ],
   "source": [
    "early_hyper = pd.read_csv('early_hyper.csv')\n",
    "early_hyper = early_hyper[['TMA_Acct', 'Early_Hypertension']]\n",
    "num(early_hyper)"
   ]
  },
  {
   "cell_type": "code",
   "execution_count": 15,
   "metadata": {},
   "outputs": [
    {
     "name": "stdout",
     "output_type": "stream",
     "text": [
      "42424\n",
      "6502\n"
     ]
    },
    {
     "data": {
      "text/html": [
       "<div>\n",
       "<style scoped>\n",
       "    .dataframe tbody tr th:only-of-type {\n",
       "        vertical-align: middle;\n",
       "    }\n",
       "\n",
       "    .dataframe tbody tr th {\n",
       "        vertical-align: top;\n",
       "    }\n",
       "\n",
       "    .dataframe thead th {\n",
       "        text-align: right;\n",
       "    }\n",
       "</style>\n",
       "<table border=\"1\" class=\"dataframe\">\n",
       "  <thead>\n",
       "    <tr style=\"text-align: right;\">\n",
       "      <th></th>\n",
       "      <th>Unnamed: 0</th>\n",
       "      <th>Acct_No</th>\n",
       "      <th>Date</th>\n",
       "      <th>Code</th>\n",
       "      <th>Description</th>\n",
       "      <th>Unnamed: 4</th>\n",
       "    </tr>\n",
       "  </thead>\n",
       "  <tbody>\n",
       "    <tr>\n",
       "      <th>33197</th>\n",
       "      <td>33197</td>\n",
       "      <td>12</td>\n",
       "      <td>2001-04-19</td>\n",
       "      <td>401.1</td>\n",
       "      <td>hypertension benign</td>\n",
       "      <td>NaN</td>\n",
       "    </tr>\n",
       "    <tr>\n",
       "      <th>33209</th>\n",
       "      <td>33209</td>\n",
       "      <td>16</td>\n",
       "      <td>2001-02-21</td>\n",
       "      <td>401.1</td>\n",
       "      <td>hypertension benign</td>\n",
       "      <td>NaN</td>\n",
       "    </tr>\n",
       "  </tbody>\n",
       "</table>\n",
       "</div>"
      ],
      "text/plain": [
       "       Unnamed: 0  Acct_No       Date   Code          Description  Unnamed: 4\n",
       "33197       33197       12 2001-04-19  401.1  hypertension benign         NaN\n",
       "33209       33209       16 2001-02-21  401.1  hypertension benign         NaN"
      ]
     },
     "execution_count": 15,
     "metadata": {},
     "output_type": "execute_result"
    }
   ],
   "source": [
    "o1 = diag[diag.Code.str.match('^401')]\n",
    "#o2 = diag[diag.Code.str.match('^401')]\n",
    "#o3 = diag[diag.Code.str.match('^402')]\n",
    "o4 = diag[diag.Code.str.match('^403')]\n",
    "#o5 = diag[diag.Code.str.match('^404')]\n",
    "o6 = diag[diag.Code.str.match('^405')]\n",
    "o7 = diag[diag.Code.str.match('^I10')]\n",
    "#o8 = diag[diag.Code.str.match('^I11')]\n",
    "o9 = diag[diag.Code.str.match('^I12')]\n",
    "o10 = diag[diag.Code.str.match('^I13')]\n",
    "o11 = diag[diag.Code.str.match('^I15')]\n",
    "o12 = diag[diag.Code.str.match('^I16')]\n",
    "hyper = pd.concat([o1, o4, o6, o7, o9, o10, o11, o12], axis = 0)\n",
    "hyper['Date'] = pd.to_datetime(hyper['Date'])\n",
    "num(hyper)\n",
    "hyper.head(2)"
   ]
  },
  {
   "cell_type": "code",
   "execution_count": 6,
   "metadata": {},
   "outputs": [
    {
     "data": {
      "text/plain": [
       "array(['I10', 'I12.9', 'I12.0', 'I13.2', 'I27.2', 'I15.8', 'I15.0',\n",
       "       'I15.9', 'R03.0', 'I13.11', 'I16.0', 'I13.0', '403.91', '796.2',\n",
       "       '401.1', '403.11', '401.9', '405.11', '403.9', '401', '405.91',\n",
       "       '405.99', '403', '405.19', '403.1', 'I13.10', '583.81', '416',\n",
       "       '405', 'I15.2', '405.09'], dtype=object)"
      ]
     },
     "execution_count": 6,
     "metadata": {},
     "output_type": "execute_result"
    }
   ],
   "source": [
    "diag[diag.Description.str.match('.*hypertens')]['Code'].unique()"
   ]
  },
  {
   "cell_type": "code",
   "execution_count": 16,
   "metadata": {},
   "outputs": [
    {
     "data": {
      "text/html": [
       "<div>\n",
       "<style scoped>\n",
       "    .dataframe tbody tr th:only-of-type {\n",
       "        vertical-align: middle;\n",
       "    }\n",
       "\n",
       "    .dataframe tbody tr th {\n",
       "        vertical-align: top;\n",
       "    }\n",
       "\n",
       "    .dataframe thead th {\n",
       "        text-align: right;\n",
       "    }\n",
       "</style>\n",
       "<table border=\"1\" class=\"dataframe\">\n",
       "  <thead>\n",
       "    <tr style=\"text-align: right;\">\n",
       "      <th></th>\n",
       "      <th>TMA_Acct</th>\n",
       "      <th>Early_Hypertension</th>\n",
       "    </tr>\n",
       "  </thead>\n",
       "  <tbody>\n",
       "    <tr>\n",
       "      <th>0</th>\n",
       "      <td>9</td>\n",
       "      <td>2001-05-29</td>\n",
       "    </tr>\n",
       "    <tr>\n",
       "      <th>1</th>\n",
       "      <td>12</td>\n",
       "      <td>2001-04-19</td>\n",
       "    </tr>\n",
       "    <tr>\n",
       "      <th>2</th>\n",
       "      <td>16</td>\n",
       "      <td>2000-09-20</td>\n",
       "    </tr>\n",
       "    <tr>\n",
       "      <th>3</th>\n",
       "      <td>37</td>\n",
       "      <td>2009-01-04</td>\n",
       "    </tr>\n",
       "    <tr>\n",
       "      <th>4</th>\n",
       "      <td>39</td>\n",
       "      <td>2000-04-28</td>\n",
       "    </tr>\n",
       "  </tbody>\n",
       "</table>\n",
       "</div>"
      ],
      "text/plain": [
       "   TMA_Acct Early_Hypertension\n",
       "0         9         2001-05-29\n",
       "1        12         2001-04-19\n",
       "2        16         2000-09-20\n",
       "3        37         2009-01-04\n",
       "4        39         2000-04-28"
      ]
     },
     "execution_count": 16,
     "metadata": {},
     "output_type": "execute_result"
    }
   ],
   "source": [
    "early_hyper = hyper.groupby('Acct_No').agg({'Date': [np.min]}).reset_index()\n",
    "early_hyper.columns=['TMA_Acct', 'min']\n",
    "early_hyper.rename(columns={\"min\": \"Early_Hypertension\"}, inplace = 'True')\n",
    "early_hyper.head()"
   ]
  },
  {
   "cell_type": "code",
   "execution_count": 17,
   "metadata": {},
   "outputs": [],
   "source": [
    "early_hyper.to_csv('early_hyper.csv')"
   ]
  },
  {
   "cell_type": "markdown",
   "metadata": {},
   "source": [
    "### Master + Hypertension + Diabetes"
   ]
  },
  {
   "cell_type": "code",
   "execution_count": 20,
   "metadata": {},
   "outputs": [
    {
     "name": "stdout",
     "output_type": "stream",
     "text": [
      "16410\n",
      "14816\n",
      "16407\n",
      "14816\n"
     ]
    }
   ],
   "source": [
    "master = pd.read_csv('master.csv')\n",
    "num(master)\n",
    "base = master\n",
    "base = base[['TMA_Acct', 'Account_Date', 'Sex', 'DOB', 'Race', 'Patient_Status_Date', 'Patient_Status']].drop_duplicates()\n",
    "num(base)"
   ]
  },
  {
   "cell_type": "code",
   "execution_count": 21,
   "metadata": {},
   "outputs": [
    {
     "name": "stdout",
     "output_type": "stream",
     "text": [
      "16383\n",
      "14816\n"
     ]
    },
    {
     "data": {
      "text/html": [
       "<div>\n",
       "<style scoped>\n",
       "    .dataframe tbody tr th:only-of-type {\n",
       "        vertical-align: middle;\n",
       "    }\n",
       "\n",
       "    .dataframe tbody tr th {\n",
       "        vertical-align: top;\n",
       "    }\n",
       "\n",
       "    .dataframe thead th {\n",
       "        text-align: right;\n",
       "    }\n",
       "</style>\n",
       "<table border=\"1\" class=\"dataframe\">\n",
       "  <thead>\n",
       "    <tr style=\"text-align: right;\">\n",
       "      <th></th>\n",
       "      <th>TMA_Acct</th>\n",
       "      <th>Account_Date</th>\n",
       "      <th>Sex</th>\n",
       "      <th>DOB</th>\n",
       "      <th>Race</th>\n",
       "      <th>Patient_Status_Date</th>\n",
       "      <th>Patient_Status</th>\n",
       "    </tr>\n",
       "  </thead>\n",
       "  <tbody>\n",
       "    <tr>\n",
       "      <th>0</th>\n",
       "      <td>9</td>\n",
       "      <td>06-01-2009</td>\n",
       "      <td>Male</td>\n",
       "      <td>1921</td>\n",
       "      <td>White</td>\n",
       "      <td>6-30-2010</td>\n",
       "      <td>Deceased</td>\n",
       "    </tr>\n",
       "    <tr>\n",
       "      <th>1</th>\n",
       "      <td>10</td>\n",
       "      <td>06-01-2009</td>\n",
       "      <td>Female</td>\n",
       "      <td>1926</td>\n",
       "      <td>NaN</td>\n",
       "      <td>NaN</td>\n",
       "      <td>Active</td>\n",
       "    </tr>\n",
       "  </tbody>\n",
       "</table>\n",
       "</div>"
      ],
      "text/plain": [
       "   TMA_Acct Account_Date     Sex   DOB   Race Patient_Status_Date  \\\n",
       "0         9   06-01-2009    Male  1921  White           6-30-2010   \n",
       "1        10   06-01-2009  Female  1926    NaN                 NaN   \n",
       "\n",
       "  Patient_Status  \n",
       "0       Deceased  \n",
       "1         Active  "
      ]
     },
     "execution_count": 21,
     "metadata": {},
     "output_type": "execute_result"
    }
   ],
   "source": [
    "base['DOB'] = base['DOB'].str[-4:]\n",
    "base = base.replace('Black / African American', 'Black/African American')\n",
    "base = base.replace('Declined to Specify / Unknown', 'Declined to Specify/Unknown')\n",
    "base = base.replace('Other Race', 'Other')\n",
    "base = base.drop_duplicates()\n",
    "num(base)\n",
    "base.head(2)"
   ]
  },
  {
   "cell_type": "code",
   "execution_count": 22,
   "metadata": {},
   "outputs": [
    {
     "name": "stdout",
     "output_type": "stream",
     "text": [
      "14820\n",
      "14816\n",
      "8171\n",
      "8167\n"
     ]
    }
   ],
   "source": [
    "base_main = base[[\"TMA_Acct\", \"DOB\", \"Sex\"]]\n",
    "base_main = base_main.drop_duplicates()\n",
    "num(base_main)\n",
    "base_race = base[[\"TMA_Acct\", \"Race\"]]\n",
    "base_race = base_race.drop_duplicates()\n",
    "base_race = base_race.dropna(subset = ['Race'])\n",
    "num(base_race)"
   ]
  },
  {
   "cell_type": "code",
   "execution_count": 23,
   "metadata": {},
   "outputs": [],
   "source": [
    "check_main = pd.DataFrame(base_main.groupby('TMA_Acct').size() > 1).reset_index()\n",
    "check_main = list(set(check_main[check_main[0] == True]['TMA_Acct']))\n",
    "check_race = pd.DataFrame(base_race.groupby('TMA_Acct').size() > 1).reset_index()\n",
    "check_race = list(set(check_race[check_race[0] == True]['TMA_Acct']))"
   ]
  },
  {
   "cell_type": "code",
   "execution_count": 25,
   "metadata": {},
   "outputs": [
    {
     "name": "stdout",
     "output_type": "stream",
     "text": [
      "       TMA_Acct   DOB     Sex\n",
      "10205     32967  2011  Female\n",
      "14265     32967  1931  Female\n",
      "       TMA_Acct   DOB     Sex\n",
      "10779     34714  1954  Female\n",
      "14350     34714  1954    Male\n",
      "       TMA_Acct   DOB     Sex\n",
      "13465     44639  1959  Female\n",
      "14980     44639  1962  Female\n",
      "       TMA_Acct   DOB   Sex\n",
      "7767      25831  1900  Male\n",
      "14014     25831  1959  Male\n"
     ]
    }
   ],
   "source": [
    "for i in check_main:\n",
    "    print(show(base_main, i))"
   ]
  },
  {
   "cell_type": "code",
   "execution_count": 26,
   "metadata": {},
   "outputs": [
    {
     "name": "stdout",
     "output_type": "stream",
     "text": [
      "       TMA_Acct                    Race\n",
      "5921      17506                   White\n",
      "13880     17506  Black/African American\n",
      "       TMA_Acct                         Race\n",
      "11361     36531                        Asian\n",
      "14431     36531  Declined to Specify/Unknown\n",
      "       TMA_Acct                    Race\n",
      "13593     45900                   White\n",
      "15095     45900  Black/African American\n",
      "       TMA_Acct                    Race\n",
      "13059     42869                   Other\n",
      "14838     42869  Black/African American\n"
     ]
    }
   ],
   "source": [
    "for i in check_race:\n",
    "    print(show(base_race, i))"
   ]
  },
  {
   "cell_type": "code",
   "execution_count": 27,
   "metadata": {},
   "outputs": [],
   "source": [
    "base_race.drop(base_race.loc[(base_race.TMA_Acct == 17506) & (base_race.Race == 'White')].index, inplace=True)\n",
    "base_race.drop(base_race.loc[(base_race.TMA_Acct == 36531) & (base_race.Race == 'Declined to Specify/Unknown')].index, inplace=True)\n",
    "base_race.drop(base_race.loc[(base_race.TMA_Acct == 42869) & (base_race.Race == 'Other')].index, inplace=True)\n",
    "base_race.drop(base_race.loc[(base_race.TMA_Acct == 45900) & (base_race.Race == 'White')].index, inplace=True)"
   ]
  },
  {
   "cell_type": "code",
   "execution_count": 28,
   "metadata": {},
   "outputs": [],
   "source": [
    "base_main.drop(base_main.loc[(base_main.TMA_Acct == 25831) & (base_main.DOB == '1900')].index, inplace=True)\n",
    "base_main.drop(base_main.loc[(base_main.TMA_Acct == 32967) & (base_main.DOB == '2011')].index, inplace=True)\n",
    "base_main.drop(base_main.loc[(base_main.TMA_Acct == 44639) & (base_main.DOB == '1962')].index, inplace=True)\n",
    "base_main.drop(base_main.loc[(base_main.TMA_Acct == 34714)].index, inplace=True)"
   ]
  },
  {
   "cell_type": "code",
   "execution_count": 30,
   "metadata": {},
   "outputs": [
    {
     "name": "stdout",
     "output_type": "stream",
     "text": [
      "14815\n",
      "14815\n"
     ]
    }
   ],
   "source": [
    "base = pd.merge(base_main, base_race, how = 'left', left_on = 'TMA_Acct', right_on = 'TMA_Acct')\n",
    "num(base)"
   ]
  },
  {
   "cell_type": "code",
   "execution_count": 39,
   "metadata": {},
   "outputs": [
    {
     "data": {
      "text/html": [
       "<div>\n",
       "<style scoped>\n",
       "    .dataframe tbody tr th:only-of-type {\n",
       "        vertical-align: middle;\n",
       "    }\n",
       "\n",
       "    .dataframe tbody tr th {\n",
       "        vertical-align: top;\n",
       "    }\n",
       "\n",
       "    .dataframe thead th {\n",
       "        text-align: right;\n",
       "    }\n",
       "</style>\n",
       "<table border=\"1\" class=\"dataframe\">\n",
       "  <thead>\n",
       "    <tr style=\"text-align: right;\">\n",
       "      <th></th>\n",
       "      <th>TMA_Acct</th>\n",
       "      <th>DOB</th>\n",
       "      <th>Sex</th>\n",
       "      <th>Race</th>\n",
       "      <th>Early_Hypertension</th>\n",
       "      <th>Early_Diabete</th>\n",
       "    </tr>\n",
       "  </thead>\n",
       "  <tbody>\n",
       "    <tr>\n",
       "      <th>0</th>\n",
       "      <td>9</td>\n",
       "      <td>1921</td>\n",
       "      <td>Male</td>\n",
       "      <td>White</td>\n",
       "      <td>2001-05-29</td>\n",
       "      <td>NaN</td>\n",
       "    </tr>\n",
       "    <tr>\n",
       "      <th>1</th>\n",
       "      <td>10</td>\n",
       "      <td>1926</td>\n",
       "      <td>Female</td>\n",
       "      <td>NaN</td>\n",
       "      <td>NaN</td>\n",
       "      <td>NaN</td>\n",
       "    </tr>\n",
       "    <tr>\n",
       "      <th>2</th>\n",
       "      <td>12</td>\n",
       "      <td>1922</td>\n",
       "      <td>Female</td>\n",
       "      <td>White</td>\n",
       "      <td>2001-04-19</td>\n",
       "      <td>NaN</td>\n",
       "    </tr>\n",
       "    <tr>\n",
       "      <th>3</th>\n",
       "      <td>16</td>\n",
       "      <td>1926</td>\n",
       "      <td>Female</td>\n",
       "      <td>NaN</td>\n",
       "      <td>2000-09-20</td>\n",
       "      <td>2000-12-26</td>\n",
       "    </tr>\n",
       "    <tr>\n",
       "      <th>4</th>\n",
       "      <td>17</td>\n",
       "      <td>1918</td>\n",
       "      <td>Female</td>\n",
       "      <td>NaN</td>\n",
       "      <td>NaN</td>\n",
       "      <td>NaN</td>\n",
       "    </tr>\n",
       "  </tbody>\n",
       "</table>\n",
       "</div>"
      ],
      "text/plain": [
       "   TMA_Acct   DOB     Sex   Race Early_Hypertension Early_Diabete\n",
       "0         9  1921    Male  White         2001-05-29           NaN\n",
       "1        10  1926  Female    NaN                NaN           NaN\n",
       "2        12  1922  Female  White         2001-04-19           NaN\n",
       "3        16  1926  Female    NaN         2000-09-20    2000-12-26\n",
       "4        17  1918  Female    NaN                NaN           NaN"
      ]
     },
     "execution_count": 39,
     "metadata": {},
     "output_type": "execute_result"
    }
   ],
   "source": [
    "base_hyper = pd.merge(base, early_hyper, how = 'left', left_on = 'TMA_Acct', right_on = 'TMA_Acct')\n",
    "base_hyper.rename(columns={\"min\": \"hyper_date\"}, inplace = 'True')\n",
    "m_h_d = pd.merge(base_hyper, early_diabe, how = 'left', left_on = 'TMA_Acct', right_on = 'TMA_Acct')\n",
    "m_h_d.rename(columns={\"min\": \"diabe_date\"}, inplace = 'True')\n",
    "m_h_d.head()"
   ]
  },
  {
   "cell_type": "code",
   "execution_count": 38,
   "metadata": {},
   "outputs": [
    {
     "data": {
      "text/plain": [
       "11"
      ]
     },
     "execution_count": 38,
     "metadata": {},
     "output_type": "execute_result"
    }
   ],
   "source": [
    "id_in_hyper_not_in_base = list(set([i for i in list(early_hyper['TMA_Acct']) if i not in list(base['TMA_Acct'])]))\n",
    "len(id_in_hyper_not_in_base)"
   ]
  },
  {
   "cell_type": "code",
   "execution_count": 40,
   "metadata": {},
   "outputs": [
    {
     "data": {
      "text/plain": [
       "2"
      ]
     },
     "execution_count": 40,
     "metadata": {},
     "output_type": "execute_result"
    }
   ],
   "source": [
    "id_in_diabe_not_in_base = list(set([i for i in list(early_diabe['TMA_Acct']) if i not in list(base['TMA_Acct'])]))\n",
    "len(id_in_diabe_not_in_base)"
   ]
  },
  {
   "cell_type": "code",
   "execution_count": 41,
   "metadata": {},
   "outputs": [
    {
     "name": "stdout",
     "output_type": "stream",
     "text": [
      "14815\n",
      "14815\n"
     ]
    }
   ],
   "source": [
    "num(m_h_d)"
   ]
  },
  {
   "cell_type": "markdown",
   "metadata": {},
   "source": [
    "### + earliest lab date"
   ]
  },
  {
   "cell_type": "code",
   "execution_count": 42,
   "metadata": {},
   "outputs": [
    {
     "data": {
      "text/plain": [
       "14816"
      ]
     },
     "execution_count": 42,
     "metadata": {},
     "output_type": "execute_result"
    }
   ],
   "source": [
    "len(set(list(new_lab['TMA_Acct']) + list(old_lab['TMA_Acct'])))"
   ]
  },
  {
   "cell_type": "code",
   "execution_count": 43,
   "metadata": {},
   "outputs": [],
   "source": [
    "new_lab_date = new_lab[['TMA_Acct', 'date']]\n",
    "old_lab_date = old_lab[['TMA_Acct', 'date']]"
   ]
  },
  {
   "cell_type": "code",
   "execution_count": 44,
   "metadata": {},
   "outputs": [],
   "source": [
    "lab_date = pd.concat([new_lab_date, old_lab_date], axis = 0)"
   ]
  },
  {
   "cell_type": "code",
   "execution_count": 45,
   "metadata": {},
   "outputs": [
    {
     "name": "stdout",
     "output_type": "stream",
     "text": [
      "3910049\n",
      "14816\n"
     ]
    }
   ],
   "source": [
    "num(lab_date)"
   ]
  },
  {
   "cell_type": "code",
   "execution_count": 46,
   "metadata": {
    "scrolled": false
   },
   "outputs": [
    {
     "name": "stdout",
     "output_type": "stream",
     "text": [
      "14816\n",
      "14816\n"
     ]
    },
    {
     "data": {
      "text/html": [
       "<div>\n",
       "<style scoped>\n",
       "    .dataframe tbody tr th:only-of-type {\n",
       "        vertical-align: middle;\n",
       "    }\n",
       "\n",
       "    .dataframe tbody tr th {\n",
       "        vertical-align: top;\n",
       "    }\n",
       "\n",
       "    .dataframe thead th {\n",
       "        text-align: right;\n",
       "    }\n",
       "</style>\n",
       "<table border=\"1\" class=\"dataframe\">\n",
       "  <thead>\n",
       "    <tr style=\"text-align: right;\">\n",
       "      <th></th>\n",
       "      <th>TMA_Acct</th>\n",
       "      <th>earliest_date_in_all_lab</th>\n",
       "    </tr>\n",
       "  </thead>\n",
       "  <tbody>\n",
       "    <tr>\n",
       "      <th>0</th>\n",
       "      <td>6</td>\n",
       "      <td>2017-02-20</td>\n",
       "    </tr>\n",
       "    <tr>\n",
       "      <th>1</th>\n",
       "      <td>9</td>\n",
       "      <td>2000-09-22</td>\n",
       "    </tr>\n",
       "  </tbody>\n",
       "</table>\n",
       "</div>"
      ],
      "text/plain": [
       "   TMA_Acct earliest_date_in_all_lab\n",
       "0         6               2017-02-20\n",
       "1         9               2000-09-22"
      ]
     },
     "execution_count": 46,
     "metadata": {},
     "output_type": "execute_result"
    }
   ],
   "source": [
    "early_lab = pd.DataFrame(lab_date.groupby(['TMA_Acct']).agg({'date': [np.min]})).reset_index()\n",
    "early_lab.columns=['TMA_Acct', 'earliest_date_in_all_lab']\n",
    "num(early_lab)\n",
    "early_lab.head(2)"
   ]
  },
  {
   "cell_type": "code",
   "execution_count": 47,
   "metadata": {},
   "outputs": [
    {
     "name": "stdout",
     "output_type": "stream",
     "text": [
      "14815\n",
      "14815\n"
     ]
    }
   ],
   "source": [
    "m_h_d_l = pd.merge(m_h_d, early_lab, how = 'left', left_on = 'TMA_Acct', right_on = 'TMA_Acct')\n",
    "m_h_d_l.head(2)\n",
    "num(m_h_d_l)"
   ]
  },
  {
   "cell_type": "markdown",
   "metadata": {},
   "source": [
    "### + BMI"
   ]
  },
  {
   "cell_type": "code",
   "execution_count": 38,
   "metadata": {},
   "outputs": [
    {
     "name": "stdout",
     "output_type": "stream",
     "text": [
      "43700\n",
      "10484\n",
      "2009/10/1\n",
      "43700\n",
      "10484\n",
      "13528\n",
      "3188\n"
     ]
    }
   ],
   "source": [
    "bmi = pd.read_csv('BMI.csv')\n",
    "print(len(bmi))\n",
    "print(len(bmi['Acct#'].unique()))\n",
    "print(min(bmi['Date']))\n",
    "bmi = bmi[bmi['Date'] > '2009/09/31']\n",
    "bmi.rename(columns={\"Acct#\": \"TMA_Acct\"}, inplace = 'True')\n",
    "print(len(bmi))\n",
    "print(len(bmi['TMA_Acct'].unique()))\n",
    "bmi = bmi[bmi['TMA_Acct'].isin(tma)]\n",
    "print(len(bmi))\n",
    "print(len(bmi['TMA_Acct'].unique()))"
   ]
  },
  {
   "cell_type": "code",
   "execution_count": 39,
   "metadata": {},
   "outputs": [],
   "source": [
    "early_bmi = bmi.groupby('TMA_Acct').agg({'Date': [np.min]}).reset_index()\n",
    "early_bmi.columns=['TMA_Acct', 'min']\n",
    "bmi_min = pd.merge(bmi, early_bmi, left_on = ['TMA_Acct', 'Date'], right_on = ['TMA_Acct', 'min'])\n",
    "bmi_min = bmi_min.drop_duplicates()"
   ]
  },
  {
   "cell_type": "code",
   "execution_count": 40,
   "metadata": {},
   "outputs": [],
   "source": [
    "bmi_min = bmi_min[['TMA_Acct', 'Date', 'BMI']]\n",
    "bmi_min.rename(columns={\"Date\": \"Date_bmi\"}, inplace = 'True')"
   ]
  },
  {
   "cell_type": "code",
   "execution_count": 41,
   "metadata": {},
   "outputs": [
    {
     "name": "stdout",
     "output_type": "stream",
     "text": [
      "3213\n",
      "3188\n"
     ]
    }
   ],
   "source": [
    "print(len(bmi_min))\n",
    "print(len(bmi_min['TMA_Acct'].unique()))"
   ]
  },
  {
   "cell_type": "code",
   "execution_count": 42,
   "metadata": {},
   "outputs": [],
   "source": [
    "check_bmi = pd.DataFrame(bmi_min.groupby('TMA_Acct').size() > 1).reset_index()\n",
    "check_bmi = list(set(check_bmi[check_bmi[0] == True]['TMA_Acct']))\n",
    "bmi_error = bmi_min[bmi_min['TMA_Acct'].isin(check_bmi)]\n",
    "bmi_error.to_csv('bmi_error.csv')"
   ]
  },
  {
   "cell_type": "code",
   "execution_count": 43,
   "metadata": {},
   "outputs": [],
   "source": [
    "bmi_min = bmi_min[~bmi_min['TMA_Acct'].isin(check_bmi)]"
   ]
  },
  {
   "cell_type": "code",
   "execution_count": 44,
   "metadata": {},
   "outputs": [
    {
     "name": "stdout",
     "output_type": "stream",
     "text": [
      "14815\n",
      "14815\n"
     ]
    },
    {
     "data": {
      "text/html": [
       "<div>\n",
       "<style scoped>\n",
       "    .dataframe tbody tr th:only-of-type {\n",
       "        vertical-align: middle;\n",
       "    }\n",
       "\n",
       "    .dataframe tbody tr th {\n",
       "        vertical-align: top;\n",
       "    }\n",
       "\n",
       "    .dataframe thead th {\n",
       "        text-align: right;\n",
       "    }\n",
       "</style>\n",
       "<table border=\"1\" class=\"dataframe\">\n",
       "  <thead>\n",
       "    <tr style=\"text-align: right;\">\n",
       "      <th></th>\n",
       "      <th>TMA_Acct</th>\n",
       "      <th>DOB</th>\n",
       "      <th>Sex</th>\n",
       "      <th>Race</th>\n",
       "      <th>hyper_date</th>\n",
       "      <th>diabe_date</th>\n",
       "      <th>earliest_date_in_all_lab</th>\n",
       "      <th>Date_bmi</th>\n",
       "      <th>BMI</th>\n",
       "    </tr>\n",
       "  </thead>\n",
       "  <tbody>\n",
       "    <tr>\n",
       "      <th>0</th>\n",
       "      <td>9</td>\n",
       "      <td>1921</td>\n",
       "      <td>Male</td>\n",
       "      <td>White</td>\n",
       "      <td>2001-05-29</td>\n",
       "      <td>NaN</td>\n",
       "      <td>2000-09-22</td>\n",
       "      <td>NaN</td>\n",
       "      <td>NaN</td>\n",
       "    </tr>\n",
       "    <tr>\n",
       "      <th>1</th>\n",
       "      <td>10</td>\n",
       "      <td>1926</td>\n",
       "      <td>Female</td>\n",
       "      <td>NaN</td>\n",
       "      <td>NaN</td>\n",
       "      <td>NaN</td>\n",
       "      <td>NaT</td>\n",
       "      <td>NaN</td>\n",
       "      <td>NaN</td>\n",
       "    </tr>\n",
       "  </tbody>\n",
       "</table>\n",
       "</div>"
      ],
      "text/plain": [
       "   TMA_Acct   DOB     Sex   Race  hyper_date diabe_date  \\\n",
       "0         9  1921    Male  White  2001-05-29        NaN   \n",
       "1        10  1926  Female    NaN         NaN        NaN   \n",
       "\n",
       "  earliest_date_in_all_lab Date_bmi  BMI  \n",
       "0               2000-09-22      NaN  NaN  \n",
       "1                      NaT      NaN  NaN  "
      ]
     },
     "execution_count": 44,
     "metadata": {},
     "output_type": "execute_result"
    }
   ],
   "source": [
    "m_h_d_l_b = pd.merge(m_h_d_l, bmi_min, how = 'left', left_on = 'TMA_Acct', right_on = 'TMA_Acct') \n",
    "print(len(m_h_d_l_b))\n",
    "print(len(m_h_d_l_b['TMA_Acct'].unique()))\n",
    "m_h_d_l_b.head(2)\n",
    "#move status to the end"
   ]
  },
  {
   "cell_type": "markdown",
   "metadata": {},
   "source": [
    "### + Age"
   ]
  },
  {
   "cell_type": "code",
   "execution_count": 45,
   "metadata": {},
   "outputs": [
    {
     "data": {
      "text/html": [
       "<div>\n",
       "<style scoped>\n",
       "    .dataframe tbody tr th:only-of-type {\n",
       "        vertical-align: middle;\n",
       "    }\n",
       "\n",
       "    .dataframe tbody tr th {\n",
       "        vertical-align: top;\n",
       "    }\n",
       "\n",
       "    .dataframe thead th {\n",
       "        text-align: right;\n",
       "    }\n",
       "</style>\n",
       "<table border=\"1\" class=\"dataframe\">\n",
       "  <thead>\n",
       "    <tr style=\"text-align: right;\">\n",
       "      <th></th>\n",
       "      <th>TMA_Acct</th>\n",
       "      <th>DOB</th>\n",
       "      <th>Sex</th>\n",
       "      <th>Race</th>\n",
       "      <th>hyper_date</th>\n",
       "      <th>diabe_date</th>\n",
       "      <th>earliest_date_in_all_lab</th>\n",
       "      <th>Date_bmi</th>\n",
       "      <th>BMI</th>\n",
       "      <th>Age_in_2010</th>\n",
       "    </tr>\n",
       "  </thead>\n",
       "  <tbody>\n",
       "    <tr>\n",
       "      <th>0</th>\n",
       "      <td>9</td>\n",
       "      <td>1921</td>\n",
       "      <td>Male</td>\n",
       "      <td>White</td>\n",
       "      <td>2001-05-29</td>\n",
       "      <td>NaN</td>\n",
       "      <td>2000-09-22</td>\n",
       "      <td>NaN</td>\n",
       "      <td>NaN</td>\n",
       "      <td>89</td>\n",
       "    </tr>\n",
       "    <tr>\n",
       "      <th>1</th>\n",
       "      <td>10</td>\n",
       "      <td>1926</td>\n",
       "      <td>Female</td>\n",
       "      <td>NaN</td>\n",
       "      <td>NaN</td>\n",
       "      <td>NaN</td>\n",
       "      <td>NaT</td>\n",
       "      <td>NaN</td>\n",
       "      <td>NaN</td>\n",
       "      <td>84</td>\n",
       "    </tr>\n",
       "  </tbody>\n",
       "</table>\n",
       "</div>"
      ],
      "text/plain": [
       "   TMA_Acct   DOB     Sex   Race  hyper_date diabe_date  \\\n",
       "0         9  1921    Male  White  2001-05-29        NaN   \n",
       "1        10  1926  Female    NaN         NaN        NaN   \n",
       "\n",
       "  earliest_date_in_all_lab Date_bmi  BMI  Age_in_2010  \n",
       "0               2000-09-22      NaN  NaN           89  \n",
       "1                      NaT      NaN  NaN           84  "
      ]
     },
     "execution_count": 45,
     "metadata": {},
     "output_type": "execute_result"
    }
   ],
   "source": [
    "m_h_d_l_b['Age_in_2010'] = 2010 - m_h_d_l_b['DOB'].astype(int)\n",
    "m_h_d_l_b.head(2)"
   ]
  },
  {
   "cell_type": "markdown",
   "metadata": {},
   "source": [
    "### + Start Stage"
   ]
  },
  {
   "cell_type": "code",
   "execution_count": 46,
   "metadata": {},
   "outputs": [
    {
     "name": "stdout",
     "output_type": "stream",
     "text": [
      "1990-08-06\n",
      "95686\n",
      "8186\n",
      "95686\n",
      "8186\n",
      "65390\n",
      "6143\n"
     ]
    },
    {
     "data": {
      "text/html": [
       "<div>\n",
       "<style scoped>\n",
       "    .dataframe tbody tr th:only-of-type {\n",
       "        vertical-align: middle;\n",
       "    }\n",
       "\n",
       "    .dataframe tbody tr th {\n",
       "        vertical-align: top;\n",
       "    }\n",
       "\n",
       "    .dataframe thead th {\n",
       "        text-align: right;\n",
       "    }\n",
       "</style>\n",
       "<table border=\"1\" class=\"dataframe\">\n",
       "  <thead>\n",
       "    <tr style=\"text-align: right;\">\n",
       "      <th></th>\n",
       "      <th>TMA_Acct</th>\n",
       "      <th>date</th>\n",
       "      <th>egfr</th>\n",
       "    </tr>\n",
       "  </thead>\n",
       "  <tbody>\n",
       "    <tr>\n",
       "      <th>45</th>\n",
       "      <td>37</td>\n",
       "      <td>2012-05-29</td>\n",
       "      <td>17.868074</td>\n",
       "    </tr>\n",
       "    <tr>\n",
       "      <th>46</th>\n",
       "      <td>37</td>\n",
       "      <td>2012-07-26</td>\n",
       "      <td>15.204267</td>\n",
       "    </tr>\n",
       "  </tbody>\n",
       "</table>\n",
       "</div>"
      ],
      "text/plain": [
       "    TMA_Acct        date       egfr\n",
       "45        37  2012-05-29  17.868074\n",
       "46        37  2012-07-26  15.204267"
      ]
     },
     "execution_count": 46,
     "metadata": {},
     "output_type": "execute_result"
    }
   ],
   "source": [
    "All_egfr = pd.read_csv('All_egfr.csv')[['TMA_Acct', 'date', 'egfr']]\n",
    "print(min(All_egfr['date']))\n",
    "print(len(All_egfr))\n",
    "print(len(All_egfr['TMA_Acct'].unique()))\n",
    "print(len(All_egfr))\n",
    "print(len(All_egfr['TMA_Acct'].unique()))\n",
    "All_egfr = All_egfr[All_egfr['date'] > '2009-09-30']\n",
    "print(len(All_egfr))\n",
    "print(len(All_egfr['TMA_Acct'].unique()))\n",
    "All_egfr.head(2)"
   ]
  },
  {
   "cell_type": "code",
   "execution_count": 47,
   "metadata": {},
   "outputs": [
    {
     "name": "stdout",
     "output_type": "stream",
     "text": [
      "6143\n"
     ]
    },
    {
     "data": {
      "text/html": [
       "<div>\n",
       "<style scoped>\n",
       "    .dataframe tbody tr th:only-of-type {\n",
       "        vertical-align: middle;\n",
       "    }\n",
       "\n",
       "    .dataframe tbody tr th {\n",
       "        vertical-align: top;\n",
       "    }\n",
       "\n",
       "    .dataframe thead th {\n",
       "        text-align: right;\n",
       "    }\n",
       "</style>\n",
       "<table border=\"1\" class=\"dataframe\">\n",
       "  <thead>\n",
       "    <tr style=\"text-align: right;\">\n",
       "      <th></th>\n",
       "      <th>TMA_Acct</th>\n",
       "      <th>min</th>\n",
       "    </tr>\n",
       "  </thead>\n",
       "  <tbody>\n",
       "    <tr>\n",
       "      <th>0</th>\n",
       "      <td>37</td>\n",
       "      <td>2010-01-13</td>\n",
       "    </tr>\n",
       "    <tr>\n",
       "      <th>1</th>\n",
       "      <td>86</td>\n",
       "      <td>2010-10-09</td>\n",
       "    </tr>\n",
       "  </tbody>\n",
       "</table>\n",
       "</div>"
      ],
      "text/plain": [
       "   TMA_Acct         min\n",
       "0        37  2010-01-13\n",
       "1        86  2010-10-09"
      ]
     },
     "execution_count": 47,
     "metadata": {},
     "output_type": "execute_result"
    }
   ],
   "source": [
    "early_egfr = pd.DataFrame(All_egfr.groupby(['TMA_Acct']).agg({'date': [np.min]})).reset_index()\n",
    "early_egfr.columns=['TMA_Acct', 'min']\n",
    "print(len(early_egfr))\n",
    "early_egfr.head(2)"
   ]
  },
  {
   "cell_type": "code",
   "execution_count": 48,
   "metadata": {},
   "outputs": [
    {
     "name": "stdout",
     "output_type": "stream",
     "text": [
      "6172\n",
      "6143\n",
      "29\n"
     ]
    },
    {
     "data": {
      "text/html": [
       "<div>\n",
       "<style scoped>\n",
       "    .dataframe tbody tr th:only-of-type {\n",
       "        vertical-align: middle;\n",
       "    }\n",
       "\n",
       "    .dataframe tbody tr th {\n",
       "        vertical-align: top;\n",
       "    }\n",
       "\n",
       "    .dataframe thead th {\n",
       "        text-align: right;\n",
       "    }\n",
       "</style>\n",
       "<table border=\"1\" class=\"dataframe\">\n",
       "  <thead>\n",
       "    <tr style=\"text-align: right;\">\n",
       "      <th></th>\n",
       "      <th>TMA_Acct</th>\n",
       "      <th>date</th>\n",
       "      <th>egfr</th>\n",
       "      <th>min</th>\n",
       "    </tr>\n",
       "  </thead>\n",
       "  <tbody>\n",
       "    <tr>\n",
       "      <th>0</th>\n",
       "      <td>37</td>\n",
       "      <td>2010-01-13</td>\n",
       "      <td>20.085950</td>\n",
       "      <td>2010-01-13</td>\n",
       "    </tr>\n",
       "    <tr>\n",
       "      <th>1</th>\n",
       "      <td>86</td>\n",
       "      <td>2010-10-09</td>\n",
       "      <td>20.121101</td>\n",
       "      <td>2010-10-09</td>\n",
       "    </tr>\n",
       "  </tbody>\n",
       "</table>\n",
       "</div>"
      ],
      "text/plain": [
       "   TMA_Acct        date       egfr         min\n",
       "0        37  2010-01-13  20.085950  2010-01-13\n",
       "1        86  2010-10-09  20.121101  2010-10-09"
      ]
     },
     "execution_count": 48,
     "metadata": {},
     "output_type": "execute_result"
    }
   ],
   "source": [
    "first_enter = pd.merge(All_egfr, early_egfr, how = 'inner', left_on = ['TMA_Acct', 'date'], right_on = ['TMA_Acct', 'min'])\n",
    "first_enter = first_enter.drop_duplicates()\n",
    "print(len(first_enter))\n",
    "print(len(first_enter['TMA_Acct'].unique()))\n",
    "check = pd.DataFrame(first_enter.groupby('TMA_Acct').size() > 1).reset_index()\n",
    "check = list(set(check[check[0] == True]['TMA_Acct']))\n",
    "print(len(check))\n",
    "first_enter.head(2)"
   ]
  },
  {
   "cell_type": "code",
   "execution_count": 49,
   "metadata": {},
   "outputs": [
    {
     "data": {
      "text/plain": [
       "6143"
      ]
     },
     "execution_count": 49,
     "metadata": {},
     "output_type": "execute_result"
    }
   ],
   "source": [
    "first_enter_date = first_enter[['TMA_Acct', 'date']]\n",
    "first_enter_date = first_enter_date.drop_duplicates()\n",
    "len(first_enter_date)"
   ]
  },
  {
   "cell_type": "code",
   "execution_count": 50,
   "metadata": {},
   "outputs": [
    {
     "name": "stdout",
     "output_type": "stream",
     "text": [
      "6143\n"
     ]
    },
    {
     "data": {
      "text/html": [
       "<div>\n",
       "<style scoped>\n",
       "    .dataframe tbody tr th:only-of-type {\n",
       "        vertical-align: middle;\n",
       "    }\n",
       "\n",
       "    .dataframe tbody tr th {\n",
       "        vertical-align: top;\n",
       "    }\n",
       "\n",
       "    .dataframe thead th {\n",
       "        text-align: right;\n",
       "    }\n",
       "</style>\n",
       "<table border=\"1\" class=\"dataframe\">\n",
       "  <thead>\n",
       "    <tr style=\"text-align: right;\">\n",
       "      <th></th>\n",
       "      <th>TMA_Acct</th>\n",
       "      <th>avg_egfr</th>\n",
       "    </tr>\n",
       "  </thead>\n",
       "  <tbody>\n",
       "    <tr>\n",
       "      <th>0</th>\n",
       "      <td>37</td>\n",
       "      <td>20.085950</td>\n",
       "    </tr>\n",
       "    <tr>\n",
       "      <th>1</th>\n",
       "      <td>86</td>\n",
       "      <td>20.121101</td>\n",
       "    </tr>\n",
       "  </tbody>\n",
       "</table>\n",
       "</div>"
      ],
      "text/plain": [
       "   TMA_Acct   avg_egfr\n",
       "0        37  20.085950\n",
       "1        86  20.121101"
      ]
     },
     "execution_count": 50,
     "metadata": {},
     "output_type": "execute_result"
    }
   ],
   "source": [
    "avg_mean = pd.DataFrame(first_enter.groupby(['TMA_Acct']).agg({'egfr': [np.min]})).reset_index()\n",
    "avg_mean.columns=['TMA_Acct', 'avg_egfr']\n",
    "print(len(avg_mean))\n",
    "avg_mean.head(2)"
   ]
  },
  {
   "cell_type": "code",
   "execution_count": 51,
   "metadata": {},
   "outputs": [
    {
     "data": {
      "text/html": [
       "<div>\n",
       "<style scoped>\n",
       "    .dataframe tbody tr th:only-of-type {\n",
       "        vertical-align: middle;\n",
       "    }\n",
       "\n",
       "    .dataframe tbody tr th {\n",
       "        vertical-align: top;\n",
       "    }\n",
       "\n",
       "    .dataframe thead th {\n",
       "        text-align: right;\n",
       "    }\n",
       "</style>\n",
       "<table border=\"1\" class=\"dataframe\">\n",
       "  <thead>\n",
       "    <tr style=\"text-align: right;\">\n",
       "      <th></th>\n",
       "      <th>TMA_Acct</th>\n",
       "      <th>avg_egfr</th>\n",
       "      <th>date</th>\n",
       "    </tr>\n",
       "  </thead>\n",
       "  <tbody>\n",
       "    <tr>\n",
       "      <th>0</th>\n",
       "      <td>37</td>\n",
       "      <td>20.085950</td>\n",
       "      <td>2010-01-13</td>\n",
       "    </tr>\n",
       "    <tr>\n",
       "      <th>1</th>\n",
       "      <td>86</td>\n",
       "      <td>20.121101</td>\n",
       "      <td>2010-10-09</td>\n",
       "    </tr>\n",
       "  </tbody>\n",
       "</table>\n",
       "</div>"
      ],
      "text/plain": [
       "   TMA_Acct   avg_egfr        date\n",
       "0        37  20.085950  2010-01-13\n",
       "1        86  20.121101  2010-10-09"
      ]
     },
     "execution_count": 51,
     "metadata": {},
     "output_type": "execute_result"
    }
   ],
   "source": [
    "avg_mean_egfr = pd.merge(avg_mean, first_enter_date, how = 'left', left_on = 'TMA_Acct', right_on = 'TMA_Acct')\n",
    "avg_mean_egfr.head(2)"
   ]
  },
  {
   "cell_type": "code",
   "execution_count": 52,
   "metadata": {},
   "outputs": [
    {
     "name": "stdout",
     "output_type": "stream",
     "text": [
      "6143\n",
      "6143\n"
     ]
    }
   ],
   "source": [
    "def mapping(n):\n",
    "    if n >= 90.0: stage = '1'\n",
    "    elif n >= 60.0: stage = '2'\n",
    "    elif n >= 45.0: stage = '3a'\n",
    "    elif n >= 30.0: stage = '3b'\n",
    "    elif n >= 15.0: stage = '4'\n",
    "    else: stage = '5'\n",
    "    return(stage)\n",
    "avg_mean_egfr['stage'] = avg_mean_egfr['avg_egfr'].apply(lambda x: mapping(x))\n",
    "print(len(avg_mean_egfr))\n",
    "avg_mean_egfr = avg_mean_egfr.drop_duplicates()\n",
    "print(len(avg_mean_egfr))"
   ]
  },
  {
   "cell_type": "code",
   "execution_count": 53,
   "metadata": {},
   "outputs": [],
   "source": [
    "avg_mean_egfr.rename(columns={\"date\": \"earliest_egfr_date\"}, inplace = 'True')"
   ]
  },
  {
   "cell_type": "code",
   "execution_count": 54,
   "metadata": {},
   "outputs": [
    {
     "name": "stdout",
     "output_type": "stream",
     "text": [
      "14815\n",
      "14815\n"
     ]
    },
    {
     "data": {
      "text/html": [
       "<div>\n",
       "<style scoped>\n",
       "    .dataframe tbody tr th:only-of-type {\n",
       "        vertical-align: middle;\n",
       "    }\n",
       "\n",
       "    .dataframe tbody tr th {\n",
       "        vertical-align: top;\n",
       "    }\n",
       "\n",
       "    .dataframe thead th {\n",
       "        text-align: right;\n",
       "    }\n",
       "</style>\n",
       "<table border=\"1\" class=\"dataframe\">\n",
       "  <thead>\n",
       "    <tr style=\"text-align: right;\">\n",
       "      <th></th>\n",
       "      <th>TMA_Acct</th>\n",
       "      <th>DOB</th>\n",
       "      <th>Sex</th>\n",
       "      <th>Race</th>\n",
       "      <th>hyper_date</th>\n",
       "      <th>diabe_date</th>\n",
       "      <th>earliest_date_in_all_lab</th>\n",
       "      <th>Date_bmi</th>\n",
       "      <th>BMI</th>\n",
       "      <th>Age_in_2010</th>\n",
       "      <th>avg_egfr</th>\n",
       "      <th>earliest_egfr_date</th>\n",
       "      <th>stage</th>\n",
       "    </tr>\n",
       "  </thead>\n",
       "  <tbody>\n",
       "    <tr>\n",
       "      <th>0</th>\n",
       "      <td>9</td>\n",
       "      <td>1921</td>\n",
       "      <td>Male</td>\n",
       "      <td>White</td>\n",
       "      <td>2001-05-29</td>\n",
       "      <td>NaN</td>\n",
       "      <td>2000-09-22</td>\n",
       "      <td>NaN</td>\n",
       "      <td>NaN</td>\n",
       "      <td>89</td>\n",
       "      <td>NaN</td>\n",
       "      <td>NaN</td>\n",
       "      <td>NaN</td>\n",
       "    </tr>\n",
       "    <tr>\n",
       "      <th>1</th>\n",
       "      <td>10</td>\n",
       "      <td>1926</td>\n",
       "      <td>Female</td>\n",
       "      <td>NaN</td>\n",
       "      <td>NaN</td>\n",
       "      <td>NaN</td>\n",
       "      <td>NaT</td>\n",
       "      <td>NaN</td>\n",
       "      <td>NaN</td>\n",
       "      <td>84</td>\n",
       "      <td>NaN</td>\n",
       "      <td>NaN</td>\n",
       "      <td>NaN</td>\n",
       "    </tr>\n",
       "  </tbody>\n",
       "</table>\n",
       "</div>"
      ],
      "text/plain": [
       "   TMA_Acct   DOB     Sex   Race  hyper_date diabe_date  \\\n",
       "0         9  1921    Male  White  2001-05-29        NaN   \n",
       "1        10  1926  Female    NaN         NaN        NaN   \n",
       "\n",
       "  earliest_date_in_all_lab Date_bmi  BMI  Age_in_2010  avg_egfr  \\\n",
       "0               2000-09-22      NaN  NaN           89       NaN   \n",
       "1                      NaT      NaN  NaN           84       NaN   \n",
       "\n",
       "  earliest_egfr_date stage  \n",
       "0                NaN   NaN  \n",
       "1                NaN   NaN  "
      ]
     },
     "execution_count": 54,
     "metadata": {},
     "output_type": "execute_result"
    }
   ],
   "source": [
    "m_h_d_l_b_e = pd.merge(m_h_d_l_b, avg_mean_egfr, how = 'left', left_on = 'TMA_Acct', right_on = 'TMA_Acct')\n",
    "print(len(m_h_d_l_b_e))\n",
    "print(len(m_h_d_l_b_e['TMA_Acct'].unique()))\n",
    "m_h_d_l_b_e.head(2)"
   ]
  },
  {
   "cell_type": "markdown",
   "metadata": {},
   "source": [
    "### + Status"
   ]
  },
  {
   "cell_type": "code",
   "execution_count": 55,
   "metadata": {},
   "outputs": [
    {
     "name": "stdout",
     "output_type": "stream",
     "text": [
      "15296\n",
      "15089\n",
      "14773\n"
     ]
    }
   ],
   "source": [
    "status = master[['TMA_Acct', 'Patient_Status_Date','Patient_Status']]\n",
    "status = status.drop_duplicates()\n",
    "print(len(status))\n",
    "status.dropna(subset = ['Patient_Status'], inplace = True)\n",
    "print(len(status))\n",
    "print(len(status['TMA_Acct'].unique()))"
   ]
  },
  {
   "cell_type": "code",
   "execution_count": 56,
   "metadata": {},
   "outputs": [
    {
     "name": "stdout",
     "output_type": "stream",
     "text": [
      "14457\n"
     ]
    }
   ],
   "source": [
    "check_status = pd.DataFrame(status.groupby('TMA_Acct').size() > 1).reset_index()\n",
    "check_status = list(set(check_status[check_status[0] == True]['TMA_Acct']))\n",
    "status_main = status[~status['TMA_Acct'].isin(check_status)]\n",
    "print(len(status_main))\n",
    "status_dup = status[status['TMA_Acct'].isin(check_status)]"
   ]
  },
  {
   "cell_type": "code",
   "execution_count": 57,
   "metadata": {},
   "outputs": [
    {
     "name": "stdout",
     "output_type": "stream",
     "text": [
      "313\n",
      "313\n"
     ]
    }
   ],
   "source": [
    "status_dup = status_dup[status_dup['Patient_Status'] != 'Active']\n",
    "print(len(status_dup))\n",
    "print(len(status_dup['TMA_Acct'].unique()))"
   ]
  },
  {
   "cell_type": "code",
   "execution_count": 58,
   "metadata": {},
   "outputs": [
    {
     "data": {
      "text/html": [
       "<div>\n",
       "<style scoped>\n",
       "    .dataframe tbody tr th:only-of-type {\n",
       "        vertical-align: middle;\n",
       "    }\n",
       "\n",
       "    .dataframe tbody tr th {\n",
       "        vertical-align: top;\n",
       "    }\n",
       "\n",
       "    .dataframe thead th {\n",
       "        text-align: right;\n",
       "    }\n",
       "</style>\n",
       "<table border=\"1\" class=\"dataframe\">\n",
       "  <thead>\n",
       "    <tr style=\"text-align: right;\">\n",
       "      <th></th>\n",
       "      <th>TMA_Acct</th>\n",
       "      <th>Patient_Status_Date</th>\n",
       "      <th>Patient_Status</th>\n",
       "    </tr>\n",
       "  </thead>\n",
       "  <tbody>\n",
       "    <tr>\n",
       "      <th>4847</th>\n",
       "      <td>14295</td>\n",
       "      <td>01-01-1900</td>\n",
       "      <td>Active</td>\n",
       "    </tr>\n",
       "  </tbody>\n",
       "</table>\n",
       "</div>"
      ],
      "text/plain": [
       "      TMA_Acct Patient_Status_Date Patient_Status\n",
       "4847     14295          01-01-1900         Active"
      ]
     },
     "execution_count": 58,
     "metadata": {},
     "output_type": "execute_result"
    }
   ],
   "source": [
    "only = status[(status.TMA_Acct == 14295) & (status.Patient_Status_Date == '01-01-1900')]\n",
    "only"
   ]
  },
  {
   "cell_type": "code",
   "execution_count": 59,
   "metadata": {},
   "outputs": [],
   "source": [
    "status = pd.concat([status_dup, status_main])\n",
    "status = pd.concat([status, only])"
   ]
  },
  {
   "cell_type": "code",
   "execution_count": 60,
   "metadata": {},
   "outputs": [
    {
     "data": {
      "text/plain": [
       "14771"
      ]
     },
     "execution_count": 60,
     "metadata": {},
     "output_type": "execute_result"
    }
   ],
   "source": [
    "len(status)"
   ]
  },
  {
   "cell_type": "code",
   "execution_count": 61,
   "metadata": {},
   "outputs": [
    {
     "name": "stdout",
     "output_type": "stream",
     "text": [
      "14815\n",
      "14815\n"
     ]
    },
    {
     "data": {
      "text/html": [
       "<div>\n",
       "<style scoped>\n",
       "    .dataframe tbody tr th:only-of-type {\n",
       "        vertical-align: middle;\n",
       "    }\n",
       "\n",
       "    .dataframe tbody tr th {\n",
       "        vertical-align: top;\n",
       "    }\n",
       "\n",
       "    .dataframe thead th {\n",
       "        text-align: right;\n",
       "    }\n",
       "</style>\n",
       "<table border=\"1\" class=\"dataframe\">\n",
       "  <thead>\n",
       "    <tr style=\"text-align: right;\">\n",
       "      <th></th>\n",
       "      <th>TMA_Acct</th>\n",
       "      <th>DOB</th>\n",
       "      <th>Sex</th>\n",
       "      <th>Race</th>\n",
       "      <th>hyper_date</th>\n",
       "      <th>diabe_date</th>\n",
       "      <th>earliest_date_in_all_lab</th>\n",
       "      <th>Date_bmi</th>\n",
       "      <th>BMI</th>\n",
       "      <th>Age_in_2010</th>\n",
       "      <th>avg_egfr</th>\n",
       "      <th>earliest_egfr_date</th>\n",
       "      <th>stage</th>\n",
       "      <th>Patient_Status_Date</th>\n",
       "      <th>Patient_Status</th>\n",
       "    </tr>\n",
       "  </thead>\n",
       "  <tbody>\n",
       "    <tr>\n",
       "      <th>0</th>\n",
       "      <td>9</td>\n",
       "      <td>1921</td>\n",
       "      <td>Male</td>\n",
       "      <td>White</td>\n",
       "      <td>2001-05-29</td>\n",
       "      <td>NaN</td>\n",
       "      <td>2000-09-22</td>\n",
       "      <td>NaN</td>\n",
       "      <td>NaN</td>\n",
       "      <td>89</td>\n",
       "      <td>NaN</td>\n",
       "      <td>NaN</td>\n",
       "      <td>NaN</td>\n",
       "      <td>6-30-2010</td>\n",
       "      <td>Deceased</td>\n",
       "    </tr>\n",
       "    <tr>\n",
       "      <th>1</th>\n",
       "      <td>10</td>\n",
       "      <td>1926</td>\n",
       "      <td>Female</td>\n",
       "      <td>NaN</td>\n",
       "      <td>NaN</td>\n",
       "      <td>NaN</td>\n",
       "      <td>NaT</td>\n",
       "      <td>NaN</td>\n",
       "      <td>NaN</td>\n",
       "      <td>84</td>\n",
       "      <td>NaN</td>\n",
       "      <td>NaN</td>\n",
       "      <td>NaN</td>\n",
       "      <td>NaN</td>\n",
       "      <td>Active</td>\n",
       "    </tr>\n",
       "  </tbody>\n",
       "</table>\n",
       "</div>"
      ],
      "text/plain": [
       "   TMA_Acct   DOB     Sex   Race  hyper_date diabe_date  \\\n",
       "0         9  1921    Male  White  2001-05-29        NaN   \n",
       "1        10  1926  Female    NaN         NaN        NaN   \n",
       "\n",
       "  earliest_date_in_all_lab Date_bmi  BMI  Age_in_2010  avg_egfr  \\\n",
       "0               2000-09-22      NaN  NaN           89       NaN   \n",
       "1                      NaT      NaN  NaN           84       NaN   \n",
       "\n",
       "  earliest_egfr_date stage Patient_Status_Date Patient_Status  \n",
       "0                NaN   NaN           6-30-2010       Deceased  \n",
       "1                NaN   NaN                 NaN         Active  "
      ]
     },
     "execution_count": 61,
     "metadata": {},
     "output_type": "execute_result"
    }
   ],
   "source": [
    "m_h_d_l_b_e_s = pd.merge(m_h_d_l_b_e, status, how = 'left', left_on = 'TMA_Acct', right_on = 'TMA_Acct')\n",
    "print(len(m_h_d_l_b_e_s))\n",
    "print(len(m_h_d_l_b_e_s['TMA_Acct'].unique()))\n",
    "m_h_d_l_b_e_s.head(2)"
   ]
  },
  {
   "cell_type": "code",
   "execution_count": 62,
   "metadata": {},
   "outputs": [],
   "source": [
    "m_h_d_l_b_e_s.to_csv('baseline.csv')"
   ]
  },
  {
   "cell_type": "code",
   "execution_count": 63,
   "metadata": {},
   "outputs": [],
   "source": [
    "baseline = pd.read_csv('baseline.csv')"
   ]
  },
  {
   "cell_type": "code",
   "execution_count": 64,
   "metadata": {},
   "outputs": [
    {
     "data": {
      "text/plain": [
       "14815"
      ]
     },
     "execution_count": 64,
     "metadata": {},
     "output_type": "execute_result"
    }
   ],
   "source": [
    "len(baseline)"
   ]
  },
  {
   "cell_type": "code",
   "execution_count": 65,
   "metadata": {},
   "outputs": [
    {
     "name": "stdout",
     "output_type": "stream",
     "text": [
      "14815\n"
     ]
    }
   ],
   "source": [
    "print(len(baseline['TMA_Acct'].unique()))"
   ]
  },
  {
   "cell_type": "code",
   "execution_count": null,
   "metadata": {},
   "outputs": [],
   "source": []
  }
 ],
 "metadata": {
  "kernelspec": {
   "display_name": "Python 3",
   "language": "python",
   "name": "python3"
  },
  "language_info": {
   "codemirror_mode": {
    "name": "ipython",
    "version": 3
   },
   "file_extension": ".py",
   "mimetype": "text/x-python",
   "name": "python",
   "nbconvert_exporter": "python",
   "pygments_lexer": "ipython3",
   "version": "3.7.6"
  }
 },
 "nbformat": 4,
 "nbformat_minor": 4
}
