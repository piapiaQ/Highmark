{
 "cells": [
  {
   "cell_type": "code",
   "execution_count": 2,
   "metadata": {},
   "outputs": [
    {
     "name": "stderr",
     "output_type": "stream",
     "text": [
      "C:\\Users\\DELL\\anaconda3\\lib\\site-packages\\IPython\\core\\interactiveshell.py:3063: DtypeWarning: Columns (4) have mixed types.Specify dtype option on import or set low_memory=False.\n",
      "  interactivity=interactivity, compiler=compiler, result=result)\n"
     ]
    }
   ],
   "source": [
    "#skip\n",
    "import pandas as pd\n",
    "import numpy as np\n",
    "new_lab = pd.read_csv(\"df_labdata.csv\")\n",
    "new_lab[\"source\"] = \"Highmark\"\n",
    "new_lab.rename(columns={\"test_result\": \"result\", \"test_unit\": 'Units'}, inplace = 'True')\n",
    "new_lab['test_name'] = new_lab['test_name'].str.lower()\n",
    "old_lab = pd.read_csv('TMA_lab.csv')\n",
    "old_lab['Lab_Date'] = pd.to_datetime(old_lab.Lab_Date)\n",
    "old_lab.rename(columns={\"Lab_Date\": \"date\", \"Results\": \"result\", \"Code\": \"test_name\"}, inplace = 'True')\n",
    "old_lab['test_name'] = old_lab['test_name'].str.lower()\n",
    "old_lab[\"source\"] = \"TMA\"\n",
    "master = pd.read_csv(\"master.csv\")\n",
    "lab = pd.read_csv(\"lab.csv\")\n",
    "def num(df):\n",
    "    print(len(df))\n",
    "    print(len(df['TMA_Acct'].unique()))\n",
    "def show(df, n):\n",
    "    print(pd.DataFrame(df[df['TMA_Acct'] == n]))"
   ]
  },
  {
   "cell_type": "code",
   "execution_count": 1,
   "metadata": {},
   "outputs": [
    {
     "name": "stderr",
     "output_type": "stream",
     "text": [
      "C:\\Users\\DELL\\anaconda3\\lib\\site-packages\\IPython\\core\\interactiveshell.py:3063: DtypeWarning: Columns (5) have mixed types.Specify dtype option on import or set low_memory=False.\n",
      "  interactivity=interactivity, compiler=compiler, result=result)\n"
     ]
    }
   ],
   "source": [
    "#step1\n",
    "import pandas as pd\n",
    "import numpy as np\n",
    "lab = pd.read_csv(\"lab_total.csv\")\n",
    "master = pd.read_csv(\"master.csv\")\n",
    "def num(df):\n",
    "    print(len(df))\n",
    "    print(len(df['TMA_Acct'].unique()))\n",
    "def show(df, n):\n",
    "    print(pd.DataFrame(df[df['TMA_Acct'] == n]))"
   ]
  },
  {
   "cell_type": "code",
   "execution_count": 3,
   "metadata": {},
   "outputs": [
    {
     "data": {
      "text/html": [
       "<div>\n",
       "<style scoped>\n",
       "    .dataframe tbody tr th:only-of-type {\n",
       "        vertical-align: middle;\n",
       "    }\n",
       "\n",
       "    .dataframe tbody tr th {\n",
       "        vertical-align: top;\n",
       "    }\n",
       "\n",
       "    .dataframe thead th {\n",
       "        text-align: right;\n",
       "    }\n",
       "</style>\n",
       "<table border=\"1\" class=\"dataframe\">\n",
       "  <thead>\n",
       "    <tr style=\"text-align: right;\">\n",
       "      <th></th>\n",
       "      <th>Unnamed: 0</th>\n",
       "      <th>TMA_Acct</th>\n",
       "      <th>dos_deidentified</th>\n",
       "      <th>clinic_name_deidentified</th>\n",
       "      <th>test_name</th>\n",
       "      <th>result</th>\n",
       "      <th>Units</th>\n",
       "      <th>abnormal_flag</th>\n",
       "      <th>range_low_value</th>\n",
       "      <th>range_high_value</th>\n",
       "      <th>loinc_code</th>\n",
       "      <th>date</th>\n",
       "      <th>source</th>\n",
       "    </tr>\n",
       "  </thead>\n",
       "  <tbody>\n",
       "    <tr>\n",
       "      <th>0</th>\n",
       "      <td>0</td>\n",
       "      <td>1483</td>\n",
       "      <td>15</td>\n",
       "      <td>1.0</td>\n",
       "      <td>rbc/hpf cells</td>\n",
       "      <td>0.0</td>\n",
       "      <td>NaN</td>\n",
       "      <td></td>\n",
       "      <td>0.0</td>\n",
       "      <td>3.0</td>\n",
       "      <td>58081</td>\n",
       "      <td>2010-01-16</td>\n",
       "      <td>Highmark</td>\n",
       "    </tr>\n",
       "    <tr>\n",
       "      <th>1</th>\n",
       "      <td>1</td>\n",
       "      <td>49053</td>\n",
       "      <td>2759</td>\n",
       "      <td>2.0</td>\n",
       "      <td>ld</td>\n",
       "      <td>237.0</td>\n",
       "      <td>UNITS</td>\n",
       "      <td></td>\n",
       "      <td>120.0</td>\n",
       "      <td>250.0</td>\n",
       "      <td>25320</td>\n",
       "      <td>2017-07-22</td>\n",
       "      <td>Highmark</td>\n",
       "    </tr>\n",
       "  </tbody>\n",
       "</table>\n",
       "</div>"
      ],
      "text/plain": [
       "   Unnamed: 0  TMA_Acct  dos_deidentified  clinic_name_deidentified  \\\n",
       "0           0      1483                15                       1.0   \n",
       "1           1     49053              2759                       2.0   \n",
       "\n",
       "       test_name  result  Units abnormal_flag  range_low_value  \\\n",
       "0  rbc/hpf cells     0.0    NaN                            0.0   \n",
       "1             ld   237.0  UNITS                          120.0   \n",
       "\n",
       "   range_high_value loinc_code        date    source  \n",
       "0               3.0      58081  2010-01-16  Highmark  \n",
       "1             250.0      25320  2017-07-22  Highmark  "
      ]
     },
     "execution_count": 3,
     "metadata": {},
     "output_type": "execute_result"
    }
   ],
   "source": [
    "new_lab.head(2)"
   ]
  },
  {
   "cell_type": "code",
   "execution_count": 4,
   "metadata": {},
   "outputs": [
    {
     "data": {
      "text/html": [
       "<div>\n",
       "<style scoped>\n",
       "    .dataframe tbody tr th:only-of-type {\n",
       "        vertical-align: middle;\n",
       "    }\n",
       "\n",
       "    .dataframe tbody tr th {\n",
       "        vertical-align: top;\n",
       "    }\n",
       "\n",
       "    .dataframe thead th {\n",
       "        text-align: right;\n",
       "    }\n",
       "</style>\n",
       "<table border=\"1\" class=\"dataframe\">\n",
       "  <thead>\n",
       "    <tr style=\"text-align: right;\">\n",
       "      <th></th>\n",
       "      <th>Unnamed: 0</th>\n",
       "      <th>TMA_Acct</th>\n",
       "      <th>date</th>\n",
       "      <th>test_name</th>\n",
       "      <th>result</th>\n",
       "      <th>Lab_Company</th>\n",
       "      <th>Status</th>\n",
       "      <th>Units</th>\n",
       "      <th>Order_Doctor</th>\n",
       "      <th>source</th>\n",
       "    </tr>\n",
       "  </thead>\n",
       "  <tbody>\n",
       "    <tr>\n",
       "      <th>0</th>\n",
       "      <td>0</td>\n",
       "      <td>9</td>\n",
       "      <td>2008-08-29</td>\n",
       "      <td>iron tibc</td>\n",
       "      <td>305.6</td>\n",
       "      <td>ALIQHOSP</td>\n",
       "      <td>NaN</td>\n",
       "      <td>NaN</td>\n",
       "      <td>NaN</td>\n",
       "      <td>TMA</td>\n",
       "    </tr>\n",
       "    <tr>\n",
       "      <th>1</th>\n",
       "      <td>1</td>\n",
       "      <td>9</td>\n",
       "      <td>2005-01-03</td>\n",
       "      <td>hemoglobin</td>\n",
       "      <td>13.4</td>\n",
       "      <td>ALIQHOSP</td>\n",
       "      <td>NaN</td>\n",
       "      <td>NaN</td>\n",
       "      <td>NaN</td>\n",
       "      <td>TMA</td>\n",
       "    </tr>\n",
       "  </tbody>\n",
       "</table>\n",
       "</div>"
      ],
      "text/plain": [
       "   Unnamed: 0  TMA_Acct       date   test_name result Lab_Company Status  \\\n",
       "0           0         9 2008-08-29   iron tibc  305.6    ALIQHOSP    NaN   \n",
       "1           1         9 2005-01-03  hemoglobin   13.4    ALIQHOSP    NaN   \n",
       "\n",
       "  Units Order_Doctor source  \n",
       "0   NaN          NaN    TMA  \n",
       "1   NaN          NaN    TMA  "
      ]
     },
     "execution_count": 4,
     "metadata": {},
     "output_type": "execute_result"
    }
   ],
   "source": [
    "old_lab.head(2)"
   ]
  },
  {
   "cell_type": "code",
   "execution_count": 5,
   "metadata": {},
   "outputs": [
    {
     "data": {
      "text/html": [
       "<div>\n",
       "<style scoped>\n",
       "    .dataframe tbody tr th:only-of-type {\n",
       "        vertical-align: middle;\n",
       "    }\n",
       "\n",
       "    .dataframe tbody tr th {\n",
       "        vertical-align: top;\n",
       "    }\n",
       "\n",
       "    .dataframe thead th {\n",
       "        text-align: right;\n",
       "    }\n",
       "</style>\n",
       "<table border=\"1\" class=\"dataframe\">\n",
       "  <thead>\n",
       "    <tr style=\"text-align: right;\">\n",
       "      <th></th>\n",
       "      <th>Unnamed: 0</th>\n",
       "      <th>TMA_Acct</th>\n",
       "      <th>date</th>\n",
       "      <th>test_name</th>\n",
       "      <th>result</th>\n",
       "      <th>Units</th>\n",
       "      <th>source</th>\n",
       "    </tr>\n",
       "  </thead>\n",
       "  <tbody>\n",
       "    <tr>\n",
       "      <th>0</th>\n",
       "      <td>0</td>\n",
       "      <td>9</td>\n",
       "      <td>2008-08-29 00:00:00</td>\n",
       "      <td>iron tibc</td>\n",
       "      <td>305.6</td>\n",
       "      <td>NaN</td>\n",
       "      <td>TMA</td>\n",
       "    </tr>\n",
       "    <tr>\n",
       "      <th>1</th>\n",
       "      <td>1</td>\n",
       "      <td>9</td>\n",
       "      <td>2005-01-03 00:00:00</td>\n",
       "      <td>hemoglobin</td>\n",
       "      <td>13.4</td>\n",
       "      <td>NaN</td>\n",
       "      <td>TMA</td>\n",
       "    </tr>\n",
       "  </tbody>\n",
       "</table>\n",
       "</div>"
      ],
      "text/plain": [
       "   Unnamed: 0  TMA_Acct                 date   test_name result Units source\n",
       "0           0         9  2008-08-29 00:00:00   iron tibc  305.6   NaN    TMA\n",
       "1           1         9  2005-01-03 00:00:00  hemoglobin   13.4   NaN    TMA"
      ]
     },
     "execution_count": 5,
     "metadata": {},
     "output_type": "execute_result"
    }
   ],
   "source": [
    "lab.head(2)"
   ]
  },
  {
   "cell_type": "code",
   "execution_count": 6,
   "metadata": {},
   "outputs": [
    {
     "data": {
      "text/plain": [
       "8148178"
      ]
     },
     "execution_count": 6,
     "metadata": {},
     "output_type": "execute_result"
    }
   ],
   "source": [
    "len(lab) + len(new_lab) + len(old_lab)"
   ]
  },
  {
   "cell_type": "code",
   "execution_count": 7,
   "metadata": {},
   "outputs": [],
   "source": [
    "new_lab = new_lab[['TMA_Acct', 'date', 'test_name', 'result', 'Units', 'source']]\n",
    "old_lab = old_lab[['TMA_Acct', 'date', 'test_name', 'result', 'Units', 'source']]\n",
    "lab = pd.concat([lab, new_lab, old_lab], axis = 0)"
   ]
  },
  {
   "cell_type": "code",
   "execution_count": 9,
   "metadata": {},
   "outputs": [
    {
     "data": {
      "text/html": [
       "<div>\n",
       "<style scoped>\n",
       "    .dataframe tbody tr th:only-of-type {\n",
       "        vertical-align: middle;\n",
       "    }\n",
       "\n",
       "    .dataframe tbody tr th {\n",
       "        vertical-align: top;\n",
       "    }\n",
       "\n",
       "    .dataframe thead th {\n",
       "        text-align: right;\n",
       "    }\n",
       "</style>\n",
       "<table border=\"1\" class=\"dataframe\">\n",
       "  <thead>\n",
       "    <tr style=\"text-align: right;\">\n",
       "      <th></th>\n",
       "      <th>Unnamed: 0</th>\n",
       "      <th>TMA_Acct</th>\n",
       "      <th>date</th>\n",
       "      <th>test_name</th>\n",
       "      <th>result</th>\n",
       "      <th>Units</th>\n",
       "      <th>source</th>\n",
       "    </tr>\n",
       "  </thead>\n",
       "  <tbody>\n",
       "    <tr>\n",
       "      <th>0</th>\n",
       "      <td>0.0</td>\n",
       "      <td>9</td>\n",
       "      <td>2008-08-29 00:00:00</td>\n",
       "      <td>iron tibc</td>\n",
       "      <td>305.6</td>\n",
       "      <td>NaN</td>\n",
       "      <td>TMA</td>\n",
       "    </tr>\n",
       "    <tr>\n",
       "      <th>1</th>\n",
       "      <td>1.0</td>\n",
       "      <td>9</td>\n",
       "      <td>2005-01-03 00:00:00</td>\n",
       "      <td>hemoglobin</td>\n",
       "      <td>13.4</td>\n",
       "      <td>NaN</td>\n",
       "      <td>TMA</td>\n",
       "    </tr>\n",
       "  </tbody>\n",
       "</table>\n",
       "</div>"
      ],
      "text/plain": [
       "   Unnamed: 0  TMA_Acct                 date   test_name result Units source\n",
       "0         0.0         9  2008-08-29 00:00:00   iron tibc  305.6   NaN    TMA\n",
       "1         1.0         9  2005-01-03 00:00:00  hemoglobin   13.4   NaN    TMA"
      ]
     },
     "execution_count": 9,
     "metadata": {},
     "output_type": "execute_result"
    }
   ],
   "source": [
    "lab.head(2)"
   ]
  },
  {
   "cell_type": "code",
   "execution_count": 10,
   "metadata": {},
   "outputs": [],
   "source": [
    "lab.to_csv(\"lab_total.csv\")"
   ]
  },
  {
   "cell_type": "markdown",
   "metadata": {},
   "source": [
    "### combine lab together"
   ]
  },
  {
   "cell_type": "code",
   "execution_count": 1,
   "metadata": {},
   "outputs": [],
   "source": [
    "#skip this part"
   ]
  },
  {
   "cell_type": "code",
   "execution_count": 18,
   "metadata": {},
   "outputs": [
    {
     "data": {
      "text/html": [
       "<div>\n",
       "<style scoped>\n",
       "    .dataframe tbody tr th:only-of-type {\n",
       "        vertical-align: middle;\n",
       "    }\n",
       "\n",
       "    .dataframe tbody tr th {\n",
       "        vertical-align: top;\n",
       "    }\n",
       "\n",
       "    .dataframe thead th {\n",
       "        text-align: right;\n",
       "    }\n",
       "</style>\n",
       "<table border=\"1\" class=\"dataframe\">\n",
       "  <thead>\n",
       "    <tr style=\"text-align: right;\">\n",
       "      <th></th>\n",
       "      <th>Unnamed: 0</th>\n",
       "      <th>TMA_Acct</th>\n",
       "      <th>date</th>\n",
       "      <th>test_name</th>\n",
       "      <th>result</th>\n",
       "      <th>Lab_Company</th>\n",
       "      <th>Status</th>\n",
       "      <th>Units</th>\n",
       "      <th>Order_Doctor</th>\n",
       "      <th>source</th>\n",
       "    </tr>\n",
       "  </thead>\n",
       "  <tbody>\n",
       "    <tr>\n",
       "      <th>0</th>\n",
       "      <td>0</td>\n",
       "      <td>9</td>\n",
       "      <td>2008-08-29</td>\n",
       "      <td>iron tibc</td>\n",
       "      <td>305.6</td>\n",
       "      <td>ALIQHOSP</td>\n",
       "      <td>NaN</td>\n",
       "      <td>NaN</td>\n",
       "      <td>NaN</td>\n",
       "      <td>TMA</td>\n",
       "    </tr>\n",
       "    <tr>\n",
       "      <th>1</th>\n",
       "      <td>1</td>\n",
       "      <td>9</td>\n",
       "      <td>2005-01-03</td>\n",
       "      <td>hemoglobin</td>\n",
       "      <td>13.4</td>\n",
       "      <td>ALIQHOSP</td>\n",
       "      <td>NaN</td>\n",
       "      <td>NaN</td>\n",
       "      <td>NaN</td>\n",
       "      <td>TMA</td>\n",
       "    </tr>\n",
       "  </tbody>\n",
       "</table>\n",
       "</div>"
      ],
      "text/plain": [
       "   Unnamed: 0  TMA_Acct       date   test_name result Lab_Company Status  \\\n",
       "0           0         9 2008-08-29   iron tibc  305.6    ALIQHOSP    NaN   \n",
       "1           1         9 2005-01-03  hemoglobin   13.4    ALIQHOSP    NaN   \n",
       "\n",
       "  Units Order_Doctor source  \n",
       "0   NaN          NaN    TMA  \n",
       "1   NaN          NaN    TMA  "
      ]
     },
     "execution_count": 18,
     "metadata": {},
     "output_type": "execute_result"
    }
   ],
   "source": [
    "old_lab.head(2)"
   ]
  },
  {
   "cell_type": "code",
   "execution_count": 19,
   "metadata": {},
   "outputs": [],
   "source": [
    "lab4 = pd.read_excel(\"LabResults Apr2017.xls\")\n",
    "lab1 = pd.read_excel(\"LabResults Feb2017.xls\")\n",
    "lab2 = pd.read_excel(\"LabResults May2017.xls\")\n",
    "lab3 = pd.read_excel(\"LabResults Mar2017.xls\")\n",
    "lab5 = pd.read_excel(\"LabResults Jan2017.xls\")\n",
    "lab6 = pd.read_excel(\"LabResults Jun2017.xls\")"
   ]
  },
  {
   "cell_type": "code",
   "execution_count": 20,
   "metadata": {},
   "outputs": [
    {
     "data": {
      "text/plain": [
       "328080"
      ]
     },
     "execution_count": 20,
     "metadata": {},
     "output_type": "execute_result"
    }
   ],
   "source": [
    "len(lab6) + len(lab5)+len(lab4)+len(lab3)+len(lab2)+len(lab1)"
   ]
  },
  {
   "cell_type": "code",
   "execution_count": 21,
   "metadata": {},
   "outputs": [],
   "source": [
    "lab = pd.concat([lab1,lab2,lab3,lab4,lab5,lab6], axis = 0)\n",
    "lab.rename(columns={\"Date\": \"date\", \"Results\": \"result\", \"Code\": \"test_name\", \"Acct#\": \"TMA_Acct\"}, inplace = 'True')\n",
    "lab['source'] = \"TMA\"\n",
    "lab['test_name'] = lab['test_name'].str.lower()"
   ]
  },
  {
   "cell_type": "code",
   "execution_count": 22,
   "metadata": {},
   "outputs": [
    {
     "data": {
      "text/html": [
       "<div>\n",
       "<style scoped>\n",
       "    .dataframe tbody tr th:only-of-type {\n",
       "        vertical-align: middle;\n",
       "    }\n",
       "\n",
       "    .dataframe tbody tr th {\n",
       "        vertical-align: top;\n",
       "    }\n",
       "\n",
       "    .dataframe thead th {\n",
       "        text-align: right;\n",
       "    }\n",
       "</style>\n",
       "<table border=\"1\" class=\"dataframe\">\n",
       "  <thead>\n",
       "    <tr style=\"text-align: right;\">\n",
       "      <th></th>\n",
       "      <th>TMA_Acct</th>\n",
       "      <th>date</th>\n",
       "      <th>test_name</th>\n",
       "      <th>result</th>\n",
       "      <th>Lab Company</th>\n",
       "      <th>Status</th>\n",
       "      <th>Units</th>\n",
       "      <th>source</th>\n",
       "    </tr>\n",
       "  </thead>\n",
       "  <tbody>\n",
       "    <tr>\n",
       "      <th>0</th>\n",
       "      <td>43327</td>\n",
       "      <td>02/13/2017</td>\n",
       "      <td>egfr-oth</td>\n",
       "      <td>43</td>\n",
       "      <td>Washington Hospital</td>\n",
       "      <td>Closed</td>\n",
       "      <td>NaN</td>\n",
       "      <td>TMA</td>\n",
       "    </tr>\n",
       "    <tr>\n",
       "      <th>1</th>\n",
       "      <td>43327</td>\n",
       "      <td>02/13/2017</td>\n",
       "      <td>egfr-afa</td>\n",
       "      <td>52</td>\n",
       "      <td>Washington Hospital</td>\n",
       "      <td>Closed</td>\n",
       "      <td>NaN</td>\n",
       "      <td>TMA</td>\n",
       "    </tr>\n",
       "  </tbody>\n",
       "</table>\n",
       "</div>"
      ],
      "text/plain": [
       "   TMA_Acct        date test_name result          Lab Company  Status Units  \\\n",
       "0     43327  02/13/2017  egfr-oth     43  Washington Hospital  Closed   NaN   \n",
       "1     43327  02/13/2017  egfr-afa     52  Washington Hospital  Closed   NaN   \n",
       "\n",
       "  source  \n",
       "0    TMA  \n",
       "1    TMA  "
      ]
     },
     "execution_count": 22,
     "metadata": {},
     "output_type": "execute_result"
    }
   ],
   "source": [
    "lab.head(2)"
   ]
  },
  {
   "cell_type": "code",
   "execution_count": 23,
   "metadata": {},
   "outputs": [],
   "source": [
    "new_lab = new_lab[['TMA_Acct', 'date', 'test_name', 'result', 'Units', 'source']]\n",
    "old_lab = old_lab[['TMA_Acct', 'date', 'test_name', 'result', 'Units', 'source']]\n",
    "lab = lab[['TMA_Acct', 'date', 'test_name', 'result', 'Units','source']]"
   ]
  },
  {
   "cell_type": "code",
   "execution_count": 24,
   "metadata": {},
   "outputs": [],
   "source": [
    "lab_all = pd.concat([old_lab, new_lab,lab], axis = 0)"
   ]
  },
  {
   "cell_type": "code",
   "execution_count": 25,
   "metadata": {},
   "outputs": [
    {
     "data": {
      "text/html": [
       "<div>\n",
       "<style scoped>\n",
       "    .dataframe tbody tr th:only-of-type {\n",
       "        vertical-align: middle;\n",
       "    }\n",
       "\n",
       "    .dataframe tbody tr th {\n",
       "        vertical-align: top;\n",
       "    }\n",
       "\n",
       "    .dataframe thead th {\n",
       "        text-align: right;\n",
       "    }\n",
       "</style>\n",
       "<table border=\"1\" class=\"dataframe\">\n",
       "  <thead>\n",
       "    <tr style=\"text-align: right;\">\n",
       "      <th></th>\n",
       "      <th>TMA_Acct</th>\n",
       "      <th>date</th>\n",
       "      <th>test_name</th>\n",
       "      <th>result</th>\n",
       "      <th>Units</th>\n",
       "      <th>source</th>\n",
       "    </tr>\n",
       "  </thead>\n",
       "  <tbody>\n",
       "    <tr>\n",
       "      <th>0</th>\n",
       "      <td>9</td>\n",
       "      <td>2008-08-29 00:00:00</td>\n",
       "      <td>iron tibc</td>\n",
       "      <td>305.6</td>\n",
       "      <td>NaN</td>\n",
       "      <td>TMA</td>\n",
       "    </tr>\n",
       "    <tr>\n",
       "      <th>1</th>\n",
       "      <td>9</td>\n",
       "      <td>2005-01-03 00:00:00</td>\n",
       "      <td>hemoglobin</td>\n",
       "      <td>13.4</td>\n",
       "      <td>NaN</td>\n",
       "      <td>TMA</td>\n",
       "    </tr>\n",
       "  </tbody>\n",
       "</table>\n",
       "</div>"
      ],
      "text/plain": [
       "   TMA_Acct                 date   test_name result Units source\n",
       "0         9  2008-08-29 00:00:00   iron tibc  305.6   NaN    TMA\n",
       "1         9  2005-01-03 00:00:00  hemoglobin   13.4   NaN    TMA"
      ]
     },
     "execution_count": 25,
     "metadata": {},
     "output_type": "execute_result"
    }
   ],
   "source": [
    "lab_all.head(2)"
   ]
  },
  {
   "cell_type": "code",
   "execution_count": 26,
   "metadata": {},
   "outputs": [],
   "source": [
    "lab_all.to_csv(\"lab.csv\")"
   ]
  },
  {
   "cell_type": "markdown",
   "metadata": {},
   "source": [
    "### Retrieve Serum "
   ]
  },
  {
   "cell_type": "code",
   "execution_count": 2,
   "metadata": {},
   "outputs": [],
   "source": [
    "#step2\n",
    "serum = pd.read_csv('serum.csv')"
   ]
  },
  {
   "cell_type": "code",
   "execution_count": 50,
   "metadata": {},
   "outputs": [
    {
     "name": "stdout",
     "output_type": "stream",
     "text": [
      "203878\n",
      "12859\n"
     ]
    }
   ],
   "source": [
    "num(serum)"
   ]
  },
  {
   "cell_type": "code",
   "execution_count": 51,
   "metadata": {},
   "outputs": [
    {
     "data": {
      "text/html": [
       "<div>\n",
       "<style scoped>\n",
       "    .dataframe tbody tr th:only-of-type {\n",
       "        vertical-align: middle;\n",
       "    }\n",
       "\n",
       "    .dataframe tbody tr th {\n",
       "        vertical-align: top;\n",
       "    }\n",
       "\n",
       "    .dataframe thead th {\n",
       "        text-align: right;\n",
       "    }\n",
       "</style>\n",
       "<table border=\"1\" class=\"dataframe\">\n",
       "  <thead>\n",
       "    <tr style=\"text-align: right;\">\n",
       "      <th></th>\n",
       "      <th>Unnamed: 0</th>\n",
       "      <th>TMA_Acct</th>\n",
       "      <th>date</th>\n",
       "      <th>result</th>\n",
       "      <th>Units</th>\n",
       "      <th>test_name</th>\n",
       "      <th>source</th>\n",
       "    </tr>\n",
       "  </thead>\n",
       "  <tbody>\n",
       "    <tr>\n",
       "      <th>0</th>\n",
       "      <td>3</td>\n",
       "      <td>9</td>\n",
       "      <td>2004-02-03</td>\n",
       "      <td>1.1</td>\n",
       "      <td>NaN</td>\n",
       "      <td>creatinine</td>\n",
       "      <td>TMA</td>\n",
       "    </tr>\n",
       "    <tr>\n",
       "      <th>1</th>\n",
       "      <td>22</td>\n",
       "      <td>9</td>\n",
       "      <td>2006-12-27</td>\n",
       "      <td>1.2</td>\n",
       "      <td>NaN</td>\n",
       "      <td>creatinine</td>\n",
       "      <td>TMA</td>\n",
       "    </tr>\n",
       "  </tbody>\n",
       "</table>\n",
       "</div>"
      ],
      "text/plain": [
       "   Unnamed: 0  TMA_Acct        date  result Units   test_name source\n",
       "0           3         9  2004-02-03     1.1   NaN  creatinine    TMA\n",
       "1          22         9  2006-12-27     1.2   NaN  creatinine    TMA"
      ]
     },
     "execution_count": 51,
     "metadata": {},
     "output_type": "execute_result"
    }
   ],
   "source": [
    "serum.head(2)"
   ]
  },
  {
   "cell_type": "code",
   "execution_count": 12,
   "metadata": {},
   "outputs": [
    {
     "name": "stdout",
     "output_type": "stream",
     "text": [
      "252840\n",
      "13811\n"
     ]
    },
    {
     "data": {
      "text/html": [
       "<div>\n",
       "<style scoped>\n",
       "    .dataframe tbody tr th:only-of-type {\n",
       "        vertical-align: middle;\n",
       "    }\n",
       "\n",
       "    .dataframe tbody tr th {\n",
       "        vertical-align: top;\n",
       "    }\n",
       "\n",
       "    .dataframe thead th {\n",
       "        text-align: right;\n",
       "    }\n",
       "</style>\n",
       "<table border=\"1\" class=\"dataframe\">\n",
       "  <thead>\n",
       "    <tr style=\"text-align: right;\">\n",
       "      <th></th>\n",
       "      <th>TMA_Acct</th>\n",
       "      <th>date</th>\n",
       "      <th>result</th>\n",
       "      <th>Units</th>\n",
       "      <th>test_name</th>\n",
       "      <th>source</th>\n",
       "    </tr>\n",
       "  </thead>\n",
       "  <tbody>\n",
       "    <tr>\n",
       "      <th>3</th>\n",
       "      <td>9</td>\n",
       "      <td>2004-02-03 00:00:00</td>\n",
       "      <td>1.1</td>\n",
       "      <td>NaN</td>\n",
       "      <td>creatinine</td>\n",
       "      <td>TMA</td>\n",
       "    </tr>\n",
       "    <tr>\n",
       "      <th>22</th>\n",
       "      <td>9</td>\n",
       "      <td>2006-12-27 00:00:00</td>\n",
       "      <td>1.2</td>\n",
       "      <td>NaN</td>\n",
       "      <td>creatinine</td>\n",
       "      <td>TMA</td>\n",
       "    </tr>\n",
       "  </tbody>\n",
       "</table>\n",
       "</div>"
      ],
      "text/plain": [
       "    TMA_Acct                 date result Units   test_name source\n",
       "3          9  2004-02-03 00:00:00    1.1   NaN  creatinine    TMA\n",
       "22         9  2006-12-27 00:00:00    1.2   NaN  creatinine    TMA"
      ]
     },
     "execution_count": 12,
     "metadata": {},
     "output_type": "execute_result"
    }
   ],
   "source": [
    "serum_name = ['cre', 'creat egfr', 'creatinine serum', 'crea', 'creatinine, seru', 'creatinine', 'creatinine [mass/volume] in serum or plasma', 'creatine, serum', 'creatin']\n",
    "serum = lab[lab['test_name'].isin(serum_name)][['TMA_Acct', 'date', 'result', 'Units', 'test_name', 'source']]\n",
    "num(serum)\n",
    "serum.head(2)"
   ]
  },
  {
   "cell_type": "code",
   "execution_count": 13,
   "metadata": {},
   "outputs": [
    {
     "name": "stdout",
     "output_type": "stream",
     "text": [
      "252821\n",
      "13811\n"
     ]
    }
   ],
   "source": [
    "delete = ['Canceled', 'Creamin', 'Ignore Results,', 'Laboratory Cance  See Note ', 'NR', 'TNP','>60']\n",
    "serum = serum[~serum.result.isin(delete)]\n",
    "num(serum)\n",
    "serum.date = pd.to_datetime(serum.date)\n",
    "serum.result = serum.result.str.replace('\\(.*', '').str.strip()\n",
    "serum = serum.dropna(subset = ['result'])\n",
    "serum = serum.replace('0.75 L', '0.75')\n",
    "serum = serum.replace('0.89 MG/DL', '0.89')\n",
    "serum = serum.replace('.0.7', '0.7')\n",
    "serum = serum.replace('.1.49', '1.49')\n",
    "serum = serum.replace('2.51 2.1)', '2.51')\n",
    "serum.result = serum.result.str.replace('/.*', '').str.strip()\n",
    "serum.result = serum.result.str.replace(' .*', '').str.strip()"
   ]
  },
  {
   "cell_type": "code",
   "execution_count": 14,
   "metadata": {},
   "outputs": [
    {
     "name": "stdout",
     "output_type": "stream",
     "text": [
      "wrong result\n",
      "0\n",
      "wrong result\n",
      "203878\n",
      "12859\n"
     ]
    },
    {
     "data": {
      "text/html": [
       "<div>\n",
       "<style scoped>\n",
       "    .dataframe tbody tr th:only-of-type {\n",
       "        vertical-align: middle;\n",
       "    }\n",
       "\n",
       "    .dataframe tbody tr th {\n",
       "        vertical-align: top;\n",
       "    }\n",
       "\n",
       "    .dataframe thead th {\n",
       "        text-align: right;\n",
       "    }\n",
       "</style>\n",
       "<table border=\"1\" class=\"dataframe\">\n",
       "  <thead>\n",
       "    <tr style=\"text-align: right;\">\n",
       "      <th></th>\n",
       "      <th>TMA_Acct</th>\n",
       "      <th>date</th>\n",
       "      <th>result</th>\n",
       "      <th>Units</th>\n",
       "      <th>test_name</th>\n",
       "      <th>source</th>\n",
       "    </tr>\n",
       "  </thead>\n",
       "  <tbody>\n",
       "    <tr>\n",
       "      <th>3</th>\n",
       "      <td>9</td>\n",
       "      <td>2004-02-03</td>\n",
       "      <td>1.1</td>\n",
       "      <td>NaN</td>\n",
       "      <td>creatinine</td>\n",
       "      <td>TMA</td>\n",
       "    </tr>\n",
       "    <tr>\n",
       "      <th>22</th>\n",
       "      <td>9</td>\n",
       "      <td>2006-12-27</td>\n",
       "      <td>1.2</td>\n",
       "      <td>NaN</td>\n",
       "      <td>creatinine</td>\n",
       "      <td>TMA</td>\n",
       "    </tr>\n",
       "  </tbody>\n",
       "</table>\n",
       "</div>"
      ],
      "text/plain": [
       "    TMA_Acct       date result Units   test_name source\n",
       "3          9 2004-02-03    1.1   NaN  creatinine    TMA\n",
       "22         9 2006-12-27    1.2   NaN  creatinine    TMA"
      ]
     },
     "execution_count": 14,
     "metadata": {},
     "output_type": "execute_result"
    }
   ],
   "source": [
    "wrong_result = []\n",
    "for i in serum.result:\n",
    "    try:\n",
    "        float(i)\n",
    "        pass\n",
    "    except:\n",
    "        wrong_result.append(i)\n",
    "print(\"wrong result\")\n",
    "print(len(wrong_result))\n",
    "print(\"wrong result\")\n",
    "num(serum)\n",
    "serum.head(2)"
   ]
  },
  {
   "cell_type": "code",
   "execution_count": 17,
   "metadata": {},
   "outputs": [],
   "source": [
    "serum.to_csv('serum.csv')"
   ]
  },
  {
   "cell_type": "markdown",
   "metadata": {},
   "source": [
    "### Master"
   ]
  },
  {
   "cell_type": "code",
   "execution_count": 14,
   "metadata": {},
   "outputs": [
    {
     "name": "stdout",
     "output_type": "stream",
     "text": [
      "16410\n",
      "14816\n",
      "16402\n",
      "14816\n",
      "14868\n",
      "14816\n"
     ]
    },
    {
     "name": "stderr",
     "output_type": "stream",
     "text": [
      "C:\\Users\\DELL\\anaconda3\\lib\\site-packages\\ipykernel_launcher.py:14: SettingWithCopyWarning: \n",
      "A value is trying to be set on a copy of a slice from a DataFrame.\n",
      "Try using .loc[row_indexer,col_indexer] = value instead\n",
      "\n",
      "See the caveats in the documentation: https://pandas.pydata.org/pandas-docs/stable/user_guide/indexing.html#returning-a-view-versus-a-copy\n",
      "  \n"
     ]
    },
    {
     "data": {
      "text/html": [
       "<div>\n",
       "<style scoped>\n",
       "    .dataframe tbody tr th:only-of-type {\n",
       "        vertical-align: middle;\n",
       "    }\n",
       "\n",
       "    .dataframe tbody tr th {\n",
       "        vertical-align: top;\n",
       "    }\n",
       "\n",
       "    .dataframe thead th {\n",
       "        text-align: right;\n",
       "    }\n",
       "</style>\n",
       "<table border=\"1\" class=\"dataframe\">\n",
       "  <thead>\n",
       "    <tr style=\"text-align: right;\">\n",
       "      <th></th>\n",
       "      <th>TMA_Acct</th>\n",
       "      <th>DOB</th>\n",
       "      <th>Sex</th>\n",
       "      <th>Race</th>\n",
       "      <th>race_v</th>\n",
       "    </tr>\n",
       "  </thead>\n",
       "  <tbody>\n",
       "    <tr>\n",
       "      <th>0</th>\n",
       "      <td>9</td>\n",
       "      <td>1921</td>\n",
       "      <td>Male</td>\n",
       "      <td>White</td>\n",
       "      <td>0</td>\n",
       "    </tr>\n",
       "    <tr>\n",
       "      <th>1</th>\n",
       "      <td>10</td>\n",
       "      <td>1926</td>\n",
       "      <td>Female</td>\n",
       "      <td>NaN</td>\n",
       "      <td>0</td>\n",
       "    </tr>\n",
       "  </tbody>\n",
       "</table>\n",
       "</div>"
      ],
      "text/plain": [
       "   TMA_Acct   DOB     Sex   Race  race_v\n",
       "0         9  1921    Male  White       0\n",
       "1        10  1926  Female    NaN       0"
      ]
     },
     "execution_count": 14,
     "metadata": {},
     "output_type": "execute_result"
    }
   ],
   "source": [
    "master = pd.read_csv('master.csv')\n",
    "num(master)\n",
    "master.drop(master.loc[(master.TMA_Acct == 25831) & (master.DOB == '00-01-1900')].index, inplace=True)\n",
    "master.drop(master.loc[(master.TMA_Acct == 32967) & (master.DOB == '19-08-2011')].index, inplace=True)\n",
    "master.drop(master.loc[(master.TMA_Acct == 44639) & (master.DOB == '16-06-1959')].index, inplace=True)\n",
    "master.drop(master.loc[(master.TMA_Acct == 17506) & (master.Race == 'White')].index, inplace=True)\n",
    "master.drop(master.loc[(master.TMA_Acct == 36531) & (master.Race == 'Asian')].index, inplace=True)\n",
    "master.drop(master.loc[(master.TMA_Acct == 42869) & (master.Race == 'Other')].index, inplace=True)\n",
    "master.drop(master.loc[(master.TMA_Acct == 45900) & (master.Race == 'White')].index, inplace=True)\n",
    "master.drop(master.loc[(master.TMA_Acct == 34714) & (master.Sex == 'Female')].index, inplace=True)\n",
    "num(master)\n",
    "base = master\n",
    "base = master[['TMA_Acct', 'DOB', 'Sex', 'Race']]\n",
    "base['DOB'] = base['DOB'].str[-4:]\n",
    "base = base.replace('Black / African American', 'Black/African American')\n",
    "base = base.replace('Declined to Specify / Unknown', 'Declined to Specify/Unknown')\n",
    "base = base.replace('Other Race', 'Other')\n",
    "base['race_v'] = base['Race'].apply(lambda x: 1 if x == 'Black/African American' or x == 'Black/African American, Other' else 0)\n",
    "base = base.drop_duplicates()\n",
    "num(base)\n",
    "base.head(2)"
   ]
  },
  {
   "cell_type": "code",
   "execution_count": 15,
   "metadata": {},
   "outputs": [
    {
     "name": "stdout",
     "output_type": "stream",
     "text": [
      "14816\n",
      "8167\n",
      "14816\n",
      "14816\n"
     ]
    }
   ],
   "source": [
    "base_main = base[[\"TMA_Acct\", \"DOB\", \"Sex\"]]\n",
    "base_main = base_main.drop_duplicates()\n",
    "print(len(base_main))\n",
    "base_race = base[[\"TMA_Acct\", \"Race\", 'race_v']]\n",
    "base_race = base_race.drop_duplicates()\n",
    "base_race = base_race.dropna(subset = ['Race'])\n",
    "print(len(base_race))\n",
    "base = pd.merge(base_main, base_race, how = 'left', left_on = 'TMA_Acct', right_on = 'TMA_Acct')\n",
    "num(base)"
   ]
  },
  {
   "cell_type": "code",
   "execution_count": 16,
   "metadata": {},
   "outputs": [
    {
     "data": {
      "text/plain": [
       "0"
      ]
     },
     "execution_count": 16,
     "metadata": {},
     "output_type": "execute_result"
    }
   ],
   "source": [
    "check = pd.DataFrame(base.groupby('TMA_Acct').size() > 1).reset_index()\n",
    "check = list(set(check[check[0] == True]['TMA_Acct']))\n",
    "len(check)"
   ]
  },
  {
   "cell_type": "code",
   "execution_count": 17,
   "metadata": {},
   "outputs": [],
   "source": [
    "base.to_csv('base.csv')"
   ]
  },
  {
   "cell_type": "code",
   "execution_count": 3,
   "metadata": {},
   "outputs": [
    {
     "name": "stdout",
     "output_type": "stream",
     "text": [
      "14816\n",
      "14816\n"
     ]
    }
   ],
   "source": [
    "#step3\n",
    "base = pd.read_csv('base.csv')\n",
    "base['race_v'] = base['Race'].apply(lambda x: 1 if x == 'Black/African American' or x == 'Black/African American, Other' else 0)\n",
    "num(base)"
   ]
  },
  {
   "cell_type": "markdown",
   "metadata": {},
   "source": [
    "### Serum + Base ---> EGFR"
   ]
  },
  {
   "cell_type": "code",
   "execution_count": 64,
   "metadata": {},
   "outputs": [
    {
     "name": "stdout",
     "output_type": "stream",
     "text": [
      "203878\n",
      "12859\n"
     ]
    },
    {
     "data": {
      "text/html": [
       "<div>\n",
       "<style scoped>\n",
       "    .dataframe tbody tr th:only-of-type {\n",
       "        vertical-align: middle;\n",
       "    }\n",
       "\n",
       "    .dataframe tbody tr th {\n",
       "        vertical-align: top;\n",
       "    }\n",
       "\n",
       "    .dataframe thead th {\n",
       "        text-align: right;\n",
       "    }\n",
       "</style>\n",
       "<table border=\"1\" class=\"dataframe\">\n",
       "  <thead>\n",
       "    <tr style=\"text-align: right;\">\n",
       "      <th></th>\n",
       "      <th>Unnamed: 0_x</th>\n",
       "      <th>TMA_Acct</th>\n",
       "      <th>date</th>\n",
       "      <th>result</th>\n",
       "      <th>Units</th>\n",
       "      <th>test_name</th>\n",
       "      <th>source</th>\n",
       "      <th>Unnamed: 0_y</th>\n",
       "      <th>DOB</th>\n",
       "      <th>Sex</th>\n",
       "      <th>Race</th>\n",
       "      <th>race_v</th>\n",
       "      <th>sex_v</th>\n",
       "    </tr>\n",
       "  </thead>\n",
       "  <tbody>\n",
       "    <tr>\n",
       "      <th>0</th>\n",
       "      <td>3</td>\n",
       "      <td>9</td>\n",
       "      <td>2004-02-03</td>\n",
       "      <td>1.1</td>\n",
       "      <td>NaN</td>\n",
       "      <td>creatinine</td>\n",
       "      <td>TMA</td>\n",
       "      <td>0.0</td>\n",
       "      <td>1921.0</td>\n",
       "      <td>Male</td>\n",
       "      <td>White</td>\n",
       "      <td>0.0</td>\n",
       "      <td>0</td>\n",
       "    </tr>\n",
       "    <tr>\n",
       "      <th>1</th>\n",
       "      <td>22</td>\n",
       "      <td>9</td>\n",
       "      <td>2006-12-27</td>\n",
       "      <td>1.2</td>\n",
       "      <td>NaN</td>\n",
       "      <td>creatinine</td>\n",
       "      <td>TMA</td>\n",
       "      <td>0.0</td>\n",
       "      <td>1921.0</td>\n",
       "      <td>Male</td>\n",
       "      <td>White</td>\n",
       "      <td>0.0</td>\n",
       "      <td>0</td>\n",
       "    </tr>\n",
       "  </tbody>\n",
       "</table>\n",
       "</div>"
      ],
      "text/plain": [
       "   Unnamed: 0_x  TMA_Acct        date  result Units   test_name source  \\\n",
       "0             3         9  2004-02-03     1.1   NaN  creatinine    TMA   \n",
       "1            22         9  2006-12-27     1.2   NaN  creatinine    TMA   \n",
       "\n",
       "   Unnamed: 0_y     DOB   Sex   Race  race_v  sex_v  \n",
       "0           0.0  1921.0  Male  White     0.0      0  \n",
       "1           0.0  1921.0  Male  White     0.0      0  "
      ]
     },
     "execution_count": 64,
     "metadata": {},
     "output_type": "execute_result"
    }
   ],
   "source": [
    "serum_egfr = pd.merge(serum, base, how = 'left', left_on = 'TMA_Acct', right_on = 'TMA_Acct')\n",
    "serum_egfr['sex_v'] = serum_egfr['Sex'].apply(lambda x: 1 if x == 'Female' else 0)\n",
    "serum_egfr['result'] = serum_egfr['result'].astype('float')\n",
    "num(serum_egfr)\n",
    "serum_egfr.head(2)"
   ]
  },
  {
   "cell_type": "code",
   "execution_count": 65,
   "metadata": {},
   "outputs": [],
   "source": [
    "serum_egfr_notnull = serum_egfr.dropna(subset = ['DOB'])"
   ]
  },
  {
   "cell_type": "code",
   "execution_count": 67,
   "metadata": {},
   "outputs": [],
   "source": [
    "miss = list(set([i for i in list(serum_egfr['TMA_Acct']) if i not in list(serum_egfr_notnull['TMA_Acct'])]))"
   ]
  },
  {
   "cell_type": "code",
   "execution_count": 23,
   "metadata": {},
   "outputs": [
    {
     "name": "stdout",
     "output_type": "stream",
     "text": [
      "203878\n",
      "12859\n",
      "148982\n",
      "7388\n",
      "148982\n",
      "7388\n"
     ]
    },
    {
     "data": {
      "text/html": [
       "<div>\n",
       "<style scoped>\n",
       "    .dataframe tbody tr th:only-of-type {\n",
       "        vertical-align: middle;\n",
       "    }\n",
       "\n",
       "    .dataframe tbody tr th {\n",
       "        vertical-align: top;\n",
       "    }\n",
       "\n",
       "    .dataframe thead th {\n",
       "        text-align: right;\n",
       "    }\n",
       "</style>\n",
       "<table border=\"1\" class=\"dataframe\">\n",
       "  <thead>\n",
       "    <tr style=\"text-align: right;\">\n",
       "      <th></th>\n",
       "      <th>Unnamed: 0_x</th>\n",
       "      <th>TMA_Acct</th>\n",
       "      <th>date</th>\n",
       "      <th>result</th>\n",
       "      <th>Units</th>\n",
       "      <th>test_name</th>\n",
       "      <th>source</th>\n",
       "      <th>Unnamed: 0_y</th>\n",
       "      <th>DOB</th>\n",
       "      <th>Sex</th>\n",
       "      <th>Race</th>\n",
       "      <th>race_v</th>\n",
       "      <th>sex_v</th>\n",
       "      <th>year</th>\n",
       "      <th>k</th>\n",
       "      <th>alpha</th>\n",
       "      <th>age</th>\n",
       "      <th>firstmin</th>\n",
       "      <th>secondmax</th>\n",
       "      <th>egfr</th>\n",
       "    </tr>\n",
       "  </thead>\n",
       "  <tbody>\n",
       "    <tr>\n",
       "      <th>0</th>\n",
       "      <td>3</td>\n",
       "      <td>9</td>\n",
       "      <td>2004-02-03</td>\n",
       "      <td>1.1</td>\n",
       "      <td>NaN</td>\n",
       "      <td>creatinine</td>\n",
       "      <td>TMA</td>\n",
       "      <td>0.0</td>\n",
       "      <td>1921.0</td>\n",
       "      <td>Male</td>\n",
       "      <td>White</td>\n",
       "      <td>0.0</td>\n",
       "      <td>0</td>\n",
       "      <td>2004</td>\n",
       "      <td>0.9</td>\n",
       "      <td>-0.411</td>\n",
       "      <td>83.0</td>\n",
       "      <td>1.0</td>\n",
       "      <td>1.222222</td>\n",
       "      <td>61.750741</td>\n",
       "    </tr>\n",
       "    <tr>\n",
       "      <th>1</th>\n",
       "      <td>22</td>\n",
       "      <td>9</td>\n",
       "      <td>2006-12-27</td>\n",
       "      <td>1.2</td>\n",
       "      <td>NaN</td>\n",
       "      <td>creatinine</td>\n",
       "      <td>TMA</td>\n",
       "      <td>0.0</td>\n",
       "      <td>1921.0</td>\n",
       "      <td>Male</td>\n",
       "      <td>White</td>\n",
       "      <td>0.0</td>\n",
       "      <td>0</td>\n",
       "      <td>2006</td>\n",
       "      <td>0.9</td>\n",
       "      <td>-0.411</td>\n",
       "      <td>85.0</td>\n",
       "      <td>1.0</td>\n",
       "      <td>1.333333</td>\n",
       "      <td>54.809306</td>\n",
       "    </tr>\n",
       "  </tbody>\n",
       "</table>\n",
       "</div>"
      ],
      "text/plain": [
       "   Unnamed: 0_x  TMA_Acct       date  result Units   test_name source  \\\n",
       "0             3         9 2004-02-03     1.1   NaN  creatinine    TMA   \n",
       "1            22         9 2006-12-27     1.2   NaN  creatinine    TMA   \n",
       "\n",
       "   Unnamed: 0_y     DOB   Sex   Race  race_v  sex_v  year    k  alpha   age  \\\n",
       "0           0.0  1921.0  Male  White     0.0      0  2004  0.9 -0.411  83.0   \n",
       "1           0.0  1921.0  Male  White     0.0      0  2006  0.9 -0.411  85.0   \n",
       "\n",
       "   firstmin  secondmax       egfr  \n",
       "0       1.0   1.222222  61.750741  \n",
       "1       1.0   1.333333  54.809306  "
      ]
     },
     "execution_count": 23,
     "metadata": {},
     "output_type": "execute_result"
    }
   ],
   "source": [
    "serum_egfr['date'] = pd.to_datetime(serum_egfr.date)\n",
    "serum_egfr['year'] = serum_egfr['date'].dt.year\n",
    "num(serum_egfr)\n",
    "serum_egfr = serum_egfr.dropna(subset = ['DOB'])\n",
    "num(serum_egfr)\n",
    "serum_egfr['k'] = serum_egfr['sex_v'] * 0.7 + (1 - serum_egfr['sex_v']) * 0.9\n",
    "serum_egfr['alpha'] = serum_egfr['sex_v'] * (-0.329) + (1 - serum_egfr['sex_v']) * (-0.411)\n",
    "serum_egfr['age'] = serum_egfr['year'] - serum_egfr['DOB']\n",
    "serum_egfr['firstmin'] = serum_egfr['result'] * 1 / serum_egfr['k']\n",
    "serum_egfr['firstmin'] = serum_egfr['firstmin'].apply(lambda x: 1 if x > 1 else x)\n",
    "serum_egfr['secondmax'] = serum_egfr['result'] * 1 / serum_egfr['k']\n",
    "serum_egfr['secondmax'] = serum_egfr['secondmax'].apply(lambda x: 1 if x < 1 else x)\n",
    "serum_egfr['egfr'] = 141 * (serum_egfr['firstmin'] ** serum_egfr['alpha']) * (serum_egfr['secondmax'] ** (-1.209)) * (0.993 ** serum_egfr['age']) * (1.018 ** serum_egfr['sex_v']) * (1.159 ** serum_egfr['race_v'])\n",
    "num(serum_egfr)\n",
    "serum_egfr.head(2)"
   ]
  },
  {
   "cell_type": "code",
   "execution_count": 24,
   "metadata": {},
   "outputs": [],
   "source": [
    "serum_egfr['source'] = serum_egfr['source'] + '_Serum'"
   ]
  },
  {
   "cell_type": "code",
   "execution_count": 25,
   "metadata": {},
   "outputs": [],
   "source": [
    "serum_egfr.to_csv('serum_egfr.csv')"
   ]
  },
  {
   "cell_type": "code",
   "execution_count": 42,
   "metadata": {},
   "outputs": [
    {
     "name": "stdout",
     "output_type": "stream",
     "text": [
      "148982\n",
      "7388\n"
     ]
    },
    {
     "data": {
      "text/html": [
       "<div>\n",
       "<style scoped>\n",
       "    .dataframe tbody tr th:only-of-type {\n",
       "        vertical-align: middle;\n",
       "    }\n",
       "\n",
       "    .dataframe tbody tr th {\n",
       "        vertical-align: top;\n",
       "    }\n",
       "\n",
       "    .dataframe thead th {\n",
       "        text-align: right;\n",
       "    }\n",
       "</style>\n",
       "<table border=\"1\" class=\"dataframe\">\n",
       "  <thead>\n",
       "    <tr style=\"text-align: right;\">\n",
       "      <th></th>\n",
       "      <th>Unnamed: 0</th>\n",
       "      <th>Unnamed: 0_x</th>\n",
       "      <th>TMA_Acct</th>\n",
       "      <th>date</th>\n",
       "      <th>result</th>\n",
       "      <th>Units</th>\n",
       "      <th>test_name</th>\n",
       "      <th>source</th>\n",
       "      <th>Unnamed: 0_y</th>\n",
       "      <th>DOB</th>\n",
       "      <th>...</th>\n",
       "      <th>Race</th>\n",
       "      <th>race_v</th>\n",
       "      <th>sex_v</th>\n",
       "      <th>year</th>\n",
       "      <th>k</th>\n",
       "      <th>alpha</th>\n",
       "      <th>age</th>\n",
       "      <th>firstmin</th>\n",
       "      <th>secondmax</th>\n",
       "      <th>egfr</th>\n",
       "    </tr>\n",
       "  </thead>\n",
       "  <tbody>\n",
       "    <tr>\n",
       "      <th>0</th>\n",
       "      <td>0</td>\n",
       "      <td>3</td>\n",
       "      <td>9</td>\n",
       "      <td>2004-02-03</td>\n",
       "      <td>1.1</td>\n",
       "      <td>NaN</td>\n",
       "      <td>creatinine</td>\n",
       "      <td>TMA_Serum</td>\n",
       "      <td>0.0</td>\n",
       "      <td>1921.0</td>\n",
       "      <td>...</td>\n",
       "      <td>White</td>\n",
       "      <td>0.0</td>\n",
       "      <td>0</td>\n",
       "      <td>2004</td>\n",
       "      <td>0.9</td>\n",
       "      <td>-0.411</td>\n",
       "      <td>83.0</td>\n",
       "      <td>1.0</td>\n",
       "      <td>1.222222</td>\n",
       "      <td>61.750741</td>\n",
       "    </tr>\n",
       "    <tr>\n",
       "      <th>1</th>\n",
       "      <td>1</td>\n",
       "      <td>22</td>\n",
       "      <td>9</td>\n",
       "      <td>2006-12-27</td>\n",
       "      <td>1.2</td>\n",
       "      <td>NaN</td>\n",
       "      <td>creatinine</td>\n",
       "      <td>TMA_Serum</td>\n",
       "      <td>0.0</td>\n",
       "      <td>1921.0</td>\n",
       "      <td>...</td>\n",
       "      <td>White</td>\n",
       "      <td>0.0</td>\n",
       "      <td>0</td>\n",
       "      <td>2006</td>\n",
       "      <td>0.9</td>\n",
       "      <td>-0.411</td>\n",
       "      <td>85.0</td>\n",
       "      <td>1.0</td>\n",
       "      <td>1.333333</td>\n",
       "      <td>54.809306</td>\n",
       "    </tr>\n",
       "  </tbody>\n",
       "</table>\n",
       "<p>2 rows × 21 columns</p>\n",
       "</div>"
      ],
      "text/plain": [
       "   Unnamed: 0  Unnamed: 0_x  TMA_Acct        date  result Units   test_name  \\\n",
       "0           0             3         9  2004-02-03     1.1   NaN  creatinine   \n",
       "1           1            22         9  2006-12-27     1.2   NaN  creatinine   \n",
       "\n",
       "      source  Unnamed: 0_y     DOB  ...   Race race_v  sex_v  year    k  \\\n",
       "0  TMA_Serum           0.0  1921.0  ...  White    0.0      0  2004  0.9   \n",
       "1  TMA_Serum           0.0  1921.0  ...  White    0.0      0  2006  0.9   \n",
       "\n",
       "   alpha   age  firstmin  secondmax       egfr  \n",
       "0 -0.411  83.0       1.0   1.222222  61.750741  \n",
       "1 -0.411  85.0       1.0   1.333333  54.809306  \n",
       "\n",
       "[2 rows x 21 columns]"
      ]
     },
     "execution_count": 42,
     "metadata": {},
     "output_type": "execute_result"
    }
   ],
   "source": [
    "#step4\n",
    "serum_egfr = pd.read_csv('serum_egfr.csv')\n",
    "num(serum_egfr)\n",
    "serum_egfr.head(2)"
   ]
  },
  {
   "cell_type": "code",
   "execution_count": 43,
   "metadata": {},
   "outputs": [
    {
     "name": "stdout",
     "output_type": "stream",
     "text": [
      "148982\n",
      "7388\n"
     ]
    },
    {
     "data": {
      "text/html": [
       "<div>\n",
       "<style scoped>\n",
       "    .dataframe tbody tr th:only-of-type {\n",
       "        vertical-align: middle;\n",
       "    }\n",
       "\n",
       "    .dataframe tbody tr th {\n",
       "        vertical-align: top;\n",
       "    }\n",
       "\n",
       "    .dataframe thead th {\n",
       "        text-align: right;\n",
       "    }\n",
       "</style>\n",
       "<table border=\"1\" class=\"dataframe\">\n",
       "  <thead>\n",
       "    <tr style=\"text-align: right;\">\n",
       "      <th></th>\n",
       "      <th>TMA_Acct</th>\n",
       "      <th>date</th>\n",
       "      <th>egfr</th>\n",
       "      <th>source</th>\n",
       "    </tr>\n",
       "  </thead>\n",
       "  <tbody>\n",
       "    <tr>\n",
       "      <th>0</th>\n",
       "      <td>9</td>\n",
       "      <td>2004-02-03</td>\n",
       "      <td>61.750741</td>\n",
       "      <td>TMA_Serum</td>\n",
       "    </tr>\n",
       "    <tr>\n",
       "      <th>1</th>\n",
       "      <td>9</td>\n",
       "      <td>2006-12-27</td>\n",
       "      <td>54.809306</td>\n",
       "      <td>TMA_Serum</td>\n",
       "    </tr>\n",
       "  </tbody>\n",
       "</table>\n",
       "</div>"
      ],
      "text/plain": [
       "   TMA_Acct        date       egfr     source\n",
       "0         9  2004-02-03  61.750741  TMA_Serum\n",
       "1         9  2006-12-27  54.809306  TMA_Serum"
      ]
     },
     "execution_count": 43,
     "metadata": {},
     "output_type": "execute_result"
    }
   ],
   "source": [
    "#step5\n",
    "serum_egfr = serum_egfr[['TMA_Acct', 'date', 'egfr', 'source']]\n",
    "num(serum_egfr)\n",
    "serum_egfr.head(2)"
   ]
  },
  {
   "cell_type": "markdown",
   "metadata": {},
   "source": [
    "### EGFR Lab"
   ]
  },
  {
   "cell_type": "code",
   "execution_count": 5,
   "metadata": {},
   "outputs": [
    {
     "name": "stdout",
     "output_type": "stream",
     "text": [
      "123161\n",
      "5563\n"
     ]
    }
   ],
   "source": [
    "egfr_name = ['african american egfr', 'egfr', 'egfr african american', 'egfr non afr american', 'egfr non-afr. american', 'non-african american egfr', 'af-am egfr','egfr (african amercn)', 'egfr (african american)', 'egfr (non-afr american)', 'egfr africanamerican', 'egfr-afa', 'egfram', 'non-af-am egfr']\n",
    "egfr = lab[lab['test_name'].isin(egfr_name)][['TMA_Acct', 'test_name', 'date', 'result', 'source']]\n",
    "egfr = egfr.replace('egfr african american', 'african american egfr')\n",
    "egfr = egfr.replace('egfr non afr american', 'egfr')\n",
    "egfr = egfr.replace('egfr non-afr. american', 'egfr')\n",
    "egfr = egfr.replace('non-african american egfr', 'egfr')\n",
    "egfr = egfr.replace('af-am egfr', 'african american egfr')\n",
    "egfr = egfr.replace('egfr (african amercn)', 'african american egfr')\n",
    "egfr = egfr.replace('egfr (african american)', 'african american egfr')\n",
    "egfr = egfr.replace('egfr africanamerican', 'african american egfr')\n",
    "egfr = egfr.replace('egfr-afa', 'african american egfr')\n",
    "egfr = egfr.replace('non-af-am egfr', 'egfr')\n",
    "egfr = egfr.replace('egfr (non-afr american)', 'egfr')\n",
    "egfr = egfr.replace('egfram', 'egfr')\n",
    "egfr['race_v'] = egfr['test_name'].apply(lambda x: 1 if x == 'african american egfr' else 0)\n",
    "num(egfr)\n",
    "#unit 'ML/MIN/1.73M2', nan, 'mL/min', 'mL/min/1.73', '10*3/uL', '1'"
   ]
  },
  {
   "cell_type": "code",
   "execution_count": 37,
   "metadata": {},
   "outputs": [
    {
     "data": {
      "text/html": [
       "<div>\n",
       "<style scoped>\n",
       "    .dataframe tbody tr th:only-of-type {\n",
       "        vertical-align: middle;\n",
       "    }\n",
       "\n",
       "    .dataframe tbody tr th {\n",
       "        vertical-align: top;\n",
       "    }\n",
       "\n",
       "    .dataframe thead th {\n",
       "        text-align: right;\n",
       "    }\n",
       "</style>\n",
       "<table border=\"1\" class=\"dataframe\">\n",
       "  <thead>\n",
       "    <tr style=\"text-align: right;\">\n",
       "      <th></th>\n",
       "      <th>TMA_Acct</th>\n",
       "      <th>test_name</th>\n",
       "      <th>date</th>\n",
       "      <th>result</th>\n",
       "      <th>source</th>\n",
       "      <th>race_v</th>\n",
       "    </tr>\n",
       "  </thead>\n",
       "  <tbody>\n",
       "    <tr>\n",
       "      <th>2236</th>\n",
       "      <td>86</td>\n",
       "      <td>egfr</td>\n",
       "      <td>2011-01-22 00:00:00</td>\n",
       "      <td>27</td>\n",
       "      <td>TMA</td>\n",
       "      <td>0</td>\n",
       "    </tr>\n",
       "    <tr>\n",
       "      <th>2591</th>\n",
       "      <td>86</td>\n",
       "      <td>egfr</td>\n",
       "      <td>2011-04-27 00:00:00</td>\n",
       "      <td>20</td>\n",
       "      <td>TMA</td>\n",
       "      <td>0</td>\n",
       "    </tr>\n",
       "  </tbody>\n",
       "</table>\n",
       "</div>"
      ],
      "text/plain": [
       "      TMA_Acct test_name                 date result source  race_v\n",
       "2236        86      egfr  2011-01-22 00:00:00     27    TMA       0\n",
       "2591        86      egfr  2011-04-27 00:00:00     20    TMA       0"
      ]
     },
     "execution_count": 37,
     "metadata": {},
     "output_type": "execute_result"
    }
   ],
   "source": [
    "egfr.head(2)"
   ]
  },
  {
   "cell_type": "code",
   "execution_count": 16,
   "metadata": {},
   "outputs": [
    {
     "name": "stdout",
     "output_type": "stream",
     "text": [
      "48408\n",
      "2996\n",
      "12605\n",
      "3118\n"
     ]
    }
   ],
   "source": [
    "# highmark_egfr = ['african american egfr', 'egfr', 'egfr african american', 'egfr non afr american', 'egfr non-afr. american', 'non-african american egfr']\n",
    "# new_egfr = new_lab[new_lab['test_name'].isin(highmark_egfr)][['TMA_Acct', 'test_name', 'date', 'result']]\n",
    "# new_egfr = new_egfr.replace('egfr african american', 'african american egfr')\n",
    "# new_egfr = new_egfr.replace('egfr non afr american', 'egfr')\n",
    "# new_egfr = new_egfr.replace('egfr non-afr. american', 'egfr')\n",
    "# new_egfr = new_egfr.replace('non-african american egfr', 'egfr')\n",
    "# new_egfr['source'] = 'Highmark_Lab_Egfr'\n",
    "# num(new_egfr)\n",
    "# # unit ML/MIN/1.73M2\n",
    "# TMA_egfr = ['af-am egfr','egfr', 'egfr (african amercn)', 'egfr (african american)', 'egfr (non-afr american)', 'egfr africanamerican', 'egfr-afa', 'egfram', 'non-af-am egfr']\n",
    "# old_egfr = old_lab[old_lab['test_name'].isin(TMA_egfr)][['TMA_Acct', 'test_name', 'date', 'result']]\n",
    "# old_egfr = old_egfr.replace('af-am egfr', 'african american egfr')\n",
    "# old_egfr = old_egfr.replace('egfr (african amercn)', 'african american egfr')\n",
    "# old_egfr = old_egfr.replace('egfr (african american)', 'african american egfr')\n",
    "# old_egfr = old_egfr.replace('egfr africanamerican', 'african american egfr')\n",
    "# old_egfr = old_egfr.replace('egfr-afa', 'african american egfr')\n",
    "# old_egfr = old_egfr.replace('non-af-am egfr', 'egfr')\n",
    "# old_egfr = old_egfr.replace('egfr (non-afr american)', 'egfr')\n",
    "# old_egfr = old_egfr.replace('egfram', 'egfr')\n",
    "# old_egfr['source'] = 'TMA_Lab_Egfr'\n",
    "# num(old_egfr)\n",
    "# #unit 'ML/MIN/1.73M2', nan, 'mL/min', 'mL/min/1.73', '10*3/uL', '1'"
   ]
  },
  {
   "cell_type": "code",
   "execution_count": 6,
   "metadata": {},
   "outputs": [
    {
     "name": "stdout",
     "output_type": "stream",
     "text": [
      "72912\n",
      "5494\n",
      "50249\n",
      "3119\n"
     ]
    }
   ],
   "source": [
    "african = egfr[egfr['test_name'] == 'african american egfr']\n",
    "num(african)\n",
    "white = egfr[egfr['test_name'] == 'egfr']\n",
    "num(white)"
   ]
  },
  {
   "cell_type": "code",
   "execution_count": 7,
   "metadata": {},
   "outputs": [
    {
     "data": {
      "text/plain": [
       "3050"
      ]
     },
     "execution_count": 7,
     "metadata": {},
     "output_type": "execute_result"
    }
   ],
   "source": [
    "double = list(set([i for i in list(african['TMA_Acct']) if i in list(white['TMA_Acct'])]))\n",
    "len(double)"
   ]
  },
  {
   "cell_type": "code",
   "execution_count": 8,
   "metadata": {},
   "outputs": [
    {
     "data": {
      "text/plain": [
       "2513"
      ]
     },
     "execution_count": 8,
     "metadata": {},
     "output_type": "execute_result"
    }
   ],
   "source": [
    "single = list(set([i for i in list(egfr['TMA_Acct']) if i not in double]))\n",
    "len(single)"
   ]
  },
  {
   "cell_type": "code",
   "execution_count": 9,
   "metadata": {},
   "outputs": [
    {
     "name": "stdout",
     "output_type": "stream",
     "text": [
      "21007\n",
      "2513\n"
     ]
    }
   ],
   "source": [
    "single_egfr = egfr[egfr['TMA_Acct'].isin(single)]\n",
    "num(single_egfr)"
   ]
  },
  {
   "cell_type": "code",
   "execution_count": 10,
   "metadata": {},
   "outputs": [
    {
     "name": "stdout",
     "output_type": "stream",
     "text": [
      "102154\n",
      "3050\n"
     ]
    }
   ],
   "source": [
    "double_egfr = egfr[egfr['TMA_Acct'].isin(double)]\n",
    "num(double_egfr)"
   ]
  },
  {
   "cell_type": "code",
   "execution_count": 11,
   "metadata": {},
   "outputs": [],
   "source": [
    "double_withoutbase = [i for i in list(double_egfr['TMA_Acct']) if i not in list(base['TMA_Acct'])]"
   ]
  },
  {
   "cell_type": "code",
   "execution_count": 12,
   "metadata": {},
   "outputs": [],
   "source": [
    "double_withoutbase = set(double_withoutbase)"
   ]
  },
  {
   "cell_type": "code",
   "execution_count": 13,
   "metadata": {},
   "outputs": [
    {
     "data": {
      "text/plain": [
       "200"
      ]
     },
     "execution_count": 13,
     "metadata": {},
     "output_type": "execute_result"
    }
   ],
   "source": [
    "len((double_withoutbase))"
   ]
  },
  {
   "cell_type": "code",
   "execution_count": 14,
   "metadata": {},
   "outputs": [
    {
     "name": "stdout",
     "output_type": "stream",
     "text": [
      "96510\n",
      "2850\n"
     ]
    }
   ],
   "source": [
    "doublr_efgr_in = double_egfr[~double_egfr['TMA_Acct'].isin(double_withoutbase)]\n",
    "num(doublr_efgr_in)\n",
    "doublr_efgr_in = pd.merge(doublr_efgr_in, base, how = 'inner', left_on = ['TMA_Acct', 'race_v'], right_on = ['TMA_Acct', 'race_v'])"
   ]
  },
  {
   "cell_type": "code",
   "execution_count": 15,
   "metadata": {},
   "outputs": [
    {
     "name": "stdout",
     "output_type": "stream",
     "text": [
      "5644\n",
      "200\n"
     ]
    }
   ],
   "source": [
    "double_efgr_not = double_egfr[double_egfr['TMA_Acct'].isin(double_withoutbase)]\n",
    "num(double_efgr_not)"
   ]
  },
  {
   "cell_type": "code",
   "execution_count": 16,
   "metadata": {},
   "outputs": [
    {
     "name": "stdout",
     "output_type": "stream",
     "text": [
      "2814\n",
      "200\n"
     ]
    }
   ],
   "source": [
    "double_efgr_not = double_efgr_not[double_efgr_not['race_v'] == 0]\n",
    "num(double_efgr_not)"
   ]
  },
  {
   "cell_type": "code",
   "execution_count": 17,
   "metadata": {},
   "outputs": [
    {
     "name": "stdout",
     "output_type": "stream",
     "text": [
      "71224\n",
      "5563\n"
     ]
    }
   ],
   "source": [
    "egfr = pd.concat([single_egfr, doublr_efgr_in, double_efgr_not], axis = 0)\n",
    "num(egfr)"
   ]
  },
  {
   "cell_type": "code",
   "execution_count": 18,
   "metadata": {},
   "outputs": [],
   "source": [
    "egfr.to_csv('egfr.csv')\n"
   ]
  },
  {
   "cell_type": "code",
   "execution_count": 55,
   "metadata": {},
   "outputs": [
    {
     "name": "stdout",
     "output_type": "stream",
     "text": [
      "71224\n",
      "5563\n"
     ]
    }
   ],
   "source": [
    "#step5\n",
    "egfr = pd.read_csv('egfr.csv')\n",
    "num(egfr)"
   ]
  },
  {
   "cell_type": "code",
   "execution_count": 56,
   "metadata": {},
   "outputs": [
    {
     "data": {
      "text/html": [
       "<div>\n",
       "<style scoped>\n",
       "    .dataframe tbody tr th:only-of-type {\n",
       "        vertical-align: middle;\n",
       "    }\n",
       "\n",
       "    .dataframe tbody tr th {\n",
       "        vertical-align: top;\n",
       "    }\n",
       "\n",
       "    .dataframe thead th {\n",
       "        text-align: right;\n",
       "    }\n",
       "</style>\n",
       "<table border=\"1\" class=\"dataframe\">\n",
       "  <thead>\n",
       "    <tr style=\"text-align: right;\">\n",
       "      <th></th>\n",
       "      <th>TMA_Acct</th>\n",
       "      <th>date</th>\n",
       "      <th>egfr</th>\n",
       "      <th>source</th>\n",
       "    </tr>\n",
       "  </thead>\n",
       "  <tbody>\n",
       "    <tr>\n",
       "      <th>0</th>\n",
       "      <td>116</td>\n",
       "      <td>2011-05-29 00:00:00</td>\n",
       "      <td>23</td>\n",
       "      <td>TMA</td>\n",
       "    </tr>\n",
       "    <tr>\n",
       "      <th>1</th>\n",
       "      <td>116</td>\n",
       "      <td>2011-05-19 00:00:00</td>\n",
       "      <td>25</td>\n",
       "      <td>TMA</td>\n",
       "    </tr>\n",
       "  </tbody>\n",
       "</table>\n",
       "</div>"
      ],
      "text/plain": [
       "   TMA_Acct                 date egfr source\n",
       "0       116  2011-05-29 00:00:00   23    TMA\n",
       "1       116  2011-05-19 00:00:00   25    TMA"
      ]
     },
     "execution_count": 56,
     "metadata": {},
     "output_type": "execute_result"
    }
   ],
   "source": [
    "#step6\n",
    "egfr = egfr[['TMA_Acct', 'date', 'result', 'source']]\n",
    "egfr.rename(columns={\"result\": \"egfr\"}, inplace = 'True')\n",
    "egfr.head(2)"
   ]
  },
  {
   "cell_type": "markdown",
   "metadata": {},
   "source": [
    "### Combine Egfr"
   ]
  },
  {
   "cell_type": "code",
   "execution_count": 22,
   "metadata": {},
   "outputs": [],
   "source": [
    "def mapping(n):\n",
    "    if n >= 90.0: stage = '1'\n",
    "    elif n >= 60.0: stage = '2'\n",
    "    elif n >= 45.0: stage = '3a'\n",
    "    elif n >= 30.0: stage = '3b'\n",
    "    elif n >= 15.0: stage = '4'\n",
    "    else: stage = '5'\n",
    "    return(stage)"
   ]
  },
  {
   "cell_type": "code",
   "execution_count": 57,
   "metadata": {},
   "outputs": [
    {
     "data": {
      "text/html": [
       "<div>\n",
       "<style scoped>\n",
       "    .dataframe tbody tr th:only-of-type {\n",
       "        vertical-align: middle;\n",
       "    }\n",
       "\n",
       "    .dataframe tbody tr th {\n",
       "        vertical-align: top;\n",
       "    }\n",
       "\n",
       "    .dataframe thead th {\n",
       "        text-align: right;\n",
       "    }\n",
       "</style>\n",
       "<table border=\"1\" class=\"dataframe\">\n",
       "  <thead>\n",
       "    <tr style=\"text-align: right;\">\n",
       "      <th></th>\n",
       "      <th>TMA_Acct</th>\n",
       "      <th>date</th>\n",
       "      <th>egfr</th>\n",
       "      <th>source</th>\n",
       "    </tr>\n",
       "  </thead>\n",
       "  <tbody>\n",
       "    <tr>\n",
       "      <th>0</th>\n",
       "      <td>9</td>\n",
       "      <td>2004-02-03</td>\n",
       "      <td>61.750741</td>\n",
       "      <td>TMA_Serum</td>\n",
       "    </tr>\n",
       "    <tr>\n",
       "      <th>1</th>\n",
       "      <td>9</td>\n",
       "      <td>2006-12-27</td>\n",
       "      <td>54.809306</td>\n",
       "      <td>TMA_Serum</td>\n",
       "    </tr>\n",
       "  </tbody>\n",
       "</table>\n",
       "</div>"
      ],
      "text/plain": [
       "   TMA_Acct        date       egfr     source\n",
       "0         9  2004-02-03  61.750741  TMA_Serum\n",
       "1         9  2006-12-27  54.809306  TMA_Serum"
      ]
     },
     "execution_count": 57,
     "metadata": {},
     "output_type": "execute_result"
    }
   ],
   "source": [
    "serum_egfr.head(2)"
   ]
  },
  {
   "cell_type": "code",
   "execution_count": 58,
   "metadata": {},
   "outputs": [
    {
     "data": {
      "text/html": [
       "<div>\n",
       "<style scoped>\n",
       "    .dataframe tbody tr th:only-of-type {\n",
       "        vertical-align: middle;\n",
       "    }\n",
       "\n",
       "    .dataframe tbody tr th {\n",
       "        vertical-align: top;\n",
       "    }\n",
       "\n",
       "    .dataframe thead th {\n",
       "        text-align: right;\n",
       "    }\n",
       "</style>\n",
       "<table border=\"1\" class=\"dataframe\">\n",
       "  <thead>\n",
       "    <tr style=\"text-align: right;\">\n",
       "      <th></th>\n",
       "      <th>TMA_Acct</th>\n",
       "      <th>date</th>\n",
       "      <th>egfr</th>\n",
       "      <th>source</th>\n",
       "    </tr>\n",
       "  </thead>\n",
       "  <tbody>\n",
       "    <tr>\n",
       "      <th>0</th>\n",
       "      <td>116</td>\n",
       "      <td>2011-05-29 00:00:00</td>\n",
       "      <td>23</td>\n",
       "      <td>TMA</td>\n",
       "    </tr>\n",
       "    <tr>\n",
       "      <th>1</th>\n",
       "      <td>116</td>\n",
       "      <td>2011-05-19 00:00:00</td>\n",
       "      <td>25</td>\n",
       "      <td>TMA</td>\n",
       "    </tr>\n",
       "  </tbody>\n",
       "</table>\n",
       "</div>"
      ],
      "text/plain": [
       "   TMA_Acct                 date egfr source\n",
       "0       116  2011-05-29 00:00:00   23    TMA\n",
       "1       116  2011-05-19 00:00:00   25    TMA"
      ]
     },
     "execution_count": 58,
     "metadata": {},
     "output_type": "execute_result"
    }
   ],
   "source": [
    "egfr.head(2)"
   ]
  },
  {
   "cell_type": "code",
   "execution_count": 63,
   "metadata": {},
   "outputs": [
    {
     "name": "stdout",
     "output_type": "stream",
     "text": [
      "220206\n",
      "9360\n",
      "217631\n",
      "9137\n",
      "217631\n",
      "9137\n",
      "105816\n",
      "9137\n"
     ]
    }
   ],
   "source": [
    "All_egfr = pd.concat([serum_egfr, egfr], axis = 0)\n",
    "num(All_egfr)\n",
    "delete = ['Canceled', 'Creamin', 'Ignore Results,', 'Laboratory Cance  See Note ', 'NR', 'TNP', '>60', '(See Note)', 'See Note']\n",
    "All_egfr = All_egfr[~All_egfr.egfr.isin(delete)]\n",
    "num(All_egfr)\n",
    "All_egfr['egfr'] = All_egfr['egfr'].astype('float')\n",
    "def mapping(n):\n",
    "    if n >= 90.0: stage = '1'\n",
    "    elif n >= 60.0: stage = '2'\n",
    "    elif n >= 45.0: stage = '3a'\n",
    "    elif n >= 30.0: stage = '3b'\n",
    "    elif n >= 15.0: stage = '4'\n",
    "    else: stage = '5'\n",
    "    return(stage)\n",
    "All_egfr['stage'] = All_egfr['egfr'].apply(lambda x: mapping(x))\n",
    "num(All_egfr)\n",
    "All_egfr = All_egfr.drop_duplicates()\n",
    "num(All_egfr)\n",
    "All_egfr = All_egfr.sort_values(['TMA_Acct', 'date'])"
   ]
  },
  {
   "cell_type": "code",
   "execution_count": 60,
   "metadata": {},
   "outputs": [],
   "source": [
    "All_egfr.to_csv('All_egfr.csv')"
   ]
  },
  {
   "cell_type": "code",
   "execution_count": 61,
   "metadata": {},
   "outputs": [
    {
     "name": "stdout",
     "output_type": "stream",
     "text": [
      "105816\n",
      "9137\n"
     ]
    }
   ],
   "source": [
    "#step7\n",
    "All_egfr = pd.read_csv('All_egfr.csv')\n",
    "num(All_egfr)"
   ]
  },
  {
   "cell_type": "code",
   "execution_count": 62,
   "metadata": {},
   "outputs": [
    {
     "data": {
      "text/html": [
       "<div>\n",
       "<style scoped>\n",
       "    .dataframe tbody tr th:only-of-type {\n",
       "        vertical-align: middle;\n",
       "    }\n",
       "\n",
       "    .dataframe tbody tr th {\n",
       "        vertical-align: top;\n",
       "    }\n",
       "\n",
       "    .dataframe thead th {\n",
       "        text-align: right;\n",
       "    }\n",
       "</style>\n",
       "<table border=\"1\" class=\"dataframe\">\n",
       "  <thead>\n",
       "    <tr style=\"text-align: right;\">\n",
       "      <th></th>\n",
       "      <th>Unnamed: 0</th>\n",
       "      <th>TMA_Acct</th>\n",
       "      <th>date</th>\n",
       "      <th>egfr</th>\n",
       "      <th>source</th>\n",
       "      <th>stage</th>\n",
       "    </tr>\n",
       "  </thead>\n",
       "  <tbody>\n",
       "    <tr>\n",
       "      <th>0</th>\n",
       "      <td>16</td>\n",
       "      <td>9</td>\n",
       "      <td>2000-09-22</td>\n",
       "      <td>43.651041</td>\n",
       "      <td>TMA_Serum</td>\n",
       "      <td>3b</td>\n",
       "    </tr>\n",
       "    <tr>\n",
       "      <th>1</th>\n",
       "      <td>11</td>\n",
       "      <td>9</td>\n",
       "      <td>2000-11-15</td>\n",
       "      <td>47.448244</td>\n",
       "      <td>TMA_Serum</td>\n",
       "      <td>3a</td>\n",
       "    </tr>\n",
       "  </tbody>\n",
       "</table>\n",
       "</div>"
      ],
      "text/plain": [
       "   Unnamed: 0  TMA_Acct        date       egfr     source stage\n",
       "0          16         9  2000-09-22  43.651041  TMA_Serum    3b\n",
       "1          11         9  2000-11-15  47.448244  TMA_Serum    3a"
      ]
     },
     "execution_count": 62,
     "metadata": {},
     "output_type": "execute_result"
    }
   ],
   "source": [
    "All_egfr.head(2)"
   ]
  },
  {
   "cell_type": "markdown",
   "metadata": {},
   "source": [
    "## Heap"
   ]
  },
  {
   "cell_type": "code",
   "execution_count": 27,
   "metadata": {},
   "outputs": [
    {
     "name": "stdout",
     "output_type": "stream",
     "text": [
      "9137\n",
      "9137\n"
     ]
    },
    {
     "data": {
      "text/html": [
       "<div>\n",
       "<style scoped>\n",
       "    .dataframe tbody tr th:only-of-type {\n",
       "        vertical-align: middle;\n",
       "    }\n",
       "\n",
       "    .dataframe tbody tr th {\n",
       "        vertical-align: top;\n",
       "    }\n",
       "\n",
       "    .dataframe thead th {\n",
       "        text-align: right;\n",
       "    }\n",
       "</style>\n",
       "<table border=\"1\" class=\"dataframe\">\n",
       "  <thead>\n",
       "    <tr style=\"text-align: right;\">\n",
       "      <th></th>\n",
       "      <th>TMA_Acct</th>\n",
       "      <th>min</th>\n",
       "    </tr>\n",
       "  </thead>\n",
       "  <tbody>\n",
       "    <tr>\n",
       "      <th>0</th>\n",
       "      <td>9</td>\n",
       "      <td>2000-09-22</td>\n",
       "    </tr>\n",
       "    <tr>\n",
       "      <th>1</th>\n",
       "      <td>12</td>\n",
       "      <td>2000-08-03</td>\n",
       "    </tr>\n",
       "  </tbody>\n",
       "</table>\n",
       "</div>"
      ],
      "text/plain": [
       "   TMA_Acct         min\n",
       "0         9  2000-09-22\n",
       "1        12  2000-08-03"
      ]
     },
     "execution_count": 27,
     "metadata": {},
     "output_type": "execute_result"
    }
   ],
   "source": [
    "early = pd.DataFrame(All_egfr.groupby(['TMA_Acct']).agg({'date': [np.min]})).reset_index()\n",
    "early.columns=['TMA_Acct', 'min']\n",
    "num(early)\n",
    "early.head(2)"
   ]
  },
  {
   "cell_type": "code",
   "execution_count": 28,
   "metadata": {},
   "outputs": [
    {
     "name": "stdout",
     "output_type": "stream",
     "text": [
      "183136\n",
      "9107\n"
     ]
    }
   ],
   "source": [
    "enter_after_2018_12_31 = list(early[(early['min'] > '2018-12-31')]['TMA_Acct'])\n",
    "All_egfr = All_egfr[~All_egfr['TMA_Acct'].isin(enter_after_2018_12_31)]\n",
    "# acct_in_2010_2018 = list(All_egfr[(All_egfr['date'] > '2009-12-31') & (All_egfr['date'] < '2019-01-01')]['TMA_Acct'])\n",
    "# All_egfr =  All_egfr[All_egfr['TMA_Acct'].isin(acct_in_2010_2018)]\n",
    "num(All_egfr)"
   ]
  },
  {
   "cell_type": "code",
   "execution_count": 29,
   "metadata": {},
   "outputs": [
    {
     "name": "stdout",
     "output_type": "stream",
     "text": [
      "4702\n",
      "4702\n"
     ]
    }
   ],
   "source": [
    "enter_after_2010 = early[(early['min'] > '2009-12-31') & (early['min'] <= '2019-01-01')]\n",
    "num(enter_after_2010)"
   ]
  },
  {
   "cell_type": "code",
   "execution_count": 30,
   "metadata": {},
   "outputs": [
    {
     "name": "stdout",
     "output_type": "stream",
     "text": [
      "7983\n",
      "4699\n"
     ]
    }
   ],
   "source": [
    "first_enter_after_2010 = pd.merge(All_egfr, enter_after_2010, how = 'inner', left_on = ['TMA_Acct', 'date'], right_on = ['TMA_Acct', 'min'])\n",
    "num(first_enter_after_2010)"
   ]
  },
  {
   "cell_type": "code",
   "execution_count": 31,
   "metadata": {},
   "outputs": [],
   "source": [
    "first_enter_after_2010_egfr = pd.DataFrame(first_enter_after_2010[['TMA_Acct', 'egfr']].groupby(['TMA_Acct']).agg({'egfr': np.mean})).reset_index()"
   ]
  },
  {
   "cell_type": "code",
   "execution_count": 32,
   "metadata": {},
   "outputs": [],
   "source": [
    "first_enter_after_2010_egfr['stage'] = first_enter_after_2010_egfr['egfr'].apply(lambda x: mapping(x))"
   ]
  },
  {
   "cell_type": "code",
   "execution_count": 33,
   "metadata": {},
   "outputs": [
    {
     "name": "stdout",
     "output_type": "stream",
     "text": [
      "4699\n",
      "4699\n"
     ]
    }
   ],
   "source": [
    "first_enter_after_2010_date = first_enter_after_2010[['TMA_Acct', 'date']]\n",
    "first_enter_after_2010_date = first_enter_after_2010_date.drop_duplicates()\n",
    "num(first_enter_after_2010_date)"
   ]
  },
  {
   "cell_type": "code",
   "execution_count": 34,
   "metadata": {},
   "outputs": [],
   "source": [
    "first_enter_after_2010_stage = pd.merge(first_enter_after_2010_egfr, first_enter_after_2010_date, how = 'inner', left_on = 'TMA_Acct', right_on = 'TMA_Acct')"
   ]
  },
  {
   "cell_type": "code",
   "execution_count": 35,
   "metadata": {},
   "outputs": [
    {
     "name": "stdout",
     "output_type": "stream",
     "text": [
      "4699\n",
      "4699\n"
     ]
    }
   ],
   "source": [
    "num(first_enter_after_2010_stage)"
   ]
  },
  {
   "cell_type": "code",
   "execution_count": 36,
   "metadata": {},
   "outputs": [
    {
     "data": {
      "text/html": [
       "<div>\n",
       "<style scoped>\n",
       "    .dataframe tbody tr th:only-of-type {\n",
       "        vertical-align: middle;\n",
       "    }\n",
       "\n",
       "    .dataframe tbody tr th {\n",
       "        vertical-align: top;\n",
       "    }\n",
       "\n",
       "    .dataframe thead th {\n",
       "        text-align: right;\n",
       "    }\n",
       "</style>\n",
       "<table border=\"1\" class=\"dataframe\">\n",
       "  <thead>\n",
       "    <tr style=\"text-align: right;\">\n",
       "      <th></th>\n",
       "      <th>TMA_Acct</th>\n",
       "      <th>egfr</th>\n",
       "      <th>stage</th>\n",
       "      <th>date</th>\n",
       "    </tr>\n",
       "  </thead>\n",
       "  <tbody>\n",
       "    <tr>\n",
       "      <th>0</th>\n",
       "      <td>64</td>\n",
       "      <td>10.000000</td>\n",
       "      <td>5</td>\n",
       "      <td>2018-05-15 00:00:00</td>\n",
       "    </tr>\n",
       "    <tr>\n",
       "      <th>1</th>\n",
       "      <td>86</td>\n",
       "      <td>20.121101</td>\n",
       "      <td>4</td>\n",
       "      <td>2010-10-09</td>\n",
       "    </tr>\n",
       "    <tr>\n",
       "      <th>2</th>\n",
       "      <td>208</td>\n",
       "      <td>32.311473</td>\n",
       "      <td>3b</td>\n",
       "      <td>2015-06-09</td>\n",
       "    </tr>\n",
       "    <tr>\n",
       "      <th>3</th>\n",
       "      <td>268</td>\n",
       "      <td>48.000000</td>\n",
       "      <td>3a</td>\n",
       "      <td>2012-01-07</td>\n",
       "    </tr>\n",
       "    <tr>\n",
       "      <th>4</th>\n",
       "      <td>461</td>\n",
       "      <td>50.000000</td>\n",
       "      <td>3a</td>\n",
       "      <td>2018-11-07 00:00:00</td>\n",
       "    </tr>\n",
       "    <tr>\n",
       "      <th>...</th>\n",
       "      <td>...</td>\n",
       "      <td>...</td>\n",
       "      <td>...</td>\n",
       "      <td>...</td>\n",
       "    </tr>\n",
       "    <tr>\n",
       "      <th>4694</th>\n",
       "      <td>51471</td>\n",
       "      <td>36.000000</td>\n",
       "      <td>3b</td>\n",
       "      <td>2018-12-21 00:00:00</td>\n",
       "    </tr>\n",
       "    <tr>\n",
       "      <th>4695</th>\n",
       "      <td>51529</td>\n",
       "      <td>31.000000</td>\n",
       "      <td>3b</td>\n",
       "      <td>2018-12-26 00:00:00</td>\n",
       "    </tr>\n",
       "    <tr>\n",
       "      <th>4696</th>\n",
       "      <td>51580</td>\n",
       "      <td>37.000000</td>\n",
       "      <td>3b</td>\n",
       "      <td>2018-12-21 00:00:00</td>\n",
       "    </tr>\n",
       "    <tr>\n",
       "      <th>4697</th>\n",
       "      <td>52742</td>\n",
       "      <td>45.000000</td>\n",
       "      <td>3a</td>\n",
       "      <td>2018-01-30 00:00:00</td>\n",
       "    </tr>\n",
       "    <tr>\n",
       "      <th>4698</th>\n",
       "      <td>53388</td>\n",
       "      <td>47.000000</td>\n",
       "      <td>3a</td>\n",
       "      <td>2018-09-18 00:00:00</td>\n",
       "    </tr>\n",
       "  </tbody>\n",
       "</table>\n",
       "<p>4699 rows × 4 columns</p>\n",
       "</div>"
      ],
      "text/plain": [
       "      TMA_Acct       egfr stage                 date\n",
       "0           64  10.000000     5  2018-05-15 00:00:00\n",
       "1           86  20.121101     4           2010-10-09\n",
       "2          208  32.311473    3b           2015-06-09\n",
       "3          268  48.000000    3a           2012-01-07\n",
       "4          461  50.000000    3a  2018-11-07 00:00:00\n",
       "...        ...        ...   ...                  ...\n",
       "4694     51471  36.000000    3b  2018-12-21 00:00:00\n",
       "4695     51529  31.000000    3b  2018-12-26 00:00:00\n",
       "4696     51580  37.000000    3b  2018-12-21 00:00:00\n",
       "4697     52742  45.000000    3a  2018-01-30 00:00:00\n",
       "4698     53388  47.000000    3a  2018-09-18 00:00:00\n",
       "\n",
       "[4699 rows x 4 columns]"
      ]
     },
     "execution_count": 36,
     "metadata": {},
     "output_type": "execute_result"
    }
   ],
   "source": [
    "first_enter_after_2010_stage"
   ]
  },
  {
   "cell_type": "markdown",
   "metadata": {},
   "source": [
    "### Part1"
   ]
  },
  {
   "cell_type": "code",
   "execution_count": 38,
   "metadata": {},
   "outputs": [],
   "source": [
    "part1 = first_enter_after_2010_stage"
   ]
  },
  {
   "cell_type": "code",
   "execution_count": 31,
   "metadata": {},
   "outputs": [],
   "source": [
    "acct_enter_after_2009 = list(first_enter_after_2010_stage['TMA_Acct'])"
   ]
  },
  {
   "cell_type": "code",
   "execution_count": 32,
   "metadata": {},
   "outputs": [],
   "source": [
    "acct_enter_before_2010 = list(All_egfr[~All_egfr['TMA_Acct'].isin(acct_enter_after_2009)]['TMA_Acct'])"
   ]
  },
  {
   "cell_type": "code",
   "execution_count": 33,
   "metadata": {},
   "outputs": [
    {
     "name": "stdout",
     "output_type": "stream",
     "text": [
      "43193\n",
      "1784\n"
     ]
    }
   ],
   "source": [
    "all_egfr_enter_before_2010 = All_egfr[All_egfr['TMA_Acct'].isin(acct_enter_before_2010)]\n",
    "num(all_egfr_enter_before_2010)"
   ]
  },
  {
   "cell_type": "code",
   "execution_count": 34,
   "metadata": {},
   "outputs": [
    {
     "data": {
      "text/html": [
       "<div>\n",
       "<style scoped>\n",
       "    .dataframe tbody tr th:only-of-type {\n",
       "        vertical-align: middle;\n",
       "    }\n",
       "\n",
       "    .dataframe tbody tr th {\n",
       "        vertical-align: top;\n",
       "    }\n",
       "\n",
       "    .dataframe thead th {\n",
       "        text-align: right;\n",
       "    }\n",
       "</style>\n",
       "<table border=\"1\" class=\"dataframe\">\n",
       "  <thead>\n",
       "    <tr style=\"text-align: right;\">\n",
       "      <th></th>\n",
       "      <th>Unnamed: 0</th>\n",
       "      <th>TMA_Acct</th>\n",
       "      <th>date</th>\n",
       "      <th>egfr</th>\n",
       "      <th>source</th>\n",
       "      <th>stage</th>\n",
       "    </tr>\n",
       "  </thead>\n",
       "  <tbody>\n",
       "    <tr>\n",
       "      <th>4573</th>\n",
       "      <td>3676</td>\n",
       "      <td>1935</td>\n",
       "      <td>2007-09-13</td>\n",
       "      <td>57.841470</td>\n",
       "      <td>TMA_Lab_Serum</td>\n",
       "      <td>3a</td>\n",
       "    </tr>\n",
       "    <tr>\n",
       "      <th>4574</th>\n",
       "      <td>3675</td>\n",
       "      <td>1935</td>\n",
       "      <td>2007-12-06</td>\n",
       "      <td>51.546070</td>\n",
       "      <td>TMA_Lab_Serum</td>\n",
       "      <td>3a</td>\n",
       "    </tr>\n",
       "    <tr>\n",
       "      <th>4575</th>\n",
       "      <td>3684</td>\n",
       "      <td>1935</td>\n",
       "      <td>2008-12-04</td>\n",
       "      <td>65.239312</td>\n",
       "      <td>TMA_Lab_Serum</td>\n",
       "      <td>2</td>\n",
       "    </tr>\n",
       "    <tr>\n",
       "      <th>4576</th>\n",
       "      <td>3679</td>\n",
       "      <td>1935</td>\n",
       "      <td>2008-12-11</td>\n",
       "      <td>51.185248</td>\n",
       "      <td>TMA_Lab_Serum</td>\n",
       "      <td>3a</td>\n",
       "    </tr>\n",
       "    <tr>\n",
       "      <th>4577</th>\n",
       "      <td>3682</td>\n",
       "      <td>1935</td>\n",
       "      <td>2008-12-30</td>\n",
       "      <td>51.185248</td>\n",
       "      <td>TMA_Lab_Serum</td>\n",
       "      <td>3a</td>\n",
       "    </tr>\n",
       "    <tr>\n",
       "      <th>4578</th>\n",
       "      <td>3683</td>\n",
       "      <td>1935</td>\n",
       "      <td>2009-03-18</td>\n",
       "      <td>57.034523</td>\n",
       "      <td>TMA_Lab_Serum</td>\n",
       "      <td>3a</td>\n",
       "    </tr>\n",
       "    <tr>\n",
       "      <th>4579</th>\n",
       "      <td>3678</td>\n",
       "      <td>1935</td>\n",
       "      <td>2009-09-30</td>\n",
       "      <td>45.751748</td>\n",
       "      <td>TMA_Lab_Serum</td>\n",
       "      <td>3a</td>\n",
       "    </tr>\n",
       "    <tr>\n",
       "      <th>4580</th>\n",
       "      <td>3680</td>\n",
       "      <td>1935</td>\n",
       "      <td>2010-10-01</td>\n",
       "      <td>50.471162</td>\n",
       "      <td>TMA_Lab_Serum</td>\n",
       "      <td>3a</td>\n",
       "    </tr>\n",
       "    <tr>\n",
       "      <th>4581</th>\n",
       "      <td>33359</td>\n",
       "      <td>1935</td>\n",
       "      <td>2011-06-19</td>\n",
       "      <td>61.000000</td>\n",
       "      <td>Highmark_Lab_Egfr</td>\n",
       "      <td>2</td>\n",
       "    </tr>\n",
       "    <tr>\n",
       "      <th>4582</th>\n",
       "      <td>3677</td>\n",
       "      <td>1935</td>\n",
       "      <td>2011-09-26</td>\n",
       "      <td>50.674290</td>\n",
       "      <td>TMA_Lab_Serum</td>\n",
       "      <td>3a</td>\n",
       "    </tr>\n",
       "    <tr>\n",
       "      <th>4583</th>\n",
       "      <td>33360</td>\n",
       "      <td>1935</td>\n",
       "      <td>2011-09-27</td>\n",
       "      <td>51.000000</td>\n",
       "      <td>Highmark_Lab_Egfr</td>\n",
       "      <td>3a</td>\n",
       "    </tr>\n",
       "    <tr>\n",
       "      <th>4584</th>\n",
       "      <td>3685</td>\n",
       "      <td>1935</td>\n",
       "      <td>2012-09-04</td>\n",
       "      <td>55.845163</td>\n",
       "      <td>TMA_Lab_Serum</td>\n",
       "      <td>3a</td>\n",
       "    </tr>\n",
       "    <tr>\n",
       "      <th>4585</th>\n",
       "      <td>3681</td>\n",
       "      <td>1935</td>\n",
       "      <td>2013-09-11</td>\n",
       "      <td>62.987680</td>\n",
       "      <td>TMA_Lab_Serum</td>\n",
       "      <td>2</td>\n",
       "    </tr>\n",
       "  </tbody>\n",
       "</table>\n",
       "</div>"
      ],
      "text/plain": [
       "      Unnamed: 0  TMA_Acct        date       egfr             source stage\n",
       "4573        3676      1935  2007-09-13  57.841470      TMA_Lab_Serum    3a\n",
       "4574        3675      1935  2007-12-06  51.546070      TMA_Lab_Serum    3a\n",
       "4575        3684      1935  2008-12-04  65.239312      TMA_Lab_Serum     2\n",
       "4576        3679      1935  2008-12-11  51.185248      TMA_Lab_Serum    3a\n",
       "4577        3682      1935  2008-12-30  51.185248      TMA_Lab_Serum    3a\n",
       "4578        3683      1935  2009-03-18  57.034523      TMA_Lab_Serum    3a\n",
       "4579        3678      1935  2009-09-30  45.751748      TMA_Lab_Serum    3a\n",
       "4580        3680      1935  2010-10-01  50.471162      TMA_Lab_Serum    3a\n",
       "4581       33359      1935  2011-06-19  61.000000  Highmark_Lab_Egfr     2\n",
       "4582        3677      1935  2011-09-26  50.674290      TMA_Lab_Serum    3a\n",
       "4583       33360      1935  2011-09-27  51.000000  Highmark_Lab_Egfr    3a\n",
       "4584        3685      1935  2012-09-04  55.845163      TMA_Lab_Serum    3a\n",
       "4585        3681      1935  2013-09-11  62.987680      TMA_Lab_Serum     2"
      ]
     },
     "execution_count": 34,
     "metadata": {},
     "output_type": "execute_result"
    }
   ],
   "source": [
    "all_egfr_enter_before_2010[all_egfr_enter_before_2010['TMA_Acct'] == 1935]"
   ]
  },
  {
   "cell_type": "markdown",
   "metadata": {},
   "source": [
    "### Part2"
   ]
  },
  {
   "cell_type": "code",
   "execution_count": 35,
   "metadata": {},
   "outputs": [
    {
     "name": "stdout",
     "output_type": "stream",
     "text": [
      "745\n",
      "745\n"
     ]
    }
   ],
   "source": [
    "egfr_1 = all_egfr_enter_before_2010[(all_egfr_enter_before_2010['date'] > '2009-12-31') & (all_egfr_enter_before_2010['date'] < '2010-04-01')]\n",
    "early_1 = pd.DataFrame(egfr_1.groupby(['TMA_Acct']).agg({'date': [np.min]})).reset_index()\n",
    "early_1.columns=['TMA_Acct', 'min']\n",
    "early_1_all = pd.merge(all_egfr_enter_before_2010, early_1, how = 'inner', left_on = ['TMA_Acct', 'date'], right_on = ['TMA_Acct', 'min'])\n",
    "early_1_all = pd.DataFrame(early_1_all[['TMA_Acct', 'egfr']].groupby(['TMA_Acct']).agg({'egfr': np.mean})).reset_index()\n",
    "early_1_all['stage'] = early_1_all['egfr'].apply(lambda x: mapping(x))\n",
    "part2 = pd.merge(early_1, early_1_all, how = 'inner', left_on = 'TMA_Acct', right_on = 'TMA_Acct')\n",
    "num(part2)"
   ]
  },
  {
   "cell_type": "code",
   "execution_count": 36,
   "metadata": {},
   "outputs": [],
   "source": [
    "part2_acct = list(part2['TMA_Acct'])"
   ]
  },
  {
   "cell_type": "code",
   "execution_count": 37,
   "metadata": {},
   "outputs": [
    {
     "name": "stdout",
     "output_type": "stream",
     "text": [
      "20229\n",
      "1039\n"
     ]
    }
   ],
   "source": [
    "all_egfr_enter_before_2010 = all_egfr_enter_before_2010[~all_egfr_enter_before_2010['TMA_Acct'].isin(part2_acct)]\n",
    "num(all_egfr_enter_before_2010)"
   ]
  },
  {
   "cell_type": "code",
   "execution_count": 41,
   "metadata": {},
   "outputs": [
    {
     "data": {
      "text/html": [
       "<div>\n",
       "<style scoped>\n",
       "    .dataframe tbody tr th:only-of-type {\n",
       "        vertical-align: middle;\n",
       "    }\n",
       "\n",
       "    .dataframe tbody tr th {\n",
       "        vertical-align: top;\n",
       "    }\n",
       "\n",
       "    .dataframe thead th {\n",
       "        text-align: right;\n",
       "    }\n",
       "</style>\n",
       "<table border=\"1\" class=\"dataframe\">\n",
       "  <thead>\n",
       "    <tr style=\"text-align: right;\">\n",
       "      <th></th>\n",
       "      <th>TMA_Acct</th>\n",
       "      <th>min</th>\n",
       "      <th>egfr</th>\n",
       "      <th>stage</th>\n",
       "    </tr>\n",
       "  </thead>\n",
       "  <tbody>\n",
       "    <tr>\n",
       "      <th>0</th>\n",
       "      <td>37</td>\n",
       "      <td>2010-01-13</td>\n",
       "      <td>20.085950</td>\n",
       "      <td>4</td>\n",
       "    </tr>\n",
       "    <tr>\n",
       "      <th>1</th>\n",
       "      <td>97</td>\n",
       "      <td>2010-02-15</td>\n",
       "      <td>54.680604</td>\n",
       "      <td>3a</td>\n",
       "    </tr>\n",
       "    <tr>\n",
       "      <th>2</th>\n",
       "      <td>104</td>\n",
       "      <td>2010-02-17</td>\n",
       "      <td>74.032583</td>\n",
       "      <td>2</td>\n",
       "    </tr>\n",
       "    <tr>\n",
       "      <th>3</th>\n",
       "      <td>156</td>\n",
       "      <td>2010-02-15</td>\n",
       "      <td>29.937537</td>\n",
       "      <td>4</td>\n",
       "    </tr>\n",
       "    <tr>\n",
       "      <th>4</th>\n",
       "      <td>161</td>\n",
       "      <td>2010-03-05</td>\n",
       "      <td>43.505918</td>\n",
       "      <td>3b</td>\n",
       "    </tr>\n",
       "    <tr>\n",
       "      <th>...</th>\n",
       "      <td>...</td>\n",
       "      <td>...</td>\n",
       "      <td>...</td>\n",
       "      <td>...</td>\n",
       "    </tr>\n",
       "    <tr>\n",
       "      <th>740</th>\n",
       "      <td>33873</td>\n",
       "      <td>2010-02-12</td>\n",
       "      <td>56.768584</td>\n",
       "      <td>3a</td>\n",
       "    </tr>\n",
       "    <tr>\n",
       "      <th>741</th>\n",
       "      <td>35021</td>\n",
       "      <td>2010-02-01</td>\n",
       "      <td>39.817665</td>\n",
       "      <td>3b</td>\n",
       "    </tr>\n",
       "    <tr>\n",
       "      <th>742</th>\n",
       "      <td>35255</td>\n",
       "      <td>2010-03-16</td>\n",
       "      <td>37.442731</td>\n",
       "      <td>3b</td>\n",
       "    </tr>\n",
       "    <tr>\n",
       "      <th>743</th>\n",
       "      <td>35284</td>\n",
       "      <td>2010-01-14</td>\n",
       "      <td>39.538942</td>\n",
       "      <td>3b</td>\n",
       "    </tr>\n",
       "    <tr>\n",
       "      <th>744</th>\n",
       "      <td>36575</td>\n",
       "      <td>2010-03-01</td>\n",
       "      <td>90.240275</td>\n",
       "      <td>1</td>\n",
       "    </tr>\n",
       "  </tbody>\n",
       "</table>\n",
       "<p>745 rows × 4 columns</p>\n",
       "</div>"
      ],
      "text/plain": [
       "     TMA_Acct         min       egfr stage\n",
       "0          37  2010-01-13  20.085950     4\n",
       "1          97  2010-02-15  54.680604    3a\n",
       "2         104  2010-02-17  74.032583     2\n",
       "3         156  2010-02-15  29.937537     4\n",
       "4         161  2010-03-05  43.505918    3b\n",
       "..        ...         ...        ...   ...\n",
       "740     33873  2010-02-12  56.768584    3a\n",
       "741     35021  2010-02-01  39.817665    3b\n",
       "742     35255  2010-03-16  37.442731    3b\n",
       "743     35284  2010-01-14  39.538942    3b\n",
       "744     36575  2010-03-01  90.240275     1\n",
       "\n",
       "[745 rows x 4 columns]"
      ]
     },
     "execution_count": 41,
     "metadata": {},
     "output_type": "execute_result"
    }
   ],
   "source": [
    "part2"
   ]
  },
  {
   "cell_type": "markdown",
   "metadata": {},
   "source": [
    "### Part3"
   ]
  },
  {
   "cell_type": "code",
   "execution_count": 38,
   "metadata": {},
   "outputs": [
    {
     "name": "stdout",
     "output_type": "stream",
     "text": [
      "408\n",
      "408\n"
     ]
    }
   ],
   "source": [
    "egfr_2 = all_egfr_enter_before_2010[(all_egfr_enter_before_2010['date'] > '2009-09-30') & (all_egfr_enter_before_2010['date'] < '2010-01-01')]\n",
    "early_2 = pd.DataFrame(egfr_2.groupby(['TMA_Acct']).agg({'date': [np.min]})).reset_index()\n",
    "early_2.columns=['TMA_Acct', 'min']\n",
    "early_2_all = pd.merge(all_egfr_enter_before_2010, early_2, how = 'inner', left_on = ['TMA_Acct', 'date'], right_on = ['TMA_Acct', 'min'])\n",
    "early_2_all = pd.DataFrame(early_2_all[['TMA_Acct', 'egfr']].groupby(['TMA_Acct']).agg({'egfr': np.mean})).reset_index()\n",
    "early_2_all['stage'] = early_2_all['egfr'].apply(lambda x: mapping(x))\n",
    "part3 = pd.merge(early_2, early_2_all, how = 'inner', left_on = 'TMA_Acct', right_on = 'TMA_Acct')\n",
    "part3_acct = list(part3['TMA_Acct'])\n",
    "num(part3)"
   ]
  },
  {
   "cell_type": "code",
   "execution_count": 40,
   "metadata": {},
   "outputs": [
    {
     "data": {
      "text/html": [
       "<div>\n",
       "<style scoped>\n",
       "    .dataframe tbody tr th:only-of-type {\n",
       "        vertical-align: middle;\n",
       "    }\n",
       "\n",
       "    .dataframe tbody tr th {\n",
       "        vertical-align: top;\n",
       "    }\n",
       "\n",
       "    .dataframe thead th {\n",
       "        text-align: right;\n",
       "    }\n",
       "</style>\n",
       "<table border=\"1\" class=\"dataframe\">\n",
       "  <thead>\n",
       "    <tr style=\"text-align: right;\">\n",
       "      <th></th>\n",
       "      <th>TMA_Acct</th>\n",
       "      <th>min</th>\n",
       "      <th>egfr</th>\n",
       "      <th>stage</th>\n",
       "    </tr>\n",
       "  </thead>\n",
       "  <tbody>\n",
       "    <tr>\n",
       "      <th>0</th>\n",
       "      <td>90</td>\n",
       "      <td>2009-10-01</td>\n",
       "      <td>29.471587</td>\n",
       "      <td>4</td>\n",
       "    </tr>\n",
       "    <tr>\n",
       "      <th>1</th>\n",
       "      <td>136</td>\n",
       "      <td>2009-11-18</td>\n",
       "      <td>43.087447</td>\n",
       "      <td>3b</td>\n",
       "    </tr>\n",
       "    <tr>\n",
       "      <th>2</th>\n",
       "      <td>438</td>\n",
       "      <td>2009-11-09</td>\n",
       "      <td>66.711459</td>\n",
       "      <td>2</td>\n",
       "    </tr>\n",
       "    <tr>\n",
       "      <th>3</th>\n",
       "      <td>506</td>\n",
       "      <td>2009-11-02</td>\n",
       "      <td>36.279396</td>\n",
       "      <td>3b</td>\n",
       "    </tr>\n",
       "    <tr>\n",
       "      <th>4</th>\n",
       "      <td>618</td>\n",
       "      <td>2009-10-21</td>\n",
       "      <td>62.987680</td>\n",
       "      <td>2</td>\n",
       "    </tr>\n",
       "    <tr>\n",
       "      <th>...</th>\n",
       "      <td>...</td>\n",
       "      <td>...</td>\n",
       "      <td>...</td>\n",
       "      <td>...</td>\n",
       "    </tr>\n",
       "    <tr>\n",
       "      <th>403</th>\n",
       "      <td>36306</td>\n",
       "      <td>2009-10-06</td>\n",
       "      <td>124.917158</td>\n",
       "      <td>1</td>\n",
       "    </tr>\n",
       "    <tr>\n",
       "      <th>404</th>\n",
       "      <td>36458</td>\n",
       "      <td>2009-10-19</td>\n",
       "      <td>97.779646</td>\n",
       "      <td>1</td>\n",
       "    </tr>\n",
       "    <tr>\n",
       "      <th>405</th>\n",
       "      <td>36546</td>\n",
       "      <td>2009-10-07</td>\n",
       "      <td>81.442898</td>\n",
       "      <td>2</td>\n",
       "    </tr>\n",
       "    <tr>\n",
       "      <th>406</th>\n",
       "      <td>36572</td>\n",
       "      <td>2009-12-02</td>\n",
       "      <td>59.629796</td>\n",
       "      <td>3a</td>\n",
       "    </tr>\n",
       "    <tr>\n",
       "      <th>407</th>\n",
       "      <td>36625</td>\n",
       "      <td>2009-10-03</td>\n",
       "      <td>67.983983</td>\n",
       "      <td>2</td>\n",
       "    </tr>\n",
       "  </tbody>\n",
       "</table>\n",
       "<p>408 rows × 4 columns</p>\n",
       "</div>"
      ],
      "text/plain": [
       "     TMA_Acct         min        egfr stage\n",
       "0          90  2009-10-01   29.471587     4\n",
       "1         136  2009-11-18   43.087447    3b\n",
       "2         438  2009-11-09   66.711459     2\n",
       "3         506  2009-11-02   36.279396    3b\n",
       "4         618  2009-10-21   62.987680     2\n",
       "..        ...         ...         ...   ...\n",
       "403     36306  2009-10-06  124.917158     1\n",
       "404     36458  2009-10-19   97.779646     1\n",
       "405     36546  2009-10-07   81.442898     2\n",
       "406     36572  2009-12-02   59.629796    3a\n",
       "407     36625  2009-10-03   67.983983     2\n",
       "\n",
       "[408 rows x 4 columns]"
      ]
     },
     "execution_count": 40,
     "metadata": {},
     "output_type": "execute_result"
    }
   ],
   "source": [
    "part3"
   ]
  },
  {
   "cell_type": "code",
   "execution_count": 42,
   "metadata": {},
   "outputs": [
    {
     "name": "stdout",
     "output_type": "stream",
     "text": [
      "10841\n",
      "631\n"
     ]
    }
   ],
   "source": [
    "all_egfr_enter_before_2010 = all_egfr_enter_before_2010[~all_egfr_enter_before_2010['TMA_Acct'].isin(part3_acct)]\n",
    "num(all_egfr_enter_before_2010)"
   ]
  },
  {
   "cell_type": "markdown",
   "metadata": {},
   "source": [
    "### Part4"
   ]
  },
  {
   "cell_type": "code",
   "execution_count": 43,
   "metadata": {},
   "outputs": [
    {
     "name": "stdout",
     "output_type": "stream",
     "text": [
      "175\n",
      "175\n"
     ]
    }
   ],
   "source": [
    "egfr_3 = all_egfr_enter_before_2010[(all_egfr_enter_before_2010['date'] > '2010-03-31') & (all_egfr_enter_before_2010['date'] < '2010-07-01')]\n",
    "early_3 = pd.DataFrame(egfr_3.groupby(['TMA_Acct']).agg({'date': [np.min]})).reset_index()\n",
    "early_3.columns=['TMA_Acct', 'min']\n",
    "early_3_all = pd.merge(all_egfr_enter_before_2010, early_3, how = 'inner', left_on = ['TMA_Acct', 'date'], right_on = ['TMA_Acct', 'min'])\n",
    "early_3_all = pd.DataFrame(early_3_all[['TMA_Acct', 'egfr']].groupby(['TMA_Acct']).agg({'egfr': np.mean})).reset_index()\n",
    "early_3_all['stage'] = early_3_all['egfr'].apply(lambda x: mapping(x))\n",
    "part4 = pd.merge(early_3, early_3_all, how = 'inner', left_on = 'TMA_Acct', right_on = 'TMA_Acct')\n",
    "part4_acct = list(part4['TMA_Acct'])\n",
    "num(part4)"
   ]
  },
  {
   "cell_type": "code",
   "execution_count": 44,
   "metadata": {},
   "outputs": [
    {
     "name": "stdout",
     "output_type": "stream",
     "text": [
      "7470\n",
      "456\n"
     ]
    }
   ],
   "source": [
    "all_egfr_enter_before_2010 = all_egfr_enter_before_2010[~all_egfr_enter_before_2010['TMA_Acct'].isin(part4_acct)]\n",
    "num(all_egfr_enter_before_2010)"
   ]
  },
  {
   "cell_type": "code",
   "execution_count": 45,
   "metadata": {},
   "outputs": [
    {
     "data": {
      "text/html": [
       "<div>\n",
       "<style scoped>\n",
       "    .dataframe tbody tr th:only-of-type {\n",
       "        vertical-align: middle;\n",
       "    }\n",
       "\n",
       "    .dataframe tbody tr th {\n",
       "        vertical-align: top;\n",
       "    }\n",
       "\n",
       "    .dataframe thead th {\n",
       "        text-align: right;\n",
       "    }\n",
       "</style>\n",
       "<table border=\"1\" class=\"dataframe\">\n",
       "  <thead>\n",
       "    <tr style=\"text-align: right;\">\n",
       "      <th></th>\n",
       "      <th>TMA_Acct</th>\n",
       "      <th>min</th>\n",
       "      <th>egfr</th>\n",
       "      <th>stage</th>\n",
       "    </tr>\n",
       "  </thead>\n",
       "  <tbody>\n",
       "    <tr>\n",
       "      <th>0</th>\n",
       "      <td>125</td>\n",
       "      <td>2010-05-06</td>\n",
       "      <td>31.961666</td>\n",
       "      <td>3b</td>\n",
       "    </tr>\n",
       "    <tr>\n",
       "      <th>1</th>\n",
       "      <td>214</td>\n",
       "      <td>2010-05-26</td>\n",
       "      <td>43.042065</td>\n",
       "      <td>3b</td>\n",
       "    </tr>\n",
       "    <tr>\n",
       "      <th>2</th>\n",
       "      <td>544</td>\n",
       "      <td>2010-04-03</td>\n",
       "      <td>84.354251</td>\n",
       "      <td>2</td>\n",
       "    </tr>\n",
       "    <tr>\n",
       "      <th>3</th>\n",
       "      <td>955</td>\n",
       "      <td>2010-04-06</td>\n",
       "      <td>35.154703</td>\n",
       "      <td>3b</td>\n",
       "    </tr>\n",
       "    <tr>\n",
       "      <th>4</th>\n",
       "      <td>1399</td>\n",
       "      <td>2010-04-23</td>\n",
       "      <td>62.928639</td>\n",
       "      <td>2</td>\n",
       "    </tr>\n",
       "    <tr>\n",
       "      <th>...</th>\n",
       "      <td>...</td>\n",
       "      <td>...</td>\n",
       "      <td>...</td>\n",
       "      <td>...</td>\n",
       "    </tr>\n",
       "    <tr>\n",
       "      <th>170</th>\n",
       "      <td>32642</td>\n",
       "      <td>2010-06-23</td>\n",
       "      <td>65.239312</td>\n",
       "      <td>2</td>\n",
       "    </tr>\n",
       "    <tr>\n",
       "      <th>171</th>\n",
       "      <td>33899</td>\n",
       "      <td>2010-04-27</td>\n",
       "      <td>39.969890</td>\n",
       "      <td>3b</td>\n",
       "    </tr>\n",
       "    <tr>\n",
       "      <th>172</th>\n",
       "      <td>34870</td>\n",
       "      <td>2010-06-18</td>\n",
       "      <td>35.761583</td>\n",
       "      <td>3b</td>\n",
       "    </tr>\n",
       "    <tr>\n",
       "      <th>173</th>\n",
       "      <td>35482</td>\n",
       "      <td>2010-06-12</td>\n",
       "      <td>66.244479</td>\n",
       "      <td>2</td>\n",
       "    </tr>\n",
       "    <tr>\n",
       "      <th>174</th>\n",
       "      <td>35798</td>\n",
       "      <td>2010-05-11</td>\n",
       "      <td>80.948675</td>\n",
       "      <td>2</td>\n",
       "    </tr>\n",
       "  </tbody>\n",
       "</table>\n",
       "<p>175 rows × 4 columns</p>\n",
       "</div>"
      ],
      "text/plain": [
       "     TMA_Acct         min       egfr stage\n",
       "0         125  2010-05-06  31.961666    3b\n",
       "1         214  2010-05-26  43.042065    3b\n",
       "2         544  2010-04-03  84.354251     2\n",
       "3         955  2010-04-06  35.154703    3b\n",
       "4        1399  2010-04-23  62.928639     2\n",
       "..        ...         ...        ...   ...\n",
       "170     32642  2010-06-23  65.239312     2\n",
       "171     33899  2010-04-27  39.969890    3b\n",
       "172     34870  2010-06-18  35.761583    3b\n",
       "173     35482  2010-06-12  66.244479     2\n",
       "174     35798  2010-05-11  80.948675     2\n",
       "\n",
       "[175 rows x 4 columns]"
      ]
     },
     "execution_count": 45,
     "metadata": {},
     "output_type": "execute_result"
    }
   ],
   "source": [
    "part4"
   ]
  },
  {
   "cell_type": "markdown",
   "metadata": {},
   "source": [
    "### Part5"
   ]
  },
  {
   "cell_type": "code",
   "execution_count": 46,
   "metadata": {},
   "outputs": [
    {
     "name": "stdout",
     "output_type": "stream",
     "text": [
      "140\n",
      "140\n"
     ]
    }
   ],
   "source": [
    "egfr_4 = all_egfr_enter_before_2010[(all_egfr_enter_before_2010['date'] > '2009-06-30') & (all_egfr_enter_before_2010['date'] < '2009-10-01')]\n",
    "early_4 = pd.DataFrame(egfr_4.groupby(['TMA_Acct']).agg({'date': [np.min]})).reset_index()\n",
    "early_4.columns=['TMA_Acct', 'min']\n",
    "early_4_all = pd.merge(all_egfr_enter_before_2010, early_4, how = 'inner', left_on = ['TMA_Acct', 'date'], right_on = ['TMA_Acct', 'min'])\n",
    "early_4_all = pd.DataFrame(early_4_all[['TMA_Acct', 'egfr']].groupby(['TMA_Acct']).agg({'egfr': np.mean})).reset_index()\n",
    "early_4_all['stage'] = early_4_all['egfr'].apply(lambda x: mapping(x))\n",
    "part5 = pd.merge(early_4, early_4_all, how = 'inner', left_on = 'TMA_Acct', right_on = 'TMA_Acct')\n",
    "part5_acct = list(part5['TMA_Acct'])\n",
    "num(part5)"
   ]
  },
  {
   "cell_type": "code",
   "execution_count": 47,
   "metadata": {},
   "outputs": [
    {
     "name": "stdout",
     "output_type": "stream",
     "text": [
      "4910\n",
      "316\n"
     ]
    }
   ],
   "source": [
    "all_egfr_enter_before_2010 = all_egfr_enter_before_2010[~all_egfr_enter_before_2010['TMA_Acct'].isin(part5_acct)]\n",
    "num(all_egfr_enter_before_2010)"
   ]
  },
  {
   "cell_type": "markdown",
   "metadata": {},
   "source": [
    "### Part6"
   ]
  },
  {
   "cell_type": "code",
   "execution_count": 48,
   "metadata": {},
   "outputs": [
    {
     "name": "stdout",
     "output_type": "stream",
     "text": [
      "3063\n",
      "316\n"
     ]
    }
   ],
   "source": [
    "part6 = all_egfr_enter_before_2010[all_egfr_enter_before_2010['date'] > '2010-01-01']\n",
    "num(part6)"
   ]
  },
  {
   "cell_type": "code",
   "execution_count": 49,
   "metadata": {},
   "outputs": [
    {
     "name": "stdout",
     "output_type": "stream",
     "text": [
      "0\n",
      "0\n"
     ]
    }
   ],
   "source": [
    "egfr_4 = all_egfr_enter_before_2010[(all_egfr_enter_before_2010['date'] > '2009-06-30') & (all_egfr_enter_before_2010['date'] < '2009-10-01')]\n",
    "early_4 = pd.DataFrame(egfr_4.groupby(['TMA_Acct']).agg({'date': [np.min]})).reset_index()\n",
    "early_4.columns=['TMA_Acct', 'min']\n",
    "early_4_all = pd.merge(all_egfr_enter_before_2010, early_4, how = 'inner', left_on = ['TMA_Acct', 'date'], right_on = ['TMA_Acct', 'min'])\n",
    "early_4_all = pd.DataFrame(early_4_all[['TMA_Acct', 'egfr']].groupby(['TMA_Acct']).agg({'egfr': np.mean})).reset_index()\n",
    "early_4_all['stage'] = early_4_all['egfr'].apply(lambda x: mapping(x))\n",
    "part5 = pd.merge(early_4, early_4_all, how = 'inner', left_on = 'TMA_Acct', right_on = 'TMA_Acct')\n",
    "part5_acct = list(part5['TMA_Acct'])\n",
    "num(part5)"
   ]
  },
  {
   "cell_type": "code",
   "execution_count": 50,
   "metadata": {},
   "outputs": [
    {
     "name": "stdout",
     "output_type": "stream",
     "text": [
      "316\n",
      "316\n"
     ]
    },
    {
     "data": {
      "text/html": [
       "<div>\n",
       "<style scoped>\n",
       "    .dataframe tbody tr th:only-of-type {\n",
       "        vertical-align: middle;\n",
       "    }\n",
       "\n",
       "    .dataframe tbody tr th {\n",
       "        vertical-align: top;\n",
       "    }\n",
       "\n",
       "    .dataframe thead th {\n",
       "        text-align: right;\n",
       "    }\n",
       "</style>\n",
       "<table border=\"1\" class=\"dataframe\">\n",
       "  <thead>\n",
       "    <tr style=\"text-align: right;\">\n",
       "      <th></th>\n",
       "      <th>TMA_Acct</th>\n",
       "      <th>min</th>\n",
       "    </tr>\n",
       "  </thead>\n",
       "  <tbody>\n",
       "    <tr>\n",
       "      <th>0</th>\n",
       "      <td>116</td>\n",
       "      <td>2011-05-19</td>\n",
       "    </tr>\n",
       "    <tr>\n",
       "      <th>1</th>\n",
       "      <td>403</td>\n",
       "      <td>2015-07-23</td>\n",
       "    </tr>\n",
       "  </tbody>\n",
       "</table>\n",
       "</div>"
      ],
      "text/plain": [
       "   TMA_Acct         min\n",
       "0       116  2011-05-19\n",
       "1       403  2015-07-23"
      ]
     },
     "execution_count": 50,
     "metadata": {},
     "output_type": "execute_result"
    }
   ],
   "source": [
    "early_6 = pd.DataFrame(part6.groupby(['TMA_Acct']).agg({'date': [np.min]})).reset_index()\n",
    "early_6.columns=['TMA_Acct', 'min']\n",
    "num(early_6)\n",
    "early_6.head(2)"
   ]
  },
  {
   "cell_type": "code",
   "execution_count": 51,
   "metadata": {},
   "outputs": [
    {
     "name": "stdout",
     "output_type": "stream",
     "text": [
      "316\n",
      "316\n"
     ]
    }
   ],
   "source": [
    "part6 = pd.merge(part6, early_6, how = 'inner', left_on = ['TMA_Acct', 'date'], right_on = ['TMA_Acct', 'min'])\n",
    "early_6_all = pd.DataFrame(part6[['TMA_Acct', 'egfr']].groupby(['TMA_Acct']).agg({'egfr': np.mean})).reset_index()\n",
    "early_6_all['stage'] = early_6_all['egfr'].apply(lambda x: mapping(x))\n",
    "part6 = pd.merge(early_6, early_6_all, how = 'inner', left_on = 'TMA_Acct', right_on = 'TMA_Acct')\n",
    "num(part6)"
   ]
  },
  {
   "cell_type": "code",
   "execution_count": 52,
   "metadata": {},
   "outputs": [
    {
     "data": {
      "text/html": [
       "<div>\n",
       "<style scoped>\n",
       "    .dataframe tbody tr th:only-of-type {\n",
       "        vertical-align: middle;\n",
       "    }\n",
       "\n",
       "    .dataframe tbody tr th {\n",
       "        vertical-align: top;\n",
       "    }\n",
       "\n",
       "    .dataframe thead th {\n",
       "        text-align: right;\n",
       "    }\n",
       "</style>\n",
       "<table border=\"1\" class=\"dataframe\">\n",
       "  <thead>\n",
       "    <tr style=\"text-align: right;\">\n",
       "      <th></th>\n",
       "      <th>TMA_Acct</th>\n",
       "      <th>min</th>\n",
       "      <th>egfr</th>\n",
       "      <th>stage</th>\n",
       "    </tr>\n",
       "  </thead>\n",
       "  <tbody>\n",
       "    <tr>\n",
       "      <th>0</th>\n",
       "      <td>116</td>\n",
       "      <td>2011-05-19</td>\n",
       "      <td>19.151370</td>\n",
       "      <td>4</td>\n",
       "    </tr>\n",
       "    <tr>\n",
       "      <th>1</th>\n",
       "      <td>403</td>\n",
       "      <td>2015-07-23</td>\n",
       "      <td>28.655265</td>\n",
       "      <td>4</td>\n",
       "    </tr>\n",
       "    <tr>\n",
       "      <th>2</th>\n",
       "      <td>468</td>\n",
       "      <td>2013-01-31</td>\n",
       "      <td>56.000000</td>\n",
       "      <td>3a</td>\n",
       "    </tr>\n",
       "    <tr>\n",
       "      <th>3</th>\n",
       "      <td>532</td>\n",
       "      <td>2013-04-01</td>\n",
       "      <td>16.078698</td>\n",
       "      <td>4</td>\n",
       "    </tr>\n",
       "    <tr>\n",
       "      <th>4</th>\n",
       "      <td>756</td>\n",
       "      <td>2011-05-16</td>\n",
       "      <td>38.320260</td>\n",
       "      <td>3b</td>\n",
       "    </tr>\n",
       "    <tr>\n",
       "      <th>...</th>\n",
       "      <td>...</td>\n",
       "      <td>...</td>\n",
       "      <td>...</td>\n",
       "      <td>...</td>\n",
       "    </tr>\n",
       "    <tr>\n",
       "      <th>311</th>\n",
       "      <td>35505</td>\n",
       "      <td>2010-08-24</td>\n",
       "      <td>101.261456</td>\n",
       "      <td>1</td>\n",
       "    </tr>\n",
       "    <tr>\n",
       "      <th>312</th>\n",
       "      <td>36281</td>\n",
       "      <td>2012-12-07</td>\n",
       "      <td>56.635282</td>\n",
       "      <td>3a</td>\n",
       "    </tr>\n",
       "    <tr>\n",
       "      <th>313</th>\n",
       "      <td>36690</td>\n",
       "      <td>2013-03-13</td>\n",
       "      <td>128.964363</td>\n",
       "      <td>1</td>\n",
       "    </tr>\n",
       "    <tr>\n",
       "      <th>314</th>\n",
       "      <td>36822</td>\n",
       "      <td>2012-05-24</td>\n",
       "      <td>26.647857</td>\n",
       "      <td>4</td>\n",
       "    </tr>\n",
       "    <tr>\n",
       "      <th>315</th>\n",
       "      <td>37004</td>\n",
       "      <td>2016-10-10</td>\n",
       "      <td>86.758089</td>\n",
       "      <td>2</td>\n",
       "    </tr>\n",
       "  </tbody>\n",
       "</table>\n",
       "<p>316 rows × 4 columns</p>\n",
       "</div>"
      ],
      "text/plain": [
       "     TMA_Acct         min        egfr stage\n",
       "0         116  2011-05-19   19.151370     4\n",
       "1         403  2015-07-23   28.655265     4\n",
       "2         468  2013-01-31   56.000000    3a\n",
       "3         532  2013-04-01   16.078698     4\n",
       "4         756  2011-05-16   38.320260    3b\n",
       "..        ...         ...         ...   ...\n",
       "311     35505  2010-08-24  101.261456     1\n",
       "312     36281  2012-12-07   56.635282    3a\n",
       "313     36690  2013-03-13  128.964363     1\n",
       "314     36822  2012-05-24   26.647857     4\n",
       "315     37004  2016-10-10   86.758089     2\n",
       "\n",
       "[316 rows x 4 columns]"
      ]
     },
     "execution_count": 52,
     "metadata": {},
     "output_type": "execute_result"
    }
   ],
   "source": [
    "part6"
   ]
  },
  {
   "cell_type": "code",
   "execution_count": 53,
   "metadata": {},
   "outputs": [],
   "source": [
    "egfr_earliest = pd.concat([part1, part2, part3, part4, part5, part6], axis = 0)"
   ]
  },
  {
   "cell_type": "code",
   "execution_count": 139,
   "metadata": {},
   "outputs": [],
   "source": [
    "egfr_earliest.to_csv('egfr_earliest.csv')"
   ]
  },
  {
   "cell_type": "code",
   "execution_count": 140,
   "metadata": {},
   "outputs": [
    {
     "name": "stdout",
     "output_type": "stream",
     "text": [
      "6859\n",
      "6859\n"
     ]
    }
   ],
   "source": [
    "egfr_earliest = pd.read_csv('egfr_earliest.csv')\n",
    "num(egfr_earliest)"
   ]
  },
  {
   "cell_type": "code",
   "execution_count": 93,
   "metadata": {},
   "outputs": [],
   "source": [
    "egfr_earliest_3a = egfr_earliest[egfr_earliest['stage'] == '3a']"
   ]
  },
  {
   "cell_type": "code",
   "execution_count": 94,
   "metadata": {},
   "outputs": [],
   "source": [
    "egfr_earliest_3a_acct = list(set(list(egfr_earliest_3a['TMA_Acct'])))"
   ]
  },
  {
   "cell_type": "markdown",
   "metadata": {},
   "source": [
    "### EGFR_Trajactory"
   ]
  },
  {
   "cell_type": "markdown",
   "metadata": {},
   "source": [
    "baseline = pd.read_csv('baseline.csv')\n",
    "stage_3a = list(baseline[baseline['stage'] == '3a']['TMA_Acct'])\n",
    "egfr_3a = All_egfr[All_egfr['TMA_Acct'].isin(stage_3a)]\n",
    "len(egfr_3a['TMA_Acct'].unique())"
   ]
  },
  {
   "cell_type": "code",
   "execution_count": 97,
   "metadata": {},
   "outputs": [
    {
     "name": "stdout",
     "output_type": "stream",
     "text": [
      "1623\n",
      "1741\n",
      "1000\n",
      "577\n"
     ]
    }
   ],
   "source": [
    "All_egfr = pd.read_csv('All_egfr.csv')\n",
    "All_egfr_10 = All_egfr[(All_egfr['date'] > '2009-12-31') & (All_egfr['date'] < '2019-01-01')]\n",
    "egfr_earliest_3a = egfr_earliest[egfr_earliest['stage'] == '3a']\n",
    "egfr_earliest_3a_acct = list(set(list(egfr_earliest_3a['TMA_Acct'])))\n",
    "print(len(egfr_earliest_3a))\n",
    "egfr_earliest_3b = egfr_earliest[egfr_earliest['stage'] == '3b']\n",
    "egfr_earliest_3b_acct = list(set(list(egfr_earliest_3b['TMA_Acct'])))\n",
    "egfr_earliest_4 = egfr_earliest[egfr_earliest['stage'] == '4']\n",
    "egfr_earliest_4_acct = list(set(list(egfr_earliest_4['TMA_Acct'])))\n",
    "egfr_earliest_5 = egfr_earliest[egfr_earliest['stage'] == '5']\n",
    "egfr_earliest_5_acct = list(set(list(egfr_earliest_5['TMA_Acct'])))\n",
    "print(len(egfr_earliest_3b))\n",
    "print(len(egfr_earliest_4))\n",
    "print(len(egfr_earliest_5))"
   ]
  },
  {
   "cell_type": "code",
   "execution_count": 98,
   "metadata": {},
   "outputs": [],
   "source": [
    "def final_in_stage(stage_acct):\n",
    "    All_egfr_3a = All_egfr_10[All_egfr_10['TMA_Acct'].isin(stage_acct)]\n",
    "    All_egfr_3a = All_egfr_3a[['TMA_Acct', 'date', 'stage','egfr']]\n",
    "    All_egfr_3a = All_egfr_3a.drop_duplicates()\n",
    "    early = pd.DataFrame(All_egfr_3a.groupby(['TMA_Acct']).agg({'date': [np.min]})).reset_index()\n",
    "    early.columns=['TMA_Acct', 'min']\n",
    "    print()\n",
    "    All_egfr_3a = pd.merge(All_egfr_3a, early, how = 'left', left_on = ['TMA_Acct'], right_on = ['TMA_Acct'])\n",
    "    All_egfr_3a['date'] = pd.to_datetime(All_egfr_3a['date'])\n",
    "    All_egfr_3a['min'] = pd.to_datetime(All_egfr_3a['min'])\n",
    "    All_egfr_3a['period'] = ((All_egfr_3a['date'] - All_egfr_3a['min']).dt.days / 90).astype('int')\n",
    "    egfr_traj = All_egfr_3a[['TMA_Acct', 'egfr', 'period']]\n",
    "    egfr_traj = pd.DataFrame(egfr_traj.groupby(['TMA_Acct', 'period']).agg({'egfr': np.mean})).reset_index()\n",
    "    egfr_traj = egfr_traj.pivot(index='TMA_Acct', columns='period', values='egfr')\n",
    "    print(len(egfr_traj))\n",
    "    final = egfr_traj.dropna(thresh=3)\n",
    "    print(len(final))\n",
    "    for i in range(37):\n",
    "        final['t' + str(i)] = i\n",
    "        final.rename(columns={i: \"v\" + str(i)}, inplace = 'True')\n",
    "    return final"
   ]
  },
  {
   "cell_type": "code",
   "execution_count": 99,
   "metadata": {},
   "outputs": [
    {
     "name": "stdout",
     "output_type": "stream",
     "text": [
      "\n",
      "1623\n",
      "999\n"
     ]
    },
    {
     "name": "stderr",
     "output_type": "stream",
     "text": [
      "C:\\Users\\DELL\\anaconda3\\lib\\site-packages\\ipykernel_launcher.py:19: SettingWithCopyWarning: \n",
      "A value is trying to be set on a copy of a slice from a DataFrame.\n",
      "Try using .loc[row_indexer,col_indexer] = value instead\n",
      "\n",
      "See the caveats in the documentation: https://pandas.pydata.org/pandas-docs/stable/user_guide/indexing.html#returning-a-view-versus-a-copy\n",
      "C:\\Users\\DELL\\AppData\\Roaming\\Python\\Python37\\site-packages\\pandas\\core\\frame.py:4133: SettingWithCopyWarning: \n",
      "A value is trying to be set on a copy of a slice from a DataFrame\n",
      "\n",
      "See the caveats in the documentation: https://pandas.pydata.org/pandas-docs/stable/user_guide/indexing.html#returning-a-view-versus-a-copy\n",
      "  errors=errors,\n"
     ]
    },
    {
     "name": "stdout",
     "output_type": "stream",
     "text": [
      "\n",
      "1741\n",
      "1146\n",
      "\n",
      "1000\n",
      "634\n",
      "\n",
      "577\n",
      "334\n"
     ]
    }
   ],
   "source": [
    "final_3a = final_in_stage(egfr_earliest_3a_acct)\n",
    "final_3b = final_in_stage(egfr_earliest_3b_acct)\n",
    "final_4 = final_in_stage(egfr_earliest_4_acct)\n",
    "final_5 = final_in_stage(egfr_earliest_5_acct)"
   ]
  },
  {
   "cell_type": "code",
   "execution_count": 100,
   "metadata": {},
   "outputs": [],
   "source": [
    "final_3a.to_csv('final_3a.csv')\n",
    "final_3b.to_csv('final_3b.csv')\n",
    "final_4.to_csv('final_4.csv')\n",
    "final_5.to_csv('final_5.csv')"
   ]
  },
  {
   "cell_type": "markdown",
   "metadata": {},
   "source": [
    "### Trajactory Analysis"
   ]
  },
  {
   "cell_type": "code",
   "execution_count": 32,
   "metadata": {},
   "outputs": [],
   "source": []
  },
  {
   "cell_type": "code",
   "execution_count": 54,
   "metadata": {},
   "outputs": [
    {
     "data": {
      "text/html": [
       "<div>\n",
       "<style scoped>\n",
       "    .dataframe tbody tr th:only-of-type {\n",
       "        vertical-align: middle;\n",
       "    }\n",
       "\n",
       "    .dataframe tbody tr th {\n",
       "        vertical-align: top;\n",
       "    }\n",
       "\n",
       "    .dataframe thead th {\n",
       "        text-align: right;\n",
       "    }\n",
       "</style>\n",
       "<table border=\"1\" class=\"dataframe\">\n",
       "  <thead>\n",
       "    <tr style=\"text-align: right;\">\n",
       "      <th></th>\n",
       "      <th>Unnamed: 0</th>\n",
       "      <th>TMA_Acct</th>\n",
       "      <th>DOB</th>\n",
       "      <th>Sex</th>\n",
       "      <th>Race</th>\n",
       "      <th>hyper_date</th>\n",
       "      <th>diabe_date</th>\n",
       "      <th>earliest_date_in_all_lab</th>\n",
       "      <th>Date_bmi</th>\n",
       "      <th>BMI</th>\n",
       "      <th>Age_in_2010</th>\n",
       "      <th>avg_egfr</th>\n",
       "      <th>earliest_egfr_date</th>\n",
       "      <th>stage</th>\n",
       "      <th>Patient_Status_Date</th>\n",
       "      <th>Patient_Status</th>\n",
       "    </tr>\n",
       "  </thead>\n",
       "  <tbody>\n",
       "    <tr>\n",
       "      <th>0</th>\n",
       "      <td>0</td>\n",
       "      <td>9</td>\n",
       "      <td>1921</td>\n",
       "      <td>Male</td>\n",
       "      <td>White</td>\n",
       "      <td>2001-05-29</td>\n",
       "      <td>NaN</td>\n",
       "      <td>2000-09-22</td>\n",
       "      <td>NaN</td>\n",
       "      <td>NaN</td>\n",
       "      <td>89</td>\n",
       "      <td>NaN</td>\n",
       "      <td>NaN</td>\n",
       "      <td>NaN</td>\n",
       "      <td>6-30-2010</td>\n",
       "      <td>Deceased</td>\n",
       "    </tr>\n",
       "    <tr>\n",
       "      <th>1</th>\n",
       "      <td>1</td>\n",
       "      <td>10</td>\n",
       "      <td>1926</td>\n",
       "      <td>Female</td>\n",
       "      <td>NaN</td>\n",
       "      <td>NaN</td>\n",
       "      <td>NaN</td>\n",
       "      <td>NaN</td>\n",
       "      <td>NaN</td>\n",
       "      <td>NaN</td>\n",
       "      <td>84</td>\n",
       "      <td>NaN</td>\n",
       "      <td>NaN</td>\n",
       "      <td>NaN</td>\n",
       "      <td>NaN</td>\n",
       "      <td>Active</td>\n",
       "    </tr>\n",
       "  </tbody>\n",
       "</table>\n",
       "</div>"
      ],
      "text/plain": [
       "   Unnamed: 0  TMA_Acct   DOB     Sex   Race  hyper_date diabe_date  \\\n",
       "0           0         9  1921    Male  White  2001-05-29        NaN   \n",
       "1           1        10  1926  Female    NaN         NaN        NaN   \n",
       "\n",
       "  earliest_date_in_all_lab Date_bmi  BMI  Age_in_2010  avg_egfr  \\\n",
       "0               2000-09-22      NaN  NaN           89       NaN   \n",
       "1                      NaN      NaN  NaN           84       NaN   \n",
       "\n",
       "  earliest_egfr_date stage Patient_Status_Date Patient_Status  \n",
       "0                NaN   NaN           6-30-2010       Deceased  \n",
       "1                NaN   NaN                 NaN         Active  "
      ]
     },
     "execution_count": 54,
     "metadata": {},
     "output_type": "execute_result"
    }
   ],
   "source": [
    "baseline = pd.read_csv('baseline.csv')\n",
    "baseline.head(2)"
   ]
  },
  {
   "cell_type": "code",
   "execution_count": 55,
   "metadata": {},
   "outputs": [
    {
     "data": {
      "text/plain": [
       "{'American Indian/Alaska Native',\n",
       " 'Asian',\n",
       " 'Black / African American, Black',\n",
       " 'Black/African American',\n",
       " 'Black/African American, Other',\n",
       " 'Declined to Specify/Unknown',\n",
       " 'Other',\n",
       " 'White',\n",
       " 'White, Black/African American',\n",
       " 'White, Other',\n",
       " nan}"
      ]
     },
     "execution_count": 55,
     "metadata": {},
     "output_type": "execute_result"
    }
   ],
   "source": [
    "set(list(baseline['Race']))"
   ]
  },
  {
   "cell_type": "code",
   "execution_count": 56,
   "metadata": {},
   "outputs": [],
   "source": [
    "baseline_acct = list(baseline['TMA_Acct'])"
   ]
  },
  {
   "cell_type": "code",
   "execution_count": 57,
   "metadata": {},
   "outputs": [],
   "source": [
    "final3a = pd.read_csv('final_3a.csv')\n",
    "final3b = pd.read_csv('final_3b.csv')\n",
    "final4 = pd.read_csv('final_4.csv')"
   ]
  },
  {
   "cell_type": "code",
   "execution_count": 58,
   "metadata": {},
   "outputs": [],
   "source": [
    "final3a_acct = list(final3a['TMA_Acct'])"
   ]
  },
  {
   "cell_type": "code",
   "execution_count": 59,
   "metadata": {},
   "outputs": [
    {
     "data": {
      "text/plain": [
       "98"
      ]
     },
     "execution_count": 59,
     "metadata": {},
     "output_type": "execute_result"
    }
   ],
   "source": [
    "len([i for i in final3a_acct if i not in baseline_acct])"
   ]
  },
  {
   "cell_type": "code",
   "execution_count": 60,
   "metadata": {},
   "outputs": [],
   "source": [
    "def final_base(final, base):\n",
    "    base = base.fillna('n')\n",
    "    base = base[['TMA_Acct', 'Sex', 'Race', 'hyper_date', 'diabe_date', 'Age_in_2010']]\n",
    "    final_base = pd.merge(final, base, how = 'inner', left_on = 'TMA_Acct', right_on = 'TMA_Acct')\n",
    "    final_base['sex_v'] = final_base['Sex'].apply(lambda x: 1 if x == 'Female' else 0)\n",
    "    final_base['race_v'] = final_base['Race'].apply(lambda x: 1 if x == 'Black / African American, Black' or x == 'Black/African American' or x == 'Black/African American, Other' else 0)\n",
    "    final_base['hyper_v'] = final_base['hyper_date'].apply(lambda x: 0 if x == 'n' else 1)\n",
    "    final_base['diabe_v'] = final_base['diabe_date'].apply(lambda x: 0 if x == 'n' else 1)\n",
    "    return final_base"
   ]
  },
  {
   "cell_type": "code",
   "execution_count": 61,
   "metadata": {},
   "outputs": [],
   "source": [
    "final_3a_base = final_base(final3a, baseline)\n",
    "final_3a_base.to_csv('final_3a_base_2.csv')"
   ]
  },
  {
   "cell_type": "code",
   "execution_count": 143,
   "metadata": {},
   "outputs": [],
   "source": [
    "final_3b_base = final_base(final3b, baseline)\n",
    "final_3b_base.to_csv('final_3b_base.csv')\n",
    "final_4_base = final_base(final4, baseline)\n",
    "final_4_base.to_csv('final_4_base.csv')"
   ]
  },
  {
   "cell_type": "code",
   "execution_count": 144,
   "metadata": {},
   "outputs": [
    {
     "data": {
      "text/plain": [
       "997"
      ]
     },
     "execution_count": 144,
     "metadata": {},
     "output_type": "execute_result"
    }
   ],
   "source": [
    "len(final_3b_base)"
   ]
  },
  {
   "cell_type": "code",
   "execution_count": 145,
   "metadata": {},
   "outputs": [
    {
     "data": {
      "text/plain": [
       "572"
      ]
     },
     "execution_count": 145,
     "metadata": {},
     "output_type": "execute_result"
    }
   ],
   "source": [
    "len(final_4_base)"
   ]
  },
  {
   "cell_type": "code",
   "execution_count": 110,
   "metadata": {},
   "outputs": [
    {
     "data": {
      "text/html": [
       "<div>\n",
       "<style scoped>\n",
       "    .dataframe tbody tr th:only-of-type {\n",
       "        vertical-align: middle;\n",
       "    }\n",
       "\n",
       "    .dataframe tbody tr th {\n",
       "        vertical-align: top;\n",
       "    }\n",
       "\n",
       "    .dataframe thead th {\n",
       "        text-align: right;\n",
       "    }\n",
       "</style>\n",
       "<table border=\"1\" class=\"dataframe\">\n",
       "  <thead>\n",
       "    <tr style=\"text-align: right;\">\n",
       "      <th></th>\n",
       "      <th>TMA_Acct</th>\n",
       "      <th>v0</th>\n",
       "      <th>v1</th>\n",
       "      <th>v2</th>\n",
       "      <th>v3</th>\n",
       "      <th>v4</th>\n",
       "      <th>v5</th>\n",
       "      <th>v6</th>\n",
       "      <th>v7</th>\n",
       "      <th>v8</th>\n",
       "      <th>...</th>\n",
       "      <th>t36</th>\n",
       "      <th>Sex</th>\n",
       "      <th>Race</th>\n",
       "      <th>hyper_date</th>\n",
       "      <th>diabe_date</th>\n",
       "      <th>Age_in_2010</th>\n",
       "      <th>sex_v</th>\n",
       "      <th>race_v</th>\n",
       "      <th>hyper_v</th>\n",
       "      <th>diabe_v</th>\n",
       "    </tr>\n",
       "  </thead>\n",
       "  <tbody>\n",
       "    <tr>\n",
       "      <th>0</th>\n",
       "      <td>97</td>\n",
       "      <td>54.680604</td>\n",
       "      <td>NaN</td>\n",
       "      <td>NaN</td>\n",
       "      <td>NaN</td>\n",
       "      <td>39.538942</td>\n",
       "      <td>33.257395</td>\n",
       "      <td>NaN</td>\n",
       "      <td>NaN</td>\n",
       "      <td>30.545747</td>\n",
       "      <td>...</td>\n",
       "      <td>36</td>\n",
       "      <td>Female</td>\n",
       "      <td>White</td>\n",
       "      <td>2006-03-15</td>\n",
       "      <td>2006-03-15</td>\n",
       "      <td>76</td>\n",
       "      <td>1</td>\n",
       "      <td>0</td>\n",
       "      <td>1</td>\n",
       "      <td>1</td>\n",
       "    </tr>\n",
       "    <tr>\n",
       "      <th>1</th>\n",
       "      <td>499</td>\n",
       "      <td>54.809306</td>\n",
       "      <td>NaN</td>\n",
       "      <td>NaN</td>\n",
       "      <td>NaN</td>\n",
       "      <td>NaN</td>\n",
       "      <td>40.110099</td>\n",
       "      <td>45.415715</td>\n",
       "      <td>40.735367</td>\n",
       "      <td>44.084108</td>\n",
       "      <td>...</td>\n",
       "      <td>36</td>\n",
       "      <td>Male</td>\n",
       "      <td>White</td>\n",
       "      <td>2012-09-11</td>\n",
       "      <td>n</td>\n",
       "      <td>82</td>\n",
       "      <td>0</td>\n",
       "      <td>0</td>\n",
       "      <td>1</td>\n",
       "      <td>0</td>\n",
       "    </tr>\n",
       "  </tbody>\n",
       "</table>\n",
       "<p>2 rows × 84 columns</p>\n",
       "</div>"
      ],
      "text/plain": [
       "   TMA_Acct         v0  v1  v2  v3         v4         v5         v6  \\\n",
       "0        97  54.680604 NaN NaN NaN  39.538942  33.257395        NaN   \n",
       "1       499  54.809306 NaN NaN NaN        NaN  40.110099  45.415715   \n",
       "\n",
       "          v7         v8  ...  t36     Sex   Race  hyper_date  diabe_date  \\\n",
       "0        NaN  30.545747  ...   36  Female  White  2006-03-15  2006-03-15   \n",
       "1  40.735367  44.084108  ...   36    Male  White  2012-09-11           n   \n",
       "\n",
       "   Age_in_2010  sex_v  race_v  hyper_v  diabe_v  \n",
       "0           76      1       0        1        1  \n",
       "1           82      0       0        1        0  \n",
       "\n",
       "[2 rows x 84 columns]"
      ]
     },
     "execution_count": 110,
     "metadata": {},
     "output_type": "execute_result"
    }
   ],
   "source": [
    "final_3a_base.head(2)"
   ]
  },
  {
   "cell_type": "code",
   "execution_count": 111,
   "metadata": {},
   "outputs": [
    {
     "data": {
      "text/plain": [
       "572"
      ]
     },
     "execution_count": 111,
     "metadata": {},
     "output_type": "execute_result"
    }
   ],
   "source": [
    "len(final_4_base)"
   ]
  },
  {
   "cell_type": "code",
   "execution_count": 112,
   "metadata": {},
   "outputs": [],
   "source": [
    "egfr_3a_pro = pd.read_csv(\"egfr_3a_pro.csv\")"
   ]
  },
  {
   "cell_type": "code",
   "execution_count": 113,
   "metadata": {},
   "outputs": [
    {
     "name": "stdout",
     "output_type": "stream",
     "text": [
      "['_traj_Group', '_traj_Group_T1', '_traj_Group_T2', '_traj_Group_T3', '_traj_Group_T4', '_traj_Group_T5', '_traj_Group_T6', '_traj_Group_T7', '_traj_Group_T8', '_traj_Group_T9', '_traj_Group_T10', '_traj_Group_T11', '_traj_Group_T12', '_traj_Group_T13', '_traj_Group_T14', '_traj_Group_T15', '_traj_Group_T16', '_traj_Group_T17', '_traj_Group_T18', '_traj_Group_T19', '_traj_Group_T20', '_traj_Group_T21', '_traj_Group_T22', '_traj_Group_T23', '_traj_Group_T24', '_traj_Group_T25', '_traj_Group_T26', '_traj_Group_T27', '_traj_Group_T28', '_traj_Group_T29', '_traj_Group_T30', '_traj_Group_T31', '_traj_Group_T32', '_traj_Group_T33', '_traj_Group_T34', '_traj_Group_T35', '_traj_Group_T36']\n"
     ]
    }
   ],
   "source": [
    "data = [\"_traj_Group\"]\n",
    "string = \"_traj_Group_T\"\n",
    "for i in range(1, 37):\n",
    "    data.append(string + str(i))\n",
    "print(data)\n",
    "group = egfr_3a_pro[data]"
   ]
  },
  {
   "cell_type": "code",
   "execution_count": 114,
   "metadata": {},
   "outputs": [
    {
     "name": "stdout",
     "output_type": "stream",
     "text": [
      "1    146\n",
      "2    323\n",
      "3    358\n",
      "4    103\n",
      "Name: _traj_Group, dtype: int64\n",
      "1     26\n",
      "2    363\n",
      "3    501\n",
      "4     40\n",
      "Name: _traj_Group_T1, dtype: int64\n",
      "1     74\n",
      "2    358\n",
      "3    447\n",
      "4     51\n",
      "Name: _traj_Group_T2, dtype: int64\n",
      "1    102\n",
      "2    336\n",
      "3    422\n",
      "4     70\n",
      "Name: _traj_Group_T3, dtype: int64\n",
      "1    117\n",
      "2    331\n",
      "3    400\n",
      "4     82\n",
      "Name: _traj_Group_T4, dtype: int64\n",
      "1    121\n",
      "2    328\n",
      "3    397\n",
      "4     84\n",
      "Name: _traj_Group_T5, dtype: int64\n",
      "1    126\n",
      "2    317\n",
      "3    402\n",
      "4     85\n",
      "Name: _traj_Group_T6, dtype: int64\n",
      "1    128\n",
      "2    319\n",
      "3    395\n",
      "4     88\n",
      "Name: _traj_Group_T7, dtype: int64\n",
      "1    130\n",
      "2    319\n",
      "3    393\n",
      "4     88\n",
      "Name: _traj_Group_T8, dtype: int64\n",
      "1    129\n",
      "2    321\n",
      "3    388\n",
      "4     92\n",
      "Name: _traj_Group_T9, dtype: int64\n",
      "1    121\n",
      "2    331\n",
      "3    384\n",
      "4     94\n",
      "Name: _traj_Group_T10, dtype: int64\n",
      "1    125\n",
      "2    336\n",
      "3    373\n",
      "4     96\n",
      "Name: _traj_Group_T11, dtype: int64\n",
      "1    126\n",
      "2    331\n",
      "3    379\n",
      "4     94\n",
      "Name: _traj_Group_T12, dtype: int64\n",
      "1    126\n",
      "2    335\n",
      "3    374\n",
      "4     95\n",
      "Name: _traj_Group_T13, dtype: int64\n",
      "1    128\n",
      "2    331\n",
      "3    375\n",
      "4     96\n",
      "Name: _traj_Group_T14, dtype: int64\n",
      "1    129\n",
      "2    332\n",
      "3    370\n",
      "4     99\n",
      "Name: _traj_Group_T15, dtype: int64\n",
      "1    131\n",
      "2    329\n",
      "3    372\n",
      "4     98\n",
      "Name: _traj_Group_T16, dtype: int64\n",
      "1    131\n",
      "2    327\n",
      "3    372\n",
      "4    100\n",
      "Name: _traj_Group_T17, dtype: int64\n",
      "1    133\n",
      "2    330\n",
      "3    369\n",
      "4     98\n",
      "Name: _traj_Group_T18, dtype: int64\n",
      "1    133\n",
      "2    327\n",
      "3    371\n",
      "4     99\n",
      "Name: _traj_Group_T19, dtype: int64\n",
      "1    137\n",
      "2    323\n",
      "3    370\n",
      "4    100\n",
      "Name: _traj_Group_T20, dtype: int64\n",
      "1    139\n",
      "2    325\n",
      "3    369\n",
      "4     97\n",
      "Name: _traj_Group_T21, dtype: int64\n",
      "1    140\n",
      "2    325\n",
      "3    366\n",
      "4     99\n",
      "Name: _traj_Group_T22, dtype: int64\n",
      "1    141\n",
      "2    329\n",
      "3    362\n",
      "4     98\n",
      "Name: _traj_Group_T23, dtype: int64\n",
      "1    142\n",
      "2    331\n",
      "3    359\n",
      "4     98\n",
      "Name: _traj_Group_T24, dtype: int64\n",
      "1    141\n",
      "2    331\n",
      "3    359\n",
      "4     99\n",
      "Name: _traj_Group_T25, dtype: int64\n",
      "1    143\n",
      "2    330\n",
      "3    357\n",
      "4    100\n",
      "Name: _traj_Group_T26, dtype: int64\n",
      "1    147\n",
      "2    328\n",
      "3    355\n",
      "4    100\n",
      "Name: _traj_Group_T27, dtype: int64\n",
      "1    147\n",
      "2    326\n",
      "3    358\n",
      "4     99\n",
      "Name: _traj_Group_T28, dtype: int64\n",
      "1    148\n",
      "2    325\n",
      "3    356\n",
      "4    101\n",
      "Name: _traj_Group_T29, dtype: int64\n",
      "1    148\n",
      "2    324\n",
      "3    357\n",
      "4    101\n",
      "Name: _traj_Group_T30, dtype: int64\n",
      "1    147\n",
      "2    324\n",
      "3    356\n",
      "4    103\n",
      "Name: _traj_Group_T31, dtype: int64\n",
      "1    146\n",
      "2    324\n",
      "3    356\n",
      "4    104\n",
      "Name: _traj_Group_T32, dtype: int64\n",
      "1    145\n",
      "2    326\n",
      "3    354\n",
      "4    105\n",
      "Name: _traj_Group_T33, dtype: int64\n",
      "1    145\n",
      "2    324\n",
      "3    358\n",
      "4    103\n",
      "Name: _traj_Group_T34, dtype: int64\n",
      "1    146\n",
      "2    323\n",
      "3    358\n",
      "4    103\n",
      "Name: _traj_Group_T35, dtype: int64\n",
      "1    146\n",
      "2    323\n",
      "3    358\n",
      "4    103\n",
      "Name: _traj_Group_T36, dtype: int64\n"
     ]
    }
   ],
   "source": [
    "\n",
    "for i in data:\n",
    "    print(group[i].value_counts().sort_index())"
   ]
  },
  {
   "cell_type": "code",
   "execution_count": 115,
   "metadata": {},
   "outputs": [
    {
     "name": "stdout",
     "output_type": "stream",
     "text": [
      "1    146\n",
      "2    323\n",
      "3    358\n",
      "4    103\n",
      "Name: _traj_Group, dtype: int64\n",
      "1     26\n",
      "2    363\n",
      "3    501\n",
      "4     40\n",
      "Name: _traj_Group_T1, dtype: int64\n",
      "1     74\n",
      "2    358\n",
      "3    447\n",
      "4     51\n",
      "Name: _traj_Group_T2, dtype: int64\n",
      "1    102\n",
      "2    336\n",
      "3    422\n",
      "4     70\n",
      "Name: _traj_Group_T3, dtype: int64\n",
      "1    117\n",
      "2    331\n",
      "3    400\n",
      "4     82\n",
      "Name: _traj_Group_T4, dtype: int64\n",
      "1    121\n",
      "2    328\n",
      "3    397\n",
      "4     84\n",
      "Name: _traj_Group_T5, dtype: int64\n",
      "1    126\n",
      "2    317\n",
      "3    402\n",
      "4     85\n",
      "Name: _traj_Group_T6, dtype: int64\n",
      "1    128\n",
      "2    319\n",
      "3    395\n",
      "4     88\n",
      "Name: _traj_Group_T7, dtype: int64\n",
      "1    130\n",
      "2    319\n",
      "3    393\n",
      "4     88\n",
      "Name: _traj_Group_T8, dtype: int64\n",
      "1    129\n",
      "2    321\n",
      "3    388\n",
      "4     92\n",
      "Name: _traj_Group_T9, dtype: int64\n",
      "1    121\n",
      "2    331\n",
      "3    384\n",
      "4     94\n",
      "Name: _traj_Group_T10, dtype: int64\n",
      "1    125\n",
      "2    336\n",
      "3    373\n",
      "4     96\n",
      "Name: _traj_Group_T11, dtype: int64\n",
      "1    126\n",
      "2    331\n",
      "3    379\n",
      "4     94\n",
      "Name: _traj_Group_T12, dtype: int64\n",
      "1    126\n",
      "2    335\n",
      "3    374\n",
      "4     95\n",
      "Name: _traj_Group_T13, dtype: int64\n",
      "1    128\n",
      "2    331\n",
      "3    375\n",
      "4     96\n",
      "Name: _traj_Group_T14, dtype: int64\n",
      "1    129\n",
      "2    332\n",
      "3    370\n",
      "4     99\n",
      "Name: _traj_Group_T15, dtype: int64\n",
      "1    131\n",
      "2    329\n",
      "3    372\n",
      "4     98\n",
      "Name: _traj_Group_T16, dtype: int64\n",
      "1    131\n",
      "2    327\n",
      "3    372\n",
      "4    100\n",
      "Name: _traj_Group_T17, dtype: int64\n",
      "1    133\n",
      "2    330\n",
      "3    369\n",
      "4     98\n",
      "Name: _traj_Group_T18, dtype: int64\n",
      "1    133\n",
      "2    327\n",
      "3    371\n",
      "4     99\n",
      "Name: _traj_Group_T19, dtype: int64\n",
      "1    137\n",
      "2    323\n",
      "3    370\n",
      "4    100\n",
      "Name: _traj_Group_T20, dtype: int64\n",
      "1    139\n",
      "2    325\n",
      "3    369\n",
      "4     97\n",
      "Name: _traj_Group_T21, dtype: int64\n",
      "1    140\n",
      "2    325\n",
      "3    366\n",
      "4     99\n",
      "Name: _traj_Group_T22, dtype: int64\n",
      "1    141\n",
      "2    329\n",
      "3    362\n",
      "4     98\n",
      "Name: _traj_Group_T23, dtype: int64\n",
      "1    142\n",
      "2    331\n",
      "3    359\n",
      "4     98\n",
      "Name: _traj_Group_T24, dtype: int64\n",
      "1    141\n",
      "2    331\n",
      "3    359\n",
      "4     99\n",
      "Name: _traj_Group_T25, dtype: int64\n",
      "1    143\n",
      "2    330\n",
      "3    357\n",
      "4    100\n",
      "Name: _traj_Group_T26, dtype: int64\n",
      "1    147\n",
      "2    328\n",
      "3    355\n",
      "4    100\n",
      "Name: _traj_Group_T27, dtype: int64\n",
      "1    147\n",
      "2    326\n",
      "3    358\n",
      "4     99\n",
      "Name: _traj_Group_T28, dtype: int64\n",
      "1    148\n",
      "2    325\n",
      "3    356\n",
      "4    101\n",
      "Name: _traj_Group_T29, dtype: int64\n",
      "1    148\n",
      "2    324\n",
      "3    357\n",
      "4    101\n",
      "Name: _traj_Group_T30, dtype: int64\n",
      "1    147\n",
      "2    324\n",
      "3    356\n",
      "4    103\n",
      "Name: _traj_Group_T31, dtype: int64\n",
      "1    146\n",
      "2    324\n",
      "3    356\n",
      "4    104\n",
      "Name: _traj_Group_T32, dtype: int64\n",
      "1    145\n",
      "2    326\n",
      "3    354\n",
      "4    105\n",
      "Name: _traj_Group_T33, dtype: int64\n",
      "1    145\n",
      "2    324\n",
      "3    358\n",
      "4    103\n",
      "Name: _traj_Group_T34, dtype: int64\n",
      "1    146\n",
      "2    323\n",
      "3    358\n",
      "4    103\n",
      "Name: _traj_Group_T35, dtype: int64\n",
      "1    146\n",
      "2    323\n",
      "3    358\n",
      "4    103\n",
      "Name: _traj_Group_T36, dtype: int64\n"
     ]
    }
   ],
   "source": [
    "clean_data = {}\n",
    "for i in data:\n",
    "    num = group[i].value_counts().sort_index()\n",
    "    clean_data[i] = num.values\n",
    "    print(group[i].value_counts().sort_index())"
   ]
  },
  {
   "cell_type": "code",
   "execution_count": 116,
   "metadata": {},
   "outputs": [
    {
     "data": {
      "text/plain": [
       "{'_traj_Group': array([146, 323, 358, 103], dtype=int64),\n",
       " '_traj_Group_T1': array([ 26, 363, 501,  40], dtype=int64),\n",
       " '_traj_Group_T2': array([ 74, 358, 447,  51], dtype=int64),\n",
       " '_traj_Group_T3': array([102, 336, 422,  70], dtype=int64),\n",
       " '_traj_Group_T4': array([117, 331, 400,  82], dtype=int64),\n",
       " '_traj_Group_T5': array([121, 328, 397,  84], dtype=int64),\n",
       " '_traj_Group_T6': array([126, 317, 402,  85], dtype=int64),\n",
       " '_traj_Group_T7': array([128, 319, 395,  88], dtype=int64),\n",
       " '_traj_Group_T8': array([130, 319, 393,  88], dtype=int64),\n",
       " '_traj_Group_T9': array([129, 321, 388,  92], dtype=int64),\n",
       " '_traj_Group_T10': array([121, 331, 384,  94], dtype=int64),\n",
       " '_traj_Group_T11': array([125, 336, 373,  96], dtype=int64),\n",
       " '_traj_Group_T12': array([126, 331, 379,  94], dtype=int64),\n",
       " '_traj_Group_T13': array([126, 335, 374,  95], dtype=int64),\n",
       " '_traj_Group_T14': array([128, 331, 375,  96], dtype=int64),\n",
       " '_traj_Group_T15': array([129, 332, 370,  99], dtype=int64),\n",
       " '_traj_Group_T16': array([131, 329, 372,  98], dtype=int64),\n",
       " '_traj_Group_T17': array([131, 327, 372, 100], dtype=int64),\n",
       " '_traj_Group_T18': array([133, 330, 369,  98], dtype=int64),\n",
       " '_traj_Group_T19': array([133, 327, 371,  99], dtype=int64),\n",
       " '_traj_Group_T20': array([137, 323, 370, 100], dtype=int64),\n",
       " '_traj_Group_T21': array([139, 325, 369,  97], dtype=int64),\n",
       " '_traj_Group_T22': array([140, 325, 366,  99], dtype=int64),\n",
       " '_traj_Group_T23': array([141, 329, 362,  98], dtype=int64),\n",
       " '_traj_Group_T24': array([142, 331, 359,  98], dtype=int64),\n",
       " '_traj_Group_T25': array([141, 331, 359,  99], dtype=int64),\n",
       " '_traj_Group_T26': array([143, 330, 357, 100], dtype=int64),\n",
       " '_traj_Group_T27': array([147, 328, 355, 100], dtype=int64),\n",
       " '_traj_Group_T28': array([147, 326, 358,  99], dtype=int64),\n",
       " '_traj_Group_T29': array([148, 325, 356, 101], dtype=int64),\n",
       " '_traj_Group_T30': array([148, 324, 357, 101], dtype=int64),\n",
       " '_traj_Group_T31': array([147, 324, 356, 103], dtype=int64),\n",
       " '_traj_Group_T32': array([146, 324, 356, 104], dtype=int64),\n",
       " '_traj_Group_T33': array([145, 326, 354, 105], dtype=int64),\n",
       " '_traj_Group_T34': array([145, 324, 358, 103], dtype=int64),\n",
       " '_traj_Group_T35': array([146, 323, 358, 103], dtype=int64),\n",
       " '_traj_Group_T36': array([146, 323, 358, 103], dtype=int64)}"
      ]
     },
     "execution_count": 116,
     "metadata": {},
     "output_type": "execute_result"
    }
   ],
   "source": [
    "clean_data"
   ]
  },
  {
   "cell_type": "code",
   "execution_count": 117,
   "metadata": {},
   "outputs": [],
   "source": [
    "egfr_3a_num = pd.DataFrame(clean_data)"
   ]
  },
  {
   "cell_type": "code",
   "execution_count": 118,
   "metadata": {},
   "outputs": [],
   "source": [
    "import matplotlib.pyplot as plt"
   ]
  },
  {
   "cell_type": "code",
   "execution_count": 25,
   "metadata": {},
   "outputs": [
    {
     "data": {
      "text/html": [
       "<div>\n",
       "<style scoped>\n",
       "    .dataframe tbody tr th:only-of-type {\n",
       "        vertical-align: middle;\n",
       "    }\n",
       "\n",
       "    .dataframe tbody tr th {\n",
       "        vertical-align: top;\n",
       "    }\n",
       "\n",
       "    .dataframe thead th {\n",
       "        text-align: right;\n",
       "    }\n",
       "</style>\n",
       "<table border=\"1\" class=\"dataframe\">\n",
       "  <thead>\n",
       "    <tr style=\"text-align: right;\">\n",
       "      <th></th>\n",
       "      <th>_traj_Group</th>\n",
       "      <th>_traj_Group_T1</th>\n",
       "      <th>_traj_Group_T2</th>\n",
       "      <th>_traj_Group_T3</th>\n",
       "      <th>_traj_Group_T4</th>\n",
       "      <th>_traj_Group_T5</th>\n",
       "      <th>_traj_Group_T6</th>\n",
       "      <th>_traj_Group_T7</th>\n",
       "      <th>_traj_Group_T8</th>\n",
       "      <th>_traj_Group_T9</th>\n",
       "      <th>...</th>\n",
       "      <th>_traj_Group_T27</th>\n",
       "      <th>_traj_Group_T28</th>\n",
       "      <th>_traj_Group_T29</th>\n",
       "      <th>_traj_Group_T30</th>\n",
       "      <th>_traj_Group_T31</th>\n",
       "      <th>_traj_Group_T32</th>\n",
       "      <th>_traj_Group_T33</th>\n",
       "      <th>_traj_Group_T34</th>\n",
       "      <th>_traj_Group_T35</th>\n",
       "      <th>_traj_Group_T36</th>\n",
       "    </tr>\n",
       "  </thead>\n",
       "  <tbody>\n",
       "    <tr>\n",
       "      <th>0</th>\n",
       "      <td>146</td>\n",
       "      <td>26</td>\n",
       "      <td>74</td>\n",
       "      <td>102</td>\n",
       "      <td>117</td>\n",
       "      <td>121</td>\n",
       "      <td>126</td>\n",
       "      <td>128</td>\n",
       "      <td>130</td>\n",
       "      <td>129</td>\n",
       "      <td>...</td>\n",
       "      <td>147</td>\n",
       "      <td>147</td>\n",
       "      <td>148</td>\n",
       "      <td>148</td>\n",
       "      <td>147</td>\n",
       "      <td>146</td>\n",
       "      <td>145</td>\n",
       "      <td>145</td>\n",
       "      <td>146</td>\n",
       "      <td>146</td>\n",
       "    </tr>\n",
       "    <tr>\n",
       "      <th>1</th>\n",
       "      <td>323</td>\n",
       "      <td>363</td>\n",
       "      <td>358</td>\n",
       "      <td>336</td>\n",
       "      <td>331</td>\n",
       "      <td>328</td>\n",
       "      <td>317</td>\n",
       "      <td>319</td>\n",
       "      <td>319</td>\n",
       "      <td>321</td>\n",
       "      <td>...</td>\n",
       "      <td>328</td>\n",
       "      <td>326</td>\n",
       "      <td>325</td>\n",
       "      <td>324</td>\n",
       "      <td>324</td>\n",
       "      <td>324</td>\n",
       "      <td>326</td>\n",
       "      <td>324</td>\n",
       "      <td>323</td>\n",
       "      <td>323</td>\n",
       "    </tr>\n",
       "    <tr>\n",
       "      <th>2</th>\n",
       "      <td>358</td>\n",
       "      <td>501</td>\n",
       "      <td>447</td>\n",
       "      <td>422</td>\n",
       "      <td>400</td>\n",
       "      <td>397</td>\n",
       "      <td>402</td>\n",
       "      <td>395</td>\n",
       "      <td>393</td>\n",
       "      <td>388</td>\n",
       "      <td>...</td>\n",
       "      <td>355</td>\n",
       "      <td>358</td>\n",
       "      <td>356</td>\n",
       "      <td>357</td>\n",
       "      <td>356</td>\n",
       "      <td>356</td>\n",
       "      <td>354</td>\n",
       "      <td>358</td>\n",
       "      <td>358</td>\n",
       "      <td>358</td>\n",
       "    </tr>\n",
       "    <tr>\n",
       "      <th>3</th>\n",
       "      <td>103</td>\n",
       "      <td>40</td>\n",
       "      <td>51</td>\n",
       "      <td>70</td>\n",
       "      <td>82</td>\n",
       "      <td>84</td>\n",
       "      <td>85</td>\n",
       "      <td>88</td>\n",
       "      <td>88</td>\n",
       "      <td>92</td>\n",
       "      <td>...</td>\n",
       "      <td>100</td>\n",
       "      <td>99</td>\n",
       "      <td>101</td>\n",
       "      <td>101</td>\n",
       "      <td>103</td>\n",
       "      <td>104</td>\n",
       "      <td>105</td>\n",
       "      <td>103</td>\n",
       "      <td>103</td>\n",
       "      <td>103</td>\n",
       "    </tr>\n",
       "  </tbody>\n",
       "</table>\n",
       "<p>4 rows × 37 columns</p>\n",
       "</div>"
      ],
      "text/plain": [
       "   _traj_Group  _traj_Group_T1  _traj_Group_T2  _traj_Group_T3  \\\n",
       "0          146              26              74             102   \n",
       "1          323             363             358             336   \n",
       "2          358             501             447             422   \n",
       "3          103              40              51              70   \n",
       "\n",
       "   _traj_Group_T4  _traj_Group_T5  _traj_Group_T6  _traj_Group_T7  \\\n",
       "0             117             121             126             128   \n",
       "1             331             328             317             319   \n",
       "2             400             397             402             395   \n",
       "3              82              84              85              88   \n",
       "\n",
       "   _traj_Group_T8  _traj_Group_T9  ...  _traj_Group_T27  _traj_Group_T28  \\\n",
       "0             130             129  ...              147              147   \n",
       "1             319             321  ...              328              326   \n",
       "2             393             388  ...              355              358   \n",
       "3              88              92  ...              100               99   \n",
       "\n",
       "   _traj_Group_T29  _traj_Group_T30  _traj_Group_T31  _traj_Group_T32  \\\n",
       "0              148              148              147              146   \n",
       "1              325              324              324              324   \n",
       "2              356              357              356              356   \n",
       "3              101              101              103              104   \n",
       "\n",
       "   _traj_Group_T33  _traj_Group_T34  _traj_Group_T35  _traj_Group_T36  \n",
       "0              145              145              146              146  \n",
       "1              326              324              323              323  \n",
       "2              354              358              358              358  \n",
       "3              105              103              103              103  \n",
       "\n",
       "[4 rows x 37 columns]"
      ]
     },
     "execution_count": 25,
     "metadata": {},
     "output_type": "execute_result"
    }
   ],
   "source": [
    "egfr_3a_num"
   ]
  },
  {
   "cell_type": "code",
   "execution_count": 63,
   "metadata": {},
   "outputs": [],
   "source": [
    "final_3a_base2 = pd.read_csv('final_3a_base_2.csv')"
   ]
  },
  {
   "cell_type": "code",
   "execution_count": 64,
   "metadata": {},
   "outputs": [],
   "source": [
    "final_3a_base = pd.read_csv('final_3a_base.csv')"
   ]
  },
  {
   "cell_type": "code",
   "execution_count": 66,
   "metadata": {},
   "outputs": [
    {
     "data": {
      "text/plain": [
       "[1935,\n",
       " 2955,\n",
       " 3274,\n",
       " 3524,\n",
       " 4898,\n",
       " 5413,\n",
       " 7530,\n",
       " 7935,\n",
       " 8752,\n",
       " 9408,\n",
       " 11386,\n",
       " 12534,\n",
       " 13148,\n",
       " 18646,\n",
       " 18900,\n",
       " 19345,\n",
       " 19362,\n",
       " 20818,\n",
       " 20880,\n",
       " 27153,\n",
       " 27460,\n",
       " 27467,\n",
       " 30380,\n",
       " 30654,\n",
       " 32996,\n",
       " 33048,\n",
       " 33283,\n",
       " 34226,\n",
       " 34347]"
      ]
     },
     "execution_count": 66,
     "metadata": {},
     "output_type": "execute_result"
    }
   ],
   "source": [
    "[i for i in list(final_3a_base['TMA_Acct']) if i not in list(final_3a_base2['TMA_Acct'])]"
   ]
  },
  {
   "cell_type": "code",
   "execution_count": 67,
   "metadata": {},
   "outputs": [
    {
     "data": {
      "text/html": [
       "<div>\n",
       "<style scoped>\n",
       "    .dataframe tbody tr th:only-of-type {\n",
       "        vertical-align: middle;\n",
       "    }\n",
       "\n",
       "    .dataframe tbody tr th {\n",
       "        vertical-align: top;\n",
       "    }\n",
       "\n",
       "    .dataframe thead th {\n",
       "        text-align: right;\n",
       "    }\n",
       "</style>\n",
       "<table border=\"1\" class=\"dataframe\">\n",
       "  <thead>\n",
       "    <tr style=\"text-align: right;\">\n",
       "      <th></th>\n",
       "      <th>Unnamed: 0</th>\n",
       "      <th>TMA_Acct</th>\n",
       "      <th>v0</th>\n",
       "      <th>v1</th>\n",
       "      <th>v2</th>\n",
       "      <th>v3</th>\n",
       "      <th>v4</th>\n",
       "      <th>v5</th>\n",
       "      <th>v6</th>\n",
       "      <th>v7</th>\n",
       "      <th>...</th>\n",
       "      <th>t36</th>\n",
       "      <th>Sex</th>\n",
       "      <th>Race</th>\n",
       "      <th>hyper_date</th>\n",
       "      <th>diabe_date</th>\n",
       "      <th>Age_in_2010</th>\n",
       "      <th>sex_v</th>\n",
       "      <th>race_v</th>\n",
       "      <th>hyper_v</th>\n",
       "      <th>diabe_v</th>\n",
       "    </tr>\n",
       "  </thead>\n",
       "  <tbody>\n",
       "    <tr>\n",
       "      <th>15</th>\n",
       "      <td>15</td>\n",
       "      <td>1935</td>\n",
       "      <td>50.471162</td>\n",
       "      <td>NaN</td>\n",
       "      <td>61.0</td>\n",
       "      <td>NaN</td>\n",
       "      <td>50.837145</td>\n",
       "      <td>NaN</td>\n",
       "      <td>NaN</td>\n",
       "      <td>55.845163</td>\n",
       "      <td>...</td>\n",
       "      <td>36</td>\n",
       "      <td>Female</td>\n",
       "      <td>White</td>\n",
       "      <td>2009-09-04</td>\n",
       "      <td>2007-05-12</td>\n",
       "      <td>71</td>\n",
       "      <td>1</td>\n",
       "      <td>0</td>\n",
       "      <td>1</td>\n",
       "      <td>1</td>\n",
       "    </tr>\n",
       "  </tbody>\n",
       "</table>\n",
       "<p>1 rows × 85 columns</p>\n",
       "</div>"
      ],
      "text/plain": [
       "    Unnamed: 0  TMA_Acct         v0  v1    v2  v3         v4  v5  v6  \\\n",
       "15          15      1935  50.471162 NaN  61.0 NaN  50.837145 NaN NaN   \n",
       "\n",
       "           v7  ...  t36     Sex   Race  hyper_date  diabe_date  Age_in_2010  \\\n",
       "15  55.845163  ...   36  Female  White  2009-09-04  2007-05-12           71   \n",
       "\n",
       "    sex_v  race_v  hyper_v  diabe_v  \n",
       "15      1       0        1        1  \n",
       "\n",
       "[1 rows x 85 columns]"
      ]
     },
     "execution_count": 67,
     "metadata": {},
     "output_type": "execute_result"
    }
   ],
   "source": [
    "final_3a_base[final_3a_base['TMA_Acct'] == 1935]"
   ]
  },
  {
   "cell_type": "code",
   "execution_count": 56,
   "metadata": {},
   "outputs": [],
   "source": [
    "data = pd.read_csv('egfr_earliest.csv')"
   ]
  },
  {
   "cell_type": "code",
   "execution_count": 58,
   "metadata": {},
   "outputs": [
    {
     "data": {
      "text/html": [
       "<div>\n",
       "<style scoped>\n",
       "    .dataframe tbody tr th:only-of-type {\n",
       "        vertical-align: middle;\n",
       "    }\n",
       "\n",
       "    .dataframe tbody tr th {\n",
       "        vertical-align: top;\n",
       "    }\n",
       "\n",
       "    .dataframe thead th {\n",
       "        text-align: right;\n",
       "    }\n",
       "</style>\n",
       "<table border=\"1\" class=\"dataframe\">\n",
       "  <thead>\n",
       "    <tr style=\"text-align: right;\">\n",
       "      <th></th>\n",
       "      <th>Unnamed: 0</th>\n",
       "      <th>TMA_Acct</th>\n",
       "      <th>egfr</th>\n",
       "      <th>stage</th>\n",
       "      <th>date</th>\n",
       "      <th>min</th>\n",
       "    </tr>\n",
       "  </thead>\n",
       "  <tbody>\n",
       "    <tr>\n",
       "      <th>0</th>\n",
       "      <td>0</td>\n",
       "      <td>64</td>\n",
       "      <td>10.000000</td>\n",
       "      <td>5</td>\n",
       "      <td>2018-05-15 00:00:00</td>\n",
       "      <td>NaN</td>\n",
       "    </tr>\n",
       "    <tr>\n",
       "      <th>1</th>\n",
       "      <td>1</td>\n",
       "      <td>86</td>\n",
       "      <td>20.121101</td>\n",
       "      <td>4</td>\n",
       "      <td>2010-10-09</td>\n",
       "      <td>NaN</td>\n",
       "    </tr>\n",
       "  </tbody>\n",
       "</table>\n",
       "</div>"
      ],
      "text/plain": [
       "   Unnamed: 0  TMA_Acct       egfr stage                 date  min\n",
       "0           0        64  10.000000     5  2018-05-15 00:00:00  NaN\n",
       "1           1        86  20.121101     4           2010-10-09  NaN"
      ]
     },
     "execution_count": 58,
     "metadata": {},
     "output_type": "execute_result"
    }
   ],
   "source": [
    "data.head(2)"
   ]
  },
  {
   "cell_type": "code",
   "execution_count": 59,
   "metadata": {},
   "outputs": [],
   "source": [
    "data1 = data[['TMA_Acct', 'egfr', 'stage', 'date']]\n",
    "data2 = data[['TMA_Acct', 'egfr', 'stage', 'min']]"
   ]
  },
  {
   "cell_type": "code",
   "execution_count": 60,
   "metadata": {},
   "outputs": [
    {
     "name": "stderr",
     "output_type": "stream",
     "text": [
      "C:\\Users\\DELL\\AppData\\Roaming\\Python\\Python37\\site-packages\\pandas\\core\\frame.py:4133: SettingWithCopyWarning: \n",
      "A value is trying to be set on a copy of a slice from a DataFrame\n",
      "\n",
      "See the caveats in the documentation: https://pandas.pydata.org/pandas-docs/stable/user_guide/indexing.html#returning-a-view-versus-a-copy\n",
      "  errors=errors,\n"
     ]
    }
   ],
   "source": [
    "data1.rename(columns={\"date\": \"min\"}, inplace = 'True')"
   ]
  },
  {
   "cell_type": "code",
   "execution_count": 62,
   "metadata": {},
   "outputs": [],
   "source": [
    "data = pd.concat([data1, data2], axis = 0)"
   ]
  },
  {
   "cell_type": "code",
   "execution_count": 63,
   "metadata": {},
   "outputs": [],
   "source": [
    "data.to_csv('egfr_eariest.csv')"
   ]
  },
  {
   "cell_type": "code",
   "execution_count": null,
   "metadata": {},
   "outputs": [],
   "source": []
  }
 ],
 "metadata": {
  "kernelspec": {
   "display_name": "Python 3",
   "language": "python",
   "name": "python3"
  },
  "language_info": {
   "codemirror_mode": {
    "name": "ipython",
    "version": 3
   },
   "file_extension": ".py",
   "mimetype": "text/x-python",
   "name": "python",
   "nbconvert_exporter": "python",
   "pygments_lexer": "ipython3",
   "version": "3.7.6"
  }
 },
 "nbformat": 4,
 "nbformat_minor": 4
}
